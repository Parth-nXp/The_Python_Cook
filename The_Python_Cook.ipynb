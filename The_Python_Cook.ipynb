{
 "cells": [
  {
   "cell_type": "markdown",
   "id": "bde4108a",
   "metadata": {},
   "source": [
    "# The Python Cook: Cooking Up Code Like Walter White\n",
    "\n",
    "## Author: Parth"
   ]
  },
  {
   "cell_type": "markdown",
   "id": "11a423c3",
   "metadata": {},
   "source": [
    "## 1. Introduction to Python\n",
    "Python is a high-level, interpreted programming language that is widely used in various domains such as web development, scientific computing, data analysis, artificial intelligence, and more. It was created by Guido van Rossum in the late 1980s and named after the British comedy group Monty Python. Python's design philosophy emphasizes code readability and simplicity, making it a great language for beginners to learn."
   ]
  },
  {
   "cell_type": "markdown",
   "id": "e087623e",
   "metadata": {},
   "source": [
    "## 2. Getting Started with Python\n",
    "Python is an easy-to-learn programming language, and getting started with it is relatively simple. To begin, you'll need to:\n",
    "\n",
    "1. Install Python on your machine.\n",
    "2. Choose an Integrated Development Environment (IDE) to write and run your code.\n",
    "3. Familiarize yourself with Python's syntax and basic programming concepts.\n",
    "\n",
    "### 2.1 Installing Python\n",
    "The first step in getting started with Python is to install it on your machine. Python is available for all major operating systems, including Windows, macOS, and Linux. You can download the latest version of Python from the official website, python.org.\n",
    "\n",
    "### 2.2 Choosing an IDE\n",
    "Once you have installed Python, you'll need to choose an IDE to write and run your Python code. Some popular options include PyCharm, Visual Studio Code, and Jupyter Notebook. Each IDE has its own strengths and weaknesses, so choose the one that best fits your needs and preferences.\n",
    "\n",
    "### 2.3 Python Syntax and Basic Programming Concepts\n",
    "After installing Python and an IDE, you can start learning Python's syntax and basic programming concepts. This includes topics such as variables, data types, control flow statements, functions, and more. "
   ]
  },
  {
   "cell_type": "markdown",
   "id": "72f8f4a6",
   "metadata": {},
   "source": [
    "## 3. Print Command\n",
    "The `print()` command is one of the most commonly used commands in Python. It allows you to display text on the screen. Here's an example of how to use the `print()` command to display the text \"Hello, world!\" on the screen:"
   ]
  },
  {
   "cell_type": "code",
   "execution_count": 1,
   "id": "a1590803",
   "metadata": {},
   "outputs": [
    {
     "name": "stdout",
     "output_type": "stream",
     "text": [
      "Hello, world!\n"
     ]
    }
   ],
   "source": [
    "print(\"Hello, world!\")"
   ]
  },
  {
   "cell_type": "markdown",
   "id": "22e70fae",
   "metadata": {},
   "source": [
    "## 4. Comments and Escape Sequences\n",
    "### 4.1 Comments\n",
    "Comments are used to add explanatory text to your code. In Python, there are two types of comments: single-line comments and multi-line comments.\n",
    "#### 4.1.1 Single-line Comments\n",
    "A single-line comment is a comment that spans only one line. In Python, you can create a single-line comment by using the `#` symbol. Any text that follows this symbol on the same line is ignored by the Python interpreter.\n",
    "\n",
    "Here's an example of a single-line comment:"
   ]
  },
  {
   "cell_type": "code",
   "execution_count": 2,
   "id": "c2005252",
   "metadata": {},
   "outputs": [],
   "source": [
    "# This is a single-line comment"
   ]
  },
  {
   "cell_type": "markdown",
   "id": "f3904255",
   "metadata": {},
   "source": [
    "#### 4.1.2 Multi-line Comments\n",
    "A multi-line comment is a comment that spans multiple lines. In Python, you can create a multi-line comment by using triple quotes (`\"\"\"`) or (`'''`) at the beginning and end of the comment.\n",
    "\n",
    "Here's an example of a multi-line comment:"
   ]
  },
  {
   "cell_type": "code",
   "execution_count": 3,
   "id": "f02e513a",
   "metadata": {},
   "outputs": [
    {
     "data": {
      "text/plain": [
       "'\\nThis is a multi-line comment\\nThis is the second line\\nThis is the third line\\n'"
      ]
     },
     "execution_count": 3,
     "metadata": {},
     "output_type": "execute_result"
    }
   ],
   "source": [
    "\"\"\"\n",
    "This is a multi-line comment\n",
    "This is the second line\n",
    "This is the third line\n",
    "\"\"\""
   ]
  },
  {
   "cell_type": "code",
   "execution_count": 4,
   "id": "b9bec9aa",
   "metadata": {},
   "outputs": [
    {
     "name": "stdout",
     "output_type": "stream",
     "text": [
      "Hello, World!\n"
     ]
    },
    {
     "data": {
      "text/plain": [
       "'\\nMulti-line comment\\nThis is a multiline\\ncomment in Python\\n'"
      ]
     },
     "execution_count": 4,
     "metadata": {},
     "output_type": "execute_result"
    }
   ],
   "source": [
    "# Single-line comment\n",
    "print(\"Hello, World!\")  # Print a string to the console\n",
    "\n",
    "\"\"\"\n",
    "Multi-line comment\n",
    "This is a multiline\n",
    "comment in Python\n",
    "\"\"\""
   ]
  },
  {
   "cell_type": "raw",
   "id": "bc33f17e",
   "metadata": {},
   "source": [
    "In the code above, we have created a single-line comment to explain what the print() function does. We have also used a multi-line comment to explain what the subsequent code does."
   ]
  },
  {
   "cell_type": "markdown",
   "id": "d7848bc3",
   "metadata": {},
   "source": [
    "### 4.2 Escape Sequences\n",
    "An escape sequence is a sequence of characters that represents a special character. In Python, escape sequences are used to represent characters that are not normally allowed in a string, such as a newline or a tab character.\n",
    "\n",
    "Common Escape Sequences\n",
    "\n",
    "Here are some common escape sequences that you can use in Python:\n",
    "- `\\n` - newline\n",
    "- `\\t` - tab\n",
    "- `\\\\` - backslash\n",
    "- `\\\"` - double quote\n",
    "- `\\'` - single quote\n",
    "\n",
    "#### 4.2.1 Raw Strings\n",
    "In Python, you can also create a raw string by prefixing the string with the letter `r`. A raw string is a string that is not processed for escape sequences.\n",
    "\n",
    "Here's an example of a raw string:"
   ]
  },
  {
   "cell_type": "code",
   "execution_count": 5,
   "id": "cc52f312",
   "metadata": {},
   "outputs": [
    {
     "name": "stdout",
     "output_type": "stream",
     "text": [
      "This is a raw string\\n\n"
     ]
    }
   ],
   "source": [
    "print(r\"This is a raw string\\n\")"
   ]
  },
  {
   "cell_type": "code",
   "execution_count": 6,
   "id": "b18acbec",
   "metadata": {},
   "outputs": [
    {
     "name": "stdout",
     "output_type": "stream",
     "text": [
      "This is a tab character: \t\t\n",
      "This is a backslash: \\\n",
      "This is a double quote: \"\"\n",
      "This is a single quote: '\n",
      "This is a newline character: \n",
      "\n",
      "This is a raw string\\n\n"
     ]
    }
   ],
   "source": [
    "'''\n",
    "Escape sequence characters\n",
    "'''\n",
    "print(\"This is a tab character: \\t\\t\")  # Print a string with tab characters\n",
    "print(\"This is a backslash: \\\\\")  # Print a string with a backslash character\n",
    "print(\"This is a double quote: \\\"\\\"\")  # Print a string with double quotes\n",
    "print(\"This is a single quote: \\'\")  # Print a string with single quotes\n",
    "print(\"This is a newline character: \\n\")  # Print a string with a newline character\n",
    "\n",
    "print(r\"This is a raw string\\n\")  # Print a raw string (without interpreting escape sequences)\n"
   ]
  },
  {
   "cell_type": "raw",
   "id": "ef8c45a4",
   "metadata": {},
   "source": [
    "In the code above, we have used several escape sequences to print strings with special characters. We have also used a raw string to print a string without interpreting escape sequences."
   ]
  },
  {
   "cell_type": "markdown",
   "id": "95bb071e",
   "metadata": {},
   "source": [
    "## 5. Data Types and Typecasting in Python\n",
    "### 5.1 Definition of Data Types\n",
    "In Python, data types define the type of value a variable can take. There are several built-in data types in Python such as integer, float, string, boolean, and more."
   ]
  },
  {
   "cell_type": "code",
   "execution_count": 7,
   "id": "a54c4eda",
   "metadata": {},
   "outputs": [
    {
     "name": "stdout",
     "output_type": "stream",
     "text": [
      "<class 'float'>\n"
     ]
    }
   ],
   "source": [
    "var1 = \"Hello World\"  # string\n",
    "var2 = 20  # int\n",
    "var3 = 20.5  # float\n",
    "print(type(var3))"
   ]
  },
  {
   "cell_type": "raw",
   "id": "3581c0d7",
   "metadata": {},
   "source": [
    "In this example, we have defined three variables of different data types and printed the type of var3 using the type() function."
   ]
  },
  {
   "cell_type": "markdown",
   "id": "8972d77d",
   "metadata": {},
   "source": [
    "### 5.2 Typecasting\n",
    "Typecasting is the process of converting one data type into another data type. Python provides several built-in functions for typecasting."
   ]
  },
  {
   "cell_type": "code",
   "execution_count": 8,
   "id": "10334293",
   "metadata": {},
   "outputs": [
    {
     "name": "stdout",
     "output_type": "stream",
     "text": [
      "20.0\n",
      "20\n",
      "20\n"
     ]
    }
   ],
   "source": [
    "# int to float\n",
    "print(float(var2))\n",
    "# float to int\n",
    "print(int(var3))\n",
    "# int to string\n",
    "print(str(var2))"
   ]
  },
  {
   "cell_type": "raw",
   "id": "33385371",
   "metadata": {},
   "source": [
    "In this example, we have demonstrated how to convert data types using the built-in functions float(), int(), and str()."
   ]
  },
  {
   "cell_type": "markdown",
   "id": "36011313",
   "metadata": {},
   "source": [
    "### 5.3 String Multiplication\n",
    "Python allows us to multiply a string by an integer to repeat it multiple times."
   ]
  },
  {
   "cell_type": "code",
   "execution_count": 9,
   "id": "3263b8f6",
   "metadata": {},
   "outputs": [
    {
     "name": "stdout",
     "output_type": "stream",
     "text": [
      "Hello World\n",
      "Hello World\n",
      "Hello World\n",
      "Hello World\n",
      "Hello World\n",
      "\n"
     ]
    }
   ],
   "source": [
    "print((var1 + '\\n') * 5)\n"
   ]
  },
  {
   "cell_type": "raw",
   "id": "3d2ab148",
   "metadata": {},
   "source": [
    "In this example, we have used the * operator to multiply the string var1 with '\\n' to create a newline character and printed it five times."
   ]
  },
  {
   "cell_type": "markdown",
   "id": "071347b9",
   "metadata": {},
   "source": [
    "### 5.4 User Input\n",
    "Python provides a built-in function called `input()` which allows users to enter values at runtime."
   ]
  },
  {
   "cell_type": "code",
   "execution_count": 10,
   "id": "c8ba263c",
   "metadata": {},
   "outputs": [
    {
     "name": "stdout",
     "output_type": "stream",
     "text": [
      "Enter your number: \n",
      "10\n",
      "Your number is:  20\n"
     ]
    }
   ],
   "source": [
    "print(\"Enter your number: \")\n",
    "inpnum = input()\n",
    "print(\"Your number is: \", int(inpnum)+10)"
   ]
  },
  {
   "cell_type": "raw",
   "id": "71cfdd69",
   "metadata": {},
   "source": [
    "In this example, we have used the input() function to take user input and added 10 to the input value using the int() function."
   ]
  },
  {
   "cell_type": "markdown",
   "id": "d41b5e67",
   "metadata": {},
   "source": [
    "## 6. Strings\n",
    "In Python, a string is a sequence of characters enclosed within single or double quotes. Strings are immutable, which means their value cannot be changed once they are created. In this section, we'll explore various operations that can be performed on strings in Python.\n",
    "\n",
    "### 6.1 Creating a String\n",
    "To create a string in Python, simply enclose a sequence of characters in quotes:"
   ]
  },
  {
   "cell_type": "code",
   "execution_count": 11,
   "id": "b398d293",
   "metadata": {},
   "outputs": [],
   "source": [
    "mystr = \"Hello World!\""
   ]
  },
  {
   "cell_type": "markdown",
   "id": "33bfa60c",
   "metadata": {},
   "source": [
    "### 6.2 Accessing Characters in a String\n",
    "To access individual characters in a string, we can use indexing. In Python, indexing starts from 0. For example:"
   ]
  },
  {
   "cell_type": "code",
   "execution_count": 12,
   "id": "ba41a72e",
   "metadata": {},
   "outputs": [
    {
     "name": "stdout",
     "output_type": "stream",
     "text": [
      "H\n"
     ]
    }
   ],
   "source": [
    "print(mystr[0]) # Output: H"
   ]
  },
  {
   "cell_type": "markdown",
   "id": "91b1bfe6",
   "metadata": {},
   "source": [
    "We can also use negative indexing to access characters from the end of the string. For example:"
   ]
  },
  {
   "cell_type": "code",
   "execution_count": 13,
   "id": "76c14713",
   "metadata": {},
   "outputs": [
    {
     "name": "stdout",
     "output_type": "stream",
     "text": [
      "!\n"
     ]
    }
   ],
   "source": [
    "print(mystr[-1]) # Output: !"
   ]
  },
  {
   "cell_type": "markdown",
   "id": "2df1d6a5",
   "metadata": {},
   "source": [
    "### 6.3 Slicing a String\n",
    "We can extract a substring from a string using slicing. Slicing allows us to specify the starting and ending indices of the substring we want. For example:"
   ]
  },
  {
   "cell_type": "code",
   "execution_count": 14,
   "id": "a4fbda6b",
   "metadata": {},
   "outputs": [
    {
     "name": "stdout",
     "output_type": "stream",
     "text": [
      "Hello\n"
     ]
    }
   ],
   "source": [
    "print(mystr[0:5]) # Output: Hello"
   ]
  },
  {
   "cell_type": "raw",
   "id": "1b6ca3f8",
   "metadata": {},
   "source": [
    "In this example, the substring starts at index 0 and ends at index 4. The ending index is not included in the substring."
   ]
  },
  {
   "cell_type": "markdown",
   "id": "4ec603d9",
   "metadata": {},
   "source": [
    "### 6.4 String Methods\n",
    "Python provides a number of methods for working with strings. Here are some commonly used methods:\n",
    "\n",
    "#### isalnum()\n",
    "The `isalnum()` method returns True if all the characters in the string are alphanumeric (i.e., either alphabets or digits), and False otherwise. For example:"
   ]
  },
  {
   "cell_type": "code",
   "execution_count": 15,
   "id": "e5fd7e03",
   "metadata": {},
   "outputs": [
    {
     "name": "stdout",
     "output_type": "stream",
     "text": [
      "False\n"
     ]
    }
   ],
   "source": [
    "print(mystr.isalnum()) # Output: False"
   ]
  },
  {
   "cell_type": "markdown",
   "id": "0cdcde1f",
   "metadata": {},
   "source": [
    "#### isalpha()\n",
    "The `isalpha()` method returns True if all the characters in the string are alphabetic, and False otherwise. For example:"
   ]
  },
  {
   "cell_type": "code",
   "execution_count": 16,
   "id": "2ad7b77a",
   "metadata": {},
   "outputs": [
    {
     "name": "stdout",
     "output_type": "stream",
     "text": [
      "False\n"
     ]
    }
   ],
   "source": [
    "print(mystr.isalpha()) # Output: False"
   ]
  },
  {
   "cell_type": "markdown",
   "id": "29a902a8",
   "metadata": {},
   "source": [
    "#### count()\n",
    "The `count()` method returns the number of occurrences of a specified substring in the string. For example:"
   ]
  },
  {
   "cell_type": "code",
   "execution_count": 17,
   "id": "1514de44",
   "metadata": {},
   "outputs": [
    {
     "name": "stdout",
     "output_type": "stream",
     "text": [
      "3\n"
     ]
    }
   ],
   "source": [
    "print(mystr.count(\"l\")) # Output: 3"
   ]
  },
  {
   "cell_type": "markdown",
   "id": "70bc8594",
   "metadata": {},
   "source": [
    "#### replace()\n",
    "The `replace()` method replaces all occurrences of a specified substring with another substring. For example:"
   ]
  },
  {
   "cell_type": "code",
   "execution_count": 18,
   "id": "0b59fc35",
   "metadata": {},
   "outputs": [
    {
     "name": "stdout",
     "output_type": "stream",
     "text": [
      "Hello Universe!\n"
     ]
    }
   ],
   "source": [
    "print(mystr.replace(\"World\", \"Universe\")) # Output: Hello Universe!"
   ]
  },
  {
   "cell_type": "markdown",
   "id": "96c48854",
   "metadata": {},
   "source": [
    "#### capitalize()\n",
    "The `capitalize()` method capitalizes the first character of the string. For example:"
   ]
  },
  {
   "cell_type": "code",
   "execution_count": 19,
   "id": "5cdb0a63",
   "metadata": {},
   "outputs": [
    {
     "name": "stdout",
     "output_type": "stream",
     "text": [
      "Hello world!\n"
     ]
    }
   ],
   "source": [
    "print(mystr.capitalize()) # Output: Hello world!"
   ]
  },
  {
   "cell_type": "markdown",
   "id": "07b7b11c",
   "metadata": {},
   "source": [
    "## 7. Lists and Tuples Data Structures\n",
    "\n",
    "### 7.1 Lists\n",
    "\n",
    "A list is a collection of elements, enclosed in square brackets `[]`, and separated by a comma. Lists are mutable, which means the elements of the list can be changed.\n",
    "\n",
    "Example:"
   ]
  },
  {
   "cell_type": "code",
   "execution_count": 20,
   "id": "f2d4bdb2",
   "metadata": {},
   "outputs": [],
   "source": [
    "grocery = ['cleaner', 'Biscuits', 'Apples', 56]"
   ]
  },
  {
   "cell_type": "markdown",
   "id": "6b8d204f",
   "metadata": {},
   "source": [
    "#### Accessing Elements of a List:\n",
    "To access elements of a list, we use indexing, which starts at 0. Negative indexing is also supported, which starts from the end of the list.\n",
    "\n",
    "Example:"
   ]
  },
  {
   "cell_type": "code",
   "execution_count": 21,
   "id": "0ec0cba2",
   "metadata": {},
   "outputs": [
    {
     "name": "stdout",
     "output_type": "stream",
     "text": [
      "['cleaner', 'Biscuits', 'Apples', 56]\n",
      "cleaner\n",
      "56\n"
     ]
    }
   ],
   "source": [
    "print(grocery) # print the list\n",
    "print(grocery[0]) # print the first element of the list\n",
    "print(grocery[-1]) # print the last element of the list"
   ]
  },
  {
   "cell_type": "markdown",
   "id": "ed410110",
   "metadata": {},
   "source": [
    "#### Slicing of a List:\n",
    "We can access a range of elements in a list using slicing. The syntax for slicing is `[start:end:step]`, where start is the starting index, end is the ending index, and step is the interval between each element.\n",
    "\n",
    "Example:"
   ]
  },
  {
   "cell_type": "code",
   "execution_count": 22,
   "id": "24cf6add",
   "metadata": {},
   "outputs": [
    {
     "name": "stdout",
     "output_type": "stream",
     "text": [
      "[6, 8, 10]\n",
      "[10, 8, 6, 4, 2]\n",
      "[10, 6, 2]\n",
      "[2, 4, 6, 8, 10]\n",
      "[]\n"
     ]
    }
   ],
   "source": [
    "numbers = [2, 4, 6, 8, 10]\n",
    "print(numbers[2:]) # print the list from index 2 to the end\n",
    "numbers.sort() # sort the list\n",
    "numbers.reverse() # reverse the list\n",
    "print(numbers[:]) # print the list from index 0 to the end\n",
    "print(numbers[::2]) # print every 2nd element of the list\n",
    "print(numbers[::-1]) # print the list in reverse order\n",
    "print(numbers[1:5:-2]) # print the list from index 1 to 5 and reverse the list"
   ]
  },
  {
   "cell_type": "markdown",
   "id": "f479da9f",
   "metadata": {},
   "source": [
    "#### List Operations:\n",
    "- `append()`: add an element to the end of the list.\n",
    "- `insert()`: add an element to a specified index of the list.\n",
    "- `remove()`: remove an element from the list.\n",
    "- `pop()`: remove the last element from the list.\n",
    "Example:"
   ]
  },
  {
   "cell_type": "code",
   "execution_count": 23,
   "id": "b6df2fc5",
   "metadata": {},
   "outputs": [
    {
     "name": "stdout",
     "output_type": "stream",
     "text": [
      "[10, 8, 6, 4, 2, 7]\n"
     ]
    },
    {
     "data": {
      "text/plain": [
       "7"
      ]
     },
     "execution_count": 23,
     "metadata": {},
     "output_type": "execute_result"
    }
   ],
   "source": [
    "numbers.append(7) # adds elements into the list from the last\n",
    "print(numbers) # print the list\n",
    "numbers.insert(2, 5) # inserts elements into the list from the specified index\n",
    "# in insert, the first argument is the index and the second argument is the element to be inserted\n",
    "numbers.remove(5) # removes the element from the list\n",
    "numbers.pop() # removes the last element from the list"
   ]
  },
  {
   "cell_type": "markdown",
   "id": "4d8f8b4b",
   "metadata": {},
   "source": [
    "### 7.2 Tuples\n",
    "\n",
    "A tuple is a collection of elements, enclosed in parentheses (), and separated by a comma. Tuples are immutable, which means the elements of the tuple cannot be changed.\n",
    "\n",
    "Example:"
   ]
  },
  {
   "cell_type": "code",
   "execution_count": 24,
   "id": "9bab76be",
   "metadata": {},
   "outputs": [],
   "source": [
    "tp = (1, 2, 3, 4, 5) # create a tuple"
   ]
  },
  {
   "cell_type": "markdown",
   "id": "d2182a2e",
   "metadata": {},
   "source": [
    "#### Accessing Elements of a Tuple:\n",
    "We use indexing to access elements of a tuple, just like a list.\n",
    "\n",
    "Example:"
   ]
  },
  {
   "cell_type": "code",
   "execution_count": 25,
   "id": "3c68bdf9",
   "metadata": {},
   "outputs": [
    {
     "name": "stdout",
     "output_type": "stream",
     "text": [
      "2\n"
     ]
    }
   ],
   "source": [
    "print(tp[1]) # prints 2"
   ]
  },
  {
   "cell_type": "markdown",
   "id": "9f3c1df1",
   "metadata": {},
   "source": [
    "#### Swapping Two Elements:\n",
    "Swapping the values of two variables is a common task in programming. There are several ways to swap the values of two variables in Python. In this slide, we'll explore two of the most commonly used methods.\n",
    "\n",
    "1. Method 1: Using a Temporary Variable\n",
    "\n",
    "One way to swap two variables is to use a temporary variable. Here's an example:\n"
   ]
  },
  {
   "cell_type": "code",
   "execution_count": 29,
   "id": "d2298adb",
   "metadata": {},
   "outputs": [
    {
     "name": "stdout",
     "output_type": "stream",
     "text": [
      "a = 20\n",
      "b = 10\n"
     ]
    }
   ],
   "source": [
    "a = 10\n",
    "b = 20\n",
    "\n",
    "# swapping using temporary variable\n",
    "temp = a\n",
    "a = b\n",
    "b = temp\n",
    "\n",
    "print(\"a =\", a)\n",
    "print(\"b =\", b)\n"
   ]
  },
  {
   "cell_type": "markdown",
   "id": "82809d51",
   "metadata": {},
   "source": [
    "2. Method 2: Using Tuple Unpacking\n",
    "\n",
    "Another way to swap two variables is to use tuple unpacking. Here's an example:"
   ]
  },
  {
   "cell_type": "code",
   "execution_count": 30,
   "id": "d6b750d1",
   "metadata": {},
   "outputs": [
    {
     "name": "stdout",
     "output_type": "stream",
     "text": [
      "a = 20\n",
      "b = 10\n"
     ]
    }
   ],
   "source": [
    "a = 10\n",
    "b = 20\n",
    "\n",
    "# swapping using tuple unpacking\n",
    "a, b = b, a\n",
    "\n",
    "print(\"a =\", a)\n",
    "print(\"b =\", b)"
   ]
  },
  {
   "cell_type": "markdown",
   "id": "bbeaf8b6",
   "metadata": {},
   "source": [
    "## 8. Dictionaries\n",
    "In Python, a dictionary is an unordered collection of key-value pairs enclosed in curly braces `{}`. Keys are unique and values can be any type of object. Dictionaries are mutable, which means we can modify the contents of a dictionary by adding, deleting, or changing key-value pairs.\n",
    "### 8.1 Creating a dictionary\n",
    "We can create an empty dictionary using curly braces `{}` or by using the `dict()` function. To create a dictionary with key-value pairs, we can enclose them in curly braces and separate each key-value pair with a comma.\n"
   ]
  },
  {
   "cell_type": "code",
   "execution_count": 1,
   "id": "a4dfa9e4",
   "metadata": {},
   "outputs": [
    {
     "name": "stdout",
     "output_type": "stream",
     "text": [
      "<class 'dict'>\n",
      "{'Harry': 'Burger', 'Ron': 'Pizza', 'Hermione': 'Pasta'}\n"
     ]
    }
   ],
   "source": [
    "d1 = {}  # create an empty dictionary\n",
    "print(type(d1))  # print the type of the dictionary\n",
    "\n",
    "d2 = {\"Harry\": \"Burger\", \"Ron\": \"Pizza\", \"Hermione\": \"Pasta\"} # create a dictionary with key-value pairs\n",
    "print(d2)  # print the complete dictionary"
   ]
  },
  {
   "cell_type": "markdown",
   "id": "7bf5f594",
   "metadata": {},
   "source": [
    "### 8.2 Accessing values from a dictionary\n",
    "To access the value of a key in a dictionary, we can use square brackets `[]` with the key inside them. We can also use the `get()` method to retrieve the value of a key."
   ]
  },
  {
   "cell_type": "code",
   "execution_count": 2,
   "id": "6bd343a3",
   "metadata": {},
   "outputs": [
    {
     "name": "stdout",
     "output_type": "stream",
     "text": [
      "Burger\n",
      "Burger\n"
     ]
    }
   ],
   "source": [
    "print(d2[\"Harry\"])  # print the value of the key Harry\n",
    "print(d2.get(\"Harry\"))  # print the value of the key Harry using get() method"
   ]
  },
  {
   "cell_type": "markdown",
   "id": "28fab352",
   "metadata": {},
   "source": [
    "### 8.3 Nested dictionary\n",
    "We can also have a dictionary inside another dictionary, which is known as a nested dictionary. To access the value of a key inside a nested dictionary, we can use multiple square brackets with each key inside them."
   ]
  },
  {
   "cell_type": "code",
   "execution_count": 5,
   "id": "e4371d6f",
   "metadata": {},
   "outputs": [
    {
     "name": "stdout",
     "output_type": "stream",
     "text": [
      "Coffee\n"
     ]
    }
   ],
   "source": [
    "d3 = {\"Harry\": \"Burger\", \"Ron\": \"Pizza\", \"Hermione\": \"Pasta\", \"Dumbledore\": {\n",
    "    \"Breakfast\": \"Coffee\", \"Lunch\": \"Sandwich\", \"Dinner\": \"Pizza\"}}  # nested dictionary\n",
    "print(d3[\"Dumbledore\"][\"Breakfast\"]) # print the value of the key Dumbledore at the key Breakfast\n"
   ]
  },
  {
   "cell_type": "markdown",
   "id": "72d86c34",
   "metadata": {},
   "source": [
    "### 8.4 Modifying a dictionary\n",
    "We can add, delete, or change key-value pairs in a dictionary. Keys are immutable, so we cannot change them, but we can change the values associated with them.\n"
   ]
  },
  {
   "cell_type": "code",
   "execution_count": 8,
   "id": "b3582e98",
   "metadata": {},
   "outputs": [
    {
     "name": "stdout",
     "output_type": "stream",
     "text": [
      "{'Harry': 'Burger', 'Ron': 'Pizza', 'Hermione': 'Pasta', 'Dumbledore': {'Breakfast': 'Coffee', 'Lunch': 'Sandwich', 'Dinner': 'Pizza'}, 'albus': 'Potter'}\n",
      "{'Ron': 'Pizza', 'Hermione': 'Pasta', 'Dumbledore': {'Breakfast': 'Coffee', 'Lunch': 'Sandwich', 'Dinner': 'Pizza'}, 'albus': 'Potter'}\n",
      "{'Ron': 'Pizza', 'Hermione': 'Pasta', 'Dumbledore': {'Breakfast': 'Coffee', 'Lunch': 'Sandwich', 'Dinner': 'Pizza'}, 'albus': 'Potter'}\n",
      "{'Ron': 'Pizza', 'Hermione': 'Pasta', 'Dumbledore': {'Breakfast': 'Coffee', 'Lunch': 'Sandwich', 'Dinner': 'Pizza'}, 'albus': 'Potter'}\n",
      "{'Ron': 'Pizza', 'Hermione': 'Pasta', 'albus': 'Potter'}\n"
     ]
    }
   ],
   "source": [
    "# Add a new key-value pair to the dictionary\n",
    "d3[\"albus\"] = \"Potter\"\n",
    "print(d3)  # print the complete dictionary\n",
    "\n",
    "# Delete the key-value pair with the key Harry\n",
    "del d3['Harry']\n",
    "print(d3)  # print the complete dictionary\n",
    "\n",
    "# Copy the dictionary\n",
    "print(d3.copy())\n",
    "\n",
    "# Use copy() method to copy a dictionary and modify only the copy\n",
    "d4 = d3.copy()  # copy the dictionary\n",
    "del d4[\"Dumbledore\"]\n",
    "print(d3)  # original dictionary\n",
    "print(d4)  # modified copy\n"
   ]
  },
  {
   "cell_type": "markdown",
   "id": "1ab6a6e1",
   "metadata": {},
   "source": [
    "### 8.5 Dictionary functions\n",
    "We can also use various dictionary functions like `get()`, `update()`, `keys()`, and `items()`."
   ]
  },
  {
   "cell_type": "code",
   "execution_count": 7,
   "id": "2bcdf903",
   "metadata": {},
   "outputs": [
    {
     "name": "stdout",
     "output_type": "stream",
     "text": [
      "Burger\n",
      "{'Harry': 'Burger', 'Ron': 'Pizza', 'Hermione': 'Pasta', 'Luna': 'Toffee'}\n",
      "dict_keys(['Harry', 'Ron', 'Hermione', 'Luna'])\n",
      "dict_items([('Harry', 'Burger'), ('Ron', 'Pizza'), ('Hermione', 'Pasta'), ('Luna', 'Toffee')])\n"
     ]
    }
   ],
   "source": [
    "print(d2.get(\"Harry\"))  # get the value of the key Harry\n",
    "\n",
    "# Update the dictionary with a new key-value pair\n",
    "d2.update({\"Luna\": \"Toffee\"})\n",
    "print(d2)  # print the complete dictionary\n",
    "\n",
    "print(d2.keys())  # print the keys of the dictionary\n",
    "print(d2.items())  # print the key-value pairs of the dictionary\n"
   ]
  },
  {
   "cell_type": "markdown",
   "id": "9e06510d",
   "metadata": {},
   "source": [
    "## 9. Sets\n",
    "A set is an unordered collection of unique elements. It does not allow duplicates. A set is defined by enclosing a collection of elements within curly braces `{}` or by using the `set()` function."
   ]
  },
  {
   "cell_type": "code",
   "execution_count": 9,
   "id": "d9f9e7fd",
   "metadata": {},
   "outputs": [
    {
     "name": "stdout",
     "output_type": "stream",
     "text": [
      "<class 'set'>\n"
     ]
    }
   ],
   "source": [
    "s = set()\n",
    "print(type(s)) # <class 'set'>"
   ]
  },
  {
   "cell_type": "markdown",
   "id": "77f085fd",
   "metadata": {},
   "source": [
    "To convert a list into a set, we can use the `set()` function:"
   ]
  },
  {
   "cell_type": "code",
   "execution_count": 10,
   "id": "fb76b8ee",
   "metadata": {},
   "outputs": [
    {
     "name": "stdout",
     "output_type": "stream",
     "text": [
      "{1, 2, 3, 4, 5}\n"
     ]
    }
   ],
   "source": [
    "lst = [1, 2, 3, 4, 5]\n",
    "s = set(lst)\n",
    "print(s) # {1, 2, 3, 4, 5}"
   ]
  },
  {
   "cell_type": "markdown",
   "id": "0660a59a",
   "metadata": {},
   "source": [
    "### 9.1 Adding Elements to a Set\n",
    "Elements can be added to a set using the `add()` method. Adding the same element again will not add it again since sets do not allow duplicates."
   ]
  },
  {
   "cell_type": "code",
   "execution_count": 11,
   "id": "ebc069d0",
   "metadata": {},
   "outputs": [],
   "source": [
    "s.add(1)\n",
    "s.add(1)"
   ]
  },
  {
   "cell_type": "markdown",
   "id": "305fa546",
   "metadata": {},
   "source": [
    "### 9.2 Set Operations\n",
    "Set operations like union and intersection can be performed using the `union()` and `intersection()` methods respectively."
   ]
  },
  {
   "cell_type": "code",
   "execution_count": 12,
   "id": "5974486f",
   "metadata": {},
   "outputs": [
    {
     "name": "stdout",
     "output_type": "stream",
     "text": [
      "{1, 2, 3, 4, 5} {2, 3, 4}\n"
     ]
    }
   ],
   "source": [
    "s1 = s.union([2, 3, 4]) # union of two sets\n",
    "s2 = s.intersection([2, 3, 4]) # intersection of two sets\n",
    "print(s1, s2) # {1, 2, 3, 4, 5} {2, 3, 4}"
   ]
  },
  {
   "cell_type": "markdown",
   "id": "daf67f68",
   "metadata": {},
   "source": [
    "The `isdisjoint()` method can be used to check if two sets have any common elements or not."
   ]
  },
  {
   "cell_type": "code",
   "execution_count": 13,
   "id": "96b5c3c6",
   "metadata": {},
   "outputs": [
    {
     "name": "stdout",
     "output_type": "stream",
     "text": [
      "False\n"
     ]
    }
   ],
   "source": [
    "print(s1.isdisjoint(s2)) # False"
   ]
  },
  {
   "cell_type": "markdown",
   "id": "edb80192",
   "metadata": {},
   "source": [
    "A `True` value would indicate that the sets are disjoint, i.e., they have no common elements."
   ]
  },
  {
   "cell_type": "markdown",
   "id": "9dd098d7",
   "metadata": {},
   "source": [
    "## 10. If-Else Statement\n",
    "In Python, the if-else statement is used to check if a certain condition is true or false. Based on the result, the code execution is directed to a specific block of code. The if-else statement is often used to execute different sets of code based on a given condition. The syntax of the if-else statement is as follows:\n"
   ]
  },
  {
   "cell_type": "raw",
   "id": "72f778af",
   "metadata": {},
   "source": [
    "if condition1:\n",
    "    # block of code to be executed if condition1 is true\n",
    "elif condition2:\n",
    "    # block of code to be executed if condition2 is true and condition1 is false\n",
    "else:\n",
    "    # block of code to be executed if all conditions are false"
   ]
  },
  {
   "cell_type": "code",
   "execution_count": 14,
   "id": "06ff8948",
   "metadata": {},
   "outputs": [
    {
     "name": "stdout",
     "output_type": "stream",
     "text": [
      "Enter a number: 200\n",
      "var3 is equal to var2\n"
     ]
    }
   ],
   "source": [
    "var1 = 100\n",
    "var2 = 200\n",
    "\n",
    "var3 = int(input(\"Enter a number: \"))\n",
    "\n",
    "if var3 > var2:\n",
    "    print(\"var3 is greater than var2\")\n",
    "elif var3 == var2:\n",
    "    print(\"var3 is equal to var2\")\n",
    "else:\n",
    "    print(\"var3 is less than var2\")\n"
   ]
  },
  {
   "cell_type": "raw",
   "id": "dd320a2d",
   "metadata": {},
   "source": [
    "In this example, we take three variables `var1`, `var2`, and `var3`, where `var3` takes input from the user. We then check the condition using the if-else statement. If `var3` is greater than `var2`, then it prints \"var3 is greater than var2\". If var3 is equal to var2, it prints \"var3 is equal to var2\". If none of the conditions is true, then it prints \"var3 is less than var2\"."
   ]
  },
  {
   "cell_type": "markdown",
   "id": "f418a98a",
   "metadata": {},
   "source": [
    "### 10.1 Additional Conditions\n",
    "In Python, we can use `in`, `and`, `or`, and `not` operators with the if-else statement."
   ]
  },
  {
   "cell_type": "markdown",
   "id": "e06d29e1",
   "metadata": {},
   "source": [
    "#### In Operator"
   ]
  },
  {
   "cell_type": "code",
   "execution_count": 15,
   "id": "c06bae5f",
   "metadata": {},
   "outputs": [
    {
     "name": "stdout",
     "output_type": "stream",
     "text": [
      "5 is in list1\n",
      "15 is not in list1\n"
     ]
    }
   ],
   "source": [
    "list1 = [1, 2, 3, 4, 5, 6, 7]\n",
    "\n",
    "if 5 in list1:\n",
    "    print(\"5 is in list1\")\n",
    "    \n",
    "if 15 not in list1:\n",
    "    print(\"15 is not in list1\")\n"
   ]
  },
  {
   "cell_type": "raw",
   "id": "fae38785",
   "metadata": {},
   "source": [
    "In this example, we create a list `list1` and check if the value `5` is in the list using the `in` operator. If it is in the list, then it prints \"5 is in list1\". Similarly, we check if the value `15` is not in the list using the `not in` operator. If it is not in the list, then it prints \"15 is not in list1\"."
   ]
  },
  {
   "cell_type": "markdown",
   "id": "dcad5d48",
   "metadata": {},
   "source": [
    "#### And, Or, Not Operators"
   ]
  },
  {
   "cell_type": "code",
   "execution_count": 16,
   "id": "709e9e1b",
   "metadata": {},
   "outputs": [
    {
     "name": "stdout",
     "output_type": "stream",
     "text": [
      "x is less than y and z\n",
      "x is not equal to y\n"
     ]
    }
   ],
   "source": [
    "x = 10\n",
    "y = 20\n",
    "z = 30\n",
    "\n",
    "if x < y and x < z:\n",
    "    print(\"x is less than y and z\")\n",
    "    \n",
    "if x > y or x > z:\n",
    "    print(\"x is greater than y or z\")\n",
    "    \n",
    "if not x == y:\n",
    "    print(\"x is not equal to y\")\n"
   ]
  },
  {
   "cell_type": "raw",
   "id": "45167ac0",
   "metadata": {},
   "source": [
    "In this example, we take three variables `x`, `y`, and `z`. We check if `x` is less than `y` and `z` using the and operator. If it is true, then it prints \"x is less than y and z\". Similarly, we check if `x` is greater than `y` or `z` using the or operator. If it is true, then it prints \"x is greater than y or z\". Finally, we check if `x` is not equal to `y` using the not operator. If it is true, then it prints \"x is not equal to y\"."
   ]
  },
  {
   "cell_type": "markdown",
   "id": "8f5bbff5",
   "metadata": {},
   "source": [
    "## 11. For Loops\n",
    "In Python, `for` loops are used to iterate over a sequence of items such as a string, a list, a tuple, a dictionary, a set, or a file. The purpose of `for` loops is to execute a set of statements a certain number of times.\n"
   ]
  },
  {
   "cell_type": "raw",
   "id": "a6b45534",
   "metadata": {},
   "source": [
    "for item in sequence:\n",
    "    # Code block to be executed\n"
   ]
  },
  {
   "cell_type": "markdown",
   "id": "aeac6b9a",
   "metadata": {},
   "source": [
    "#### For loops on lists"
   ]
  },
  {
   "cell_type": "code",
   "execution_count": 17,
   "id": "22730c46",
   "metadata": {},
   "outputs": [
    {
     "name": "stdout",
     "output_type": "stream",
     "text": [
      "Harry\n",
      "Ron\n",
      "Hermione\n",
      "Ginny\n",
      "Dobby\n"
     ]
    }
   ],
   "source": [
    "list1 = [\"Harry\", \"Ron\", \"Hermione\", \"Ginny\", \"Dobby\"]\n",
    "\n",
    "for item in list1:\n",
    "    print(item)\n"
   ]
  },
  {
   "cell_type": "markdown",
   "id": "5dfcf46e",
   "metadata": {},
   "source": [
    "#### For loops on tuples"
   ]
  },
  {
   "cell_type": "code",
   "execution_count": 18,
   "id": "dec511e2",
   "metadata": {},
   "outputs": [
    {
     "name": "stdout",
     "output_type": "stream",
     "text": [
      "Harry\n",
      "Ron\n",
      "Hermione\n",
      "Ginny\n",
      "Dobby\n"
     ]
    }
   ],
   "source": [
    "list2 = (\"Harry\", \"Ron\", \"Hermione\", \"Ginny\", \"Dobby\")\n",
    "\n",
    "for item in list2:\n",
    "    print(item)"
   ]
  },
  {
   "cell_type": "markdown",
   "id": "3ae2e35c",
   "metadata": {},
   "source": [
    "#### For loops on list of lists"
   ]
  },
  {
   "cell_type": "code",
   "execution_count": 19,
   "id": "a1281cc0",
   "metadata": {},
   "outputs": [
    {
     "name": "stdout",
     "output_type": "stream",
     "text": [
      "Harry and lolly is 1\n",
      "Ron and lolly is 2\n",
      "Hermione and lolly is 3\n",
      "Ginny and lolly is 4\n",
      "Dobby and lolly is 5\n"
     ]
    }
   ],
   "source": [
    "list3 = [[\"Harry\", 1], [\"Ron\", 2], [\"Hermione\", 3], [\"Ginny\", 4], [\"Dobby\", 5]]\n",
    "\n",
    "for item, lollypop in list3:\n",
    "    print(item, \"and lolly is\", lollypop)\n"
   ]
  },
  {
   "cell_type": "markdown",
   "id": "d661c995",
   "metadata": {},
   "source": [
    "#### For loops on dictionaries"
   ]
  },
  {
   "cell_type": "code",
   "execution_count": 20,
   "id": "4668b6c6",
   "metadata": {},
   "outputs": [
    {
     "name": "stdout",
     "output_type": "stream",
     "text": [
      "Harry and lolly is 1\n",
      "Ron and lolly is 2\n",
      "Hermione and lolly is 3\n",
      "Ginny and lolly is 4\n",
      "Dobby and lolly is 5\n",
      "Harry\n",
      "Ron\n",
      "Hermione\n",
      "Ginny\n",
      "Dobby\n"
     ]
    }
   ],
   "source": [
    "dict1 = dict(list3)\n",
    "\n",
    "for item, lollypop in dict1.items():\n",
    "    print(item, \"and lolly is\", lollypop)\n",
    "\n",
    "for item in dict1:\n",
    "    print(item)\n"
   ]
  },
  {
   "cell_type": "markdown",
   "id": "06aa0ad9",
   "metadata": {},
   "source": [
    "#### Checking for numbers in a random list"
   ]
  },
  {
   "cell_type": "code",
   "execution_count": 22,
   "id": "521f7135",
   "metadata": {},
   "outputs": [
    {
     "name": "stdout",
     "output_type": "stream",
     "text": [
      "62\n",
      "7.32\n",
      "62\n"
     ]
    }
   ],
   "source": [
    "random_list = [\"Hello\", \"list\", 62, 7.32, True, [1, 2, 3], {\"key\": \"value\"}, (1, 2, 3)]\n",
    "\n",
    "for item in random_list:\n",
    "    if isinstance(item, int) or isinstance(item, float):\n",
    "        if item >= 6:\n",
    "            print(item)\n",
    "\n",
    "# Or\n",
    "\n",
    "for item in random_list:\n",
    "    if str(item).isnumeric() and item > 6:\n",
    "        print(item)\n"
   ]
  },
  {
   "cell_type": "markdown",
   "id": "db11bcf5",
   "metadata": {},
   "source": [
    "Note that `for` loops on sets and strings are possible, but should be avoided because they are not ordered"
   ]
  },
  {
   "cell_type": "markdown",
   "id": "abe5bb93",
   "metadata": {},
   "source": [
    "## 12. While Loops\n",
    "In Python, `while` loops are used to execute a set of statements repeatedly until a condition becomes false. The condition is evaluated before each iteration and the loop continues as long as the condition is true. The syntax for a `while` loop is as follows:"
   ]
  },
  {
   "cell_type": "raw",
   "id": "1369b07b",
   "metadata": {},
   "source": [
    "while condition:\n",
    "    statement(s)"
   ]
  },
  {
   "cell_type": "markdown",
   "id": "cd2858fc",
   "metadata": {},
   "source": [
    "Here, `condition` is an expression that is evaluated before each loop iteration. If the condition is true, the statements within the loop are executed. This process repeats until the condition becomes false.\n",
    "\n",
    "Let's take an example to understand how `while` loops work in Python. Suppose we want to print numbers from 0 to 44. We can use a `while` loop to achieve this as shown below:"
   ]
  },
  {
   "cell_type": "code",
   "execution_count": 24,
   "id": "8faa4355",
   "metadata": {},
   "outputs": [
    {
     "name": "stdout",
     "output_type": "stream",
     "text": [
      "0\n",
      "1\n",
      "2\n",
      "3\n",
      "4\n",
      "5\n",
      "6\n",
      "7\n",
      "8\n",
      "9\n",
      "10\n",
      "11\n",
      "12\n",
      "13\n",
      "14\n",
      "15\n",
      "16\n",
      "17\n",
      "18\n",
      "19\n",
      "20\n",
      "21\n",
      "22\n",
      "23\n",
      "24\n",
      "25\n",
      "26\n",
      "27\n",
      "28\n",
      "29\n",
      "30\n",
      "31\n",
      "32\n",
      "33\n",
      "34\n",
      "35\n",
      "36\n",
      "37\n",
      "38\n",
      "39\n",
      "40\n",
      "41\n",
      "42\n",
      "43\n",
      "44\n"
     ]
    }
   ],
   "source": [
    "i = 0  # Initialize counter\n",
    "\n",
    "while i < 45:  # While loop condition where i is less than 45 (45 is the limit)\n",
    "    print(i)  # Print the value of i\n",
    "    i = i + 1  # Increment counter by 1\n"
   ]
  },
  {
   "cell_type": "raw",
   "id": "ac0c311f",
   "metadata": {},
   "source": [
    "In this example, we have initialized a variable `i` to 0. The while loop condition is set to `i < 45`, which means that the loop will continue as long as `i` is less than 45. The loop body contains a `print` statement that prints the value of `i` and increments the value of `i` by 1 in each iteration."
   ]
  },
  {
   "cell_type": "markdown",
   "id": "ff83b9b3",
   "metadata": {},
   "source": [
    "### 12.1 When to use while loops\n",
    "`while` loops are useful when you don't know exactly how many times you need to execute a set of statements. For example, you might use a `while` loop to prompt the user for input until they enter a valid response. However, be careful not to create infinite loops by ensuring that the loop condition will eventually become false."
   ]
  },
  {
   "cell_type": "markdown",
   "id": "7893a201",
   "metadata": {},
   "source": [
    "## 13. Loop Control Statements\n",
    "In Python, loop control statements are used to control the execution of loops. These statements include `break` and `continue`.\n",
    "\n",
    "### 13.1 Break Statement\n",
    "The `break` statement is used to exit a loop when a certain condition is met. This is helpful when you want to stop the execution of the loop before it has finished iterating over all the elements."
   ]
  },
  {
   "cell_type": "raw",
   "id": "f86f4971",
   "metadata": {},
   "source": [
    "while True:\n",
    "    # code\n",
    "    if (condition):\n",
    "        break\n"
   ]
  },
  {
   "cell_type": "markdown",
   "id": "7444c38b",
   "metadata": {},
   "source": [
    "or"
   ]
  },
  {
   "cell_type": "raw",
   "id": "1913016e",
   "metadata": {},
   "source": [
    "for var in iterable:\n",
    "    # code\n",
    "    if (condition):\n",
    "        break\n"
   ]
  },
  {
   "cell_type": "markdown",
   "id": "547a64bd",
   "metadata": {},
   "source": [
    "#### Example\n",
    "Let's take a look at an example. Here, we will use a `while` loop to print numbers from 1 to 45, and break the loop when the counter reaches 44."
   ]
  },
  {
   "cell_type": "code",
   "execution_count": 25,
   "id": "cbb0f4ea",
   "metadata": {},
   "outputs": [
    {
     "name": "stdout",
     "output_type": "stream",
     "text": [
      "1 2 3 4 5 6 7 8 9 10 11 12 13 14 15 16 17 18 19 20 21 22 23 24 25 26 27 28 29 30 31 32 33 34 35 36 37 38 39 40 41 42 43 44 45 "
     ]
    }
   ],
   "source": [
    "i = 0  # initialize counter\n",
    "\n",
    "while True:  \n",
    "    print(i+1, end=\" \")  \n",
    "    if (i == 44):  \n",
    "        break  \n",
    "    i += 1  \n"
   ]
  },
  {
   "cell_type": "markdown",
   "id": "23d45043",
   "metadata": {},
   "source": [
    "### 13.2 Continue Statement\n",
    "The `continue` statement is used to skip the current iteration of a loop and continue with the next iteration. This is helpful when you want to skip certain elements that meet a certain condition."
   ]
  },
  {
   "cell_type": "raw",
   "id": "e756f41d",
   "metadata": {},
   "source": [
    "while True:\n",
    "    # code\n",
    "    if (condition):\n",
    "        continue\n",
    "    # code\n"
   ]
  },
  {
   "cell_type": "markdown",
   "id": "878b413c",
   "metadata": {},
   "source": [
    "or"
   ]
  },
  {
   "cell_type": "raw",
   "id": "7028e1b6",
   "metadata": {},
   "source": [
    "for var in iterable:\n",
    "    # code\n",
    "    if (condition):\n",
    "        continue\n",
    "    # code\n"
   ]
  },
  {
   "cell_type": "markdown",
   "id": "f516745f",
   "metadata": {},
   "source": [
    "#### Example\n",
    "Let's take a look at an example. Here, we will use a `while` loop to print numbers from 1 to 45, but skip the first five numbers."
   ]
  },
  {
   "cell_type": "code",
   "execution_count": 26,
   "id": "47fcb799",
   "metadata": {},
   "outputs": [
    {
     "name": "stdout",
     "output_type": "stream",
     "text": [
      "6 7 8 9 10 11 12 13 14 15 16 17 18 19 20 21 22 23 24 25 26 27 28 29 30 31 32 33 34 35 36 37 38 39 40 41 42 43 44 45 "
     ]
    }
   ],
   "source": [
    "i = 0\n",
    "\n",
    "while(1): \n",
    "    if (i < 5): \n",
    "        i = i+1  \n",
    "        continue  \n",
    "    print(i+1, end=\" \")  \n",
    "\n",
    "    if (i == 44):  \n",
    "        break  \n",
    "\n",
    "    i = i+1 \n"
   ]
  },
  {
   "cell_type": "markdown",
   "id": "178f16e9",
   "metadata": {},
   "source": [
    "## 14. Python Operators\n",
    "Python provides various types of operators that can be used to perform different types of operations. Operators in Python can be classified into the following categories:\n",
    "\n",
    "1. Arithmetic operators\n",
    "2. Assignment operators\n",
    "3. Comparison operators\n",
    "4. Logical operators\n",
    "5. Identity operators\n",
    "6. Membership operators\n",
    "7. Bitwise operators\n",
    "\n",
    "### 14.1 Arithmetic Operators\n",
    "Arithmetic operators are used to perform mathematical operations such as addition, subtraction, multiplication, division, etc. The following are the arithmetic operators in Python:\n",
    "\n",
    "| Operator | Description |\tExample |\n",
    "|----------|-------------|----------|\n",
    "|+         |\tAddition |\t5 + 6   |\n",
    "|-         |Subtraction |\t5 - 6  |\n",
    "|*        |Multiplication |\t5 * 6  | \n",
    "|/         |\tDivision |\t5 /6   |\n",
    "|//         |Floor Division |\t5 // 6  |\n",
    "|%       |Modulus |\t5 * 6  | \n",
    "|**       |Exponent|\t5 ** 3  | "
   ]
  },
  {
   "cell_type": "markdown",
   "id": "36c81353",
   "metadata": {},
   "source": [
    "### 14.2 Assignment Operators\n",
    "Assignment operators are used to assign values to variables. The following are the assignment operators in Python:\n",
    "| Operator | Description |\tExample |\n",
    "|----------|-------------|----------|\n",
    "|=|\tx = 5|\tx = 5|\n",
    "|+=\t|x += 1\t|x = x + 1|\n",
    "|-=\t|x -= 1|\tx = x - 1|\n",
    "|*= |\tx *= 2 |\tx = x * 2|\n",
    "| /=| \tx /= 2| \tx = x / 2| \n",
    "| %= | \tx %= 3 |\tx = x % 3 |\n",
    "| //= |\tx //= 3 | \tx = x // 3 |\n",
    "| **= | \tx **= 2 |\tx = x ** 2 |\n",
    "| &= |\tx &= 2 |\tx = x & 2 | \n",
    "| >>= | \tx >>= 2 |\tx = x >> 2 | \n",
    "| <<=\t | x <<= 2 | \tx = x << 2 |"
   ]
  },
  {
   "cell_type": "markdown",
   "id": "6f850ebe",
   "metadata": {},
   "source": [
    "### 14.3 Comparison Operators\n",
    "Comparison operators are used to compare two values. The following are the comparison operators in Python:\n",
    "| Operator | Description |\tExample |\n",
    "|----------|-------------|----------|\n",
    "|==|\tEqual To |\ti == 5 |\n",
    "| !=| \tNot Equal To |\ti != 5 |\n",
    "| >\t| Greater Than |\ti > 5 |\n",
    "| < |\tLess Than |\ti < 5 |\n",
    "| >=| \tGreater Than or Equal To |\ti >= 5 |\n",
    "| <= |\tLess Than or Equal To |\ti <= 5|"
   ]
  },
  {
   "cell_type": "markdown",
   "id": "356c80aa",
   "metadata": {},
   "source": [
    "### 14.4 Logical Operators\n",
    "Logical operators are used to combine conditional statements. The following are the logical operators in Python:\n",
    "| Operator | Description |\tExample |\n",
    "|----------|-------------|----------|\n",
    "|and|\tReturns True if both statements are true|\tx < 5 and x < 10|\n",
    "|or\t| Returns True if one of the statements is true\t| x < 5 or x < 4 |\n",
    "|not |\tReverse the result, returns False if the result is true |\tnot(x < 5 and x < 10)|"
   ]
  },
  {
   "cell_type": "markdown",
   "id": "d42daef6",
   "metadata": {},
   "source": [
    "### 14.5 Identity Operators\n",
    "Identity operators are used to compare the objects, not if they are equal, but if they are actually the same object, with the same memory location. The following are the identity operators in Python:\n",
    "| Operator | Description |\tExample |\n",
    "|----------|-------------|----------|\n",
    "|is|\tReturns True if both variables are the same object|\tx is y|\n",
    "|is not|\tReturns True if both variables are not the same object|\tx is not y|"
   ]
  },
  {
   "cell_type": "markdown",
   "id": "82b52cd9",
   "metadata": {},
   "source": [
    "### 14.6 Membership Operators\n",
    "Membership operators are used to test whether a value is a member of a sequence. There are two membership operators in Python:\n",
    "| Operator | Description |\tExample |\n",
    "|----------|-------------|----------|\n",
    "|in|\tReturns True if a value is found in the sequence|\tx in y|\n",
    "|not in|\tReturns True if a value is not found in the sequence|\tx not in y|"
   ]
  },
  {
   "cell_type": "markdown",
   "id": "7d6a3ca3",
   "metadata": {},
   "source": [
    "### 14.7 Bitwise Operators\n",
    "Bitwise operators are used to perform operations on binary representations of integers. These operators convert the operands into binary form and then perform the operations bit by bit. There are six bitwise operators in Python:\n",
    "| Operator | Description |\tExample |\n",
    "|----------|-------------|----------|\n",
    "|&|\tBitwise AND|\tx & y|\n",
    "|\\||\tBitwise OR|\tx \\| y|\n",
    "|^|\tBitwise XOR|\tx ^ y|\n",
    "|~|\tBitwise NOT|\t~x|\n",
    "|<<|\tBitwise left shift|\tx << y|\n",
    "|>>|\tBitwise right shift|\tx >> y|"
   ]
  },
  {
   "cell_type": "markdown",
   "id": "e2bbfafd",
   "metadata": {},
   "source": [
    "## 15. Shorthand If-Else Statement\n",
    "In Python, you can write if-else statements in a single line, which is called a shorthand if-else statement. It is a more concise and readable way of writing an if-else statement in Python."
   ]
  },
  {
   "cell_type": "code",
   "execution_count": 2,
   "id": "69975d53",
   "metadata": {},
   "outputs": [
    {
     "name": "stdout",
     "output_type": "stream",
     "text": [
      "enter the value of a \n",
      "10\n",
      "enter the value of b \n",
      "12\n",
      "b is greater than or equal to a\n"
     ]
    }
   ],
   "source": [
    "a = int(input(\"enter the value of a \\n\"))\n",
    "b = int(input(\"enter the value of b \\n\"))\n",
    "\n",
    "print(\"a is greater than b\") if a > b else print(\"b is greater than or equal to a\")\n"
   ]
  },
  {
   "cell_type": "raw",
   "id": "a6d1544a",
   "metadata": {},
   "source": [
    "In the above code, we first take two integer inputs from the user using the `input()` function and convert them into integers using the `int()` function.\n",
    "\n",
    "Then, we have a single line if-else statement, which checks whether `a` is greater than `b` or not. If it is, then it prints the string \"a is greater than b\" else it prints the string \"b is greater than or equal to a\".\n",
    "\n",
    "This is a short and concise way of writing an if-else statement in Python."
   ]
  },
  {
   "cell_type": "markdown",
   "id": "5914f903",
   "metadata": {},
   "source": [
    "## 16. Functions\n",
    "A function is a block of reusable code that performs a specific task. It helps you to break your code into smaller parts, making it more manageable and modular.\n",
    "\n",
    "Python has two types of functions: built-in functions and user-defined functions.\n",
    "\n",
    "### 16.1 Built-in Functions\n",
    "Python provides many built-in functions such as `print()`, `input()`, `len()`, `sum()`, etc. These functions are always available to use in any Python program without requiring any special package or library.\n",
    "\n",
    "Here's an example of using the built-in `sum()` function:"
   ]
  },
  {
   "cell_type": "code",
   "execution_count": 3,
   "id": "6e617754",
   "metadata": {},
   "outputs": [
    {
     "name": "stdout",
     "output_type": "stream",
     "text": [
      "16\n"
     ]
    }
   ],
   "source": [
    "a = 9\n",
    "b = 7\n",
    "c = sum((a, b))  # sum is a built in function\n",
    "print(c)"
   ]
  },
  {
   "cell_type": "markdown",
   "id": "1c09f93c",
   "metadata": {},
   "source": [
    "### 16.2 User-defined Functions\n",
    "In addition to built-in functions, Python allows you to define your own functions. You can define a function using the `def` keyword, followed by the function name, and parentheses containing any parameters that the function will accept. Then, write the code block that the function will execute.\n",
    "\n",
    "Here's an example of defining and calling a user-defined function:\n"
   ]
  },
  {
   "cell_type": "code",
   "execution_count": 4,
   "id": "19f5fcf9",
   "metadata": {},
   "outputs": [
    {
     "name": "stdout",
     "output_type": "stream",
     "text": [
      "Hello, you are in function 1\n"
     ]
    }
   ],
   "source": [
    "def function1():\n",
    "    print(\"Hello, you are in function 1\")\n",
    "\n",
    "function1()\n"
   ]
  },
  {
   "cell_type": "markdown",
   "id": "3be2a655",
   "metadata": {},
   "source": [
    "You can also define functions that accept parameters, such as:"
   ]
  },
  {
   "cell_type": "code",
   "execution_count": 5,
   "id": "ebf124eb",
   "metadata": {},
   "outputs": [
    {
     "name": "stdout",
     "output_type": "stream",
     "text": [
      "Sum of the numbers you have input is  4\n"
     ]
    }
   ],
   "source": [
    "def function2(a, b):\n",
    "    print(\"Sum of the numbers you have input is \", a + b)\n",
    "\n",
    "function2(1, 3)\n"
   ]
  },
  {
   "cell_type": "markdown",
   "id": "97849e71",
   "metadata": {},
   "source": [
    "You can return a value from a function using the `return` keyword. Here's an example of a function that calculates and returns the average of two numbers:"
   ]
  },
  {
   "cell_type": "code",
   "execution_count": 6,
   "id": "5084bdb2",
   "metadata": {},
   "outputs": [
    {
     "name": "stdout",
     "output_type": "stream",
     "text": [
      "7.0\n"
     ]
    }
   ],
   "source": [
    "def function3(a, b):\n",
    "    average = (a + b) / 2\n",
    "    return average\n",
    "\n",
    "v = function3(6, 8)\n",
    "print(v)\n"
   ]
  },
  {
   "cell_type": "markdown",
   "id": "ef24deee",
   "metadata": {},
   "source": [
    "### 16.3 Docstrings\n",
    "A docstring is a string that appears as the first statement of a function. It is used to describe what the function does, what arguments it takes, and what it returns. Docstrings help other developers understand and use your functions.\n",
    "\n",
    "Here's an example of using a docstring:"
   ]
  },
  {
   "cell_type": "code",
   "execution_count": 7,
   "id": "8f183655",
   "metadata": {},
   "outputs": [
    {
     "name": "stdout",
     "output_type": "stream",
     "text": [
      "This functions finds the average of the two numbers. This function only works for two numbers.\n",
      "\n",
      "    Args:\n",
      "        a (int, float): This is the first number\n",
      "        b (int, float): This is the second number\n",
      "    \n"
     ]
    }
   ],
   "source": [
    "def average_of_number(a, b):\n",
    "    \"\"\"This functions finds the average of the two numbers. This function only works for two numbers.\n",
    "\n",
    "    Args:\n",
    "        a (int, float): This is the first number\n",
    "        b (int, float): This is the second number\n",
    "    \"\"\"\n",
    "    average = (a+b)/2\n",
    "    return average\n",
    "\n",
    "print(average_of_number.__doc__)\n"
   ]
  },
  {
   "cell_type": "raw",
   "id": "d9db6327",
   "metadata": {},
   "source": [
    "In the above example, the docstring describes what the function does and the arguments it takes. The `__doc__` attribute is used to access the docstring of the function."
   ]
  },
  {
   "cell_type": "markdown",
   "id": "4e2892b4",
   "metadata": {},
   "source": [
    "## 17. Exception Handling using Try-Except Blocks\n",
    "In Python, `try-except` blocks are used to handle exceptions that may occur while the program is running. An exception is an error that occurs during the execution of a program. If an exception is not handled, it will terminate the program abruptly, which can cause problems. To prevent this from happening, we use exception handling.\n",
    "\n",
    "### 17.1 Try-Except Block\n",
    "The `try` block is used to test a block of code for errors. The code that might cause an error is placed in the try block. If an error occurs, the program will skip the try block and move to the except block.\n",
    "\n",
    "The `except` block is used to handle the error. It catches the error and allows the program to continue running. The `as` keyword is used to create an object of the exception class.\n",
    "\n",
    "#### Example\n",
    "Suppose we want to add two numbers that the user inputs. We use the `input()` function to get the user's input. However, if the user enters a string instead of a number, we will get a `ValueError`. To handle this error, we use a `try-except` block."
   ]
  },
  {
   "cell_type": "code",
   "execution_count": 8,
   "id": "cb359b7a",
   "metadata": {},
   "outputs": [
    {
     "name": "stdout",
     "output_type": "stream",
     "text": [
      "Enter the first number: 10\n",
      "Enter the second number: aa\n",
      "Error: invalid literal for int() with base 10: 'aa'\n",
      "Your program will run smoothly after this\n"
     ]
    }
   ],
   "source": [
    "a = input(\"Enter the first number: \")\n",
    "b = input(\"Enter the second number: \")\n",
    "\n",
    "try:\n",
    "    print(\"Sum of the two numbers is \", int(a) + int(b))\n",
    "except ValueError as error:\n",
    "    print(\"Error:\", error)\n",
    "\n",
    "print(\"Your program will run smoothly after this\")\n"
   ]
  },
  {
   "cell_type": "raw",
   "id": "ce59685a",
   "metadata": {},
   "source": [
    "In this code, the `try` block tries to add the two numbers entered by the user. If the user enters a string, a `ValueError` will be raised. The `except` block catches this error and prints an error message."
   ]
  },
  {
   "cell_type": "markdown",
   "id": "d76f1872",
   "metadata": {},
   "source": [
    "## 18. File I/O Basics\n",
    "File I/O is an important concept in programming as it allows us to interact with files on a computer. We can read data from files, write data to files, and perform other operations like creating or deleting files using file I/O.\n",
    "\n",
    "### 18.1 Opening a file\n",
    "To read a file, we need to open it using the open() function. We pass the file name and the mode in which we want to open the file as parameters to this function. The mode specifies whether we want to read the file, write to the file, or append to the file.\n",
    "\n",
    "The following are the different modes in which a file can be opened:\n",
    "\n",
    "- \"r\": Open file for reading - default mode.\n",
    "- \"w\": Open file for writing. If the file already exists, it will be truncated to zero length. If the file does not exist, it will be created.\n",
    "- \"x\": Creates the specified file. Returns an error if the file exists.\n",
    "- \"a\": Open file for appending. The data will be written at the end of the file.\n",
    "- \"t\": Open file in text mode - default mode.\n",
    "- \"b\": Open file in binary mode.\n",
    "- \"+\" - Open file for reading and writing both.\n",
    "\n",
    "After we open a file, we can read its contents."
   ]
  },
  {
   "cell_type": "markdown",
   "id": "8e12af24",
   "metadata": {},
   "source": [
    "### 18.1 Reading a File\n",
    "We can read a file using the `read()` method of the file object that is returned when we open a file. The `read()` method reads the entire contents of the file and returns it as a string.\n",
    "\n",
    "We need to make sure that we close the file after we finish reading it. This can be done by calling the `close()` method of the file object."
   ]
  },
  {
   "cell_type": "code",
   "execution_count": null,
   "id": "80cd5175",
   "metadata": {},
   "outputs": [],
   "source": [
    "file_1 = open(\"example.txt\") # opening file in default read mode\n",
    "content_1 = file_1.read() # read file using read() method\n",
    "print(content_1) # print file contents\n",
    "file_1.close() # close the file"
   ]
  },
  {
   "cell_type": "markdown",
   "id": "3969f6e7",
   "metadata": {},
   "source": [
    "#### 18.1.1 Reading some characters of the file\n",
    "The `read(n)` method is used to read `n` characters from the file. Here is an example:\n"
   ]
  },
  {
   "cell_type": "code",
   "execution_count": null,
   "id": "8415402e",
   "metadata": {},
   "outputs": [],
   "source": [
    "file_1 = open(\"example.txt\") # opening file in default read mode\n",
    "content_1 = file_1.read(3) # # will read the first 3 characters of the text file\n",
    "print(content_1) # print file contents\n",
    "content_3 = file_3.read(3)  # will read the next 3 characters of the text file. If all the characters are previously read then this statement will return nothing\n",
    "print(content_3)\n",
    "file_1.close() # close the file"
   ]
  },
  {
   "cell_type": "markdown",
   "id": "f0e70de1",
   "metadata": {},
   "source": [
    "#### 18.1.2 Reading Line by Line\n",
    "We can also read a file line by line using a for loop. Each iteration of the loop reads a single line of the file."
   ]
  },
  {
   "cell_type": "code",
   "execution_count": null,
   "id": "56b84d6e",
   "metadata": {},
   "outputs": [],
   "source": [
    "file_1 = open(\"example.txt\") # opening file in default read mode\n",
    "for line in file_1:\n",
    "    print(line) # print each line of file\n",
    "file_1.close() # close the file"
   ]
  },
  {
   "cell_type": "markdown",
   "id": "dd754100",
   "metadata": {},
   "source": [
    "Alternatively, we can use the `readline()` method of the file object to read a single line of the file at a time."
   ]
  },
  {
   "cell_type": "code",
   "execution_count": null,
   "id": "c1675d45",
   "metadata": {},
   "outputs": [],
   "source": [
    "file_1 = open(\"example.txt\") # opening file in default read mode\n",
    "print(file_1.readline()) # read and print first line of file\n",
    "print(file_1.readline()) # read and print second line of file\n",
    "print(file_1.readline()) # read and print third line of file\n",
    "file_1.close() # close the file"
   ]
  },
  {
   "cell_type": "markdown",
   "id": "bd818e11",
   "metadata": {},
   "source": [
    "#### 18.1.3 Reading Character by Character\n",
    "We can also read a file character by character using a `for` loop. Each iteration of the loop reads a single character of the file."
   ]
  },
  {
   "cell_type": "code",
   "execution_count": null,
   "id": "4ef9c0f9",
   "metadata": {},
   "outputs": [],
   "source": [
    "file_1 = open(\"example.txt\") # opening file in default read mode\n",
    "content_1 = file_1.read() # read entire file using read() method\n",
    "for character in content_1:\n",
    "    print(character) # print each character of file\n",
    "file_1.close() # close the file"
   ]
  },
  {
   "cell_type": "markdown",
   "id": "02d94ea0",
   "metadata": {},
   "source": [
    "#### 18.1.4 Reading line by line\n",
    "We can read a file line by line using a for loop."
   ]
  },
  {
   "cell_type": "code",
   "execution_count": null,
   "id": "1970dc89",
   "metadata": {},
   "outputs": [],
   "source": [
    "file_4 = open(\"file.txt\")\n",
    "for line in file_4:\n",
    "    # This will print each line at each iteration with newline character as nil\n",
    "    print(line, end=\"\")\n",
    "file_4.close()"
   ]
  },
  {
   "cell_type": "markdown",
   "id": "21bb6d2c",
   "metadata": {},
   "source": [
    "#### 18.1.5 `readlines()` function"
   ]
  },
  {
   "cell_type": "markdown",
   "id": "c5918bd5",
   "metadata": {},
   "source": [
    "We can use the `readlines()` function to read all the lines of a file at once and store them in a list."
   ]
  },
  {
   "cell_type": "code",
   "execution_count": null,
   "id": "f514c9ca",
   "metadata": {},
   "outputs": [],
   "source": [
    "file_1 = open(\"example.txt\") # opening file in default read mode\n",
    "lines = file_1.readlines() # read all lines using readlines() method\n",
    "file_1.close()"
   ]
  },
  {
   "cell_type": "markdown",
   "id": "220f3689",
   "metadata": {},
   "source": [
    "### 18.2  Writing and Appending to a File\n",
    "In Python, we can create and manipulate files using the `open()` function. The `open()` function takes two arguments, the name of the file and the mode in which we want to open it. There are several modes in which we can open a file, including \"read\" mode (`\"r\"`), \"write\" mode (`\"w\"`), and \"append\" mode (`\"a\"`).\n",
    "\n",
    "When we open a file in \"write\" mode (`\"w\"`), Python will create a new file with the specified name (if it doesn't already exist) and truncate the file to zero length. If the file already exists, all of its contents will be deleted.\n",
    "\n",
    "On the other hand, when we open a file in \"append\" mode (`\"a\"`), Python will create a new file with the specified name (if it doesn't already exist) and write to the end of the file without truncating its contents.\n",
    "#### Example Code\n",
    "Let's create a new file in write mode, write some content to it, and then append some additional content to the same file."
   ]
  },
  {
   "cell_type": "code",
   "execution_count": 1,
   "id": "9b9ba689",
   "metadata": {},
   "outputs": [],
   "source": [
    "# create a new text file\n",
    "with open(\"sample.txt\", \"w\") as file:\n",
    "    file.write(\"This is some sample text.\\n\")\n",
    "    file.write(\"This is some more sample text.\\n\")\n",
    "\n",
    "# append some additional text to the same file\n",
    "with open(\"sample.txt\", \"a\") as file:\n",
    "    file.write(\"This is some additional text.\\n\")"
   ]
  },
  {
   "cell_type": "markdown",
   "id": "be333f95",
   "metadata": {},
   "source": [
    "In the above code, we first open the file \"sample.txt\" in write mode using the `with open()` statement. We then write some text to the file using the `write()` method. After we are done writing to the file, we close it using the `close()` method.\n",
    "\n",
    "Next, we open the same file again, this time in append mode. We use the with `open()` statement again, but this time we pass the argument `\"a\"` to the `mode` parameter. We then append some additional text to the file using the `write()` method, and again close the file using the `close()` method.\n",
    "\n",
    "Finally, to check that the file contains the text we wrote to it, we can open it in read mode using the `with open()` statement with the `\"r\"` mode argument, and print the contents of the file using the `read()` method:"
   ]
  },
  {
   "cell_type": "code",
   "execution_count": 2,
   "id": "4a27043b",
   "metadata": {},
   "outputs": [
    {
     "name": "stdout",
     "output_type": "stream",
     "text": [
      "This is some sample text.\n",
      "This is some more sample text.\n",
      "This is some additional text.\n",
      "\n"
     ]
    }
   ],
   "source": [
    "# read the contents of the file\n",
    "with open(\"sample.txt\", \"r\") as file:\n",
    "    contents = file.read()\n",
    "    print(contents)"
   ]
  },
  {
   "cell_type": "markdown",
   "id": "ec2e1048",
   "metadata": {},
   "source": [
    "### 18.3 File Handling in Python\n",
    "File handling is an essential part of working with data in Python. It allows us to store and access data in files on our computer. \n",
    "\n",
    "#### 18.3.1 The `tell()` function\n",
    "The `tell()` function returns the current position of the file pointer. The file pointer is a marker that points to a specific position in a file. It is used to indicate where the next read or write operation will take place.\n",
    "\n",
    "#### Example\n",
    "Let's consider the following code snippet:"
   ]
  },
  {
   "cell_type": "code",
   "execution_count": 3,
   "id": "ba042f62",
   "metadata": {},
   "outputs": [
    {
     "name": "stdout",
     "output_type": "stream",
     "text": [
      "0\n",
      "This is some sample text.\n",
      "\n",
      "27\n",
      "This is some more sample text.\n",
      "\n",
      "59\n"
     ]
    }
   ],
   "source": [
    "file_1 = open(\"sample.txt\")\n",
    "print(file_1.tell())\n",
    "print(file_1.readline())\n",
    "print(file_1.tell())\n",
    "print(file_1.readline())\n",
    "print(file_1.tell())\n",
    "file_1.close()\n"
   ]
  },
  {
   "cell_type": "raw",
   "id": "9df0f9f0",
   "metadata": {},
   "source": [
    "Here, we first open the \"sample.txt\" file and print the position of the file pointer using the `tell()` function. Then we read the first line of the file using the `readline()` function and print the position of the file pointer again. We do the same thing for the second line of the file. Finally, we close the file."
   ]
  },
  {
   "cell_type": "markdown",
   "id": "e7b4100b",
   "metadata": {},
   "source": [
    "#### 18.3.2 The `seek()` function\n",
    "The `seek()` function is used to change the position of the file pointer. It takes two arguments: the offset and the whence.\n",
    "\n",
    "#### Example\n",
    "Let's consider the following code snippet:"
   ]
  },
  {
   "cell_type": "code",
   "execution_count": 4,
   "id": "7706990e",
   "metadata": {},
   "outputs": [
    {
     "name": "stdout",
     "output_type": "stream",
     "text": [
      "This is some sample text.\n",
      "\n",
      "This is some sample text.\n",
      "\n"
     ]
    }
   ],
   "source": [
    "file_2 = open(\"sample.txt\")\n",
    "print(file_2.readline())\n",
    "file_2.seek(0)\n",
    "print(file_2.readline())\n"
   ]
  },
  {
   "cell_type": "raw",
   "id": "acad38af",
   "metadata": {},
   "source": [
    "Here, we first open the \"harry.txt\" file and read the first line of the file using the `readline()` function. Then we change the position of the file pointer to the beginning of the file using the `seek()` function with an offset of 0 and whence set to 0. Finally, we read the line again from the new position of the file pointer."
   ]
  },
  {
   "cell_type": "markdown",
   "id": "b922fe07",
   "metadata": {},
   "source": [
    "Note that the whence parameter can take the following values:\n",
    "\n",
    "- 0: the beginning of the file\n",
    "- 1: the current position\n",
    "- 2: the end of the file\n",
    "\n",
    "There are more functions for file handling in Python. Make sure to close the file after use, and also use the \"with\" statement to automatically close the file when the block is exited."
   ]
  },
  {
   "cell_type": "markdown",
   "id": "b68a6653",
   "metadata": {},
   "source": [
    "### 18.4 Using With Block to Open Python Files\n",
    "Opening and closing files in Python is a necessary step when working with files. The traditional way of opening and closing files requires the developer to open a file using the `open()` function and close the file using the `close()` function. However, this method can be prone to errors and mistakes, such as forgetting to close the file, which can lead to memory leaks and other issues. A better way to handle files in Python is by using the with statement.\n",
    "\n",
    "The `with` statement is a useful and recommended way to handle files in Python. It ensures that the file is closed properly when the block of code inside the `with` statement is executed, even if an exception occurs. The syntax for using the with statement is as follows:"
   ]
  },
  {
   "cell_type": "raw",
   "id": "63d2a8dc",
   "metadata": {},
   "source": [
    "with open(file_path, mode) as file_object:\n",
    "    # code block\n"
   ]
  },
  {
   "cell_type": "markdown",
   "id": "5fa8c96e",
   "metadata": {},
   "source": [
    "In this syntax, `file_path` is the path to the file you want to open, and `mode` is the mode in which the file is opened (read mode, write mode, append mode, etc.). The file object created by `open()` is assigned to `file_object`. The code block inside the with statement is where you can perform various file operations.\\\n",
    "\n",
    "#### Example Code\n",
    "\n",
    "Here's an example of how to use the with statement to read a file:"
   ]
  },
  {
   "cell_type": "code",
   "execution_count": 5,
   "id": "a8dfc535",
   "metadata": {},
   "outputs": [
    {
     "name": "stdout",
     "output_type": "stream",
     "text": [
      "This is some sample text.\n",
      "This is some more sample text.\n",
      "This is some additional text.\n",
      "\n"
     ]
    }
   ],
   "source": [
    "with open(\"sample.txt\") as file:\n",
    "    content = file.read()\n",
    "    print(content)"
   ]
  },
  {
   "cell_type": "markdown",
   "id": "16b96b53",
   "metadata": {},
   "source": [
    "In this example, the `with` statement is used to open the `sample.txt` file in read mode. The file object is created and assigned to the variable file. The contents of the file are read using the `read()` method, and then printed to the console using the `print()` function. Once the block of code inside the with statement is executed, the file is automatically closed.\n",
    "\n",
    "Note: Unlike the traditional way of opening and closing files, you don't need to manually close the file when using the `with` statement."
   ]
  },
  {
   "cell_type": "markdown",
   "id": "75628a47",
   "metadata": {},
   "source": [
    "## 19. Scope, Global Variables, Global Keywords\n",
    "In Python, scope refers to the region in a program where a particular variable is accessible. Python follows the LEGB (Local, Enclosing, Global, Built-in) rule for variable scoping. Global variables are the ones that are created outside a function and can be accessed by everyone. In contrast, local variables are only available or visible within the code's scope. In this notebook, we will discuss the concept of scope and global variables in Python, along with global keywords and nested functions.\n",
    "Global variable cannot be changed in the local scope as:\n",
    "### 19.1Global Variables and Scope\n",
    "Global variables are the variables that are created outside a function and can be accessed by everyone, both inside and outside of the function. For example, in the following code, `l` is a global variable."
   ]
  },
  {
   "cell_type": "code",
   "execution_count": 1,
   "id": "4e058a76",
   "metadata": {},
   "outputs": [
    {
     "name": "stdout",
     "output_type": "stream",
     "text": [
      "4\n"
     ]
    }
   ],
   "source": [
    "l = 4\n",
    "\n",
    "def my_function_1(k):\n",
    "    print(l)\n",
    "\n",
    "my_function_1(\"hello\")\n"
   ]
  },
  {
   "cell_type": "raw",
   "id": "dd9677c6",
   "metadata": {},
   "source": [
    "The above code will print the value of `l`, i.e., 4. However, if we try to modify the value of `l` inside the function, it will throw an error because we cannot change the global variable in locally defined scope."
   ]
  },
  {
   "cell_type": "markdown",
   "id": "ba329ab0",
   "metadata": {},
   "source": [
    "To modify the value of a global variable inside a function, we use the global keyword. The following code demonstrates the use of the global keyword to modify the global variable `l` inside the function."
   ]
  },
  {
   "cell_type": "code",
   "execution_count": 2,
   "id": "37e96da0",
   "metadata": {},
   "outputs": [
    {
     "name": "stdout",
     "output_type": "stream",
     "text": [
      "49\n",
      "49\n"
     ]
    }
   ],
   "source": [
    "l = 4\n",
    "\n",
    "def my_function_2(k):\n",
    "    global l\n",
    "    l = l+45\n",
    "    print(l)\n",
    "\n",
    "my_function_2(\"hello\")\n",
    "print(l)\n"
   ]
  },
  {
   "cell_type": "raw",
   "id": "94917eb5",
   "metadata": {},
   "source": [
    "The above code will first print the value of `l` after adding 45 to it, i.e., 49, and then print the modified value of `l` again, i.e., 49."
   ]
  },
  {
   "cell_type": "markdown",
   "id": "47f763e1",
   "metadata": {},
   "source": [
    "### 19.2 Nested Functions\n",
    "A function inside a function is called a nested function. Nested functions can access variables from the enclosing function, and if the enclosing function has access to global variables, the nested function can also access those global variables. For example, consider the following code:"
   ]
  },
  {
   "cell_type": "code",
   "execution_count": 3,
   "id": "4f3fdfb5",
   "metadata": {},
   "outputs": [
    {
     "name": "stdout",
     "output_type": "stream",
     "text": [
      "before calling rohan x= 20\n",
      "after calling rohan x= 20\n"
     ]
    }
   ],
   "source": [
    "def harry():\n",
    "    x = 20\n",
    "\n",
    "    def rohan():\n",
    "        global x\n",
    "        x = 88\n",
    "\n",
    "    print('before calling rohan x=', x)\n",
    "    rohan()\n",
    "    print('after calling rohan x=', x)\n",
    "\n",
    "harry()\n"
   ]
  },
  {
   "cell_type": "raw",
   "id": "cfb702ee",
   "metadata": {},
   "source": [
    "In the above code, `x` is a local variable inside the `harry()` function, and `rohan()` is a nested function inside the `harry()` function. The `rohan()` function modifies the value of the global variable `x` using the global keyword. The above code will first print the value of `x` before calling the `rohan()` function, i.e., 20, and then print the modified value of `x` after calling the `rohan()` function, i.e., 88.\n",
    "\n",
    "Note that the value of `x` is changed for the global scope and not just for the local scope."
   ]
  },
  {
   "cell_type": "markdown",
   "id": "94cf2d39",
   "metadata": {},
   "source": [
    "## 20. Recursion vs Iteration\n",
    "\n",
    "Recursion and iteration are two programming concepts that allow us to perform repetitive tasks. In this notebook, we will explore the difference between recursion and iteration and when to use them.\n",
    "\n",
    "### 20.1 Recursion\n",
    "Recursion is a way of programming in which a function calls itself until it reaches a satisfactory condition. It is useful when we have a simple program as it makes things simpler and requires less code to write.\n",
    "\n",
    "Here is an example of a recursive function that calculates the factorial of a number:"
   ]
  },
  {
   "cell_type": "code",
   "execution_count": 5,
   "id": "695e7617",
   "metadata": {},
   "outputs": [],
   "source": [
    "def factorial_recursive(n):\n",
    "    if n == 1:\n",
    "        return n\n",
    "    else:\n",
    "        return n * factorial_recursive(n-1)\n"
   ]
  },
  {
   "cell_type": "markdown",
   "id": "d7041c55",
   "metadata": {},
   "source": [
    "### 20.2 Iteration\n",
    "Iteration is a repeated execution of a set of statements. It is useful when we have a big and complex code as it is simpler to debug the code.\n",
    "\n",
    "Here is an example of an iterative function that calculates the factorial of a number:"
   ]
  },
  {
   "cell_type": "code",
   "execution_count": 6,
   "id": "a9e412c8",
   "metadata": {},
   "outputs": [],
   "source": [
    "def factorial_iterative(n):\n",
    "    fac = 1\n",
    "    for i in range(n):\n",
    "        fac = fac * (i+1)\n",
    "    return fac\n"
   ]
  },
  {
   "cell_type": "markdown",
   "id": "e4d48acf",
   "metadata": {},
   "source": [
    "## 21. Lambda Functions in Python\n",
    "\n",
    "Lambda functions, also known as anonymous functions, are functions that do not have any name. They are defined using the keyword lambda and are useful in situations where a small function is required for a short period of time. They are commonly used in functional programming, where they can be used as arguments for higher-order functions that accept other functions as input.\n",
    "\n",
    "Lambda functions are often used for single line expressions that do not require a separate function definition. The syntax of a lambda function is as follows:"
   ]
  },
  {
   "cell_type": "raw",
   "id": "b4ffe89a",
   "metadata": {},
   "source": [
    "lambda arguments: expression"
   ]
  },
  {
   "cell_type": "markdown",
   "id": "84d2c4a5",
   "metadata": {},
   "source": [
    "where `arguments` are the inputs to the function, and `expression` is the output of the function.\n",
    "\n",
    "Example:"
   ]
  },
  {
   "cell_type": "code",
   "execution_count": 9,
   "id": "f4ba4266",
   "metadata": {
    "scrolled": true
   },
   "outputs": [
    {
     "name": "stdout",
     "output_type": "stream",
     "text": [
      "12\n"
     ]
    }
   ],
   "source": [
    "multiply = lambda x, y: x * y\n",
    "print(multiply(3, 4))  # Output: 12"
   ]
  },
  {
   "cell_type": "raw",
   "id": "0ba3ec4b",
   "metadata": {},
   "source": [
    "In this example, we have defined a `lambda` function multiply that takes two arguments `x` and `y`, and returns their product."
   ]
  },
  {
   "cell_type": "markdown",
   "id": "306dd3c0",
   "metadata": {},
   "source": [
    "Lambda functions can also be used as arguments to higher-order functions like `map()`, `filter()`, and `reduce()`, which accept other functions as input.\n",
    "\n",
    "Example:"
   ]
  },
  {
   "cell_type": "code",
   "execution_count": 11,
   "id": "ab6c4f17",
   "metadata": {},
   "outputs": [
    {
     "name": "stdout",
     "output_type": "stream",
     "text": [
      "[1, 4, 9, 16, 25]\n"
     ]
    }
   ],
   "source": [
    "numbers = [1, 2, 3, 4, 5]\n",
    "squared_numbers = list(map(lambda x: x**2, numbers))\n",
    "print(squared_numbers)  # Output: [1, 4, 9, 16, 25]"
   ]
  },
  {
   "cell_type": "raw",
   "id": "7328ea13",
   "metadata": {},
   "source": [
    "In this example, we have used the `map()` function to apply the lambda function `lambda x: x**2` to each element of the list numbers, and return a new list containing the squared values."
   ]
  },
  {
   "cell_type": "markdown",
   "id": "74362fe5",
   "metadata": {},
   "source": [
    "Lambda functions can also be used to sort a list of elements based on a particular key or attribute. This is useful when you want to sort a list of complex data types based on a specific attribute or property.\n",
    "\n",
    "Example:"
   ]
  },
  {
   "cell_type": "code",
   "execution_count": 12,
   "id": "caee90ec",
   "metadata": {},
   "outputs": [
    {
     "name": "stdout",
     "output_type": "stream",
     "text": [
      "[{'name': 'Bob', 'grade': 'A', 'age': 19}, {'name': 'Alice', 'grade': 'B', 'age': 20}, {'name': 'Charlie', 'grade': 'C', 'age': 21}]\n"
     ]
    }
   ],
   "source": [
    "students = [    {'name': 'Alice', 'grade': 'B', 'age': 20},    {'name': 'Bob', 'grade': 'A', 'age': 19},    {'name': 'Charlie', 'grade': 'C', 'age': 21}]\n",
    "\n",
    "students.sort(key=lambda x: x['age'])\n",
    "print(students)\n"
   ]
  },
  {
   "cell_type": "raw",
   "id": "24e2cc1b",
   "metadata": {},
   "source": [
    "In this example, we have sorted a list of students based on their age using a lambda function as the key for sorting. The key parameter of the `sort()` function takes a function that returns the value to be used for sorting."
   ]
  },
  {
   "cell_type": "markdown",
   "id": "fcc68a82",
   "metadata": {},
   "source": [
    "Overall, lambda functions are useful for writing short, concise, and easy-to-read code. They are especially useful in functional programming, where functions are treated as first-class objects and can be passed around as arguments to other functions."
   ]
  },
  {
   "cell_type": "markdown",
   "id": "2a925076",
   "metadata": {},
   "source": [
    "## 22. Using Python External & Built-In Modules\n",
    "Python has a lot of built-in and external modules that can be used for various tasks. A module is a file containing Python definitions and statements. The file name is the module name with the suffix `.py`. A module can define functions, classes, and variables. In this slide, we will discuss how to use built-in and external modules in Python.\n",
    "\n",
    "### 22.1 Built-in Modules\n",
    "Python comes with a lot of built-in modules that provide many functionalities. We can import these modules using the `import` statement. Here are a few examples:\n",
    "\n",
    "#### 22.1.1 Random Module\n",
    "The `random` module provides various functions to generate random numbers. Here are some examples:"
   ]
  },
  {
   "cell_type": "code",
   "execution_count": 13,
   "id": "c28e9822",
   "metadata": {},
   "outputs": [
    {
     "name": "stdout",
     "output_type": "stream",
     "text": [
      "1\n",
      "0.3589772715452665\n",
      "Aaj Tak\n"
     ]
    }
   ],
   "source": [
    "import random\n",
    "\n",
    "# To generate a random integer between 0 and 5\n",
    "random_integer = random.randint(0, 5)\n",
    "print(random_integer)\n",
    "\n",
    "# To generate a random number between 0 and 1\n",
    "random_number = random.random()\n",
    "print(random_number)\n",
    "\n",
    "# To choose an element randomly from a list\n",
    "lst = ['Star Plus', 'DD1', 'Aaj Tak', 'CodeWithHarry']\n",
    "choice = random.choice(lst)\n",
    "print(choice)\n"
   ]
  },
  {
   "cell_type": "markdown",
   "id": "ace32ce6",
   "metadata": {},
   "source": [
    "#### 22.1.2. Math Module\n",
    "The `math` module provides various mathematical functions. Here are some examples:"
   ]
  },
  {
   "cell_type": "code",
   "execution_count": 14,
   "id": "eb818c30",
   "metadata": {},
   "outputs": [
    {
     "name": "stdout",
     "output_type": "stream",
     "text": [
      "2.0\n",
      "120\n"
     ]
    }
   ],
   "source": [
    "import math\n",
    "\n",
    "# To find the square root of a number\n",
    "sqrt = math.sqrt(4)\n",
    "print(sqrt)\n",
    "\n",
    "# To find the factorial of a number\n",
    "fact = math.factorial(5)\n",
    "print(fact)"
   ]
  },
  {
   "cell_type": "markdown",
   "id": "1db1f0a0",
   "metadata": {},
   "source": [
    "### 22.2. External Modules\n",
    "Apart from the built-in modules, Python also has external modules that need to be installed before using them. We can install external modules using the pip command. Here is an example:"
   ]
  },
  {
   "cell_type": "raw",
   "id": "bd918474",
   "metadata": {},
   "source": [
    "!pip install pandas"
   ]
  },
  {
   "cell_type": "markdown",
   "id": "1672b6bc",
   "metadata": {},
   "source": [
    "Once the module is installed, we can import it in our program and use it."
   ]
  },
  {
   "cell_type": "markdown",
   "id": "a4bead98",
   "metadata": {},
   "source": [
    "## 23. String Formatting\n",
    "\n",
    "String formatting is the process of creating a formatted string which is used to display output in a proper manner. It allows us to insert different variables and data types into a string in a specific order or format.\n",
    "\n",
    "The traditional method of string formatting"
   ]
  },
  {
   "cell_type": "code",
   "execution_count": 16,
   "id": "fe167c34",
   "metadata": {},
   "outputs": [
    {
     "name": "stdout",
     "output_type": "stream",
     "text": [
      "My name is John and I am 30 years old\n"
     ]
    }
   ],
   "source": [
    "name = 'John'\n",
    "age = 30\n",
    "print(\"My name is %s and I am %d years old\" % (name, age))"
   ]
  },
  {
   "cell_type": "markdown",
   "id": "99d2512a",
   "metadata": {},
   "source": [
    "Another method of string formatting using the format() method"
   ]
  },
  {
   "cell_type": "code",
   "execution_count": 18,
   "id": "77ce9737",
   "metadata": {},
   "outputs": [
    {
     "name": "stdout",
     "output_type": "stream",
     "text": [
      "My name is John and I am 30 years old\n"
     ]
    }
   ],
   "source": [
    "name = 'John'\n",
    "age = 30\n",
    "print(\"My name is {} and I am {} years old\".format(name, age))"
   ]
  },
  {
   "cell_type": "markdown",
   "id": "01c03d2f",
   "metadata": {},
   "source": [
    "### 23.1 String formatting using f-strings"
   ]
  },
  {
   "cell_type": "markdown",
   "id": "ac90aadd",
   "metadata": {},
   "source": [
    "f-strings or formatted string literals are a more concise and readable way to format strings. They start with the letter `f` and include expressions inside braces `{}`. The expressions are evaluated at runtime and the results are inserted into the string."
   ]
  },
  {
   "cell_type": "code",
   "execution_count": 19,
   "id": "7edba48b",
   "metadata": {},
   "outputs": [
    {
     "name": "stdout",
     "output_type": "stream",
     "text": [
      "My name is John and I am 30 years old\n"
     ]
    }
   ],
   "source": [
    "name = 'John'\n",
    "age = 30\n",
    "print(f\"My name is {name} and I am {age} years old\")"
   ]
  },
  {
   "cell_type": "markdown",
   "id": "6753d626",
   "metadata": {},
   "source": [
    "We can also perform operations inside the expressions"
   ]
  },
  {
   "cell_type": "code",
   "execution_count": 21,
   "id": "7261738e",
   "metadata": {},
   "outputs": [
    {
     "name": "stdout",
     "output_type": "stream",
     "text": [
      "The sum of 10 and 20 is 30\n"
     ]
    }
   ],
   "source": [
    "x = 10\n",
    "y = 20\n",
    "print(f\"The sum of {x} and {y} is {x+y}\")"
   ]
  },
  {
   "cell_type": "markdown",
   "id": "13089349",
   "metadata": {},
   "source": [
    "## 24. *args and **kwargs in Python\n",
    "\n",
    "In Python, `*args` and `**kwargs` are used to pass a variable number of arguments to a function. They allow you to pass a non-keyworded, variable-length argument list and a keyworded, variable-length argument list, respectively.\n",
    "\n",
    "### 24.1 *args\n",
    "`*args` is used to pass a variable number of arguments to a function. The name `args` is a convention, but you can use any name you like as long as it's preceded by an asterisk.\n",
    "\n",
    "### 24.2 **kwargs\n",
    "`**kwargs` is used to pass a keyworded, variable-length argument list. Again, the name `kwargs` is a convention, but you can use any name you like as long as it's preceded by two asterisks.\n",
    "\n",
    "#### Examples\n",
    "Let's look at some examples to see how `*args` and `**kwargs` work in practice."
   ]
  },
  {
   "cell_type": "code",
   "execution_count": 22,
   "id": "d0ec054c",
   "metadata": {},
   "outputs": [
    {
     "name": "stdout",
     "output_type": "stream",
     "text": [
      "apple\n",
      "banana\n",
      "cherry\n"
     ]
    }
   ],
   "source": [
    "def myfunc(*args):\n",
    "    for arg in args:\n",
    "        print(arg)\n",
    "        \n",
    "myfunc('apple', 'banana', 'cherry')\n"
   ]
  },
  {
   "cell_type": "markdown",
   "id": "ea0917de",
   "metadata": {},
   "source": [
    "In this example, we define a function `myfunc` that takes a variable number of arguments using `*args`. When we call myfunc with the arguments 'apple', 'banana', and 'cherry', it prints each argument on a separate line."
   ]
  },
  {
   "cell_type": "code",
   "execution_count": 23,
   "id": "5ece3a95",
   "metadata": {},
   "outputs": [
    {
     "name": "stdout",
     "output_type": "stream",
     "text": [
      "name: John\n",
      "age: 30\n",
      "city: New York\n"
     ]
    }
   ],
   "source": [
    "def myfunc(**kwargs):\n",
    "    for key, value in kwargs.items():\n",
    "        print(f\"{key}: {value}\")\n",
    "        \n",
    "myfunc(name='John', age=30, city='New York')\n"
   ]
  },
  {
   "cell_type": "markdown",
   "id": "1aba8e32",
   "metadata": {},
   "source": [
    "In this example, we define a function `myfunc` that takes a keyworded, variable-length argument list using `**kwargs`. When we call `myfunc` with the arguments `name='John'`, `age=30`, and `city='New York'`, it prints each argument in the format `<key>: <value>`."
   ]
  },
  {
   "cell_type": "code",
   "execution_count": 24,
   "id": "4ffbe3ac",
   "metadata": {},
   "outputs": [
    {
     "name": "stdout",
     "output_type": "stream",
     "text": [
      "arg1: first\n",
      "args: second\n",
      "args: third\n",
      "fruit: apple\n",
      "drink: water\n"
     ]
    }
   ],
   "source": [
    "def myfunc(arg1, *args, **kwargs):\n",
    "    print(f\"arg1: {arg1}\")\n",
    "    for arg in args:\n",
    "        print(f\"args: {arg}\")\n",
    "    for key, value in kwargs.items():\n",
    "        print(f\"{key}: {value}\")\n",
    "        \n",
    "myfunc('first', 'second', 'third', fruit='apple', drink='water')\n"
   ]
  },
  {
   "cell_type": "markdown",
   "id": "3fb23422",
   "metadata": {},
   "source": [
    "In this example, we define a function `myfunc` that takes a required argument `arg1`, a variable-length argument list using `*args`, and a keyworded, variable-length argument list using `**kwargs`. When we call myfunc with the arguments `'first'`, `'second'`, and `'third'` for `*args`, and `fruit='apple'` and `drink='water'` for `**kwargs`, it prints each argument in the appropriate format."
   ]
  },
  {
   "cell_type": "markdown",
   "id": "6f5a9182",
   "metadata": {},
   "source": [
    "## 25. Understanding the Time Module in Python\n",
    "\n",
    "The `time` module in Python is used to work with time-related tasks, such as calculating execution time, getting the current time, and creating delays in the program. This module provides various functions to manipulate time and extract information from it.\n",
    "\n",
    "### 25.1 Using the time module for measuring execution time\n",
    "\n",
    "To measure the execution time of a program or a function, we can use the `time()` function provided by the time module. We can store the value returned by this function at the start and end of the program, and then subtract the start time from the end time to get the execution time."
   ]
  },
  {
   "cell_type": "code",
   "execution_count": 25,
   "id": "8f4ea3de",
   "metadata": {},
   "outputs": [
    {
     "name": "stdout",
     "output_type": "stream",
     "text": [
      "Execution time: 0.06684470176696777 seconds\n"
     ]
    }
   ],
   "source": [
    "import time\n",
    "\n",
    "start_time = time.time()\n",
    "\n",
    "# code to be timed\n",
    "for i in range(1000000):\n",
    "    pass\n",
    "\n",
    "end_time = time.time()\n",
    "\n",
    "print(f\"Execution time: {end_time - start_time} seconds\")\n"
   ]
  },
  {
   "cell_type": "markdown",
   "id": "9915bd86",
   "metadata": {},
   "source": [
    "### 25.2 Getting the Current Time\n",
    "\n",
    "The time module provides the `localtime()` function to get the current local time. This function returns a tuple containing the current date and time. We can use the `asctime()` function to format the tuple into a more readable format."
   ]
  },
  {
   "cell_type": "code",
   "execution_count": 26,
   "id": "fbd13c69",
   "metadata": {},
   "outputs": [
    {
     "name": "stdout",
     "output_type": "stream",
     "text": [
      "Current time: Thu May 11 17:34:53 2023\n"
     ]
    }
   ],
   "source": [
    "import time\n",
    "\n",
    "current_time = time.localtime()\n",
    "formatted_time = time.asctime(current_time)\n",
    "\n",
    "print(f\"Current time: {formatted_time}\")\n"
   ]
  },
  {
   "cell_type": "markdown",
   "id": "895cf834",
   "metadata": {},
   "source": [
    "### 25.3 Creating Delays in the Program\n",
    "\n",
    "We can create a delay in the program using the `sleep()` function provided by the time module. The `sleep()` function takes the number of seconds for which the program should pause as an argument."
   ]
  },
  {
   "cell_type": "code",
   "execution_count": 27,
   "id": "f0e8bd6d",
   "metadata": {},
   "outputs": [
    {
     "name": "stdout",
     "output_type": "stream",
     "text": [
      "Executing task...\n",
      "Executing task...\n",
      "Executing task...\n",
      "Executing task...\n",
      "Executing task...\n"
     ]
    }
   ],
   "source": [
    "import time\n",
    "\n",
    "for i in range(5):\n",
    "    print(\"Executing task...\")\n",
    "    time.sleep(2)\n"
   ]
  },
  {
   "cell_type": "markdown",
   "id": "816d0d0d",
   "metadata": {},
   "source": [
    "This code will print \"Executing task...\" every 2 seconds for 5 times."
   ]
  },
  {
   "cell_type": "markdown",
   "id": "00332296",
   "metadata": {},
   "source": [
    "## 24. Creating and Using Virtual Environments in Python\n",
    "\n",
    "When working on different projects, sometimes it may be necessary to have different versions of the same library or package installed, or even different versions of Python itself. In order to manage these dependencies, virtual environments can be created. A virtual environment is a self-contained directory tree that contains a Python installation for a specific version of Python and its associated packages.\n",
    "\n",
    "### 24.1 Creating a Virtual Environment\n",
    "To create a virtual environment, we can use the package `virtualenv` which can be installed using the command `pip install virtualenv`. After installation, we can create a new virtual environment with the desired name using the command `virtualenv <name>`.\n",
    "\n",
    "### 24.2 Activating a Virtual Environment\n",
    "Before using the virtual environment, we need to activate it using the appropriate command based on the operating system. For Windows, the command is `.\\<name>\\Scripts\\activate`, while for Unix-based systems, the command is source `<name>/bin/activate`.\n",
    "\n",
    "### 24.3 Installing Packages in a Virtual Environment\n",
    "Once the virtual environment is activated, we can use `pip` to install packages specific to that environment. For example, `pip install numpy` will install numpy in the active virtual environment.\n",
    "\n",
    "### 24.4 Listing Installed Packages\n",
    "We can view a list of all the installed packages in the virtual environment using the command `pip freeze`. This command will list all the packages with their version numbers.\n",
    "\n",
    "### 24.5 Deactivating a Virtual Environment\n",
    "To exit the virtual environment, we can use the command `deactivate` which will deactivate the current virtual environment.\n",
    "\n",
    "### 24.6 Creating a Requirements File\n",
    "In order to share the dependencies required for a particular project, we can create a `requirements.txt` file that lists all the dependencies and their respective versions. This file can be created using the command `pip freeze > requirements.txt`.\n",
    "\n",
    "### 24.7 Installing Packages from a Requirements File\n",
    "To install all the dependencies at once, we can use the command `pip install -r requirements.txt` which will install all the packages listed in the `requirements.txt` file.\n",
    "\n",
    "### 24.8 Creating a Virtual Environment with System Site Packages\n",
    "In some cases, it may be necessary to include all the system-level installed packages in the virtual environment. To create a virtual environment with system site packages included, we can use the command `virtualenv --system-site-packages <name>`."
   ]
  },
  {
   "cell_type": "markdown",
   "id": "d7f6a9e4",
   "metadata": {},
   "source": [
    "## 25. Enumerate Function\n",
    "\n",
    "The `enumerate()` function in Python is a built-in function that provides an iterable of tuples. Each tuple in the iterable contains an index value and the corresponding value from the iterable passed as an argument.\n",
    "\n",
    "#### Syntax\n",
    "The syntax for using `enumerate()` function is as follows:"
   ]
  },
  {
   "cell_type": "raw",
   "id": "16cd37f0",
   "metadata": {},
   "source": [
    "enumerate(iterable, start=0)"
   ]
  },
  {
   "cell_type": "markdown",
   "id": "306579d0",
   "metadata": {},
   "source": [
    "- `iterable` : This is the iterable to be enumerated.\n",
    "- `start` : This is the value from where the indexing will start. Default is 0."
   ]
  },
  {
   "cell_type": "markdown",
   "id": "6d144181",
   "metadata": {},
   "source": [
    "#### Example\n",
    "Here's an example of using the `enumerate()` function:"
   ]
  },
  {
   "cell_type": "code",
   "execution_count": 30,
   "id": "37b1a67f",
   "metadata": {},
   "outputs": [
    {
     "name": "stdout",
     "output_type": "stream",
     "text": [
      "The fruit at index 0 is Apple\n",
      "The fruit at index 1 is Banana\n",
      "The fruit at index 2 is Mango\n",
      "The fruit at index 3 is Pineapple\n",
      "The fruit at index 4 is Grapes\n"
     ]
    }
   ],
   "source": [
    "fruits = ['Apple', 'Banana', 'Mango', 'Pineapple', 'Grapes']\n",
    "\n",
    "for index, fruit in enumerate(fruits):\n",
    "    print(f\"The fruit at index {index} is {fruit}\")\n"
   ]
  },
  {
   "cell_type": "markdown",
   "id": "d8da51d6",
   "metadata": {},
   "source": [
    "In the above example, the `enumerate()` function returns an iterable of tuples, where each tuple contains an index value and the corresponding fruit name from the list.\n",
    "\n",
    "We can also pass the start argument to the `enumerate()` function to start the index from a value other than 0. Here's an example:"
   ]
  },
  {
   "cell_type": "code",
   "execution_count": 31,
   "id": "9f3c3211",
   "metadata": {},
   "outputs": [
    {
     "name": "stdout",
     "output_type": "stream",
     "text": [
      "1. Apple\n",
      "2. Banana\n",
      "3. Mango\n",
      "4. Pineapple\n",
      "5. Grapes\n"
     ]
    }
   ],
   "source": [
    "fruits = ['Apple', 'Banana', 'Mango', 'Pineapple', 'Grapes']\n",
    "\n",
    "for index, fruit in enumerate(fruits, start=1):\n",
    "    print(f\"{index}. {fruit}\")\n"
   ]
  },
  {
   "cell_type": "markdown",
   "id": "f0aa55e9",
   "metadata": {},
   "source": [
    "In this example, we started the index from 1 by passing `start=1` argument to the `enumerate()` function."
   ]
  },
  {
   "cell_type": "markdown",
   "id": "62c79b03",
   "metadata": {},
   "source": [
    "### 25.1 Usage\n",
    "The `enumerate()` function is commonly used in loops where we need to access both the index value and the corresponding value from the iterable.\n",
    "\n",
    "Here's an example of using the `enumerate()` function to print the items of a list at even indices:"
   ]
  },
  {
   "cell_type": "code",
   "execution_count": 32,
   "id": "1e5d54d0",
   "metadata": {},
   "outputs": [
    {
     "name": "stdout",
     "output_type": "stream",
     "text": [
      "Please buy Bhindi\n",
      "Please buy chopsticks\n"
     ]
    }
   ],
   "source": [
    "l1 = ['Bhindi', 'Aloo', 'chopsticks', 'chowmein']\n",
    "\n",
    "for index, item in enumerate(l1): \n",
    "    if index % 2 == 0:\n",
    "        print(f'Please buy {item}')\n"
   ]
  },
  {
   "cell_type": "markdown",
   "id": "7246af7f",
   "metadata": {},
   "source": [
    "In this example, we used the `enumerate()` function to access both the index value and the corresponding item from the list `l1`. Then we checked if the index value is even, and printed the corresponding item from the list."
   ]
  },
  {
   "cell_type": "markdown",
   "id": "abdfa819",
   "metadata": {},
   "source": [
    "## 26. Importing modules and variables in Python\n",
    "\n",
    "In Python, modules are files containing Python code, and they define functions, classes, and variables that are used in other Python files. To use a module in your code, you need to `import` it into your file. The import statement is used to do this.\n",
    "\n",
    "### 26.1 Importing Modules\n",
    "#### 26.1.1 Using the import Statement\n",
    "The import statement is used to import a module. The general syntax for using the import statement is:"
   ]
  },
  {
   "cell_type": "raw",
   "id": "7c4bb0ad",
   "metadata": {},
   "source": [
    "import module_name"
   ]
  },
  {
   "cell_type": "markdown",
   "id": "a62b92ba",
   "metadata": {},
   "source": [
    "This will import the entire module, and you can access the functions, classes, and variables defined in the module using the dot notation."
   ]
  },
  {
   "cell_type": "code",
   "execution_count": 33,
   "id": "402aeb71",
   "metadata": {},
   "outputs": [
    {
     "name": "stdout",
     "output_type": "stream",
     "text": [
      "3.141592653589793\n"
     ]
    }
   ],
   "source": [
    "import math\n",
    "print(math.pi)"
   ]
  },
  {
   "cell_type": "markdown",
   "id": "031174b4",
   "metadata": {},
   "source": [
    "#### 26.1.2 Using the from...import Statement\n",
    "Another way to import a module is to use the `from...import statement`. This allows you to import specific functions or variables from a module, instead of importing the entire module."
   ]
  },
  {
   "cell_type": "code",
   "execution_count": 34,
   "id": "8c8e2e6e",
   "metadata": {},
   "outputs": [
    {
     "name": "stdout",
     "output_type": "stream",
     "text": [
      "3.141592653589793\n"
     ]
    }
   ],
   "source": [
    "from math import pi\n",
    "print(pi)"
   ]
  },
  {
   "cell_type": "markdown",
   "id": "74aa06c7",
   "metadata": {},
   "source": [
    "### 26.2 Renaming Modules\n",
    "You can also rename a module when you import it using the `as` keyword. This is useful when the name of the module is too long or conflicts with another name in your code."
   ]
  },
  {
   "cell_type": "code",
   "execution_count": 35,
   "id": "7d211594",
   "metadata": {},
   "outputs": [],
   "source": [
    "import numpy as np"
   ]
  },
  {
   "cell_type": "markdown",
   "id": "683d6fb2",
   "metadata": {},
   "source": [
    "### 26.3 Importing Variables\n",
    "#### 26.3.1 Accessing Variables in a Module\n",
    "Variables defined in a module can be accessed using the dot notation after importing the module."
   ]
  },
  {
   "cell_type": "code",
   "execution_count": null,
   "id": "ffe3a0aa",
   "metadata": {},
   "outputs": [],
   "source": [
    "import file_2\n",
    "print(file_2.a)"
   ]
  },
  {
   "cell_type": "markdown",
   "id": "15f47e38",
   "metadata": {},
   "source": [
    "#### 26.3.2 Importing Variables Directly\n",
    "You can also import variables directly from a module using the from...import statement."
   ]
  },
  {
   "cell_type": "code",
   "execution_count": null,
   "id": "bca63797",
   "metadata": {},
   "outputs": [],
   "source": [
    "from file_2 import a\n",
    "print(a)"
   ]
  },
  {
   "cell_type": "markdown",
   "id": "ce058020",
   "metadata": {},
   "source": [
    "#### 26.3.3 Changing Variables in a Module\n",
    "When you import a variable from a module, you are creating a reference to that variable. This means that you can change the value of the variable in the module from your code."
   ]
  },
  {
   "cell_type": "code",
   "execution_count": null,
   "id": "5c963a99",
   "metadata": {},
   "outputs": [],
   "source": [
    "file_2.a = 'hello'\n",
    "print(file_2.a)"
   ]
  },
  {
   "cell_type": "markdown",
   "id": "c9671261",
   "metadata": {},
   "source": [
    "### 26.4 Importing Functions\n",
    "#### 26.4.1 Accessing Functions in a Module\n",
    "Functions defined in a module can be accessed using the dot notation after importing the module."
   ]
  },
  {
   "cell_type": "code",
   "execution_count": null,
   "id": "07edfb16",
   "metadata": {},
   "outputs": [],
   "source": [
    "import file_2\n",
    "file_2.printjoke(\"This is me\")"
   ]
  },
  {
   "cell_type": "markdown",
   "id": "343cf685",
   "metadata": {},
   "source": [
    "#### 26.4.2 Importing Functions Directly\n",
    "You can also import functions directly from a module using the `from...import` statement."
   ]
  },
  {
   "cell_type": "code",
   "execution_count": null,
   "id": "49d65f07",
   "metadata": {},
   "outputs": [],
   "source": [
    "from file_2 import printjoke\n",
    "printjoke(\"This is me\")"
   ]
  },
  {
   "cell_type": "markdown",
   "id": "dc9c37eb",
   "metadata": {},
   "source": [
    "## 27.  Importance of if `name == 'main'` in Python\n",
    "\n",
    "In Python, every module has a special built-in attribute called `name`. When the interpreter reads a source file, it first sets this `name` variable to `\"main\"` if the module being executed is the main program. If the file is being imported from another module, then `name` is set to the module's name."
   ]
  },
  {
   "cell_type": "code",
   "execution_count": 1,
   "id": "c6ec28cd",
   "metadata": {},
   "outputs": [
    {
     "name": "stdout",
     "output_type": "stream",
     "text": [
      "__name__ value is __main__\n",
      "The program is being executed as the main program\n",
      "The product of 4 and 5 is 20\n",
      "The sum of 4 and 5 is 9\n"
     ]
    }
   ],
   "source": [
    "def multiply_numbers(num1, num2):\n",
    "    return num1 * num2\n",
    "\n",
    "def add_numbers(num1, num2):\n",
    "    return num1 + num2\n",
    "\n",
    "print(f\"__name__ value is {__name__}\")\n",
    "\n",
    "if __name__ == '__main__':\n",
    "    print(\"The program is being executed as the main program\")\n",
    "    print(f\"The product of 4 and 5 is {multiply_numbers(4,5)}\")\n",
    "    print(f\"The sum of 4 and 5 is {add_numbers(4,5)}\")\n",
    "else:\n",
    "    print(\"The program is being executed as an imported module\")\n"
   ]
  },
  {
   "cell_type": "markdown",
   "id": "473b4078",
   "metadata": {},
   "source": [
    "In the above code, we have defined two functions `multiply_numbers` and `add_numbers`, and printed the value of `__name__`. Then we have used the if `name == 'main'`: condition to specify which code should be executed when this script is run as the main program and which code should be executed when it is imported as a module into another script.\n",
    "\n",
    "We use `if __name__ == '__main__'`: condition to prevent the execution of some code when the module is imported. If we don't use this condition, then all the code will be executed whenever the module is imported. This can cause unexpected results."
   ]
  },
  {
   "cell_type": "code",
   "execution_count": null,
   "id": "717cae90",
   "metadata": {},
   "outputs": [],
   "source": [
    "import my_module\n",
    "\n",
    "print(my_module.add_numbers(4,5))\n",
    "print(my_module.multiply_numbers(4,5))"
   ]
  },
  {
   "cell_type": "markdown",
   "id": "15f385c2",
   "metadata": {},
   "source": [
    "Here, we are importing the module `my_module` which contains the functions `add_numbers` and `multiply_numbers`. If the module `my_module` does not use the if `name == 'main'`: condition, then all the code in that module will be executed when we import it. This is not desirable because we might only want to use the functions defined in that module, and not execute any other code.\n",
    "\n",
    "Therefore, it is good practice to always use the if `name == 'main'`: condition in Python modules."
   ]
  },
  {
   "cell_type": "markdown",
   "id": "9c263cc7",
   "metadata": {},
   "source": [
    "## 28. Python Join Function\n",
    "\n",
    "In Python, `join()` is a string method that is used to concatenate a list or tuple of strings. It returns a string in which the elements of the sequence are joined by a specified separator string.\n",
    "\n",
    "### 28.1 Syntax"
   ]
  },
  {
   "cell_type": "raw",
   "id": "f71c7996",
   "metadata": {},
   "source": [
    "separator.join(iterable)"
   ]
  },
  {
   "cell_type": "markdown",
   "id": "e49667cd",
   "metadata": {},
   "source": [
    "- `separator`: It is a string used to separate the items in the sequence.\n",
    "- `iterable`: It is a sequence of items that you want to join."
   ]
  },
  {
   "cell_type": "markdown",
   "id": "06f41c0b",
   "metadata": {},
   "source": [
    "#### Example\n",
    "Let's say we have a list of strings and we want to join them with a comma separator:"
   ]
  },
  {
   "cell_type": "code",
   "execution_count": 3,
   "id": "63624725",
   "metadata": {},
   "outputs": [
    {
     "name": "stdout",
     "output_type": "stream",
     "text": [
      "Alice, Bob, Charlie\n"
     ]
    }
   ],
   "source": [
    "names = [\"Alice\", \"Bob\", \"Charlie\"]\n",
    "joined_names = \", \".join(names)\n",
    "print(joined_names)"
   ]
  },
  {
   "cell_type": "markdown",
   "id": "2bf7f587",
   "metadata": {},
   "source": [
    "#### Code Example"
   ]
  },
  {
   "cell_type": "code",
   "execution_count": 4,
   "id": "4a47c9be",
   "metadata": {},
   "outputs": [
    {
     "name": "stdout",
     "output_type": "stream",
     "text": [
      "I like to eat Apple, Banana, Mango, Orange\n"
     ]
    }
   ],
   "source": [
    "fruits = ['Apple', 'Banana', 'Mango', 'Orange']\n",
    "separator = ', '\n",
    "joined_fruits = separator.join(fruits)\n",
    "print(\"I like to eat\", joined_fruits)"
   ]
  },
  {
   "cell_type": "markdown",
   "id": "c284fa5e",
   "metadata": {},
   "source": [
    "Join function is a useful string method in Python that allows us to concatenate a list or tuple of strings with a specified separator string. It is often used when we want to display a list of items in a more readable and user-friendly format."
   ]
  },
  {
   "cell_type": "markdown",
   "id": "32cfe461",
   "metadata": {},
   "source": [
    "## 29. Map, Filter, and Reduce in Python\n",
    "Python provides several built-in functions such as `map()`, `filter()`, and `reduce()` that allow for efficient and concise coding. These functions are used to perform operations on lists or other iterable objects. In this slide, we will discuss each of these functions with the help of examples.\n",
    "\n",
    "### 29.1 Map Function\n",
    "The `map()` function is used to apply a function to each element of an iterable object, such as a list or a tuple. It returns an iterator object that can be converted into a list or tuple. The basic syntax of the map function is:"
   ]
  },
  {
   "cell_type": "raw",
   "id": "92f0d98e",
   "metadata": {},
   "source": [
    "map(function, iterable)"
   ]
  },
  {
   "cell_type": "markdown",
   "id": "dec511bf",
   "metadata": {},
   "source": [
    "Here, `function` is the function that is applied to each element of the `iterable` object.\n",
    "\n",
    "#### Example:"
   ]
  },
  {
   "cell_type": "code",
   "execution_count": 5,
   "id": "ed623003",
   "metadata": {},
   "outputs": [
    {
     "name": "stdout",
     "output_type": "stream",
     "text": [
      "[4, 9, 25, 36, 5776, 9, 9, 4]\n"
     ]
    }
   ],
   "source": [
    "# using lambda function with map to get the square of each element of a list\n",
    "num_list = [2,3,5,6,76,3,3,2]\n",
    "square_list = list(map(lambda x: x*x, num_list))\n",
    "print(square_list)"
   ]
  },
  {
   "cell_type": "markdown",
   "id": "b1f477a4",
   "metadata": {},
   "source": [
    "### 29.2 Filter Function\n",
    "The `filter()` function is used to filter out elements from an iterable object that do not satisfy a particular condition. It takes a function and an iterable object as arguments and returns an iterator object that can be converted into a list or tuple. The basic syntax of the filter function is:"
   ]
  },
  {
   "cell_type": "raw",
   "id": "36393e4e",
   "metadata": {},
   "source": [
    "filter(function, iterable)"
   ]
  },
  {
   "cell_type": "markdown",
   "id": "2ebbc900",
   "metadata": {},
   "source": [
    "Here, `function` is the function that tests each element of the `iterable` object.\n",
    "\n",
    "#### Example:"
   ]
  },
  {
   "cell_type": "code",
   "execution_count": 6,
   "id": "e701ace0",
   "metadata": {},
   "outputs": [
    {
     "name": "stdout",
     "output_type": "stream",
     "text": [
      "[6, 7, 8, 9, 10, 11]\n"
     ]
    }
   ],
   "source": [
    "# using filter function to get all elements greater than 5 from a list\n",
    "lst = [1,2,3,4,5,6,7,8,9,10,11]\n",
    "greater_5 = list(filter(lambda x: x>5, lst))\n",
    "print(greater_5)"
   ]
  },
  {
   "cell_type": "markdown",
   "id": "a67ae0fd",
   "metadata": {},
   "source": [
    "### 29.3 Reduce Function\n",
    "The `reduce()` function is used to reduce an iterable object, such as a list, to a single value by applying a function to each element. It takes a function and an iterable object as arguments and returns a single value. The basic syntax of the reduce function is:"
   ]
  },
  {
   "cell_type": "raw",
   "id": "994c65d3",
   "metadata": {},
   "source": [
    "reduce(function, iterable)"
   ]
  },
  {
   "cell_type": "markdown",
   "id": "edfa3f75",
   "metadata": {},
   "source": [
    "Here, `function` is the function that is applied to each element of the `iterable` object."
   ]
  },
  {
   "cell_type": "code",
   "execution_count": 7,
   "id": "84a27ce6",
   "metadata": {},
   "outputs": [
    {
     "name": "stdout",
     "output_type": "stream",
     "text": [
      "55\n"
     ]
    }
   ],
   "source": [
    "# using reduce function to get the sum of all elements of a list\n",
    "from functools import reduce\n",
    "lst_2 = [1,2,3,4,5,6,7,8,9,10]\n",
    "sum_list = reduce(lambda x,y: x+y, lst_2)\n",
    "print(sum_list)"
   ]
  },
  {
   "cell_type": "markdown",
   "id": "59cacb34",
   "metadata": {},
   "source": [
    "## 30. Decorators in Python\n",
    "Decorators in Python are functions that modify the behavior of another function without modifying its source code. In other words, decorators allow you to add functionality to an existing function by wrapping it with another function. This is useful when you want to modify the behavior of a function without changing its source code, or when you want to apply the same behavior to multiple functions.\n",
    "\n",
    "\n",
    "### 30.1 Creating a Simple Decorator\n",
    "Let's create a simple decorator that adds a prefix and suffix to a function's output. We can define the decorator function `add_prefix_suffix` as follows:"
   ]
  },
  {
   "cell_type": "code",
   "execution_count": 8,
   "id": "5f977d79",
   "metadata": {},
   "outputs": [],
   "source": [
    "def add_prefix_suffix(func):\n",
    "    def wrapper():\n",
    "        print(\"Prefix\")\n",
    "        func()\n",
    "        print(\"Suffix\")\n",
    "    return wrapper"
   ]
  },
  {
   "cell_type": "markdown",
   "id": "26c9538a",
   "metadata": {},
   "source": [
    "Here, the `add_prefix_suffix` function takes another function `func` as an argument, and defines a new function `wrapper` inside it. The `wrapper` function adds a prefix and suffix to the output of `func`. Finally, the `wrapper` function is returned.\n",
    "\n",
    "We can use this decorator to modify the behavior of any function by applying the decorator to it using the `@` symbol. For example, we can define a function `greet` and apply the `add_prefix_suffix` decorator to it as follows:"
   ]
  },
  {
   "cell_type": "code",
   "execution_count": 9,
   "id": "497c99bf",
   "metadata": {},
   "outputs": [],
   "source": [
    "@add_prefix_suffix\n",
    "def greet():\n",
    "    print(\"Hello, World!\")"
   ]
  },
  {
   "cell_type": "markdown",
   "id": "e0186d04",
   "metadata": {},
   "source": [
    "When we call the `greet` function, it will output:"
   ]
  },
  {
   "cell_type": "raw",
   "id": "754be7ba",
   "metadata": {},
   "source": [
    "Prefix\n",
    "Hello, World!\n",
    "Suffix"
   ]
  },
  {
   "cell_type": "markdown",
   "id": "8f65c24f",
   "metadata": {},
   "source": [
    "### 30.2 Creating a Decorator with Arguments\n",
    "We can also create decorators that take arguments. Let's create a decorator `repeat` that repeats a function's output a specified number of times. We can define the decorator function `repeat` as follows:"
   ]
  },
  {
   "cell_type": "code",
   "execution_count": 11,
   "id": "4939aa3a",
   "metadata": {},
   "outputs": [],
   "source": [
    "def repeat(num):\n",
    "    def decorator(func):\n",
    "        def wrapper():\n",
    "            for i in range(num):\n",
    "                func()\n",
    "        return wrapper\n",
    "    return decorator"
   ]
  },
  {
   "cell_type": "markdown",
   "id": "2a4f6729",
   "metadata": {},
   "source": [
    "Here, the `repeat` function takes an integer `num` as an argument, and defines a new function `decorator` inside it. The `decorator` function takes another function `func` as an argument, and defines a new function `wrapper` inside it. The `wrapper` function repeats the output of `func` `num` times. Finally, the `decorator` function is returned.\n",
    "\n",
    "We can use this decorator to modify the behavior of any function by applying the decorator to it with the desired number of repetitions. For example, we can define a function `hello` and apply the `repeat` decorator to it with `num=3` as follows:"
   ]
  },
  {
   "cell_type": "code",
   "execution_count": 12,
   "id": "ba4f7d90",
   "metadata": {},
   "outputs": [],
   "source": [
    "@repeat(num=3)\n",
    "def hello():\n",
    "    print(\"Hello!\")"
   ]
  },
  {
   "cell_type": "markdown",
   "id": "def603ac",
   "metadata": {},
   "source": [
    "When we call the `hello` function, it will output:"
   ]
  },
  {
   "cell_type": "raw",
   "id": "15058d1c",
   "metadata": {},
   "source": [
    "Hello!\n",
    "Hello!\n",
    "Hello!"
   ]
  },
  {
   "cell_type": "markdown",
   "id": "d30f1c2c",
   "metadata": {},
   "source": [
    "Decorators are a powerful feature in Python that allow you to modify the behavior of a function without changing its source code. You can use decorators to add functionality to existing functions, and create reusable code that can be applied to multiple functions."
   ]
  },
  {
   "cell_type": "markdown",
   "id": "d77e77a5",
   "metadata": {},
   "source": [
    "## 31. Classes & Objects (OOPS)\n",
    "\n",
    "Object-oriented programming (OOP) is a programming paradigm that uses objects to design applications and computer programs. In OOP, a class is a blueprint or template for creating objects, and objects are instances of a class.\n",
    "\n",
    "The main reason for using classes and objects is to create reusable code that can be easily maintained and modified. This approach follows the DRY (Don't Repeat Yourself) principle and helps in saving time and effort.\n",
    "\n",
    "A class encapsulates data and methods that operate on that data. Data is represented as class attributes, while methods are represented as class functions. When an object is created, it gets its own copy of the data and can call the methods of its class to manipulate that data.\n",
    "\n",
    "One of the key features of OOP is encapsulation, which is the ability to hide data and methods from outside access. This is achieved in Python by using access modifiers such as private, protected, and public.\n",
    "\n",
    "Inheritance is another important aspect of OOP. It allows you to create a new class based on an existing one, inheriting all of its attributes and methods. The new class can then add its own attributes and methods, and can also override or extend the inherited ones.\n",
    "\n",
    "Polymorphism is also a fundamental concept of OOP. It refers to the ability of objects of different classes to be used interchangeably. This is achieved through the use of inheritance and interfaces, which define common behavior for different classes.\n",
    "\n",
    "Overall, OOP provides a powerful and flexible way to design software systems, making them easier to understand, maintain, and extend."
   ]
  },
  {
   "cell_type": "markdown",
   "id": "523ca74f",
   "metadata": {},
   "source": [
    "### 31.1 Creating and using Classes & Objects (OOPS)\n",
    "Object-oriented programming is a programming paradigm that uses objects to represent real-world entities. A class is like a blueprint for creating objects. Each object created using the same class shares the same attributes and methods.\n",
    "\n",
    "#### 31.1.1 Creating a Class\n",
    "To create a class, we use the keyword `class` followed by the name of the class. It is a good practice to use the first letter of each word capitalized when naming a class. For example:"
   ]
  },
  {
   "cell_type": "code",
   "execution_count": 14,
   "id": "750ae2b8",
   "metadata": {},
   "outputs": [],
   "source": [
    "class Car:\n",
    "    pass"
   ]
  },
  {
   "cell_type": "markdown",
   "id": "85229981",
   "metadata": {},
   "source": [
    "#### 31.1.2 Creating Objects from a Class\n",
    "Once we have created a class, we can create an object or instance of that class using the class name followed by parentheses. For example:"
   ]
  },
  {
   "cell_type": "code",
   "execution_count": 15,
   "id": "bbd50322",
   "metadata": {},
   "outputs": [],
   "source": [
    "my_car = Car()"
   ]
  },
  {
   "cell_type": "markdown",
   "id": "0f45605e",
   "metadata": {},
   "source": [
    "#### 31.1.3 Adding Attributes to Objects\n",
    "We can add attributes to an object by simply assigning values to them. For example:"
   ]
  },
  {
   "cell_type": "code",
   "execution_count": 19,
   "id": "7cb1ef23",
   "metadata": {},
   "outputs": [],
   "source": [
    "my_car.color = \"Red\"\n",
    "my_car.make = \"Ford\""
   ]
  },
  {
   "cell_type": "markdown",
   "id": "e6c8ca0a",
   "metadata": {},
   "source": [
    "#### 31.1.4 Adding Methods to Objects\n",
    "Methods are functions that are defined inside a class. They are used to perform specific actions on the object created from the class. We can define methods in a class using the `def` keyword. For example:"
   ]
  },
  {
   "cell_type": "code",
   "execution_count": 25,
   "id": "320087a7",
   "metadata": {},
   "outputs": [],
   "source": [
    "class Car:\n",
    "    def start_engine(self):\n",
    "        print(\"Engine started!\")"
   ]
  },
  {
   "cell_type": "markdown",
   "id": "93e42526",
   "metadata": {},
   "source": [
    "#### 31.1.5 Accessing Object Attributes and Methods\n",
    "To access the attributes and methods of an object, we use the dot notation. For example:"
   ]
  },
  {
   "cell_type": "code",
   "execution_count": null,
   "id": "ac2f7003",
   "metadata": {},
   "outputs": [],
   "source": [
    "my_car.color  # accessing attribute\n",
    "my_car.start_engine()  # calling method"
   ]
  },
  {
   "cell_type": "markdown",
   "id": "f893fb40",
   "metadata": {},
   "source": [
    "### 31.2 Instance and Class Variables in Python\n",
    "In Python, a class is a blueprint for creating objects, which contain methods and attributes. In Python, we have two types of variables, instance variables and class variables. Instance variables are variables whose value is unique to each instance of a class, while class variables are variables that are shared among all instances of a class.\n",
    "#### Code:\n",
    "Here is an example code demonstrating the use of instance and class variables:"
   ]
  },
  {
   "cell_type": "code",
   "execution_count": 27,
   "id": "2e22796f",
   "metadata": {},
   "outputs": [
    {
     "name": "stdout",
     "output_type": "stream",
     "text": [
      "8\n",
      "9\n",
      "9\n",
      "12\n",
      "9\n",
      "{'name': 'Rohan', 'salary': 4500, 'role': 'Student', 'no_of_leaves': 12}\n",
      "{'name': 'Harry', 'salary': 45500, 'role': 'Instructor'}\n",
      "{'__module__': '__main__', 'no_of_leaves': 9, '__init__': <function Employee.__init__ at 0x000001DC13F836D0>, '__dict__': <attribute '__dict__' of 'Employee' objects>, '__weakref__': <attribute '__weakref__' of 'Employee' objects>, '__doc__': None}\n"
     ]
    }
   ],
   "source": [
    "class Employee:\n",
    "    no_of_leaves = 8 # this is a class variable\n",
    "    def __init__(self, name, salary, role):\n",
    "        self.name = name # these are instance variables\n",
    "        self.salary = salary\n",
    "        self.role = role\n",
    "        \n",
    "harry = Employee('Harry', 45500, 'Instructor')\n",
    "rohan = Employee('Rohan', 4500, 'Student')\n",
    "\n",
    "print(Employee.no_of_leaves) # access class variable using class name\n",
    "Employee.no_of_leaves = 9 # changing class variable using class name\n",
    "print(Employee.no_of_leaves)\n",
    "\n",
    "print(rohan.no_of_leaves) # accessing instance variable using object name\n",
    "rohan.no_of_leaves = 12 # changing instance variable using object name\n",
    "print(rohan.no_of_leaves)\n",
    "print(Employee.no_of_leaves) # no effect on class variable by changing instance variable\n",
    "\n",
    "print(rohan.__dict__) # returns the dictionary containing instance variables\n",
    "print(harry.__dict__)\n",
    "print(Employee.__dict__) # returns the dictionary containing class variables\n"
   ]
  },
  {
   "cell_type": "markdown",
   "id": "dd4b6c25",
   "metadata": {},
   "source": [
    "Here, we have defined a class `Employee`with a class variable `no_of_leaves` and instance variables `name`, `salary`, and `role`. We then created two objects `harry` and `rohan` using the `Employee` class. We accessed the class variable `no_of_leaves` using the class name `Employee` and changed it using the class name. We also accessed the instance variable `no_of_leaves` using the object name `rohan` and changed it using the object name. We then printed the dictionaries containing the instance and class variables using the `__dict__` attribute.\n",
    "\n",
    "We can see that changing the instance variable did not affect the class variable. We also saw that `rohan` had an instance variable `no_of_leaves` in its dictionary, but `harry` did not have this key in its dictionary, since we only created that instance variable for `rohan`."
   ]
  },
  {
   "cell_type": "markdown",
   "id": "e1e4b720",
   "metadata": {},
   "source": [
    "### 31.3 Creating Constructors and Methods in Python Classes\n",
    "In object-oriented programming, a constructor is a special method that gets executed when an object of a class is created. The constructor is used to initialize the object's attributes or instance variables. In Python, the constructor method is always named `__init__()`, and it is defined within the class. In this notebook slide, we will learn how to create constructors and methods in Python classes.\n",
    "\n",
    "#### 31.3.1 Creating a Class and Constructor\n",
    "Let's create a Person class with a constructor that takes three arguments: `name`, `age`, and `gender`."
   ]
  },
  {
   "cell_type": "code",
   "execution_count": 28,
   "id": "738f2b70",
   "metadata": {},
   "outputs": [],
   "source": [
    "class Person:\n",
    "    def __init__(self, name, age, gender):\n",
    "        self.name = name\n",
    "        self.age = age\n",
    "        self.gender = gender\n"
   ]
  },
  {
   "cell_type": "markdown",
   "id": "c6c47494",
   "metadata": {},
   "source": [
    "The `__init__()` method takes three parameters, `name`, `age`, and `gender`. The `self` parameter refers to the object being created. The `self.name`, `self.age`, and `self.gender` are instance variables, which will be initialized when an object of the class is created.\n",
    "\n",
    "#### 31.3.2 Creating a Method\n",
    "In Python, a method is a function that is associated with an object and can be called on that object using dot notation. Let's create a `get_details()` method that returns the details of the person object."
   ]
  },
  {
   "cell_type": "code",
   "execution_count": 29,
   "id": "63641ae7",
   "metadata": {},
   "outputs": [],
   "source": [
    "class Person:\n",
    "    def __init__(self, name, age, gender):\n",
    "        self.name = name\n",
    "        self.age = age\n",
    "        self.gender = gender\n",
    "\n",
    "    def get_details(self):\n",
    "        return f\"Name: {self.name}, Age: {self.age}, Gender: {self.gender}\""
   ]
  },
  {
   "cell_type": "markdown",
   "id": "0c83170d",
   "metadata": {},
   "source": [
    "The `get_details()` method takes only the `self` parameter, which refers to the object being created. It returns a string that contains the details of the person object.\n",
    "\n",
    "#### 31.3.3. Creating Objects and Calling Methods\n",
    "Let's create two objects of the `Person` class and call the `get_details()` method on them."
   ]
  },
  {
   "cell_type": "code",
   "execution_count": 30,
   "id": "3ae4d057",
   "metadata": {},
   "outputs": [
    {
     "name": "stdout",
     "output_type": "stream",
     "text": [
      "Name: John, Age: 25, Gender: Male\n",
      "Name: Jane, Age: 30, Gender: Female\n"
     ]
    }
   ],
   "source": [
    "person1 = Person(\"John\", 25, \"Male\")\n",
    "person2 = Person(\"Jane\", 30, \"Female\")\n",
    "\n",
    "print(person1.get_details()) # Output: Name: John, Age: 25, Gender: Male\n",
    "print(person2.get_details()) # Output: Name: Jane, Age: 30, Gender: Female"
   ]
  },
  {
   "cell_type": "markdown",
   "id": "2831413b",
   "metadata": {},
   "source": [
    "We create two objects of the `Person` class, `person1` and `person2`, and pass the `name`, `age`, and `gender` values as arguments. We call the `get_details()` method on each object and print the output to the console.\n",
    "\n"
   ]
  },
  {
   "cell_type": "markdown",
   "id": "f32f6733",
   "metadata": {},
   "source": [
    "### 31.4 Class Methods in Python\n",
    "In Python, class methods are a special kind of methods that belong to the class and not to the instance of the class. This means that class methods can be called on the class itself, rather than on a specific object of the class. Class methods are defined using the `@classmethod` decorator and the first argument of the method is always the class itself, conventionally named as `cls`.\n",
    "\n",
    "Class methods are used when we want to define a method that is not dependent on any specific instance of the class. Class methods are typically used to modify class-level variables, perform some setup or initialization tasks for the class, or to create new instances of the class.\n",
    "\n",
    "#### Code and Examples\n",
    "Let's take a look at an example to understand how class methods work in Python:"
   ]
  },
  {
   "cell_type": "code",
   "execution_count": 31,
   "id": "87f14d75",
   "metadata": {},
   "outputs": [],
   "source": [
    "class Employee:\n",
    "    no_of_leaves = 8\n",
    "\n",
    "    def __init__(self, name, salary, role):\n",
    "        self.name = name\n",
    "        self.salary = salary\n",
    "        self.role = role\n",
    "\n",
    "    def print_details(self):\n",
    "        return f\"Name is {self.name}. Salary is {self.salary} and role is {self.role}\"\n",
    "\n",
    "    @classmethod\n",
    "    def change_no_of_leaves(cls, new_no_of_leaves):\n",
    "        cls.no_of_leaves = new_no_of_leaves\n"
   ]
  },
  {
   "cell_type": "markdown",
   "id": "53969036",
   "metadata": {},
   "source": [
    "In the above code, we have defined a class `Employee` that has three instance variables: `name`, `salary`, and `role`. We have also defined a class-level variable `no_of_leaves` that is initialized to 8.\n",
    "\n",
    "The `print_details` method is an instance method that takes an object of the class and returns a formatted string containing the name, salary, and role of the employee.\n",
    "\n",
    "The `change_no_of_leaves` method is a class method that takes a new number of leaves as an argument and sets the `no_of_leaves` variable to this new value. Note that the `cls` argument is used instead of the `self` argument, because we want to modify the class-level variable `no_of_leaves`.\n",
    "\n",
    "Let's now create some objects of the `Employee` class and call the `change_no_of_leaves` method on them:"
   ]
  },
  {
   "cell_type": "code",
   "execution_count": 32,
   "id": "17e80ae0",
   "metadata": {},
   "outputs": [
    {
     "name": "stdout",
     "output_type": "stream",
     "text": [
      "10\n",
      "10\n"
     ]
    }
   ],
   "source": [
    "harry = Employee('Harry', 45500, 'Instructor')\n",
    "rohan = Employee('Rohan', 4500, 'Student')\n",
    "\n",
    "harry.change_no_of_leaves(10)\n",
    "print(harry.no_of_leaves)  # Output: 10\n",
    "print(rohan.no_of_leaves)  # Output: 10"
   ]
  },
  {
   "cell_type": "markdown",
   "id": "e0d590f4",
   "metadata": {},
   "source": [
    "In the above code, we create two objects `harry` and `rohan` of the `Employee` class. We then call the `change_no_of_leaves` method on the `harry` object and pass the new number of leaves as an argument. This method changes the `no_of_leaves` variable for the entire class, not just for the `harry` object.\n",
    "\n",
    "Finally, we print the value of `no_of_leaves` for both objects, and we see that it has been changed to 10 for both objects, because it is a class-level variable.\n",
    "\n",
    "\n",
    "\n",
    "Class methods are a powerful tool in Python that allow us to define methods that are not dependent on any specific instance of the class. They are commonly used to modify class-level variables, perform some setup or initialization tasks for the class, or to create new instances of the class. The `@classmethod`decorator is used to define class methods, and the first argument of the method is always the class itself, conventionally named as `cls`."
   ]
  },
  {
   "cell_type": "markdown",
   "id": "075726aa",
   "metadata": {},
   "source": [
    "### 31.5 Class methods as alternative constructor\n",
    "In Python, we can use class methods as alternative constructors. Class methods are a way to define a method that operates on the class and not on the instance of the class. They are bound to the class and not the instance of the class. They can be called on the class itself and do not depend on the state of any particular instance.\n",
    "\n",
    "Class methods are commonly used for methods that need to access or modify class-level variables, perform some setup or initialization tasks for the class, or to create new instances of the class.\n",
    "\n",
    "#### Code Example\n",
    "Let's take a look at an example of using class methods as alternative constructors.\n",
    "\n",
    "Suppose we have an Employee class, and we want to create instances of this class from a string that contains the name, salary, and role of the employee separated by a hyphen (-)."
   ]
  },
  {
   "cell_type": "code",
   "execution_count": 33,
   "id": "6ecd81c9",
   "metadata": {},
   "outputs": [],
   "source": [
    "class Employee:\n",
    "    no_of_leaves = 8 \n",
    "\n",
    "    def __init__(self, name_argument, salary_argument, role_argument):\n",
    "        self.name = name_argument\n",
    "        self.salary = salary_argument\n",
    "        self.role = role_argument\n",
    "\n",
    "    @classmethod\n",
    "    def from_str_to_class(cls, str_to_class):\n",
    "        parameters_from_str = str_to_class.split('-')\n",
    "        return cls(parameters_from_str[0], parameters_from_str[1], parameters_from_str[2]) "
   ]
  },
  {
   "cell_type": "markdown",
   "id": "b5344590",
   "metadata": {},
   "source": [
    "In the above code, we define a class method `from_str_to_class` which takes a string as an argument and returns an instance of the class `Employee`.\n",
    "\n",
    "Inside the method, we split the string into a list of three elements using the hyphen (-) separator. We then pass these three elements as arguments to the constructor of the class `Employee` and return the instance.\n",
    "\n",
    "We can now create instances of the `Employee` class using the `from_str_to_class` method as follows:"
   ]
  },
  {
   "cell_type": "code",
   "execution_count": 34,
   "id": "a89146f4",
   "metadata": {},
   "outputs": [],
   "source": [
    "harry = Employee('Harry', 45500,'Instructor')\n",
    "rohan = Employee('Rohan', 4500, 'Student')\n",
    "karan = Employee.from_str_to_class('Karan-12000-Student')"
   ]
  },
  {
   "cell_type": "markdown",
   "id": "434fd24b",
   "metadata": {},
   "source": [
    "In the above code, we create instances of the `Employee` class using both the normal constructor and the `rom_str_to_class` method.\n",
    "\n",
    "We can also use class methods to modify class-level variables as shown in the previous example."
   ]
  },
  {
   "cell_type": "code",
   "execution_count": null,
   "id": "05f4cb32",
   "metadata": {},
   "outputs": [],
   "source": [
    "class Employee:\n",
    "    no_of_leaves = 8 \n",
    "\n",
    "    @classmethod\n",
    "    def change_no_of_leaves(cls, new_no_of_leaves):\n",
    "        cls.no_of_leaves = new_no_of_leaves\n",
    "\n",
    "harry = Employee('Harry', 45500,'Instructor')\n",
    "harry.change_no_of_leaves(10)\n",
    "\n",
    "print(harry.no_of_leaves) # Output: 10"
   ]
  },
  {
   "cell_type": "markdown",
   "id": "5642994d",
   "metadata": {},
   "source": [
    "In the above code, we define a class method `change_no_of_leaves` that takes the new number of leaves as an argument and sets the class-level variable `no_of_leaves` to this value.\n",
    "\n",
    "We can then call this method on an instance of the `Employee` class to change the value of `no_of_leaves` for the entire class."
   ]
  },
  {
   "cell_type": "markdown",
   "id": "0cfa0947",
   "metadata": {},
   "source": [
    "### 31.6 Static Methods\n",
    "In Python, a static method is a method that belongs to a class, but does not have access to the class or instance. It is defined using the `@staticmethod` decorator and does not take any special first argument like `self` or `cls`. It is a regular method that operates on data that is passed to it as arguments, and does not modify any class or instance state.\n",
    "\n",
    "Static methods are used when a method does not depend on the state of a specific instance or the class, but is related to the class in some way. Static methods are often used for utility functions that perform a specific operation that is related to the class, but does not require any instance data.\n",
    "\n",
    "#### Example\n",
    "Let's consider the example of an `Employee` class. We have a `printgood_method()` which takes a string as input and prints it with the message \"This is good\". This method doesn't need to access the instance data, so we can define it as a static method."
   ]
  },
  {
   "cell_type": "code",
   "execution_count": 37,
   "id": "fe801569",
   "metadata": {},
   "outputs": [],
   "source": [
    "class Employee:\n",
    "    no_of_leaves = 8 \n",
    "\n",
    "    def printdetails(self):\n",
    "        return f\"Name is {self.name}. Salary is {self.salary} and role is {self.role}\"\n",
    "\n",
    "    def __init__(self, name_argument, salary_argument, role_argument):\n",
    "        self.name = name_argument\n",
    "        self.salary = salary_argument\n",
    "        self.role = role_argument\n",
    "\n",
    "    @classmethod\n",
    "    def change_no_of_leaves(cls, new_no_of_leaves):\n",
    "        cls.no_of_leaves = new_no_of_leaves\n",
    "\n",
    "    @classmethod\n",
    "    def from_str_to_class(cls, str_to_class):\n",
    "        return cls(*str_to_class.split('-'))\n",
    "\n",
    "    @staticmethod\n",
    "    def printgood_method(string_as_input):\n",
    "        print(\"This is good \"+ string_as_input)"
   ]
  },
  {
   "cell_type": "markdown",
   "id": "6463d9a3",
   "metadata": {},
   "source": [
    "In the above code, we have defined the `printgood_method()` as a static method using the `@staticmethod` decorator.\n",
    "\n",
    "Now, we can create an instance of the `Employee` class and call the `printgood_method()` method as shown below:"
   ]
  },
  {
   "cell_type": "code",
   "execution_count": 38,
   "id": "d990f44c",
   "metadata": {},
   "outputs": [
    {
     "name": "stdout",
     "output_type": "stream",
     "text": [
      "This is good Harry\n",
      "This is good Rohan\n"
     ]
    }
   ],
   "source": [
    "harry = Employee('Harry', 45500, 'Instructor')\n",
    "rohan = Employee('Rohan', 4500, 'Student')\n",
    "karan = Employee.from_str_to_class('Karan-12000-Student')\n",
    "\n",
    "karan.printgood_method('Harry')\n",
    "Employee.printgood_method('Rohan')"
   ]
  },
  {
   "cell_type": "markdown",
   "id": "226df685",
   "metadata": {},
   "source": [
    "Here, we can see that the `printgood_method()` method is called both using an instance of the `Employee` class (`karan.printgood_method()`) and using the class name itself (`Employee.printgood_method()`). This is because the method is a static method and doesn't depend on the state of any instance or the class itself.\n",
    "\n",
    "Static methods are useful when we need to define a method that is related to a class, but doesn't depend on the state of any instance or the class itself. They can be defined using the `@staticmethod` decorator and do not require any special first argument like `self` or `cls`."
   ]
  },
  {
   "cell_type": "markdown",
   "id": "d7f1c165",
   "metadata": {},
   "source": [
    "### 31.7 Abstaction and Encapsulation\n",
    "\n",
    "1. Abstraction: Abstraction is the process of hiding implementation details while showing only the necessary information to the user. In OOP, abstraction is implemented using abstract classes and interfaces. An abstract class is a class that cannot be instantiated and contains at least one abstract method. An abstract method is a method without any implementation that must be implemented in a subclass. Interfaces are similar to abstract classes but contain only abstract methods.\n",
    "\n",
    "2. Abstraction Layer: Abstraction Layer refers to a set of classes that provide a high-level interface to a complex system. It separates the high-level functionality from the low-level details, making it easier to understand and use. Abstraction layers can be used to simplify the code and make it more modular.\n",
    "\n",
    "3. Encapsulation: Encapsulation is the process of hiding data and methods within a class, making them private and accessible only through public methods. Encapsulation is important because it protects the data from unauthorized access and manipulation. It also allows for better control over the data and its use, and provides a more organized and modular structure to the code.\n",
    "\n",
    "Together, Abstraction, Abstraction Layer and Encapsulation form the basis of OOP and are essential concepts for writing clean, efficient and maintainable code."
   ]
  },
  {
   "cell_type": "markdown",
   "id": "6d41439c",
   "metadata": {},
   "source": [
    "### 31.8 Inheritance in Python\n",
    "Inheritance is a powerful concept in Object-Oriented Programming that allows a new class to be based on an existing class. It is a way to create a new class that is a modified or specialized version of an existing class, with some or all of the same attributes and behaviors. The existing class is called the base class or parent class, and the new class is called the derived class or child class.\n",
    "\n",
    "In Python, inheritance is achieved by using the keyword `class` and a set of parentheses in the definition of a derived class, followed by the name of the base class. The derived class inherits all of the attributes and methods of the base class, and can add its own attributes and methods or modify the behavior of the base class.\n",
    "\n",
    "#### 31.8.1 Single Inheritance\n",
    "Single inheritance is a type of inheritance in object-oriented programming where a derived class inherits the attributes and methods of a single base class. In other words, a derived class can have only one parent or base class. Single inheritance is a useful and straightforward way to reuse code and create a hierarchy of classes that reflect the relationships between different types of objects. However, it can be limiting in some cases, especially when dealing with complex class relationships that require multiple inheritance or other advanced features.\n",
    "\n",
    "#### Example\n",
    "Let's take an example of inheritance in Python to better understand the concept:"
   ]
  },
  {
   "cell_type": "code",
   "execution_count": 44,
   "id": "3b958420",
   "metadata": {},
   "outputs": [
    {
     "name": "stdout",
     "output_type": "stream",
     "text": [
      "Buddy says Woof!\n",
      "Kitty says Meow!\n"
     ]
    }
   ],
   "source": [
    "class Animal:\n",
    "    def __init__(self, name):\n",
    "        self.name = name\n",
    "\n",
    "    def speak(self):\n",
    "        pass\n",
    "\n",
    "class Dog(Animal):\n",
    "    def speak(self):\n",
    "        return \"Woof!\"\n",
    "\n",
    "class Cat(Animal):\n",
    "    def speak(self):\n",
    "        return \"Meow!\"\n",
    "\n",
    "dog = Dog(\"Buddy\")\n",
    "cat = Cat(\"Kitty\")\n",
    "\n",
    "print(dog.name + \" says \" + dog.speak())\n",
    "print(cat.name + \" says \" + cat.speak())"
   ]
  },
  {
   "cell_type": "markdown",
   "id": "3194d20e",
   "metadata": {},
   "source": [
    "In this example, we have defined a base class `Animal` with an `__init__()` method and a `speak()` method. We have also defined two derived classes `Dog` and `Cat`, which inherit from the `Animal` class and override the `speak()` method.\n",
    "\n",
    "We have created instances of the `Dog` and `Cat` classes and called their `speak()` methods to see the output. The output will be as follows:"
   ]
  },
  {
   "cell_type": "raw",
   "id": "ba93df47",
   "metadata": {},
   "source": [
    "Buddy says Woof!\n",
    "Kitty says Meow!"
   ]
  },
  {
   "cell_type": "markdown",
   "id": "94a7b4be",
   "metadata": {},
   "source": [
    "In this example, we have used single inheritance to create two specialized classes `Dog` and `Cat` from a common `Animal` base class, which share some attributes and behaviors but have their own unique methods and behaviors as well."
   ]
  },
  {
   "cell_type": "markdown",
   "id": "2690759a",
   "metadata": {},
   "source": [
    "#### 31.8.2 Multiple Inheritance in Python\n",
    "Multiple Inheritance is a powerful feature of object-oriented programming in which a derived class can inherit attributes and methods from two or more base classes. In this way, we can reuse the code and create complex class hierarchies.\n",
    "\n",
    "However, using multiple inheritance can lead to code that is harder to read and understand, and it can create conflicts and ambiguities if the same attribute or method is defined in multiple base classes. Therefore, it should be used with care and with a good understanding of its potential advantages and pitfalls.\n",
    "#### Example\n",
    "Let's take an example of multiple inheritance in Python to better understand the concept:"
   ]
  },
  {
   "cell_type": "code",
   "execution_count": 45,
   "id": "44558889",
   "metadata": {},
   "outputs": [
    {
     "name": "stdout",
     "output_type": "stream",
     "text": [
      "My name is John and I am 30 years old.\n",
      "My salary is 50000 and my position is Manager.\n",
      "I manage the Sales team.\n"
     ]
    }
   ],
   "source": [
    "class Person:\n",
    "    def __init__(self, name, age):\n",
    "        self.name = name\n",
    "        self.age = age\n",
    "\n",
    "    def print_info(self):\n",
    "        print(f\"My name is {self.name} and I am {self.age} years old.\")\n",
    "\n",
    "\n",
    "class Employee:\n",
    "    def __init__(self, salary, position):\n",
    "        self.salary = salary\n",
    "        self.position = position\n",
    "\n",
    "    def print_salary(self):\n",
    "        print(f\"My salary is {self.salary} and my position is {self.position}.\")\n",
    "\n",
    "\n",
    "class Manager(Person, Employee):\n",
    "    def __init__(self, name, age, salary, position, team):\n",
    "        Person.__init__(self, name, age)\n",
    "        Employee.__init__(self, salary, position)\n",
    "        self.team = team\n",
    "\n",
    "    def print_team(self):\n",
    "        print(f\"I manage the {self.team} team.\")\n",
    "\n",
    "manager = Manager(\"John\", 30, 50000, \"Manager\", \"Sales\")\n",
    "manager.print_info()\n",
    "manager.print_salary()\n",
    "manager.print_team()"
   ]
  },
  {
   "cell_type": "markdown",
   "id": "687a3d2c",
   "metadata": {},
   "source": [
    "In this example, we have three classes: `Person`, `Employee`, and `Manager`. The `Person` class has attributes and methods related to personal information such as name and age. The `Employee` class has attributes and methods related to employment information such as salary and position. The `Manager` class inherits from both `Person` and `Employee` classes, so it has attributes and methods from both classes. In addition, it has a `team` attribute and a `print_team` method.\n",
    "\n",
    "We create an instance of the `Manager` class and call the `print_info`, `print_salary`, and `print_team methods` to print the information about the manager."
   ]
  },
  {
   "cell_type": "markdown",
   "id": "47e648cb",
   "metadata": {},
   "source": [
    "#### 31.8.3 Multilevel Inheritance in Python\n",
    "In object-oriented programming, Multilevel inheritance is a type of inheritance in which a derived class is created by inheriting from a base class, and that derived class is then used as the base class for another derived class.\n",
    "\n",
    "This creates a hierarchy of inheritance where a derived class is used as a base class for another derived class, creating a hierarchy of inheritance.\n",
    "\n",
    "#### Example:\n",
    "Let's see an example of Multilevel Inheritance in Python. Here we will create a base class `Person`, a derived class `Employee` inheriting from the base class `Person`, and another derived class `Manager` inheriting from the derived class `Employee`."
   ]
  },
  {
   "cell_type": "code",
   "execution_count": 46,
   "id": "25e5c9bf",
   "metadata": {},
   "outputs": [],
   "source": [
    "class Person:\n",
    "    def __init__(self, name, age):\n",
    "        self.name = name\n",
    "        self.age = age\n",
    "\n",
    "class Employee(Person):\n",
    "    def __init__(self, name, age, salary):\n",
    "        super().__init__(name, age)\n",
    "        self.salary = salary\n",
    "\n",
    "class Manager(Employee):\n",
    "    def __init__(self, name, age, salary, department):\n",
    "        super().__init__(name, age, salary)\n",
    "        self.department = department"
   ]
  },
  {
   "cell_type": "markdown",
   "id": "4459e5ef",
   "metadata": {},
   "source": [
    "In the above example, the class `Manager` is derived from the class `Employee` which in turn is derived from the class `Person`. Here, `Manager` class will inherit all the attributes and methods of both `Employee` and `Person` class.\n",
    "\n",
    "In this way, multilevel inheritance can be used to create complex class hierarchies in Python.\n",
    "\n",
    "When a variable is accessed in a derived class, Python first looks for that variable in the derived class itself. If the variable is not found there, Python then searches for the variable in the immediate parent class of the derived class, and then in the parent class of that parent class, and so on, until it reaches the top of the inheritance hierarchy."
   ]
  },
  {
   "cell_type": "code",
   "execution_count": 47,
   "id": "bce1f9e5",
   "metadata": {},
   "outputs": [
    {
     "name": "stdout",
     "output_type": "stream",
     "text": [
      "1\n"
     ]
    }
   ],
   "source": [
    "class Dad:\n",
    "    basketball = 1\n",
    "\n",
    "class Son(Dad):\n",
    "    Dance = 1\n",
    "    def isdance(self):\n",
    "        return f\"Yes I dance {self.Dance} number of times\"\n",
    "\n",
    "class Grandson(Son):\n",
    "    Dance = 6\n",
    "    def isdance(self):\n",
    "        return f\"Yes I dance awesomly {self.Dance} number of times\"\n",
    "\n",
    "darry = Dad()\n",
    "larry = Son()\n",
    "harry = Grandson()\n",
    "\n",
    "print(harry.basketball) # Output: 1"
   ]
  },
  {
   "cell_type": "markdown",
   "id": "f2bb4ea9",
   "metadata": {},
   "source": [
    "In the above example, class `Grandson` is derived from the class `Son` which in turn is derived from the class `Dad`. Here, `Grandson` class will inherit all the attributes and methods of both `Son` and `Dad` class.\n",
    "\n",
    "When the `basketball` variable is accessed in the `Grandson` class, it is first searched for in the `Grandson` class itself. Since it is not found there, it is then searched for in the `Son` class, and finally in the `Dad` class where it is found and its value is printed as `1`."
   ]
  },
  {
   "cell_type": "markdown",
   "id": "b6c1d3dd",
   "metadata": {},
   "source": [
    "#### 31.8.4 Multiple Inheritance and the Diamond Problem\n",
    "##### Understanding Multiple Inheritance and the Diamond Problem\n",
    "Multiple inheritance is a feature of object-oriented programming languages like Python, where a class can inherit from more than one base class. This can lead to the diamond problem, where a subclass inherits from two or more classes that have a common ancestor.\n",
    "\n",
    "Consider the following example:"
   ]
  },
  {
   "cell_type": "code",
   "execution_count": 48,
   "id": "075b6ded",
   "metadata": {},
   "outputs": [],
   "source": [
    "class A:\n",
    "    def met(self):\n",
    "        print(\"This is a method from class A\")\n",
    "\n",
    "class B(A):\n",
    "    def met(self):\n",
    "        print(\"This is a method from class B\")\n",
    "\n",
    "class C(A):\n",
    "    def met(self):\n",
    "        print(\"This is a method from class C\")\n",
    "\n",
    "class D(C,B): \n",
    "    pass"
   ]
  },
  {
   "cell_type": "markdown",
   "id": "91ea43d3",
   "metadata": {},
   "source": [
    "Here, we have four classes: A, B, C, and D. A is the parent class of both B and C, and D inherits from both B and C. If we call the method `met()` on the object of the class D, then which method will be called? Will it be the method from class B or the method from class C? This is the diamond problem."
   ]
  },
  {
   "cell_type": "markdown",
   "id": "0a835846",
   "metadata": {},
   "source": [
    "##### Solving the Diamond Problem with Method Resolution Order (MRO)\n",
    "Python solves the diamond problem using Method Resolution Order (MRO). MRO is the order in which Python searches for a method in a class hierarchy. In Python, the MRO is determined by the C3 algorithm.\n",
    "\n",
    "The C3 algorithm follows three basic rules:\n",
    "\n",
    "1. Every class has an MRO.\n",
    "2. The MRO of a class is a linear list that contains the class, followed by the MROs of its parent classes, in order, without repetition.\n",
    "3. If a class has multiple parents, then the MRO is computed by merging the MROs of its parents in the order specified in the class definition.\n",
    "The C3 algorithm is a depth-first, left-to-right algorithm. It starts with the first class in the list of parent classes, and recursively looks for the method in the parent classes, in order, until it finds the method or reaches the end of the list.\n",
    "\n",
    "In the case of the diamond problem, the MRO of class D will be `[D, C, B, A]`. This means that Python will first look for the method in class D, then in class C (the first parent in the list), then in class B (the second parent in the list), and finally in class A (the parent of both B and C).\n",
    "\n",
    "#### Example\n",
    "Let's consider the following example code to understand the MRO:"
   ]
  },
  {
   "cell_type": "code",
   "execution_count": 50,
   "id": "defa8117",
   "metadata": {},
   "outputs": [
    {
     "name": "stdout",
     "output_type": "stream",
     "text": [
      "This is a method from class C\n"
     ]
    }
   ],
   "source": [
    "class A:\n",
    "    def met(self):\n",
    "        print(\"This is a method from class A\")\n",
    "\n",
    "class B(A):\n",
    "    def met(self):\n",
    "        print(\"This is a method from class B\")\n",
    "\n",
    "class C(A):\n",
    "    def met(self):\n",
    "        print(\"This is a method from class C\")\n",
    "\n",
    "class D(C,B): \n",
    "    pass\n",
    "\n",
    "d = D()\n",
    "d.met()"
   ]
  },
  {
   "cell_type": "markdown",
   "id": "ba624cca",
   "metadata": {},
   "source": [
    "Here, we define classes A, B, C, and D as before. We create an object of class D and call the method `met()`.\n",
    "\n",
    "This is because the MRO of class D is `[D, C, B, A]`, and the method `met()` is found in class C.\n",
    "\n",
    "In summary, multiple inheritance allows a subclass to inherit from multiple base classes. However, it can lead to the diamond problem, where a subclass inherits from two or more classes that have a common ancestor. Python solves the diamond problem using Method Resolution Order (MRO), which is determined by the C3 algorithm. The MRO is a linear list that specifies the order in which Python searches for a method in a class hierarchy."
   ]
  },
  {
   "cell_type": "markdown",
   "id": "7832df16",
   "metadata": {},
   "source": [
    "### 31.9 Python Specifiers: Public, Protected, and Private\n",
    "\n",
    "In Python, specifiers (also known as access modifiers or visibility modifiers) are used to control the visibility and accessibility of attributes and methods in a class. Specifiers help to enforce encapsulation and make the class more secure and robust. There are three types of specifiers in Python: Public, Protected, and Private.\n",
    "\n",
    "#### 31.9.1 Public Specifier\n",
    "The public specifier is the default specifier in Python. It indicates that an attribute or method is accessible from anywhere in the program. In Python, all attributes and methods that do not start with an underscore are considered public.\n",
    "\n",
    "#### 31.9.2 Protected Specifier\n",
    "The protected specifier is indicated by a single leading underscore before the name of an attribute or method. It indicates that an attribute or method is accessible within the class and its subclasses, but not from outside the class.\n",
    "\n",
    "#### 31.9.3 Private Specifier\n",
    "The private specifier is indicated by a double leading underscore before the name of an attribute or method. It indicates that an attribute or method is accessible only within the class itself, and not from outside the class or its subclasses.\n",
    "\n",
    "It's worth noting that while Python has these specifiers, they are not strictly enforced by the language itself. Instead, it is up to the programmer to follow these conventions and respect the visibility and accessibility of the attributes and methods in a class.\n",
    "\n",
    "#### Code Example"
   ]
  },
  {
   "cell_type": "code",
   "execution_count": 51,
   "id": "ed08336d",
   "metadata": {},
   "outputs": [
    {
     "name": "stdout",
     "output_type": "stream",
     "text": [
      "John\n",
      "7000\n",
      "CEO\n",
      "CEO\n"
     ]
    }
   ],
   "source": [
    "class Employee:\n",
    "    def __init__(self, name, salary, role):\n",
    "        self.name = name\n",
    "        self.salary = salary\n",
    "        self.role = role\n",
    "\n",
    "    def print_details(self):\n",
    "        return f\"Name is {self.name}. Salary is {self.salary} and role is {self.role}\"\n",
    "\n",
    "    @classmethod\n",
    "    def change_no_of_leaves(cls, new_no_of_leaves):\n",
    "        cls.no_of_leaves = new_no_of_leaves\n",
    "\n",
    "class Programmer(Employee):\n",
    "    def __init__(self, name, salary, role, language):\n",
    "        super().__init__(name, salary, role)\n",
    "        self.language = language\n",
    "\n",
    "    def print_prog(self):\n",
    "        return f\"The Programmer's name is {self.name}. Salary is {self.salary} and role is {self.role}. The language used is {self.language}\"\n",
    "\n",
    "employee1 = Employee(\"John\", 5000, \"Manager\")\n",
    "print(employee1.name) # Output: \"John\"\n",
    "\n",
    "employee1._salary = 7000\n",
    "print(employee1._salary) # Output: 7000 (Protected variable)\n",
    "\n",
    "employee1.__role = \"CEO\" # Does not create a private variable\n",
    "print(employee1.__role) # AttributeError: 'Employee' object has no attribute '__role'\n",
    "\n",
    "employee1._Employee__role = \"CEO\" # Name Mangling (Private variable)\n",
    "print(employee1._Employee__role) # Output: \"CEO\""
   ]
  },
  {
   "cell_type": "markdown",
   "id": "ecd4efb1",
   "metadata": {},
   "source": [
    "In this example, we define a class `Employee` with a constructor that initializes `name`, `salary`, and `role` instance variables. The class also has a `print_details` method that returns a string with information about the employee. We then define a subclass `Programmer` that inherits from `Employee` and adds a `language` instance variable and a `print_prog` method.\n",
    "\n",
    "We demonstrate how to access protected and private variables using `_` and `__` respectively. It is important to note that while Python has these specifiers, they are not strictly enforced by the language itself. Instead, it is up to the programmer to follow these conventions and respect the visibility and accessibility of the attributes and methods in a class."
   ]
  },
  {
   "cell_type": "markdown",
   "id": "497bbfe9",
   "metadata": {},
   "source": [
    "### 31.10 Polymorphism in Python\n",
    "Polymorphism is a concept in object-oriented programming that allows objects of different types to be treated as if they are of the same type. This is achieved through the use of methods that have the same name but are defined in different classes.\n",
    "\n",
    "In Python, there are two main types of polymorphism: method overloading and method overriding.\n",
    "\n",
    "#### 31.10.1 Method Overloading\n",
    "Method overloading allows a class to have multiple methods with the same name but different parameters. When a method is called, Python determines which version of the method to call based on the arguments passed to it.\n",
    "\n",
    "Here is an example of method overloading:"
   ]
  },
  {
   "cell_type": "code",
   "execution_count": null,
   "id": "25cce093",
   "metadata": {},
   "outputs": [],
   "source": [
    "class Calculator:\n",
    "    def add(self, x, y):\n",
    "        return x + y\n",
    "        \n",
    "    def add(self, x, y, z):\n",
    "        return x + y + z\n",
    "        \n",
    "c = Calculator()\n",
    "print(c.add(1, 2)) # Output: TypeError: add() missing 1 required positional argument: 'z'\n",
    "print(c.add(1, 2, 3)) # Output: 6"
   ]
  },
  {
   "cell_type": "markdown",
   "id": "49aad358",
   "metadata": {},
   "source": [
    "In the example above, the `Calculator` class has two methods named `add`, one that takes two arguments and one that takes three arguments. When we try to call the `add` method with only two arguments, Python raises a `TypeError` because it cannot determine which version of the method to call.\n",
    "\n",
    "#### 31.10.2 Method Overriding\n",
    "Method overriding allows a subclass to provide a different implementation of a method that is already defined in its parent class. When a method is called on an object of the subclass, the overridden version of the method is called instead of the one in the parent class.\n",
    "\n",
    "Here is an example of method overriding:"
   ]
  },
  {
   "cell_type": "code",
   "execution_count": 53,
   "id": "105a6c11",
   "metadata": {},
   "outputs": [
    {
     "name": "stdout",
     "output_type": "stream",
     "text": [
      "Animal is speaking\n",
      "Dog is barking\n",
      "Cat is meowing\n"
     ]
    }
   ],
   "source": [
    "class Animal:\n",
    "    def speak(self):\n",
    "        print(\"Animal is speaking\")\n",
    "\n",
    "class Dog(Animal):\n",
    "    def speak(self):\n",
    "        print(\"Dog is barking\")\n",
    "\n",
    "class Cat(Animal):\n",
    "    def speak(self):\n",
    "        print(\"Cat is meowing\")\n",
    "\n",
    "a = Animal()\n",
    "d = Dog()\n",
    "c = Cat()\n",
    "\n",
    "a.speak() # Output: Animal is speaking\n",
    "d.speak() # Output: Dog is barking\n",
    "c.speak() # Output: Cat is meowing"
   ]
  },
  {
   "cell_type": "markdown",
   "id": "7dcdcd19",
   "metadata": {},
   "source": [
    "In the example above, the `Animal` class has a method named `speak`. Both the `Dog` and `Cat` classes inherit from the `Animal` class and override the `speak` method to provide their own implementation."
   ]
  },
  {
   "cell_type": "markdown",
   "id": "82159996",
   "metadata": {},
   "source": [
    "#### 31.10.3 Polymorphism Example\n",
    "Here is an example of polymorphism in Python:"
   ]
  },
  {
   "cell_type": "code",
   "execution_count": 54,
   "id": "7a27e044",
   "metadata": {},
   "outputs": [
    {
     "name": "stdout",
     "output_type": "stream",
     "text": [
      "Area:  8\n",
      "Area:  28.26\n"
     ]
    }
   ],
   "source": [
    "class Rectangle:\n",
    "    def __init__(self, length, width):\n",
    "        self.length = length\n",
    "        self.width = width\n",
    "\n",
    "    def area(self):\n",
    "        return self.length * self.width\n",
    "\n",
    "class Circle:\n",
    "    def __init__(self, radius):\n",
    "        self.radius = radius\n",
    "\n",
    "    def area(self):\n",
    "        return 3.14 * (self.radius ** 2)\n",
    "\n",
    "shapes = [Rectangle(2,4), Circle(3)]\n",
    "for shape in shapes:\n",
    "    print(\"Area: \", shape.area())"
   ]
  },
  {
   "cell_type": "markdown",
   "id": "b27489ad",
   "metadata": {},
   "source": [
    "In the example above, we define two classes `Rectangle` and `Circle`, both of which have an `area` method. We then create a list of shapes, which contains an instance of each class. We can then loop through the list of shapes and call the `area` method on each shape, even though they are of different types. This is an example of polymorphism in action.\n",
    "\n",
    "Polymorphism is a powerful tool that allows for code reusability, flexibility, and extensibility. By treating different objects as if they are of the same type, it becomes easier to write generic code that can work with a variety of different objects."
   ]
  },
  {
   "cell_type": "markdown",
   "id": "73b81d59",
   "metadata": {},
   "source": [
    "### 31.11 Method Overriding in Python\n",
    "Method overriding is a fundamental concept in object-oriented programming, where a subclass provides a different implementation of a method that is already defined in its parent class. Method overriding is a way to change the behavior of a parent class's method in the subclass. In Python, method overriding is achieved by redefining the method in the subclass with the same name as the method in the parent class.\n",
    "\n",
    "#### Example of Method Overriding\n",
    "Here's an example of method overriding in Python:"
   ]
  },
  {
   "cell_type": "code",
   "execution_count": 55,
   "id": "af968f5e",
   "metadata": {},
   "outputs": [
    {
     "name": "stdout",
     "output_type": "stream",
     "text": [
      "Animal speaks\n",
      "Dog barks\n",
      "Animal speaks\n"
     ]
    }
   ],
   "source": [
    "class Animal:\n",
    "    def speak(self):\n",
    "        print(\"Animal speaks\")\n",
    "\n",
    "class Dog(Animal):\n",
    "    def speak(self):\n",
    "        print(\"Dog barks\")\n",
    "\n",
    "class Cat(Animal):\n",
    "    pass\n",
    "\n",
    "a = Animal()\n",
    "d = Dog()\n",
    "c = Cat()\n",
    "\n",
    "a.speak() # Output: Animal speaks\n",
    "d.speak() # Output: Dog barks\n",
    "c.speak() # Output: Animal speaks"
   ]
  },
  {
   "cell_type": "markdown",
   "id": "9d63d357",
   "metadata": {},
   "source": [
    "In this example, we have defined a parent class `Animal` with a method `speak()`. We have two subclasses `Dog` and `Cat`, both of which inherit from `Animal`. The `Dog` class overrides the `speak()` method and provides its own implementation of the method, while the `Cat` class does not provide any implementation and simply inherits the method from its parent class.\n",
    "\n",
    "When we create an object of each class and call the `speak()` method, Python looks for the implementation of the method in the object's class first. If the implementation is found, that implementation is executed. If the implementation is not found, Python looks for the implementation in the object's parent class, and so on up the class hierarchy. In this way, method overriding allows subclasses to modify the behavior of a method inherited from their parent class.\n",
    "\n",
    "#### Example Code"
   ]
  },
  {
   "cell_type": "code",
   "execution_count": null,
   "id": "e240459c",
   "metadata": {},
   "outputs": [],
   "source": [
    "class A:\n",
    "    classvar1 = 'I am a class variable in class A'\n",
    "\n",
    "    def __init__(self):\n",
    "        self.var1 = 'I am a class variable in class A\\'s constructor'\n",
    "        self.classvar1 = 'Instance var in class A'\n",
    "        self.special = 'Special'\n",
    "\n",
    "class B(A):\n",
    "    classvar2 = 'I am a class variable in class B'\n",
    "\n",
    "    def __init__(self):\n",
    "        super().__init__() # Call constructor of parent class\n",
    "        self.var1 = 'I am a class variable in class B\\'s constructor'\n",
    "        self.classvar1 = 'Instance var in class B'\n",
    "        print(super().var1) # Call parent class variable\n",
    "\n",
    "a = A()\n",
    "b = B()\n",
    "\n",
    "print(b.special) # Output: Special"
   ]
  },
  {
   "cell_type": "markdown",
   "id": "5d0d0ba8",
   "metadata": {},
   "source": [
    "In this code example, we have two classes `A` and `B`, where `B` is a subclass of `A`. `A` has an instance variable `special` that is not present in `B`. We have overridden the `__init__()` method of class `B` to call the constructor of class `A` using the `super()` function. We have also overridden the `var1` instance variable of class `A` in class `B`.\n",
    "\n",
    "When we create objects of class `A` and `B`, we can access the `special` instance variable of class `A` using objects of class `B`."
   ]
  },
  {
   "cell_type": "markdown",
   "id": "3cdcc52f",
   "metadata": {},
   "source": [
    "### 31.12 Dunder Methods and Operator Overloading in Python\n",
    "\n",
    "Dunder (double underscore) methods, also known as magic methods or special methods, are a set of predefined methods in Python that begin and end with two underscores (e.g., `__init__`, `__str__`, `__add__`). These methods provide a way to define custom behavior for built-in Python operators and functions, such as +, -, *, /, ==, [], and many more. Operator overloading is the process of defining custom behavior for built-in operators and functions in a class. In Python, operator overloading is implemented using dunder methods.\n",
    "\n",
    "#### Code and Explanation\n",
    "Here's an example of how dunder methods can be used for operator overloading in Python:"
   ]
  },
  {
   "cell_type": "code",
   "execution_count": 57,
   "id": "164c41f1",
   "metadata": {},
   "outputs": [],
   "source": [
    "class Employee:\n",
    "    no_of_leaves = 8 \n",
    "\n",
    "    def printdetails(self):\n",
    "        return f\"Name is {self.name}. Salary is {self.salary} and role is {self.role}\"\n",
    "\n",
    "    def __init__(self, name_argument, salary_argument, role_argument): # this is how we create a constructor\n",
    "        self.name = name_argument\n",
    "        self.salary = salary_argument\n",
    "        self.role = role_argument\n",
    "\n",
    "    @classmethod\n",
    "    def change_no_of_leaves(cls, new_no_of_leaves):\n",
    "        cls.no_of_leaves = new_no_of_leaves\n",
    "    \n",
    "    def __add__(self, other): # Dunder method helping in operator overloading\n",
    "        return self.salary + other.salary\n",
    "    \n",
    "    def __repr__(self): # Dunder method not helping for operator overloading\n",
    "        return f\"Name is {self.name}. Salary is {self.salary} and role is {self.role}\"\n",
    "    \n",
    "    def __str__(self): # Dunder method not helping for operator overloading\n",
    "        return f\"Name is {self.name}. Salary is {self.salary} and role is {self.role}\""
   ]
  },
  {
   "cell_type": "markdown",
   "id": "37b8c3e9",
   "metadata": {},
   "source": [
    "In this code, the `Employee` class defines the dunder method `__add__`, which overrides the default behavior of the `+` operator for instances of the `Employee` class. The `__repr__` and `__str__` methods provide custom string representations for instances of the `Employee` class."
   ]
  },
  {
   "cell_type": "code",
   "execution_count": 58,
   "id": "330c0868",
   "metadata": {},
   "outputs": [
    {
     "name": "stdout",
     "output_type": "stream",
     "text": [
      "430\n",
      "Name is Harry. Salary is 345 and role is Programmer\n"
     ]
    }
   ],
   "source": [
    "emp1 = Employee('Harry', 345, 'Programmer')\n",
    "emp2 = Employee('Rohan', 85, 'Cleaner')\n",
    "\n",
    "print(emp1 + emp2) # Output: 430\n",
    "\n",
    "print(emp1) # Output: Name is Harry. Salary is 345 and role is Programmer"
   ]
  },
  {
   "cell_type": "markdown",
   "id": "728675ef",
   "metadata": {},
   "source": [
    "In the above code, the `+` operator is overloaded using the `__add__` method, which adds the salaries of two employees. The `__str__` method provides a string representation of an instance of the `Employee` class that is human-readable. The `__repr__` method provides a string representation of an instance of the `Employee` class that is unambiguous and can be used to recreate the instance.\n",
    "\n",
    "Dunder methods are a powerful feature of Python that allow for a more intuitive and expressive syntax, and can make code easier to read and maintain. However, they should be used with caution, as overuse or inappropriate use can make code less predictable and harder to understand."
   ]
  },
  {
   "cell_type": "markdown",
   "id": "acdc81b3",
   "metadata": {},
   "source": [
    "### 31.13 Abstract Classes and Methods in Python\n",
    "In Python, an abstract class is a special type of class that cannot be instantiated on its own but is intended to serve as a base class for other classes. It provides a way to define a common interface that derived classes must implement but allows for variations in implementation. Abstract classes provide a way to define a common interface for a set of related classes, while still allowing for variation in implementation. They can be used to ensure that derived classes conform to a specific API and can help to make code more modular, extensible, and maintainable.\n",
    "\n",
    "An abstract method is a method that is declared in an abstract class but does not have an implementation. It serves as a placeholder that must be implemented by any concrete subclass that inherits from the abstract class. Attempting to instantiate an object of an abstract class, or a subclass that doesn't implement all the abstract methods of its abstract parent class, will result in a TypeError. This is because abstract classes are not intended to be instantiated on their own, but rather provide a common interface and shared behavior that concrete subclasses can inherit and implement.\n",
    "\n",
    "#### Example\n",
    "Let's take an example to understand abstract classes and methods in Python. Suppose we want to define a `Shape` class that has a method `printarea()` which calculates the area of the shape. We want to enforce this method on all the objects of the class that inherit from `Shape`."
   ]
  },
  {
   "cell_type": "code",
   "execution_count": 59,
   "id": "d3d32603",
   "metadata": {},
   "outputs": [],
   "source": [
    "from abc import ABC, abstractmethod\n",
    "\n",
    "class Shape(ABC):\n",
    "    @abstractmethod\n",
    "    def printarea(self):\n",
    "        return 0"
   ]
  },
  {
   "cell_type": "markdown",
   "id": "5a2e047e",
   "metadata": {},
   "source": [
    "Here, we have defined an abstract base class `Shape` that inherits from `ABC` (Abstract Base Class). We have defined an abstract method `printarea()` that has no implementation. Any class that inherits from `Shape` must implement this method.\n",
    "\n",
    "Let's define a `Rectangle` class that inherits from `Shape` and implements the `printarea()` method."
   ]
  },
  {
   "cell_type": "code",
   "execution_count": 60,
   "id": "b78615e0",
   "metadata": {},
   "outputs": [],
   "source": [
    "class Rectangle(Shape):\n",
    "    type = \"Rectangle\"\n",
    "    sides = 4\n",
    "    def __init__(self, length, width):\n",
    "        self.length = length\n",
    "        self.width = width\n",
    "\n",
    "    def printarea(self):\n",
    "        return self.length * self.width"
   ]
  },
  {
   "cell_type": "markdown",
   "id": "f9754c18",
   "metadata": {},
   "source": [
    "Here, we have defined a `Rectangle` class that inherits from `Shape`. We have defined two instance variables `length` and `width`. We have also defined the `printarea()` method that calculates the area of the rectangle.\n",
    "\n",
    "Now, let's create an object of the `Rectangle` class and call the `printarea()` method."
   ]
  },
  {
   "cell_type": "code",
   "execution_count": 61,
   "id": "090d6f83",
   "metadata": {},
   "outputs": [
    {
     "name": "stdout",
     "output_type": "stream",
     "text": [
      "42\n"
     ]
    }
   ],
   "source": [
    "rect1 = Rectangle(6, 7)\n",
    "print(rect1.printarea())"
   ]
  },
  {
   "cell_type": "markdown",
   "id": "7c85bd8d",
   "metadata": {},
   "source": [
    "We have successfully calculated the area of the rectangle using the `printarea()` method.\n",
    "\n",
    "In this example, we have seen how to use abstract classes and methods in Python. Abstract classes and methods provide a way to define a common interface for a set of related classes while still allowing for variation in implementation. They can help to make code more modular, extensible, and maintainable."
   ]
  },
  {
   "cell_type": "markdown",
   "id": "bfbc7434",
   "metadata": {},
   "source": [
    "### 31.14 Understanding Property Decorators and Setters in Python Classes\n",
    "Python allows you to define properties in a class that control access to instance variables. Using property decorators, you can define getter, setter, and deleter methods for an instance variable, but access the variable as if it were a normal instance variable. In this tutorial, we will learn about the property decorator and how to use it to define setters in Python classes.\n",
    "\n",
    "#### 31.14.1 Property Decorator\n",
    "The property decorator is a built-in function that allows you to define getter, setter, and deleter methods for an instance variable of a class. The getter method returns the value of the instance variable, the setter method sets the value of the instance variable, and the deleter method deletes the instance variable. The property decorator makes it possible to access the instance variable as if it were a normal instance variable, even though it is actually calling a method.\n",
    "\n",
    "#### 31.14.2 Setter Method\n",
    "A setter is a method that is used to set the value of an instance variable of a class. It is usually defined as part of a property, which is a way of controlling access to instance variables of a class. Using a property with a setter allows you to enforce constraints on the values that are assigned to an instance variable, such as ensuring that they are of a certain type or within a certain range. It also provides a way to execute additional logic whenever a value is assigned to the variable, such as updating other related variables or triggering other actions.\n",
    "\n",
    "#### Example Code\n",
    "Consider the following example of an Employee class that defines a setter for the email instance variable:"
   ]
  },
  {
   "cell_type": "code",
   "execution_count": 62,
   "id": "08f42e14",
   "metadata": {},
   "outputs": [],
   "source": [
    "class Employee:\n",
    "    def __init__(self, fname, lname):\n",
    "        self.fname = fname\n",
    "        self.lname = lname\n",
    "\n",
    "    def explain(self):\n",
    "        return f\"This employee is {self.fname} {self.lname}\"\n",
    "    \n",
    "    @property\n",
    "    def email(self):\n",
    "        if self.fname == 'None' and self.lname == 'None':\n",
    "            return \"Email is not set. Please set it using setter.\"\n",
    "        return f\"{self.fname}.{self.lname}@company.com\"\n",
    "    \n",
    "    @email.setter\n",
    "    def email(self,string):\n",
    "        print('Setting now...')\n",
    "        names = string.split('@')[0]\n",
    "        self.fname = names.split('.')[0]\n",
    "        self.lname = names.split('.')[1]\n",
    "\n",
    "    @email.deleter\n",
    "    def email(self):\n",
    "        self.fname = 'None'\n",
    "        self.lname = 'None'"
   ]
  },
  {
   "cell_type": "markdown",
   "id": "2404ebec",
   "metadata": {},
   "source": [
    "In the above example, we define a setter for the email instance variable using the property decorator. The email.setter decorator is used to define the setter method, which sets the value of the fname and lname instance variables based on the email address.\n",
    "\n",
    "#### Usage\n",
    "Let's see how we can use the setter in the Employee class:"
   ]
  },
  {
   "cell_type": "code",
   "execution_count": 63,
   "id": "4fcaa1ea",
   "metadata": {},
   "outputs": [
    {
     "name": "stdout",
     "output_type": "stream",
     "text": [
      "John.Doe@company.com\n",
      "Setting now...\n",
      "john.doe@company.com\n",
      "Mike.doe@company.com\n",
      "Email is not set. Please set it using setter.\n"
     ]
    }
   ],
   "source": [
    "emp = Employee('John', 'Doe')\n",
    "print(emp.email) # Output: Email is not set. Please set it using setter.\n",
    "\n",
    "emp.email = 'john.doe@company.com' # Output: Setting now...\n",
    "print(emp.email) # Output: john.doe@company.com\n",
    "\n",
    "emp.fname = 'Mike'\n",
    "print(emp.email) # Output: mike.doe@company.com\n",
    "\n",
    "del emp.email\n",
    "print(emp.email) # Output: Email is not set. Please set it using setter."
   ]
  },
  {
   "cell_type": "markdown",
   "id": "452d725c",
   "metadata": {},
   "source": [
    "In the above example, we create an instance of the Employee class and set the email using the setter. We then change the value of the fname instance variable and see that the email address is updated accordingly. Finally, we delete the email instance variable using the deleter.\n",
    "\n",
    "The property decorator in Python allows you to define getters, setters, and deleters for instance variables in a class. This provides a way to control access to instance variables and enforce constraints on the values"
   ]
  },
  {
   "cell_type": "markdown",
   "id": "a5d767b1",
   "metadata": {},
   "source": [
    "### 31.15 Object Introspection in Python\n",
    "Object introspection is the ability of a program to examine the properties and methods of an object at runtime. In Python, you can use several built-in functions and modules to perform object introspection, including the `dir()` function, the `type()` function, and the `inspect` module.\n",
    "\n",
    "#### 31.15.1 The `dir()` Function\n",
    "The `dir()` function returns a list of all the valid attributes and methods of an object. You can call `dir()` on any object to see what attributes and methods are available. The output of the `dir()` function includes all the built-in attributes and methods of the object, as well as any user-defined attributes and methods. The output is sorted alphabetically, and may include some attributes and methods that are not meant to be used directly."
   ]
  },
  {
   "cell_type": "code",
   "execution_count": 64,
   "id": "851bfa50",
   "metadata": {},
   "outputs": [
    {
     "name": "stdout",
     "output_type": "stream",
     "text": [
      "['__class__', '__delattr__', '__dict__', '__dir__', '__doc__', '__eq__', '__format__', '__ge__', '__getattribute__', '__gt__', '__hash__', '__init__', '__init_subclass__', '__le__', '__lt__', '__module__', '__ne__', '__new__', '__reduce__', '__reduce_ex__', '__repr__', '__setattr__', '__sizeof__', '__str__', '__subclasshook__', '__weakref__', 'age', 'name', 'say_hello']\n"
     ]
    }
   ],
   "source": [
    "class Person:\n",
    "    def __init__(self, name, age):\n",
    "        self.name = name\n",
    "        self.age = age\n",
    "    \n",
    "    def say_hello(self):\n",
    "        print(f\"Hello, my name is {self.name}.\")\n",
    "\n",
    "p = Person(\"Alice\", 30)\n",
    "print(dir(p))"
   ]
  },
  {
   "cell_type": "markdown",
   "id": "731dc0f2",
   "metadata": {},
   "source": [
    "#### 31.15.2 The `type()` Function\n",
    "The `type()` function returns the type of an object. This can be useful for determining the class of an object or for checking if an object is of a certain type."
   ]
  },
  {
   "cell_type": "code",
   "execution_count": 65,
   "id": "d7e598bb",
   "metadata": {},
   "outputs": [
    {
     "name": "stdout",
     "output_type": "stream",
     "text": [
      "<class 'str'>\n",
      "<class 'list'>\n"
     ]
    }
   ],
   "source": [
    "x = \"Hello, world!\"\n",
    "print(type(x))  # <class 'str'>\n",
    "\n",
    "y = [1, 2, 3, 4, 5]\n",
    "print(type(y))  # <class 'list'>"
   ]
  },
  {
   "cell_type": "markdown",
   "id": "c7cb34ea",
   "metadata": {},
   "source": [
    "#### 31.15.3 The `inspect` Module\n",
    "The `inspect` module provides several functions for performing object introspection, including the `getmembers()` function, which returns a list of all the attributes and methods of an object. The `getmembers()` function takes two arguments: an object, and an optional predicate function. If a predicate function is provided, it is used to filter the list of attributes and methods. The output of `getmembers()` is a list of 2-tuples, where each tuple contains the name of the attribute or method, and its value."
   ]
  },
  {
   "cell_type": "code",
   "execution_count": 66,
   "id": "32d92041",
   "metadata": {},
   "outputs": [
    {
     "name": "stdout",
     "output_type": "stream",
     "text": [
      "('__class__', <class '__main__.Car'>)\n",
      "('__delattr__', <method-wrapper '__delattr__' of Car object at 0x000001DC120BFAF0>)\n",
      "('__dict__', {'make': 'Toyota', 'model': 'Camry', 'year': 2021})\n",
      "('__dir__', <built-in method __dir__ of Car object at 0x000001DC120BFAF0>)\n",
      "('__doc__', None)\n",
      "('__eq__', <method-wrapper '__eq__' of Car object at 0x000001DC120BFAF0>)\n",
      "('__format__', <built-in method __format__ of Car object at 0x000001DC120BFAF0>)\n",
      "('__ge__', <method-wrapper '__ge__' of Car object at 0x000001DC120BFAF0>)\n",
      "('__getattribute__', <method-wrapper '__getattribute__' of Car object at 0x000001DC120BFAF0>)\n",
      "('__gt__', <method-wrapper '__gt__' of Car object at 0x000001DC120BFAF0>)\n",
      "('__hash__', <method-wrapper '__hash__' of Car object at 0x000001DC120BFAF0>)\n",
      "('__init__', <bound method Car.__init__ of <__main__.Car object at 0x000001DC120BFAF0>>)\n",
      "('__init_subclass__', <built-in method __init_subclass__ of type object at 0x000001DC1144F3D0>)\n",
      "('__le__', <method-wrapper '__le__' of Car object at 0x000001DC120BFAF0>)\n",
      "('__lt__', <method-wrapper '__lt__' of Car object at 0x000001DC120BFAF0>)\n",
      "('__module__', '__main__')\n",
      "('__ne__', <method-wrapper '__ne__' of Car object at 0x000001DC120BFAF0>)\n",
      "('__new__', <built-in method __new__ of type object at 0x00007FFE9D0FABB0>)\n",
      "('__reduce__', <built-in method __reduce__ of Car object at 0x000001DC120BFAF0>)\n",
      "('__reduce_ex__', <built-in method __reduce_ex__ of Car object at 0x000001DC120BFAF0>)\n",
      "('__repr__', <method-wrapper '__repr__' of Car object at 0x000001DC120BFAF0>)\n",
      "('__setattr__', <method-wrapper '__setattr__' of Car object at 0x000001DC120BFAF0>)\n",
      "('__sizeof__', <built-in method __sizeof__ of Car object at 0x000001DC120BFAF0>)\n",
      "('__str__', <method-wrapper '__str__' of Car object at 0x000001DC120BFAF0>)\n",
      "('__subclasshook__', <built-in method __subclasshook__ of type object at 0x000001DC1144F3D0>)\n",
      "('__weakref__', None)\n",
      "('make', 'Toyota')\n",
      "('model', 'Camry')\n",
      "('start', <bound method Car.start of <__main__.Car object at 0x000001DC120BFAF0>>)\n",
      "('stop', <bound method Car.stop of <__main__.Car object at 0x000001DC120BFAF0>>)\n",
      "('year', 2021)\n"
     ]
    }
   ],
   "source": [
    "import inspect\n",
    "\n",
    "class Car:\n",
    "    def __init__(self, make, model, year):\n",
    "        self.make = make\n",
    "        self.model = model\n",
    "        self.year = year\n",
    "    \n",
    "    def start(self):\n",
    "        print(\"Starting the car...\")\n",
    "    \n",
    "    def stop(self):\n",
    "        print(\"Stopping the car...\")\n",
    "\n",
    "c = Car(\"Toyota\", \"Camry\", 2021)\n",
    "members = inspect.getmembers(c)\n",
    "for member in members:\n",
    "    print(member)"
   ]
  },
  {
   "cell_type": "markdown",
   "id": "afa07e04",
   "metadata": {},
   "source": [
    "## 32. Iterators and Generators in Python\n",
    "In Python, an iterable is an object that can be looped over using a for loop. It is a more general concept than a sequence (such as a list or a string), because it does not have to be ordered or indexed. In order to be iterable, an object must implement the `__iter__()` method, which returns an iterator object. The iterator object is responsible for producing the next value in the sequence. Examples of built-in Python iterables include lists, strings, dictionaries, sets, and tuples. In addition to these built-in types, it is possible to define your own iterables by implementing the `__iter__()` method.\n",
    "\n",
    "An iterator is an object that implements the iterator protocol, which consists of the `__iter__()` and `__next__()` methods. The `__iter__()` method returns the iterator object itself, and the `__next__()` method returns the next value in the sequence. If there are no more values to return, the `__next__()` method should raise the StopIteration exception. Iterators can be used to iterate over an iterable object, such as a list or a string. The `iter()` function is used to create an iterator from an iterable object, and the `next()` function is used to get the next value from the iterator. Iterators are a fundamental part of Python's iteration protocol, and are used extensively throughout the language's built-in libraries and data structures.\n",
    "\n",
    "Generators are a special type of iterator in Python that allow you to generate a sequence of values on-the-fly, without needing to pre-generate and store the entire sequence in memory. Generators are useful when you need to iterate over a large sequence of values, or when you want to create a sequence of values based on some input data. The basic syntax for creating a generator in Python is to use the `yield` keyword instead of `return` in a function. When a generator function is called, it returns a generator object that can be used to iterate over the values generated by the function.\n",
    "\n",
    "#### Iterator Example\n",
    "Let's create an iterator that generates values from 0 to n-1:"
   ]
  },
  {
   "cell_type": "code",
   "execution_count": 2,
   "id": "a7a9ddc1",
   "metadata": {},
   "outputs": [
    {
     "name": "stdout",
     "output_type": "stream",
     "text": [
      "0\n",
      "1\n",
      "2\n"
     ]
    },
    {
     "ename": "StopIteration",
     "evalue": "",
     "output_type": "error",
     "traceback": [
      "\u001b[1;31m---------------------------------------------------------------------------\u001b[0m",
      "\u001b[1;31mStopIteration\u001b[0m                             Traceback (most recent call last)",
      "Cell \u001b[1;32mIn[2], line 21\u001b[0m\n\u001b[0;32m     19\u001b[0m \u001b[38;5;28mprint\u001b[39m(\u001b[38;5;28mnext\u001b[39m(it)) \u001b[38;5;66;03m# 1\u001b[39;00m\n\u001b[0;32m     20\u001b[0m \u001b[38;5;28mprint\u001b[39m(\u001b[38;5;28mnext\u001b[39m(it)) \u001b[38;5;66;03m# 2\u001b[39;00m\n\u001b[1;32m---> 21\u001b[0m \u001b[38;5;28mprint\u001b[39m(\u001b[38;5;28;43mnext\u001b[39;49m\u001b[43m(\u001b[49m\u001b[43mit\u001b[49m\u001b[43m)\u001b[49m)\n",
      "Cell \u001b[1;32mIn[2], line 15\u001b[0m, in \u001b[0;36mMyIterator.__next__\u001b[1;34m(self)\u001b[0m\n\u001b[0;32m     13\u001b[0m     \u001b[38;5;28;01mreturn\u001b[39;00m i\n\u001b[0;32m     14\u001b[0m \u001b[38;5;28;01melse\u001b[39;00m:\n\u001b[1;32m---> 15\u001b[0m     \u001b[38;5;28;01mraise\u001b[39;00m \u001b[38;5;167;01mStopIteration\u001b[39;00m()\n",
      "\u001b[1;31mStopIteration\u001b[0m: "
     ]
    }
   ],
   "source": [
    "class MyIterator:\n",
    "    def __init__(self, n):\n",
    "        self.n = n\n",
    "        self.i = 0\n",
    "\n",
    "    def __iter__(self):\n",
    "        return self\n",
    "\n",
    "    def __next__(self):\n",
    "        if self.i < self.n:\n",
    "            i = self.i\n",
    "            self.i += 1\n",
    "            return i\n",
    "        else:\n",
    "            raise StopIteration()\n",
    "\n",
    "it = MyIterator(3)\n",
    "print(next(it)) # 0\n",
    "print(next(it)) # 1\n",
    "print(next(it)) # 2\n",
    "print(next(it)) # StopIteration"
   ]
  },
  {
   "cell_type": "markdown",
   "id": "7d8a934e",
   "metadata": {},
   "source": [
    "#### Generator Example\n",
    "Let's create a generator that generates the squares of numbers from 0 to n-1:"
   ]
  },
  {
   "cell_type": "code",
   "execution_count": 3,
   "id": "33d543ce",
   "metadata": {},
   "outputs": [
    {
     "name": "stdout",
     "output_type": "stream",
     "text": [
      "0\n",
      "1\n",
      "4\n"
     ]
    },
    {
     "ename": "StopIteration",
     "evalue": "",
     "output_type": "error",
     "traceback": [
      "\u001b[1;31m---------------------------------------------------------------------------\u001b[0m",
      "\u001b[1;31mStopIteration\u001b[0m                             Traceback (most recent call last)",
      "Cell \u001b[1;32mIn[3], line 9\u001b[0m\n\u001b[0;32m      7\u001b[0m \u001b[38;5;28mprint\u001b[39m(\u001b[38;5;28mnext\u001b[39m(g)) \u001b[38;5;66;03m# 1\u001b[39;00m\n\u001b[0;32m      8\u001b[0m \u001b[38;5;28mprint\u001b[39m(\u001b[38;5;28mnext\u001b[39m(g)) \u001b[38;5;66;03m# 4\u001b[39;00m\n\u001b[1;32m----> 9\u001b[0m \u001b[38;5;28mprint\u001b[39m(\u001b[38;5;28;43mnext\u001b[39;49m\u001b[43m(\u001b[49m\u001b[43mg\u001b[49m\u001b[43m)\u001b[49m)\n",
      "\u001b[1;31mStopIteration\u001b[0m: "
     ]
    }
   ],
   "source": [
    "def my_generator(n):\n",
    "    for i in range(n):\n",
    "        yield i**2\n",
    "\n",
    "g = my_generator(3)\n",
    "print(next(g)) # 0\n",
    "print(next(g)) # 1\n",
    "print(next(g)) # 4\n",
    "print(next(g)) # StopIteration"
   ]
  },
  {
   "cell_type": "markdown",
   "id": "e3e953b1",
   "metadata": {},
   "source": [
    "#### Iterating over Built-in Iterables\n",
    "We can use the `iter()` function to create an iterator from a built-in iterable object, such as a string or a list:"
   ]
  },
  {
   "cell_type": "code",
   "execution_count": 4,
   "id": "71cd7cda",
   "metadata": {},
   "outputs": [
    {
     "name": "stdout",
     "output_type": "stream",
     "text": [
      "1\n",
      "2\n",
      "3\n"
     ]
    },
    {
     "ename": "StopIteration",
     "evalue": "",
     "output_type": "error",
     "traceback": [
      "\u001b[1;31m---------------------------------------------------------------------------\u001b[0m",
      "\u001b[1;31mStopIteration\u001b[0m                             Traceback (most recent call last)",
      "Cell \u001b[1;32mIn[4], line 6\u001b[0m\n\u001b[0;32m      4\u001b[0m \u001b[38;5;28mprint\u001b[39m(\u001b[38;5;28mnext\u001b[39m(my_iter)) \u001b[38;5;66;03m# 2\u001b[39;00m\n\u001b[0;32m      5\u001b[0m \u001b[38;5;28mprint\u001b[39m(\u001b[38;5;28mnext\u001b[39m(my_iter)) \u001b[38;5;66;03m# 3\u001b[39;00m\n\u001b[1;32m----> 6\u001b[0m \u001b[38;5;28mprint\u001b[39m(\u001b[38;5;28;43mnext\u001b[39;49m\u001b[43m(\u001b[49m\u001b[43mmy_iter\u001b[49m\u001b[43m)\u001b[49m) \u001b[38;5;66;03m# StopIteration\u001b[39;00m\n\u001b[0;32m      8\u001b[0m my_string \u001b[38;5;241m=\u001b[39m \u001b[38;5;124m\"\u001b[39m\u001b[38;5;124mhello\u001b[39m\u001b[38;5;124m\"\u001b[39m\n\u001b[0;32m      9\u001b[0m my_iter \u001b[38;5;241m=\u001b[39m \u001b[38;5;28miter\u001b[39m(my_string)\n",
      "\u001b[1;31mStopIteration\u001b[0m: "
     ]
    }
   ],
   "source": [
    "my_list = [1, 2, 3]\n",
    "my_iter = iter(my_list)\n",
    "print(next(my_iter)) # 1\n",
    "print(next(my_iter)) # 2\n",
    "print(next(my_iter)) # 3\n",
    "print(next(my_iter)) # StopIteration\n",
    "\n",
    "my_string = \"hello\"\n",
    "my_iter = iter(my_string)\n",
    "print(next(my_iter)) # '"
   ]
  },
  {
   "cell_type": "markdown",
   "id": "f399c3a4",
   "metadata": {},
   "source": [
    "## 33. Comprehensions in Python\n",
    "Comprehensions in Python are a concise and elegant way to create sequences like lists, sets, or dictionaries. They provide a readable and compact syntax to define the elements of a sequence. Comprehensions can be used to create different types of sequences, such as list comprehensions, set comprehensions, and dictionary comprehensions. Additionally, Python provides generator comprehensions, which are similar to list comprehensions but generate a generator object instead of a list.\n",
    "\n",
    "### 33.1 List Comprehension\n",
    "List comprehension is used to create lists based on an iterable, with an optional filtering condition. The syntax of a list comprehension is as follows:"
   ]
  },
  {
   "cell_type": "raw",
   "id": "cbabc306",
   "metadata": {},
   "source": [
    "[expression for item in iterable if condition]"
   ]
  },
  {
   "cell_type": "markdown",
   "id": "691d1ce7",
   "metadata": {},
   "source": [
    "Here, `expression` is the operation or calculation to perform on each item, `item` is the variable representing each element in the iterable, `iterable` is the sequence of elements to iterate over, and `condition` is an optional filtering condition.\n",
    "\n",
    "Example:"
   ]
  },
  {
   "cell_type": "code",
   "execution_count": 6,
   "id": "f045896c",
   "metadata": {},
   "outputs": [
    {
     "name": "stdout",
     "output_type": "stream",
     "text": [
      "[0, 2, 4, 6, 8]\n"
     ]
    }
   ],
   "source": [
    "even_numbers = [num for num in range(10) if num % 2 == 0]\n",
    "print(even_numbers)"
   ]
  },
  {
   "cell_type": "markdown",
   "id": "e4a1c8c1",
   "metadata": {},
   "source": [
    "### 33.2 Set Comprehension\n",
    "Set comprehension is used to create sets based on an iterable, with an optional filtering condition. The syntax of a set comprehension is similar to that of a list comprehension, except that curly braces are used instead of square brackets.\n",
    "\n",
    "Example:"
   ]
  },
  {
   "cell_type": "code",
   "execution_count": 8,
   "id": "0b6ead4f",
   "metadata": {},
   "outputs": [
    {
     "name": "stdout",
     "output_type": "stream",
     "text": [
      "{0, 1, 2}\n"
     ]
    }
   ],
   "source": [
    "unique_numbers = {num % 3 for num in range(10)}\n",
    "print(unique_numbers)"
   ]
  },
  {
   "cell_type": "markdown",
   "id": "02fa2ea9",
   "metadata": {},
   "source": [
    "### 33.3 Dictionary Comprehension\n",
    "Dictionary comprehension is used to create dictionaries based on an iterable, with an optional filtering condition. The syntax of a dictionary comprehension is as follows:"
   ]
  },
  {
   "cell_type": "raw",
   "id": "33dcc60f",
   "metadata": {},
   "source": [
    "{key_expression: value_expression for item in iterable if condition}"
   ]
  },
  {
   "cell_type": "markdown",
   "id": "81185db1",
   "metadata": {},
   "source": [
    "Here, `key_expression` and `value_expression` are expressions that define the key-value pairs in the dictionary, `item` is the variable representing each element in the iterable, `iterable` is the sequence of elements to iterate over, and `condition` is an optional filtering condition.\n",
    "\n",
    "Example:"
   ]
  },
  {
   "cell_type": "code",
   "execution_count": 9,
   "id": "dabb2e1e",
   "metadata": {},
   "outputs": [
    {
     "name": "stdout",
     "output_type": "stream",
     "text": [
      "{0: 0, 1: 1, 2: 4, 3: 9, 4: 16, 5: 25, 6: 36, 7: 49, 8: 64, 9: 81}\n"
     ]
    }
   ],
   "source": [
    "squares = {num: num**2 for num in range(10)}\n",
    "print(squares)"
   ]
  },
  {
   "cell_type": "markdown",
   "id": "9187cb08",
   "metadata": {},
   "source": [
    "### 33.4 Generator Comprehension\n",
    "Generator comprehension, also called generator expressions, are similar to list comprehensions but generate a generator object instead of a list. The syntax of a generator comprehension is the same as that of a list comprehension, except that parentheses are used instead of square brackets.\n",
    "\n",
    "Example:"
   ]
  },
  {
   "cell_type": "code",
   "execution_count": 10,
   "id": "2d43b17d",
   "metadata": {},
   "outputs": [
    {
     "name": "stdout",
     "output_type": "stream",
     "text": [
      "<class 'generator'>\n",
      "0\n",
      "2\n",
      "4\n",
      "6\n",
      "8\n"
     ]
    }
   ],
   "source": [
    "even_numbers = (num for num in range(10) if num % 2 == 0)\n",
    "print(type(even_numbers))\n",
    "for num in even_numbers:\n",
    "    print(num)"
   ]
  },
  {
   "cell_type": "markdown",
   "id": "23df78e4",
   "metadata": {},
   "source": [
    "Generator comprehensions are useful when you need to generate large sequences of data on-the-fly, without the need to store them all in memory at once.\n",
    "\n",
    "Comprehensions are a powerful and flexible feature in Python, allowing you to create sequences in a concise and readable syntax. By using comprehensions, you can write more efficient and expressive code, reducing the need for traditional loops and if statements."
   ]
  },
  {
   "cell_type": "markdown",
   "id": "d246c32f",
   "metadata": {},
   "source": [
    "## 34. Using `else` with `for` loops in Python\n",
    "In Python, we can use the `else` statement with `for` loops. The `else` block is executed only when the `for` loop has iterated through all the items in the sequence. If the loop is terminated before completion, due to a `break` statement, the `else` block will not be executed.\n",
    "\n",
    "## Example:\n",
    "\n",
    "Suppose we have a list of numbers and we want to check whether all the numbers are even or not. We can use a for loop to iterate over the list and check each number. If we find an odd number, we can break out of the loop. If we iterate through all the numbers and do not encounter any odd numbers, we can print a message using the else statement."
   ]
  },
  {
   "cell_type": "code",
   "execution_count": 11,
   "id": "8d0c86b0",
   "metadata": {},
   "outputs": [
    {
     "name": "stdout",
     "output_type": "stream",
     "text": [
      "Odd number found!\n"
     ]
    }
   ],
   "source": [
    "numbers = [2, 4, 6, 8, 9, 10]\n",
    "\n",
    "for num in numbers:\n",
    "    if num % 2 != 0:\n",
    "        print(\"Odd number found!\")\n",
    "        break\n",
    "else:\n",
    "    print(\"All numbers are even.\")"
   ]
  },
  {
   "cell_type": "markdown",
   "id": "bab40d2e",
   "metadata": {},
   "source": [
    "In this example, the for loop is terminated when the number 9 is encountered, as it is an odd number. Therefore, the else block is not executed. If all the numbers were even, the output would be:"
   ]
  },
  {
   "cell_type": "raw",
   "id": "4b949117",
   "metadata": {},
   "source": [
    "All numbers are even."
   ]
  },
  {
   "cell_type": "markdown",
   "id": "50133a47",
   "metadata": {},
   "source": [
    "Note that the else block is not executed when a loop is terminated using a `return` statement. This is because `return` immediately exits the function, and does not allow the loop to complete.\n",
    "\n",
    "We can use the else statement with any type of loop in Python, including while loops and nested loops."
   ]
  },
  {
   "cell_type": "markdown",
   "id": "1e19fdd9",
   "metadata": {},
   "source": [
    "## 35. Function Caching in Python\n",
    "Function caching is a technique used to improve the performance of functions that are called repeatedly with the same arguments. The idea is to store the results of previous function calls so that they can be quickly returned if the function is called again with the same arguments. In Python, function caching can be implemented using a decorator.\n",
    "### 35.1 Using `lru_cache` Decorator\n",
    "The `lru_cache` decorator is a built-in function that provides a caching mechanism for Python functions. It is used to cache the results of the function call with the same arguments. The maxsize argument sets the maximum number of results that can be cached.\n",
    "#### Example\n",
    "Here is an example of how to use the lru_cache decorator in Python:"
   ]
  },
  {
   "cell_type": "code",
   "execution_count": 12,
   "id": "bfa74971",
   "metadata": {},
   "outputs": [
    {
     "name": "stdout",
     "output_type": "stream",
     "text": [
      "Now running some code...\n",
      "fibonacci(30) =  832040\n",
      "Time taken for first call:  0.0  seconds\n",
      "fibonacci(30) =  832040\n",
      "Time taken for second call:  0.0  seconds\n",
      "fibonacci(25) =  75025\n",
      "Time taken for third call:  0.0  seconds\n",
      "fibonacci(30) =  832040\n",
      "Time taken for fourth call:  0.0  seconds\n"
     ]
    }
   ],
   "source": [
    "import time\n",
    "from functools import lru_cache\n",
    "\n",
    "@lru_cache(maxsize=3)\n",
    "def fibonacci(n):\n",
    "    if n < 2:\n",
    "        return n\n",
    "    else:\n",
    "        return fibonacci(n-1) + fibonacci(n-2)\n",
    "\n",
    "if __name__ == '__main__':\n",
    "    print(\"Now running some code...\")\n",
    "    start = time.time()\n",
    "    print(\"fibonacci(30) = \", fibonacci(30))\n",
    "    print(\"Time taken for first call: \", time.time() - start, \" seconds\")\n",
    "    \n",
    "    start = time.time()\n",
    "    print(\"fibonacci(30) = \", fibonacci(30))\n",
    "    print(\"Time taken for second call: \", time.time() - start, \" seconds\")\n",
    "    \n",
    "    start = time.time()\n",
    "    print(\"fibonacci(25) = \", fibonacci(25))\n",
    "    print(\"Time taken for third call: \", time.time() - start, \" seconds\")\n",
    "    \n",
    "    start = time.time()\n",
    "    print(\"fibonacci(30) = \", fibonacci(30))\n",
    "    print(\"Time taken for fourth call: \", time.time() - start, \" seconds\")\n"
   ]
  },
  {
   "cell_type": "markdown",
   "id": "31de8e21",
   "metadata": {},
   "source": [
    "In this example, we define a function called `fibonacci` that calculates the nth number in the Fibonacci sequence. We use the `@lru_cache(maxsize=3)` decorator to cache the results of the function call with the same arguments.\n",
    "\n",
    "We call the `fibonacci` function multiple times with the same argument, and we can see that the time taken for the second call is much less than the first call, because the result has already been cached.\n",
    "\n",
    "In the last call to `fibonacci(30)`, the cache has reached its maximum size, so the least recently used result is removed from the cache to make room for the new result.\n",
    "\n",
    "Note that the `lru_cache` decorator only works with functions that take immutable arguments. If a function takes mutable arguments, you should not use the `lru_cache` decorator."
   ]
  },
  {
   "cell_type": "markdown",
   "id": "1e3f370c",
   "metadata": {},
   "source": [
    "## 36. Handling Exceptions with Else and Finally in Python\n",
    "In Python, exceptions are used to handle the errors that occur during program execution. We use try-except blocks to handle exceptions in Python. However, we can also use else and finally blocks along with the try-except block to perform additional actions.\n",
    "\n",
    "### 36.1 Theory\n",
    "The try block contains the code that may raise an exception. The except block contains the code that handles the exception if it occurs. The else block contains the code that will be executed if the try block does not raise any exception. Finally, the finally block contains the code that will always be executed, regardless of whether an exception was raised or not. \n",
    "\n",
    "#### Example Code:\n",
    "Here's an example code that demonstrates the use of try-except-else-finally blocks in Python:"
   ]
  },
  {
   "cell_type": "code",
   "execution_count": null,
   "id": "d1614fc5",
   "metadata": {},
   "outputs": [],
   "source": [
    "# Opening a file with try-except-else-finally block\n",
    "\n",
    "f1 = open(\"myfile.txt\", \"r\")\n",
    "\n",
    "try:\n",
    "    f = open(\"something.txt\")\n",
    "\n",
    "except Exception as e:\n",
    "    print(e)\n",
    "\n",
    "else:\n",
    "    print(\"This will only run if except is not running.\")\n",
    "\n",
    "finally:\n",
    "    print(\"This will always run no matter code goes into try or exception\")\n",
    "    f1.close()    \n",
    "\n",
    "print(\"Important work done\")"
   ]
  },
  {
   "cell_type": "markdown",
   "id": "ee51083c",
   "metadata": {},
   "source": [
    "In this code, we first open a file 'myfile.txt' in read mode outside the try block. We then try to open another file 'something.txt' in the try block, which may raise an exception if the file does not exist. If an exception occurs, the except block handles the exception by printing the error message.\n",
    "\n",
    "If no exception is raised in the try block, the else block is executed, which prints a message. Finally, the finally block is executed, which closes the file opened outside the try block.\n",
    "\n",
    "\n",
    "The try-except-else-finally block is a useful feature in Python that can help us handle exceptions and perform additional actions when needed. It can be used to ensure that our code always executes properly and any resources opened are closed properly."
   ]
  },
  {
   "cell_type": "markdown",
   "id": "95005370",
   "metadata": {},
   "source": [
    "## 37. Coroutines in Python\n",
    "Coroutines in Python are a powerful feature that allows for cooperative multitasking. Unlike threads, which are managed by the operating system, coroutines are managed by the programmer, allowing for finer-grained control over execution. Coroutines are defined using the `async def` syntax and can be used with the `await` keyword to pause their execution and allow other coroutines to run.\n",
    "\n",
    "### 37.1 Implementing Coroutines\n",
    "Let's take a look at an example of implementing coroutines in Python. In this example, we'll define a `searcher` coroutine that takes a book as input and searches for text in the book. The coroutine will pause execution using the `yield` keyword until it receives input from the user."
   ]
  },
  {
   "cell_type": "code",
   "execution_count": 14,
   "id": "ee2a53fd",
   "metadata": {},
   "outputs": [],
   "source": [
    "import time\n",
    "\n",
    "def searcher():\n",
    "    book = \"This is a book on harry and code with harry and good.\"\n",
    "    time.sleep(4)\n",
    "\n",
    "    while True:\n",
    "        text = (yield)\n",
    "        if text in book:\n",
    "            print(\"Your text is in the book\")\n",
    "        else:\n",
    "            print(\"Your text is not in the book\")"
   ]
  },
  {
   "cell_type": "markdown",
   "id": "5bb6bd6b",
   "metadata": {},
   "source": [
    "In the above code, we define a `searcher` coroutine that reads a book and searches for text in it. The coroutine uses the `time` module to simulate a 4-second time-consuming task. The `yield` keyword is used to pause execution of the coroutine until input is received.\n",
    "\n",
    "Next, we create an instance of the `searcher` coroutine and call the `next()` method to start execution:"
   ]
  },
  {
   "cell_type": "code",
   "execution_count": 15,
   "id": "36d72da9",
   "metadata": {},
   "outputs": [],
   "source": [
    "search = searcher()\n",
    "next(search)"
   ]
  },
  {
   "cell_type": "markdown",
   "id": "5dfdf262",
   "metadata": {},
   "source": [
    "We can now send input to the coroutine using the `send()` method:"
   ]
  },
  {
   "cell_type": "code",
   "execution_count": 16,
   "id": "7086cf5b",
   "metadata": {},
   "outputs": [
    {
     "name": "stdout",
     "output_type": "stream",
     "text": [
      "Your text is in the book\n"
     ]
    }
   ],
   "source": [
    "search.send(\"harry\")"
   ]
  },
  {
   "cell_type": "markdown",
   "id": "3e3e8d30",
   "metadata": {},
   "source": [
    "The coroutine will pause execution until input is received, and then search for the input in the book.\n",
    "\n",
    "### 37.2 Closing Coroutines\n",
    "\n",
    "To close a coroutine, we can use the `close()` method:"
   ]
  },
  {
   "cell_type": "code",
   "execution_count": 17,
   "id": "6f2e5f43",
   "metadata": {},
   "outputs": [],
   "source": [
    "search.close()"
   ]
  },
  {
   "cell_type": "markdown",
   "id": "c86c84bc",
   "metadata": {},
   "source": [
    "After a coroutine is closed, any attempts to send input to it will result in an error."
   ]
  },
  {
   "cell_type": "markdown",
   "id": "d3e8fa43",
   "metadata": {},
   "source": [
    "## 38. Operating System (OS) Module in Python\n",
    "\n",
    "Python provides the built-in `os` module that allows us to interact with the file system and the operating system. It provides a way of using operating system dependent functionality like reading or writing to the file system, handling processes, etc.\n",
    "\n",
    "### 38.1 Working with os module\n",
    "\n",
    "#### Getting the current working directory\n",
    "The `os.getcwd()` method returns the current working directory as a string."
   ]
  },
  {
   "cell_type": "code",
   "execution_count": 19,
   "id": "524b82b3",
   "metadata": {},
   "outputs": [
    {
     "name": "stdout",
     "output_type": "stream",
     "text": [
      "C:\\Users\\ps241\\Documents\n"
     ]
    }
   ],
   "source": [
    "import os\n",
    "\n",
    "print(os.getcwd())"
   ]
  },
  {
   "cell_type": "markdown",
   "id": "67e9a7b1",
   "metadata": {},
   "source": [
    "#### Listing files in a directory\n",
    "The `os.listdir()` method returns a list containing the names of the entries in the directory given by the path argument."
   ]
  },
  {
   "cell_type": "code",
   "execution_count": 20,
   "id": "511144de",
   "metadata": {},
   "outputs": [
    {
     "name": "stdout",
     "output_type": "stream",
     "text": [
      "['.ipynb_checkpoints', '.~The Python Cook', 'My Music', 'My Pictures', 'My Videos', 'sample.txt', 'The Python Cook', 'Untitled.ipynb']\n",
      "['$RECYCLE.BIN', 'Books', 'Important Documents', 'Kaleidoscope', 'Lectures', 'Matlab Codes', 'One Drive', 'OneDriveTemp', 'Others Work', 'personal', 'Poster', 'Presentations', 'Proposals', 'Publications', 'Python Tutorials', 'rtr96A5.tmp', 'System Volume Information']\n"
     ]
    }
   ],
   "source": [
    "import os\n",
    "\n",
    "print(os.listdir())  # list files in the current working directory\n",
    "print(os.listdir(\"D:/\"))  # list files in a specific directory"
   ]
  },
  {
   "cell_type": "markdown",
   "id": "a094f8ab",
   "metadata": {},
   "source": [
    "#### Creating a new directory\n",
    "The `os.mkdir()` method is used to create a new directory. If the directory already exists, it raises an error."
   ]
  },
  {
   "cell_type": "code",
   "execution_count": 21,
   "id": "0b466829",
   "metadata": {},
   "outputs": [],
   "source": [
    "import os\n",
    "\n",
    "os.mkdir(\"mydir\")"
   ]
  },
  {
   "cell_type": "markdown",
   "id": "40948033",
   "metadata": {},
   "source": [
    "To create a directory with multiple subdirectories, the `os.makedirs()` method can be used."
   ]
  },
  {
   "cell_type": "code",
   "execution_count": 22,
   "id": "c91f87ca",
   "metadata": {},
   "outputs": [],
   "source": [
    "import os\n",
    "\n",
    "os.makedirs(\"dir/subdir\")"
   ]
  },
  {
   "cell_type": "markdown",
   "id": "da8c9262",
   "metadata": {},
   "source": [
    "#### Renaming a file\n",
    "The `os.rename()` method is used to rename a file."
   ]
  },
  {
   "cell_type": "code",
   "execution_count": null,
   "id": "51f1f6ca",
   "metadata": {},
   "outputs": [],
   "source": [
    "import os\n",
    "\n",
    "os.rename(\"old_file.txt\", \"new_file.txt\")"
   ]
  },
  {
   "cell_type": "markdown",
   "id": "3863c584",
   "metadata": {},
   "source": [
    "#### Environment variables\n",
    "The `os.environ` object provides access to the environment variables."
   ]
  },
  {
   "cell_type": "code",
   "execution_count": 24,
   "id": "deee8676",
   "metadata": {},
   "outputs": [
    {
     "name": "stdout",
     "output_type": "stream",
     "text": [
      "None\n"
     ]
    }
   ],
   "source": [
    "import os\n",
    "\n",
    "print(os.environ.get(\"HOME\"))  # prints the value of the environment variable HOME"
   ]
  },
  {
   "cell_type": "markdown",
   "id": "0382c0b8",
   "metadata": {},
   "source": [
    "#### Joining paths\n",
    "The `os.path.join()` method is used to join one or more path components intelligently."
   ]
  },
  {
   "cell_type": "code",
   "execution_count": 25,
   "id": "3a4c543d",
   "metadata": {},
   "outputs": [
    {
     "name": "stdout",
     "output_type": "stream",
     "text": [
      "D:/mydir\\subdir\n"
     ]
    }
   ],
   "source": [
    "import os\n",
    "\n",
    "print(os.path.join(\"D:/\", \"mydir\", \"subdir\"))"
   ]
  },
  {
   "cell_type": "markdown",
   "id": "616cf19f",
   "metadata": {},
   "source": [
    "#### Checking if a path exists\n",
    "The `os.path.exists()` method returns `True` if the path exists, otherwise it returns `False`."
   ]
  },
  {
   "cell_type": "code",
   "execution_count": 26,
   "id": "b1ee220e",
   "metadata": {},
   "outputs": [
    {
     "name": "stdout",
     "output_type": "stream",
     "text": [
      "True\n"
     ]
    }
   ],
   "source": [
    "import os\n",
    "\n",
    "print(os.path.exists(\"D:/\"))  # True if the path exists"
   ]
  },
  {
   "cell_type": "markdown",
   "id": "f249f3aa",
   "metadata": {},
   "source": [
    "#### Checking if a path is a file or a directory\n",
    "The `os.path.isfile()` method returns `True` if the path is a file, otherwise it returns `False`. The `os.path.isdir()` method returns `True` if the path is a directory, otherwise it returns `False`."
   ]
  },
  {
   "cell_type": "code",
   "execution_count": 27,
   "id": "17db7fea",
   "metadata": {},
   "outputs": [
    {
     "name": "stdout",
     "output_type": "stream",
     "text": [
      "False\n",
      "True\n"
     ]
    }
   ],
   "source": [
    "import os\n",
    "\n",
    "print(os.path.isfile(\"file.txt\"))  # True if the file exists\n",
    "print(os.path.isdir(\"mydir\"))  # True if the directory exists"
   ]
  },
  {
   "cell_type": "markdown",
   "id": "f87c837b",
   "metadata": {},
   "source": [
    "## 39. Working with Requests Module\n",
    "The requests module is a Python library used for making HTTP requests. It abstracts the complexities of making requests behind a simple API, making it easier for developers to focus on their application's logic rather than the underlying networking code.\n",
    "\n",
    "The requests module supports many HTTP methods such as GET, POST, PUT, DELETE, etc. It also provides features like authentication, cookies, headers, file uploads, timeouts, proxies, and more. The module supports handling response codes and errors, handling redirects, and handling sessions for making multiple requests to the same server with persistent cookies and authentication information.\n",
    "\n",
    "### 39.1 Making a GET Request using `requests.get()`\n",
    "We can use the `requests.get()` method to send a GET request to a specified URL and receive the response. The response is stored in the `r` variable."
   ]
  },
  {
   "cell_type": "code",
   "execution_count": 29,
   "id": "bd350e86",
   "metadata": {},
   "outputs": [
    {
     "name": "stdout",
     "output_type": "stream",
     "text": [
      "<!doctype html><html data-n-head-ssr><head><title>Free Stock Market API and Financial Statements API - FMP API</title><meta data-n-head=\"ssr\" charset=\"utf-8\"><meta data-n-head=\"ssr\" name=\"viewport\" content=\"width=device-width,initial-scale=1\"><meta data-n-head=\"ssr\" data-hid=\"description\" name=\"description\" content=\"Check out our financial data API documentation. Fin the most accurate stock market API, and more. Get real-time updates for financial statements.\"><meta data-n-head=\"ssr\" data-hid=\"theme-color\" name=\"theme-color\" content=\"#333\"><meta data-n-head=\"ssr\" data-hid=\"keywords\" name=\"keywords\" content=\"financial statement API, stock API, historical stock API, free stocks API, company statements, enterprise value API, real time company stock price\"><meta data-n-head=\"ssr\" data-hid=\"og:description\" property=\"og:description\" content=\"This documentation includes a financial statements API, a free stock API and a historical quotes API. Find all companies financial reports, company stock prices in Real-time.\"><meta data-n-head=\"ssr\" data-hid=\"og:title\" property=\"og:title\" content=\"Free Stock API and Financial Statements API - FMP API\"><meta data-n-head=\"ssr\" data-hid=\"og:url\" property=\"og:url\" content=\"https://financialmodelingprep.com/developer/docs\"><meta data-n-head=\"ssr\" data-hid=\"og:site_name\" property=\"og:site_name\" content=\"Financial Modeling Prep\"><meta data-n-head=\"ssr\" data-hid=\"og:image\" property=\"og:image\" content=\"https://financialmodelingprep.com/screenshot/complete/_developer__complete.png\"><meta data-n-head=\"ssr\" data-hid=\"og:image:height\" property=\"og:image:height\" content=\"300\"><meta data-n-head=\"ssr\" data-hid=\"og:image:width\" property=\"og:image:width\" content=\"300\"><meta data-n-head=\"ssr\" data-hid=\"twitter:card\" name=\"twitter:card\" content=\"summary_large_image\"><meta data-n-head=\"ssr\" data-hid=\"twitter:text:title\" name=\"twitter:text:title\" content=\"Free Stock API and Financial Statements API - FMP API\"><meta data-n-head=\"ssr\" data-hid=\"twitter:image:src\" name=\"twitter:image:src\" content=\"https://financialmodelingprep.com/screenshot/complete/_developer__complete.png\"><meta data-n-head=\"ssr\" data-hid=\"twitter:image\" name=\"twitter:image\" content=\"https://financialmodelingprep.com/screenshot/complete/_developer__complete.png\"><meta data-n-head=\"ssr\" data-hid=\"twitter:title\" name=\"twitter:title\" content=\"Free Stock API and Financial Statements API - FMP API\"><meta data-n-head=\"ssr\" data-hid=\"twitter:description\" name=\"twitter:description\" content=\"This documentation includes a financial statements API, a free stock API and a historical quotes API. Find all companies financial reports, company stock prices in Real-time.\"><meta data-n-head=\"ssr\" data-hid=\"twitter:site\" name=\"twitter:site\" content=\"@financial_mod\"><meta data-n-head=\"ssr\" data-hid=\"twitter:url\" name=\"twitter:url\" content=\"https://financialmodelingprep.com/developer/docs\"><meta data-n-head=\"ssr\" data-hid=\"twitter:images0\" name=\"twitter:images0\" content=\"https://financialmodelingprep.com/screenshot/complete/_developer__complete.png\"><meta data-n-head=\"ssr\" data-hid=\"og:type\" property=\"og:type\" content=\"website\"><meta data-n-head=\"ssr\" data-hid=\"fb:app_id\" property=\"fb:app_id\" content=\"140395543294453\"><link data-n-head=\"ssr\" rel=\"icon\" type=\"image/x-icon\" href=\"https://site.financialmodelingprep.com/favicon.ico\"><link data-n-head=\"ssr\" rel=\"manifest-touch-icon\" href=\"https://site.financialmodelingprep.com/manifest.json\"><link data-n-head=\"ssr\" rel=\"manifest\" href=\"https://site.financialmodelingprep.com/manifest.json\"><link data-n-head=\"ssr\" rel=\"apple\" sizes=\"180x180\" href=\"https://site.financialmodelingprep.com/apple-touch-icon.png\"><link data-n-head=\"ssr\" rel=\"icon\" type=\"image/png\" href=\"https://site.financialmodelingprep.com/favicon-32x32.png\" sizes=\"32x32\"><link data-n-head=\"ssr\" rel=\"icon\" type=\"image/png\" href=\"https://site.financialmodelingprep.com/favicon-16x16.png\" sizes=\"16x16\"><link data-n-head=\"ssr\" rel=\"icon\" type=\"image/x-icon\" href=\"https://site.financialmodelingprep.com/favicon.ico\"><link data-n-head=\"ssr\" rel=\"mask-icon\" color=\"#5bbad5\" href=\"https://site.financialmodelingprep.com/safari-pinned-tab.svg\"><link data-n-head=\"ssr\" rel=\"stylesheet\" type=\"text/css\" href=\"https://fonts.googleapis.com/css2?family=Jost:wght@300;500;700;900&display=swap\"><link data-n-head=\"ssr\" http-equiv=\"Content-Security-Policy\" content='script-src \"self\" https://js.stripe.com https://m.stripe.network'><link data-n-head=\"ssr\" rel=\"canonical\" href=\"https://site.financialmodelingprep.com/developer/docs\"><script data-n-head=\"ssr\" async src=\"https://cdnjs.cloudflare.com/ajax/libs/jquery/3.1.0/jquery.min.js\" type=\"text/javascript\"></script><link rel=\"preload\" href=\"/nuxt/2747e0d.js\" as=\"script\"><link rel=\"preload\" href=\"/nuxt/c7d7e25.js\" as=\"script\"><link rel=\"preload\" href=\"/nuxt/256da5c.js\" as=\"script\"><link rel=\"preload\" href=\"/nuxt/1b72826.js\" as=\"script\"><link rel=\"preload\" href=\"/nuxt/b79b68a.js\" as=\"script\"><style data-vue-ssr-id=\"0ac80742:0 3191d5ad:0 932a8f60:0 9b97f11c:0 60f725f8:0 40b75dc2:0 594848b2:0 e681f372:0 e9ac0030:0 66e8a595:0\">@-webkit-keyframes showTabLeft{0%{opacity:0;transform:translateX(-25px)}to{opacity:1;transform:translateX(0)}}@keyframes showTabLeft{0%{opacity:0;transform:translateX(-25px)}to{opacity:1;transform:translateX(0)}}@-webkit-keyframes showFromBottom{0%{transform:translateY(30px);opacity:0}to{opacity:1;transform:translateY(0)}}@keyframes showFromBottom{0%{transform:translateY(30px);opacity:0}to{opacity:1;transform:translateY(0)}}@-webkit-keyframes showFromTop{0%{transform:translateY(-30px);opacity:0}to{opacity:1;transform:translateY(0)}}@keyframes showFromTop{0%{transform:translateY(-30px);opacity:0}to{opacity:1;transform:translateY(0)}}@-webkit-keyframes showFromRight{0%{transform:translateX(30px);opacity:0}to{opacity:1;transform:translateY(0)}}@keyframes showFromRight{0%{transform:translateX(30px);opacity:0}to{opacity:1;transform:translateY(0)}}@-webkit-keyframes rotateArrowUp{0%{transform:translateZ(0) scaleX(1) rotateX(0) rotateY(0) rotate(0) skew(0deg,0deg)}15%{transform:translateZ(0) scaleX(1) rotateX(0) rotateY(0) rotate(-30deg) skew(0deg,0deg)}85%{transform:translateZ(0) scaleX(1) rotateX(0) rotateY(0) rotate(210deg) skew(0deg,0deg)}95%{transform:translateZ(0) scaleX(1) rotateX(0) rotateY(0) rotate(190deg) skew(0deg,0deg)}to{transform:translateZ(0) scaleX(1) rotateX(0) rotateY(0) rotate(180deg) skew(0deg,0deg)}}@keyframes rotateArrowUp{0%{transform:translateZ(0) scaleX(1) rotateX(0) rotateY(0) rotate(0) skew(0deg,0deg)}15%{transform:translateZ(0) scaleX(1) rotateX(0) rotateY(0) rotate(-30deg) skew(0deg,0deg)}85%{transform:translateZ(0) scaleX(1) rotateX(0) rotateY(0) rotate(210deg) skew(0deg,0deg)}95%{transform:translateZ(0) scaleX(1) rotateX(0) rotateY(0) rotate(190deg) skew(0deg,0deg)}to{transform:translateZ(0) scaleX(1) rotateX(0) rotateY(0) rotate(180deg) skew(0deg,0deg)}}@-webkit-keyframes rotateArrowDown{0%{transform:translateZ(0) scaleX(1) rotateX(0) rotateY(0) rotate(180deg) skew(0deg,0deg)}15%{transform:translateZ(0) scaleX(1) rotateX(0) rotateY(0) rotate(210deg) skew(0deg,0deg)}85%{transform:translateZ(0) scaleX(1) rotateX(0) rotateY(0) rotate(-30deg) skew(0deg,0deg)}95%{transform:translateZ(0) scaleX(1) rotateX(0) rotateY(0) rotate(-10deg) skew(0deg,0deg)}to{transform:translateZ(0) scaleX(1) rotateX(0) rotateY(0) rotate(0) skew(0deg,0deg)}}@keyframes rotateArrowDown{0%{transform:translateZ(0) scaleX(1) rotateX(0) rotateY(0) rotate(180deg) skew(0deg,0deg)}15%{transform:translateZ(0) scaleX(1) rotateX(0) rotateY(0) rotate(210deg) skew(0deg,0deg)}85%{transform:translateZ(0) scaleX(1) rotateX(0) rotateY(0) rotate(-30deg) skew(0deg,0deg)}95%{transform:translateZ(0) scaleX(1) rotateX(0) rotateY(0) rotate(-10deg) skew(0deg,0deg)}to{transform:translateZ(0) scaleX(1) rotateX(0) rotateY(0) rotate(0) skew(0deg,0deg)}}@font-face{font-family:Eina;font-weight:400;src:url(//cdn.financialmodelingprep.com/fonts/Eina-normal.eot);src:url(//cdn.financialmodelingprep.com/fonts/Eina-normal.eot#iefix) format(\"embedded-opentype\"),url(//financial-modeling-prep-sas.mo.cloudinary.net/Eina-normal.woff2) format(\"woff2\"),url(//financial-modeling-prep-sas.mo.cloudinary.net/Eina-normal.woff) format(\"woff\"),url(//financial-modeling-prep-sas.mo.cloudinary.net/Eina-normal.ttf) format(\"truetype\"),url(//cdn.financialmodelingprep.com/fonts/Eina-normal.svg#Eina01-Regular) format(\"svg\");font-display:swap}@font-face{font-family:Eina;font-weight:700;src:url(//cdn.financialmodelingprep.com/fonts/Eina-bold.eot);src:url(//cdn.financialmodelingprep.com/fonts/Eina-bold.eot#iefix) format(\"embedded-opentype\"),url(//cdn.financialmodelingprep.com/fonts/Eina-bold.woff2) format(\"woff2\"),url(//cdn.financialmodelingprep.com/fonts/Eina-bold.woff) format(\"woff\"),url(//cdn.financialmodelingprep.com/fonts/Eina-bold.ttf) format(\"truetype\"),url(//cdn.financialmodelingprep.com/fonts/Eina-bold.svg#Eina01-Bold) format(\"svg\");font-display:swap}@font-face{font-family:Eina;font-weight:600;src:url(//cdn.financialmodelingprep.com/fonts/Eina-semibold.eot);src:url(//cdn.financialmodelingprep.com/fonts/Eina-semibold.eot#iefix) format(\"embedded-opentype\"),url(//financial-modeling-prep-sas.mo.cloudinary.net/Eina-semibold.woff2) format(\"woff2\"),url(//cdn.financialmodelingprep.com/fonts/Eina-semibold.woff) format(\"woff\"),url(//cdn.financialmodelingprep.com/fonts/Eina-semibold.ttf) format(\"truetype\"),url(//cdn.financialmodelingprep.com/fonts/Eina-semibold.svg#Eina) format(\"svg\");font-display:swap}*,:after,:before{box-sizing:border-box;margin:0;transition:all .2s}:root{--tooltipColor:#485973;--tooltipTransform:translate(-50%,-5px);--tooltipTransition:opacity 0.15s ease-in-out,transform 0.15s ease-in-out}html{font-size:16px;word-spacing:1px;-ms-text-size-adjust:100%;-webkit-text-size-adjust:100%;-moz-osx-font-smoothing:grayscale;-webkit-font-smoothing:antialiased;box-sizing:border-box;background:#fff;color:#202124;overflow-x:hidden}body,button,html{font-family:Eina}button,input{outline:0}ul{padding-left:10px;list-style-type:disc}input[type=email],input[type=password],input[type=text],textarea{background-color:#f8f8f8;padding:12px 20px;border:1px solid #dbdbdb;font-weight:400;color:#181d34;border-radius:5px;font-weight:600;font-family:Eina}[data-tooltip]{position:relative}[data-tooltip]:before{content:attr(data-tooltip);background:#485973;background:var(--tooltipColor);bottom:65%;padding:7px 10px;border-radius:3px;font-size:.925em;font-weight:500;white-space:nowrap;color:#fff}[data-tooltip]:after,[data-tooltip]:before{position:absolute;left:50%;transform:translate(-50%,-5px);transform:var(--tooltipTransform);opacity:0;transition:opacity .15s ease-in-out,transform .15s ease-in-out;transition:var(--tooltipTransition)}[data-tooltip]:after{content:\"\";bottom:calc(65% - 5px);width:0;height:0;border-color:#485973 transparent transparent;border-left:5px solid transparent;border-bottom:0 solid transparent;border-right:5px solid transparent;border-top:5px solid var(--tooltipColor)}[data-tooltip]:focus,[data-tooltip]:hover{--tooltipTransform:translate(-50%,-10px)}[data-tooltip]:focus:after,[data-tooltip]:focus:before,[data-tooltip]:hover:after,[data-tooltip]:hover:before{opacity:1}p{font-size:16px}.h6,h6{font-size:13px;font-weight:400}.h5,h5{font-size:14px}.h4,h4{font-size:16px}.h3,h3{font-size:20px}.h2,h2{font-size:30px}h1,h2{font-weight:900}.h1,h1{font-size:45px}@media only screen and (max-width:700px){p{font-size:13px}}@media only screen and (min-width:1800px){.h6,h6{font-size:16px}.h5,h5{font-size:18px}.h4,h4{font-size:22px}.h3,h3{font-size:29px}.h2,h2{font-size:35px}.h1,h1{font-size:50px}}.flex-column{flex-direction:column}.flex-center{display:flex;align-items:center;justify-content:center}.color-primary{color:#1274ed}.global-button{text-decoration:none;margin-right:.8em;border-radius:.5rem;color:#eaeaea;padding:15px 30px;font-weight:700;text-align:center;background:#1274ed;box-shadow:0 0 10px 5px rgba(0,0,0,.1);border:0;cursor:pointer}.global-button.small{font-size:14px;padding:10px 15px;border-radius:10px}.global-button.white{background:#fff;color:#181d34;box-shadow:none}.global-button.disabled{background:0 0;background-color:#f8f8f8;color:#a2afcb;box-shadow:none;cursor:auto;-webkit-user-select:none;-moz-user-select:none;-ms-user-select:none;user-select:none}.global-button.disabled:hover{transform:scale(1);background-color:#f8f8f8;color:#a2afcb!important}.global-button:active,.global-button:hover{text-decoration:none;color:#fff!important;background-color:#272ed9}.global-button-border{border-radius:10px;padding:10px 18px;border:1px solid #1274ed;display:flex;align-items:center;justify-content:center;text-align:center}.global-button-border:hover{background-color:#1274ed!important;color:#eaeaea!important}.global-button-border.small{padding:3px 10px}.dashboard-button-dark{display:flex;align-items:center;justify-content:center;text-decoration:none;background-color:#646373;border-radius:5px;color:#fff;padding:.4em 1.2em;font-size:15px;box-shadow:0 7px 10px rgba(72,89,115,.1);transition:all .4s;border:none;font-weight:400;cursor:pointer;font-family:Eina}.dashboard-button-dark.disabled{background-color:#a1a1a1;box-shadow:none;cursor:default}.dashboard-button-dark.disabled:hover{transform:none;box-shadow:none;background-color:#a1a1a1}.dashboard-button-dark:hover{background-color:#1274ed}.dashboard-button-dark.in-progess:hover{background-color:#485973}.dashboard-content-box{border-radius:5px;background-color:#fff;padding:25px;width:100%;color:#646373;border:1px solid #dbdbdb}.dashboard-button{background-color:#1274ed;color:#fff;padding:5px 15px;border-radius:5px;cursor:pointer;transition:all .4s;border:0}.dashboard-button:hover{background-color:rgba(0,117,201,.89804)}.btn-register{color:#000;border:1.5px solid #e9e9e9;margin-bottom:.5em;text-decoration:none;padding:10px 25px;width:100%;display:flex;justify-content:space-between;align-items:center;transition:all .4s;border-radius:5px;cursor:pointer}.btn-register svg{margin-right:10px;width:25px;height:25px;transition:all .4s}.btn-register h5{margin:auto;padding-right:25px;transition:all .4s}.btn-register:hover{border:1.5px solid #fff}.btn-register:hover h5{color:#fff}.btn-register.google-button svg{fill:#dd4b39}.btn-register.google-button:hover{background-color:#dd4b39}.btn-register.google-button:hover svg{fill:#fff}.anchor-main{text-decoration:none;color:#1274ed}.page .top-page h1{margin-top:100px}.nuxt-progress{position:fixed;top:0;left:0;right:0;height:2px;width:0;opacity:1;transition:width .1s,opacity .4s;background-color:#fff;z-index:999999}.nuxt-progress.nuxt-progress-notransition{transition:none}.nuxt-progress-failed{background-color:red}to{opacity:1;transform:translateX(0)}to{opacity:1;transform:translateX(0)}to{opacity:1;transform:translateY(0)}to{opacity:1;transform:translateY(0)}to{opacity:1;transform:translateY(0)}to{opacity:1;transform:translateY(0)}to{opacity:1;transform:translateY(0)}to{opacity:1;transform:translateY(0)}15%{transform:translateZ(0) scaleX(1) rotateX(0) rotateY(0) rotate(-30deg) skew(0deg,0deg)}85%{transform:translateZ(0) scaleX(1) rotateX(0) rotateY(0) rotate(210deg) skew(0deg,0deg)}95%{transform:translateZ(0) scaleX(1) rotateX(0) rotateY(0) rotate(190deg) skew(0deg,0deg)}to{transform:translateZ(0) scaleX(1) rotateX(0) rotateY(0) rotate(180deg) skew(0deg,0deg)}15%{transform:translateZ(0) scaleX(1) rotateX(0) rotateY(0) rotate(-30deg) skew(0deg,0deg)}85%{transform:translateZ(0) scaleX(1) rotateX(0) rotateY(0) rotate(210deg) skew(0deg,0deg)}95%{transform:translateZ(0) scaleX(1) rotateX(0) rotateY(0) rotate(190deg) skew(0deg,0deg)}to{transform:translateZ(0) scaleX(1) rotateX(0) rotateY(0) rotate(180deg) skew(0deg,0deg)}15%{transform:translateZ(0) scaleX(1) rotateX(0) rotateY(0) rotate(210deg) skew(0deg,0deg)}85%{transform:translateZ(0) scaleX(1) rotateX(0) rotateY(0) rotate(-30deg) skew(0deg,0deg)}95%{transform:translateZ(0) scaleX(1) rotateX(0) rotateY(0) rotate(-10deg) skew(0deg,0deg)}to{transform:translateZ(0) scaleX(1) rotateX(0) rotateY(0) rotate(0) skew(0deg,0deg)}15%{transform:translateZ(0) scaleX(1) rotateX(0) rotateY(0) rotate(210deg) skew(0deg,0deg)}85%{transform:translateZ(0) scaleX(1) rotateX(0) rotateY(0) rotate(-30deg) skew(0deg,0deg)}95%{transform:translateZ(0) scaleX(1) rotateX(0) rotateY(0) rotate(-10deg) skew(0deg,0deg)}to{transform:translateZ(0) scaleX(1) rotateX(0) rotateY(0) rotate(0) skew(0deg,0deg)}@font-face{font-family:Eina;font-weight:700;src:url(//cdn.financialmodelingprep.com/fonts/Eina-bold.eot);src:url(//cdn.financialmodelingprep.com/fonts/Eina-bold.eot#iefix) format(\"embedded-opentype\"),url(//cdn.financialmodelingprep.com/fonts/Eina-bold.woff2) format(\"woff2\"),url(//cdn.financialmodelingprep.com/fonts/Eina-bold.woff) format(\"woff\"),url(//cdn.financialmodelingprep.com/fonts/Eina-bold.ttf) format(\"truetype\"),url(//cdn.financialmodelingprep.com/fonts/Eina-bold.svg#Eina01-Bold) format(\"svg\");font-display:swap}@font-face{font-family:Eina;font-weight:600;src:url(//cdn.financialmodelingprep.com/fonts/Eina-semibold.eot);src:url(//cdn.financialmodelingprep.com/fonts/Eina-semibold.eot#iefix) format(\"embedded-opentype\"),url(//financial-modeling-prep-sas.mo.cloudinary.net/Eina-semibold.woff2) format(\"woff2\"),url(//cdn.financialmodelingprep.com/fonts/Eina-semibold.woff) format(\"woff\"),url(//cdn.financialmodelingprep.com/fonts/Eina-semibold.ttf) format(\"truetype\"),url(//cdn.financialmodelingprep.com/fonts/Eina-semibold.svg#Eina) format(\"svg\");font-display:swap}*,:after,:before{box-sizing:border-box;margin:0;transition:all .2s}:root{--tooltipColor:#485973;--tooltipTransform:translate(-50%,-5px);--tooltipTransition:opacity 0.15s ease-in-out,transform 0.15s ease-in-out}html{font-size:16px;word-spacing:1px;-ms-text-size-adjust:100%;-webkit-text-size-adjust:100%;-moz-osx-font-smoothing:grayscale;-webkit-font-smoothing:antialiased;box-sizing:border-box;background:#fff;color:#202124;overflow-x:hidden}body,button,html{font-family:Eina}button,input{outline:0}ul{padding-left:10px;list-style-type:disc}input[type=email],input[type=password],input[type=text],textarea{background-color:$bg-grey;padding:12px 20px;border:1px solid $light-border;font-weight:400;color:$color-black;border-radius:5px;font-weight:600;font-family:Eina}[data-tooltip]{position:relative}p{font-size:16px}.h6,h6{font-size:13px;font-weight:400}.h5,h5{font-size:14px}.h4,h4{font-size:16px}.h3,h3{font-size:20px}.h2,h2{font-size:30px}h1,h2{font-weight:900}.h1,h1{font-size:45px}@media only screen and (max-width:700px){p{font-size:13px}}@media only screen and (min-width:$desktop-fullhd){.h6,h6{font-size:16px}.h5,h5{font-size:18px}.h4,h4{font-size:22px}.h3,h3{font-size:29px}.h2,h2{font-size:35px}.h1,h1{font-size:50px}}.flex-column{flex-direction:column}.flex-center{display:flex;align-items:center;justify-content:center}.color-primary{color:$color-primary}.global-button{text-decoration:none;margin-right:.8em;border-radius:.5rem;color:$color-white;padding:15px 30px;font-weight:700;text-align:center;background:$color-primary;box-shadow:0 0 10px 5px rgba(0,0,0,.1);border:0;cursor:pointer}.global-button.small{font-size:14px;padding:10px 15px;border-radius:10px}.global-button.white{background:#fff;color:$color-black;box-shadow:none}.global-button.disabled{background:0 0;background-color:$bg-grey;color:#a2afcb;box-shadow:none;cursor:auto;-webkit-user-select:none;-moz-user-select:none;-ms-user-select:none;user-select:none}.global-button:active,.global-button:hover{text-decoration:none;color:#fff!important;background-color:$color-primary-dark}.global-button-border{border-radius:10px;padding:10px 18px;border:1px solid $color-primary;display:flex;align-items:center;justify-content:center;text-align:center}.global-button-border:hover{background-color:$color-primary!important;color:$color-white!important}.global-button-border.small{padding:3px 10px}.dashboard-button-dark{display:flex;align-items:center;justify-content:center;text-decoration:none;background-color:$color-soft;border-radius:5px;color:#fff;padding:.4em 1.2em;font-size:15px;box-shadow:0 7px 10px rgba(#485973,.1);transition:all .4s;border:none;font-weight:400;cursor:pointer;font-family:Eina}.dashboard-button-dark.disabled{background-color:#a1a1a1;box-shadow:none;cursor:default}.dashboard-button-dark.disabled:hover{transform:none;box-shadow:none;background-color:#a1a1a1}.dashboard-button-dark:hover{background-color:$color-primary}.dashboard-button-dark.in-progess:hover{background-color:#485973}.dashboard-content-box{border-radius:5px;background-color:#fff;padding:25px;width:100%;color:$color-soft;border:1px solid $light-border}.dashboard-button{background-color:$color-primary;color:#fff;padding:5px 15px;border-radius:5px;cursor:pointer;transition:all .4s;border:0}.dashboard-button:hover{background-color:rgba(0,117,201,.89804)}.btn-register{color:#000;border:1.5px solid #e9e9e9;margin-bottom:.5em;text-decoration:none;padding:10px 25px;width:100%;display:flex;justify-content:space-between;align-items:center;transition:all .4s;border-radius:5px;cursor:pointer}.btn-register svg{margin-right:10px;width:25px;height:25px;transition:all .4s}.btn-register h5{margin:auto;padding-right:25px;transition:all .4s}.btn-register:hover{border:1.5px solid #fff}.btn-register.google-button:hover{background-color:#dd4b39}.btn-register.google-button:hover svg{fill:#fff}.anchor-main{text-decoration:none;color:$color-primary}.page .top-page h1{margin-top:100px}.button--green{display:inline-block;border-radius:4px;border:1px solid #3b8070;color:#3b8070;text-decoration:none;padding:10px 30px}.button--green:hover{color:#fff;background-color:#3b8070}.button--grey{display:inline-block;border-radius:4px;border:1px solid #35495e;color:#35495e;text-decoration:none;padding:10px 30px;margin-left:15px}.button--grey:hover{color:#fff;background-color:#35495e}#__layout,#__layout>div,#__nuxt,body,html{height:100%;width:100%}@-webkit-keyframes showButton-data-v-ca18938c{0%{opacity:0;transform:translateY(-25px)}to{opacity:1;transform:translateY(0)}}@keyframes showButton-data-v-ca18938c{0%{opacity:0;transform:translateY(-25px)}to{opacity:1;transform:translateY(0)}}body[data-v-ca18938c]{margin:0}.row[data-v-ca18938c]{width:100%;display:flex;flex-wrap:wrap}.col-sidebar[data-v-ca18938c]{min-width:330px;width:20%;position:relative;min-height:100vh;border-right:1px solid #eaecef}@media only screen and (max-width:880px){.col-sidebar[data-v-ca18938c]{max-width:100%;flex:0 0 100%}}.scroll-top-button[data-v-ca18938c]{display:flex;align-items:center;flex-direction:column;position:fixed;bottom:20px;right:20px;z-index:2;border:0;background-color:transparent;letter-spacing:2px;color:#646373;cursor:pointer;transition:all .4s;-webkit-animation:showButton-data-v-ca18938c .4s;animation:showButton-data-v-ca18938c .4s}.scroll-top-button svg[data-v-ca18938c]{border:1px solid #dbdbdb;stroke:#646373;padding:5px;background-color:#fff;width:40px;height:40px;margin-bottom:10px;transition:all .4s;border-radius:8px}.scroll-top-button:hover svg[data-v-ca18938c]{background-color:#f8f8f8}.sidebar-item[data-v-ca18938c]{height:100%;z-index:1;position:absolute;top:0;left:0;width:100%}@media only screen and (max-width:880px){.sidebar-item[data-v-ca18938c]{position:relative}}.sticky-sidebar[data-v-ca18938c]{height:100vh;overflow-y:scroll;position:-webkit-sticky;position:sticky;top:0;padding:0}.col-content[data-v-ca18938c]{margin-top:100px;width:40%;flex-grow:1}@media only screen and (max-width:880px){.col-content[data-v-ca18938c]{flex:0 0 100%;max-width:100%}}.col-content h1[data-v-ca18938c]{font-weight:300;line-height:1.125;font-size:2.5rem}.col-content p[data-v-ca18938c]{font-size:1rem;font-weight:400;line-height:1.5}.content-section[data-v-ca18938c]{border-radius:2px}.content-section h2[data-v-ca18938c]{letter-spacing:1px;font-size:28px;font-weight:400;margin-bottom:10px;padding-bottom:.3em;margin-top:0}.menu-label[data-v-ca18938c]{font-size:14px;letter-spacing:.1em}.menu-label h2[data-v-ca18938c],.menu-label[data-v-ca18938c]{color:#7a7a7a;text-transform:uppercase;font-weight:400}.menu-label h2[data-v-ca18938c]{font-size:16px}.sidebar-menu[data-v-ca18938c]{position:relative}@media only screen and (max-width:880px){.sidebar-menu[data-v-ca18938c]{transform:translateZ(0)}}.full-searchbar[data-v-ca18938c]{display:flex;justify-content:flex-start;align-items:center;flex-direction:column;position:fixed;left:0;top:0;width:100%;height:100%;z-index:2}.full-searchbar .searchbar[data-v-ca18938c]{margin-top:10%;width:50%;padding:10px;border-radius:10px;min-width:250px;z-index:10}.full-searchbar .searchbar svg[data-v-ca18938c]{margin-bottom:0}.full-searchbar .search-box__results[data-v-ca18938c]{position:relative;width:50%;margin-left:0;margin-top:0;border-top-left-radius:0;border-top-right-radius:0;background-color:#fff;border:0;border-top:0;padding-bottom:20px;min-width:250px;padding-top:0;z-index:9}.full-searchbar .search-box__results .active[data-v-ca18938c]{background-color:#f8f8f8}.full-searchbar .search-box__results a[data-v-ca18938c]{text-decoration:none;color:#000;width:100%;display:flex;padding:10px 20px}.full-searchbar .search-box__results a[data-v-ca18938c]:hover{color:#1274ed}.full-searchbar__mask[data-v-ca18938c]{top:0;position:fixed;width:100%;height:100%;background-color:rgba(0,0,0,.2);z-index:5}.search-box[data-v-ca18938c]{flex-direction:column;position:-webkit-sticky;position:sticky;top:0;padding:25px 2em;width:100%}.search-box[data-v-ca18938c],.search-box__shortcut[data-v-ca18938c]{display:flex;background-color:#fff}.search-box__shortcut[data-v-ca18938c]{align-items:center;justify-items:center;margin-right:5px;font-size:10px;color:#181d34;white-space:nowrap;height:22px;padding:5px;border-radius:5px;font-weight:700}@media only screen and (max-width:880px){.search-box__shortcut[data-v-ca18938c]{display:none}}.search-box__results[data-v-ca18938c]{background-color:#f7fafc;margin-top:40px;padding:5px 0;margin-left:2em;position:absolute;left:0;width:calc(100% - 4em);border-radius:7px;box-shadow:0 0 20px 0 rgba(0,0,0,.15)}.search-box__results .scrollactive-item[data-v-ca18938c]{padding-left:10px;width:100%}.search-box__results .is-active[data-v-ca18938c]{background-color:transparent!important;margin:0!important}.page-title[data-v-ca18938c]{font-weight:200!important;font-size:52px!important;padding-left:5vw;margin-top:70px;margin-bottom:100px}.page-title span[data-v-ca18938c]{font-weight:300}.searchbar[data-v-ca18938c]{display:flex;align-items:center;border-radius:7px;width:auto;z-index:2;background-color:#f8f8f8}.searchbar svg[data-v-ca18938c]{min-width:18px;min-height:18px;margin-left:7px;margin-bottom:2px;max-width:18px;max-height:18px}.searchbar input[data-v-ca18938c]{margin-left:7px;padding:10px 0;border:0;width:85%;font-size:15px}.menu-list[data-v-ca18938c]{position:relative}.menu-list .header-top[data-v-ca18938c]{padding-top:85px;border-top:0}.menu-list a[data-v-ca18938c]{font-size:.8rem;color:#4a4a4a;display:block;line-height:1.25;text-decoration:none;font-weight:500;padding:.5em .75em .5em 3em}.menu-list a[data-v-ca18938c]:hover{background-color:#f8f8f8;color:#455a64}.menu-label[data-v-ca18938c]:not(:last-child){margin-bottom:1em}.menu-list[data-v-ca18938c]{padding-bottom:50px;line-height:1.25}.menu-list a.is-active[data-v-ca18938c]{background-color:#e3e8ef;border-radius:8px;margin:0 10px;color:#4f566b}section[data-v-ca18938c]{padding:30px 3vw 30px 5vw;background:#fff;border-top:1px solid #ededed}section h2[data-v-ca18938c]{display:flex;align-items:center;margin-top:20px}@media only screen and (max-width:880px){section[data-v-ca18938c]{padding:1.5rem 1rem}}section a[data-v-ca18938c]{color:#000;text-decoration:none}section pre[data-v-ca18938c]{display:flex}.header-h1[data-v-ca18938c]{color:#000;font-size:45px;margin-bottom:20px;margin-top:20px;border-bottom:1px solid #bbb;padding-bottom:10px;word-wrap:break-word}.header-h1[data-v-ca18938c],.header-h4[data-v-ca18938c]{font-weight:400;display:flex;align-items:center;letter-spacing:1px}.header-h4[data-v-ca18938c]{font-size:20px;-webkit-font-smoothing:subpixel-antialiased;color:#303030;line-height:1.85em}.menu-list[data-v-ca18938c]{background-color:#fff}.contain-doc[data-v-ca18938c]{display:flex;flex-direction:column;align-items:center;font-family:BlinkMacSystemFont,Segoe UI,Helvetica Neue,Arial,sans-serif}.contain-doc .header-doc[data-v-ca18938c]{position:absolute;z-index:0}.span-margin[data-v-ca18938c]{margin-top:10px;display:block;margin-bottom:10px;font-size:14px;color:#303030;font-weight:500}.span-margin[data-v-ca18938c],.started[data-v-ca18938c]{-webkit-font-smoothing:subpixel-antialiased;line-height:1.85em}.started[data-v-ca18938c]{padding-top:10px;font-size:17px;font-weight:400}.started a[data-v-ca18938c]{color:#1274ed}.terms[data-v-ca18938c]{margin-top:15px}.background-link[data-v-ca18938c]{scrollbar-width:none;-ms-overflow-style:none;width:100%;background:#f7fafc;color:#37474f;padding:10px 10px 10px 20px;font-weight:500;word-wrap:break-word;font-size:13px!important;white-space:nowrap;border:1px solid #697386;border-radius:25px;overflow:scroll;transition:all .5s}@media only screen and (max-width:880px){.background-link[data-v-ca18938c]{width:100%}}.background-link[data-v-ca18938c]:hover{box-shadow:0 0 20px 0 rgba(0,0,0,.08);background-color:#dff0ff}.background-link[data-v-ca18938c]::-webkit-scrollbar{width:0;height:0}@media only screen and (max-width:1500px){.company-ratios[data-v-ca18938c]{margin-bottom:0}}h3[data-v-ca18938c]{display:flex;align-items:center;font-weight:500;font-size:22px;margin-top:15px;border-bottom:1px solid #eaecef;padding-bottom:10px}.margin-head[data-v-ca18938c]{margin-top:60px!important}.margin-bigger[data-v-ca18938c]{margin-top:200px}@media only screen and (min-width:768px) and (max-width:1024px){.mobile-hide[data-v-ca18938c]{display:none}}@media only screen and (max-width:880px){.mobile-hide[data-v-ca18938c],.only-mobile-hide[data-v-ca18938c]{display:none}}.only-mobile-show[data-v-ca18938c]{display:none}@media only screen and (max-width:880px){.only-mobile-show[data-v-ca18938c]{display:inline;display:initial}.only-mobile-show .header-doc[data-v-ca18938c]{z-index:5}}@media only screen and (min-width:1024px){.mobile-show[data-v-ca18938c]{display:none}}.link-icon[data-v-ca18938c]{position:absolute;margin-left:-27px;margin-top:2px}@media only screen and (max-width:880px){.link-icon[data-v-ca18938c]{display:none}}.link-icon-integration[data-v-ca18938c]{position:absolute;margin-left:-1.5vw;margin-top:.8vh}@media only screen and (max-width:880px){.link-icon-integration[data-v-ca18938c]{display:none}}.contain-header[data-v-ca18938c]{display:flex;align-items:center;width:100%;word-break:break-all}h2 .contain-header[data-v-ca18938c]{word-break:normal}.hoover-header[data-v-ca18938c]:hover{color:#455a64}.title-head[data-v-ca18938c]{color:#1274ed;display:flex;justify-content:space-between;width:100%}.integration[data-v-ca18938c]{width:100%}.integration div b[data-v-ca18938c]{font-weight:600}s .href-pre[data-v-ca18938c]{font-size:12px}.paypal-wrapper[data-v-ca18938c]{border-radius:8px;padding:1em;background-color:#f0f8ff;z-index:1}.paypal-wrapper .loading[data-v-ca18938c]{margin-top:10px;left:60%;transform:translate(-50%,-50%)}.paypal-text[data-v-ca18938c]{margin-bottom:1em}.contain-big-section[data-v-ca18938c]{padding-top:60px;padding-bottom:60px;background:#f7fafc;padding-left:5vw}.contain-big-section div[data-v-ca18938c]{line-height:1.125;font-size:2.5rem;font-weight:400}.contain-big-small-section[data-v-ca18938c]{padding-top:0;padding-bottom:15px;background:#e8eaed}.contain-big-small-section h1[data-v-ca18938c]{font-weight:400}.contain-main-block[data-v-ca18938c]{transition:none;display:flex;justify-content:space-between}.contain-main-block div h3[data-v-ca18938c]{margin-top:0}.contain-pretty-print[data-v-ca18938c]{border-top-left-radius:8px;border-top-right-radius:8px}.curl-prettyprint[data-v-ca18938c]{border:none;font-size:13px;padding:0 30px}.big-container-pretty[data-v-ca18938c]{margin-top:10px;max-width:45%;min-width:45%;height:475px;border-radius:8px;border:1px solid #ededed;margin-left:60px;background:#f7fafc;overflow:scroll}.big-container-pretty pre[data-v-ca18938c]{display:flex;flex-direction:column;padding:5px 20px;font-family:monospace;margin:5px;font-size:13px}.big-container-pretty pre .http[data-v-ca18938c]{color:#800}.big-container-pretty pre[data-v-ca18938c] .string{color:#080}.big-container-pretty pre[data-v-ca18938c] .number{color:#066}.big-container-pretty pre[data-v-ca18938c] .boolean,.big-container-pretty pre[data-v-ca18938c] .null{color:#008}.big-container-pretty pre[data-v-ca18938c] .key{color:#080}.contain-block-pretty[data-v-ca18938c]{overflow:scroll}.header-pretty[data-v-ca18938c]{color:#4f566b;width:100%;background:#e3e8ef;border-top-left-radius:8px;border-top-right-radius:8px;padding:8px 10px;font-size:12px}.margin-top-small[data-v-ca18938c]{margin-top:-170px}@media only screen and (max-width:1500px){.margin-top-small[data-v-ca18938c]{margin-top:-90px}}@media only screen and (max-width:1250px){.margin-top-small[data-v-ca18938c]{margin-top:0}}@media only screen and (max-width:880px){.margin-top-small[data-v-ca18938c]{margin-top:0!important}}.margin-top-pretty[data-v-ca18938c]{margin-top:-310px}@media only screen and (max-width:880px){.margin-top-pretty[data-v-ca18938c]{margin-top:0!important}}.margin-head-top-pretty[data-v-ca18938c]{margin-top:-290px}@media only screen and (max-width:880px){.margin-head-top-pretty[data-v-ca18938c]{margin-top:0}}.margin-head-top-pretty1[data-v-ca18938c]{margin-top:-220px}@media only screen and (max-width:880px){.margin-head-top-pretty1[data-v-ca18938c]{margin-top:0}}.margin-head-top-top-pretty[data-v-ca18938c]{margin-top:-310px}@media only screen and (max-width:880px){.margin-head-top-top-pretty[data-v-ca18938c]{margin-top:0}}.margin-head-top-top-top-pretty[data-v-ca18938c]{margin-top:-390px}@media only screen and (max-width:880px){.margin-head-top-top-top-pretty[data-v-ca18938c]{margin-top:0}}.contain-block-prettyprint[data-v-ca18938c]{width:45%}@media only screen and (max-width:880px){.contain-block-prettyprint[data-v-ca18938c]{width:100%}}.section-top[data-v-ca18938c]{will-change:transform;min-height:475px}.margin-bottom-bigger[data-v-ca18938c]{margin-bottom:160px}@media only screen and (max-width:880px){.margin-bottom-bigger[data-v-ca18938c]{margin-bottom:0!important}}.min-height-section[data-v-ca18938c]{min-height:650px}@media only screen and (max-width:880px){.min-height-section[data-v-ca18938c]{min-height:0!important}}.margin-top-section[data-v-ca18938c]{margin-top:-320px}@media only screen and (max-width:880px){.margin-top-section[data-v-ca18938c]{margin-top:0!important}}.symbol{color:#ec407a}.label{color:#fff;padding:3px 6px;font-size:10px;border-radius:1px}.scrollactive-item{transition:all .5s}.success{background-color:#34a753}.info{background-color:#2196f3}.warning{background-color:#fbbc05}.danger{background-color:#f44336}.info-dark{background-color:#4285f4}.info-link{background-color:#ec407a}.other{background-color:#e7e7e7;color:#000}.hot{background-color:#ec407a}.header-link{margin-right:5px}pre{white-space:pre-wrap;white-space:-moz-pre-wrap;white-space:-pre-wrap;white-space:-o-pre-wrap;word-wrap:break-word}.bold{font-weight:700}.nav-header{font-size:1.3rem;border-radius:2px;color:#000;display:block;line-height:1.25;text-decoration:none;font-weight:500;margin-top:20px;padding:.5em 1em 10px 1.5em;border-top:1px solid #dadce0}.header-top{padding-top:50px;margin-top:0}.api-info{padding-top:40px!important}.content-table{color:#555;padding-bottom:0}.lower-title{font-size:20px}.contain-social{display:flex;align-items:center;margin-top:20px}.contain-social a{float:right;width:24px;height:24px;margin-left:10px}.contain-social a:hover svg{stroke:#1274ed}ul{list-style-type:none}@media only screen and (max-width:500px){.span-margin{word-break:break-all}}@media only screen and (max-width:1000px){.page-title{margin-top:0!important;margin-bottom:50px!important}}@media only screen and (min-width:1800px){.contain-doc .menu-list a .header-link{font-size:1rem}.contain-doc .content-section,.contain-doc .started.api-info{font-size:21px}.contain-doc .content-section h2,.contain-doc .started.api-info h2{font-size:34px}.contain-doc .content-section ul,.contain-doc .started.api-info ul{font-size:18px!important}.contain-doc .span-margin{font-size:16px}.contain-doc .background-link{font-size:14px!important}.contain-doc .big-container-pretty pre{font-size:15px}}.header-doc{position:relative;width:100%;display:flex;padding:20px 80px 10px;z-index:2;align-items:center;justify-content:space-between;font-weight:600;transition:none;height:65px;left:0;top:0}.header-doc__burger{display:none;width:20px;cursor:pointer}.header-doc.inverted .hover-effect svg{transition:none;fill:#fff}.header-doc.inverted .header-doc__user .global-button-border,.header-doc.inverted .header-doc__user .sign-in{color:#fff}.header-doc.inverted .logo a{color:#fff!important}.header-doc.inverted .burger-container label,.header-doc.inverted .header-doc__main .main-text,.header-doc.inverted .header-doc__main a{color:#fff}.header-doc.inverted .header-doc__main svg path{fill:#fff}.header-doc.inverted .header-doc__main .extras-submenu a,.header-doc.inverted .header-doc__main .home-submenu a{color:#181d34}.header-doc .main-text,.header-doc a{margin-left:15px;text-decoration:none;color:#000;font-size:15px}.header-doc__main,.header-doc__user{display:flex;align-items:center;justify-content:center}.header-doc__main{font-weight:400;flex-wrap:wrap;font-weight:600;position:absolute;left:0;right:0;margin-left:auto;margin-right:auto;z-index:-1}.header-doc__main a{margin-left:15px;text-decoration:none;color:#000;font-size:15px}.header-doc .extras-submenu,.header-doc .home-submenu{z-index:10;display:flex;overflow:hidden;max-height:0;flex-direction:column;justify-content:space-between;background-color:#fff;position:absolute;box-shadow:0 10px 10px rgba(0,0,0,.1);padding:0 10px;-webkit-animation:showTab .5s;animation:showTab .5s;border-radius:5px;left:10px}.header-doc .extras-submenu a,.header-doc .home-submenu a{font-size:14px;padding:5px;margin:0}.header-doc .extras,.header-doc .home{color:#000;position:relative;cursor:pointer}.header-doc .extras span,.header-doc .home span{display:flex;align-items:center}.header-doc .extras span svg,.header-doc .home span svg{margin-top:3px;margin-left:3px}.header-doc .extras:hover .extras-submenu,.header-doc .extras:hover .home-submenu,.header-doc .home:hover .extras-submenu,.header-doc .home:hover .home-submenu{max-height:480px;padding:15px 10px}.header-doc .logout{color:#e74c3c!important;border-radius:5px;background-color:#ffdede;padding:8px 12px;cursor:pointer}.header-doc .logout:hover{color:#fff!important;background-color:#e74c3c}.header-doc .button-auth{background-color:#e4e5ff;color:#1274ed;border-radius:5px;padding:8px 12px;cursor:pointer}.header-doc .button-auth:hover{background-color:#1274ed;color:#fff!important}.header-doc .logo__wrapper,.header-doc .logo__wrapper h5{display:flex;align-items:center}.header-doc .logo__wrapper h5{height:50%;color:#1274ed;background-color:#e4e5ff;padding:5px 20px;justify-content:center;border-radius:20px}.header-doc .logo__wrapper img{width:28px}.header-doc .logo__wrapper .logo a{margin-right:10px;margin-left:10px;color:#1274ed;font-weight:600;font-size:30px;display:block}.header-doc .logo__wrapper .logo a:hover{padding:0;background:0 0}.header-doc h1{font-weight:300;line-height:1.125}.extra-title{font-weight:200}.global-button-border.doc{background-color:#1274ed!important;color:#fff!important}.button-auth.nuxt-link-active,.doc,.doc.sign-in:hover{color:#181d34!important;background-color:#f8f8f8!important;padding:10px 18px!important;border-radius:10px}@media only screen and (min-width:2260px){.header-doc .logo__wrapper .logo{font-size:50px}.header-doc .logo__wrapper h5{font-size:20px;padding:10px 30px}}@media only screen and (min-width:1800px){.header-doc .logo__wrapper .logo{font-size:50px}.header-doc .logo__wrapper h5{font-size:20px;padding:10px 30px}.header-doc .extras-submenu a,.header-doc .home-submenu a,.header-doc .main-text,.header-doc__main a,.header-doc__user a{font-size:20px}.header-doc .extras:hover .extras-submenu,.header-doc .extras:hover .home-submenu,.header-doc .home:hover .extras-submenu,.header-doc .home:hover .home-submenu{max-height:600px;padding:15px 10px}}@media only screen and (max-width:1200px){.header-doc{transition:none;padding:0 30px 20px}.header-doc__main,.header-doc__user{display:none}.header-doc__burger{display:block}.header-doc .logo__wrapper img{width:28px!important}.header-doc.active-mobile{height:100%;background-color:#fff;position:fixed;justify-content:center!important;flex-direction:column;z-index:5!important}.header-doc.active-mobile .logo__wrapper{position:fixed;top:5px;left:30px}.header-doc.active-mobile .hover-effect{margin-top:10px!important}.header-doc.active-mobile .header-doc__user{display:flex;flex-direction:column;-webkit-animation:showFromTop .5s;animation:showFromTop .5s;z-index:-2}.header-doc.active-mobile .header-doc__user a{margin:0;font-size:20px}.header-doc.active-mobile .header-doc__user .global-button-border,.header-doc.active-mobile .header-doc__user .logout{margin-top:10px}.header-doc.active-mobile .header-doc__main{position:relative;display:flex;flex-direction:column;-webkit-animation:showFromTop .5s;animation:showFromTop .5s}.header-doc.active-mobile .header-doc__main .main-text,.header-doc.active-mobile .header-doc__main a{font-size:20px;color:#181d34}.header-doc.active-mobile .header-doc__main .main-text svg path,.header-doc.active-mobile .header-doc__main a svg path{fill:#181d34}.header-doc.active-mobile .header-doc__main .extras-submenu,.header-doc.active-mobile .header-doc__main .home-submenu{z-index:20;margin-left:-10px}.header-doc.active-mobile .header-doc__main .extras-submenu a,.header-doc.active-mobile .header-doc__main .home-submenu a{text-align:left;font-size:14px;margin:0}.header-doc.active-mobile .header-doc__main .main-text,.header-doc.active-mobile .header-doc__main a{margin:10px 0;text-align:center}.header-doc.active-mobile .header-doc__burger{position:fixed;right:30px;top:20px}.header-doc.active-mobile .header-doc__burger label{color:#181d34}}@media only screen and (max-width:600px){.logo a{max-width:200px}}.active[for=burger]:before{transform:translateY(6.5px) rotate(45deg)}.active[for=burger]:after{filter:none;transform:translateY(4.5px) rotate(-45deg)}[for=burger]{border-radius:1px;color:#181d34;cursor:pointer;height:15px;margin:auto;-webkit-user-select:none;-moz-user-select:none;-ms-user-select:none;user-select:none;width:30px}[for=burger]:after,[for=burger]:before{border-radius:inherit;background:currentColor;content:\"\";display:block;height:2px;transition:.3s}[for=burger]:after{filter:drop-shadow(0 -6.5px currentColor);transform:translateY(11px)}.loading{display:flex;font-family:sans-serif;transition:all .3s linear;margin:0 auto;border-radius:100%;border:3px solid #eee;border-top-color:#1274ed;-o-border-image:none;border-image:none;-o-border-image:initial;border-image:initial;width:32px;height:32px;-webkit-animation:vue-simple-spinner-spin .8s linear 0s infinite normal none running;animation:vue-simple-spinner-spin .8s linear 0s infinite normal none running;position:absolute}@-webkit-keyframes vue-simple-spinner-spin{0%{transform:rotate(0)}to{transform:rotate(1turn)}}@keyframes vue-simple-spinner-spin{0%{transform:rotate(0)}to{transform:rotate(1turn)}}.footer[data-v-ef4002a4]{padding:60px 100px 70px;width:100%;background-color:#181d34;color:#fff;display:flex;align-items:center;position:relative;justify-content:space-between;margin-top:50px}.footer a[data-v-ef4002a4]{text-decoration:none}.footer p[data-v-ef4002a4]{margin-left:5%;width:30%;color:#fff}.footer__bottom[data-v-ef4002a4]{display:flex;align-items:center;justify-content:space-between;position:absolute;bottom:40px;width:calc(100% - 200px)}.footer__icons[data-v-ef4002a4]{display:flex}.footer__icons a[data-v-ef4002a4]{display:flex;align-items:center;border-radius:7px;padding:6px;transition:all .5s;margin-right:10px}.footer__icons a:hover svg[data-v-ef4002a4]{stroke:#1274ed}.footer__icons svg[data-v-ef4002a4]{width:20px;height:20px;stroke:#fff;transition:all .5s}.footer__menu[data-v-ef4002a4]{display:flex;align-items:flex-start;justify-content:center}.footer__menu .heading[data-v-ef4002a4]{color:#1274ed;font-weight:700}.footer__menu ul[data-v-ef4002a4]{list-style-type:none;margin-left:35px}.footer__menu ul li[data-v-ef4002a4]{padding:2px 0;font-size:16px}.footer__menu ul a[data-v-ef4002a4]{color:#fff;transition:all .5s}.footer__menu ul a[data-v-ef4002a4]:hover{color:#1274ed}.footer__copy[data-v-ef4002a4]{font-weight:700}.footer__logo[data-v-ef4002a4]{color:#fff;font-weight:700;font-size:45px;margin-right:50px}.footer__logo h5[data-v-ef4002a4],.footer__logo[data-v-ef4002a4]{display:flex;align-items:center;justify-content:center}.footer__logo h5[data-v-ef4002a4]{height:50%;color:#1274ed;background-color:#fff;padding:5px 20px;border-radius:20px;margin-left:15px;font-size:14px;font-weight:400}@media only screen and (min-width:2260px){.footer__icons svg[data-v-ef4002a4]{width:30px;height:30px}.footer__copy[data-v-ef4002a4]{font-size:20px}.footer__logo[data-v-ef4002a4]{font-size:70px}.footer__logo h5[data-v-ef4002a4]{font-size:20px;padding:10px 30px}.footer a[data-v-ef4002a4],.footer li[data-v-ef4002a4]{font-size:20px}.footer p[data-v-ef4002a4]{font-size:17px}}@media only screen and (max-width:1150px){.footer[data-v-ef4002a4]{padding-left:20px;padding-right:20px}.footer p[data-v-ef4002a4]{font-size:12px}.footer__menu li[data-v-ef4002a4]{font-size:14px!important}.bg-svg[data-v-ef4002a4]{display:none}.footer__menu ul[data-v-ef4002a4]{margin-left:0!important}.footer__bottom[data-v-ef4002a4]{width:calc(100% - 40px)}}@media only screen and (max-width:800px){.footer p[data-v-ef4002a4]{display:none}}@media only screen and (max-width:600px){.footer__logo[data-v-ef4002a4]{margin-right:10px!important;font-size:30px!important}ul[data-v-ef4002a4]{margin-left:0!important}.footer__icons a[data-v-ef4002a4]{margin-right:5px!important}.footer__copy[data-v-ef4002a4]{font-size:12px!important}}@media only screen and (max-width:550px){.developer-section3__top h5[data-v-ef4002a4]{font-size:12px}.footer[data-v-ef4002a4]{flex-direction:column}.footer__logo[data-v-ef4002a4]{margin-left:0!important;margin-bottom:10px}.footer__bottom[data-v-ef4002a4]{flex-direction:column}.footer__menu[data-v-ef4002a4]{margin-bottom:40px}}</style></head><body><div data-server-rendered=\"true\" id=\"__nuxt\"><!----><div id=\"__layout\"><div><div data-v-ca18938c><div class=\"contain-doc\" data-v-ca18938c><!----><!----><div class=\"row\" data-v-ca18938c><div class=\"col-content only-mobile-show\" data-v-ca18938c><div class=\"content-section\" data-v-ca18938c><div id=\"header-doc\" class=\"header-doc\" data-v-ca18938c><div class=\"logo__wrapper\"><!----><!----></div><div class=\"header-doc__main\"><div class=\"home\"><span class=\"main-text\">Home <svg width=\"14\" height=\"8\" viewBox=\"0 0 20 11\" fill=\"none\" xmlns=\"http://www.w3.org/2000/svg\" data-v-6a153873><path d=\"M9.8163 10.787C8.49786 9.25674 0.541321 -1.92656e-06 0.999993 -9.52841e-07L19 -1.66036e-07C19.4587 8.07687e-07 11.5021 9.25674 10.1837 10.787C10.0841 10.9025 9.91588 10.9025 9.8163 10.787Z\" fill=\"#181D34\" data-v-6a153873></path></svg></span><div class=\"home-submenu\"><a href=\"/\">FMP</a> <a href=\"/developer\">Developers</a></div></div><a href=\"/developer/docs\" aria-current=\"page\" class=\"nuxt-link-exact-active nuxt-link-active doc\">Documentation</a> <a href=\"/developer/docs/pricing\">Pricing</a><div class=\"extras\"><span class=\"main-text\">Extras <svg width=\"14\" height=\"8\" viewBox=\"0 0 20 11\" fill=\"none\" xmlns=\"http://www.w3.org/2000/svg\" data-v-6a153873><path d=\"M9.8163 10.787C8.49786 9.25674 0.541321 -1.92656e-06 0.999993 -9.52841e-07L19 -1.66036e-07C19.4587 8.07687e-07 11.5021 9.25674 10.1837 10.787C10.0841 10.9025 9.91588 10.9025 9.8163 10.787Z\" fill=\"#181D34\" data-v-6a153873></path></svg></span><div class=\"extras-submenu\"><a href=\"/developer/docs/resources\"><span>Resources</span></a> <a href=\"/developer/docs/changelog\"><span>Changelog</span></a> <a href=\"/developer/docs/formula\"><span>Formulas</span></a> <a href=\"/developer/docs/status\"><span>Status</span></a> <a href=\"/developer/docs/parsing-statements\"><span>Parsing Statements</span></a> <a href=\"/developer/docs/dcf-formula\"><span>DCF Formula</span></a> <a href=\"/developer/docs/recommendations-formula\"><span>Recommendations Formula</span></a> <a href=\"/developer/docs/google-sheet-add-on\"><span>Google Sheet Add-on</span></a> <a href=\"/developer/docs/cycle-times\"><span>Cycle Times</span></a> <a href=\"/developer/docs/piotroski-score\"><span>Piotroski Score</span></a> <a href=\"/developer/docs/owner-earnings\"><span>Owner earnings</span></a></div></div><a href=\"/developer/docs/blog\"><span>Blog</span></a> <a href=\"/contact\">Contact</a><!----></div><div class=\"header-doc__user\"><!----><!----><!----><!----><!----><!----><!----> <a title=\"Accessible Graphs\" href=\"https://accessiblegraphs.org/stockMarket.html\" rel=\"noopener\" target=\"_blank\" class=\"hover-effect\"><svg xmlns=\"http://www.w3.org/2000/svg\" width=\"30px\" height=\"30px\" xmlns:xlink=\"http://www.w3.org/1999/xlink\" version=\"1.1\" x=\"0px\" y=\"0px\" viewBox=\"0 0 100 125\" xml:space=\"preserve\" style=\"margin-bottom:-10px;enable-background:new 0 0 100 100\"><g><path d=\"M50,96.75C24.22,96.75,3.25,75.78,3.25,50C3.25,24.22,24.22,3.25,50,3.25c25.78,0,46.75,20.97,46.75,46.75   C96.75,75.78,75.78,96.75,50,96.75z M50,8.25C26.98,8.25,8.25,26.98,8.25,50c0,23.02,18.73,41.75,41.75,41.75S91.75,73.02,91.75,50   C91.75,26.98,73.02,8.25,50,8.25z\"></path></g><g><g><path d=\"M50,21.45c2.88,0,5.22,2.34,5.22,5.22s-2.34,5.22-5.22,5.22c-2.88,0-5.22-2.34-5.22-5.22S47.12,21.45,50,21.45 M50,18.45    c-4.53,0-8.22,3.69-8.22,8.22s3.69,8.22,8.22,8.22s8.22-3.69,8.22-8.22S54.53,18.45,50,18.45L50,18.45z\"></path></g><g><path d=\"M69.28,37.44c1.19,0,2.27,1.08,2.47,2.54c0.22,1.57-0.65,3-1.94,3.18L54.66,45.3v9.56l8.17,19.72    c0.61,1.46-0.1,3.16-1.56,3.76c-0.36,0.15-0.73,0.22-1.09,0.22c-1.13,0-2.21-0.67-2.67-1.78L50,58.66l-7.51,18.12    c-0.46,1.11-1.54,1.78-2.67,1.78c-0.37,0-0.74-0.07-1.09-0.22c-1.46-0.61-2.16-2.3-1.56-3.76l8.17-19.72V45.3l-15.15-2.13    c-1.29-0.18-2.17-1.61-1.94-3.18c0.2-1.46,1.29-2.54,2.47-2.54c0.09,0,0.18,0.01,0.27,0.02l14.63,2.06h8.76l14.63-2.06    C69.1,37.45,69.19,37.44,69.28,37.44 M69.28,34.44c-0.23,0-0.46,0.02-0.69,0.05l-14.43,2.03h-8.34l-14.43-2.03    c-0.23-0.03-0.46-0.05-0.69-0.05c-2.69,0-5.03,2.2-5.44,5.12c-0.45,3.21,1.57,6.16,4.5,6.57l12.57,1.77v6.36L34.4,73.42    c-0.6,1.45-0.6,3.05,0,4.5c0.6,1.45,1.73,2.58,3.18,3.18c0.72,0.3,1.47,0.45,2.24,0.45c2.39,0,4.53-1.42,5.44-3.63L50,66.49    l4.73,11.43c0.91,2.2,3.05,3.63,5.44,3.63c0.77,0,1.53-0.15,2.24-0.45c2.99-1.24,4.42-4.69,3.18-7.68l-7.94-19.17V47.9l12.57-1.77    c1.51-0.21,2.85-1.11,3.68-2.48c0.73-1.19,1.02-2.65,0.82-4.09C74.32,36.65,71.98,34.44,69.28,34.44L69.28,34.44z\"></path></g></g></svg></a></div><div class=\"burger-container header-doc__burger\"><label for=\"burger\"></label></div></div><h1 class=\"page-title\" data-v-ca18938c><span class=\"semibold\" data-v-ca18938c>Financial Modeling Prep</span> API Documentation</h1><section class=\"started api-info\" data-v-ca18938c><h2 data-v-ca18938c>Getting Started</h2><ul style=\"padding-left:17px\" data-v-ca18938c><li data-v-ca18938c>We are the most accurate <b data-v-ca18938c>financial data API</b> out there.</li><li data-v-ca18938c>To make it simple we are a <a href=\"/developer\" data-v-ca18938c><b data-v-ca18938c>free stock API</b></a> | <b data-v-ca18938c>historical data API </b>| <b data-v-ca18938c>financial statements API</b></li><li data-v-ca18938c>We update our financial statements in real time, every statements is audited, standardized, and up to date.</li><li data-v-ca18938c>We cover NYSE, NASDAQ, AMEX, EURONEXT, TSX, INDEXES, ETFs, MUTUAL FUNDS, FOREX and CRYPTO.</li><li data-v-ca18938c>We have <b data-v-ca18938c>real time stock price</b>, we cover the fundamental data part of the stocks via providing income statement, balance sheet statement and cashflow statement <b data-v-ca18938c>quarterly and annually</b>.</li><li data-v-ca18938c>We have <b data-v-ca18938c>1 minute, 15 minutes, 30 minutes, 1 hour</b> and daily historical stock prices.</li></ul></section></div></div><div class=\"col-sidebar\" data-v-ca18938c><div class=\"sidebar-item\" data-v-ca18938c><div id=\"sidebar\" class=\"sticky-sidebar\" data-v-ca18938c><div class=\"menu sidebar-menu vue-affix affix-top\" data-v-ca18938c><nav class=\"scrollactive-nav menu-list\" data-v-ca18938c><div class=\"search-box\" data-v-ca18938c><div class=\"searchbar\" data-v-ca18938c><svg xmlns=\"http://www.w3.org/2000/svg\" viewBox=\"0 0 24 24\" fill=\"none\" stroke=\"currentColor\" stroke-width=\"2\" stroke-linecap=\"round\" stroke-linejoin=\"round\" data-v-ca18938c><circle cx=\"11\" cy=\"11\" r=\"8\" data-v-ca18938c></circle><line x1=\"21\" y1=\"21\" x2=\"16.65\" y2=\"16.65\" data-v-ca18938c></line></svg> <input autocomplete=\"off\" placeholder=\"Search for endpoint\" name=\"endpoint\" data-v-ca18938c><div class=\"search-box__shortcut\" data-v-ca18938c>â + F</div></div></div><a href=\"/developer/docs/changelog\" class=\"nav-header header-top\" style=\"padding:.75em 3em\" data-v-ca18938c>Changelog</a> <a href=\"/developer/docs/status\" class=\"nav-header header-top\" style=\"padding:.75em 3em\" data-v-ca18938c>Status</a> <a href=\"/developer/docs/google-sheet\" class=\"nav-header header-top\" style=\"padding:.75em 3em\" data-v-ca18938c>Google Sheets Integration</a> <a href=\"/developer/docs/excel-add-on\" class=\"nav-header header-top\" style=\"padding:.75em 3em\" data-v-ca18938c>Excel Add-on</a> <span class=\"nav-header\" data-v-ca18938c>STOCK FUNDAMENTALS</span><a href=\"#Financial-Statements-List\" class=\"scrollactive-item\" data-v-ca18938c><span class=\"header-link\" data-v-ca18938c>Financial Statements List</span><!----> <!----></a><a href=\"#Company-Financial-Statements\" class=\"scrollactive-item\" data-v-ca18938c><span class=\"header-link\" data-v-ca18938c>Financial Statements</span> <span class=\"label info-dark\" data-v-ca18938c>Annual/Quarter</span> <!----></a><a href=\"#Sales-Revenue-By-Segments\" class=\"scrollactive-item\" data-v-ca18938c><span class=\"header-link\" data-v-ca18938c>Sales Revenue By Segments</span> <span class=\"label danger\" data-v-ca18938c>New</span> <!----></a><a href=\"#Revenue-Geographic-by-Segments\" class=\"scrollactive-item\" data-v-ca18938c><span class=\"header-link\" data-v-ca18938c>Revenue Geographic by Segments</span> <span class=\"label danger\" data-v-ca18938c>New</span> <!----></a><a href=\"#Company-Financial-Statements-As-Reported\" class=\"scrollactive-item\" data-v-ca18938c><span class=\"header-link\" data-v-ca18938c>Financial Statements As Reported</span><!----> <!----></a><a href=\"#International-Filings\" class=\"scrollactive-item\" data-v-ca18938c><span class=\"header-link\" data-v-ca18938c>International Filings</span> <span class=\"label info-dark\" data-v-ca18938c>Annual/Quarter</span> <!----></a><a href=\"#List-of-dates-and-links\" class=\"scrollactive-item\" data-v-ca18938c><span class=\"header-link\" data-v-ca18938c>List of dates and links</span><!----> <!----></a><a href=\"#Annual-Reports-on-Form-10-K\" class=\"scrollactive-item\" data-v-ca18938c><span class=\"header-link\" data-v-ca18938c>Annual Reports on Form 10-K</span><!----> <!----></a><a href=\"#Quarterly-Earnings-Reports\" class=\"scrollactive-item\" data-v-ca18938c><span class=\"header-link\" data-v-ca18938c>Quarterly Earnings Reports</span><!----> <!----></a><a href=\"#Shares-Float\" class=\"scrollactive-item\" data-v-ca18938c><span class=\"header-link\" data-v-ca18938c>Shares Float</span><!----> <!----></a><a href=\"#SEC-RSS-Feeds\" class=\"scrollactive-item\" data-v-ca18938c><span class=\"header-link\" data-v-ca18938c>SEC RSS Feeds</span> <span class=\"label success\" data-v-ca18938c>Real-time</span> <!----></a><a href=\"#Earning-Call-Transcript\" class=\"scrollactive-item\" data-v-ca18938c><span class=\"header-link\" data-v-ca18938c>Earning Call Transcript</span><!----> <!----></a><a href=\"#SEC-Filings\" class=\"scrollactive-item\" data-v-ca18938c><span class=\"header-link\" data-v-ca18938c>SEC Filings</span><!----> <!----></a><a href=\"#Rss-feed-8K-(Important-Events)\" class=\"scrollactive-item\" data-v-ca18938c><span class=\"header-link\" data-v-ca18938c>Rss feed 8K (Important Events)</span><!----> <!----></a><a href=\"#Company-Notes-due\" class=\"scrollactive-item\" data-v-ca18938c><span class=\"header-link\" data-v-ca18938c>Company Notes due</span> <span class=\"label danger\" data-v-ca18938c>New</span> <!----></a><span class=\"nav-header\" data-v-ca18938c>STOCK FUNDAMENTALS ANALYSIS</span><a href=\"#Company-Financial-Ratios\" class=\"scrollactive-item\" data-v-ca18938c><span class=\"header-link\" data-v-ca18938c>Financial Ratios</span> <span class=\"label info-dark\" data-v-ca18938c>Annual/Quarter</span> <!----></a><a href=\"#Stock-Financial-scores\" class=\"scrollactive-item\" data-v-ca18938c><span class=\"header-link\" data-v-ca18938c>Stock Financial scores</span> <span class=\"label danger\" data-v-ca18938c>New</span> <!----></a><a href=\"#Company-Enterprise-Value\" class=\"scrollactive-item\" data-v-ca18938c><span class=\"header-link\" data-v-ca18938c>Enterprise Value</span> <span class=\"label info-dark\" data-v-ca18938c>Annual/Quarter</span> <!----></a><a href=\"#Financial-Statements-Growth\" class=\"scrollactive-item\" data-v-ca18938c><span class=\"header-link\" data-v-ca18938c>Financial Statements Growth</span> <span class=\"label info-dark\" data-v-ca18938c>Annual</span> <!----></a><a href=\"#Company-Key-Metrics\" class=\"scrollactive-item\" data-v-ca18938c><span class=\"header-link\" data-v-ca18938c>Key Metrics</span> <span class=\"label info-dark\" data-v-ca18938c>Annual/Quarter</span> <!----></a><a href=\"#Company-Financial-Growth\" class=\"scrollactive-item\" data-v-ca18938c><span class=\"header-link\" data-v-ca18938c>Financial Growth</span> <span class=\"label info-dark\" data-v-ca18938c>Annual/Quarter</span> <!----></a><a href=\"#Company-Rating\" class=\"scrollactive-item\" data-v-ca18938c><span class=\"header-link\" data-v-ca18938c>Rating</span> <span class=\"label success\" data-v-ca18938c>Daily</span> <!----></a><a href=\"#Company-Discounted-cash-flow-value\" class=\"scrollactive-item\" data-v-ca18938c><span class=\"header-link\" data-v-ca18938c>DCF</span> <span class=\"label success\" data-v-ca18938c>Real-time</span> <!----></a><span class=\"nav-header\" data-v-ca18938c>INSTITUTIONAL STOCK OWNERSHIP</span><a href=\"#Institutional-Stock-Ownership\" class=\"scrollactive-item\" data-v-ca18938c><span class=\"header-link\" data-v-ca18938c>Institutional Stock Ownership</span><!----> <!----></a><a href=\"#Stock-Ownership-by-Holders\" class=\"scrollactive-item\" data-v-ca18938c><span class=\"header-link\" data-v-ca18938c>Stock Ownership by Holders</span><!----> <!----></a><a href=\"#Institutional-Holdings-Portfolio-Positions-Summary\" class=\"scrollactive-item\" data-v-ca18938c><span class=\"header-link\" data-v-ca18938c>Institutional Holdings Portfolio Positions Summary</span> <span class=\"label danger\" data-v-ca18938c>Popular</span> <!----></a><a href=\"#Institutional-Holder-Rss-Feed\" class=\"scrollactive-item\" data-v-ca18938c><span class=\"header-link\" data-v-ca18938c>Institutional Holder Rss Feed</span> <span class=\"label success\" data-v-ca18938c>Real-time</span> <!----></a><a href=\"#Institutional-Holders-List\" class=\"scrollactive-item\" data-v-ca18938c><span class=\"header-link\" data-v-ca18938c>Institutional Holders List</span><!----> <!----></a><a href=\"#Institutional-Holders-Search\" class=\"scrollactive-item\" data-v-ca18938c><span class=\"header-link\" data-v-ca18938c>Institutional Holders Search</span><!----> <!----></a><a href=\"#Institutional-Holders-Available-Date\" class=\"scrollactive-item\" data-v-ca18938c><span class=\"header-link\" data-v-ca18938c>Institutional Holders Available Date</span> <span class=\"label danger\" data-v-ca18938c>New</span> <!----></a><a href=\"#Institutional-Ownership-by-Shares-Held-and-Date\" class=\"scrollactive-item\" data-v-ca18938c><span class=\"header-link\" data-v-ca18938c>Institutional Ownership by Shares Held and Date</span><!----> <!----></a><a href=\"#Institutional-Holdings-Portfolio-Industry-Summary\" class=\"scrollactive-item\" data-v-ca18938c><span class=\"header-link\" data-v-ca18938c>Institutional Holdings Portfolio Industry Summary</span><!----> <!----></a><a href=\"#Institutional-Holdings-Portfolio-composition\" class=\"scrollactive-item\" data-v-ca18938c><span class=\"header-link\" data-v-ca18938c>Institutional Holdings Portfolio composition</span><!----> <!----></a><span class=\"nav-header\" data-v-ca18938c>ESG SCORE</span><a href=\"#ESG-SCORE\" class=\"scrollactive-item\" data-v-ca18938c><span class=\"header-link\" data-v-ca18938c>ESG SCORE</span><!----> <!----></a><a href=\"#Company-ESG-Risk-Ratings\" class=\"scrollactive-item\" data-v-ca18938c><span class=\"header-link\" data-v-ca18938c>Company ESG Risk Ratings</span><!----> <!----></a><a href=\"#ESG-Benchmarking-By-Sector-and-Year\" class=\"scrollactive-item\" data-v-ca18938c><span class=\"header-link\" data-v-ca18938c>ESG Benchmarking By Sector and Year</span><!----> <!----></a><span class=\"nav-header\" data-v-ca18938c>PRIVATE COMPANIES FUNDRAISING DATA</span><a href=\"#Crowdfunding-Offerings-Rss-feed\" class=\"scrollactive-item\" data-v-ca18938c><span class=\"header-link\" data-v-ca18938c>Crowdfunding Offerings Rss feed</span> <span class=\"label danger\" data-v-ca18938c>New</span> <!----></a><a href=\"#Crowdfunding-Offerings-Company-Search\" class=\"scrollactive-item\" data-v-ca18938c><span class=\"header-link\" data-v-ca18938c>Crowdfunding Offerings Company Search</span> <span class=\"label danger\" data-v-ca18938c>New</span> <!----></a><a href=\"#Crowdfunding-Offerings-by-CIK\" class=\"scrollactive-item\" data-v-ca18938c><span class=\"header-link\" data-v-ca18938c>Crowdfunding Offerings by CIK</span> <span class=\"label danger\" data-v-ca18938c>New</span> <!----></a><a href=\"#Equity-offerings-Fundraising-Rss-feed\" class=\"scrollactive-item\" data-v-ca18938c><span class=\"header-link\" data-v-ca18938c>Equity offerings Fundraising Rss feed</span> <span class=\"label danger\" data-v-ca18938c>New</span> <!----></a><a href=\"#Equity-offerings-Fundraising-Company-Search\" class=\"scrollactive-item\" data-v-ca18938c><span class=\"header-link\" data-v-ca18938c>Equity offerings Fundraising Company Search</span> <span class=\"label danger\" data-v-ca18938c>New</span> <!----></a><a href=\"#Equity-offerings-Fundraising-by-CIK\" class=\"scrollactive-item\" data-v-ca18938c><span class=\"header-link\" data-v-ca18938c>Equity offerings Fundraising by CIK</span> <span class=\"label danger\" data-v-ca18938c>New</span> <!----></a><span class=\"nav-header\" data-v-ca18938c>PRICE TARGET</span><a href=\"#Price-Target\" class=\"scrollactive-item\" data-v-ca18938c><span class=\"header-link\" data-v-ca18938c>Price Target</span><!----> <!----></a><a href=\"#Price-target-Summary\" class=\"scrollactive-item\" data-v-ca18938c><span class=\"header-link\" data-v-ca18938c>Price target Summary</span><!----> <!----></a><a href=\"#Price-Target-By-Analyst-Name\" class=\"scrollactive-item\" data-v-ca18938c><span class=\"header-link\" data-v-ca18938c>Price Target By Analyst Name</span><!----> <!----></a><a href=\"#Price-Target-by-Analyst-Company\" class=\"scrollactive-item\" data-v-ca18938c><span class=\"header-link\" data-v-ca18938c>Price Target by Analyst Company</span><!----> <!----></a><a href=\"#Price-Target-Consensus\" class=\"scrollactive-item\" data-v-ca18938c><span class=\"header-link\" data-v-ca18938c>Price Target Consensus</span><!----> <!----></a><a href=\"#Price-Target-RSS-Feed\" class=\"scrollactive-item\" data-v-ca18938c><span class=\"header-link\" data-v-ca18938c>Price Target RSS Feed</span> <span class=\"label success\" data-v-ca18938c>Real-time</span> <!----></a><span class=\"nav-header\" data-v-ca18938c>Upgrades & Downgrades</span><a href=\"#Upgrades-&-Downgrades\" class=\"scrollactive-item\" data-v-ca18938c><span class=\"header-link\" data-v-ca18938c>Upgrades & Downgrades</span><!----> <!----></a><a href=\"#Upgrades-&-Downgrades-RSS-Feed\" class=\"scrollactive-item\" data-v-ca18938c><span class=\"header-link\" data-v-ca18938c>Upgrades & Downgrades RSS Feed</span><!----> <!----></a><a href=\"#Upgrades-&-Downgrades-Consensus\" class=\"scrollactive-item\" data-v-ca18938c><span class=\"header-link\" data-v-ca18938c>Upgrades & Downgrades Consensus</span><!----> <!----></a><a href=\"#Upgrades-&-Downgrades-By-Company\" class=\"scrollactive-item\" data-v-ca18938c><span class=\"header-link\" data-v-ca18938c>Upgrades & Downgrades By Company</span><!----> <!----></a><span class=\"nav-header\" data-v-ca18938c>historical ETF and Mutual Fund Holdings</span><a href=\"#historical-mutual-fund-holdings-available-dates\" class=\"scrollactive-item\" data-v-ca18938c><span class=\"header-link\" data-v-ca18938c>historical mutual fund holdings available dates</span><!----> <!----></a><a href=\"#historical-mutual-fund-holdings-portfolio\" class=\"scrollactive-item\" data-v-ca18938c><span class=\"header-link\" data-v-ca18938c>historical mutual fund holdings portfolio</span><!----> <!----></a><a href=\"#Mutual-fund-holdings-search\" class=\"scrollactive-item\" data-v-ca18938c><span class=\"header-link\" data-v-ca18938c>Mutual fund holdings search</span><!----> <!----></a><a href=\"#Historical-ETF-Holdings-available-dates\" class=\"scrollactive-item\" data-v-ca18938c><span class=\"header-link\" data-v-ca18938c>Historical ETF Holdings available dates</span><!----> <!----></a><a href=\"#Historical-ETF-Holdings\" class=\"scrollactive-item\" data-v-ca18938c><span class=\"header-link\" data-v-ca18938c>Historical ETF Holdings</span><!----> <!----></a><span class=\"nav-header\" data-v-ca18938c>HISTORICAL NUMBER OF EMPLOYEES</span><a href=\"#Historical-Number-of-Employees\" class=\"scrollactive-item\" data-v-ca18938c><span class=\"header-link\" data-v-ca18938c>Historical Number of Employees</span><!----> <!----></a><span class=\"nav-header\" data-v-ca18938c>EXECUTIVE COMPENSATION</span><a href=\"#Executive-Compensation\" class=\"scrollactive-item\" data-v-ca18938c><span class=\"header-link\" data-v-ca18938c>Executive Compensation</span><!----> <!----></a><span class=\"nav-header\" data-v-ca18938c>INDIVIDUAL BENEFICIAL OWNERSHIP</span><a href=\"#Individual-Beneficial-Ownership\" class=\"scrollactive-item\" data-v-ca18938c><span class=\"header-link\" data-v-ca18938c>Individual Beneficial Ownership</span><!----> <!----></a><span class=\"nav-header\" data-v-ca18938c>STOCK CALENDARS</span><a href=\"#Earnings-Calendar\" class=\"scrollactive-item\" data-v-ca18938c><span class=\"header-link\" data-v-ca18938c>Earnings Calendar</span> <span class=\"label danger\" data-v-ca18938c>Popular</span> <!----></a><a href=\"#Earnings-Calendar-Confirmed\" class=\"scrollactive-item\" data-v-ca18938c><span class=\"header-link\" data-v-ca18938c>Earnings Calendar Confirmed</span> <span class=\"label danger\" data-v-ca18938c>New</span> <!----></a><a href=\"#IPO-Calendar\" class=\"scrollactive-item\" data-v-ca18938c><span class=\"header-link\" data-v-ca18938c>IPO Calendar</span><!----> <!----></a><a href=\"#IPO-calendar-with-prospectus\" class=\"scrollactive-item\" data-v-ca18938c><span class=\"header-link\" data-v-ca18938c>IPO calendar with prospectus</span><!----> <!----></a><a href=\"#IPO-calendar-Confirmed\" class=\"scrollactive-item\" data-v-ca18938c><span class=\"header-link\" data-v-ca18938c>IPO calendar Confirmed</span><!----> <!----></a><a href=\"#Stock-Split-Calendar\" class=\"scrollactive-item\" data-v-ca18938c><span class=\"header-link\" data-v-ca18938c>Stock Split Calendar</span><!----> <!----></a><a href=\"#Dividend-Calendar\" class=\"scrollactive-item\" data-v-ca18938c><span class=\"header-link\" data-v-ca18938c>Dividend Calendar</span><!----> <!----></a><a href=\"#Historical-Dividends\" class=\"scrollactive-item\" data-v-ca18938c><span class=\"header-link\" data-v-ca18938c>Historical Dividends</span> <span class=\"label success\" data-v-ca18938c>Daily</span> <!----></a><a href=\"#Economic-Calendar\" class=\"scrollactive-item\" data-v-ca18938c><span class=\"header-link\" data-v-ca18938c>Economic Calendar</span><!----> <!----></a><span class=\"nav-header\" data-v-ca18938c>STOCK LOOK UP TOOL</span><a href=\"#Ticker-Search\" class=\"scrollactive-item\" data-v-ca18938c><span class=\"header-link\" data-v-ca18938c>Search</span> <span class=\"label success\" data-v-ca18938c>Real-time</span> <!----></a><a href=\"#Stock-Screener\" class=\"scrollactive-item\" data-v-ca18938c><span class=\"header-link\" data-v-ca18938c>Stock Screener</span><!----> <!----></a><span class=\"nav-header\" data-v-ca18938c>COMPANY INFORMATION</span><a href=\"#Company-Profile\" class=\"scrollactive-item\" data-v-ca18938c><span class=\"header-link\" data-v-ca18938c>Profile</span> <span class=\"label info\" data-v-ca18938c>Minute</span> <!----></a><a href=\"#Key-Executives\" class=\"scrollactive-item\" data-v-ca18938c><span class=\"header-link\" data-v-ca18938c>Key Executives</span><!----> <!----></a><a href=\"#Market-Capitalization\" class=\"scrollactive-item\" data-v-ca18938c><span class=\"header-link\" data-v-ca18938c>Market Capitalization</span> <span class=\"label success\" data-v-ca18938c>Daily</span> <!----></a><a href=\"#Company-Outlook\" class=\"scrollactive-item\" data-v-ca18938c><span class=\"header-link\" data-v-ca18938c>Company Outlook</span><!----> <!----></a><a href=\"#Stock-Peers\" class=\"scrollactive-item\" data-v-ca18938c><span class=\"header-link\" data-v-ca18938c>Stock Peers</span><!----> <!----></a><a href=\"#NYSE-Holidays-and-Trading-Hours\" class=\"scrollactive-item\" data-v-ca18938c><span class=\"header-link\" data-v-ca18938c>NYSE Trading Hours</span><!----> <!----></a><a href=\"#Delisted-Companies\" class=\"scrollactive-item\" data-v-ca18938c><span class=\"header-link\" data-v-ca18938c>Delisted Companies</span><!----> <!----></a><a href=\"#Symbol-Change\" class=\"scrollactive-item\" data-v-ca18938c><span class=\"header-link\" data-v-ca18938c>Symbol Change</span><!----> <!----></a><a href=\"#Company-core-information\" class=\"scrollactive-item\" data-v-ca18938c><span class=\"header-link\" data-v-ca18938c>Company core information</span><!----> <!----></a><span class=\"nav-header\" data-v-ca18938c>STOCK NEWS</span><a href=\"#FMP-Articles\" class=\"scrollactive-item\" data-v-ca18938c><span class=\"header-link\" data-v-ca18938c>FMP Articles</span><!----> <!----></a><a href=\"#Stock-News\" class=\"scrollactive-item\" data-v-ca18938c><span class=\"header-link\" data-v-ca18938c>Stock News</span> <span class=\"label warning\" data-v-ca18938c>Popular</span> <!----></a><a href=\"#Crypto-news\" class=\"scrollactive-item\" data-v-ca18938c><span class=\"header-link\" data-v-ca18938c>Crypto news</span> <span class=\"label danger\" data-v-ca18938c>New</span> <!----></a><a href=\"#Forex-news\" class=\"scrollactive-item\" data-v-ca18938c><span class=\"header-link\" data-v-ca18938c>Forex news</span> <span class=\"label danger\" data-v-ca18938c>New</span> <!----></a><a href=\"#General-news\" class=\"scrollactive-item\" data-v-ca18938c><span class=\"header-link\" data-v-ca18938c>General news</span> <span class=\"label danger\" data-v-ca18938c>New</span> <!----></a><a href=\"#Press-Releases\" class=\"scrollactive-item\" data-v-ca18938c><span class=\"header-link\" data-v-ca18938c>Press Releases</span><!----> <!----></a><span class=\"nav-header\" data-v-ca18938c>MARKET PERFORMANCE</span><a href=\"#Sectors-PE-Ratio\" class=\"scrollactive-item\" data-v-ca18938c><span class=\"header-link\" data-v-ca18938c>Sectors PE Ratio</span><!----> <!----></a><a href=\"#Industries-PE-Ratio\" class=\"scrollactive-item\" data-v-ca18938c><span class=\"header-link\" data-v-ca18938c>Industries PE Ratio</span><!----> <!----></a><a href=\"#Stock-Market-Sectors-Performance\" class=\"scrollactive-item\" data-v-ca18938c><span class=\"header-link\" data-v-ca18938c>Sectors Performance</span> <span class=\"label success\" data-v-ca18938c>Daily</span> <!----></a><a href=\"#Most-Gainer-Stock-Companies\" class=\"scrollactive-item\" data-v-ca18938c><span class=\"header-link\" data-v-ca18938c>Most Gainer</span> <span class=\"label success\" data-v-ca18938c>Daily</span> <!----></a><a href=\"#Most-Loser-Stock-Companies\" class=\"scrollactive-item\" data-v-ca18938c><span class=\"header-link\" data-v-ca18938c>Most Loser</span> <span class=\"label success\" data-v-ca18938c>Daily</span> <!----></a><a href=\"#Most-Active-Stock-Companies\" class=\"scrollactive-item\" data-v-ca18938c><span class=\"header-link\" data-v-ca18938c>Most Active</span> <span class=\"label success\" data-v-ca18938c>Daily</span> <!----></a><span class=\"nav-header\" data-v-ca18938c>ADVANCED DATA</span><a href=\"#Standard-Industrial-Classification\" class=\"scrollactive-item\" data-v-ca18938c><span class=\"header-link\" data-v-ca18938c>Standard Industrial Classification</span><!----> <!----></a><a href=\"#COT-Trading-Symbols-List\" class=\"scrollactive-item\" data-v-ca18938c><span class=\"header-link\" data-v-ca18938c>COT Trading Symbols List</span><!----> <!----></a><a href=\"#Commitments-of-Traders-Report\" class=\"scrollactive-item\" data-v-ca18938c><span class=\"header-link\" data-v-ca18938c>Commitments of Traders Report</span> <span class=\"label danger\" data-v-ca18938c>New</span> <!----></a><a href=\"#Commitments-of-Traders-Analysis\" class=\"scrollactive-item\" data-v-ca18938c><span class=\"header-link\" data-v-ca18938c>Commitments of Traders Analysis</span><!----> <!----></a><span class=\"nav-header\" data-v-ca18938c>STOCK STATISTICS</span><a href=\"#Social-Sentiment\" class=\"scrollactive-item\" data-v-ca18938c><span class=\"header-link\" data-v-ca18938c>Social Sentiment</span><!----> <!----></a><a href=\"#Stock-Grade\" class=\"scrollactive-item\" data-v-ca18938c><span class=\"header-link\" data-v-ca18938c>Stock Grade</span><!----> <!----></a><a href=\"#Earnings-Surprises\" class=\"scrollactive-item\" data-v-ca18938c><span class=\"header-link\" data-v-ca18938c>Earnings Surprises</span><!----> <!----></a><a href=\"#Analyst-Estimates\" class=\"scrollactive-item\" data-v-ca18938c><span class=\"header-link\" data-v-ca18938c>Analyst Estimates</span><!----> <!----></a><a href=\"#MERGER-AND-ACQUISITION\" class=\"scrollactive-item\" data-v-ca18938c><span class=\"header-link\" data-v-ca18938c>MERGER AND ACQUISITION</span><!----> <!----></a><span class=\"nav-header\" data-v-ca18938c>INSIDER TRADING</span><a href=\"#Stock-Insider-Trading\" class=\"scrollactive-item\" data-v-ca18938c><span class=\"header-link\" data-v-ca18938c>Stock Insider Trading</span><!----> <!----></a><a href=\"#Insider-Trading-RSS-Feed\" class=\"scrollactive-item\" data-v-ca18938c><span class=\"header-link\" data-v-ca18938c>Insider Trading RSS Feed</span><!----> <!----></a><a href=\"#Fail-to-deliver\" class=\"scrollactive-item\" data-v-ca18938c><span class=\"header-link\" data-v-ca18938c>Fail to deliver</span><!----> <!----></a><span class=\"nav-header\" data-v-ca18938c>SENATE TRADING</span><a href=\"#Senate-trading\" class=\"scrollactive-item\" data-v-ca18938c><span class=\"header-link\" data-v-ca18938c>Senate trading</span> <span class=\"label danger\" data-v-ca18938c>New</span> <!----></a><a href=\"#Senate-disclosure\" class=\"scrollactive-item\" data-v-ca18938c><span class=\"header-link\" data-v-ca18938c>Senate disclosure</span> <span class=\"label danger\" data-v-ca18938c>New</span> <!----></a><span class=\"nav-header\" data-v-ca18938c>ECONOMICS</span><a href=\"#Market-Risk-Premium\" class=\"scrollactive-item\" data-v-ca18938c><span class=\"header-link\" data-v-ca18938c>Market Risk Premium</span><!----> <!----></a><a href=\"#Treasury-Rates\" class=\"scrollactive-item\" data-v-ca18938c><span class=\"header-link\" data-v-ca18938c>Treasury Rates</span><!----> <!----></a><a href=\"#Economic-Indicator\" class=\"scrollactive-item\" data-v-ca18938c><span class=\"header-link\" data-v-ca18938c>Economic Indicator</span><!----> <!----></a><span class=\"nav-header\" data-v-ca18938c>STOCK PRICE</span><a href=\"#Company-Quote\" class=\"scrollactive-item\" data-v-ca18938c><span class=\"header-link\" data-v-ca18938c>Company Quote</span> <span class=\"label success\" data-v-ca18938c>Real-time</span> <!----></a><a href=\"#Stock-price-change\" class=\"scrollactive-item\" data-v-ca18938c><span class=\"header-link\" data-v-ca18938c>Stock price change</span> <span class=\"label danger\" data-v-ca18938c>New</span> <!----></a><a href=\"#Stock-Price\" class=\"scrollactive-item\" data-v-ca18938c><span class=\"header-link\" data-v-ca18938c>Stock Price</span> <span class=\"label success\" data-v-ca18938c>Real-time</span> <!----></a><a href=\"#Stock-Historical-Price\" class=\"scrollactive-item\" data-v-ca18938c><span class=\"header-link\" data-v-ca18938c>Historical Price</span> <span class=\"label hot\" data-v-ca18938c>1/5/15/30min/1hr/Daily</span> <!----></a><a href=\"#Historical-Stock-Splits\" class=\"scrollactive-item\" data-v-ca18938c><span class=\"header-link\" data-v-ca18938c>Historical Stock Splits</span> <span class=\"label success\" data-v-ca18938c>Daily</span> <!----></a><a href=\"#Survivorship-Bias-Free-EOD\" class=\"scrollactive-item\" data-v-ca18938c><span class=\"header-link\" data-v-ca18938c>Survivorship Bias Free</span><!----> <!----></a><a href=\"#Daily-Indicators\" class=\"scrollactive-item\" data-v-ca18938c><span class=\"header-link\" data-v-ca18938c>Daily Indicators</span><!----> <!----></a><a href=\"#Intraday-Indicators\" class=\"scrollactive-item\" data-v-ca18938c><span class=\"header-link\" data-v-ca18938c>Intraday Indicators</span><!----> <!----></a><span class=\"nav-header\" data-v-ca18938c>FUND HOLDINGS</span><a href=\"#ETF-Holders\" class=\"scrollactive-item\" data-v-ca18938c><span class=\"header-link\" data-v-ca18938c>ETF Holders</span> <span class=\"label warning\" data-v-ca18938c>Popular</span> <!----></a><a href=\"#ETF-Expense-ratio\" class=\"scrollactive-item\" data-v-ca18938c><span class=\"header-link\" data-v-ca18938c>ETF Expense ratio</span><!----> <!----></a><a href=\"#Institutional-Holders\" class=\"scrollactive-item\" data-v-ca18938c><span class=\"header-link\" data-v-ca18938c>Institutional Holders</span><!----> <!----></a><a href=\"#Mutual-Fund-Holders\" class=\"scrollactive-item\" data-v-ca18938c><span class=\"header-link\" data-v-ca18938c>Mutual Fund Holders</span><!----> <!----></a><a href=\"#ETF-Sector-Weightings\" class=\"scrollactive-item\" data-v-ca18938c><span class=\"header-link\" data-v-ca18938c>ETF Sector Weightings</span><!----> <!----></a><a href=\"#ETF-Country-Weightings\" class=\"scrollactive-item\" data-v-ca18938c><span class=\"header-link\" data-v-ca18938c>ETF Country Weightings</span><!----> <!----></a><a href=\"#ETF-Stock-Exposure\" class=\"scrollactive-item\" data-v-ca18938c><span class=\"header-link\" data-v-ca18938c>ETF Stock Exposure</span><!----> <!----></a><a href=\"#Form-13F\" class=\"scrollactive-item\" data-v-ca18938c><span class=\"header-link\" data-v-ca18938c>Form 13F</span><!----> <!----></a><a href=\"#Form-13F-Asset-Allocation-Diversification\" class=\"scrollactive-item\" data-v-ca18938c><span class=\"header-link\" data-v-ca18938c>Form 13F Asset Allocation Diversification</span><!----> <!----></a><span class=\"nav-header\" data-v-ca18938c>WEBSOCKET</span><a href=\"#Websocket\" class=\"scrollactive-item\" data-v-ca18938c><span class=\"header-link\" data-v-ca18938c>Websocket</span> <span class=\"label danger\" data-v-ca18938c>New</span> <!----></a><span class=\"nav-header\" data-v-ca18938c>STOCK LIST</span><a href=\"#Symbols-List\" class=\"scrollactive-item\" data-v-ca18938c><span class=\"header-link\" data-v-ca18938c>Symbols List</span> <span class=\"label warning\" data-v-ca18938c>High Usage</span> <!----></a><a href=\"#Tradable-Symbols-List\" class=\"scrollactive-item\" data-v-ca18938c><span class=\"header-link\" data-v-ca18938c>Tradable Symbols List</span><!----> <!----></a><a href=\"#ETF-List\" class=\"scrollactive-item\" data-v-ca18938c><span class=\"header-link\" data-v-ca18938c>ETF List</span><!----> <!----></a><span class=\"nav-header\" data-v-ca18938c>BULK AND BATCH</span><a href=\"#Batch-Request-Stock-Companies-Price\" class=\"scrollactive-item\" data-v-ca18938c><span class=\"header-link\" data-v-ca18938c>Batch Request</span> <span class=\"label warning\" data-v-ca18938c>High Usage</span> <!----></a><a href=\"#Bulk-Endpoint\" class=\"scrollactive-item\" data-v-ca18938c><span class=\"header-link\" data-v-ca18938c>Bulk Endpoint</span><!----> <!----></a><span class=\"nav-header\" data-v-ca18938c>MARKET INDEXES</span><a href=\"#Most-of-the-majors-indexes-(Dow-Jones,-Nasdaq,-S&P-500)\" class=\"scrollactive-item\" data-v-ca18938c><span class=\"header-link\" data-v-ca18938c>Majors Indexes</span> <span class=\"label success\" data-v-ca18938c>Real-time</span> <!----></a><a href=\"#List-of-S&P-500-companies\" class=\"scrollactive-item\" data-v-ca18938c><span class=\"header-link\" data-v-ca18938c>List of S&P 500 companies</span><!----> <!----></a><a href=\"#Historical-S&P-500\" class=\"scrollactive-item\" data-v-ca18938c><span class=\"header-link\" data-v-ca18938c>Historical S&P 500</span> <span class=\"label success\" data-v-ca18938c>Daily</span> <!----></a><a href=\"#List-of-Nasdaq-100-companies\" class=\"scrollactive-item\" data-v-ca18938c><span class=\"header-link\" data-v-ca18938c>List of Nasdaq 100 companies</span><!----> <!----></a><a href=\"#List-of-Dow-Jones-companies\" class=\"scrollactive-item\" data-v-ca18938c><span class=\"header-link\" data-v-ca18938c>List of Dow Jones companies</span><!----> <!----></a><a href=\"#Historical-Dow-Jones\" class=\"scrollactive-item\" data-v-ca18938c><span class=\"header-link\" data-v-ca18938c>Historical Dow Jones</span> <span class=\"label success\" data-v-ca18938c>Daily</span> <!----></a><a href=\"#Historical-stock-index-prices\" class=\"scrollactive-item\" data-v-ca18938c><span class=\"header-link\" data-v-ca18938c>Historical Stock Index prices</span> <span class=\"label warning\" data-v-ca18938c>1/5/15min</span> <span class=\"label warning\" data-v-ca18938c><svg xmlns=\"http://www.w3.org/2000/svg\" width=\"10\" height=\"10\" viewBox=\"0 0 24 24\" data-v-ca18938c><path d=\"M12 .288l2.833 8.718h9.167l-7.417 5.389 2.833 8.718-7.416-5.388-7.417 5.388 2.833-8.718-7.416-5.389h9.167z\" data-v-ca18938c></path></svg></span></a><span class=\"nav-header\" data-v-ca18938c>EURONEXT</span><a href=\"#Most-of-the-EuroNext\" class=\"scrollactive-item\" data-v-ca18938c><span class=\"header-link\" data-v-ca18938c>EuroNext Prices</span> <span class=\"label success\" data-v-ca18938c>Real-time</span> <!----></a><a href=\"#Historical-EuroNext-prices\" class=\"scrollactive-item\" data-v-ca18938c><span class=\"header-link\" data-v-ca18938c>Historical EuroNext prices</span> <span class=\"label warning\" data-v-ca18938c>1/5/15min</span> <span class=\"label warning\" data-v-ca18938c><svg xmlns=\"http://www.w3.org/2000/svg\" width=\"10\" height=\"10\" viewBox=\"0 0 24 24\" data-v-ca18938c><path d=\"M12 .288l2.833 8.718h9.167l-7.417 5.389 2.833 8.718-7.416-5.388-7.417 5.388 2.833-8.718-7.416-5.389h9.167z\" data-v-ca18938c></path></svg></span></a><span class=\"nav-header\" data-v-ca18938c>TSX</span><a href=\"#Most-of-the-TSX\" class=\"scrollactive-item\" data-v-ca18938c><span class=\"header-link\" data-v-ca18938c>TSX Prices</span> <span class=\"label success\" data-v-ca18938c>1 Min</span> <!----></a><a href=\"#Historical-TSX-prices\" class=\"scrollactive-item\" data-v-ca18938c><span class=\"header-link\" data-v-ca18938c>Historical TSX prices</span> <span class=\"label warning\" data-v-ca18938c>1/5/15min</span> <span class=\"label warning\" data-v-ca18938c><svg xmlns=\"http://www.w3.org/2000/svg\" width=\"10\" height=\"10\" viewBox=\"0 0 24 24\" data-v-ca18938c><path d=\"M12 .288l2.833 8.718h9.167l-7.417 5.389 2.833 8.718-7.416-5.388-7.417 5.388 2.833-8.718-7.416-5.389h9.167z\" data-v-ca18938c></path></svg></span></a><span class=\"nav-header\" data-v-ca18938c>CRYPTO & FOREX & COMMODITIES</span><a href=\"#Cryptocurrencies\" class=\"scrollactive-item\" data-v-ca18938c><span class=\"header-link\" data-v-ca18938c>Crypto Price</span> <span class=\"label success\" data-v-ca18938c>Real-time</span> <!----></a><a href=\"#Historical-Cryptocurrencies-Price\" class=\"scrollactive-item\" data-v-ca18938c><span class=\"header-link\" data-v-ca18938c>Historical Crypto Quote</span> <span class=\"label warning\" data-v-ca18938c>1/5/15min</span> <span class=\"label warning\" data-v-ca18938c><svg xmlns=\"http://www.w3.org/2000/svg\" width=\"10\" height=\"10\" viewBox=\"0 0 24 24\" data-v-ca18938c><path d=\"M12 .288l2.833 8.718h9.167l-7.417 5.389 2.833 8.718-7.416-5.388-7.417 5.388 2.833-8.718-7.416-5.389h9.167z\" data-v-ca18938c></path></svg></span></a><a href=\"#Forex-(FX)\" class=\"scrollactive-item\" data-v-ca18938c><span class=\"header-link\" data-v-ca18938c>FX Price</span> <span class=\"label success\" data-v-ca18938c>Real-time</span> <!----></a><a href=\"#Historical-Forex-Price\" class=\"scrollactive-item\" data-v-ca18938c><span class=\"header-link\" data-v-ca18938c>Historical Forex Quote</span> <span class=\"label warning\" data-v-ca18938c>1/5/15min</span> <span class=\"label warning\" data-v-ca18938c><svg xmlns=\"http://www.w3.org/2000/svg\" width=\"10\" height=\"10\" viewBox=\"0 0 24 24\" data-v-ca18938c><path d=\"M12 .288l2.833 8.718h9.167l-7.417 5.389 2.833 8.718-7.416-5.388-7.417 5.388 2.833-8.718-7.416-5.389h9.167z\" data-v-ca18938c></path></svg></span></a><a href=\"#Most-of-the-Major-Commodities-(Gold,-Silver,-Oil)\" class=\"scrollactive-item\" data-v-ca18938c><span class=\"header-link\" data-v-ca18938c>Commodities Prices</span> <span class=\"label success\" data-v-ca18938c>Real-time</span> <!----></a><a href=\"#Historical-commodities-prices\" class=\"scrollactive-item\" data-v-ca18938c><span class=\"header-link\" data-v-ca18938c>Historical commodities prices</span><!----> <!----></a></nav></div></div></div></div><div class=\"col-content\" data-v-ca18938c><div class=\"content-section\" data-v-ca18938c><div id=\"header-doc\" class=\"header-doc only-mobile-hide\" data-v-ca18938c><div class=\"logo__wrapper\"><!----><!----></div><div class=\"header-doc__main\"><div class=\"home\"><span class=\"main-text\">Home <svg width=\"14\" height=\"8\" viewBox=\"0 0 20 11\" fill=\"none\" xmlns=\"http://www.w3.org/2000/svg\" data-v-6a153873><path d=\"M9.8163 10.787C8.49786 9.25674 0.541321 -1.92656e-06 0.999993 -9.52841e-07L19 -1.66036e-07C19.4587 8.07687e-07 11.5021 9.25674 10.1837 10.787C10.0841 10.9025 9.91588 10.9025 9.8163 10.787Z\" fill=\"#181D34\" data-v-6a153873></path></svg></span><div class=\"home-submenu\"><a href=\"/\">FMP</a> <a href=\"/developer\">Developers</a></div></div><a href=\"/developer/docs\" aria-current=\"page\" class=\"nuxt-link-exact-active nuxt-link-active doc\">Documentation</a> <a href=\"/developer/docs/pricing\">Pricing</a><div class=\"extras\"><span class=\"main-text\">Extras <svg width=\"14\" height=\"8\" viewBox=\"0 0 20 11\" fill=\"none\" xmlns=\"http://www.w3.org/2000/svg\" data-v-6a153873><path d=\"M9.8163 10.787C8.49786 9.25674 0.541321 -1.92656e-06 0.999993 -9.52841e-07L19 -1.66036e-07C19.4587 8.07687e-07 11.5021 9.25674 10.1837 10.787C10.0841 10.9025 9.91588 10.9025 9.8163 10.787Z\" fill=\"#181D34\" data-v-6a153873></path></svg></span><div class=\"extras-submenu\"><a href=\"/developer/docs/resources\"><span>Resources</span></a> <a href=\"/developer/docs/changelog\"><span>Changelog</span></a> <a href=\"/developer/docs/formula\"><span>Formulas</span></a> <a href=\"/developer/docs/status\"><span>Status</span></a> <a href=\"/developer/docs/parsing-statements\"><span>Parsing Statements</span></a> <a href=\"/developer/docs/dcf-formula\"><span>DCF Formula</span></a> <a href=\"/developer/docs/recommendations-formula\"><span>Recommendations Formula</span></a> <a href=\"/developer/docs/google-sheet-add-on\"><span>Google Sheet Add-on</span></a> <a href=\"/developer/docs/cycle-times\"><span>Cycle Times</span></a> <a href=\"/developer/docs/piotroski-score\"><span>Piotroski Score</span></a> <a href=\"/developer/docs/owner-earnings\"><span>Owner earnings</span></a></div></div><a href=\"/developer/docs/blog\"><span>Blog</span></a> <a href=\"/contact\">Contact</a><!----></div><div class=\"header-doc__user\"><!----><!----><!----><!----><!----><!----><!----> <a title=\"Accessible Graphs\" href=\"https://accessiblegraphs.org/stockMarket.html\" rel=\"noopener\" target=\"_blank\" class=\"hover-effect\"><svg xmlns=\"http://www.w3.org/2000/svg\" width=\"30px\" height=\"30px\" xmlns:xlink=\"http://www.w3.org/1999/xlink\" version=\"1.1\" x=\"0px\" y=\"0px\" viewBox=\"0 0 100 125\" xml:space=\"preserve\" style=\"margin-bottom:-10px;enable-background:new 0 0 100 100\"><g><path d=\"M50,96.75C24.22,96.75,3.25,75.78,3.25,50C3.25,24.22,24.22,3.25,50,3.25c25.78,0,46.75,20.97,46.75,46.75   C96.75,75.78,75.78,96.75,50,96.75z M50,8.25C26.98,8.25,8.25,26.98,8.25,50c0,23.02,18.73,41.75,41.75,41.75S91.75,73.02,91.75,50   C91.75,26.98,73.02,8.25,50,8.25z\"></path></g><g><g><path d=\"M50,21.45c2.88,0,5.22,2.34,5.22,5.22s-2.34,5.22-5.22,5.22c-2.88,0-5.22-2.34-5.22-5.22S47.12,21.45,50,21.45 M50,18.45    c-4.53,0-8.22,3.69-8.22,8.22s3.69,8.22,8.22,8.22s8.22-3.69,8.22-8.22S54.53,18.45,50,18.45L50,18.45z\"></path></g><g><path d=\"M69.28,37.44c1.19,0,2.27,1.08,2.47,2.54c0.22,1.57-0.65,3-1.94,3.18L54.66,45.3v9.56l8.17,19.72    c0.61,1.46-0.1,3.16-1.56,3.76c-0.36,0.15-0.73,0.22-1.09,0.22c-1.13,0-2.21-0.67-2.67-1.78L50,58.66l-7.51,18.12    c-0.46,1.11-1.54,1.78-2.67,1.78c-0.37,0-0.74-0.07-1.09-0.22c-1.46-0.61-2.16-2.3-1.56-3.76l8.17-19.72V45.3l-15.15-2.13    c-1.29-0.18-2.17-1.61-1.94-3.18c0.2-1.46,1.29-2.54,2.47-2.54c0.09,0,0.18,0.01,0.27,0.02l14.63,2.06h8.76l14.63-2.06    C69.1,37.45,69.19,37.44,69.28,37.44 M69.28,34.44c-0.23,0-0.46,0.02-0.69,0.05l-14.43,2.03h-8.34l-14.43-2.03    c-0.23-0.03-0.46-0.05-0.69-0.05c-2.69,0-5.03,2.2-5.44,5.12c-0.45,3.21,1.57,6.16,4.5,6.57l12.57,1.77v6.36L34.4,73.42    c-0.6,1.45-0.6,3.05,0,4.5c0.6,1.45,1.73,2.58,3.18,3.18c0.72,0.3,1.47,0.45,2.24,0.45c2.39,0,4.53-1.42,5.44-3.63L50,66.49    l4.73,11.43c0.91,2.2,3.05,3.63,5.44,3.63c0.77,0,1.53-0.15,2.24-0.45c2.99-1.24,4.42-4.69,3.18-7.68l-7.94-19.17V47.9l12.57-1.77    c1.51-0.21,2.85-1.11,3.68-2.48c0.73-1.19,1.02-2.65,0.82-4.09C74.32,36.65,71.98,34.44,69.28,34.44L69.28,34.44z\"></path></g></g></svg></a></div><div class=\"burger-container header-doc__burger\"><label for=\"burger\"></label></div></div><h1 class=\"page-title\" data-v-ca18938c><span class=\"semibold\" data-v-ca18938c>Financial Modeling Prep</span> API Documentation</h1><section class=\"started api-info only-mobile-hide\" data-v-ca18938c><span data-v-ca18938c></span><h2 data-v-ca18938c>Getting Started</h2><ul style=\"padding-left:17px;font-size:15px\" data-v-ca18938c><li data-v-ca18938c>We are the most accurate <b data-v-ca18938c>financial data API</b> out there.</li><li data-v-ca18938c>To make it simple we are a <a href=\"/developer\" data-v-ca18938c><b data-v-ca18938c>free stock API</b></a> | <b data-v-ca18938c>historical data API </b>| <b data-v-ca18938c>financial statements API</b></li><li data-v-ca18938c>We update our financial statements in real time, every statements is audited, standardized, and up to date.</li><li data-v-ca18938c>We cover NYSE, NASDAQ, AMEX, EURONEXT, TSX, INDEXES, ETFs, MUTUAL FUNDS, FOREX and CRYPTO.</li><li data-v-ca18938c>We have <b data-v-ca18938c>real time stock price</b>, we cover the fundamental data part of the stocks via providing income statement, balance sheet statement and cashflow statement <b data-v-ca18938c>quarterly and annually</b>.</li><li data-v-ca18938c>We have <b data-v-ca18938c>1 minute, 15 minutes, 30 minutes, 1 hour</b> and daily historical stock prices.</li><li data-v-ca18938c>Attribution is required for all users. It is as simple as putting â<b data-v-ca18938c>Data provided by Financial Modeling Prep</b>â somewhere on your site or app and linking that text to https://financialmodelingprep.com/developer/docs/. In case of limited screen space, or design constraints, the attribution link can be included in your terms of service.</li></ul></section><section data-v-ca18938c><!----><div class=\"paypal-wrapper\" data-v-ca18938c><div class=\"loading\" data-v-ca18938c></div><!----><!----><br data-v-ca18938c><br data-v-ca18938c><!----><!----><!----></div></section><section class=\"contain-big-section\" data-v-ca18938c><div data-v-ca18938c>STOCK FUNDAMENTALS</div></section><section id=\"Financial-Statements-List\" class=\"section-top min-height-section\" data-v-ca18938c><h2 data-v-ca18938c><a href=\"/developer/docs/financial-statements-list-api\" class=\"contain-header hoover-header\" data-v-ca18938c><div class=\"title-head\" data-v-ca18938c><div data-v-ca18938c>Financial Statements List <svg aria-hidden=\"true\" height=\"12\" width=\"12\" viewBox=\"0 0 16 16\" xmlns=\"http://www.w3.org/2000/svg\" class=\"SVGInline-svg SVGInline--cleaned-svg SVG-svg Icon-svg Icon--arrowRight-svg Icon-color-svg Icon-color--blue-svg\" data-v-ca18938c><path d=\"M12.583 7L7.992 2.409A1 1 0 1 1 9.407.993l6.3 6.3a1 1 0 0 1 0 1.414l-6.3 6.3a1 1 0 0 1-1.415-1.416L12.583 9H1a1 1 0 1 1 0-2z\" fill-rule=\"evenodd\" data-v-ca18938c></path></svg></div></div></a></h2><div class=\"contain-main-block\" style=\"margin-top:0\" data-v-ca18938c><div class=\"contain-block-prettyprint\" data-v-ca18938c><!----><!----><!----> <span class=\"span-margin\" data-v-ca18938c>List of symbols that have financial statements <span class=\"label info-link\">JSON</span></span><pre class=\"href-pre\" data-v-ca18938c>\t\t\t\t\t\t\t\t\t<a href=\"https://financialmodelingprep.com/api/v3/financial-statement-symbol-lists?apikey=YOUR_API_KEY\" target=\"_blank\" class=\"background-link last-href\" data-v-ca18938c>/api/v3/<span class=\"symbol\">financial-statement-symbol-lists</span></a>\n",
      "\t\t\t\t\t\t\t\t</pre><h3 style=\"border:none;margin-top:20px\" data-v-ca18938c><a href=\"/developer/docs/financial-statements-list-api\" class=\"span-margin hoover-header integration\" data-v-ca18938c><span style=\"color:#ec407a;font-weight:600\" data-v-ca18938c>Example</span> with Javascript, JQuery, VueJS, Angular, JAVA, PHP, NodeJS, Python, Go, Ruby, C#, R, Strest, Rust, Swift and Scala</a></h3></div><!----></div></section><section id=\"Company-Financial-Statements\" class=\"section-top min-height-section\" data-v-ca18938c><h2 data-v-ca18938c><a href=\"/developer/docs/financial-statement-free-api\" class=\"contain-header hoover-header\" data-v-ca18938c><div class=\"title-head\" data-v-ca18938c><div data-v-ca18938c>Company Financial Statements <svg aria-hidden=\"true\" height=\"12\" width=\"12\" viewBox=\"0 0 16 16\" xmlns=\"http://www.w3.org/2000/svg\" class=\"SVGInline-svg SVGInline--cleaned-svg SVG-svg Icon-svg Icon--arrowRight-svg Icon-color-svg Icon-color--blue-svg\" data-v-ca18938c><path d=\"M12.583 7L7.992 2.409A1 1 0 1 1 9.407.993l6.3 6.3a1 1 0 0 1 0 1.414l-6.3 6.3a1 1 0 0 1-1.415-1.416L12.583 9H1a1 1 0 1 1 0-2z\" fill-rule=\"evenodd\" data-v-ca18938c></path></svg></div></div></a></h2><div class=\"contain-main-block\" style=\"margin-top:0\" data-v-ca18938c><div class=\"contain-block-prettyprint\" data-v-ca18938c><!----><!----><h3 data-v-ca18938c><!----> <a href=\"/developer/docs/financial-statement-free-api#Income-Statement\" class=\"contain-header hoover-header\" data-v-ca18938c><div class=\"lower-title\" data-v-ca18938c>Income Statement</div></a></h3><span class=\"span-margin\" data-v-ca18938c>Annual income statements <span class=\"label info-dark\">Annual</span> <span class=\"label info-link\">JSON</span></span><pre class=\"href-pre\" data-v-ca18938c>\t\t\t\t\t\t\t\t\t<a href=\"https://financialmodelingprep.com/api/v3/income-statement/AAPL?limit=120&apikey=YOUR_API_KEY\" target=\"_blank\" class=\"background-link\" data-v-ca18938c>/api/v3/income-statement/<span class=\"symbol\">AAPL</span>?<span class=\"symbol bold\">limit</span>=<span class=\"symbol\">120</span></a>\n",
      "\t\t\t\t\t\t\t\t</pre><!----></div><!----></div><div class=\"contain-main-block margin-top-section margin-head-top-top-pretty\" style=\"margin-top:0\" data-v-ca18938c><div class=\"contain-block-prettyprint\" data-v-ca18938c><!----><!----><!----> <span class=\"span-margin\" data-v-ca18938c>Quarterly income statements <span class=\"label info-dark\">Quarter</span> <span class=\"label info-link\">JSON</span></span><pre class=\"href-pre\" data-v-ca18938c>\t\t\t\t\t\t\t\t\t<a href=\"https://financialmodelingprep.com/api/v3/income-statement/AAPL?period=quarter&limit=400&apikey=YOUR_API_KEY\" target=\"_blank\" class=\"background-link\" data-v-ca18938c>/api/v3/income-statement/<span class=\"symbol\">AAPL</span>?<span class=\"symbol bold\">period</span>=<span class=\"symbol\">quarter</span>&<span class=\"symbol bold\">limit</span>=<span class=\"symbol\">400</span></a>\n",
      "\t\t\t\t\t\t\t\t</pre><!----></div><!----></div><div class=\"contain-main-block\" style=\"margin-top:0\" data-v-ca18938c><div class=\"contain-block-prettyprint\" data-v-ca18938c><!----><!----><!----> <span class=\"span-margin\" data-v-ca18938c>Downloadable file <span class=\"label info-dark\">Annual/Quarter</span> <span class=\"label info-link\">CSV</span></span><pre class=\"href-pre\" data-v-ca18938c>\t\t\t\t\t\t\t\t\t<a href=\"https://financialmodelingprep.com/api/v3/income-statement/AAPL?datatype=csv&apikey=YOUR_API_KEY\" target=\"_blank\" class=\"background-link\" data-v-ca18938c>/api/v3/income-statement/<span class=\"symbol\">AAPL</span>?<span class=\"symbol bold\">datatype</span>=<span class=\"symbol\">csv</span></a>\n",
      "\t\t\t\t\t\t\t\t</pre><!----></div><!----></div><div class=\"contain-main-block\" style=\"margin-top:0\" data-v-ca18938c><div class=\"contain-block-prettyprint\" data-v-ca18938c><!----><!----><!----> <span class=\"span-margin\" data-v-ca18938c>Income statements by CIK <span class=\"label info-link\">JSON</span></span><pre class=\"href-pre\" data-v-ca18938c>\t\t\t\t\t\t\t\t\t<a href=\"https://financialmodelingprep.com/api/v3/income-statement/0001318605?period=quarter&apikey=YOUR_API_KEY\" target=\"_blank\" class=\"background-link\" data-v-ca18938c>/api/v3/income-statement/<span class=\"symbol\">0001318605</span>?<span class=\"symbol bold\">period</span>=<span class=\"symbol\">quarter</span></a>\n",
      "\t\t\t\t\t\t\t\t</pre><!----></div><!----></div><div class=\"contain-main-block margin-bigger\" style=\"margin-top:0\" data-v-ca18938c><div class=\"contain-block-prettyprint\" data-v-ca18938c><!----><!----><h3 class=\"margin-head\" data-v-ca18938c><!----> <a href=\"/developer/docs/financial-statement-free-api#Balance-Sheet-Statement\" class=\"contain-header hoover-header\" data-v-ca18938c><div class=\"lower-title\" data-v-ca18938c>Balance Sheet Statement</div></a></h3><span class=\"span-margin\" data-v-ca18938c>Annual balance sheet statements <span class=\"label info-dark\">Annual</span> <span class=\"label info-link\">JSON</span></span><pre class=\"href-pre\" data-v-ca18938c>\t\t\t\t\t\t\t\t\t<a href=\"https://financialmodelingprep.com/api/v3/balance-sheet-statement/AAPL?limit=120&apikey=YOUR_API_KEY\" target=\"_blank\" class=\"background-link\" data-v-ca18938c>/api/v3/balance-sheet-statement/<span class=\"symbol\">AAPL</span>?<span class=\"symbol bold\">limit</span>=<span class=\"symbol\">120</span></a>\n",
      "\t\t\t\t\t\t\t\t</pre><!----></div><!----></div><div class=\"contain-main-block margin-head-top-pretty\" style=\"margin-top:0\" data-v-ca18938c><div class=\"contain-block-prettyprint\" data-v-ca18938c><!----><!----><!----> <span class=\"span-margin\" data-v-ca18938c>Quarterly balance sheet statements <span class=\"label info-dark\">Quarter</span> <span class=\"label info-link\">JSON</span></span><pre class=\"href-pre\" data-v-ca18938c>\t\t\t\t\t\t\t\t\t<a href=\"https://financialmodelingprep.com/api/v3/balance-sheet-statement/AAPL?period=quarter&limit=400&apikey=YOUR_API_KEY\" target=\"_blank\" class=\"background-link\" data-v-ca18938c>/api/v3/balance-sheet-statement/<span class=\"symbol\">AAPL</span>?<span class=\"symbol bold\">period</span>=<span class=\"symbol\">quarter</span>&<span class=\"symbol bold\">limit</span>=<span class=\"symbol\">400</span></a>\n",
      "\t\t\t\t\t\t\t\t</pre><!----></div><!----></div><div class=\"contain-main-block\" style=\"margin-top:0\" data-v-ca18938c><div class=\"contain-block-prettyprint\" data-v-ca18938c><!----><!----><!----> <span class=\"span-margin\" data-v-ca18938c>Downloadable file <span class=\"label info-dark\">Annual/Quarter</span> <span class=\"label info-link\">CSV</span></span><pre class=\"href-pre\" data-v-ca18938c>\t\t\t\t\t\t\t\t\t<a href=\"https://financialmodelingprep.com/api/v3/balance-sheet-statement/AAPL?datatype=csv&apikey=YOUR_API_KEY\" target=\"_blank\" class=\"background-link\" data-v-ca18938c>/api/v3/balance-sheet-statement/<span class=\"symbol\">AAPL</span>?<span class=\"symbol bold\">datatype</span>=<span class=\"symbol\">csv</span></a>\n",
      "\t\t\t\t\t\t\t\t</pre><!----></div><!----></div><div class=\"contain-main-block\" style=\"margin-top:0\" data-v-ca18938c><div class=\"contain-block-prettyprint\" data-v-ca18938c><!----><!----><!----> <span class=\"span-margin\" data-v-ca18938c>Balance sheet statements by CIK <span class=\"label info-link\">JSON</span></span><pre class=\"href-pre\" data-v-ca18938c>\t\t\t\t\t\t\t\t\t<a href=\"https://financialmodelingprep.com/api/v3/balance-sheet-statement/0001318605?period=quarter&apikey=YOUR_API_KEY\" target=\"_blank\" class=\"background-link\" data-v-ca18938c>/api/v3/balance-sheet-statement/<span class=\"symbol\">0001318605</span>?<span class=\"symbol bold\">period</span>=<span class=\"symbol\">quarter</span></a>\n",
      "\t\t\t\t\t\t\t\t</pre><!----></div><!----></div><div class=\"contain-main-block margin-bigger\" style=\"margin-top:0\" data-v-ca18938c><div class=\"contain-block-prettyprint\" data-v-ca18938c><!----><!----><h3 class=\"margin-head\" data-v-ca18938c><!----> <a href=\"/developer/docs/financial-statement-free-api#Cash-Flow-Statement\" class=\"contain-header hoover-header\" data-v-ca18938c><div class=\"lower-title\" data-v-ca18938c>Cash Flow Statement</div></a></h3><span class=\"span-margin\" data-v-ca18938c>Annual cash flow statements <span class=\"label info-dark\">Annual</span> <span class=\"label info-link\">JSON</span></span><pre class=\"href-pre\" data-v-ca18938c>\t\t\t\t\t\t\t\t\t<a href=\"https://financialmodelingprep.com/api/v3/cash-flow-statement/AAPL?limit=120&apikey=YOUR_API_KEY\" target=\"_blank\" class=\"background-link\" data-v-ca18938c>/api/v3/cash-flow-statement/<span class=\"symbol\">AAPL</span>?<span class=\"symbol bold\">limit</span>=<span class=\"symbol\">120</span></a>\n",
      "\t\t\t\t\t\t\t\t</pre><!----></div><!----></div><div class=\"contain-main-block margin-top-pretty\" style=\"margin-top:0\" data-v-ca18938c><div class=\"contain-block-prettyprint\" data-v-ca18938c><!----><!----><!----> <span class=\"span-margin\" data-v-ca18938c>Quarterly cash flow statements <span class=\"label info-dark\">Quarter</span> <span class=\"label info-link\">JSON</span></span><pre class=\"href-pre\" data-v-ca18938c>\t\t\t\t\t\t\t\t\t<a href=\"https://financialmodelingprep.com/api/v3/cash-flow-statement/AAPL?period=quarter&limit=400&apikey=YOUR_API_KEY\" target=\"_blank\" class=\"background-link\" data-v-ca18938c>/api/v3/cash-flow-statement/<span class=\"symbol\">AAPL</span>?<span class=\"symbol bold\">period</span>=<span class=\"symbol\">quarter</span>&<span class=\"symbol bold\">limit</span>=<span class=\"symbol\">400</span></a>\n",
      "\t\t\t\t\t\t\t\t</pre><!----></div><!----></div><div class=\"contain-main-block\" style=\"margin-top:0\" data-v-ca18938c><div class=\"contain-block-prettyprint\" data-v-ca18938c><!----><!----><!----> <span class=\"span-margin\" data-v-ca18938c>Downloadable file <span class=\"label info-dark\">Annual</span> <span class=\"label info-dark\">Quarter</span> <span class=\"label info-link\">CSV</span></span><pre class=\"href-pre\" data-v-ca18938c>\t\t\t\t\t\t\t\t\t<a href=\"https://financialmodelingprep.com/api/v3/cash-flow-statement/AAPL?datatype=csv&apikey=YOUR_API_KEY\" target=\"_blank\" class=\"background-link\" data-v-ca18938c>/api/v3/cash-flow-statement/<span class=\"symbol\">AAPL</span>?<span class=\"symbol bold\">datatype</span>=<span class=\"symbol\">csv</span></a>\n",
      "\t\t\t\t\t\t\t\t</pre><!----></div><!----></div><div class=\"contain-main-block\" style=\"margin-top:0\" data-v-ca18938c><div class=\"contain-block-prettyprint\" data-v-ca18938c><!----><!----><!----> <span class=\"span-margin\" data-v-ca18938c>Cash Flow statements by CIK <span class=\"label info-link\">JSON</span></span><pre class=\"href-pre\" data-v-ca18938c>\t\t\t\t\t\t\t\t\t<a href=\"https://financialmodelingprep.com/api/v3/cash-flow-statement/0001318605?period=quarter&apikey=YOUR_API_KEY\" target=\"_blank\" class=\"background-link last-href\" data-v-ca18938c>/api/v3/cash-flow-statement/<span class=\"symbol\">0001318605</span>?<span class=\"symbol bold\">period</span>=<span class=\"symbol\">quarter</span></a>\n",
      "\t\t\t\t\t\t\t\t</pre><h3 style=\"border:none;margin-top:20px\" data-v-ca18938c><a href=\"/developer/docs/financial-statement-free-api\" class=\"span-margin hoover-header integration\" data-v-ca18938c><span style=\"color:#ec407a;font-weight:600\" data-v-ca18938c>Example</span> with Javascript, JQuery, VueJS, Angular, JAVA, PHP, NodeJS, Python, Go, Ruby, C#, R, Strest, Rust, Swift and Scala</a></h3></div><!----></div></section><section id=\"Sales-Revenue-By-Segments\" class=\"section-top min-height-section\" data-v-ca18938c><h2 data-v-ca18938c><a href=\"/developer/docs/sales-revenue-by-segments-api\" class=\"contain-header hoover-header\" data-v-ca18938c><div class=\"title-head\" data-v-ca18938c><div data-v-ca18938c>Sales Revenue By Segments <svg aria-hidden=\"true\" height=\"12\" width=\"12\" viewBox=\"0 0 16 16\" xmlns=\"http://www.w3.org/2000/svg\" class=\"SVGInline-svg SVGInline--cleaned-svg SVG-svg Icon-svg Icon--arrowRight-svg Icon-color-svg Icon-color--blue-svg\" data-v-ca18938c><path d=\"M12.583 7L7.992 2.409A1 1 0 1 1 9.407.993l6.3 6.3a1 1 0 0 1 0 1.414l-6.3 6.3a1 1 0 0 1-1.415-1.416L12.583 9H1a1 1 0 1 1 0-2z\" fill-rule=\"evenodd\" data-v-ca18938c></path></svg></div></div></a></h2><div class=\"contain-main-block\" style=\"margin-top:0\" data-v-ca18938c><div class=\"contain-block-prettyprint\" data-v-ca18938c><!----><!----><!----> <span class=\"span-margin\" data-v-ca18938c><b>Those endpoints are only available for users with Professional and Enterprise Plans. You can choose your plan on our <a href=\"/developer/docs/pricing\">pricing page</a>.</b><br><br>Annual Revenue Breakdown <span class=\"label info-link\">JSON</span></span><pre class=\"href-pre\" data-v-ca18938c>\t\t\t\t\t\t\t\t\t<a href=\"https://financialmodelingprep.com/api/v4/revenue-product-segmentation?symbol=AAPL&structure=flat&apikey=YOUR_API_KEY\" target=\"_blank\" class=\"background-link\" data-v-ca18938c>/api/v4/revenue-product-segmentation?<span class=\"symbol bold\">symbol</span>=<span class=\"symbol\">AAPL</span>&<span class=\"symbol bold\">structure</span>=<span class=\"symbol\">flat</span></a>\n",
      "\t\t\t\t\t\t\t\t</pre><!----></div><!----></div><div class=\"contain-main-block margin-top-pretty\" style=\"margin-top:0\" data-v-ca18938c><div class=\"contain-block-prettyprint\" data-v-ca18938c><!----><!----><!----> <span class=\"span-margin\" data-v-ca18938c>Quarter Revenue Breakdown <span class=\"label info-link\">JSON</span></span><pre class=\"href-pre\" data-v-ca18938c>\t\t\t\t\t\t\t\t\t<a href=\"https://financialmodelingprep.com/api/v4/revenue-product-segmentation?symbol=AAPL&period=quarter&structure=flat&apikey=YOUR_API_KEY\" target=\"_blank\" class=\"background-link last-href\" data-v-ca18938c>/api/v4/revenue-product-segmentation?<span class=\"symbol bold\">symbol</span>=<span class=\"symbol\">AAPL</span>&<span class=\"symbol bold\">period</span>=<span class=\"symbol\">quarter</span>&<span class=\"symbol bold\">structure</span>=<span class=\"symbol\">flat</span></a>\n",
      "\t\t\t\t\t\t\t\t</pre><h3 style=\"border:none;margin-top:20px\" data-v-ca18938c><a href=\"/developer/docs/sales-revenue-by-segments-api\" class=\"span-margin hoover-header integration\" data-v-ca18938c><span style=\"color:#ec407a;font-weight:600\" data-v-ca18938c>Example</span> with Javascript, JQuery, VueJS, Angular, JAVA, PHP, NodeJS, Python, Go, Ruby, C#, R, Strest, Rust, Swift and Scala</a></h3></div><!----></div></section><section id=\"Revenue-Geographic-by-Segments\" class=\"section-top min-height-section\" data-v-ca18938c><h2 data-v-ca18938c><a href=\"/developer/docs/revenue-geographic-by-segments-api\" class=\"contain-header hoover-header\" data-v-ca18938c><div class=\"title-head\" data-v-ca18938c><div data-v-ca18938c>Revenue Geographic by Segments <svg aria-hidden=\"true\" height=\"12\" width=\"12\" viewBox=\"0 0 16 16\" xmlns=\"http://www.w3.org/2000/svg\" class=\"SVGInline-svg SVGInline--cleaned-svg SVG-svg Icon-svg Icon--arrowRight-svg Icon-color-svg Icon-color--blue-svg\" data-v-ca18938c><path d=\"M12.583 7L7.992 2.409A1 1 0 1 1 9.407.993l6.3 6.3a1 1 0 0 1 0 1.414l-6.3 6.3a1 1 0 0 1-1.415-1.416L12.583 9H1a1 1 0 1 1 0-2z\" fill-rule=\"evenodd\" data-v-ca18938c></path></svg></div></div></a></h2><div class=\"contain-main-block\" style=\"margin-top:0\" data-v-ca18938c><div class=\"contain-block-prettyprint\" data-v-ca18938c><!----><!----><!----> <span class=\"span-margin\" data-v-ca18938c><b>Those endpoints are only available for users with Professional and Enterprise Plans. You can choose your plan on our <a href=\"/developer/docs/pricing\">pricing page</a>.</b><br><br>Annual Revenue Geographic Segmentation <span class=\"label info-link\">JSON</span></span><pre class=\"href-pre\" data-v-ca18938c>\t\t\t\t\t\t\t\t\t<a href=\"https://financialmodelingprep.com/api/v4/revenue-geographic-segmentation?symbol=AAPL&structure=flat&apikey=YOUR_API_KEY\" target=\"_blank\" class=\"background-link\" data-v-ca18938c>/api/v4/revenue-geographic-segmentation?<span class=\"symbol bold\">symbol</span>=<span class=\"symbol\">AAPL</span>&<span class=\"symbol bold\">structure</span>=<span class=\"symbol\">flat</span></a>\n",
      "\t\t\t\t\t\t\t\t</pre><!----></div><!----></div><div class=\"contain-main-block margin-top-pretty\" style=\"margin-top:0\" data-v-ca18938c><div class=\"contain-block-prettyprint\" data-v-ca18938c><!----><!----><!----> <span class=\"span-margin\" data-v-ca18938c>Quarter Revenue Geographic Segmentation <span class=\"label info-link\">JSON</span></span><pre class=\"href-pre\" data-v-ca18938c>\t\t\t\t\t\t\t\t\t<a href=\"https://financialmodelingprep.com/api/v4/revenue-geographic-segmentation?symbol=AAPL&period=quarter&structure=flat&apikey=YOUR_API_KEY\" target=\"_blank\" class=\"background-link last-href\" data-v-ca18938c>/api/v4/revenue-geographic-segmentation?<span class=\"symbol bold\">symbol</span>=<span class=\"symbol\">AAPL</span>&<span class=\"symbol bold\">period</span>=<span class=\"symbol\">quarter</span>&<span class=\"symbol bold\">structure</span>=<span class=\"symbol\">flat</span></a>\n",
      "\t\t\t\t\t\t\t\t</pre><h3 style=\"border:none;margin-top:20px\" data-v-ca18938c><a href=\"/developer/docs/revenue-geographic-by-segments-api\" class=\"span-margin hoover-header integration\" data-v-ca18938c><span style=\"color:#ec407a;font-weight:600\" data-v-ca18938c>Example</span> with Javascript, JQuery, VueJS, Angular, JAVA, PHP, NodeJS, Python, Go, Ruby, C#, R, Strest, Rust, Swift and Scala</a></h3></div><!----></div></section><section id=\"Company-Financial-Statements-As-Reported\" class=\"section-top min-height-section\" data-v-ca18938c><h2 data-v-ca18938c><a href=\"/developer/docs/financial-statement-as-reported-api\" class=\"contain-header hoover-header\" data-v-ca18938c><div class=\"title-head\" data-v-ca18938c><div data-v-ca18938c>Company Financial Statements As Reported <svg aria-hidden=\"true\" height=\"12\" width=\"12\" viewBox=\"0 0 16 16\" xmlns=\"http://www.w3.org/2000/svg\" class=\"SVGInline-svg SVGInline--cleaned-svg SVG-svg Icon-svg Icon--arrowRight-svg Icon-color-svg Icon-color--blue-svg\" data-v-ca18938c><path d=\"M12.583 7L7.992 2.409A1 1 0 1 1 9.407.993l6.3 6.3a1 1 0 0 1 0 1.414l-6.3 6.3a1 1 0 0 1-1.415-1.416L12.583 9H1a1 1 0 1 1 0-2z\" fill-rule=\"evenodd\" data-v-ca18938c></path></svg></div></div></a></h2><div class=\"contain-main-block\" style=\"margin-top:0\" data-v-ca18938c><div class=\"contain-block-prettyprint\" data-v-ca18938c><!----><!----><h3 data-v-ca18938c><!----> <a href=\"/developer/docs/financial-statement-as-reported-api#Income-Statements-as-reported\" class=\"contain-header hoover-header\" data-v-ca18938c><div class=\"lower-title\" data-v-ca18938c>Income Statements as reported</div></a></h3><span class=\"span-margin\" data-v-ca18938c>Annual income statements. <span class=\"label info-dark\">Annual</span> <span class=\"label info-link\">JSON</span></span><pre class=\"href-pre\" data-v-ca18938c>\t\t\t\t\t\t\t\t\t<a href=\"https://financialmodelingprep.com/api/v3/income-statement-as-reported/AAPL?limit=10&apikey=YOUR_API_KEY\" target=\"_blank\" class=\"background-link\" data-v-ca18938c>/api/v3/income-statement-as-reported/<span class=\"symbol\">AAPL</span>?<span class=\"symbol bold\">limit</span>=<span class=\"symbol\">10</span></a>\n",
      "\t\t\t\t\t\t\t\t</pre><!----></div><!----></div><div class=\"contain-main-block margin-head-top-top-pretty\" style=\"margin-top:0\" data-v-ca18938c><div class=\"contain-block-prettyprint\" data-v-ca18938c><!----><!----><!----> <span class=\"span-margin\" data-v-ca18938c>Quarterly income statements. <span class=\"label info-dark\">Quarter</span> <span class=\"label info-link\">JSON</span></span><pre class=\"href-pre\" data-v-ca18938c>\t\t\t\t\t\t\t\t\t<a href=\"https://financialmodelingprep.com/api/v3/income-statement-as-reported/AAPL?period=quarter&limit=50&apikey=YOUR_API_KEY\" target=\"_blank\" class=\"background-link\" data-v-ca18938c>/api/v3/income-statement-as-reported/<span class=\"symbol\">AAPL</span>?<span class=\"symbol bold\">period</span>=<span class=\"symbol\">quarter</span>&<span class=\"symbol bold\">limit</span>=<span class=\"symbol\">50</span></a>\n",
      "\t\t\t\t\t\t\t\t</pre><!----></div><!----></div><div class=\"contain-main-block\" style=\"margin-top:0\" data-v-ca18938c><div class=\"contain-block-prettyprint\" data-v-ca18938c><!----><!----><!----> <span class=\"span-margin\" data-v-ca18938c>Downloadable file <span class=\"label info-dark\">Annual/Quarter</span> <span class=\"label info-link\">CSV</span></span><pre class=\"href-pre\" data-v-ca18938c>\t\t\t\t\t\t\t\t\t<a href=\"https://financialmodelingprep.com/api/v3/income-statement-as-reported/AAPL?datatype=csv&apikey=YOUR_API_KEY\" target=\"_blank\" class=\"background-link\" data-v-ca18938c>/api/v3/income-statement-as-reported/<span class=\"symbol\">AAPL</span>?<span class=\"symbol bold\">datatype</span>=<span class=\"symbol\">csv</span></a>\n",
      "\t\t\t\t\t\t\t\t</pre><!----></div><!----></div><div class=\"contain-main-block margin-bigger\" style=\"margin-top:0\" data-v-ca18938c><div class=\"contain-block-prettyprint\" data-v-ca18938c><!----><!----><h3 class=\"margin-head\" data-v-ca18938c><!----> <a href=\"/developer/docs/financial-statement-as-reported-api#Balance-Sheet-Statement-as-reported\" class=\"contain-header hoover-header\" data-v-ca18938c><div class=\"lower-title\" data-v-ca18938c>Balance Sheet Statement as reported</div></a></h3><span class=\"span-margin\" data-v-ca18938c>Annual balance sheet statements. <span class=\"label info-dark\">Annual</span> <span class=\"label info-link\">JSON</span></span><pre class=\"href-pre\" data-v-ca18938c>\t\t\t\t\t\t\t\t\t<a href=\"https://financialmodelingprep.com/api/v3/balance-sheet-statement-as-reported/AAPL?limit=10&apikey=YOUR_API_KEY\" target=\"_blank\" class=\"background-link\" data-v-ca18938c>/api/v3/balance-sheet-statement-as-reported/<span class=\"symbol\">AAPL</span>?<span class=\"symbol bold\">limit</span>=<span class=\"symbol\">10</span></a>\n",
      "\t\t\t\t\t\t\t\t</pre><!----></div><!----></div><div class=\"contain-main-block margin-top-pretty\" style=\"margin-top:0\" data-v-ca18938c><div class=\"contain-block-prettyprint\" data-v-ca18938c><!----><!----><!----> <span class=\"span-margin\" data-v-ca18938c>Quarterly balance sheet statements. <span class=\"label info-dark\">Quarter</span> <span class=\"label info-link\">JSON</span></span><pre class=\"href-pre\" data-v-ca18938c>\t\t\t\t\t\t\t\t\t<a href=\"https://financialmodelingprep.com/api/v3/balance-sheet-statement-as-reported/AAPL?period=quarter&limit=50&apikey=YOUR_API_KEY\" target=\"_blank\" class=\"background-link\" data-v-ca18938c>/api/v3/balance-sheet-statement-as-reported/<span class=\"symbol\">AAPL</span>?<span class=\"symbol bold\">period</span>=<span class=\"symbol\">quarter</span>&<span class=\"symbol bold\">limit</span>=<span class=\"symbol\">50</span></a>\n",
      "\t\t\t\t\t\t\t\t</pre><!----></div><!----></div><div class=\"contain-main-block\" style=\"margin-top:0\" data-v-ca18938c><div class=\"contain-block-prettyprint\" data-v-ca18938c><!----><!----><!----> <span class=\"span-margin\" data-v-ca18938c>Downloadable file <span class=\"label info-dark\">Annual/Quarter</span> <span class=\"label info-link\">CSV</span></span><pre class=\"href-pre\" data-v-ca18938c>\t\t\t\t\t\t\t\t\t<a href=\"https://financialmodelingprep.com/api/v3/balance-sheet-statement-as-reported/AAPL?datatype=csv&apikey=YOUR_API_KEY\" target=\"_blank\" class=\"background-link\" data-v-ca18938c>/api/v3/balance-sheet-statement-as-reported/<span class=\"symbol\">AAPL</span>?<span class=\"symbol bold\">datatype</span>=<span class=\"symbol\">csv</span></a>\n",
      "\t\t\t\t\t\t\t\t</pre><!----></div><!----></div><div class=\"contain-main-block margin-bigger\" style=\"margin-top:0\" data-v-ca18938c><div class=\"contain-block-prettyprint\" data-v-ca18938c><!----><!----><h3 class=\"margin-head\" data-v-ca18938c><!----> <a href=\"/developer/docs/financial-statement-as-reported-api#Cash-Flow-Statement-as-reported\" class=\"contain-header hoover-header\" data-v-ca18938c><div class=\"lower-title\" data-v-ca18938c>Cash Flow Statement as reported</div></a></h3><span class=\"span-margin\" data-v-ca18938c>Annual cash flow statements. <span class=\"label info-dark\">Annual</span> <span class=\"label info-link\">JSON</span></span><pre class=\"href-pre\" data-v-ca18938c>\t\t\t\t\t\t\t\t\t<a href=\"https://financialmodelingprep.com/api/v3/cash-flow-statement-as-reported/AAPL?limit=10&apikey=YOUR_API_KEY\" target=\"_blank\" class=\"background-link\" data-v-ca18938c>/api/v3/cash-flow-statement-as-reported/<span class=\"symbol\">AAPL</span>?<span class=\"symbol bold\">limit</span>=<span class=\"symbol\">10</span></a>\n",
      "\t\t\t\t\t\t\t\t</pre><!----></div><!----></div><div class=\"contain-main-block margin-top-pretty\" style=\"margin-top:0\" data-v-ca18938c><div class=\"contain-block-prettyprint\" data-v-ca18938c><!----><!----><!----> <span class=\"span-margin\" data-v-ca18938c>Quarterly cash flow statements. <span class=\"label info-dark\">Quarter</span> <span class=\"label info-link\">JSON</span></span><pre class=\"href-pre\" data-v-ca18938c>\t\t\t\t\t\t\t\t\t<a href=\"https://financialmodelingprep.com/api/v3/cash-flow-statement-as-reported/AAPL?period=quarter&limit=50&apikey=YOUR_API_KEY\" target=\"_blank\" class=\"background-link\" data-v-ca18938c>/api/v3/cash-flow-statement-as-reported/<span class=\"symbol\">AAPL</span>?<span class=\"symbol bold\">period</span>=<span class=\"symbol\">quarter</span>&<span class=\"symbol bold\">limit</span>=<span class=\"symbol\">50</span></a>\n",
      "\t\t\t\t\t\t\t\t</pre><!----></div><!----></div><div class=\"contain-main-block\" style=\"margin-top:0\" data-v-ca18938c><div class=\"contain-block-prettyprint\" data-v-ca18938c><!----><!----><!----> <span class=\"span-margin\" data-v-ca18938c>Downloadable file <span class=\"label info-dark\">Annual/Quarter</span> <span class=\"label info-link\">CSV</span></span><pre class=\"href-pre\" data-v-ca18938c>\t\t\t\t\t\t\t\t\t<a href=\"https://financialmodelingprep.com/api/v3/cash-flow-statement-as-reported/AAPL?datatype=csv&apikey=YOUR_API_KEY\" target=\"_blank\" class=\"background-link\" data-v-ca18938c>/api/v3/cash-flow-statement-as-reported/<span class=\"symbol\">AAPL</span>?<span class=\"symbol bold\">datatype</span>=<span class=\"symbol\">csv</span></a>\n",
      "\t\t\t\t\t\t\t\t</pre><!----></div><!----></div><div class=\"contain-main-block margin-bigger\" style=\"margin-top:0\" data-v-ca18938c><div class=\"contain-block-prettyprint\" data-v-ca18938c><!----><!----><h3 class=\"margin-head\" data-v-ca18938c><!----> <a href=\"/developer/docs/financial-statement-as-reported-api#Full-Financial-Statement-as-reported\" class=\"contain-header hoover-header\" data-v-ca18938c><div class=\"lower-title\" data-v-ca18938c>Full Financial Statement as reported</div></a></h3><span class=\"span-margin\" data-v-ca18938c>Annual Full Financial Statement. <span class=\"label info-dark\">Annual</span> <span class=\"label info-link\">JSON</span></span><pre class=\"href-pre\" data-v-ca18938c>\t\t\t\t\t\t\t\t\t<a href=\"https://financialmodelingprep.com/api/v3/financial-statement-full-as-reported/AAPL?apikey=YOUR_API_KEY\" target=\"_blank\" class=\"background-link\" data-v-ca18938c>/api/v3/financial-statement-full-as-reported/<span class=\"symbol\">AAPL</span></a>\n",
      "\t\t\t\t\t\t\t\t</pre><!----></div><!----></div><div class=\"contain-main-block margin-bottom-bigger margin-head-top-pretty\" style=\"margin-top:0\" data-v-ca18938c><div class=\"contain-block-prettyprint\" data-v-ca18938c><!----><!----><!----> <span class=\"span-margin\" data-v-ca18938c>Quarterly Full Financial Statement <span class=\"label info-dark\">Quarter</span> <span class=\"label info-link\">JSON</span></span><pre class=\"href-pre\" data-v-ca18938c>\t\t\t\t\t\t\t\t\t<a href=\"https://financialmodelingprep.com/api/v3/financial-statement-full-as-reported/AAPL?period=quarter&apikey=YOUR_API_KEY\" target=\"_blank\" class=\"background-link\" data-v-ca18938c>/api/v3/financial-statement-full-as-reported/<span class=\"symbol\">AAPL</span>?<span class=\"symbol bold\">period</span>=<span class=\"symbol\">quarter</span></a>\n",
      "\t\t\t\t\t\t\t\t</pre><!----></div><!----></div></section><section id=\"International-Filings\" class=\"section-top min-height-section\" data-v-ca18938c><h2 data-v-ca18938c><a href=\"/developer/docs/international-filings-api\" class=\"contain-header hoover-header\" data-v-ca18938c><div class=\"title-head\" data-v-ca18938c><div data-v-ca18938c>International Filings <svg aria-hidden=\"true\" height=\"12\" width=\"12\" viewBox=\"0 0 16 16\" xmlns=\"http://www.w3.org/2000/svg\" class=\"SVGInline-svg SVGInline--cleaned-svg SVG-svg Icon-svg Icon--arrowRight-svg Icon-color-svg Icon-color--blue-svg\" data-v-ca18938c><path d=\"M12.583 7L7.992 2.409A1 1 0 1 1 9.407.993l6.3 6.3a1 1 0 0 1 0 1.414l-6.3 6.3a1 1 0 0 1-1.415-1.416L12.583 9H1a1 1 0 1 1 0-2z\" fill-rule=\"evenodd\" data-v-ca18938c></path></svg></div></div></a></h2><div class=\"contain-main-block\" style=\"margin-top:0\" data-v-ca18938c><div class=\"contain-block-prettyprint\" data-v-ca18938c><!----><!----><!----> <span class=\"span-margin\" data-v-ca18938c>Canadian Stock Exchange TSX (SEDAR) income statements <span class=\"label info-dark\">Annual</span> <span class=\"label info-link\">JSON</span></span><pre class=\"href-pre\" data-v-ca18938c>\t\t\t\t\t\t\t\t\t<a href=\"https://financialmodelingprep.com/api/v3/income-statement/RY.TO?limit=100&apikey=YOUR_API_KEY\" target=\"_blank\" class=\"background-link\" data-v-ca18938c>/api/v3/income-statement/<span class=\"symbol\">RY.TO</span>?<span class=\"symbol bold\">limit</span>=<span class=\"symbol\">100</span></a>\n",
      "\t\t\t\t\t\t\t\t</pre><!----></div><!----></div><div class=\"contain-main-block margin-head-top-top-top-pretty\" style=\"margin-top:0\" data-v-ca18938c><div class=\"contain-block-prettyprint\" data-v-ca18938c><!----><!----><!----> <span class=\"span-margin\" data-v-ca18938c>Euronext income statements <span class=\"label info-dark\">Annual</span> <span class=\"label info-link\">JSON</span></span><pre class=\"href-pre\" data-v-ca18938c>\t\t\t\t\t\t\t\t\t<a href=\"https://financialmodelingprep.com/api/v3/income-statement/EDF.PA?limit=100&apikey=YOUR_API_KEY\" target=\"_blank\" class=\"background-link\" data-v-ca18938c>/api/v3/income-statement/<span class=\"symbol\">EDF.PA</span>?<span class=\"symbol bold\">limit</span>=<span class=\"symbol\">100</span></a>\n",
      "\t\t\t\t\t\t\t\t</pre><!----></div><!----></div><div class=\"contain-main-block\" style=\"margin-top:0\" data-v-ca18938c><div class=\"contain-block-prettyprint\" data-v-ca18938c><!----><!----><!----> <span class=\"span-margin\" data-v-ca18938c>XETRA (Bundesanzeiger) Germany income statements <span class=\"label info-dark\">Annual</span> <span class=\"label info-link\">JSON</span></span><pre class=\"href-pre\" data-v-ca18938c>\t\t\t\t\t\t\t\t\t<a href=\"https://financialmodelingprep.com/api/v3/income-statement/SAP.DE?limit=100&apikey=YOUR_API_KEY\" target=\"_blank\" class=\"background-link\" data-v-ca18938c>/api/v3/income-statement/<span class=\"symbol\">SAP.DE</span>?<span class=\"symbol bold\">limit</span>=<span class=\"symbol\">100</span></a>\n",
      "\t\t\t\t\t\t\t\t</pre><!----></div><!----></div><div class=\"contain-main-block\" style=\"margin-top:0\" data-v-ca18938c><div class=\"contain-block-prettyprint\" data-v-ca18938c><!----><!----><!----> <span class=\"span-margin\" data-v-ca18938c>National Stock Exchange of India income statements <span class=\"label info-dark\">Annual</span> <span class=\"label info-link\">JSON</span></span><pre class=\"href-pre\" data-v-ca18938c>\t\t\t\t\t\t\t\t\t<a href=\"https://financialmodelingprep.com/api/v3/income-statement/RELIANCE.NS?limit=100&apikey=YOUR_API_KEY\" target=\"_blank\" class=\"background-link\" data-v-ca18938c>/api/v3/income-statement/<span class=\"symbol\">RELIANCE.NS</span>?<span class=\"symbol bold\">limit</span>=<span class=\"symbol\">100</span></a>\n",
      "\t\t\t\t\t\t\t\t</pre><!----></div><!----></div><div class=\"contain-main-block\" style=\"margin-top:0\" data-v-ca18938c><div class=\"contain-block-prettyprint\" data-v-ca18938c><!----><!----><!----> <span class=\"span-margin\" data-v-ca18938c>London Stock Exchange (Companies house) income statements <span class=\"label info-dark\">Annual</span> <span class=\"label info-link\">JSON</span></span><pre class=\"href-pre\" data-v-ca18938c>\t\t\t\t\t\t\t\t\t<a href=\"https://financialmodelingprep.com/api/v3/income-statement/GLEN.L?limit=100&apikey=YOUR_API_KEY\" target=\"_blank\" class=\"background-link\" data-v-ca18938c>/api/v3/income-statement/<span class=\"symbol\">GLEN.L</span>?<span class=\"symbol bold\">limit</span>=<span class=\"symbol\">100</span></a>\n",
      "\t\t\t\t\t\t\t\t</pre><!----></div><!----></div><div class=\"contain-main-block\" style=\"margin-top:0\" data-v-ca18938c><div class=\"contain-block-prettyprint\" data-v-ca18938c><!----><!----><!----> <span class=\"span-margin\" data-v-ca18938c>Moscow Exchange (MOEX) income statements <span class=\"label info-dark\">Annual</span> <span class=\"label info-link\">JSON</span></span><pre class=\"href-pre\" data-v-ca18938c>\t\t\t\t\t\t\t\t\t<a href=\"https://financialmodelingprep.com/api/v3/income-statement/GAZP.ME?limit=100&apikey=YOUR_API_KEY\" target=\"_blank\" class=\"background-link\" data-v-ca18938c>/api/v3/income-statement/<span class=\"symbol\">GAZP.ME</span>?<span class=\"symbol bold\">limit</span>=<span class=\"symbol\">100</span></a>\n",
      "\t\t\t\t\t\t\t\t</pre><!----></div><!----></div><div class=\"contain-main-block\" style=\"margin-top:0\" data-v-ca18938c><div class=\"contain-block-prettyprint\" data-v-ca18938c><!----><!----><!----> <span class=\"span-margin\" data-v-ca18938c>Hong Kong Exchange (SEHK) income statements <span class=\"label info-dark\">Annual</span> <span class=\"label info-link\">JSON</span></span><pre class=\"href-pre\" data-v-ca18938c>\t\t\t\t\t\t\t\t\t<a href=\"https://financialmodelingprep.com/api/v3/income-statement/1797.HK?limit=100&apikey=YOUR_API_KEY\" target=\"_blank\" class=\"background-link\" data-v-ca18938c>/api/v3/income-statement/<span class=\"symbol\">1797.HK</span>?<span class=\"symbol bold\">limit</span>=<span class=\"symbol\">100</span></a>\n",
      "\t\t\t\t\t\t\t\t</pre><!----></div><!----></div><div class=\"contain-main-block\" style=\"margin-top:0\" data-v-ca18938c><div class=\"contain-block-prettyprint\" data-v-ca18938c><!----><!----><!----> <span class=\"span-margin\" data-v-ca18938c>Australian Stock Exchange (ASX) income statements <span class=\"label info-dark\">Annual</span> <span class=\"label info-link\">JSON</span></span><pre class=\"href-pre\" data-v-ca18938c>\t\t\t\t\t\t\t\t\t<a href=\"https://financialmodelingprep.com/api/v3/income-statement/APT.AX?limit=100&apikey=YOUR_API_KEY\" target=\"_blank\" class=\"background-link\" data-v-ca18938c>/api/v3/income-statement/<span class=\"symbol\">APT.AX</span>?<span class=\"symbol bold\">limit</span>=<span class=\"symbol\">100</span></a>\n",
      "\t\t\t\t\t\t\t\t</pre><!----></div><!----></div><div class=\"contain-main-block\" style=\"margin-top:0\" data-v-ca18938c><div class=\"contain-block-prettyprint\" data-v-ca18938c><!----><!----><!----> <span class=\"span-margin\" data-v-ca18938c>Norway stock exchange (OSE) income statements <span class=\"label info-dark\">Annual</span> <span class=\"label info-link\">JSON</span></span><pre class=\"href-pre\" data-v-ca18938c>\t\t\t\t\t\t\t\t\t<a href=\"https://financialmodelingprep.com/api/v3/income-statement/BON.OL?limit=100&apikey=YOUR_API_KEY\" target=\"_blank\" class=\"background-link\" data-v-ca18938c>/api/v3/income-statement/<span class=\"symbol\">BON.OL</span>?<span class=\"symbol bold\">limit</span>=<span class=\"symbol\">100</span></a>\n",
      "\t\t\t\t\t\t\t\t</pre><!----></div><!----></div><div class=\"contain-main-block\" style=\"margin-top:0\" data-v-ca18938c><div class=\"contain-block-prettyprint\" data-v-ca18938c><!----><!----><!----> <span class=\"span-margin\" data-v-ca18938c>Swiss Exchange (SIX) income statements <span class=\"label info-dark\">Annual</span> <span class=\"label info-link\">JSON</span></span><pre class=\"href-pre\" data-v-ca18938c>\t\t\t\t\t\t\t\t\t<a href=\"https://financialmodelingprep.com/api/v3/income-statement/FHZN.SW?limit=100&apikey=YOUR_API_KEY\" target=\"_blank\" class=\"background-link last-href\" data-v-ca18938c>/api/v3/income-statement/<span class=\"symbol\">FHZN.SW</span>?<span class=\"symbol bold\">limit</span>=<span class=\"symbol\">100</span></a>\n",
      "\t\t\t\t\t\t\t\t</pre><h3 style=\"border:none;margin-top:20px\" data-v-ca18938c><a href=\"/developer/docs/international-filings-api\" class=\"span-margin hoover-header integration\" data-v-ca18938c><span style=\"color:#ec407a;font-weight:600\" data-v-ca18938c>Example</span> with Javascript, JQuery, VueJS, Angular, JAVA, PHP, NodeJS, Python, Go, Ruby, C#, R, Strest, Rust, Swift and Scala</a></h3></div><!----></div></section><section id=\"List-of-dates-and-links\" class=\"section-top min-height-section\" data-v-ca18938c><h2 data-v-ca18938c><a href=\"/developer/docs/list-dates-links-api\" class=\"contain-header hoover-header\" data-v-ca18938c><div class=\"title-head\" data-v-ca18938c><div data-v-ca18938c>List of dates and links <svg aria-hidden=\"true\" height=\"12\" width=\"12\" viewBox=\"0 0 16 16\" xmlns=\"http://www.w3.org/2000/svg\" class=\"SVGInline-svg SVGInline--cleaned-svg SVG-svg Icon-svg Icon--arrowRight-svg Icon-color-svg Icon-color--blue-svg\" data-v-ca18938c><path d=\"M12.583 7L7.992 2.409A1 1 0 1 1 9.407.993l6.3 6.3a1 1 0 0 1 0 1.414l-6.3 6.3a1 1 0 0 1-1.415-1.416L12.583 9H1a1 1 0 1 1 0-2z\" fill-rule=\"evenodd\" data-v-ca18938c></path></svg></div></div></a></h2><div class=\"contain-main-block\" style=\"margin-top:0\" data-v-ca18938c><div class=\"contain-block-prettyprint\" data-v-ca18938c><!----><!----><!----> <span class=\"span-margin\" data-v-ca18938c>Returns dates and links to data <span class=\"label info-link\">JSON</span></span><pre class=\"href-pre\" data-v-ca18938c>\t\t\t\t\t\t\t\t\t<a href=\"https://financialmodelingprep.com/api/v4/financial-reports-dates?symbol=AAPL&apikey=YOUR_API_KEY\" target=\"_blank\" class=\"background-link\" data-v-ca18938c>/api/v4/financial-reports-dates?<span class=\"symbol bold\">symbol</span>=<span class=\"symbol\">AAPL</span></a>\n",
      "\t\t\t\t\t\t\t\t</pre><!----></div><!----></div></section><section id=\"Annual-Reports-on-Form-10-K\" class=\"section-top min-height-section\" data-v-ca18938c><h2 data-v-ca18938c><a href=\"/developer/docs/annual-report-form-api\" class=\"contain-header hoover-header\" data-v-ca18938c><div class=\"title-head\" data-v-ca18938c><div data-v-ca18938c>Annual Reports on Form 10-K <svg aria-hidden=\"true\" height=\"12\" width=\"12\" viewBox=\"0 0 16 16\" xmlns=\"http://www.w3.org/2000/svg\" class=\"SVGInline-svg SVGInline--cleaned-svg SVG-svg Icon-svg Icon--arrowRight-svg Icon-color-svg Icon-color--blue-svg\" data-v-ca18938c><path d=\"M12.583 7L7.992 2.409A1 1 0 1 1 9.407.993l6.3 6.3a1 1 0 0 1 0 1.414l-6.3 6.3a1 1 0 0 1-1.415-1.416L12.583 9H1a1 1 0 1 1 0-2z\" fill-rule=\"evenodd\" data-v-ca18938c></path></svg></div></div></a></h2><div class=\"contain-main-block\" style=\"margin-top:0\" data-v-ca18938c><div class=\"contain-block-prettyprint\" data-v-ca18938c><!----><!----><!----> <span class=\"span-margin\" data-v-ca18938c>Annual Reports on Form 10-K. Period accepted: FY <span class=\"label info-link\">JSON</span></span><pre class=\"href-pre\" data-v-ca18938c>\t\t\t\t\t\t\t\t\t<a href=\"https://financialmodelingprep.com/api/v4/financial-reports-json?symbol=AAPL&year=2020&period=FY&apikey=YOUR_API_KEY\" target=\"_blank\" class=\"background-link\" data-v-ca18938c>/api/v4/financial-reports-json?<span class=\"symbol bold\">symbol</span>=<span class=\"symbol\">AAPL</span>&<span class=\"symbol bold\">year</span>=<span class=\"symbol\">2020</span>&<span class=\"symbol bold\">period</span>=<span class=\"symbol\">FY</span></a>\n",
      "\t\t\t\t\t\t\t\t</pre><!----></div><!----></div><div class=\"contain-main-block margin-head-top-top-top-pretty\" style=\"margin-top:0\" data-v-ca18938c><div class=\"contain-block-prettyprint\" data-v-ca18938c><!----><!----><!----> <span class=\"span-margin\" data-v-ca18938c>Excel Annual Reports on Form 10-K. Period accepted: FY <span class=\"label info-link\">XLSX</span></span><pre class=\"href-pre\" data-v-ca18938c>\t\t\t\t\t\t\t\t\t<a href=\"https://financialmodelingprep.com/api/v4/financial-reports-xlsx?symbol=AAPL&year=2020&period=FY&apikey=YOUR_API_KEY\" target=\"_blank\" class=\"background-link last-href\" data-v-ca18938c>/api/v4/financial-reports-xlsx?<span class=\"symbol bold\">symbol</span>=<span class=\"symbol\">AAPL</span>&<span class=\"symbol bold\">year</span>=<span class=\"symbol\">2020</span>&<span class=\"symbol bold\">period</span>=<span class=\"symbol\">FY</span></a>\n",
      "\t\t\t\t\t\t\t\t</pre><h3 style=\"border:none;margin-top:20px\" data-v-ca18938c><a href=\"/developer/docs/annual-report-form-api\" class=\"span-margin hoover-header integration\" data-v-ca18938c><span style=\"color:#ec407a;font-weight:600\" data-v-ca18938c>Example</span> with Javascript, JQuery, VueJS, Angular, JAVA, PHP, NodeJS, Python, Go, Ruby, C#, R, Strest, Rust, Swift and Scala</a></h3></div><!----></div></section><section id=\"Quarterly-Earnings-Reports\" class=\"section-top min-height-section\" data-v-ca18938c><h2 data-v-ca18938c><a href=\"/developer/docs/quarter-report-form-api\" class=\"contain-header hoover-header\" data-v-ca18938c><div class=\"title-head\" data-v-ca18938c><div data-v-ca18938c>Quarterly Earnings Reports <svg aria-hidden=\"true\" height=\"12\" width=\"12\" viewBox=\"0 0 16 16\" xmlns=\"http://www.w3.org/2000/svg\" class=\"SVGInline-svg SVGInline--cleaned-svg SVG-svg Icon-svg Icon--arrowRight-svg Icon-color-svg Icon-color--blue-svg\" data-v-ca18938c><path d=\"M12.583 7L7.992 2.409A1 1 0 1 1 9.407.993l6.3 6.3a1 1 0 0 1 0 1.414l-6.3 6.3a1 1 0 0 1-1.415-1.416L12.583 9H1a1 1 0 1 1 0-2z\" fill-rule=\"evenodd\" data-v-ca18938c></path></svg></div></div></a></h2><div class=\"contain-main-block\" style=\"margin-top:0\" data-v-ca18938c><div class=\"contain-block-prettyprint\" data-v-ca18938c><!----><!----><!----> <span class=\"span-margin\" data-v-ca18938c>Quarterly Earnings Reports. Period accepted: Q1/Q2/Q3/Q4 <span class=\"label info-link\">JSON</span></span><pre class=\"href-pre\" data-v-ca18938c>\t\t\t\t\t\t\t\t\t<a href=\"https://financialmodelingprep.com/api/v4/financial-reports-json?symbol=AAPL&year=2020&period=Q1&apikey=YOUR_API_KEY\" target=\"_blank\" class=\"background-link\" data-v-ca18938c>/api/v4/financial-reports-json?<span class=\"symbol bold\">symbol</span>=<span class=\"symbol\">AAPL</span>&<span class=\"symbol bold\">year</span>=<span class=\"symbol\">2020</span>&<span class=\"symbol bold\">period</span>=<span class=\"symbol\">Q1</span></a>\n",
      "\t\t\t\t\t\t\t\t</pre><!----></div><!----></div><div class=\"contain-main-block margin-head-top-top-top-pretty\" style=\"margin-top:0\" data-v-ca18938c><div class=\"contain-block-prettyprint\" data-v-ca18938c><!----><!----><!----> <span class=\"span-margin\" data-v-ca18938c>Excel Quarterly Earnings Reports. Period accepted: Q1/Q2/Q3/Q4 <span class=\"label info-link\">XLSX</span></span><pre class=\"href-pre\" data-v-ca18938c>\t\t\t\t\t\t\t\t\t<a href=\"https://financialmodelingprep.com/api/v4/financial-reports-xlsx?symbol=AAPL&year=2020&period=Q1&apikey=YOUR_API_KEY\" target=\"_blank\" class=\"background-link last-href\" data-v-ca18938c>/api/v4/financial-reports-xlsx?<span class=\"symbol bold\">symbol</span>=<span class=\"symbol\">AAPL</span>&<span class=\"symbol bold\">year</span>=<span class=\"symbol\">2020</span>&<span class=\"symbol bold\">period</span>=<span class=\"symbol\">Q1</span></a>\n",
      "\t\t\t\t\t\t\t\t</pre><h3 style=\"border:none;margin-top:20px\" data-v-ca18938c><a href=\"/developer/docs/quarter-report-form-api\" class=\"span-margin hoover-header integration\" data-v-ca18938c><span style=\"color:#ec407a;font-weight:600\" data-v-ca18938c>Example</span> with Javascript, JQuery, VueJS, Angular, JAVA, PHP, NodeJS, Python, Go, Ruby, C#, R, Strest, Rust, Swift and Scala</a></h3></div><!----></div></section><section id=\"Shares-Float\" class=\"section-top min-height-section\" data-v-ca18938c><h2 data-v-ca18938c><a href=\"/developer/docs/shares-float-api\" class=\"contain-header hoover-header\" data-v-ca18938c><div class=\"title-head\" data-v-ca18938c><div data-v-ca18938c>Shares Float <svg aria-hidden=\"true\" height=\"12\" width=\"12\" viewBox=\"0 0 16 16\" xmlns=\"http://www.w3.org/2000/svg\" class=\"SVGInline-svg SVGInline--cleaned-svg SVG-svg Icon-svg Icon--arrowRight-svg Icon-color-svg Icon-color--blue-svg\" data-v-ca18938c><path d=\"M12.583 7L7.992 2.409A1 1 0 1 1 9.407.993l6.3 6.3a1 1 0 0 1 0 1.414l-6.3 6.3a1 1 0 0 1-1.415-1.416L12.583 9H1a1 1 0 1 1 0-2z\" fill-rule=\"evenodd\" data-v-ca18938c></path></svg></div></div></a></h2><div class=\"contain-main-block\" style=\"margin-top:0\" data-v-ca18938c><div class=\"contain-block-prettyprint\" data-v-ca18938c><!----><!----><!----> <span class=\"span-margin\" data-v-ca18938c>Shares float for symbol <span class=\"label info-link\">JSON</span></span><pre class=\"href-pre\" data-v-ca18938c>\t\t\t\t\t\t\t\t\t<a href=\"https://financialmodelingprep.com/api/v4/shares_float?symbol=AAPL&apikey=YOUR_API_KEY\" target=\"_blank\" class=\"background-link\" data-v-ca18938c>/api/v4/shares_float?<span class=\"symbol bold\">symbol</span>=<span class=\"symbol\">AAPL</span></a>\n",
      "\t\t\t\t\t\t\t\t</pre><!----></div><!----></div><div class=\"contain-main-block margin-head-top-top-top-pretty\" style=\"margin-top:0\" data-v-ca18938c><div class=\"contain-block-prettyprint\" data-v-ca18938c><!----><!----><!----> <span class=\"span-margin\" data-v-ca18938c>All latest shares float available <span class=\"label info-link\">JSON</span></span><pre class=\"href-pre\" data-v-ca18938c>\t\t\t\t\t\t\t\t\t<a href=\"https://financialmodelingprep.com/api/v4/shares_float/all?apikey=YOUR_API_KEY\" target=\"_blank\" class=\"background-link last-href\" data-v-ca18938c>/api/v4/shares_float/<span class=\"symbol bold\">all</span></a>\n",
      "\t\t\t\t\t\t\t\t</pre><h3 style=\"border:none;margin-top:20px\" data-v-ca18938c><a href=\"/developer/docs/shares-float-api\" class=\"span-margin hoover-header integration\" data-v-ca18938c><span style=\"color:#ec407a;font-weight:600\" data-v-ca18938c>Example</span> with Javascript, JQuery, VueJS, Angular, JAVA, PHP, NodeJS, Python, Go, Ruby, C#, R, Strest, Rust, Swift and Scala</a></h3></div><!----></div></section><section id=\"SEC-RSS-Feeds\" class=\"section-top min-height-section\" data-v-ca18938c><h2 data-v-ca18938c><a href=\"/developer/docs/sec-rss-feeds-api\" class=\"contain-header hoover-header\" data-v-ca18938c><div class=\"title-head\" data-v-ca18938c><div data-v-ca18938c>SEC RSS Feeds <svg aria-hidden=\"true\" height=\"12\" width=\"12\" viewBox=\"0 0 16 16\" xmlns=\"http://www.w3.org/2000/svg\" class=\"SVGInline-svg SVGInline--cleaned-svg SVG-svg Icon-svg Icon--arrowRight-svg Icon-color-svg Icon-color--blue-svg\" data-v-ca18938c><path d=\"M12.583 7L7.992 2.409A1 1 0 1 1 9.407.993l6.3 6.3a1 1 0 0 1 0 1.414l-6.3 6.3a1 1 0 0 1-1.415-1.416L12.583 9H1a1 1 0 1 1 0-2z\" fill-rule=\"evenodd\" data-v-ca18938c></path></svg></div></div></a></h2><div class=\"contain-main-block\" style=\"margin-top:0\" data-v-ca18938c><div class=\"contain-block-prettyprint\" data-v-ca18938c><!----><!----><h3 data-v-ca18938c><!----> <a href=\"/developer/docs/sec-rss-feeds-api#SEC-Rss-Feeds\" class=\"contain-header hoover-header\" data-v-ca18938c><div class=\"lower-title\" data-v-ca18938c>SEC Rss Feeds</div></a></h3><span class=\"span-margin\" data-v-ca18938c>SEC RSS feed is a very helpful resource for staying current on the most recent financial statements posted on the SEC <span class=\"label success\">Real-time</span> <span class=\"label info-link\">JSON</span></span><pre class=\"href-pre\" data-v-ca18938c>\t\t\t\t\t\t\t\t\t<a href=\"https://financialmodelingprep.com/api/v3/rss_feed?page=0&apikey=YOUR_API_KEY\" target=\"_blank\" class=\"background-link\" data-v-ca18938c>/api/v3/<span class=\"symbol\">rss_feed</span>?<span class=\"symbol bold\">page</span>=<span class=\"symbol\">0</span></a>\n",
      "\t\t\t\t\t\t\t\t</pre><!----></div><!----></div><div class=\"contain-main-block margin-top-pretty\" style=\"margin-top:0\" data-v-ca18938c><div class=\"contain-block-prettyprint\" data-v-ca18938c><!----><!----><!----> <span class=\"span-margin\" data-v-ca18938c>Downloadable SEC RSS feed <span class=\"label success\">Real-time</span> <span class=\"label info-link\">CSV</span> file:</span><pre class=\"href-pre\" data-v-ca18938c>\t\t\t\t\t\t\t\t\t<a href=\"https://financialmodelingprep.com/api/v3/rss_feed?datatype=csv&apikey=YOUR_API_KEY\" target=\"_blank\" class=\"background-link\" data-v-ca18938c>/api/v3/<span class=\"symbol\">rss_feed</span>?<span class=\"symbol bold\">datatype</span>=<span class=\"symbol\">csv</span></a>\n",
      "\t\t\t\t\t\t\t\t</pre><!----></div><!----></div><div class=\"contain-main-block\" style=\"margin-top:0\" data-v-ca18938c><div class=\"contain-block-prettyprint\" data-v-ca18938c><!----><!----><!----> <span class=\"span-margin\" data-v-ca18938c>SEC RSS feed with latest filed statements <span class=\"label success\">Real-time</span> <span class=\"label info-link\">JSON</span></span><pre class=\"href-pre\" data-v-ca18938c>\t\t\t\t\t\t\t\t\t<a href=\"https://financialmodelingprep.com/api/v4/rss_feed?limit=100&type=10&from=2021-03-10&to=2021-05-04&isDone=true&apikey=YOUR_API_KEY\" target=\"_blank\" class=\"background-link last-href\" data-v-ca18938c>/api/v4/<span class=\"symbol\">rss_feed</span>?<span class=\"symbol bold\">limit</span>=<span class=\"symbol\">100</span>&<span class=\"symbol bold\">type</span>=<span class=\"symbol\">10</span>&<span class=\"symbol bold\">from</span>=<span class=\"symbol\">2021-03-10</span>&<span class=\"symbol bold\">to</span>=<span class=\"symbol\">2021-05-04</span>&<span class=\"symbol bold\">isDone</span>=<span class=\"symbol\">true</span></a>\n",
      "\t\t\t\t\t\t\t\t</pre><h3 style=\"border:none;margin-top:20px\" data-v-ca18938c><a href=\"/developer/docs/sec-rss-feeds-api\" class=\"span-margin hoover-header integration\" data-v-ca18938c><span style=\"color:#ec407a;font-weight:600\" data-v-ca18938c>Example</span> with Javascript, JQuery, VueJS, Angular, JAVA, PHP, NodeJS, Python, Go, Ruby, C#, R, Strest, Rust, Swift and Scala</a></h3></div><!----></div></section><section id=\"Earning-Call-Transcript\" class=\"section-top min-height-section\" data-v-ca18938c><h2 data-v-ca18938c><a href=\"/developer/docs/earning-call-transcript-api\" class=\"contain-header hoover-header\" data-v-ca18938c><div class=\"title-head\" data-v-ca18938c><div data-v-ca18938c>Earning Call Transcript <svg aria-hidden=\"true\" height=\"12\" width=\"12\" viewBox=\"0 0 16 16\" xmlns=\"http://www.w3.org/2000/svg\" class=\"SVGInline-svg SVGInline--cleaned-svg SVG-svg Icon-svg Icon--arrowRight-svg Icon-color-svg Icon-color--blue-svg\" data-v-ca18938c><path d=\"M12.583 7L7.992 2.409A1 1 0 1 1 9.407.993l6.3 6.3a1 1 0 0 1 0 1.414l-6.3 6.3a1 1 0 0 1-1.415-1.416L12.583 9H1a1 1 0 1 1 0-2z\" fill-rule=\"evenodd\" data-v-ca18938c></path></svg></div></div></a></h2><div class=\"contain-main-block\" style=\"margin-top:0\" data-v-ca18938c><div class=\"contain-block-prettyprint\" data-v-ca18938c><!----><!----><!----> <span class=\"span-margin\" data-v-ca18938c>Transcript of specific earning <span class=\"label info-link\">JSON</span></span><pre class=\"href-pre\" data-v-ca18938c>\t\t\t\t\t\t\t\t\t<a href=\"https://financialmodelingprep.com/api/v3/earning_call_transcript/AAPL?quarter=3&year=2020&apikey=YOUR_API_KEY\" target=\"_blank\" class=\"background-link\" data-v-ca18938c>/api/v3/earning_call_transcript/<span class=\"symbol\">AAPL</span>?<span class=\"symbol bold\">quarter</span>=<span class=\"symbol\">3</span>&<span class=\"symbol bold\">year</span>=<span class=\"symbol\">2020</span></a>\n",
      "\t\t\t\t\t\t\t\t</pre><!----></div><!----></div><div class=\"contain-main-block margin-head-top-top-top-pretty\" style=\"margin-top:0\" data-v-ca18938c><div class=\"contain-block-prettyprint\" data-v-ca18938c><!----><!----><!----> <span class=\"span-margin\" data-v-ca18938c>Dates of available transcripts for symbol <span class=\"label info-link\">JSON</span></span><pre class=\"href-pre\" data-v-ca18938c>\t\t\t\t\t\t\t\t\t<a href=\"https://financialmodelingprep.com/api/v4/earning_call_transcript?symbol=AAPL&apikey=YOUR_API_KEY\" target=\"_blank\" class=\"background-link\" data-v-ca18938c>/api/v4/earning_call_transcript?<span class=\"symbol bold\">symbol</span>=<span class=\"symbol\">AAPL</span></a>\n",
      "\t\t\t\t\t\t\t\t</pre><!----></div><!----></div><div class=\"contain-main-block\" style=\"margin-top:0\" data-v-ca18938c><div class=\"contain-block-prettyprint\" data-v-ca18938c><!----><!----><!----> <span class=\"span-margin\" data-v-ca18938c>Transcripts for symbol for specific year <span class=\"label info-link\">JSON</span></span><pre class=\"href-pre\" data-v-ca18938c>\t\t\t\t\t\t\t\t\t<a href=\"https://financialmodelingprep.com/api/v4/batch_earning_call_transcript/AAPL?year=2020&apikey=YOUR_API_KEY\" target=\"_blank\" class=\"background-link last-href\" data-v-ca18938c>/api/v4/batch_earning_call_transcript/<span class=\"symbol\">AAPL</span>?<span class=\"symbol bold\">year</span>=<span class=\"symbol\">2020</span></a>\n",
      "\t\t\t\t\t\t\t\t</pre><h3 style=\"border:none;margin-top:20px\" data-v-ca18938c><a href=\"/developer/docs/earning-call-transcript-api\" class=\"span-margin hoover-header integration\" data-v-ca18938c><span style=\"color:#ec407a;font-weight:600\" data-v-ca18938c>Example</span> with Javascript, JQuery, VueJS, Angular, JAVA, PHP, NodeJS, Python, Go, Ruby, C#, R, Strest, Rust, Swift and Scala</a></h3></div><!----></div></section><section id=\"SEC-Filings\" class=\"section-top min-height-section\" data-v-ca18938c><h2 data-v-ca18938c><a href=\"/developer/docs/sec-filings-api\" class=\"contain-header hoover-header\" data-v-ca18938c><div class=\"title-head\" data-v-ca18938c><div data-v-ca18938c>SEC Filings <svg aria-hidden=\"true\" height=\"12\" width=\"12\" viewBox=\"0 0 16 16\" xmlns=\"http://www.w3.org/2000/svg\" class=\"SVGInline-svg SVGInline--cleaned-svg SVG-svg Icon-svg Icon--arrowRight-svg Icon-color-svg Icon-color--blue-svg\" data-v-ca18938c><path d=\"M12.583 7L7.992 2.409A1 1 0 1 1 9.407.993l6.3 6.3a1 1 0 0 1 0 1.414l-6.3 6.3a1 1 0 0 1-1.415-1.416L12.583 9H1a1 1 0 1 1 0-2z\" fill-rule=\"evenodd\" data-v-ca18938c></path></svg></div></div></a></h2><div class=\"contain-main-block\" style=\"margin-top:0\" data-v-ca18938c><div class=\"contain-block-prettyprint\" data-v-ca18938c><!----><!----><!----> <span class=\"span-margin\" data-v-ca18938c>SEC Filings <span class=\"label info-link\">JSON</span></span><pre class=\"href-pre\" data-v-ca18938c>\t\t\t\t\t\t\t\t\t<a href=\"https://financialmodelingprep.com/api/v3/sec_filings/AAPL?page=0&apikey=YOUR_API_KEY\" target=\"_blank\" class=\"background-link\" data-v-ca18938c>/api/v3/sec_filings/<span class=\"symbol\">AAPL</span>?<span class=\"symbol bold\">page</span>=<span class=\"symbol\">0</span></a>\n",
      "\t\t\t\t\t\t\t\t</pre><!----></div><!----></div><div class=\"contain-main-block margin-head-top-top-top-pretty\" style=\"margin-top:0\" data-v-ca18938c><div class=\"contain-block-prettyprint\" data-v-ca18938c><!----><!----><!----> <span class=\"span-margin\" data-v-ca18938c>SEC Filings with type <span class=\"label info-dark\">Quarter</span> <span class=\"label info-link\">JSON</span></span><pre class=\"href-pre\" data-v-ca18938c>\t\t\t\t\t\t\t\t\t<a href=\"https://financialmodelingprep.com/api/v3/sec_filings/AAPL?type=10-K&page=0&apikey=YOUR_API_KEY\" target=\"_blank\" class=\"background-link last-href\" data-v-ca18938c>/api/v3/sec_filings/<span class=\"symbol\">AAPL</span>?<span class=\"symbol bold\">type</span>=<span class=\"symbol\">10-K</span>&<span class=\"symbol bold\">page</span>=<span class=\"symbol\">0</span></a>\n",
      "\t\t\t\t\t\t\t\t</pre><h3 style=\"border:none;margin-top:20px\" data-v-ca18938c><a href=\"/developer/docs/sec-filings-api\" class=\"span-margin hoover-header integration\" data-v-ca18938c><span style=\"color:#ec407a;font-weight:600\" data-v-ca18938c>Example</span> with Javascript, JQuery, VueJS, Angular, JAVA, PHP, NodeJS, Python, Go, Ruby, C#, R, Strest, Rust, Swift and Scala</a></h3></div><!----></div></section><section id=\"Rss-feed-8K-(Important-Events)\" class=\"section-top min-height-section\" data-v-ca18938c><h2 data-v-ca18938c><a href=\"/developer/docs/rss-feed-8k-api\" class=\"contain-header hoover-header\" data-v-ca18938c><div class=\"title-head\" data-v-ca18938c><div data-v-ca18938c>Rss feed 8K (Important Events) <svg aria-hidden=\"true\" height=\"12\" width=\"12\" viewBox=\"0 0 16 16\" xmlns=\"http://www.w3.org/2000/svg\" class=\"SVGInline-svg SVGInline--cleaned-svg SVG-svg Icon-svg Icon--arrowRight-svg Icon-color-svg Icon-color--blue-svg\" data-v-ca18938c><path d=\"M12.583 7L7.992 2.409A1 1 0 1 1 9.407.993l6.3 6.3a1 1 0 0 1 0 1.414l-6.3 6.3a1 1 0 0 1-1.415-1.416L12.583 9H1a1 1 0 1 1 0-2z\" fill-rule=\"evenodd\" data-v-ca18938c></path></svg></div></div></a></h2><div class=\"contain-main-block\" style=\"margin-top:0\" data-v-ca18938c><div class=\"contain-block-prettyprint\" data-v-ca18938c><!----><!----><!----> <span class=\"span-margin\" data-v-ca18938c>SEC Rss for 8K forms <span class=\"label info-link\">JSON</span></span><pre class=\"href-pre\" data-v-ca18938c>\t\t\t\t\t\t\t\t\t<a href=\"https://financialmodelingprep.com/api/v4/rss_feed_8k?page=0&apikey=YOUR_API_KEY\" target=\"_blank\" class=\"background-link\" data-v-ca18938c>/api/v4/rss_feed_8k?<span class=\"symbol bold\">page</span>=<span class=\"symbol\">0</span></a>\n",
      "\t\t\t\t\t\t\t\t</pre><!----></div><!----></div><div class=\"contain-main-block margin-head-top-top-top-pretty\" style=\"margin-top:0\" data-v-ca18938c><div class=\"contain-block-prettyprint\" data-v-ca18938c><!----><!----><!----> <span class=\"span-margin\" data-v-ca18938c>SEC Rss for 8K forms with a time frame <span class=\"label info-link\">JSON</span></span><pre class=\"href-pre\" data-v-ca18938c>\t\t\t\t\t\t\t\t\t<a href=\"https://financialmodelingprep.com/api/v4/rss_feed_8k?from=2021-09-01&to=2021-09-30&limit=10&apikey=YOUR_API_KEY\" target=\"_blank\" class=\"background-link\" data-v-ca18938c>/api/v4/rss_feed_8k?<span class=\"symbol bold\">from</span>=<span class=\"symbol\">2021-09-01</span>&<span class=\"symbol bold\">to</span>=<span class=\"symbol\">2021-09-30</span>&<span class=\"symbol bold\">limit</span>=<span class=\"symbol\">10</span></a>\n",
      "\t\t\t\t\t\t\t\t</pre><!----></div><!----></div><div class=\"contain-main-block\" style=\"margin-top:0\" data-v-ca18938c><div class=\"contain-block-prettyprint\" data-v-ca18938c><!----><!----><!----> <span class=\"span-margin\" data-v-ca18938c>SEC Rss for 8K with filter that indicates if report contains financial statement <span class=\"label info-link\">JSON</span></span><pre class=\"href-pre\" data-v-ca18938c>\t\t\t\t\t\t\t\t\t<a href=\"https://financialmodelingprep.com/api/v4/rss_feed_8k?hasFinancial=true&limit=10&apikey=YOUR_API_KEY\" target=\"_blank\" class=\"background-link last-href\" data-v-ca18938c>/api/v4/rss_feed_8k?<span class=\"symbol bold\">hasFinancial</span>=<span class=\"symbol\">true</span>&<span class=\"symbol bold\">limit</span>=<span class=\"symbol\">10</span></a>\n",
      "\t\t\t\t\t\t\t\t</pre><h3 style=\"border:none;margin-top:20px\" data-v-ca18938c><a href=\"/developer/docs/rss-feed-8k-api\" class=\"span-margin hoover-header integration\" data-v-ca18938c><span style=\"color:#ec407a;font-weight:600\" data-v-ca18938c>Example</span> with Javascript, JQuery, VueJS, Angular, JAVA, PHP, NodeJS, Python, Go, Ruby, C#, R, Strest, Rust, Swift and Scala</a></h3></div><!----></div></section><section id=\"Company-Notes-due\" class=\"section-top min-height-section\" data-v-ca18938c><h2 data-v-ca18938c><a href=\"/developer/docs/company-notes-due-api\" class=\"contain-header hoover-header\" data-v-ca18938c><div class=\"title-head\" data-v-ca18938c><div data-v-ca18938c>Company Notes due <svg aria-hidden=\"true\" height=\"12\" width=\"12\" viewBox=\"0 0 16 16\" xmlns=\"http://www.w3.org/2000/svg\" class=\"SVGInline-svg SVGInline--cleaned-svg SVG-svg Icon-svg Icon--arrowRight-svg Icon-color-svg Icon-color--blue-svg\" data-v-ca18938c><path d=\"M12.583 7L7.992 2.409A1 1 0 1 1 9.407.993l6.3 6.3a1 1 0 0 1 0 1.414l-6.3 6.3a1 1 0 0 1-1.415-1.416L12.583 9H1a1 1 0 1 1 0-2z\" fill-rule=\"evenodd\" data-v-ca18938c></path></svg></div></div></a></h2><div class=\"contain-main-block\" style=\"margin-top:0\" data-v-ca18938c><div class=\"contain-block-prettyprint\" data-v-ca18938c><!----><!----><!----> <span class=\"span-margin\" data-v-ca18938c>List of notes due <span class=\"label info-link\">JSON</span></span><pre class=\"href-pre\" data-v-ca18938c>\t\t\t\t\t\t\t\t\t<a href=\"https://financialmodelingprep.com/api/v4/company-notes?symbol=AAPL&apikey=YOUR_API_KEY\" target=\"_blank\" class=\"background-link last-href\" data-v-ca18938c>/api/v4/company-notes?<span class=\"symbol bold\">symbol</span>=<span class=\"symbol\">AAPL</span></a>\n",
      "\t\t\t\t\t\t\t\t</pre><h3 style=\"border:none;margin-top:20px\" data-v-ca18938c><a href=\"/developer/docs/company-notes-due-api\" class=\"span-margin hoover-header integration\" data-v-ca18938c><span style=\"color:#ec407a;font-weight:600\" data-v-ca18938c>Example</span> with Javascript, JQuery, VueJS, Angular, JAVA, PHP, NodeJS, Python, Go, Ruby, C#, R, Strest, Rust, Swift and Scala</a></h3></div><!----></div></section><section class=\"contain-big-section\" data-v-ca18938c><div data-v-ca18938c>STOCK FUNDAMENTALS ANALYSIS</div></section><section id=\"Company-Financial-Ratios\" class=\"section-top min-height-section\" data-v-ca18938c><h2 data-v-ca18938c><a href=\"/developer/docs/financial-ratio-free-api\" class=\"contain-header hoover-header\" data-v-ca18938c><div class=\"title-head\" data-v-ca18938c><div data-v-ca18938c>Company Financial Ratios <svg aria-hidden=\"true\" height=\"12\" width=\"12\" viewBox=\"0 0 16 16\" xmlns=\"http://www.w3.org/2000/svg\" class=\"SVGInline-svg SVGInline--cleaned-svg SVG-svg Icon-svg Icon--arrowRight-svg Icon-color-svg Icon-color--blue-svg\" data-v-ca18938c><path d=\"M12.583 7L7.992 2.409A1 1 0 1 1 9.407.993l6.3 6.3a1 1 0 0 1 0 1.414l-6.3 6.3a1 1 0 0 1-1.415-1.416L12.583 9H1a1 1 0 1 1 0-2z\" fill-rule=\"evenodd\" data-v-ca18938c></path></svg></div></div></a></h2><div class=\"contain-main-block\" style=\"margin-top:0\" data-v-ca18938c><div class=\"contain-block-prettyprint\" data-v-ca18938c><!----><!----><!----> <span class=\"span-margin company-ratios\" data-v-ca18938c><span class=\"bold\">All formulas are explained on our <a target=\"_blank\" href=\"/developer/docs/formula\">formula page.</a></span><br><br>Company TTM ratios <span class=\"label info-link\">JSON</span></span><pre class=\"href-pre\" data-v-ca18938c>\t\t\t\t\t\t\t\t\t<a href=\"https://financialmodelingprep.com/api/v3/ratios-ttm/AAPL?apikey=YOUR_API_KEY\" target=\"_blank\" class=\"background-link\" data-v-ca18938c>/api/v3/ratios-ttm/<span class=\"symbol\">AAPL</span></a>\n",
      "\t\t\t\t\t\t\t\t</pre><!----></div><!----></div><div class=\"contain-main-block margin-head-top-top-pretty\" style=\"margin-top:0\" data-v-ca18938c><div class=\"contain-block-prettyprint\" data-v-ca18938c><!----><!----><!----> <span class=\"span-margin company-ratios\" data-v-ca18938c>Company financial ratios (liquidity Measurement Ratios, Profitability Indicator Ratios, Debt Ratios, Operating Performance Ratios, Cash Flow Indicator Ratios and Investment Valuation Ratios) <span class=\"label info-dark\">Annual</span> <span class=\"label info-link\">JSON</span></span><pre class=\"href-pre\" data-v-ca18938c>\t\t\t\t\t\t\t\t\t<a href=\"https://financialmodelingprep.com/api/v3/ratios/AAPL?limit=40&apikey=YOUR_API_KEY\" target=\"_blank\" class=\"background-link\" data-v-ca18938c>/api/v3/ratios/<span class=\"symbol\">AAPL</span>?<span class=\"symbol bold\">limit</span>=<span class=\"symbol\">40</span></a>\n",
      "\t\t\t\t\t\t\t\t</pre><!----></div><!----></div><div class=\"contain-main-block\" style=\"margin-top:0\" data-v-ca18938c><div class=\"contain-block-prettyprint\" data-v-ca18938c><!----><!----><!----> <span class=\"span-margin company-ratios\" data-v-ca18938c>Company quarterly financial ratios <span class=\"label info-dark\">Quarter</span> <span class=\"label info-link\">JSON</span></span><pre class=\"href-pre\" data-v-ca18938c>\t\t\t\t\t\t\t\t\t<a href=\"https://financialmodelingprep.com/api/v3/ratios/AAPL?period=quarter&limit=140&apikey=YOUR_API_KEY\" target=\"_blank\" class=\"background-link last-href\" data-v-ca18938c>/api/v3/ratios/<span class=\"symbol\">AAPL</span>?<span class=\"symbol bold\">period</span>=<span class=\"symbol\">quarter</span>&<span class=\"symbol bold\">limit</span>=<span class=\"symbol\">140</span></a>\n",
      "\t\t\t\t\t\t\t\t</pre><h3 style=\"border:none;margin-top:20px\" data-v-ca18938c><a href=\"/developer/docs/financial-ratio-free-api\" class=\"span-margin hoover-header integration\" data-v-ca18938c><span style=\"color:#ec407a;font-weight:600\" data-v-ca18938c>Example</span> with Javascript, JQuery, VueJS, Angular, JAVA, PHP, NodeJS, Python, Go, Ruby, C#, R, Strest, Rust, Swift and Scala</a></h3></div><!----></div></section><section id=\"Stock-Financial-scores\" class=\"section-top min-height-section\" data-v-ca18938c><h2 data-v-ca18938c><a href=\"/developer/docs/stock-financial-scores\" class=\"contain-header hoover-header\" data-v-ca18938c><div class=\"title-head\" data-v-ca18938c><div data-v-ca18938c>Stock Financial scores <svg aria-hidden=\"true\" height=\"12\" width=\"12\" viewBox=\"0 0 16 16\" xmlns=\"http://www.w3.org/2000/svg\" class=\"SVGInline-svg SVGInline--cleaned-svg SVG-svg Icon-svg Icon--arrowRight-svg Icon-color-svg Icon-color--blue-svg\" data-v-ca18938c><path d=\"M12.583 7L7.992 2.409A1 1 0 1 1 9.407.993l6.3 6.3a1 1 0 0 1 0 1.414l-6.3 6.3a1 1 0 0 1-1.415-1.416L12.583 9H1a1 1 0 1 1 0-2z\" fill-rule=\"evenodd\" data-v-ca18938c></path></svg></div></div></a></h2><div class=\"contain-main-block\" style=\"margin-top:0\" data-v-ca18938c><div class=\"contain-block-prettyprint\" data-v-ca18938c><!----><!----><!----> <span class=\"span-margin\" data-v-ca18938c><span class=\"bold\">All formulas are explained on our <a target=\"_blank\" href=\"/developer/docs/piotroski-score\">piotroski score formula page.</a></span><br><br>Stock Financial scores <span class=\"label info-link\">JSON</span></span><pre class=\"href-pre\" data-v-ca18938c>\t\t\t\t\t\t\t\t\t<a href=\"https://financialmodelingprep.com/api/v4/score?symbol=AAPL&apikey=YOUR_API_KEY\" target=\"_blank\" class=\"background-link\" data-v-ca18938c>/api/v4/score?<span class=\"symbol bold\">symbol</span>=<span class=\"symbol\">AAPL</span></a>\n",
      "\t\t\t\t\t\t\t\t</pre><!----></div><!----></div><div class=\"contain-main-block margin-head-top-top-pretty\" style=\"margin-top:0\" data-v-ca18938c><div class=\"contain-block-prettyprint\" data-v-ca18938c><!----><!----><!----> <span class=\"span-margin\" data-v-ca18938c><span class=\"bold\">All formulas are explained on our <a target=\"_blank\" href=\"/developer/docs/owner-earnings\">owner earnings formula page.</a></span><br><br>Owner's Earnings <span class=\"label info-dark\">Quarter</span> <span class=\"label info-link\">JSON</span></span><pre class=\"href-pre\" data-v-ca18938c>\t\t\t\t\t\t\t\t\t<a href=\"https://financialmodelingprep.com/api/v4/owner_earnings?symbol=AAPL&apikey=YOUR_API_KEY\" target=\"_blank\" class=\"background-link last-href\" data-v-ca18938c>/api/v4/owner_earnings?<span class=\"symbol bold\">symbol</span>=<span class=\"symbol\">AAPL</span></a>\n",
      "\t\t\t\t\t\t\t\t</pre><h3 style=\"border:none;margin-top:20px\" data-v-ca18938c><a href=\"/developer/docs/stock-financial-scores\" class=\"span-margin hoover-header integration\" data-v-ca18938c><span style=\"color:#ec407a;font-weight:600\" data-v-ca18938c>Example</span> with Javascript, JQuery, VueJS, Angular, JAVA, PHP, NodeJS, Python, Go, Ruby, C#, R, Strest, Rust, Swift and Scala</a></h3></div><!----></div></section><section id=\"Company-Enterprise-Value\" class=\"section-top min-height-section\" data-v-ca18938c><h2 data-v-ca18938c><a href=\"/developer/docs/company-enterprise-value-api\" class=\"contain-header hoover-header\" data-v-ca18938c><div class=\"title-head\" data-v-ca18938c><div data-v-ca18938c>Company Enterprise Value <svg aria-hidden=\"true\" height=\"12\" width=\"12\" viewBox=\"0 0 16 16\" xmlns=\"http://www.w3.org/2000/svg\" class=\"SVGInline-svg SVGInline--cleaned-svg SVG-svg Icon-svg Icon--arrowRight-svg Icon-color-svg Icon-color--blue-svg\" data-v-ca18938c><path d=\"M12.583 7L7.992 2.409A1 1 0 1 1 9.407.993l6.3 6.3a1 1 0 0 1 0 1.414l-6.3 6.3a1 1 0 0 1-1.415-1.416L12.583 9H1a1 1 0 1 1 0-2z\" fill-rule=\"evenodd\" data-v-ca18938c></path></svg></div></div></a></h2><div class=\"contain-main-block\" style=\"margin-top:0\" data-v-ca18938c><div class=\"contain-block-prettyprint\" data-v-ca18938c><!----><!----><!----> <span class=\"span-margin\" data-v-ca18938c>Company annual enterprise value <span class=\"label info-dark\">Annual</span> <span class=\"label info-link\">JSON</span></span><pre class=\"href-pre\" data-v-ca18938c>\t\t\t\t\t\t\t\t\t<a href=\"https://financialmodelingprep.com/api/v3/enterprise-values/AAPL?limit=40&apikey=YOUR_API_KEY\" target=\"_blank\" class=\"background-link\" data-v-ca18938c>/api/v3/enterprise-values/<span class=\"symbol\">AAPL</span>?<span class=\"symbol bold\">limit</span>=<span class=\"symbol\">40</span></a>\n",
      "\t\t\t\t\t\t\t\t</pre><!----></div><!----></div><div class=\"contain-main-block margin-head-top-top-top-pretty\" style=\"margin-top:0\" data-v-ca18938c><div class=\"contain-block-prettyprint\" data-v-ca18938c><!----><!----><!----> <span class=\"span-margin\" data-v-ca18938c>Company quarterly enterprise value <span class=\"label info-dark\">Quarter</span> <span class=\"label info-link\">JSON</span></span><pre class=\"href-pre\" data-v-ca18938c>\t\t\t\t\t\t\t\t\t<a href=\"https://financialmodelingprep.com/api/v3/enterprise-values/AAPL?period=quarter&limit=130&apikey=YOUR_API_KEY\" target=\"_blank\" class=\"background-link last-href\" data-v-ca18938c>/api/v3/enterprise-values/<span class=\"symbol\">AAPL</span>?<span class=\"symbol bold\">period</span>=<span class=\"symbol\">quarter</span>&<span class=\"symbol bold\">limit</span>=<span class=\"symbol\">130</span></a>\n",
      "\t\t\t\t\t\t\t\t</pre><h3 style=\"border:none;margin-top:20px\" data-v-ca18938c><a href=\"/developer/docs/company-enterprise-value-api\" class=\"span-margin hoover-header integration\" data-v-ca18938c><span style=\"color:#ec407a;font-weight:600\" data-v-ca18938c>Example</span> with Javascript, JQuery, VueJS, Angular, JAVA, PHP, NodeJS, Python, Go, Ruby, C#, R, Strest, Rust, Swift and Scala</a></h3></div><!----></div></section><section id=\"Financial-Statements-Growth\" class=\"section-top min-height-section\" data-v-ca18938c><h2 data-v-ca18938c><a href=\"/developer/docs/financial-statements-growth-api\" class=\"contain-header hoover-header\" data-v-ca18938c><div class=\"title-head\" data-v-ca18938c><div data-v-ca18938c>Financial Statements Growth <svg aria-hidden=\"true\" height=\"12\" width=\"12\" viewBox=\"0 0 16 16\" xmlns=\"http://www.w3.org/2000/svg\" class=\"SVGInline-svg SVGInline--cleaned-svg SVG-svg Icon-svg Icon--arrowRight-svg Icon-color-svg Icon-color--blue-svg\" data-v-ca18938c><path d=\"M12.583 7L7.992 2.409A1 1 0 1 1 9.407.993l6.3 6.3a1 1 0 0 1 0 1.414l-6.3 6.3a1 1 0 0 1-1.415-1.416L12.583 9H1a1 1 0 1 1 0-2z\" fill-rule=\"evenodd\" data-v-ca18938c></path></svg></div></div></a></h2><div class=\"contain-main-block\" style=\"margin-top:0\" data-v-ca18938c><div class=\"contain-block-prettyprint\" data-v-ca18938c><!----><!----><!----> <span class=\"span-margin\" data-v-ca18938c>Income statements growth <span class=\"label info-dark\">Annual</span> <span class=\"label info-link\">JSON</span></span><pre class=\"href-pre\" data-v-ca18938c>\t\t\t\t\t\t\t\t\t<a href=\"https://financialmodelingprep.com/api/v3/income-statement-growth/AAPL?limit=40&apikey=YOUR_API_KEY\" target=\"_blank\" class=\"background-link\" data-v-ca18938c>/api/v3/income-statement-growth/<span class=\"symbol\">AAPL</span>?<span class=\"symbol bold\">limit</span>=<span class=\"symbol\">40</span></a>\n",
      "\t\t\t\t\t\t\t\t</pre><!----></div><!----></div><div class=\"contain-main-block margin-head-top-top-top-pretty\" style=\"margin-top:0\" data-v-ca18938c><div class=\"contain-block-prettyprint\" data-v-ca18938c><!----><!----><!----> <span class=\"span-margin\" data-v-ca18938c>Annual balance sheet growth. <span class=\"label info-dark\">Annual</span> <span class=\"label info-link\">JSON</span></span><pre class=\"href-pre\" data-v-ca18938c>\t\t\t\t\t\t\t\t\t<a href=\"https://financialmodelingprep.com/api/v3/balance-sheet-statement-growth/AAPL?limit=40&apikey=YOUR_API_KEY\" target=\"_blank\" class=\"background-link\" data-v-ca18938c>/api/v3/balance-sheet-statement-growth/<span class=\"symbol\">AAPL</span>?<span class=\"symbol bold\">limit</span>=<span class=\"symbol\">40</span></a>\n",
      "\t\t\t\t\t\t\t\t</pre><!----></div><!----></div><div class=\"contain-main-block\" style=\"margin-top:0\" data-v-ca18938c><div class=\"contain-block-prettyprint\" data-v-ca18938c><!----><!----><!----> <span class=\"span-margin\" data-v-ca18938c>Annual cash flow statements growth <span class=\"label info-dark\">Annual</span> <span class=\"label info-link\">JSON</span></span><pre class=\"href-pre\" data-v-ca18938c>\t\t\t\t\t\t\t\t\t<a href=\"https://financialmodelingprep.com/api/v3/cash-flow-statement-growth/AAPL?limit=40&apikey=YOUR_API_KEY\" target=\"_blank\" class=\"background-link\" data-v-ca18938c>/api/v3/cash-flow-statement-growth/<span class=\"symbol\">AAPL</span>?<span class=\"symbol bold\">limit</span>=<span class=\"symbol\">40</span></a>\n",
      "\t\t\t\t\t\t\t\t</pre><!----></div><!----></div></section><section id=\"Company-Key-Metrics\" class=\"section-top min-height-section\" data-v-ca18938c><h2 data-v-ca18938c><a href=\"/developer/docs/company-key-metrics-api\" class=\"contain-header hoover-header\" data-v-ca18938c><div class=\"title-head\" data-v-ca18938c><div data-v-ca18938c>Company Key Metrics <svg aria-hidden=\"true\" height=\"12\" width=\"12\" viewBox=\"0 0 16 16\" xmlns=\"http://www.w3.org/2000/svg\" class=\"SVGInline-svg SVGInline--cleaned-svg SVG-svg Icon-svg Icon--arrowRight-svg Icon-color-svg Icon-color--blue-svg\" data-v-ca18938c><path d=\"M12.583 7L7.992 2.409A1 1 0 1 1 9.407.993l6.3 6.3a1 1 0 0 1 0 1.414l-6.3 6.3a1 1 0 0 1-1.415-1.416L12.583 9H1a1 1 0 1 1 0-2z\" fill-rule=\"evenodd\" data-v-ca18938c></path></svg></div></div></a></h2><div class=\"contain-main-block\" style=\"margin-top:0\" data-v-ca18938c><div class=\"contain-block-prettyprint\" data-v-ca18938c><!----><!----><!----> <span class=\"span-margin\" data-v-ca18938c>Company TTM key metrics <span class=\"label info-link\">JSON</span></span><pre class=\"href-pre\" data-v-ca18938c>\t\t\t\t\t\t\t\t\t<a href=\"https://financialmodelingprep.com/api/v3/key-metrics-ttm/AAPL?limit=40&apikey=YOUR_API_KEY\" target=\"_blank\" class=\"background-link\" data-v-ca18938c>/api/v3/key-metrics-ttm/<span class=\"symbol\">AAPL</span>?<span class=\"symbol bold\">limit</span>=<span class=\"symbol\">40</span></a>\n",
      "\t\t\t\t\t\t\t\t</pre><!----></div><!----></div><div class=\"contain-main-block margin-head-top-top-top-pretty\" style=\"margin-top:0\" data-v-ca18938c><div class=\"contain-block-prettyprint\" data-v-ca18938c><!----><!----><!----> <span class=\"span-margin\" data-v-ca18938c>Company annual key metrics <span class=\"label info-dark\">Annual</span> <span class=\"label info-link\">JSON</span></span><pre class=\"href-pre\" data-v-ca18938c>\t\t\t\t\t\t\t\t\t<a href=\"https://financialmodelingprep.com/api/v3/key-metrics/AAPL?limit=40&apikey=YOUR_API_KEY\" target=\"_blank\" class=\"background-link\" data-v-ca18938c>/api/v3/key-metrics/<span class=\"symbol\">AAPL</span>?<span class=\"symbol bold\">limit</span>=<span class=\"symbol\">40</span></a>\n",
      "\t\t\t\t\t\t\t\t</pre><!----></div><!----></div><div class=\"contain-main-block\" style=\"margin-top:0\" data-v-ca18938c><div class=\"contain-block-prettyprint\" data-v-ca18938c><!----><!----><!----> <span class=\"span-margin\" data-v-ca18938c>Company quarterly company key metrics <span class=\"label info-dark\">Quarter</span> <span class=\"label info-link\">JSON</span></span><pre class=\"href-pre\" data-v-ca18938c>\t\t\t\t\t\t\t\t\t<a href=\"https://financialmodelingprep.com/api/v3/key-metrics/AAPL?period=quarter&limit=130&apikey=YOUR_API_KEY\" target=\"_blank\" class=\"background-link last-href\" data-v-ca18938c>/api/v3/key-metrics/<span class=\"symbol\">AAPL</span>?<span class=\"symbol bold\">period</span>=<span class=\"symbol\">quarter</span>&<span class=\"symbol bold\">limit</span>=<span class=\"symbol\">130</span></a>\n",
      "\t\t\t\t\t\t\t\t</pre><h3 style=\"border:none;margin-top:20px\" data-v-ca18938c><a href=\"/developer/docs/company-key-metrics-api\" class=\"span-margin hoover-header integration\" data-v-ca18938c><span style=\"color:#ec407a;font-weight:600\" data-v-ca18938c>Example</span> with Javascript, JQuery, VueJS, Angular, JAVA, PHP, NodeJS, Python, Go, Ruby, C#, R, Strest, Rust, Swift and Scala</a></h3></div><!----></div></section><section id=\"Company-Financial-Growth\" class=\"section-top min-height-section\" data-v-ca18938c><h2 data-v-ca18938c><a href=\"/developer/docs/company-financial-statement-growth-api\" class=\"contain-header hoover-header\" data-v-ca18938c><div class=\"title-head\" data-v-ca18938c><div data-v-ca18938c>Company Financial Growth <svg aria-hidden=\"true\" height=\"12\" width=\"12\" viewBox=\"0 0 16 16\" xmlns=\"http://www.w3.org/2000/svg\" class=\"SVGInline-svg SVGInline--cleaned-svg SVG-svg Icon-svg Icon--arrowRight-svg Icon-color-svg Icon-color--blue-svg\" data-v-ca18938c><path d=\"M12.583 7L7.992 2.409A1 1 0 1 1 9.407.993l6.3 6.3a1 1 0 0 1 0 1.414l-6.3 6.3a1 1 0 0 1-1.415-1.416L12.583 9H1a1 1 0 1 1 0-2z\" fill-rule=\"evenodd\" data-v-ca18938c></path></svg></div></div></a></h2><div class=\"contain-main-block\" style=\"margin-top:0\" data-v-ca18938c><div class=\"contain-block-prettyprint\" data-v-ca18938c><!----><!----><!----> <span class=\"span-margin\" data-v-ca18938c>Company annual financial statement growth <span class=\"label info-dark\">Annual</span> <span class=\"label info-link\">JSON</span></span><pre class=\"href-pre\" data-v-ca18938c>\t\t\t\t\t\t\t\t\t<a href=\"https://financialmodelingprep.com/api/v3/financial-growth/AAPL?limit=20&apikey=YOUR_API_KEY\" target=\"_blank\" class=\"background-link\" data-v-ca18938c>/api/v3/financial-growth/<span class=\"symbol\">AAPL</span>?<span class=\"symbol bold\">limit</span>=<span class=\"symbol\">20</span></a>\n",
      "\t\t\t\t\t\t\t\t</pre><!----></div><!----></div><div class=\"contain-main-block margin-head-top-top-pretty\" style=\"margin-top:0\" data-v-ca18938c><div class=\"contain-block-prettyprint\" data-v-ca18938c><!----><!----><!----> <span class=\"span-margin\" data-v-ca18938c>Company quarterly financial statement growth <span class=\"label info-dark\">Quarter</span> <span class=\"label info-link\">JSON</span></span><pre class=\"href-pre\" data-v-ca18938c>\t\t\t\t\t\t\t\t\t<a href=\"https://financialmodelingprep.com/api/v3/financial-growth/AAPL?period=quarter&limit=80&apikey=YOUR_API_KEY\" target=\"_blank\" class=\"background-link last-href\" data-v-ca18938c>/api/v3/financial-growth/<span class=\"symbol\">AAPL</span>?<span class=\"symbol bold\">period</span>=<span class=\"symbol\">quarter</span>&<span class=\"symbol bold\">limit</span>=<span class=\"symbol\">80</span></a>\n",
      "\t\t\t\t\t\t\t\t</pre><h3 style=\"border:none;margin-top:20px\" data-v-ca18938c><a href=\"/developer/docs/company-financial-statement-growth-api\" class=\"span-margin hoover-header integration\" data-v-ca18938c><span style=\"color:#ec407a;font-weight:600\" data-v-ca18938c>Example</span> with Javascript, JQuery, VueJS, Angular, JAVA, PHP, NodeJS, Python, Go, Ruby, C#, R, Strest, Rust, Swift and Scala</a></h3></div><!----></div></section><section id=\"Company-Rating\" class=\"section-top min-height-section\" data-v-ca18938c><h2 data-v-ca18938c><a href=\"/developer/docs/companies-rating-free-api\" class=\"contain-header hoover-header\" data-v-ca18938c><div class=\"title-head\" data-v-ca18938c><div data-v-ca18938c>Company Rating <svg aria-hidden=\"true\" height=\"12\" width=\"12\" viewBox=\"0 0 16 16\" xmlns=\"http://www.w3.org/2000/svg\" class=\"SVGInline-svg SVGInline--cleaned-svg SVG-svg Icon-svg Icon--arrowRight-svg Icon-color-svg Icon-color--blue-svg\" data-v-ca18938c><path d=\"M12.583 7L7.992 2.409A1 1 0 1 1 9.407.993l6.3 6.3a1 1 0 0 1 0 1.414l-6.3 6.3a1 1 0 0 1-1.415-1.416L12.583 9H1a1 1 0 1 1 0-2z\" fill-rule=\"evenodd\" data-v-ca18938c></path></svg></div></div></a></h2><div class=\"contain-main-block\" style=\"margin-top:0\" data-v-ca18938c><div class=\"contain-block-prettyprint\" data-v-ca18938c><!----><!----><!----> <span class=\"span-margin\" data-v-ca18938c>Companies rating. <a href=\"/developer/docs/recommendations-formula\">Our Calculations</a> <span class=\"label success\">Daily</span> <span class=\"label info-link\">JSON</span></span><pre class=\"href-pre\" data-v-ca18938c>\t\t\t\t\t\t\t\t\t<a href=\"https://financialmodelingprep.com/api/v3/rating/AAPL?apikey=YOUR_API_KEY\" target=\"_blank\" class=\"background-link\" data-v-ca18938c>/api/v3/rating/<span class=\"symbol\">AAPL</span></a>\n",
      "\t\t\t\t\t\t\t\t</pre><!----></div><!----></div><div class=\"contain-main-block margin-head-top-top-top-pretty\" style=\"margin-top:0\" data-v-ca18938c><div class=\"contain-block-prettyprint\" data-v-ca18938c><!----><!----><!----> <span class=\"span-margin\" data-v-ca18938c>Historical companies rating <span class=\"label info-link\">JSON</span></span><pre class=\"href-pre\" data-v-ca18938c>\t\t\t\t\t\t\t\t\t<a href=\"https://financialmodelingprep.com/api/v3/historical-rating/AAPL?limit=100&apikey=YOUR_API_KEY\" target=\"_blank\" class=\"background-link last-href\" data-v-ca18938c>/api/v3/historical-rating/<span class=\"symbol\">AAPL</span>?<span class=\"symbol bold\">limit</span>=<span class=\"symbol\">140</span></a>\n",
      "\t\t\t\t\t\t\t\t</pre><h3 style=\"border:none;margin-top:20px\" data-v-ca18938c><a href=\"/developer/docs/companies-rating-free-api\" class=\"span-margin hoover-header integration\" data-v-ca18938c><span style=\"color:#ec407a;font-weight:600\" data-v-ca18938c>Example</span> with Javascript, JQuery, VueJS, Angular, JAVA, PHP, NodeJS, Python, Go, Ruby, C#, R, Strest, Rust, Swift and Scala</a></h3></div><!----></div></section><section id=\"Company-Discounted-cash-flow-value\" class=\"section-top min-height-section\" data-v-ca18938c><h2 data-v-ca18938c><a href=\"/developer/docs/companies-dcf-reports-free-api\" class=\"contain-header hoover-header\" data-v-ca18938c><div class=\"title-head\" data-v-ca18938c><div data-v-ca18938c>Company Discounted cash flow value <svg aria-hidden=\"true\" height=\"12\" width=\"12\" viewBox=\"0 0 16 16\" xmlns=\"http://www.w3.org/2000/svg\" class=\"SVGInline-svg SVGInline--cleaned-svg SVG-svg Icon-svg Icon--arrowRight-svg Icon-color-svg Icon-color--blue-svg\" data-v-ca18938c><path d=\"M12.583 7L7.992 2.409A1 1 0 1 1 9.407.993l6.3 6.3a1 1 0 0 1 0 1.414l-6.3 6.3a1 1 0 0 1-1.415-1.416L12.583 9H1a1 1 0 1 1 0-2z\" fill-rule=\"evenodd\" data-v-ca18938c></path></svg></div></div></a></h2><div class=\"contain-main-block\" style=\"margin-top:0\" data-v-ca18938c><div class=\"contain-block-prettyprint\" data-v-ca18938c><!----><!----><h3 data-v-ca18938c><!----> <a href=\"/developer/docs/companies-dcf-reports-free-api#DCF\" class=\"contain-header hoover-header\" data-v-ca18938c><div class=\"lower-title\" data-v-ca18938c>DCF</div></a></h3><span class=\"span-margin\" data-v-ca18938c>Companies Discounted cash flow value (intrinsic value) <a href=\"/developer/docs/dcf-formula\">Our Calculations</a> <span class=\"label success\">Real-time</span> <span class=\"label info-link\">JSON</span></span><pre class=\"href-pre\" data-v-ca18938c>\t\t\t\t\t\t\t\t\t<a href=\"https://financialmodelingprep.com/api/v3/discounted-cash-flow/AAPL?apikey=YOUR_API_KEY\" target=\"_blank\" class=\"background-link\" data-v-ca18938c>/api/v3/discounted-cash-flow/<span class=\"symbol\">AAPL</span></a>\n",
      "\t\t\t\t\t\t\t\t</pre><!----></div><!----></div><div class=\"contain-main-block margin-head-top-top-pretty\" style=\"margin-top:0\" data-v-ca18938c><div class=\"contain-block-prettyprint\" data-v-ca18938c><!----><!----><!----> <span class=\"span-margin\" data-v-ca18938c>Advanced Discounted Cash Flow projection including WACC <span class=\"label info-link\">JSON</span></span><pre class=\"href-pre\" data-v-ca18938c>\t\t\t\t\t\t\t\t\t<a href=\"https://financialmodelingprep.com/api/v4/advanced_discounted_cash_flow?symbol=AAPL&apikey=YOUR_API_KEY\" target=\"_blank\" class=\"background-link\" data-v-ca18938c>/api/v4/advanced_discounted_cash_flow?<span class=\"symbol bold\">symbol</span>=<span class=\"symbol\">AAPL</span></a>\n",
      "\t\t\t\t\t\t\t\t</pre><!----></div><!----></div><div class=\"contain-main-block\" style=\"margin-top:0\" data-v-ca18938c><div class=\"contain-block-prettyprint\" data-v-ca18938c><!----><!----><!----> <span class=\"span-margin\" data-v-ca18938c>Advanced Levered Discounted Cash Flow projection including WACC <span class=\"label info-link\">JSON</span></span><pre class=\"href-pre\" data-v-ca18938c>\t\t\t\t\t\t\t\t\t<a href=\"https://financialmodelingprep.com/api/v4/advanced_levered_discounted_cash_flow?symbol=AAPL&apikey=YOUR_API_KEY\" target=\"_blank\" class=\"background-link\" data-v-ca18938c>/api/v4/advanced_levered_discounted_cash_flow?<span class=\"symbol bold\">symbol</span>=<span class=\"symbol\">AAPL</span></a>\n",
      "\t\t\t\t\t\t\t\t</pre><!----></div><!----></div><div class=\"contain-main-block\" style=\"margin-top:0\" data-v-ca18938c><div class=\"contain-block-prettyprint\" data-v-ca18938c><!----><!----><h3 class=\"margin-head\" data-v-ca18938c><!----> <a href=\"/developer/docs/companies-dcf-reports-free-api#Historical-DCF\" class=\"contain-header hoover-header\" data-v-ca18938c><div class=\"lower-title\" data-v-ca18938c>Historical DCF</div></a></h3><span class=\"span-margin\" data-v-ca18938c>Companies Historical Discounted cash flow value <span class=\"label info-dark\">Annual</span> <span class=\"label info-link\">JSON</span></span><pre class=\"href-pre\" data-v-ca18938c>\t\t\t\t\t\t\t\t\t<a href=\"https://financialmodelingprep.com/api/v3/historical-discounted-cash-flow-statement/AAPL?apikey=YOUR_API_KEY\" target=\"_blank\" class=\"background-link\" data-v-ca18938c>/api/v3/historical-discounted-cash-flow-statement/<span class=\"symbol\">AAPL</span></a>\n",
      "\t\t\t\t\t\t\t\t</pre><!----></div><!----></div><div class=\"contain-main-block\" style=\"margin-top:0\" data-v-ca18938c><div class=\"contain-block-prettyprint\" data-v-ca18938c><!----><!----><!----> <span class=\"span-margin\" data-v-ca18938c>Companies Historical Discounted cash flow value <span class=\"label info-dark\">Quarter</span> <span class=\"label info-link\">JSON</span></span><pre class=\"href-pre\" data-v-ca18938c>\t\t\t\t\t\t\t\t\t<a href=\"https://financialmodelingprep.com/api/v3/historical-discounted-cash-flow-statement/AAPL?period=quarter&apikey=YOUR_API_KEY\" target=\"_blank\" class=\"background-link\" data-v-ca18938c>/api/v3/historical-discounted-cash-flow-statement/<span class=\"symbol\">AAPL</span>?<span class=\"symbol bold\">period</span>=<span class=\"symbol\">quarter</span></a>\n",
      "\t\t\t\t\t\t\t\t</pre><!----></div><!----></div><div class=\"contain-main-block\" style=\"margin-top:0\" data-v-ca18938c><div class=\"contain-block-prettyprint\" data-v-ca18938c><!----><!----><!----> <span class=\"span-margin\" data-v-ca18938c>Companies Daily Discounted cash flow value <span class=\"label success\">Daily</span> <span class=\"label info-link\">JSON</span></span><pre class=\"href-pre\" data-v-ca18938c>\t\t\t\t\t\t\t\t\t<a href=\"https://financialmodelingprep.com/api/v3/historical-daily-discounted-cash-flow/AAPL?limit=100&apikey=YOUR_API_KEY\" target=\"_blank\" class=\"background-link last-href\" data-v-ca18938c>/api/v3/historical-daily-discounted-cash-flow/<span class=\"symbol\">AAPL</span>?<span class=\"symbol bold\">limit</span>=<span class=\"symbol\">100</span></a>\n",
      "\t\t\t\t\t\t\t\t</pre><h3 style=\"border:none;margin-top:20px\" data-v-ca18938c><a href=\"/developer/docs/companies-dcf-reports-free-api\" class=\"span-margin hoover-header integration\" data-v-ca18938c><span style=\"color:#ec407a;font-weight:600\" data-v-ca18938c>Example</span> with Javascript, JQuery, VueJS, Angular, JAVA, PHP, NodeJS, Python, Go, Ruby, C#, R, Strest, Rust, Swift and Scala</a></h3></div><!----></div></section><section class=\"contain-big-section\" data-v-ca18938c><div data-v-ca18938c>INSTITUTIONAL STOCK OWNERSHIP</div></section><section id=\"Institutional-Stock-Ownership\" class=\"section-top min-height-section\" data-v-ca18938c><h2 data-v-ca18938c><a href=\"/developer/docs/institutional-stock-ownership-api\" class=\"contain-header hoover-header\" data-v-ca18938c><div class=\"title-head\" data-v-ca18938c><div data-v-ca18938c>Institutional Stock Ownership <svg aria-hidden=\"true\" height=\"12\" width=\"12\" viewBox=\"0 0 16 16\" xmlns=\"http://www.w3.org/2000/svg\" class=\"SVGInline-svg SVGInline--cleaned-svg SVG-svg Icon-svg Icon--arrowRight-svg Icon-color-svg Icon-color--blue-svg\" data-v-ca18938c><path d=\"M12.583 7L7.992 2.409A1 1 0 1 1 9.407.993l6.3 6.3a1 1 0 0 1 0 1.414l-6.3 6.3a1 1 0 0 1-1.415-1.416L12.583 9H1a1 1 0 1 1 0-2z\" fill-rule=\"evenodd\" data-v-ca18938c></path></svg></div></div></a></h2><div class=\"contain-main-block\" style=\"margin-top:0\" data-v-ca18938c><div class=\"contain-block-prettyprint\" data-v-ca18938c><!----> <a href=\"/developer/docs/pricing\" style=\"font-size:15px;margin-bottom:15px\" data-v-ca18938c><b data-v-ca18938c>Those endpoints are only available for users with Enterprise Plan. You can choose your plan on our pricing page.</b></a><!----> <span class=\"span-margin\" data-v-ca18938c>Institutional Stock Ownership for certain stock and date <span class=\"label info-link\">JSON</span></span><pre class=\"href-pre\" data-v-ca18938c>\t\t\t\t\t\t\t\t\t<a href=\"https://financialmodelingprep.com/api/v4/institutional-ownership/symbol-ownership?symbol=AAPL&includeCurrentQuarter=false&apikey=YOUR_API_KEY\" target=\"_blank\" class=\"background-link last-href\" data-v-ca18938c>/api/v4/institutional-ownership/symbol-ownership?<span class=\"symbol bold\">symbol</span>=<span class=\"symbol\">AAPL</span>&<span class=\"symbol bold\">includeCurrentQuarter</span>=<span class=\"symbol\">false</span></a>\n",
      "\t\t\t\t\t\t\t\t</pre><h3 style=\"border:none;margin-top:20px\" data-v-ca18938c><a href=\"/developer/docs/institutional-stock-ownership-api\" class=\"span-margin hoover-header integration\" data-v-ca18938c><span style=\"color:#ec407a;font-weight:600\" data-v-ca18938c>Example</span> with Javascript, JQuery, VueJS, Angular, JAVA, PHP, NodeJS, Python, Go, Ruby, C#, R, Strest, Rust, Swift and Scala</a></h3></div><!----></div></section><section id=\"Stock-Ownership-by-Holders\" class=\"section-top min-height-section\" data-v-ca18938c><h2 data-v-ca18938c><a href=\"/developer/docs/stock-ownership-by-holders-api\" class=\"contain-header hoover-header\" data-v-ca18938c><div class=\"title-head\" data-v-ca18938c><div data-v-ca18938c>Stock Ownership by Holders <svg aria-hidden=\"true\" height=\"12\" width=\"12\" viewBox=\"0 0 16 16\" xmlns=\"http://www.w3.org/2000/svg\" class=\"SVGInline-svg SVGInline--cleaned-svg SVG-svg Icon-svg Icon--arrowRight-svg Icon-color-svg Icon-color--blue-svg\" data-v-ca18938c><path d=\"M12.583 7L7.992 2.409A1 1 0 1 1 9.407.993l6.3 6.3a1 1 0 0 1 0 1.414l-6.3 6.3a1 1 0 0 1-1.415-1.416L12.583 9H1a1 1 0 1 1 0-2z\" fill-rule=\"evenodd\" data-v-ca18938c></path></svg></div></div></a></h2><div class=\"contain-main-block\" style=\"margin-top:0\" data-v-ca18938c><div class=\"contain-block-prettyprint\" data-v-ca18938c><!----><!----><!----> <span class=\"span-margin\" data-v-ca18938c>Stock Ownership by Holders (50 results per page, sorted by ownership percentage descending order) <span class=\"label info-link\">JSON</span></span><pre class=\"href-pre\" data-v-ca18938c>\t\t\t\t\t\t\t\t\t<a href=\"https://financialmodelingprep.com/api/v4/institutional-ownership/institutional-holders/symbol-ownership-percent?date=2021-09-30&symbol=AAPL&page=0&apikey=YOUR_API_KEY\" target=\"_blank\" class=\"background-link last-href\" data-v-ca18938c>/api/v4/institutional-ownership/institutional-holders/symbol-ownership-percent?<span class=\"symbol bold\">date</span>=<span class=\"symbol\">2021-09-30</span>&<span class=\"symbol bold\">symbol</span>=<span class=\"symbol\">AAPL</span>&<span class=\"symbol bold\">page</span>=<span class=\"symbol\">0</span></a>\n",
      "\t\t\t\t\t\t\t\t</pre><h3 style=\"border:none;margin-top:20px\" data-v-ca18938c><a href=\"/developer/docs/stock-ownership-by-holders-api\" class=\"span-margin hoover-header integration\" data-v-ca18938c><span style=\"color:#ec407a;font-weight:600\" data-v-ca18938c>Example</span> with Javascript, JQuery, VueJS, Angular, JAVA, PHP, NodeJS, Python, Go, Ruby, C#, R, Strest, Rust, Swift and Scala</a></h3></div><!----></div></section><section id=\"Institutional-Holdings-Portfolio-Positions-Summary\" class=\"section-top min-height-section\" data-v-ca18938c><h2 data-v-ca18938c><a href=\"/developer/docs/institutional-holdings-portfolio-positions-summary-api\" class=\"contain-header hoover-header\" data-v-ca18938c><div class=\"title-head\" data-v-ca18938c><div data-v-ca18938c>Institutional Holdings Portfolio Positions Summary <svg aria-hidden=\"true\" height=\"12\" width=\"12\" viewBox=\"0 0 16 16\" xmlns=\"http://www.w3.org/2000/svg\" class=\"SVGInline-svg SVGInline--cleaned-svg SVG-svg Icon-svg Icon--arrowRight-svg Icon-color-svg Icon-color--blue-svg\" data-v-ca18938c><path d=\"M12.583 7L7.992 2.409A1 1 0 1 1 9.407.993l6.3 6.3a1 1 0 0 1 0 1.414l-6.3 6.3a1 1 0 0 1-1.415-1.416L12.583 9H1a1 1 0 1 1 0-2z\" fill-rule=\"evenodd\" data-v-ca18938c></path></svg></div></div></a></h2><div class=\"contain-main-block\" style=\"margin-top:0\" data-v-ca18938c><div class=\"contain-block-prettyprint\" data-v-ca18938c><!----><!----><!----> <span class=\"span-margin\" data-v-ca18938c>Institutional holdings portfolio positions summary <span class=\"label info-link\">JSON</span></span><pre class=\"href-pre\" data-v-ca18938c>\t\t\t\t\t\t\t\t\t<a href=\"https://financialmodelingprep.com/api/v4/institutional-ownership/portfolio-holdings-summary?cik=0001067983&apikey=YOUR_API_KEY\" target=\"_blank\" class=\"background-link last-href\" data-v-ca18938c>/api/v4/institutional-ownership/portfolio-holdings-summary?<span class=\"symbol bold\">cik</span>=<span class=\"symbol\">0001067983</span></a>\n",
      "\t\t\t\t\t\t\t\t</pre><h3 style=\"border:none;margin-top:20px\" data-v-ca18938c><a href=\"/developer/docs/institutional-holdings-portfolio-positions-summary-api\" class=\"span-margin hoover-header integration\" data-v-ca18938c><span style=\"color:#ec407a;font-weight:600\" data-v-ca18938c>Example</span> with Javascript, JQuery, VueJS, Angular, JAVA, PHP, NodeJS, Python, Go, Ruby, C#, R, Strest, Rust, Swift and Scala</a></h3></div><!----></div></section><section id=\"Institutional-Holder-Rss-Feed\" class=\"section-top min-height-section\" data-v-ca18938c><h2 data-v-ca18938c><a href=\"/developer/docs/institutional-holder-rss-feed-api\" class=\"contain-header hoover-header\" data-v-ca18938c><div class=\"title-head\" data-v-ca18938c><div data-v-ca18938c>Institutional Holder Rss Feed <svg aria-hidden=\"true\" height=\"12\" width=\"12\" viewBox=\"0 0 16 16\" xmlns=\"http://www.w3.org/2000/svg\" class=\"SVGInline-svg SVGInline--cleaned-svg SVG-svg Icon-svg Icon--arrowRight-svg Icon-color-svg Icon-color--blue-svg\" data-v-ca18938c><path d=\"M12.583 7L7.992 2.409A1 1 0 1 1 9.407.993l6.3 6.3a1 1 0 0 1 0 1.414l-6.3 6.3a1 1 0 0 1-1.415-1.416L12.583 9H1a1 1 0 1 1 0-2z\" fill-rule=\"evenodd\" data-v-ca18938c></path></svg></div></div></a></h2><div class=\"contain-main-block\" style=\"margin-top:0\" data-v-ca18938c><div class=\"contain-block-prettyprint\" data-v-ca18938c><!----><!----><!----> <span class=\"span-margin\" data-v-ca18938c>RSS feed for institutional holdings (50 results per page) <span class=\"label info-link\">JSON</span></span><pre class=\"href-pre\" data-v-ca18938c>\t\t\t\t\t\t\t\t\t<a href=\"https://financialmodelingprep.com/api/v4/institutional-ownership/rss_feed?page=0&apikey=YOUR_API_KEY\" target=\"_blank\" class=\"background-link last-href\" data-v-ca18938c>/api/v4/institutional-ownership/rss_feed?<span class=\"symbol bold\">page</span>=<span class=\"symbol\">0</span></a>\n",
      "\t\t\t\t\t\t\t\t</pre><h3 style=\"border:none;margin-top:20px\" data-v-ca18938c><a href=\"/developer/docs/institutional-holder-rss-feed-api\" class=\"span-margin hoover-header integration\" data-v-ca18938c><span style=\"color:#ec407a;font-weight:600\" data-v-ca18938c>Example</span> with Javascript, JQuery, VueJS, Angular, JAVA, PHP, NodeJS, Python, Go, Ruby, C#, R, Strest, Rust, Swift and Scala</a></h3></div><!----></div></section><section id=\"Institutional-Holders-List\" class=\"section-top min-height-section\" data-v-ca18938c><h2 data-v-ca18938c><a href=\"/developer/docs/institutional-holdings-list-api\" class=\"contain-header hoover-header\" data-v-ca18938c><div class=\"title-head\" data-v-ca18938c><div data-v-ca18938c>Institutional Holders List <svg aria-hidden=\"true\" height=\"12\" width=\"12\" viewBox=\"0 0 16 16\" xmlns=\"http://www.w3.org/2000/svg\" class=\"SVGInline-svg SVGInline--cleaned-svg SVG-svg Icon-svg Icon--arrowRight-svg Icon-color-svg Icon-color--blue-svg\" data-v-ca18938c><path d=\"M12.583 7L7.992 2.409A1 1 0 1 1 9.407.993l6.3 6.3a1 1 0 0 1 0 1.414l-6.3 6.3a1 1 0 0 1-1.415-1.416L12.583 9H1a1 1 0 1 1 0-2z\" fill-rule=\"evenodd\" data-v-ca18938c></path></svg></div></div></a></h2><div class=\"contain-main-block\" style=\"margin-top:0\" data-v-ca18938c><div class=\"contain-block-prettyprint\" data-v-ca18938c><!----><!----><!----> <span class=\"span-margin\" data-v-ca18938c>List of all institutions with their CIK <span class=\"label info-link\">JSON</span></span><pre class=\"href-pre\" data-v-ca18938c>\t\t\t\t\t\t\t\t\t<a href=\"https://financialmodelingprep.com/api/v4/institutional-ownership/list?apikey=YOUR_API_KEY\" target=\"_blank\" class=\"background-link last-href\" data-v-ca18938c>/api/v4/institutional-ownership/<span class=\"symbol bold\">list</span></a>\n",
      "\t\t\t\t\t\t\t\t</pre><h3 style=\"border:none;margin-top:20px\" data-v-ca18938c><a href=\"/developer/docs/institutional-holdings-list-api\" class=\"span-margin hoover-header integration\" data-v-ca18938c><span style=\"color:#ec407a;font-weight:600\" data-v-ca18938c>Example</span> with Javascript, JQuery, VueJS, Angular, JAVA, PHP, NodeJS, Python, Go, Ruby, C#, R, Strest, Rust, Swift and Scala</a></h3></div><!----></div></section><section id=\"Institutional-Holders-Search\" class=\"section-top min-height-section\" data-v-ca18938c><h2 data-v-ca18938c><a href=\"/developer/docs/institutional-holders-search-api\" class=\"contain-header hoover-header\" data-v-ca18938c><div class=\"title-head\" data-v-ca18938c><div data-v-ca18938c>Institutional Holders Search <svg aria-hidden=\"true\" height=\"12\" width=\"12\" viewBox=\"0 0 16 16\" xmlns=\"http://www.w3.org/2000/svg\" class=\"SVGInline-svg SVGInline--cleaned-svg SVG-svg Icon-svg Icon--arrowRight-svg Icon-color-svg Icon-color--blue-svg\" data-v-ca18938c><path d=\"M12.583 7L7.992 2.409A1 1 0 1 1 9.407.993l6.3 6.3a1 1 0 0 1 0 1.414l-6.3 6.3a1 1 0 0 1-1.415-1.416L12.583 9H1a1 1 0 1 1 0-2z\" fill-rule=\"evenodd\" data-v-ca18938c></path></svg></div></div></a></h2><div class=\"contain-main-block\" style=\"margin-top:0\" data-v-ca18938c><div class=\"contain-block-prettyprint\" data-v-ca18938c><!----><!----><!----> <span class=\"span-margin\" data-v-ca18938c>Search institution by their name <span class=\"label info-link\">JSON</span></span><pre class=\"href-pre\" data-v-ca18938c>\t\t\t\t\t\t\t\t\t<a href=\"https://financialmodelingprep.com/api/v4/institutional-ownership/name?name=Berkshire%20Hathaway%20Inc&apikey=YOUR_API_KEY\" target=\"_blank\" class=\"background-link last-href\" data-v-ca18938c>/api/v4/institutional-ownership/name?<span class=\"symbol bold\">name</span>=<span class=\"symbol\">Berkshire%20Hathaway%20Inc</span></a>\n",
      "\t\t\t\t\t\t\t\t</pre><h3 style=\"border:none;margin-top:20px\" data-v-ca18938c><a href=\"/developer/docs/institutional-holders-search-api\" class=\"span-margin hoover-header integration\" data-v-ca18938c><span style=\"color:#ec407a;font-weight:600\" data-v-ca18938c>Example</span> with Javascript, JQuery, VueJS, Angular, JAVA, PHP, NodeJS, Python, Go, Ruby, C#, R, Strest, Rust, Swift and Scala</a></h3></div><!----></div></section><section id=\"Institutional-Holders-Available-Date\" class=\"section-top min-height-section\" data-v-ca18938c><h2 data-v-ca18938c><a href=\"/developer/docs/institutional-holdings-date-available-api\" class=\"contain-header hoover-header\" data-v-ca18938c><div class=\"title-head\" data-v-ca18938c><div data-v-ca18938c>Institutional Holders Available Date <svg aria-hidden=\"true\" height=\"12\" width=\"12\" viewBox=\"0 0 16 16\" xmlns=\"http://www.w3.org/2000/svg\" class=\"SVGInline-svg SVGInline--cleaned-svg SVG-svg Icon-svg Icon--arrowRight-svg Icon-color-svg Icon-color--blue-svg\" data-v-ca18938c><path d=\"M12.583 7L7.992 2.409A1 1 0 1 1 9.407.993l6.3 6.3a1 1 0 0 1 0 1.414l-6.3 6.3a1 1 0 0 1-1.415-1.416L12.583 9H1a1 1 0 1 1 0-2z\" fill-rule=\"evenodd\" data-v-ca18938c></path></svg></div></div></a></h2><div class=\"contain-main-block\" style=\"margin-top:0\" data-v-ca18938c><div class=\"contain-block-prettyprint\" data-v-ca18938c><!----><!----><!----> <span class=\"span-margin\" data-v-ca18938c>Available dates for institution holdings <span class=\"label info-link\">JSON</span></span><pre class=\"href-pre\" data-v-ca18938c>\t\t\t\t\t\t\t\t\t<a href=\"https://financialmodelingprep.com/api/v4/institutional-ownership/portfolio-date?cik=0001067983&apikey=YOUR_API_KEY\" target=\"_blank\" class=\"background-link last-href\" data-v-ca18938c>/api/v4/institutional-ownership/portfolio-date?<span class=\"symbol bold\">cik</span>=<span class=\"symbol\">0001067983</span></a>\n",
      "\t\t\t\t\t\t\t\t</pre><h3 style=\"border:none;margin-top:20px\" data-v-ca18938c><a href=\"/developer/docs/institutional-holdings-date-available-api\" class=\"span-margin hoover-header integration\" data-v-ca18938c><span style=\"color:#ec407a;font-weight:600\" data-v-ca18938c>Example</span> with Javascript, JQuery, VueJS, Angular, JAVA, PHP, NodeJS, Python, Go, Ruby, C#, R, Strest, Rust, Swift and Scala</a></h3></div><!----></div></section><section id=\"Institutional-Ownership-by-Shares-Held-and-Date\" class=\"section-top min-height-section\" data-v-ca18938c><h2 data-v-ca18938c><a href=\"/developer/docs/institutional-ownership-by-shares-held-and-date-api\" class=\"contain-header hoover-header\" data-v-ca18938c><div class=\"title-head\" data-v-ca18938c><div data-v-ca18938c>Institutional Ownership by Shares Held and Date <svg aria-hidden=\"true\" height=\"12\" width=\"12\" viewBox=\"0 0 16 16\" xmlns=\"http://www.w3.org/2000/svg\" class=\"SVGInline-svg SVGInline--cleaned-svg SVG-svg Icon-svg Icon--arrowRight-svg Icon-color-svg Icon-color--blue-svg\" data-v-ca18938c><path d=\"M12.583 7L7.992 2.409A1 1 0 1 1 9.407.993l6.3 6.3a1 1 0 0 1 0 1.414l-6.3 6.3a1 1 0 0 1-1.415-1.416L12.583 9H1a1 1 0 1 1 0-2z\" fill-rule=\"evenodd\" data-v-ca18938c></path></svg></div></div></a></h2><div class=\"contain-main-block\" style=\"margin-top:0\" data-v-ca18938c><div class=\"contain-block-prettyprint\" data-v-ca18938c><!----><!----><!----> <span class=\"span-margin\" data-v-ca18938c>Institutional ownership by shares held and date (50 results per page, sorted by positions weight in descending order) <span class=\"label info-link\">JSON</span></span><pre class=\"href-pre\" data-v-ca18938c>\t\t\t\t\t\t\t\t\t<a href=\"https://financialmodelingprep.com/api/v4/institutional-ownership/institutional-holders/symbol-ownership?date=2021-09-30&symbol=AAPL&page=0&apikey=YOUR_API_KEY\" target=\"_blank\" class=\"background-link last-href\" data-v-ca18938c>/api/v4/institutional-ownership/institutional-holders/symbol-ownership?<span class=\"symbol bold\">page</span>=<span class=\"symbol\">0</span>&<span class=\"symbol bold\">date</span>=<span class=\"symbol\">2021-09-30</span>&<span class=\"symbol bold\">symbol</span>=<span class=\"symbol\">AAPL</span></a>\n",
      "\t\t\t\t\t\t\t\t</pre><h3 style=\"border:none;margin-top:20px\" data-v-ca18938c><a href=\"/developer/docs/institutional-ownership-by-shares-held-and-date-api\" class=\"span-margin hoover-header integration\" data-v-ca18938c><span style=\"color:#ec407a;font-weight:600\" data-v-ca18938c>Example</span> with Javascript, JQuery, VueJS, Angular, JAVA, PHP, NodeJS, Python, Go, Ruby, C#, R, Strest, Rust, Swift and Scala</a></h3></div><!----></div></section><section id=\"Institutional-Holdings-Portfolio-Industry-Summary\" class=\"section-top min-height-section\" data-v-ca18938c><h2 data-v-ca18938c><a href=\"/developer/docs/institutional-holdings-portfolio-industry-summary-api\" class=\"contain-header hoover-header\" data-v-ca18938c><div class=\"title-head\" data-v-ca18938c><div data-v-ca18938c>Institutional Holdings Portfolio Industry Summary <svg aria-hidden=\"true\" height=\"12\" width=\"12\" viewBox=\"0 0 16 16\" xmlns=\"http://www.w3.org/2000/svg\" class=\"SVGInline-svg SVGInline--cleaned-svg SVG-svg Icon-svg Icon--arrowRight-svg Icon-color-svg Icon-color--blue-svg\" data-v-ca18938c><path d=\"M12.583 7L7.992 2.409A1 1 0 1 1 9.407.993l6.3 6.3a1 1 0 0 1 0 1.414l-6.3 6.3a1 1 0 0 1-1.415-1.416L12.583 9H1a1 1 0 1 1 0-2z\" fill-rule=\"evenodd\" data-v-ca18938c></path></svg></div></div></a></h2><div class=\"contain-main-block\" style=\"margin-top:0\" data-v-ca18938c><div class=\"contain-block-prettyprint\" data-v-ca18938c><!----><!----><!----> <span class=\"span-margin\" data-v-ca18938c>Institutional holdings portfolio industry summary (50 results per page, sorted by positions weight in descending order) <span class=\"label info-link\">JSON</span></span><pre class=\"href-pre\" data-v-ca18938c>\t\t\t\t\t\t\t\t\t<a href=\"https://financialmodelingprep.com/api/v4/institutional-ownership/industry/portfolio-holdings-summary?cik=0001067983&date=2021-09-30&page=0&apikey=YOUR_API_KEY\" target=\"_blank\" class=\"background-link last-href\" data-v-ca18938c>/api/v4/institutional-ownership/industry/portfolio-holdings-summary?<span class=\"symbol bold\">cik</span>=<span class=\"symbol\">0001067983</span>&<span class=\"symbol bold\">date</span>=<span class=\"symbol\">2021-09-30</span>&<span class=\"symbol bold\">page</span>=<span class=\"symbol\">0</span></a>\n",
      "\t\t\t\t\t\t\t\t</pre><h3 style=\"border:none;margin-top:20px\" data-v-ca18938c><a href=\"/developer/docs/institutional-holdings-portfolio-industry-summary-api\" class=\"span-margin hoover-header integration\" data-v-ca18938c><span style=\"color:#ec407a;font-weight:600\" data-v-ca18938c>Example</span> with Javascript, JQuery, VueJS, Angular, JAVA, PHP, NodeJS, Python, Go, Ruby, C#, R, Strest, Rust, Swift and Scala</a></h3></div><!----></div></section><section id=\"Institutional-Holdings-Portfolio-composition\" class=\"section-top min-height-section\" data-v-ca18938c><h2 data-v-ca18938c><a href=\"/developer/docs/institutional-holdings-portfolio-composition-api\" class=\"contain-header hoover-header\" data-v-ca18938c><div class=\"title-head\" data-v-ca18938c><div data-v-ca18938c>Institutional Holdings Portfolio composition <svg aria-hidden=\"true\" height=\"12\" width=\"12\" viewBox=\"0 0 16 16\" xmlns=\"http://www.w3.org/2000/svg\" class=\"SVGInline-svg SVGInline--cleaned-svg SVG-svg Icon-svg Icon--arrowRight-svg Icon-color-svg Icon-color--blue-svg\" data-v-ca18938c><path d=\"M12.583 7L7.992 2.409A1 1 0 1 1 9.407.993l6.3 6.3a1 1 0 0 1 0 1.414l-6.3 6.3a1 1 0 0 1-1.415-1.416L12.583 9H1a1 1 0 1 1 0-2z\" fill-rule=\"evenodd\" data-v-ca18938c></path></svg></div></div></a></h2><div class=\"contain-main-block\" style=\"margin-top:0\" data-v-ca18938c><div class=\"contain-block-prettyprint\" data-v-ca18938c><!----><!----><!----> <span class=\"span-margin\" data-v-ca18938c>Institutional holdings portfolio composition (50 results per page, sorted by positions weight in descending order) <span class=\"label info-link\">JSON</span></span><pre class=\"href-pre\" data-v-ca18938c>\t\t\t\t\t\t\t\t\t<a href=\"https://financialmodelingprep.com/api/v4/institutional-ownership/portfolio-holdings?cik=0001067983&date=2021-09-30&page=0&apikey=YOUR_API_KEY\" target=\"_blank\" class=\"background-link last-href\" data-v-ca18938c>/api/v4/institutional-ownership/portfolio-holdings?<span class=\"symbol bold\">cik</span>=<span class=\"symbol\">0001067983</span>&<span class=\"symbol bold\">date</span>=<span class=\"symbol\">2021-09-30</span>&<span class=\"symbol bold\">page</span>=<span class=\"symbol\">0</span></a>\n",
      "\t\t\t\t\t\t\t\t</pre><h3 style=\"border:none;margin-top:20px\" data-v-ca18938c><a href=\"/developer/docs/institutional-holdings-portfolio-composition-api\" class=\"span-margin hoover-header integration\" data-v-ca18938c><span style=\"color:#ec407a;font-weight:600\" data-v-ca18938c>Example</span> with Javascript, JQuery, VueJS, Angular, JAVA, PHP, NodeJS, Python, Go, Ruby, C#, R, Strest, Rust, Swift and Scala</a></h3></div><!----></div></section><section class=\"contain-big-section\" data-v-ca18938c><div data-v-ca18938c>ESG SCORE</div></section><section id=\"ESG-SCORE\" class=\"section-top min-height-section\" data-v-ca18938c><h2 data-v-ca18938c><a href=\"/developer/docs/esg-score-api\" class=\"contain-header hoover-header\" data-v-ca18938c><div class=\"title-head\" data-v-ca18938c><div data-v-ca18938c>ESG SCORE <svg aria-hidden=\"true\" height=\"12\" width=\"12\" viewBox=\"0 0 16 16\" xmlns=\"http://www.w3.org/2000/svg\" class=\"SVGInline-svg SVGInline--cleaned-svg SVG-svg Icon-svg Icon--arrowRight-svg Icon-color-svg Icon-color--blue-svg\" data-v-ca18938c><path d=\"M12.583 7L7.992 2.409A1 1 0 1 1 9.407.993l6.3 6.3a1 1 0 0 1 0 1.414l-6.3 6.3a1 1 0 0 1-1.415-1.416L12.583 9H1a1 1 0 1 1 0-2z\" fill-rule=\"evenodd\" data-v-ca18938c></path></svg></div></div></a></h2><div class=\"contain-main-block\" style=\"margin-top:0\" data-v-ca18938c><div class=\"contain-block-prettyprint\" data-v-ca18938c><!----><!----><!----> <span class=\"span-margin\" data-v-ca18938c>ESG score for symbol <span class=\"label info-link\">JSON</span></span><pre class=\"href-pre\" data-v-ca18938c>\t\t\t\t\t\t\t\t\t<a href=\"https://financialmodelingprep.com/api/v4/esg-environmental-social-governance-data?symbol=AAPL&apikey=YOUR_API_KEY\" target=\"_blank\" class=\"background-link last-href\" data-v-ca18938c>/api/v4/esg-environmental-social-governance-data?<span class=\"symbol bold\">symbol</span>=<span class=\"symbol\">AAPL</span></a>\n",
      "\t\t\t\t\t\t\t\t</pre><h3 style=\"border:none;margin-top:20px\" data-v-ca18938c><a href=\"/developer/docs/esg-score-api\" class=\"span-margin hoover-header integration\" data-v-ca18938c><span style=\"color:#ec407a;font-weight:600\" data-v-ca18938c>Example</span> with Javascript, JQuery, VueJS, Angular, JAVA, PHP, NodeJS, Python, Go, Ruby, C#, R, Strest, Rust, Swift and Scala</a></h3></div><!----></div></section><section id=\"Company-ESG-Risk-Ratings\" class=\"section-top min-height-section\" data-v-ca18938c><h2 data-v-ca18938c><a href=\"/developer/docs/company-esg-risk-ratings-api\" class=\"contain-header hoover-header\" data-v-ca18938c><div class=\"title-head\" data-v-ca18938c><div data-v-ca18938c>Company ESG Risk Ratings <svg aria-hidden=\"true\" height=\"12\" width=\"12\" viewBox=\"0 0 16 16\" xmlns=\"http://www.w3.org/2000/svg\" class=\"SVGInline-svg SVGInline--cleaned-svg SVG-svg Icon-svg Icon--arrowRight-svg Icon-color-svg Icon-color--blue-svg\" data-v-ca18938c><path d=\"M12.583 7L7.992 2.409A1 1 0 1 1 9.407.993l6.3 6.3a1 1 0 0 1 0 1.414l-6.3 6.3a1 1 0 0 1-1.415-1.416L12.583 9H1a1 1 0 1 1 0-2z\" fill-rule=\"evenodd\" data-v-ca18938c></path></svg></div></div></a></h2><div class=\"contain-main-block\" style=\"margin-top:0\" data-v-ca18938c><div class=\"contain-block-prettyprint\" data-v-ca18938c><!----><!----><!----> <span class=\"span-margin\" data-v-ca18938c>Company ESG Risk Ratings <span class=\"label info-link\">JSON</span></span><pre class=\"href-pre\" data-v-ca18938c>\t\t\t\t\t\t\t\t\t<a href=\"https://financialmodelingprep.com/api/v4/esg-environmental-social-governance-data-ratings?symbol=AAPL&apikey=YOUR_API_KEY\" target=\"_blank\" class=\"background-link last-href\" data-v-ca18938c>/api/v4/esg-environmental-social-governance-data-ratings?<span class=\"symbol bold\">symbol</span>=<span class=\"symbol\">AAPL</span></a>\n",
      "\t\t\t\t\t\t\t\t</pre><h3 style=\"border:none;margin-top:20px\" data-v-ca18938c><a href=\"/developer/docs/company-esg-risk-ratings-api\" class=\"span-margin hoover-header integration\" data-v-ca18938c><span style=\"color:#ec407a;font-weight:600\" data-v-ca18938c>Example</span> with Javascript, JQuery, VueJS, Angular, JAVA, PHP, NodeJS, Python, Go, Ruby, C#, R, Strest, Rust, Swift and Scala</a></h3></div><!----></div></section><section id=\"ESG-Benchmarking-By-Sector-and-Year\" class=\"section-top min-height-section\" data-v-ca18938c><h2 data-v-ca18938c><a href=\"/developer/docs/esg-benchmarking-score-api\" class=\"contain-header hoover-header\" data-v-ca18938c><div class=\"title-head\" data-v-ca18938c><div data-v-ca18938c>ESG Benchmarking By Sector and Year <svg aria-hidden=\"true\" height=\"12\" width=\"12\" viewBox=\"0 0 16 16\" xmlns=\"http://www.w3.org/2000/svg\" class=\"SVGInline-svg SVGInline--cleaned-svg SVG-svg Icon-svg Icon--arrowRight-svg Icon-color-svg Icon-color--blue-svg\" data-v-ca18938c><path d=\"M12.583 7L7.992 2.409A1 1 0 1 1 9.407.993l6.3 6.3a1 1 0 0 1 0 1.414l-6.3 6.3a1 1 0 0 1-1.415-1.416L12.583 9H1a1 1 0 1 1 0-2z\" fill-rule=\"evenodd\" data-v-ca18938c></path></svg></div></div></a></h2><div class=\"contain-main-block\" style=\"margin-top:0\" data-v-ca18938c><div class=\"contain-block-prettyprint\" data-v-ca18938c><!----><!----><!----> <span class=\"span-margin\" data-v-ca18938c>ESG benchmark for year and sector <span class=\"label info-link\">JSON</span></span><pre class=\"href-pre\" data-v-ca18938c>\t\t\t\t\t\t\t\t\t<a href=\"https://financialmodelingprep.com/api/v4/esg-environmental-social-governance-sector-benchmark?year=2022&apikey=YOUR_API_KEY\" target=\"_blank\" class=\"background-link last-href\" data-v-ca18938c>/api/v4/esg-environmental-social-governance-sector-benchmark?<span class=\"symbol bold\">year</span>=<span class=\"symbol\">2022</span></a>\n",
      "\t\t\t\t\t\t\t\t</pre><h3 style=\"border:none;margin-top:20px\" data-v-ca18938c><a href=\"/developer/docs/esg-benchmarking-score-api\" class=\"span-margin hoover-header integration\" data-v-ca18938c><span style=\"color:#ec407a;font-weight:600\" data-v-ca18938c>Example</span> with Javascript, JQuery, VueJS, Angular, JAVA, PHP, NodeJS, Python, Go, Ruby, C#, R, Strest, Rust, Swift and Scala</a></h3></div><!----></div></section><section class=\"contain-big-section\" data-v-ca18938c><div data-v-ca18938c>PRIVATE COMPANIES FUNDRAISING DATA</div></section><section id=\"Crowdfunding-Offerings-Rss-feed\" class=\"section-top min-height-section\" data-v-ca18938c><h2 data-v-ca18938c><a href=\"/developer/docs/crowdfunding-offerings-rss-feed-api\" class=\"contain-header hoover-header\" data-v-ca18938c><div class=\"title-head\" data-v-ca18938c><div data-v-ca18938c>Crowdfunding Offerings Rss feed <svg aria-hidden=\"true\" height=\"12\" width=\"12\" viewBox=\"0 0 16 16\" xmlns=\"http://www.w3.org/2000/svg\" class=\"SVGInline-svg SVGInline--cleaned-svg SVG-svg Icon-svg Icon--arrowRight-svg Icon-color-svg Icon-color--blue-svg\" data-v-ca18938c><path d=\"M12.583 7L7.992 2.409A1 1 0 1 1 9.407.993l6.3 6.3a1 1 0 0 1 0 1.414l-6.3 6.3a1 1 0 0 1-1.415-1.416L12.583 9H1a1 1 0 1 1 0-2z\" fill-rule=\"evenodd\" data-v-ca18938c></path></svg></div></div></a></h2><div class=\"contain-main-block\" style=\"margin-top:0\" data-v-ca18938c><div class=\"contain-block-prettyprint\" data-v-ca18938c><!----><!----><!----> <span class=\"span-margin\" data-v-ca18938c>Crowdfunding Offerings Rss feed <span class=\"label info-link\">JSON</span></span><pre class=\"href-pre\" data-v-ca18938c>\t\t\t\t\t\t\t\t\t<a href=\"https://financialmodelingprep.com/api/v4/crowdfunding-offerings-rss-feed?page=0&apikey=YOUR_API_KEY\" target=\"_blank\" class=\"background-link last-href\" data-v-ca18938c>/api/v4/crowdfunding-offerings-rss-feed?<span class=\"symbol bold\">page</span>=<span class=\"symbol\">0</span></a>\n",
      "\t\t\t\t\t\t\t\t</pre><h3 style=\"border:none;margin-top:20px\" data-v-ca18938c><a href=\"/developer/docs/crowdfunding-offerings-rss-feed-api\" class=\"span-margin hoover-header integration\" data-v-ca18938c><span style=\"color:#ec407a;font-weight:600\" data-v-ca18938c>Example</span> with Javascript, JQuery, VueJS, Angular, JAVA, PHP, NodeJS, Python, Go, Ruby, C#, R, Strest, Rust, Swift and Scala</a></h3></div><!----></div></section><section id=\"Crowdfunding-Offerings-Company-Search\" class=\"section-top min-height-section\" data-v-ca18938c><h2 data-v-ca18938c><a href=\"/developer/docs/crowdfunding-offerings-company-search-api\" class=\"contain-header hoover-header\" data-v-ca18938c><div class=\"title-head\" data-v-ca18938c><div data-v-ca18938c>Crowdfunding Offerings Company Search <svg aria-hidden=\"true\" height=\"12\" width=\"12\" viewBox=\"0 0 16 16\" xmlns=\"http://www.w3.org/2000/svg\" class=\"SVGInline-svg SVGInline--cleaned-svg SVG-svg Icon-svg Icon--arrowRight-svg Icon-color-svg Icon-color--blue-svg\" data-v-ca18938c><path d=\"M12.583 7L7.992 2.409A1 1 0 1 1 9.407.993l6.3 6.3a1 1 0 0 1 0 1.414l-6.3 6.3a1 1 0 0 1-1.415-1.416L12.583 9H1a1 1 0 1 1 0-2z\" fill-rule=\"evenodd\" data-v-ca18938c></path></svg></div></div></a></h2><div class=\"contain-main-block\" style=\"margin-top:0\" data-v-ca18938c><div class=\"contain-block-prettyprint\" data-v-ca18938c><!----><!----><!----> <span class=\"span-margin\" data-v-ca18938c>Crowdfunding Offerings Company Search <span class=\"label info-link\">JSON</span></span><pre class=\"href-pre\" data-v-ca18938c>\t\t\t\t\t\t\t\t\t<a href=\"https://financialmodelingprep.com/api/v4/crowdfunding-offerings/search?name=Enotap&apikey=YOUR_API_KEY\" target=\"_blank\" class=\"background-link last-href\" data-v-ca18938c>/api/v4/crowdfunding-offerings/search?<span class=\"symbol bold\">name</span>=<span class=\"symbol\">Enotap</span></a>\n",
      "\t\t\t\t\t\t\t\t</pre><h3 style=\"border:none;margin-top:20px\" data-v-ca18938c><a href=\"/developer/docs/crowdfunding-offerings-company-search-api\" class=\"span-margin hoover-header integration\" data-v-ca18938c><span style=\"color:#ec407a;font-weight:600\" data-v-ca18938c>Example</span> with Javascript, JQuery, VueJS, Angular, JAVA, PHP, NodeJS, Python, Go, Ruby, C#, R, Strest, Rust, Swift and Scala</a></h3></div><!----></div></section><section id=\"Crowdfunding-Offerings-by-CIK\" class=\"section-top min-height-section\" data-v-ca18938c><h2 data-v-ca18938c><a href=\"/developer/docs/crowdfunding-offerings-by-cik-api\" class=\"contain-header hoover-header\" data-v-ca18938c><div class=\"title-head\" data-v-ca18938c><div data-v-ca18938c>Crowdfunding Offerings by CIK <svg aria-hidden=\"true\" height=\"12\" width=\"12\" viewBox=\"0 0 16 16\" xmlns=\"http://www.w3.org/2000/svg\" class=\"SVGInline-svg SVGInline--cleaned-svg SVG-svg Icon-svg Icon--arrowRight-svg Icon-color-svg Icon-color--blue-svg\" data-v-ca18938c><path d=\"M12.583 7L7.992 2.409A1 1 0 1 1 9.407.993l6.3 6.3a1 1 0 0 1 0 1.414l-6.3 6.3a1 1 0 0 1-1.415-1.416L12.583 9H1a1 1 0 1 1 0-2z\" fill-rule=\"evenodd\" data-v-ca18938c></path></svg></div></div></a></h2><div class=\"contain-main-block\" style=\"margin-top:0\" data-v-ca18938c><div class=\"contain-block-prettyprint\" data-v-ca18938c><!----><!----><!----> <span class=\"span-margin\" data-v-ca18938c>Crowdfunding Offerings by CIK <span class=\"label info-link\">JSON</span></span><pre class=\"href-pre\" data-v-ca18938c>\t\t\t\t\t\t\t\t\t<a href=\"https://financialmodelingprep.com/api/v4/crowdfunding-offerings?cik=0001916078&apikey=YOUR_API_KEY\" target=\"_blank\" class=\"background-link last-href\" data-v-ca18938c>/api/v4/crowdfunding-offerings?<span class=\"symbol bold\">cik</span>=<span class=\"symbol\">0001916078</span></a>\n",
      "\t\t\t\t\t\t\t\t</pre><h3 style=\"border:none;margin-top:20px\" data-v-ca18938c><a href=\"/developer/docs/crowdfunding-offerings-by-cik-api\" class=\"span-margin hoover-header integration\" data-v-ca18938c><span style=\"color:#ec407a;font-weight:600\" data-v-ca18938c>Example</span> with Javascript, JQuery, VueJS, Angular, JAVA, PHP, NodeJS, Python, Go, Ruby, C#, R, Strest, Rust, Swift and Scala</a></h3></div><!----></div></section><section id=\"Equity-offerings-Fundraising-Rss-feed\" class=\"section-top min-height-section\" data-v-ca18938c><h2 data-v-ca18938c><a href=\"/developer/docs/equity-offerings-fundraising-rss-feed-api\" class=\"contain-header hoover-header\" data-v-ca18938c><div class=\"title-head\" data-v-ca18938c><div data-v-ca18938c>Equity offerings Fundraising Rss feed <svg aria-hidden=\"true\" height=\"12\" width=\"12\" viewBox=\"0 0 16 16\" xmlns=\"http://www.w3.org/2000/svg\" class=\"SVGInline-svg SVGInline--cleaned-svg SVG-svg Icon-svg Icon--arrowRight-svg Icon-color-svg Icon-color--blue-svg\" data-v-ca18938c><path d=\"M12.583 7L7.992 2.409A1 1 0 1 1 9.407.993l6.3 6.3a1 1 0 0 1 0 1.414l-6.3 6.3a1 1 0 0 1-1.415-1.416L12.583 9H1a1 1 0 1 1 0-2z\" fill-rule=\"evenodd\" data-v-ca18938c></path></svg></div></div></a></h2><div class=\"contain-main-block\" style=\"margin-top:0\" data-v-ca18938c><div class=\"contain-block-prettyprint\" data-v-ca18938c><!----><!----><!----> <span class=\"span-margin\" data-v-ca18938c>Equity offerings Fundraising Rss feed <span class=\"label info-link\">JSON</span></span><pre class=\"href-pre\" data-v-ca18938c>\t\t\t\t\t\t\t\t\t<a href=\"https://financialmodelingprep.com/api/v4/fundraising-rss-feed?page=0&apikey=YOUR_API_KEY\" target=\"_blank\" class=\"background-link last-href\" data-v-ca18938c>/api/v4/fundraising-rss-feed?<span class=\"symbol bold\">page</span>=<span class=\"symbol\">0</span></a>\n",
      "\t\t\t\t\t\t\t\t</pre><h3 style=\"border:none;margin-top:20px\" data-v-ca18938c><a href=\"/developer/docs/equity-offerings-fundraising-rss-feed-api\" class=\"span-margin hoover-header integration\" data-v-ca18938c><span style=\"color:#ec407a;font-weight:600\" data-v-ca18938c>Example</span> with Javascript, JQuery, VueJS, Angular, JAVA, PHP, NodeJS, Python, Go, Ruby, C#, R, Strest, Rust, Swift and Scala</a></h3></div><!----></div></section><section id=\"Equity-offerings-Fundraising-Company-Search\" class=\"section-top min-height-section\" data-v-ca18938c><h2 data-v-ca18938c><a href=\"/developer/docs/equity-offerings-fundraising-company-search-api\" class=\"contain-header hoover-header\" data-v-ca18938c><div class=\"title-head\" data-v-ca18938c><div data-v-ca18938c>Equity offerings Fundraising Company Search <svg aria-hidden=\"true\" height=\"12\" width=\"12\" viewBox=\"0 0 16 16\" xmlns=\"http://www.w3.org/2000/svg\" class=\"SVGInline-svg SVGInline--cleaned-svg SVG-svg Icon-svg Icon--arrowRight-svg Icon-color-svg Icon-color--blue-svg\" data-v-ca18938c><path d=\"M12.583 7L7.992 2.409A1 1 0 1 1 9.407.993l6.3 6.3a1 1 0 0 1 0 1.414l-6.3 6.3a1 1 0 0 1-1.415-1.416L12.583 9H1a1 1 0 1 1 0-2z\" fill-rule=\"evenodd\" data-v-ca18938c></path></svg></div></div></a></h2><div class=\"contain-main-block\" style=\"margin-top:0\" data-v-ca18938c><div class=\"contain-block-prettyprint\" data-v-ca18938c><!----><!----><!----> <span class=\"span-margin\" data-v-ca18938c>Equity offerings Fundraising Company Search <span class=\"label info-link\">JSON</span></span><pre class=\"href-pre\" data-v-ca18938c>\t\t\t\t\t\t\t\t\t<a href=\"https://financialmodelingprep.com/api/v4/fundraising/search?name=marinalife&apikey=YOUR_API_KEY\" target=\"_blank\" class=\"background-link last-href\" data-v-ca18938c>/api/v4/fundraising/search?<span class=\"symbol bold\">name</span>=<span class=\"symbol\">marinalife</span></a>\n",
      "\t\t\t\t\t\t\t\t</pre><h3 style=\"border:none;margin-top:20px\" data-v-ca18938c><a href=\"/developer/docs/equity-offerings-fundraising-company-search-api\" class=\"span-margin hoover-header integration\" data-v-ca18938c><span style=\"color:#ec407a;font-weight:600\" data-v-ca18938c>Example</span> with Javascript, JQuery, VueJS, Angular, JAVA, PHP, NodeJS, Python, Go, Ruby, C#, R, Strest, Rust, Swift and Scala</a></h3></div><!----></div></section><section id=\"Equity-offerings-Fundraising-by-CIK\" class=\"section-top min-height-section\" data-v-ca18938c><h2 data-v-ca18938c><a href=\"/developer/docs/equity-offerings-fundraising-by-cik-api\" class=\"contain-header hoover-header\" data-v-ca18938c><div class=\"title-head\" data-v-ca18938c><div data-v-ca18938c>Equity offerings Fundraising by CIK <svg aria-hidden=\"true\" height=\"12\" width=\"12\" viewBox=\"0 0 16 16\" xmlns=\"http://www.w3.org/2000/svg\" class=\"SVGInline-svg SVGInline--cleaned-svg SVG-svg Icon-svg Icon--arrowRight-svg Icon-color-svg Icon-color--blue-svg\" data-v-ca18938c><path d=\"M12.583 7L7.992 2.409A1 1 0 1 1 9.407.993l6.3 6.3a1 1 0 0 1 0 1.414l-6.3 6.3a1 1 0 0 1-1.415-1.416L12.583 9H1a1 1 0 1 1 0-2z\" fill-rule=\"evenodd\" data-v-ca18938c></path></svg></div></div></a></h2><div class=\"contain-main-block\" style=\"margin-top:0\" data-v-ca18938c><div class=\"contain-block-prettyprint\" data-v-ca18938c><!----><!----><!----> <span class=\"span-margin\" data-v-ca18938c>Equity offerings Fundraising by CIK <span class=\"label info-link\">JSON</span></span><pre class=\"href-pre\" data-v-ca18938c>\t\t\t\t\t\t\t\t\t<a href=\"https://financialmodelingprep.com/api/v4/fundraising?cik=0001870523&apikey=YOUR_API_KEY\" target=\"_blank\" class=\"background-link last-href\" data-v-ca18938c>/api/v4/fundraising?<span class=\"symbol bold\">cik</span>=<span class=\"symbol\">0001870523</span></a>\n",
      "\t\t\t\t\t\t\t\t</pre><h3 style=\"border:none;margin-top:20px\" data-v-ca18938c><a href=\"/developer/docs/equity-offerings-fundraising-by-cik-api\" class=\"span-margin hoover-header integration\" data-v-ca18938c><span style=\"color:#ec407a;font-weight:600\" data-v-ca18938c>Example</span> with Javascript, JQuery, VueJS, Angular, JAVA, PHP, NodeJS, Python, Go, Ruby, C#, R, Strest, Rust, Swift and Scala</a></h3></div><!----></div></section><section class=\"contain-big-section\" data-v-ca18938c><div data-v-ca18938c>PRICE TARGET</div></section><section id=\"Price-Target\" class=\"section-top min-height-section\" data-v-ca18938c><h2 data-v-ca18938c><a href=\"/developer/docs/price-target-api\" class=\"contain-header hoover-header\" data-v-ca18938c><div class=\"title-head\" data-v-ca18938c><div data-v-ca18938c>Price Target <svg aria-hidden=\"true\" height=\"12\" width=\"12\" viewBox=\"0 0 16 16\" xmlns=\"http://www.w3.org/2000/svg\" class=\"SVGInline-svg SVGInline--cleaned-svg SVG-svg Icon-svg Icon--arrowRight-svg Icon-color-svg Icon-color--blue-svg\" data-v-ca18938c><path d=\"M12.583 7L7.992 2.409A1 1 0 1 1 9.407.993l6.3 6.3a1 1 0 0 1 0 1.414l-6.3 6.3a1 1 0 0 1-1.415-1.416L12.583 9H1a1 1 0 1 1 0-2z\" fill-rule=\"evenodd\" data-v-ca18938c></path></svg></div></div></a></h2><div class=\"contain-main-block\" style=\"margin-top:0\" data-v-ca18938c><div class=\"contain-block-prettyprint\" data-v-ca18938c><!----><!----><!----> <span class=\"span-margin\" data-v-ca18938c>Price targets for symbol (This API endpoint is available under the Professional/Business or Enterprise plan.) <span class=\"label info-link\">JSON</span></span><pre class=\"href-pre\" data-v-ca18938c>\t\t\t\t\t\t\t\t\t<a href=\"https://financialmodelingprep.com/api/v4/price-target?symbol=AAPL&apikey=YOUR_API_KEY\" target=\"_blank\" class=\"background-link last-href\" data-v-ca18938c>/api/v4/price-target?<span class=\"symbol bold\">symbol</span>=<span class=\"symbol\">AAPL</span></a>\n",
      "\t\t\t\t\t\t\t\t</pre><h3 style=\"border:none;margin-top:20px\" data-v-ca18938c><a href=\"/developer/docs/price-target-api\" class=\"span-margin hoover-header integration\" data-v-ca18938c><span style=\"color:#ec407a;font-weight:600\" data-v-ca18938c>Example</span> with Javascript, JQuery, VueJS, Angular, JAVA, PHP, NodeJS, Python, Go, Ruby, C#, R, Strest, Rust, Swift and Scala</a></h3></div><!----></div></section><section id=\"Price-target-Summary\" class=\"section-top min-height-section\" data-v-ca18938c><h2 data-v-ca18938c><a href=\"/developer/docs/price-target-summary-api\" class=\"contain-header hoover-header\" data-v-ca18938c><div class=\"title-head\" data-v-ca18938c><div data-v-ca18938c>Price target Summary <svg aria-hidden=\"true\" height=\"12\" width=\"12\" viewBox=\"0 0 16 16\" xmlns=\"http://www.w3.org/2000/svg\" class=\"SVGInline-svg SVGInline--cleaned-svg SVG-svg Icon-svg Icon--arrowRight-svg Icon-color-svg Icon-color--blue-svg\" data-v-ca18938c><path d=\"M12.583 7L7.992 2.409A1 1 0 1 1 9.407.993l6.3 6.3a1 1 0 0 1 0 1.414l-6.3 6.3a1 1 0 0 1-1.415-1.416L12.583 9H1a1 1 0 1 1 0-2z\" fill-rule=\"evenodd\" data-v-ca18938c></path></svg></div></div></a></h2><div class=\"contain-main-block\" style=\"margin-top:0\" data-v-ca18938c><div class=\"contain-block-prettyprint\" data-v-ca18938c><!----><!----><!----> <span class=\"span-margin\" data-v-ca18938c>Price targets summary for symbol <span class=\"label info-link\">JSON</span></span><pre class=\"href-pre\" data-v-ca18938c>\t\t\t\t\t\t\t\t\t<a href=\"https://financialmodelingprep.com/api/v4/price-target-summary?symbol=AAPL&apikey=YOUR_API_KEY\" target=\"_blank\" class=\"background-link last-href\" data-v-ca18938c>/api/v4/price-target-summary?<span class=\"symbol bold\">symbol</span>=<span class=\"symbol\">AAPL</span></a>\n",
      "\t\t\t\t\t\t\t\t</pre><h3 style=\"border:none;margin-top:20px\" data-v-ca18938c><a href=\"/developer/docs/price-target-summary-api\" class=\"span-margin hoover-header integration\" data-v-ca18938c><span style=\"color:#ec407a;font-weight:600\" data-v-ca18938c>Example</span> with Javascript, JQuery, VueJS, Angular, JAVA, PHP, NodeJS, Python, Go, Ruby, C#, R, Strest, Rust, Swift and Scala</a></h3></div><!----></div></section><section id=\"Price-Target-By-Analyst-Name\" class=\"section-top min-height-section\" data-v-ca18938c><h2 data-v-ca18938c><a href=\"/developer/docs/price-target-by-analyst-name-api\" class=\"contain-header hoover-header\" data-v-ca18938c><div class=\"title-head\" data-v-ca18938c><div data-v-ca18938c>Price Target By Analyst Name <svg aria-hidden=\"true\" height=\"12\" width=\"12\" viewBox=\"0 0 16 16\" xmlns=\"http://www.w3.org/2000/svg\" class=\"SVGInline-svg SVGInline--cleaned-svg SVG-svg Icon-svg Icon--arrowRight-svg Icon-color-svg Icon-color--blue-svg\" data-v-ca18938c><path d=\"M12.583 7L7.992 2.409A1 1 0 1 1 9.407.993l6.3 6.3a1 1 0 0 1 0 1.414l-6.3 6.3a1 1 0 0 1-1.415-1.416L12.583 9H1a1 1 0 1 1 0-2z\" fill-rule=\"evenodd\" data-v-ca18938c></path></svg></div></div></a></h2><div class=\"contain-main-block\" style=\"margin-top:0\" data-v-ca18938c><div class=\"contain-block-prettyprint\" data-v-ca18938c><!----><!----><!----> <span class=\"span-margin\" data-v-ca18938c>Price targets grouped by analyst name <span class=\"label info-link\">JSON</span></span><pre class=\"href-pre\" data-v-ca18938c>\t\t\t\t\t\t\t\t\t<a href=\"https://financialmodelingprep.com/api/v4/price-target-analyst-name?name=Tim%20Anderson&apikey=YOUR_API_KEY\" target=\"_blank\" class=\"background-link last-href\" data-v-ca18938c>/api/v4/price-target-analyst-name?<span class=\"symbol bold\">name</span>=<span class=\"symbol\">Tim%20Anderson</span></a>\n",
      "\t\t\t\t\t\t\t\t</pre><h3 style=\"border:none;margin-top:20px\" data-v-ca18938c><a href=\"/developer/docs/price-target-by-analyst-name-api\" class=\"span-margin hoover-header integration\" data-v-ca18938c><span style=\"color:#ec407a;font-weight:600\" data-v-ca18938c>Example</span> with Javascript, JQuery, VueJS, Angular, JAVA, PHP, NodeJS, Python, Go, Ruby, C#, R, Strest, Rust, Swift and Scala</a></h3></div><!----></div></section><section id=\"Price-Target-by-Analyst-Company\" class=\"section-top min-height-section\" data-v-ca18938c><h2 data-v-ca18938c><a href=\"/developer/docs/price-target-by-analyst-company-api\" class=\"contain-header hoover-header\" data-v-ca18938c><div class=\"title-head\" data-v-ca18938c><div data-v-ca18938c>Price Target by Analyst Company <svg aria-hidden=\"true\" height=\"12\" width=\"12\" viewBox=\"0 0 16 16\" xmlns=\"http://www.w3.org/2000/svg\" class=\"SVGInline-svg SVGInline--cleaned-svg SVG-svg Icon-svg Icon--arrowRight-svg Icon-color-svg Icon-color--blue-svg\" data-v-ca18938c><path d=\"M12.583 7L7.992 2.409A1 1 0 1 1 9.407.993l6.3 6.3a1 1 0 0 1 0 1.414l-6.3 6.3a1 1 0 0 1-1.415-1.416L12.583 9H1a1 1 0 1 1 0-2z\" fill-rule=\"evenodd\" data-v-ca18938c></path></svg></div></div></a></h2><div class=\"contain-main-block\" style=\"margin-top:0\" data-v-ca18938c><div class=\"contain-block-prettyprint\" data-v-ca18938c><!----><!----><!----> <span class=\"span-margin\" data-v-ca18938c>Price targets grouped by analyst company <span class=\"label info-link\">JSON</span></span><pre class=\"href-pre\" data-v-ca18938c>\t\t\t\t\t\t\t\t\t<a href=\"https://financialmodelingprep.com/api/v4/price-target-analyst-company?company=Barclays&apikey=YOUR_API_KEY\" target=\"_blank\" class=\"background-link last-href\" data-v-ca18938c>/api/v4/price-target-analyst-company?<span class=\"symbol bold\">company</span>=<span class=\"symbol\">Barclays</span></a>\n",
      "\t\t\t\t\t\t\t\t</pre><h3 style=\"border:none;margin-top:20px\" data-v-ca18938c><a href=\"/developer/docs/price-target-by-analyst-company-api\" class=\"span-margin hoover-header integration\" data-v-ca18938c><span style=\"color:#ec407a;font-weight:600\" data-v-ca18938c>Example</span> with Javascript, JQuery, VueJS, Angular, JAVA, PHP, NodeJS, Python, Go, Ruby, C#, R, Strest, Rust, Swift and Scala</a></h3></div><!----></div></section><section id=\"Price-Target-Consensus\" class=\"section-top min-height-section\" data-v-ca18938c><h2 data-v-ca18938c><a href=\"/developer/docs/price-target-consensus-api\" class=\"contain-header hoover-header\" data-v-ca18938c><div class=\"title-head\" data-v-ca18938c><div data-v-ca18938c>Price Target Consensus <svg aria-hidden=\"true\" height=\"12\" width=\"12\" viewBox=\"0 0 16 16\" xmlns=\"http://www.w3.org/2000/svg\" class=\"SVGInline-svg SVGInline--cleaned-svg SVG-svg Icon-svg Icon--arrowRight-svg Icon-color-svg Icon-color--blue-svg\" data-v-ca18938c><path d=\"M12.583 7L7.992 2.409A1 1 0 1 1 9.407.993l6.3 6.3a1 1 0 0 1 0 1.414l-6.3 6.3a1 1 0 0 1-1.415-1.416L12.583 9H1a1 1 0 1 1 0-2z\" fill-rule=\"evenodd\" data-v-ca18938c></path></svg></div></div></a></h2><div class=\"contain-main-block\" style=\"margin-top:0\" data-v-ca18938c><div class=\"contain-block-prettyprint\" data-v-ca18938c><!----><!----><!----> <span class=\"span-margin\" data-v-ca18938c>Price targets consensus <span class=\"label info-link\">JSON</span></span><pre class=\"href-pre\" data-v-ca18938c>\t\t\t\t\t\t\t\t\t<a href=\"https://financialmodelingprep.com/api/v4/price-target-consensus?symbol=AAPL&apikey=YOUR_API_KEY\" target=\"_blank\" class=\"background-link last-href\" data-v-ca18938c>/api/v4/price-target-consensus?<span class=\"symbol bold\">symbol</span>=<span class=\"symbol\">AAPL</span></a>\n",
      "\t\t\t\t\t\t\t\t</pre><h3 style=\"border:none;margin-top:20px\" data-v-ca18938c><a href=\"/developer/docs/price-target-consensus-api\" class=\"span-margin hoover-header integration\" data-v-ca18938c><span style=\"color:#ec407a;font-weight:600\" data-v-ca18938c>Example</span> with Javascript, JQuery, VueJS, Angular, JAVA, PHP, NodeJS, Python, Go, Ruby, C#, R, Strest, Rust, Swift and Scala</a></h3></div><!----></div></section><section id=\"Price-Target-RSS-Feed\" class=\"section-top min-height-section\" data-v-ca18938c><h2 data-v-ca18938c><a href=\"/developer/docs/price-target-rss-feed-api\" class=\"contain-header hoover-header\" data-v-ca18938c><div class=\"title-head\" data-v-ca18938c><div data-v-ca18938c>Price Target RSS Feed <svg aria-hidden=\"true\" height=\"12\" width=\"12\" viewBox=\"0 0 16 16\" xmlns=\"http://www.w3.org/2000/svg\" class=\"SVGInline-svg SVGInline--cleaned-svg SVG-svg Icon-svg Icon--arrowRight-svg Icon-color-svg Icon-color--blue-svg\" data-v-ca18938c><path d=\"M12.583 7L7.992 2.409A1 1 0 1 1 9.407.993l6.3 6.3a1 1 0 0 1 0 1.414l-6.3 6.3a1 1 0 0 1-1.415-1.416L12.583 9H1a1 1 0 1 1 0-2z\" fill-rule=\"evenodd\" data-v-ca18938c></path></svg></div></div></a></h2><div class=\"contain-main-block\" style=\"margin-top:0\" data-v-ca18938c><div class=\"contain-block-prettyprint\" data-v-ca18938c><!----><!----><!----> <span class=\"span-margin\" data-v-ca18938c>Latest price targets <span class=\"label info-link\">JSON</span></span><pre class=\"href-pre\" data-v-ca18938c>\t\t\t\t\t\t\t\t\t<a href=\"https://financialmodelingprep.com/api/v4/price-target-rss-feed?page=0&apikey=YOUR_API_KEY\" target=\"_blank\" class=\"background-link last-href\" data-v-ca18938c>/api/v4/price-target-rss-feed?<span class=\"symbol bold\">page</span>=<span class=\"symbol\">0</span></a>\n",
      "\t\t\t\t\t\t\t\t</pre><h3 style=\"border:none;margin-top:20px\" data-v-ca18938c><a href=\"/developer/docs/price-target-rss-feed-api\" class=\"span-margin hoover-header integration\" data-v-ca18938c><span style=\"color:#ec407a;font-weight:600\" data-v-ca18938c>Example</span> with Javascript, JQuery, VueJS, Angular, JAVA, PHP, NodeJS, Python, Go, Ruby, C#, R, Strest, Rust, Swift and Scala</a></h3></div><!----></div></section><section class=\"contain-big-section\" data-v-ca18938c><div data-v-ca18938c>Upgrades & Downgrades</div></section><section id=\"Upgrades-&-Downgrades\" class=\"section-top min-height-section\" data-v-ca18938c><h2 data-v-ca18938c><a href=\"/developer/docs/upgrades-and-downgrades-api\" class=\"contain-header hoover-header\" data-v-ca18938c><div class=\"title-head\" data-v-ca18938c><div data-v-ca18938c>Upgrades & Downgrades <svg aria-hidden=\"true\" height=\"12\" width=\"12\" viewBox=\"0 0 16 16\" xmlns=\"http://www.w3.org/2000/svg\" class=\"SVGInline-svg SVGInline--cleaned-svg SVG-svg Icon-svg Icon--arrowRight-svg Icon-color-svg Icon-color--blue-svg\" data-v-ca18938c><path d=\"M12.583 7L7.992 2.409A1 1 0 1 1 9.407.993l6.3 6.3a1 1 0 0 1 0 1.414l-6.3 6.3a1 1 0 0 1-1.415-1.416L12.583 9H1a1 1 0 1 1 0-2z\" fill-rule=\"evenodd\" data-v-ca18938c></path></svg></div></div></a></h2><div class=\"contain-main-block\" style=\"margin-top:0\" data-v-ca18938c><div class=\"contain-block-prettyprint\" data-v-ca18938c><!----><!----><!----> <span class=\"span-margin\" data-v-ca18938c>Latest grade changes for symbol <span class=\"label info-link\">JSON</span></span><pre class=\"href-pre\" data-v-ca18938c>\t\t\t\t\t\t\t\t\t<a href=\"https://financialmodelingprep.com/api/v4/upgrades-downgrades?symbol=AAPL&apikey=YOUR_API_KEY\" target=\"_blank\" class=\"background-link last-href\" data-v-ca18938c>/api/v4/upgrades-downgrades?<span class=\"symbol bold\">symbol</span>=<span class=\"symbol\">AAPL</span></a>\n",
      "\t\t\t\t\t\t\t\t</pre><h3 style=\"border:none;margin-top:20px\" data-v-ca18938c><a href=\"/developer/docs/upgrades-and-downgrades-api\" class=\"span-margin hoover-header integration\" data-v-ca18938c><span style=\"color:#ec407a;font-weight:600\" data-v-ca18938c>Example</span> with Javascript, JQuery, VueJS, Angular, JAVA, PHP, NodeJS, Python, Go, Ruby, C#, R, Strest, Rust, Swift and Scala</a></h3></div><!----></div></section><section id=\"Upgrades-&-Downgrades-RSS-Feed\" class=\"section-top min-height-section\" data-v-ca18938c><h2 data-v-ca18938c><a href=\"/developer/docs/upgrades-and-downgrades-rss-feed-api\" class=\"contain-header hoover-header\" data-v-ca18938c><div class=\"title-head\" data-v-ca18938c><div data-v-ca18938c>Upgrades & Downgrades RSS Feed <svg aria-hidden=\"true\" height=\"12\" width=\"12\" viewBox=\"0 0 16 16\" xmlns=\"http://www.w3.org/2000/svg\" class=\"SVGInline-svg SVGInline--cleaned-svg SVG-svg Icon-svg Icon--arrowRight-svg Icon-color-svg Icon-color--blue-svg\" data-v-ca18938c><path d=\"M12.583 7L7.992 2.409A1 1 0 1 1 9.407.993l6.3 6.3a1 1 0 0 1 0 1.414l-6.3 6.3a1 1 0 0 1-1.415-1.416L12.583 9H1a1 1 0 1 1 0-2z\" fill-rule=\"evenodd\" data-v-ca18938c></path></svg></div></div></a></h2><div class=\"contain-main-block\" style=\"margin-top:0\" data-v-ca18938c><div class=\"contain-block-prettyprint\" data-v-ca18938c><!----><!----><!----> <span class=\"span-margin\" data-v-ca18938c>Latest grade changes <span class=\"label success\">Real-time</span> <span class=\"label info-link\">JSON</span></span><pre class=\"href-pre\" data-v-ca18938c>\t\t\t\t\t\t\t\t\t<a href=\"https://financialmodelingprep.com/api/v4/upgrades-downgrades-rss-feed?page=0&apikey=YOUR_API_KEY\" target=\"_blank\" class=\"background-link last-href\" data-v-ca18938c>/api/v4/upgrades-downgrades-rss-feed?<span class=\"symbol bold\">page</span>=<span class=\"symbol\">0</span></a>\n",
      "\t\t\t\t\t\t\t\t</pre><h3 style=\"border:none;margin-top:20px\" data-v-ca18938c><a href=\"/developer/docs/upgrades-and-downgrades-rss-feed-api\" class=\"span-margin hoover-header integration\" data-v-ca18938c><span style=\"color:#ec407a;font-weight:600\" data-v-ca18938c>Example</span> with Javascript, JQuery, VueJS, Angular, JAVA, PHP, NodeJS, Python, Go, Ruby, C#, R, Strest, Rust, Swift and Scala</a></h3></div><!----></div></section><section id=\"Upgrades-&-Downgrades-Consensus\" class=\"section-top min-height-section\" data-v-ca18938c><h2 data-v-ca18938c><a href=\"/developer/docs/upgrades-and-downgrades-consensus-api\" class=\"contain-header hoover-header\" data-v-ca18938c><div class=\"title-head\" data-v-ca18938c><div data-v-ca18938c>Upgrades & Downgrades Consensus <svg aria-hidden=\"true\" height=\"12\" width=\"12\" viewBox=\"0 0 16 16\" xmlns=\"http://www.w3.org/2000/svg\" class=\"SVGInline-svg SVGInline--cleaned-svg SVG-svg Icon-svg Icon--arrowRight-svg Icon-color-svg Icon-color--blue-svg\" data-v-ca18938c><path d=\"M12.583 7L7.992 2.409A1 1 0 1 1 9.407.993l6.3 6.3a1 1 0 0 1 0 1.414l-6.3 6.3a1 1 0 0 1-1.415-1.416L12.583 9H1a1 1 0 1 1 0-2z\" fill-rule=\"evenodd\" data-v-ca18938c></path></svg></div></div></a></h2><div class=\"contain-main-block\" style=\"margin-top:0\" data-v-ca18938c><div class=\"contain-block-prettyprint\" data-v-ca18938c><!----><!----><!----> <span class=\"span-margin\" data-v-ca18938c>Consensus of grades for symbol <span class=\"label info-link\">JSON</span></span><pre class=\"href-pre\" data-v-ca18938c>\t\t\t\t\t\t\t\t\t<a href=\"https://financialmodelingprep.com/api/v4/upgrades-downgrades-consensus?symbol=AAPL&apikey=YOUR_API_KEY\" target=\"_blank\" class=\"background-link last-href\" data-v-ca18938c>/api/v4/upgrades-downgrades-consensus?<span class=\"symbol bold\">symbol</span>=<span class=\"symbol\">AAPL</span></a>\n",
      "\t\t\t\t\t\t\t\t</pre><h3 style=\"border:none;margin-top:20px\" data-v-ca18938c><a href=\"/developer/docs/upgrades-and-downgrades-consensus-api\" class=\"span-margin hoover-header integration\" data-v-ca18938c><span style=\"color:#ec407a;font-weight:600\" data-v-ca18938c>Example</span> with Javascript, JQuery, VueJS, Angular, JAVA, PHP, NodeJS, Python, Go, Ruby, C#, R, Strest, Rust, Swift and Scala</a></h3></div><!----></div></section><section id=\"Upgrades-&-Downgrades-By-Company\" class=\"section-top min-height-section\" data-v-ca18938c><h2 data-v-ca18938c><a href=\"/developer/docs/upgrades-and-downgrades-by-company-api\" class=\"contain-header hoover-header\" data-v-ca18938c><div class=\"title-head\" data-v-ca18938c><div data-v-ca18938c>Upgrades & Downgrades By Company <svg aria-hidden=\"true\" height=\"12\" width=\"12\" viewBox=\"0 0 16 16\" xmlns=\"http://www.w3.org/2000/svg\" class=\"SVGInline-svg SVGInline--cleaned-svg SVG-svg Icon-svg Icon--arrowRight-svg Icon-color-svg Icon-color--blue-svg\" data-v-ca18938c><path d=\"M12.583 7L7.992 2.409A1 1 0 1 1 9.407.993l6.3 6.3a1 1 0 0 1 0 1.414l-6.3 6.3a1 1 0 0 1-1.415-1.416L12.583 9H1a1 1 0 1 1 0-2z\" fill-rule=\"evenodd\" data-v-ca18938c></path></svg></div></div></a></h2><div class=\"contain-main-block\" style=\"margin-top:0\" data-v-ca18938c><div class=\"contain-block-prettyprint\" data-v-ca18938c><!----><!----><!----> <span class=\"span-margin\" data-v-ca18938c>Latest price targets by specified grading company <span class=\"label info-link\">JSON</span></span><pre class=\"href-pre\" data-v-ca18938c>\t\t\t\t\t\t\t\t\t<a href=\"https://financialmodelingprep.com/api/v4/upgrades-downgrades-grading-company?company=Barclays&apikey=YOUR_API_KEY\" target=\"_blank\" class=\"background-link last-href\" data-v-ca18938c>/api/v4/upgrades-downgrades-grading-company?<span class=\"symbol bold\">company</span>=<span class=\"symbol\">Barclays</span></a>\n",
      "\t\t\t\t\t\t\t\t</pre><h3 style=\"border:none;margin-top:20px\" data-v-ca18938c><a href=\"/developer/docs/upgrades-and-downgrades-by-company-api\" class=\"span-margin hoover-header integration\" data-v-ca18938c><span style=\"color:#ec407a;font-weight:600\" data-v-ca18938c>Example</span> with Javascript, JQuery, VueJS, Angular, JAVA, PHP, NodeJS, Python, Go, Ruby, C#, R, Strest, Rust, Swift and Scala</a></h3></div><!----></div></section><section class=\"contain-big-section\" data-v-ca18938c><div data-v-ca18938c>historical ETF and Mutual Fund Holdings</div></section><section id=\"historical-mutual-fund-holdings-available-dates\" class=\"section-top min-height-section\" data-v-ca18938c><h2 data-v-ca18938c><a href=\"/developer/docs/historical-mutual-fund-holdings-available-dates-api\" class=\"contain-header hoover-header\" data-v-ca18938c><div class=\"title-head\" data-v-ca18938c><div data-v-ca18938c>historical mutual fund holdings available dates <svg aria-hidden=\"true\" height=\"12\" width=\"12\" viewBox=\"0 0 16 16\" xmlns=\"http://www.w3.org/2000/svg\" class=\"SVGInline-svg SVGInline--cleaned-svg SVG-svg Icon-svg Icon--arrowRight-svg Icon-color-svg Icon-color--blue-svg\" data-v-ca18938c><path d=\"M12.583 7L7.992 2.409A1 1 0 1 1 9.407.993l6.3 6.3a1 1 0 0 1 0 1.414l-6.3 6.3a1 1 0 0 1-1.415-1.416L12.583 9H1a1 1 0 1 1 0-2z\" fill-rule=\"evenodd\" data-v-ca18938c></path></svg></div></div></a></h2><div class=\"contain-main-block\" style=\"margin-top:0\" data-v-ca18938c><div class=\"contain-block-prettyprint\" data-v-ca18938c><!----><!----><!----> <span class=\"span-margin\" data-v-ca18938c>Historical mutual fund holdings available dates by symbol (This API endpoint is available under the Professional/Business or Enterprise plan.) <span class=\"label info-link\">JSON</span></span><pre class=\"href-pre\" data-v-ca18938c>\t\t\t\t\t\t\t\t\t<a href=\"https://financialmodelingprep.com/api/v4/mutual-fund-holdings/portfolio-date?symbol=VTSAX&apikey=YOUR_API_KEY\" target=\"_blank\" class=\"background-link\" data-v-ca18938c>/api/v4/mutual-fund-holdings/portfolio-date?<span class=\"symbol bold\">symbol</span>=<span class=\"symbol\">VTSAX</span></a>\n",
      "\t\t\t\t\t\t\t\t</pre><!----></div><!----></div><div class=\"contain-main-block margin-head-top-top-pretty\" style=\"margin-top:0\" data-v-ca18938c><div class=\"contain-block-prettyprint\" data-v-ca18938c><!----><!----><!----> <span class=\"span-margin\" data-v-ca18938c>Historical mutual fund holdings available dates by cik <span class=\"label info-link\">JSON</span></span><pre class=\"href-pre\" data-v-ca18938c>\t\t\t\t\t\t\t\t\t<a href=\"https://financialmodelingprep.com/api/v4/mutual-fund-holdings/portfolio-date?cik=0000034066&apikey=YOUR_API_KEY\" target=\"_blank\" class=\"background-link last-href\" data-v-ca18938c>/api/v4/mutual-fund-holdings/portfolio-date?<span class=\"symbol bold\">cik</span>=<span class=\"symbol\">0000034066</span></a>\n",
      "\t\t\t\t\t\t\t\t</pre><h3 style=\"border:none;margin-top:20px\" data-v-ca18938c><a href=\"/developer/docs/historical-mutual-fund-holdings-available-dates-api\" class=\"span-margin hoover-header integration\" data-v-ca18938c><span style=\"color:#ec407a;font-weight:600\" data-v-ca18938c>Example</span> with Javascript, JQuery, VueJS, Angular, JAVA, PHP, NodeJS, Python, Go, Ruby, C#, R, Strest, Rust, Swift and Scala</a></h3></div><!----></div></section><section id=\"historical-mutual-fund-holdings-portfolio\" class=\"section-top min-height-section\" data-v-ca18938c><h2 data-v-ca18938c><a href=\"/developer/docs/historical-mutual-fund-holdings-portfolio-api\" class=\"contain-header hoover-header\" data-v-ca18938c><div class=\"title-head\" data-v-ca18938c><div data-v-ca18938c>historical mutual fund holdings portfolio <svg aria-hidden=\"true\" height=\"12\" width=\"12\" viewBox=\"0 0 16 16\" xmlns=\"http://www.w3.org/2000/svg\" class=\"SVGInline-svg SVGInline--cleaned-svg SVG-svg Icon-svg Icon--arrowRight-svg Icon-color-svg Icon-color--blue-svg\" data-v-ca18938c><path d=\"M12.583 7L7.992 2.409A1 1 0 1 1 9.407.993l6.3 6.3a1 1 0 0 1 0 1.414l-6.3 6.3a1 1 0 0 1-1.415-1.416L12.583 9H1a1 1 0 1 1 0-2z\" fill-rule=\"evenodd\" data-v-ca18938c></path></svg></div></div></a></h2><div class=\"contain-main-block\" style=\"margin-top:0\" data-v-ca18938c><div class=\"contain-block-prettyprint\" data-v-ca18938c><!----><!----><!----> <span class=\"span-margin\" data-v-ca18938c>Historical mutual fund holdings by symbol <span class=\"label info-link\">JSON</span></span><pre class=\"href-pre\" data-v-ca18938c>\t\t\t\t\t\t\t\t\t<a href=\"https://financialmodelingprep.com/api/v4/mutual-fund-holdings?symbol=VTSAX&date=2021-12-31&apikey=YOUR_API_KEY\" target=\"_blank\" class=\"background-link\" data-v-ca18938c>/api/v4/mutual-fund-holdings?<span class=\"symbol bold\">symbol</span>=<span class=\"symbol\">VTSAX</span>&<span class=\"symbol bold\">date</span>=<span class=\"symbol\">2021-12-31</span></a>\n",
      "\t\t\t\t\t\t\t\t</pre><!----></div><!----></div><div class=\"contain-main-block margin-head-top-top-top-pretty\" style=\"margin-top:0\" data-v-ca18938c><div class=\"contain-block-prettyprint\" data-v-ca18938c><!----><!----><!----> <span class=\"span-margin\" data-v-ca18938c>Historical mutual fund holdings by cik <span class=\"label info-link\">JSON</span></span><pre class=\"href-pre\" data-v-ca18938c>\t\t\t\t\t\t\t\t\t<a href=\"https://financialmodelingprep.com/api/v4/mutual-fund-holdings?cik=0000034066&date=2021-12-31&apikey=YOUR_API_KEY\" target=\"_blank\" class=\"background-link last-href\" data-v-ca18938c>/api/v4/mutual-fund-holdings?<span class=\"symbol bold\">cik</span>=<span class=\"symbol\">0000034066</span>&<span class=\"symbol bold\">date</span>=<span class=\"symbol\">2021-12-31</span></a>\n",
      "\t\t\t\t\t\t\t\t</pre><h3 style=\"border:none;margin-top:20px\" data-v-ca18938c><a href=\"/developer/docs/historical-mutual-fund-holdings-portfolio-api\" class=\"span-margin hoover-header integration\" data-v-ca18938c><span style=\"color:#ec407a;font-weight:600\" data-v-ca18938c>Example</span> with Javascript, JQuery, VueJS, Angular, JAVA, PHP, NodeJS, Python, Go, Ruby, C#, R, Strest, Rust, Swift and Scala</a></h3></div><!----></div></section><section id=\"Mutual-fund-holdings-search\" class=\"section-top min-height-section\" data-v-ca18938c><h2 data-v-ca18938c><a href=\"/developer/docs/mutual-fund-holdings-search-api\" class=\"contain-header hoover-header\" data-v-ca18938c><div class=\"title-head\" data-v-ca18938c><div data-v-ca18938c>Mutual fund holdings search <svg aria-hidden=\"true\" height=\"12\" width=\"12\" viewBox=\"0 0 16 16\" xmlns=\"http://www.w3.org/2000/svg\" class=\"SVGInline-svg SVGInline--cleaned-svg SVG-svg Icon-svg Icon--arrowRight-svg Icon-color-svg Icon-color--blue-svg\" data-v-ca18938c><path d=\"M12.583 7L7.992 2.409A1 1 0 1 1 9.407.993l6.3 6.3a1 1 0 0 1 0 1.414l-6.3 6.3a1 1 0 0 1-1.415-1.416L12.583 9H1a1 1 0 1 1 0-2z\" fill-rule=\"evenodd\" data-v-ca18938c></path></svg></div></div></a></h2><div class=\"contain-main-block\" style=\"margin-top:0\" data-v-ca18938c><div class=\"contain-block-prettyprint\" data-v-ca18938c><!----><!----><!----> <span class=\"span-margin\" data-v-ca18938c>Mutual fund holdings search <span class=\"label info-link\">JSON</span></span><pre class=\"href-pre\" data-v-ca18938c>\t\t\t\t\t\t\t\t\t<a href=\"https://financialmodelingprep.com/api/v4/mutual-fund-holdings/name?name=Vanguard&apikey=YOUR_API_KEY\" target=\"_blank\" class=\"background-link last-href\" data-v-ca18938c>/api/v4/mutual-fund-holdings/name?<span class=\"symbol bold\">name</span>=<span class=\"symbol\">Vanguard</span></a>\n",
      "\t\t\t\t\t\t\t\t</pre><h3 style=\"border:none;margin-top:20px\" data-v-ca18938c><a href=\"/developer/docs/mutual-fund-holdings-search-api\" class=\"span-margin hoover-header integration\" data-v-ca18938c><span style=\"color:#ec407a;font-weight:600\" data-v-ca18938c>Example</span> with Javascript, JQuery, VueJS, Angular, JAVA, PHP, NodeJS, Python, Go, Ruby, C#, R, Strest, Rust, Swift and Scala</a></h3></div><!----></div></section><section id=\"Historical-ETF-Holdings-available-dates\" class=\"section-top min-height-section\" data-v-ca18938c><h2 data-v-ca18938c><a href=\"/developer/docs/historical-etf-holdings-available-dates-api\" class=\"contain-header hoover-header\" data-v-ca18938c><div class=\"title-head\" data-v-ca18938c><div data-v-ca18938c>Historical ETF Holdings available dates <svg aria-hidden=\"true\" height=\"12\" width=\"12\" viewBox=\"0 0 16 16\" xmlns=\"http://www.w3.org/2000/svg\" class=\"SVGInline-svg SVGInline--cleaned-svg SVG-svg Icon-svg Icon--arrowRight-svg Icon-color-svg Icon-color--blue-svg\" data-v-ca18938c><path d=\"M12.583 7L7.992 2.409A1 1 0 1 1 9.407.993l6.3 6.3a1 1 0 0 1 0 1.414l-6.3 6.3a1 1 0 0 1-1.415-1.416L12.583 9H1a1 1 0 1 1 0-2z\" fill-rule=\"evenodd\" data-v-ca18938c></path></svg></div></div></a></h2><div class=\"contain-main-block\" style=\"margin-top:0\" data-v-ca18938c><div class=\"contain-block-prettyprint\" data-v-ca18938c><!----><!----><!----> <span class=\"span-margin\" data-v-ca18938c>Historical ETF Holdings available dates by symbol <span class=\"label info-link\">JSON</span></span><pre class=\"href-pre\" data-v-ca18938c>\t\t\t\t\t\t\t\t\t<a href=\"https://financialmodelingprep.com/api/v4/etf-holdings/portfolio-date?symbol=VOO&apikey=YOUR_API_KEY\" target=\"_blank\" class=\"background-link\" data-v-ca18938c>/api/v4/etf-holdings/portfolio-date?<span class=\"symbol bold\">symbol</span>=<span class=\"symbol\">VOO</span></a>\n",
      "\t\t\t\t\t\t\t\t</pre><!----></div><!----></div><div class=\"contain-main-block margin-head-top-top-top-pretty\" style=\"margin-top:0\" data-v-ca18938c><div class=\"contain-block-prettyprint\" data-v-ca18938c><!----><!----><!----> <span class=\"span-margin\" data-v-ca18938c>Historical ETF Holdings holdings available dates by cik <span class=\"label info-link\">JSON</span></span><pre class=\"href-pre\" data-v-ca18938c>\t\t\t\t\t\t\t\t\t<a href=\"https://financialmodelingprep.com/api/v4/etf-holdings/portfolio-date?cik=0000036405&apikey=YOUR_API_KEY\" target=\"_blank\" class=\"background-link last-href\" data-v-ca18938c>/api/v4/etf-holdings/portfolio-date?<span class=\"symbol bold\">cik</span>=<span class=\"symbol\">0000036405</span></a>\n",
      "\t\t\t\t\t\t\t\t</pre><h3 style=\"border:none;margin-top:20px\" data-v-ca18938c><a href=\"/developer/docs/historical-etf-holdings-available-dates-api\" class=\"span-margin hoover-header integration\" data-v-ca18938c><span style=\"color:#ec407a;font-weight:600\" data-v-ca18938c>Example</span> with Javascript, JQuery, VueJS, Angular, JAVA, PHP, NodeJS, Python, Go, Ruby, C#, R, Strest, Rust, Swift and Scala</a></h3></div><!----></div></section><section id=\"Historical-ETF-Holdings\" class=\"section-top min-height-section\" data-v-ca18938c><h2 data-v-ca18938c><a href=\"/developer/docs/historical-etf-holdings-api\" class=\"contain-header hoover-header\" data-v-ca18938c><div class=\"title-head\" data-v-ca18938c><div data-v-ca18938c>Historical ETF Holdings <svg aria-hidden=\"true\" height=\"12\" width=\"12\" viewBox=\"0 0 16 16\" xmlns=\"http://www.w3.org/2000/svg\" class=\"SVGInline-svg SVGInline--cleaned-svg SVG-svg Icon-svg Icon--arrowRight-svg Icon-color-svg Icon-color--blue-svg\" data-v-ca18938c><path d=\"M12.583 7L7.992 2.409A1 1 0 1 1 9.407.993l6.3 6.3a1 1 0 0 1 0 1.414l-6.3 6.3a1 1 0 0 1-1.415-1.416L12.583 9H1a1 1 0 1 1 0-2z\" fill-rule=\"evenodd\" data-v-ca18938c></path></svg></div></div></a></h2><div class=\"contain-main-block\" style=\"margin-top:0\" data-v-ca18938c><div class=\"contain-block-prettyprint\" data-v-ca18938c><!----><!----><!----> <span class=\"span-margin\" data-v-ca18938c>Historical ETF Holdings by symbol <span class=\"label info-link\">JSON</span></span><pre class=\"href-pre\" data-v-ca18938c>\t\t\t\t\t\t\t\t\t<a href=\"https://financialmodelingprep.com/api/v4/etf-holdings?symbol=VOO&date=2021-12-31&apikey=YOUR_API_KEY\" target=\"_blank\" class=\"background-link\" data-v-ca18938c>/api/v4/etf-holdings?<span class=\"symbol bold\">symbol</span>=<span class=\"symbol\">VOO</span>&<span class=\"symbol bold\">date</span>=<span class=\"symbol\">2021-12-31</span></a>\n",
      "\t\t\t\t\t\t\t\t</pre><!----></div><!----></div><div class=\"contain-main-block margin-head-top-top-top-pretty\" style=\"margin-top:0\" data-v-ca18938c><div class=\"contain-block-prettyprint\" data-v-ca18938c><!----><!----><!----> <span class=\"span-margin\" data-v-ca18938c>Historical mutual fund holdings by cik <span class=\"label info-link\">JSON</span></span><pre class=\"href-pre\" data-v-ca18938c>\t\t\t\t\t\t\t\t\t<a href=\"https://financialmodelingprep.com/api/v4/etf-holdings?cik=0000036405&date=2021-12-31&apikey=YOUR_API_KEY\" target=\"_blank\" class=\"background-link last-href\" data-v-ca18938c>/api/v4/etf-holdings?<span class=\"symbol bold\">cik</span>=<span class=\"symbol\">0000036405</span>&<span class=\"symbol bold\">date</span>=<span class=\"symbol\">2021-12-31</span></a>\n",
      "\t\t\t\t\t\t\t\t</pre><h3 style=\"border:none;margin-top:20px\" data-v-ca18938c><a href=\"/developer/docs/historical-etf-holdings-api\" class=\"span-margin hoover-header integration\" data-v-ca18938c><span style=\"color:#ec407a;font-weight:600\" data-v-ca18938c>Example</span> with Javascript, JQuery, VueJS, Angular, JAVA, PHP, NodeJS, Python, Go, Ruby, C#, R, Strest, Rust, Swift and Scala</a></h3></div><!----></div></section><section class=\"contain-big-section\" data-v-ca18938c><div data-v-ca18938c>HISTORICAL NUMBER OF EMPLOYEES</div></section><section id=\"Historical-Number-of-Employees\" class=\"section-top min-height-section\" data-v-ca18938c><h2 data-v-ca18938c><a href=\"/developer/docs/historical-numer-of-employees-api\" class=\"contain-header hoover-header\" data-v-ca18938c><div class=\"title-head\" data-v-ca18938c><div data-v-ca18938c>Historical Number of Employees <svg aria-hidden=\"true\" height=\"12\" width=\"12\" viewBox=\"0 0 16 16\" xmlns=\"http://www.w3.org/2000/svg\" class=\"SVGInline-svg SVGInline--cleaned-svg SVG-svg Icon-svg Icon--arrowRight-svg Icon-color-svg Icon-color--blue-svg\" data-v-ca18938c><path d=\"M12.583 7L7.992 2.409A1 1 0 1 1 9.407.993l6.3 6.3a1 1 0 0 1 0 1.414l-6.3 6.3a1 1 0 0 1-1.415-1.416L12.583 9H1a1 1 0 1 1 0-2z\" fill-rule=\"evenodd\" data-v-ca18938c></path></svg></div></div></a></h2><div class=\"contain-main-block\" style=\"margin-top:0\" data-v-ca18938c><div class=\"contain-block-prettyprint\" data-v-ca18938c><!----><!----><!----> <span class=\"span-margin\" data-v-ca18938c>Historical number of employees (This API endpoint is available under the Professional/Business or Enterprise plan.) <span class=\"label info-link\">JSON</span></span><pre class=\"href-pre\" data-v-ca18938c>\t\t\t\t\t\t\t\t\t<a href=\"https://financialmodelingprep.com/api/v4/historical/employee_count?symbol=AAPL&apikey=YOUR_API_KEY\" target=\"_blank\" class=\"background-link last-href\" data-v-ca18938c>/api/v4/historical/employee_count?<span class=\"symbol bold\">symbol</span>=<span class=\"symbol\">AAPL</span></a>\n",
      "\t\t\t\t\t\t\t\t</pre><h3 style=\"border:none;margin-top:20px\" data-v-ca18938c><a href=\"/developer/docs/historical-numer-of-employees-api\" class=\"span-margin hoover-header integration\" data-v-ca18938c><span style=\"color:#ec407a;font-weight:600\" data-v-ca18938c>Example</span> with Javascript, JQuery, VueJS, Angular, JAVA, PHP, NodeJS, Python, Go, Ruby, C#, R, Strest, Rust, Swift and Scala</a></h3></div><!----></div></section><section class=\"contain-big-section\" data-v-ca18938c><div data-v-ca18938c>EXECUTIVE COMPENSATION</div></section><section id=\"Executive-Compensation\" class=\"section-top min-height-section\" data-v-ca18938c><h2 data-v-ca18938c><a href=\"/developer/docs/executive-compensation-api\" class=\"contain-header hoover-header\" data-v-ca18938c><div class=\"title-head\" data-v-ca18938c><div data-v-ca18938c>Executive Compensation <svg aria-hidden=\"true\" height=\"12\" width=\"12\" viewBox=\"0 0 16 16\" xmlns=\"http://www.w3.org/2000/svg\" class=\"SVGInline-svg SVGInline--cleaned-svg SVG-svg Icon-svg Icon--arrowRight-svg Icon-color-svg Icon-color--blue-svg\" data-v-ca18938c><path d=\"M12.583 7L7.992 2.409A1 1 0 1 1 9.407.993l6.3 6.3a1 1 0 0 1 0 1.414l-6.3 6.3a1 1 0 0 1-1.415-1.416L12.583 9H1a1 1 0 1 1 0-2z\" fill-rule=\"evenodd\" data-v-ca18938c></path></svg></div></div></a></h2><div class=\"contain-main-block\" style=\"margin-top:0\" data-v-ca18938c><div class=\"contain-block-prettyprint\" data-v-ca18938c><!----><!----><!----> <span class=\"span-margin\" data-v-ca18938c>Executive Compensation (This API endpoint is available under the Professional/Business or Enterprise plan.) <span class=\"label info-link\">JSON</span></span><pre class=\"href-pre\" data-v-ca18938c>\t\t\t\t\t\t\t\t\t<a href=\"https://financialmodelingprep.com/api/v4/governance/executive_compensation?symbol=AAPL&apikey=YOUR_API_KEY\" target=\"_blank\" class=\"background-link\" data-v-ca18938c>/api/v4/governance/executive_compensation?<span class=\"symbol bold\">symbol</span>=<span class=\"symbol\">AAPL</span></a>\n",
      "\t\t\t\t\t\t\t\t</pre><!----></div><!----></div><div class=\"contain-main-block margin-head-top-top-pretty\" style=\"margin-top:0\" data-v-ca18938c><div class=\"contain-block-prettyprint\" data-v-ca18938c><!----><!----><!----> <span class=\"span-margin\" data-v-ca18938c>Executive Compensation benchmark <span class=\"label info-link\">JSON</span></span><pre class=\"href-pre\" data-v-ca18938c>\t\t\t\t\t\t\t\t\t<a href=\"https://financialmodelingprep.com/api/v4/executive-compensation-benchmark?year=2020&apikey=YOUR_API_KEY\" target=\"_blank\" class=\"background-link last-href\" data-v-ca18938c>/api/v4/executive-compensation-benchmark?<span class=\"symbol bold\">year</span>=<span class=\"symbol\">2020</span></a>\n",
      "\t\t\t\t\t\t\t\t</pre><h3 style=\"border:none;margin-top:20px\" data-v-ca18938c><a href=\"/developer/docs/executive-compensation-api\" class=\"span-margin hoover-header integration\" data-v-ca18938c><span style=\"color:#ec407a;font-weight:600\" data-v-ca18938c>Example</span> with Javascript, JQuery, VueJS, Angular, JAVA, PHP, NodeJS, Python, Go, Ruby, C#, R, Strest, Rust, Swift and Scala</a></h3></div><!----></div></section><section class=\"contain-big-section\" data-v-ca18938c><div data-v-ca18938c>INDIVIDUAL BENEFICIAL OWNERSHIP</div></section><section id=\"Individual-Beneficial-Ownership\" class=\"section-top min-height-section\" data-v-ca18938c><h2 data-v-ca18938c><a href=\"/developer/docs/individual-beneficial-ownership-api\" class=\"contain-header hoover-header\" data-v-ca18938c><div class=\"title-head\" data-v-ca18938c><div data-v-ca18938c>Individual Beneficial Ownership <svg aria-hidden=\"true\" height=\"12\" width=\"12\" viewBox=\"0 0 16 16\" xmlns=\"http://www.w3.org/2000/svg\" class=\"SVGInline-svg SVGInline--cleaned-svg SVG-svg Icon-svg Icon--arrowRight-svg Icon-color-svg Icon-color--blue-svg\" data-v-ca18938c><path d=\"M12.583 7L7.992 2.409A1 1 0 1 1 9.407.993l6.3 6.3a1 1 0 0 1 0 1.414l-6.3 6.3a1 1 0 0 1-1.415-1.416L12.583 9H1a1 1 0 1 1 0-2z\" fill-rule=\"evenodd\" data-v-ca18938c></path></svg></div></div></a></h2><div class=\"contain-main-block\" style=\"margin-top:0\" data-v-ca18938c><div class=\"contain-block-prettyprint\" data-v-ca18938c><!----><!----><!----> <span class=\"span-margin\" data-v-ca18938c>Individual Beneficial Ownership (This API endpoint is available under the Professional/Business or Enterprise plan.) <span class=\"label info-link\">JSON</span></span><pre class=\"href-pre\" data-v-ca18938c>\t\t\t\t\t\t\t\t\t<a href=\"https://financialmodelingprep.com/api/v4/insider/ownership/acquisition_of_beneficial_ownership?symbol=AAPL&apikey=YOUR_API_KEY\" target=\"_blank\" class=\"background-link last-href\" data-v-ca18938c>/api/v4/insider/ownership/acquisition_of_beneficial_ownership?<span class=\"symbol bold\">symbol</span>=<span class=\"symbol\">AAPL</span></a>\n",
      "\t\t\t\t\t\t\t\t</pre><h3 style=\"border:none;margin-top:20px\" data-v-ca18938c><a href=\"/developer/docs/individual-beneficial-ownership-api\" class=\"span-margin hoover-header integration\" data-v-ca18938c><span style=\"color:#ec407a;font-weight:600\" data-v-ca18938c>Example</span> with Javascript, JQuery, VueJS, Angular, JAVA, PHP, NodeJS, Python, Go, Ruby, C#, R, Strest, Rust, Swift and Scala</a></h3></div><!----></div></section><section class=\"contain-big-section\" data-v-ca18938c><div data-v-ca18938c>STOCK CALENDARS</div></section><section id=\"Earnings-Calendar\" class=\"section-top min-height-section\" data-v-ca18938c><h2 data-v-ca18938c><a href=\"/developer/docs/earnings-calendar-api\" class=\"contain-header hoover-header\" data-v-ca18938c><div class=\"title-head\" data-v-ca18938c><div data-v-ca18938c>Earnings Calendar <svg aria-hidden=\"true\" height=\"12\" width=\"12\" viewBox=\"0 0 16 16\" xmlns=\"http://www.w3.org/2000/svg\" class=\"SVGInline-svg SVGInline--cleaned-svg SVG-svg Icon-svg Icon--arrowRight-svg Icon-color-svg Icon-color--blue-svg\" data-v-ca18938c><path d=\"M12.583 7L7.992 2.409A1 1 0 1 1 9.407.993l6.3 6.3a1 1 0 0 1 0 1.414l-6.3 6.3a1 1 0 0 1-1.415-1.416L12.583 9H1a1 1 0 1 1 0-2z\" fill-rule=\"evenodd\" data-v-ca18938c></path></svg></div></div></a></h2><div class=\"contain-main-block\" style=\"margin-top:0\" data-v-ca18938c><div class=\"contain-block-prettyprint\" data-v-ca18938c><!----><!----><h3 data-v-ca18938c><!----> <a href=\"/developer/docs/earnings-calendar-api#Company-Earnings-Calendar\" class=\"contain-header hoover-header\" data-v-ca18938c><div class=\"lower-title\" data-v-ca18938c>Company Earnings Calendar</div></a></h3><span class=\"span-margin\" data-v-ca18938c>Earnings Calendar <span class=\"label info-link\">JSON</span></span><pre class=\"href-pre\" data-v-ca18938c>\t\t\t\t\t\t\t\t\t<a href=\"https://financialmodelingprep.com/api/v3/earning_calendar?apikey=YOUR_API_KEY\" target=\"_blank\" class=\"background-link\" data-v-ca18938c>/api/v3/<span class=\"symbol\">earning_calendar</span></a>\n",
      "\t\t\t\t\t\t\t\t</pre><!----></div><!----></div><div class=\"contain-main-block margin-head-top-top-pretty\" style=\"margin-top:0\" data-v-ca18938c><div class=\"contain-block-prettyprint\" data-v-ca18938c><!----><!----><!----> <span class=\"span-margin\" data-v-ca18938c>Earnings Calendar with time period <span class=\"bold\">(between the \"from\" and \"to\" parameters the maximum time interval can be 3 months)</span> <span class=\"label info-link\">JSON</span></span><pre class=\"href-pre\" data-v-ca18938c>\t\t\t\t\t\t\t\t\t<a href=\"https://financialmodelingprep.com/api/v3/earning_calendar?from=2010-03-10&to=2010-05-11&apikey=YOUR_API_KEY\" target=\"_blank\" class=\"background-link\" data-v-ca18938c>/api/v3/earning_calendar?<span class=\"symbol bold\">from</span>=2010-03-10&<span class=\"symbol bold\">to</span>=2010-05-11</a>\n",
      "\t\t\t\t\t\t\t\t</pre><!----></div><!----></div><div class=\"contain-main-block\" style=\"margin-top:0\" data-v-ca18938c><div class=\"contain-block-prettyprint\" data-v-ca18938c><!----><!----><h3 class=\"margin-head\" data-v-ca18938c><!----> <a href=\"/developer/docs/earnings-calendar-api#Company-Historical-Earnings-Calendar\" class=\"contain-header hoover-header\" data-v-ca18938c><div class=\"lower-title\" data-v-ca18938c>Company Historical Earnings Calendar</div></a></h3><span class=\"span-margin\" data-v-ca18938c>Historical Earnings Calendar <span class=\"label info-link\">JSON</span></span><pre class=\"href-pre\" data-v-ca18938c>\t\t\t\t\t\t\t\t\t<a href=\"https://financialmodelingprep.com/api/v3/historical/earning_calendar/AAPL?limit=80&apikey=YOUR_API_KEY\" target=\"_blank\" class=\"background-link last-href\" data-v-ca18938c>/api/v3/historical/earning_calendar/<span class=\"symbol\">AAPL</span>?<span class=\"symbol bold\">limit</span>=<span class=\"symbol\">80</span></a>\n",
      "\t\t\t\t\t\t\t\t</pre><h3 style=\"border:none;margin-top:20px\" data-v-ca18938c><a href=\"/developer/docs/earnings-calendar-api\" class=\"span-margin hoover-header integration\" data-v-ca18938c><span style=\"color:#ec407a;font-weight:600\" data-v-ca18938c>Example</span> with Javascript, JQuery, VueJS, Angular, JAVA, PHP, NodeJS, Python, Go, Ruby, C#, R, Strest, Rust, Swift and Scala</a></h3></div><!----></div></section><section id=\"Earnings-Calendar-Confirmed\" class=\"section-top min-height-section\" data-v-ca18938c><h2 data-v-ca18938c><a href=\"/developer/docs/earnings-calendar-confirmed-api\" class=\"contain-header hoover-header\" data-v-ca18938c><div class=\"title-head\" data-v-ca18938c><div data-v-ca18938c>Earnings Calendar Confirmed <svg aria-hidden=\"true\" height=\"12\" width=\"12\" viewBox=\"0 0 16 16\" xmlns=\"http://www.w3.org/2000/svg\" class=\"SVGInline-svg SVGInline--cleaned-svg SVG-svg Icon-svg Icon--arrowRight-svg Icon-color-svg Icon-color--blue-svg\" data-v-ca18938c><path d=\"M12.583 7L7.992 2.409A1 1 0 1 1 9.407.993l6.3 6.3a1 1 0 0 1 0 1.414l-6.3 6.3a1 1 0 0 1-1.415-1.416L12.583 9H1a1 1 0 1 1 0-2z\" fill-rule=\"evenodd\" data-v-ca18938c></path></svg></div></div></a></h2><div class=\"contain-main-block\" style=\"margin-top:0\" data-v-ca18938c><div class=\"contain-block-prettyprint\" data-v-ca18938c><!----><!----><!----> <span class=\"span-margin\" data-v-ca18938c>Earnings calendar confirmed <span class=\"bold\">(between the \"from\" and \"to\" parameters the maximum time interval can be 3 months)</span> <span class=\"label info-link\">JSON</span></span><pre class=\"href-pre\" data-v-ca18938c>\t\t\t\t\t\t\t\t\t<a href=\"https://financialmodelingprep.com/api/v4/earning-calendar-confirmed?from=2021-11-10&to=2022-02-01&apikey=YOUR_API_KEY\" target=\"_blank\" class=\"background-link last-href\" data-v-ca18938c>/api/v4/earning-calendar-confirmed?<span class=\"symbol bold\">from</span>=<span class=\"symbol\">2021-11-10</span>&<span class=\"symbol bold\">to</span>=<span class=\"symbol\">2022-02-01</span>=0</a>\n",
      "\t\t\t\t\t\t\t\t</pre><h3 style=\"border:none;margin-top:20px\" data-v-ca18938c><a href=\"/developer/docs/earnings-calendar-confirmed-api\" class=\"span-margin hoover-header integration\" data-v-ca18938c><span style=\"color:#ec407a;font-weight:600\" data-v-ca18938c>Example</span> with Javascript, JQuery, VueJS, Angular, JAVA, PHP, NodeJS, Python, Go, Ruby, C#, R, Strest, Rust, Swift and Scala</a></h3></div><!----></div></section><section id=\"IPO-Calendar\" class=\"section-top min-height-section\" data-v-ca18938c><h2 data-v-ca18938c><a href=\"/developer/docs/ipo-calendar-api\" class=\"contain-header hoover-header\" data-v-ca18938c><div class=\"title-head\" data-v-ca18938c><div data-v-ca18938c>IPO Calendar <svg aria-hidden=\"true\" height=\"12\" width=\"12\" viewBox=\"0 0 16 16\" xmlns=\"http://www.w3.org/2000/svg\" class=\"SVGInline-svg SVGInline--cleaned-svg SVG-svg Icon-svg Icon--arrowRight-svg Icon-color-svg Icon-color--blue-svg\" data-v-ca18938c><path d=\"M12.583 7L7.992 2.409A1 1 0 1 1 9.407.993l6.3 6.3a1 1 0 0 1 0 1.414l-6.3 6.3a1 1 0 0 1-1.415-1.416L12.583 9H1a1 1 0 1 1 0-2z\" fill-rule=\"evenodd\" data-v-ca18938c></path></svg></div></div></a></h2><div class=\"contain-main-block\" style=\"margin-top:0\" data-v-ca18938c><div class=\"contain-block-prettyprint\" data-v-ca18938c><!----><!----><!----> <span class=\"span-margin\" data-v-ca18938c>IPO Calendar for time period <span class=\"bold\">(between the \"from\" and \"to\" parameters the maximum time interval can be 3 months)</span> <span class=\"label info-link\">JSON</span></span><pre class=\"href-pre\" data-v-ca18938c>\t\t\t\t\t\t\t\t\t<a href=\"https://financialmodelingprep.com/api/v3/ipo_calendar?from=2020-09-01&to=2020-11-01&apikey=YOUR_API_KEY\" target=\"_blank\" class=\"background-link last-href\" data-v-ca18938c>/api/v3/<span class=\"symbol\">ipo_calendar</span>?<span class=\"symbol bold\">from</span>=2020-09-01&<span class=\"symbol bold\">to</span>=2020-11-01</a>\n",
      "\t\t\t\t\t\t\t\t</pre><h3 style=\"border:none;margin-top:20px\" data-v-ca18938c><a href=\"/developer/docs/ipo-calendar-api\" class=\"span-margin hoover-header integration\" data-v-ca18938c><span style=\"color:#ec407a;font-weight:600\" data-v-ca18938c>Example</span> with Javascript, JQuery, VueJS, Angular, JAVA, PHP, NodeJS, Python, Go, Ruby, C#, R, Strest, Rust, Swift and Scala</a></h3></div><!----></div></section><section id=\"IPO-calendar-with-prospectus\" class=\"section-top min-height-section\" data-v-ca18938c><h2 data-v-ca18938c><a href=\"/developer/docs/ipo-calendar-with-prospectus-api\" class=\"contain-header hoover-header\" data-v-ca18938c><div class=\"title-head\" data-v-ca18938c><div data-v-ca18938c>IPO calendar with prospectus <svg aria-hidden=\"true\" height=\"12\" width=\"12\" viewBox=\"0 0 16 16\" xmlns=\"http://www.w3.org/2000/svg\" class=\"SVGInline-svg SVGInline--cleaned-svg SVG-svg Icon-svg Icon--arrowRight-svg Icon-color-svg Icon-color--blue-svg\" data-v-ca18938c><path d=\"M12.583 7L7.992 2.409A1 1 0 1 1 9.407.993l6.3 6.3a1 1 0 0 1 0 1.414l-6.3 6.3a1 1 0 0 1-1.415-1.416L12.583 9H1a1 1 0 1 1 0-2z\" fill-rule=\"evenodd\" data-v-ca18938c></path></svg></div></div></a></h2><div class=\"contain-main-block\" style=\"margin-top:0\" data-v-ca18938c><div class=\"contain-block-prettyprint\" data-v-ca18938c><!----><!----><!----> <span class=\"span-margin\" data-v-ca18938c>IPO Calendar with prospectus <span class=\"bold\">(between the \"from\" and \"to\" parameters the maximum time interval can be 3 months)</span> <span class=\"label info-link\">JSON</span></span><pre class=\"href-pre\" data-v-ca18938c>\t\t\t\t\t\t\t\t\t<a href=\"https://financialmodelingprep.com/api/v4/ipo-calendar-prospectus?from=2021-11-10&to=2022-02-01&apikey=YOUR_API_KEY\" target=\"_blank\" class=\"background-link last-href\" data-v-ca18938c>/api/v4/ipo-calendar-prospectus?<span class=\"symbol bold\">from</span>=<span class=\"symbol\">2021-11-10</span>&<span class=\"symbol bold\">to</span>=<span class=\"symbol\">2022-02-01</span>=0</a>\n",
      "\t\t\t\t\t\t\t\t</pre><h3 style=\"border:none;margin-top:20px\" data-v-ca18938c><a href=\"/developer/docs/ipo-calendar-with-prospectus-api\" class=\"span-margin hoover-header integration\" data-v-ca18938c><span style=\"color:#ec407a;font-weight:600\" data-v-ca18938c>Example</span> with Javascript, JQuery, VueJS, Angular, JAVA, PHP, NodeJS, Python, Go, Ruby, C#, R, Strest, Rust, Swift and Scala</a></h3></div><!----></div></section><section id=\"IPO-calendar-Confirmed\" class=\"section-top min-height-section\" data-v-ca18938c><h2 data-v-ca18938c><a href=\"/developer/docs/ipo-calendar-confirmed-api\" class=\"contain-header hoover-header\" data-v-ca18938c><div class=\"title-head\" data-v-ca18938c><div data-v-ca18938c>IPO calendar Confirmed <svg aria-hidden=\"true\" height=\"12\" width=\"12\" viewBox=\"0 0 16 16\" xmlns=\"http://www.w3.org/2000/svg\" class=\"SVGInline-svg SVGInline--cleaned-svg SVG-svg Icon-svg Icon--arrowRight-svg Icon-color-svg Icon-color--blue-svg\" data-v-ca18938c><path d=\"M12.583 7L7.992 2.409A1 1 0 1 1 9.407.993l6.3 6.3a1 1 0 0 1 0 1.414l-6.3 6.3a1 1 0 0 1-1.415-1.416L12.583 9H1a1 1 0 1 1 0-2z\" fill-rule=\"evenodd\" data-v-ca18938c></path></svg></div></div></a></h2><div class=\"contain-main-block\" style=\"margin-top:0\" data-v-ca18938c><div class=\"contain-block-prettyprint\" data-v-ca18938c><!----><!----><!----> <span class=\"span-margin\" data-v-ca18938c>IPO Calendar confirmed <span class=\"bold\">(between the \"from\" and \"to\" parameters the maximum time interval can be 3 months)</span> <span class=\"label info-link\">JSON</span></span><pre class=\"href-pre\" data-v-ca18938c>\t\t\t\t\t\t\t\t\t<a href=\"https://financialmodelingprep.com/api/v4/ipo-calendar-confirmed?from=2021-11-10&to=2022-02-01&apikey=YOUR_API_KEY\" target=\"_blank\" class=\"background-link last-href\" data-v-ca18938c>/api/v4/ipo-calendar-confirmed?<span class=\"symbol bold\">from</span>=<span class=\"symbol\">2021-11-10</span>&<span class=\"symbol bold\">to</span>=<span class=\"symbol\">2022-02-01</span></a>\n",
      "\t\t\t\t\t\t\t\t</pre><h3 style=\"border:none;margin-top:20px\" data-v-ca18938c><a href=\"/developer/docs/ipo-calendar-confirmed-api\" class=\"span-margin hoover-header integration\" data-v-ca18938c><span style=\"color:#ec407a;font-weight:600\" data-v-ca18938c>Example</span> with Javascript, JQuery, VueJS, Angular, JAVA, PHP, NodeJS, Python, Go, Ruby, C#, R, Strest, Rust, Swift and Scala</a></h3></div><!----></div></section><section id=\"Stock-Split-Calendar\" class=\"section-top min-height-section\" data-v-ca18938c><h2 data-v-ca18938c><a href=\"/developer/docs/stock-split-calendar-api\" class=\"contain-header hoover-header\" data-v-ca18938c><div class=\"title-head\" data-v-ca18938c><div data-v-ca18938c>Stock Split Calendar <svg aria-hidden=\"true\" height=\"12\" width=\"12\" viewBox=\"0 0 16 16\" xmlns=\"http://www.w3.org/2000/svg\" class=\"SVGInline-svg SVGInline--cleaned-svg SVG-svg Icon-svg Icon--arrowRight-svg Icon-color-svg Icon-color--blue-svg\" data-v-ca18938c><path d=\"M12.583 7L7.992 2.409A1 1 0 1 1 9.407.993l6.3 6.3a1 1 0 0 1 0 1.414l-6.3 6.3a1 1 0 0 1-1.415-1.416L12.583 9H1a1 1 0 1 1 0-2z\" fill-rule=\"evenodd\" data-v-ca18938c></path></svg></div></div></a></h2><div class=\"contain-main-block\" style=\"margin-top:0\" data-v-ca18938c><div class=\"contain-block-prettyprint\" data-v-ca18938c><!----><!----><!----> <span class=\"span-margin\" data-v-ca18938c>Stock Split Calendar for time period <span class=\"bold\">(between the \"from\" and \"to\" parameters the maximum time interval can be 3 months)</span> <span class=\"label info-link\">JSON</span></span><pre class=\"href-pre\" data-v-ca18938c>\t\t\t\t\t\t\t\t\t<a href=\"https://financialmodelingprep.com/api/v3/stock_split_calendar?from=2020-06-01&to=2020-09-10&apikey=YOUR_API_KEY\" target=\"_blank\" class=\"background-link last-href\" data-v-ca18938c>/api/v3/<span class=\"symbol\">stock_split_calendar</span>?<span class=\"symbol bold\">from</span>=2020-06-01&<span class=\"symbol bold\">to</span>=2020-09-10</a>\n",
      "\t\t\t\t\t\t\t\t</pre><h3 style=\"border:none;margin-top:20px\" data-v-ca18938c><a href=\"/developer/docs/stock-split-calendar-api\" class=\"span-margin hoover-header integration\" data-v-ca18938c><span style=\"color:#ec407a;font-weight:600\" data-v-ca18938c>Example</span> with Javascript, JQuery, VueJS, Angular, JAVA, PHP, NodeJS, Python, Go, Ruby, C#, R, Strest, Rust, Swift and Scala</a></h3></div><!----></div></section><section id=\"Dividend-Calendar\" class=\"section-top min-height-section\" data-v-ca18938c><h2 data-v-ca18938c><a href=\"/developer/docs/dividend-calendar-api\" class=\"contain-header hoover-header\" data-v-ca18938c><div class=\"title-head\" data-v-ca18938c><div data-v-ca18938c>Dividend Calendar <svg aria-hidden=\"true\" height=\"12\" width=\"12\" viewBox=\"0 0 16 16\" xmlns=\"http://www.w3.org/2000/svg\" class=\"SVGInline-svg SVGInline--cleaned-svg SVG-svg Icon-svg Icon--arrowRight-svg Icon-color-svg Icon-color--blue-svg\" data-v-ca18938c><path d=\"M12.583 7L7.992 2.409A1 1 0 1 1 9.407.993l6.3 6.3a1 1 0 0 1 0 1.414l-6.3 6.3a1 1 0 0 1-1.415-1.416L12.583 9H1a1 1 0 1 1 0-2z\" fill-rule=\"evenodd\" data-v-ca18938c></path></svg></div></div></a></h2><div class=\"contain-main-block\" style=\"margin-top:0\" data-v-ca18938c><div class=\"contain-block-prettyprint\" data-v-ca18938c><!----><!----><!----> <span class=\"span-margin\" data-v-ca18938c>Dividend Calendar for time period <span class=\"bold\">(between the \"from\" and \"to\" parameters the maximum time interval can be 3 months)</span> <span class=\"label info-link\">JSON</span></span><pre class=\"href-pre\" data-v-ca18938c>\t\t\t\t\t\t\t\t\t<a href=\"https://financialmodelingprep.com/api/v3/stock_dividend_calendar?from=2020-06-01&to=2020-09-10&apikey=YOUR_API_KEY\" target=\"_blank\" class=\"background-link last-href\" data-v-ca18938c>/api/v3/<span class=\"symbol\">stock_dividend_calendar</span>?<span class=\"symbol\">from</span>=2020-06-01&<span class=\"symbol\">to</span>=2020-09-10</a>\n",
      "\t\t\t\t\t\t\t\t</pre><h3 style=\"border:none;margin-top:20px\" data-v-ca18938c><a href=\"/developer/docs/dividend-calendar-api\" class=\"span-margin hoover-header integration\" data-v-ca18938c><span style=\"color:#ec407a;font-weight:600\" data-v-ca18938c>Example</span> with Javascript, JQuery, VueJS, Angular, JAVA, PHP, NodeJS, Python, Go, Ruby, C#, R, Strest, Rust, Swift and Scala</a></h3></div><!----></div></section><section id=\"Historical-Dividends\" class=\"section-top min-height-section\" data-v-ca18938c><h2 data-v-ca18938c><a href=\"/developer/docs/historical-stock-dividends-api\" class=\"contain-header hoover-header\" data-v-ca18938c><div class=\"title-head\" data-v-ca18938c><div data-v-ca18938c>Historical Dividends <svg aria-hidden=\"true\" height=\"12\" width=\"12\" viewBox=\"0 0 16 16\" xmlns=\"http://www.w3.org/2000/svg\" class=\"SVGInline-svg SVGInline--cleaned-svg SVG-svg Icon-svg Icon--arrowRight-svg Icon-color-svg Icon-color--blue-svg\" data-v-ca18938c><path d=\"M12.583 7L7.992 2.409A1 1 0 1 1 9.407.993l6.3 6.3a1 1 0 0 1 0 1.414l-6.3 6.3a1 1 0 0 1-1.415-1.416L12.583 9H1a1 1 0 1 1 0-2z\" fill-rule=\"evenodd\" data-v-ca18938c></path></svg></div></div></a></h2><div class=\"contain-main-block\" style=\"margin-top:0\" data-v-ca18938c><div class=\"contain-block-prettyprint\" data-v-ca18938c><!----><!----><h3 data-v-ca18938c><!----> <a href=\"/developer/docs/historical-stock-dividends-api#Historical-Daily-Stock-Dividend\" class=\"contain-header hoover-header\" data-v-ca18938c><div class=\"lower-title\" data-v-ca18938c>Historical Daily Stock Dividend</div></a></h3><span class=\"span-margin\" data-v-ca18938c>Stock Daily historical dividend prices <span class=\"label success\">Daily</span> <span class=\"label info-link\">JSON</span></span><pre class=\"href-pre\" data-v-ca18938c>\t\t\t\t\t\t\t\t\t<a href=\"https://financialmodelingprep.com/api/v3/historical-price-full/stock_dividend/AAPL?apikey=YOUR_API_KEY\" target=\"_blank\" class=\"background-link\" data-v-ca18938c>/api/v3/historical-price-full/stock_dividend/<span class=\"symbol\">AAPL</span></a>\n",
      "\t\t\t\t\t\t\t\t</pre><!----></div><!----></div></section><section id=\"Economic-Calendar\" class=\"section-top min-height-section\" data-v-ca18938c><h2 data-v-ca18938c><a href=\"/developer/docs/economic-calendar-api\" class=\"contain-header hoover-header\" data-v-ca18938c><div class=\"title-head\" data-v-ca18938c><div data-v-ca18938c>Economic Calendar <svg aria-hidden=\"true\" height=\"12\" width=\"12\" viewBox=\"0 0 16 16\" xmlns=\"http://www.w3.org/2000/svg\" class=\"SVGInline-svg SVGInline--cleaned-svg SVG-svg Icon-svg Icon--arrowRight-svg Icon-color-svg Icon-color--blue-svg\" data-v-ca18938c><path d=\"M12.583 7L7.992 2.409A1 1 0 1 1 9.407.993l6.3 6.3a1 1 0 0 1 0 1.414l-6.3 6.3a1 1 0 0 1-1.415-1.416L12.583 9H1a1 1 0 1 1 0-2z\" fill-rule=\"evenodd\" data-v-ca18938c></path></svg></div></div></a></h2><div class=\"contain-main-block\" style=\"margin-top:0\" data-v-ca18938c><div class=\"contain-block-prettyprint\" data-v-ca18938c><!----><!----><!----> <span class=\"span-margin\" data-v-ca18938c>Economic Calendar for time period <span class=\"bold\">(between the \"from\" and \"to\" parameters the maximum time interval can be 3 months)</span> <span class=\"label info-link\">JSON</span></span><pre class=\"href-pre\" data-v-ca18938c>\t\t\t\t\t\t\t\t\t<a href=\"https://financialmodelingprep.com/api/v3/economic_calendar?from=2021-09-05&to=2021-10-19&apikey=YOUR_API_KEY\" target=\"_blank\" class=\"background-link last-href\" data-v-ca18938c>/api/v3/<span class=\"symbol\">economic_calendar</span>?<span class=\"symbol\">from</span>=2021-09-05&<span class=\"symbol\">to</span>=2021-10-19</a>\n",
      "\t\t\t\t\t\t\t\t</pre><h3 style=\"border:none;margin-top:20px\" data-v-ca18938c><a href=\"/developer/docs/economic-calendar-api\" class=\"span-margin hoover-header integration\" data-v-ca18938c><span style=\"color:#ec407a;font-weight:600\" data-v-ca18938c>Example</span> with Javascript, JQuery, VueJS, Angular, JAVA, PHP, NodeJS, Python, Go, Ruby, C#, R, Strest, Rust, Swift and Scala</a></h3></div><!----></div></section><section class=\"contain-big-section\" data-v-ca18938c><div data-v-ca18938c>STOCK LOOK UP TOOL</div></section><section id=\"Ticker-Search\" class=\"section-top min-height-section\" data-v-ca18938c><h2 data-v-ca18938c><a href=\"/developer/docs/stock-ticker-symbol-lookup-api\" class=\"contain-header hoover-header\" data-v-ca18938c><div class=\"title-head\" data-v-ca18938c><div data-v-ca18938c>Ticker Search <svg aria-hidden=\"true\" height=\"12\" width=\"12\" viewBox=\"0 0 16 16\" xmlns=\"http://www.w3.org/2000/svg\" class=\"SVGInline-svg SVGInline--cleaned-svg SVG-svg Icon-svg Icon--arrowRight-svg Icon-color-svg Icon-color--blue-svg\" data-v-ca18938c><path d=\"M12.583 7L7.992 2.409A1 1 0 1 1 9.407.993l6.3 6.3a1 1 0 0 1 0 1.414l-6.3 6.3a1 1 0 0 1-1.415-1.416L12.583 9H1a1 1 0 1 1 0-2z\" fill-rule=\"evenodd\" data-v-ca18938c></path></svg></div></div></a></h2><div class=\"contain-main-block\" style=\"margin-top:0\" data-v-ca18938c><div class=\"contain-block-prettyprint\" data-v-ca18938c><!----><!----><!----> <span class=\"span-margin\" data-v-ca18938c>Search via ticker and company name:<br>Values for exchange parameter are: ETF | MUTUAL_FUND | COMMODITY | INDEX | CRYPTO | FOREX | TSX | AMEX | NASDAQ | NYSE | EURONEXT | XETRA | NSE | LSE</span><pre class=\"href-pre\" data-v-ca18938c>\t\t\t\t\t\t\t\t\t<a href=\"https://financialmodelingprep.com/api/v3/search?query=AA&limit=10&exchange=NASDAQ&apikey=YOUR_API_KEY\" target=\"_blank\" class=\"background-link\" data-v-ca18938c>/api/v3/search?<span class=\"symbol bold\">query</span>=<span class=\"symbol\">AA</span>&<span class=\"symbol bold\">limit</span>=<span class=\"symbol\">10</span>&<span class=\"symbol bold\">exchange</span>=<span class=\"symbol\">NASDAQ</span></a>\n",
      "\t\t\t\t\t\t\t\t</pre><!----></div><!----></div><div class=\"contain-main-block margin-head-top-top-pretty\" style=\"margin-top:0\" data-v-ca18938c><div class=\"contain-block-prettyprint\" data-v-ca18938c><!----><!----><!----> <span class=\"span-margin\" style=\"margin-top:30px\" data-v-ca18938c>Search only via ticker</span><pre class=\"href-pre\" data-v-ca18938c>\t\t\t\t\t\t\t\t\t<a href=\"https://financialmodelingprep.com/api/v3/search-ticker?query=AA&limit=10&exchange=NASDAQ&apikey=YOUR_API_KEY\" target=\"_blank\" class=\"background-link\" data-v-ca18938c>/api/v3/search-ticker?<span class=\"symbol bold\">query</span>=<span class=\"symbol\">AA</span>&<span class=\"symbol bold\">limit</span>=<span class=\"symbol\">10</span>&<span class=\"symbol bold\">exchange</span>=<span class=\"symbol\">NASDAQ</span></a>\n",
      "\t\t\t\t\t\t\t\t</pre><!----></div><!----></div><div class=\"contain-main-block\" style=\"margin-top:0\" data-v-ca18938c><div class=\"contain-block-prettyprint\" data-v-ca18938c><!----><!----><!----> <span class=\"span-margin\" data-v-ca18938c>Search only via company name</span><pre class=\"href-pre\" data-v-ca18938c>\t\t\t\t\t\t\t\t\t<a href=\"https://financialmodelingprep.com/api/v3/search-name?query=meta&limit=10&exchange=NASDAQ&apikey=YOUR_API_KEY\" target=\"_blank\" class=\"background-link last-href\" data-v-ca18938c>/api/v3/search-name?<span class=\"symbol bold\">query</span>=<span class=\"symbol\">meta</span>&<span class=\"symbol bold\">limit</span>=<span class=\"symbol\">10</span>&<span class=\"symbol bold\">exchange</span>=<span class=\"symbol\">NASDAQ</span></a>\n",
      "\t\t\t\t\t\t\t\t</pre><h3 style=\"border:none;margin-top:20px\" data-v-ca18938c><a href=\"/developer/docs/stock-ticker-symbol-lookup-api\" class=\"span-margin hoover-header integration\" data-v-ca18938c><span style=\"color:#ec407a;font-weight:600\" data-v-ca18938c>Example</span> with Javascript, JQuery, VueJS, Angular, JAVA, PHP, NodeJS, Python, Go, Ruby, C#, R, Strest, Rust, Swift and Scala</a></h3></div><!----></div></section><section id=\"Stock-Screener\" class=\"section-top min-height-section\" data-v-ca18938c><h2 data-v-ca18938c><a href=\"/developer/docs/stock-screener-api\" class=\"contain-header hoover-header\" data-v-ca18938c><div class=\"title-head\" data-v-ca18938c><div data-v-ca18938c>Stock Screener <svg aria-hidden=\"true\" height=\"12\" width=\"12\" viewBox=\"0 0 16 16\" xmlns=\"http://www.w3.org/2000/svg\" class=\"SVGInline-svg SVGInline--cleaned-svg SVG-svg Icon-svg Icon--arrowRight-svg Icon-color-svg Icon-color--blue-svg\" data-v-ca18938c><path d=\"M12.583 7L7.992 2.409A1 1 0 1 1 9.407.993l6.3 6.3a1 1 0 0 1 0 1.414l-6.3 6.3a1 1 0 0 1-1.415-1.416L12.583 9H1a1 1 0 1 1 0-2z\" fill-rule=\"evenodd\" data-v-ca18938c></path></svg></div></div></a></h2><div class=\"contain-main-block\" style=\"margin-top:0\" data-v-ca18938c><div class=\"contain-block-prettyprint\" data-v-ca18938c><!----><!----><h3 data-v-ca18938c><!----> <a href=\"/developer/docs/stock-screener-api#Company-Stock-Screener\" class=\"contain-header hoover-header\" data-v-ca18938c><div class=\"lower-title\" data-v-ca18938c>Company Stock Screener</div></a></h3><span class=\"span-margin\" data-v-ca18938c>Stock Screener <span class=\"label warning\">Hign Usage</span> <span class=\"label info-link\">JSON</span><ul style=\"padding-left:0;margin-top:10px;margin-bottom:20px\"><li>marketCapMoreThan & marketCapLowerThan : <span class=\"symbol bold\">Number</span></li><li>priceMoreThan & priceLowerThan : <span class=\"symbol bold\">Number</span></li><li>betaMoreThan & betaLowerThan : <span class=\"symbol bold\">Number</span></li><li>volumeMoreThan & volumeLowerThan : <span class=\"symbol bold\">Number</span></li><li>dividendMoreThan & dividendLowerThan : <span class=\"symbol bold\">Number</span></li><li>isEtf & isActivelyTrading : <span class=\"symbol bold\">true/false</span></li><li>sector : <span style=\"font-size:11px\">Consumer Cyclical - Energy - Technology - Industrials - Financial Services - Basic Materials - Communication Services - Consumer Defensive - Healthcare - Real Estate - Utilities - Industrial Goods - Financial - Services - Conglomerates</span></li><li>Industry : <span style=\"font-size:11px\">Autos - Banks - Banks Diversified - Software - Banks Regional - Beverages Alcoholic - Beverages Brewers - Beverages Non-Alcoholic</span></li><li>Country : <span style=\"font-size:11px\">US - UK - MX - BR - RU - HK - CA - ...</span></li><li>exchange : <span style=\"font-size:11px\">nyse - nasdaq - amex - euronext - tsx - etf - mutual_fund</span></li><li>limit : <span class=\"symbol bold\">Number</span></li></ul></span><pre class=\"href-pre\" data-v-ca18938c>\t\t\t\t\t\t\t\t\t<a href=\"https://financialmodelingprep.com/api/v3/stock-screener?marketCapMoreThan=1000000000&betaMoreThan=1&volumeMoreThan=10000&sector=Technology&exchange=NASDAQ&dividendMoreThan=0&limit=100&apikey=YOUR_API_KEY\" target=\"_blank\" class=\"background-link\" data-v-ca18938c>/api/v3/stock-screener?<span class=\"symbol bold\">marketCapMoreThan</span>=<span class=\"bold\">1000000000</span>&<span class=\"symbol bold\">betaMoreThan</span>=<span class=\"bold\">1</span>&<span class=\"symbol bold\">volumeMoreThan</span>=<span class=\"bold\">10000</span>&<span class=\"symbol bold\">sector</span>=<span class=\"bold\">Technology</span>&<span class=\"symbol bold\">exchange</span>=<span class=\"bold\">NASDAQ</span>&<span class=\"symbol bold\">dividendMoreThan</span>=<span class=\"bold\">0</span>&<span class=\"symbol bold\">limit</span>=<span class=\"bold\">100</span></a>\n",
      "\t\t\t\t\t\t\t\t</pre><!----></div><!----></div><div class=\"contain-main-block\" style=\"margin-top:0\" data-v-ca18938c><div class=\"contain-block-prettyprint\" data-v-ca18938c><!----><!----><!----> <span class=\"span-margin\" data-v-ca18938c>Industry example</span><pre class=\"href-pre\" data-v-ca18938c>\t\t\t\t\t\t\t\t\t<a href=\"https://financialmodelingprep.com/api/v3/stock-screener?marketCapMoreThan=1000000000&betaMoreThan=1&volumeMoreThan=10000&sector=Technology&industry=Software&exchange=NASDAQ&dividendMoreThan=0&limit=100&apikey=YOUR_API_KEY\" target=\"_blank\" class=\"background-link\" data-v-ca18938c>/api/v3/stock-screener?<span class=\"symbol bold\">marketCapMoreThan</span>=<span class=\"bold\">1000000000</span>&<span class=\"symbol bold\">betaMoreThan</span>=<span class=\"bold\">1</span>&<span class=\"symbol bold\">volumeMoreThan</span>=<span class=\"bold\">10000</span>&<span class=\"symbol bold\">sector</span>=<span class=\"bold\">Technology</span>&<span class=\"symbol bold\">industry</span>=<span class=\"bold\">Software</span>&<span class=\"symbol bold\">exchange</span>=<span class=\"bold\">NASDAQ</span>&<span class=\"symbol bold\">dividendMoreThan</span>=<span class=\"bold\">0</span>&<span class=\"symbol bold\">limit</span>=<span class=\"bold\">100</span></a>\n",
      "\t\t\t\t\t\t\t\t</pre><!----></div><!----></div><div class=\"contain-main-block\" style=\"margin-top:0\" data-v-ca18938c><div class=\"contain-block-prettyprint\" data-v-ca18938c><!----><!----><!----> <span class=\"span-margin\" data-v-ca18938c>Multiple exchanges example</span><pre class=\"href-pre\" data-v-ca18938c>\t\t\t\t\t\t\t\t\t<a href=\"https://financialmodelingprep.com/api/v3/stock-screener?marketCapLowerThan=10000000000000&betaMoreThan=1&volumeMoreThan=100&exchange=NYSE,NASDAQ&apikey=YOUR_API_KEY\" target=\"_blank\" class=\"background-link\" data-v-ca18938c>/api/v3/stock-screener?<span class=\"symbol bold\">marketCapLowerThan</span>=<span class=\"bold\">10000000000000</span>&<span class=\"symbol bold\">betaMoreThan</span>=<span class=\"bold\">1</span>&<span class=\"symbol bold\">volumeMoreThan</span>=<span class=\"bold\">100</span>&<span class=\"symbol bold\">exchange</span>=<span class=\"bold\">NYSE,NASDAQ</span></a>\n",
      "\t\t\t\t\t\t\t\t</pre><!----></div><!----></div><div class=\"contain-main-block\" style=\"margin-top:0\" data-v-ca18938c><div class=\"contain-block-prettyprint\" data-v-ca18938c><!----><!----><!----> <span class=\"span-margin\" data-v-ca18938c>Country example</span><pre class=\"href-pre\" data-v-ca18938c>\t\t\t\t\t\t\t\t\t<a href=\"https://financialmodelingprep.com/api/v3/stock-screener?limit=100&priceMoreThan=100&country=CA&apikey=YOUR_API_KEY\" target=\"_blank\" class=\"background-link\" data-v-ca18938c>/api/v3/stock-screener?<span class=\"symbol bold\">limit</span>=<span class=\"bold\">100</span>&<span class=\"symbol bold\">priceMoreThan</span>=<span class=\"bold\">100</span>&<span class=\"symbol bold\">country</span>=<span class=\"bold\">CA</span></a>\n",
      "\t\t\t\t\t\t\t\t</pre><!----></div><!----></div><div class=\"contain-main-block margin-bigger\" style=\"margin-top:0\" data-v-ca18938c><div class=\"contain-block-prettyprint\" data-v-ca18938c><!----><!----><!----> <span class=\"span-margin\" data-v-ca18938c>List of countries <span class=\"label info-link\">JSON</span></span><pre class=\"href-pre\" data-v-ca18938c>\t\t\t\t\t\t\t\t\t<a href=\"https://financialmodelingprep.com/api/v3/get-all-countries?apikey=YOUR_API_KEY\" target=\"_blank\" class=\"background-link last-href\" data-v-ca18938c>/api/v3/<span class=\"symbol\">get-all-countries</span></a>\n",
      "\t\t\t\t\t\t\t\t</pre><h3 style=\"border:none;margin-top:20px\" data-v-ca18938c><a href=\"/developer/docs/stock-screener-api\" class=\"span-margin hoover-header integration\" data-v-ca18938c><span style=\"color:#ec407a;font-weight:600\" data-v-ca18938c>Example</span> with Javascript, JQuery, VueJS, Angular, JAVA, PHP, NodeJS, Python, Go, Ruby, C#, R, Strest, Rust, Swift and Scala</a></h3></div><!----></div></section><section class=\"contain-big-section\" data-v-ca18938c><div data-v-ca18938c>COMPANY INFORMATION</div></section><section id=\"Company-Profile\" class=\"section-top min-height-section\" data-v-ca18938c><h2 data-v-ca18938c><a href=\"/developer/docs/companies-key-stats-free-api\" class=\"contain-header hoover-header\" data-v-ca18938c><div class=\"title-head\" data-v-ca18938c><div data-v-ca18938c>Company Profile <svg aria-hidden=\"true\" height=\"12\" width=\"12\" viewBox=\"0 0 16 16\" xmlns=\"http://www.w3.org/2000/svg\" class=\"SVGInline-svg SVGInline--cleaned-svg SVG-svg Icon-svg Icon--arrowRight-svg Icon-color-svg Icon-color--blue-svg\" data-v-ca18938c><path d=\"M12.583 7L7.992 2.409A1 1 0 1 1 9.407.993l6.3 6.3a1 1 0 0 1 0 1.414l-6.3 6.3a1 1 0 0 1-1.415-1.416L12.583 9H1a1 1 0 1 1 0-2z\" fill-rule=\"evenodd\" data-v-ca18938c></path></svg></div></div></a></h2><div class=\"contain-main-block\" style=\"margin-top:0\" data-v-ca18938c><div class=\"contain-block-prettyprint\" data-v-ca18938c><!----><!----><!----> <span class=\"span-margin\" data-v-ca18938c>Companies profile <span class=\"label info\">Minute</span> <span class=\"label info-link\">JSON</span></span><pre class=\"href-pre\" data-v-ca18938c>\t\t\t\t\t\t\t\t\t<a href=\"https://financialmodelingprep.com/api/v3/profile/AAPL?apikey=YOUR_API_KEY\" target=\"_blank\" class=\"background-link last-href\" data-v-ca18938c>/api/v3/profile/<span class=\"symbol\">AAPL</span></a>\n",
      "\t\t\t\t\t\t\t\t</pre><h3 style=\"border:none;margin-top:20px\" data-v-ca18938c><a href=\"/developer/docs/companies-key-stats-free-api\" class=\"span-margin hoover-header integration\" data-v-ca18938c><span style=\"color:#ec407a;font-weight:600\" data-v-ca18938c>Example</span> with Javascript, JQuery, VueJS, Angular, JAVA, PHP, NodeJS, Python, Go, Ruby, C#, R, Strest, Rust, Swift and Scala</a></h3></div><!----></div></section><section id=\"Key-Executives\" class=\"section-top min-height-section\" data-v-ca18938c><h2 data-v-ca18938c><a href=\"/developer/docs/key-executives-api\" class=\"contain-header hoover-header\" data-v-ca18938c><div class=\"title-head\" data-v-ca18938c><div data-v-ca18938c>Key Executives <svg aria-hidden=\"true\" height=\"12\" width=\"12\" viewBox=\"0 0 16 16\" xmlns=\"http://www.w3.org/2000/svg\" class=\"SVGInline-svg SVGInline--cleaned-svg SVG-svg Icon-svg Icon--arrowRight-svg Icon-color-svg Icon-color--blue-svg\" data-v-ca18938c><path d=\"M12.583 7L7.992 2.409A1 1 0 1 1 9.407.993l6.3 6.3a1 1 0 0 1 0 1.414l-6.3 6.3a1 1 0 0 1-1.415-1.416L12.583 9H1a1 1 0 1 1 0-2z\" fill-rule=\"evenodd\" data-v-ca18938c></path></svg></div></div></a></h2><div class=\"contain-main-block\" style=\"margin-top:0\" data-v-ca18938c><div class=\"contain-block-prettyprint\" data-v-ca18938c><!----><!----><!----> <span class=\"span-margin\" data-v-ca18938c>Company executives <span class=\"label info-link\">JSON</span></span><pre class=\"href-pre\" data-v-ca18938c>\t\t\t\t\t\t\t\t\t<a href=\"https://financialmodelingprep.com/api/v3/key-executives/AAPL?apikey=YOUR_API_KEY\" target=\"_blank\" class=\"background-link last-href\" data-v-ca18938c>/api/v3/key-executives/<span class=\"symbol\">AAPL</span></a>\n",
      "\t\t\t\t\t\t\t\t</pre><h3 style=\"border:none;margin-top:20px\" data-v-ca18938c><a href=\"/developer/docs/key-executives-api\" class=\"span-margin hoover-header integration\" data-v-ca18938c><span style=\"color:#ec407a;font-weight:600\" data-v-ca18938c>Example</span> with Javascript, JQuery, VueJS, Angular, JAVA, PHP, NodeJS, Python, Go, Ruby, C#, R, Strest, Rust, Swift and Scala</a></h3></div><!----></div></section><section id=\"Market-Capitalization\" class=\"section-top min-height-section\" data-v-ca18938c><h2 data-v-ca18938c><a href=\"/developer/docs/market-capitalization-api\" class=\"contain-header hoover-header\" data-v-ca18938c><div class=\"title-head\" data-v-ca18938c><div data-v-ca18938c>Market Capitalization <svg aria-hidden=\"true\" height=\"12\" width=\"12\" viewBox=\"0 0 16 16\" xmlns=\"http://www.w3.org/2000/svg\" class=\"SVGInline-svg SVGInline--cleaned-svg SVG-svg Icon-svg Icon--arrowRight-svg Icon-color-svg Icon-color--blue-svg\" data-v-ca18938c><path d=\"M12.583 7L7.992 2.409A1 1 0 1 1 9.407.993l6.3 6.3a1 1 0 0 1 0 1.414l-6.3 6.3a1 1 0 0 1-1.415-1.416L12.583 9H1a1 1 0 1 1 0-2z\" fill-rule=\"evenodd\" data-v-ca18938c></path></svg></div></div></a></h2><div class=\"contain-main-block\" style=\"margin-top:0\" data-v-ca18938c><div class=\"contain-block-prettyprint\" data-v-ca18938c><!----><!----><!----> <span class=\"span-margin\" data-v-ca18938c>Market capitalization <span class=\"label info-link\">JSON</span></span><pre class=\"href-pre\" data-v-ca18938c>\t\t\t\t\t\t\t\t\t<a href=\"https://financialmodelingprep.com/api/v3/market-capitalization/AAPL?apikey=YOUR_API_KEY\" target=\"_blank\" class=\"background-link\" data-v-ca18938c>/api/v3/market-capitalization/<span class=\"symbol\">AAPL</span></a>\n",
      "\t\t\t\t\t\t\t\t</pre><!----></div><!----></div><div class=\"contain-main-block margin-head-top-top-pretty\" style=\"margin-top:0\" data-v-ca18938c><div class=\"contain-block-prettyprint\" data-v-ca18938c><!----><!----><!----> <span class=\"span-margin\" data-v-ca18938c>Historical market capitalization <span class=\"label success\">Daily</span> <span class=\"label info-link\">JSON</span></span><pre class=\"href-pre\" data-v-ca18938c>\t\t\t\t\t\t\t\t\t<a href=\"https://financialmodelingprep.com/api/v3/historical-market-capitalization/AAPL?limit=100&apikey=YOUR_API_KEY\" target=\"_blank\" class=\"background-link last-href\" data-v-ca18938c>/api/v3/historical-market-capitalization/<span class=\"symbol\">AAPL</span>?<span class=\"symbol bold\">limit</span>=<span class=\"symbol\">100</span></a>\n",
      "\t\t\t\t\t\t\t\t</pre><h3 style=\"border:none;margin-top:20px\" data-v-ca18938c><a href=\"/developer/docs/market-capitalization-api\" class=\"span-margin hoover-header integration\" data-v-ca18938c><span style=\"color:#ec407a;font-weight:600\" data-v-ca18938c>Example</span> with Javascript, JQuery, VueJS, Angular, JAVA, PHP, NodeJS, Python, Go, Ruby, C#, R, Strest, Rust, Swift and Scala</a></h3></div><!----></div></section><section id=\"Company-Outlook\" class=\"section-top min-height-section\" data-v-ca18938c><h2 data-v-ca18938c><a href=\"/developer/docs/company-outlook-api\" class=\"contain-header hoover-header\" data-v-ca18938c><div class=\"title-head\" data-v-ca18938c><div data-v-ca18938c>Company Outlook <svg aria-hidden=\"true\" height=\"12\" width=\"12\" viewBox=\"0 0 16 16\" xmlns=\"http://www.w3.org/2000/svg\" class=\"SVGInline-svg SVGInline--cleaned-svg SVG-svg Icon-svg Icon--arrowRight-svg Icon-color-svg Icon-color--blue-svg\" data-v-ca18938c><path d=\"M12.583 7L7.992 2.409A1 1 0 1 1 9.407.993l6.3 6.3a1 1 0 0 1 0 1.414l-6.3 6.3a1 1 0 0 1-1.415-1.416L12.583 9H1a1 1 0 1 1 0-2z\" fill-rule=\"evenodd\" data-v-ca18938c></path></svg></div></div></a></h2><div class=\"contain-main-block\" style=\"margin-top:0\" data-v-ca18938c><div class=\"contain-block-prettyprint\" data-v-ca18938c><!----><!----><!----> <span class=\"span-margin\" data-v-ca18938c>Company Outlook <span class=\"label info-link\">JSON</span></span><pre class=\"href-pre\" data-v-ca18938c>\t\t\t\t\t\t\t\t\t<a href=\"https://financialmodelingprep.com/api/v4/company-outlook?symbol=AAPL&apikey=YOUR_API_KEY\" target=\"_blank\" class=\"background-link last-href\" data-v-ca18938c>/api/v4/company-outlook?<span class=\"symbol\">symbol</span>=<span class=\"symbol bold\">AAPL</span></a>\n",
      "\t\t\t\t\t\t\t\t</pre><h3 style=\"border:none;margin-top:20px\" data-v-ca18938c><a href=\"/developer/docs/company-outlook-api\" class=\"span-margin hoover-header integration\" data-v-ca18938c><span style=\"color:#ec407a;font-weight:600\" data-v-ca18938c>Example</span> with Javascript, JQuery, VueJS, Angular, JAVA, PHP, NodeJS, Python, Go, Ruby, C#, R, Strest, Rust, Swift and Scala</a></h3></div><!----></div></section><section id=\"Stock-Peers\" class=\"section-top min-height-section\" data-v-ca18938c><h2 data-v-ca18938c><a href=\"/developer/docs/stock-peers-api\" class=\"contain-header hoover-header\" data-v-ca18938c><div class=\"title-head\" data-v-ca18938c><div data-v-ca18938c>Stock Peers <svg aria-hidden=\"true\" height=\"12\" width=\"12\" viewBox=\"0 0 16 16\" xmlns=\"http://www.w3.org/2000/svg\" class=\"SVGInline-svg SVGInline--cleaned-svg SVG-svg Icon-svg Icon--arrowRight-svg Icon-color-svg Icon-color--blue-svg\" data-v-ca18938c><path d=\"M12.583 7L7.992 2.409A1 1 0 1 1 9.407.993l6.3 6.3a1 1 0 0 1 0 1.414l-6.3 6.3a1 1 0 0 1-1.415-1.416L12.583 9H1a1 1 0 1 1 0-2z\" fill-rule=\"evenodd\" data-v-ca18938c></path></svg></div></div></a></h2><div class=\"contain-main-block\" style=\"margin-top:0\" data-v-ca18938c><div class=\"contain-block-prettyprint\" data-v-ca18938c><!----><!----><!----> <span class=\"span-margin\" data-v-ca18938c>Stock peers based on sector, exchange and market cap <span class=\"label info-link\">JSON</span></span><pre class=\"href-pre\" data-v-ca18938c>\t\t\t\t\t\t\t\t\t<a href=\"https://financialmodelingprep.com/api/v4/stock_peers?symbol=AAPL&apikey=YOUR_API_KEY\" target=\"_blank\" class=\"background-link last-href\" data-v-ca18938c>/api/v4/stock_peers?<span class=\"symbol bold\">symbol</span>=<span class=\"symbol\">AAPL</span></a>\n",
      "\t\t\t\t\t\t\t\t</pre><h3 style=\"border:none;margin-top:20px\" data-v-ca18938c><a href=\"/developer/docs/stock-peers-api\" class=\"span-margin hoover-header integration\" data-v-ca18938c><span style=\"color:#ec407a;font-weight:600\" data-v-ca18938c>Example</span> with Javascript, JQuery, VueJS, Angular, JAVA, PHP, NodeJS, Python, Go, Ruby, C#, R, Strest, Rust, Swift and Scala</a></h3></div><!----></div></section><section id=\"NYSE-Holidays-and-Trading-Hours\" class=\"section-top min-height-section\" data-v-ca18938c><h2 data-v-ca18938c><a href=\"/developer/docs/is-the-market-open-api\" class=\"contain-header hoover-header\" data-v-ca18938c><div class=\"title-head\" data-v-ca18938c><div data-v-ca18938c>NYSE Holidays and Trading Hours <svg aria-hidden=\"true\" height=\"12\" width=\"12\" viewBox=\"0 0 16 16\" xmlns=\"http://www.w3.org/2000/svg\" class=\"SVGInline-svg SVGInline--cleaned-svg SVG-svg Icon-svg Icon--arrowRight-svg Icon-color-svg Icon-color--blue-svg\" data-v-ca18938c><path d=\"M12.583 7L7.992 2.409A1 1 0 1 1 9.407.993l6.3 6.3a1 1 0 0 1 0 1.414l-6.3 6.3a1 1 0 0 1-1.415-1.416L12.583 9H1a1 1 0 1 1 0-2z\" fill-rule=\"evenodd\" data-v-ca18938c></path></svg></div></div></a></h2><div class=\"contain-main-block\" style=\"margin-top:0\" data-v-ca18938c><div class=\"contain-block-prettyprint\" data-v-ca18938c><!----><!----><!----> <span class=\"span-margin\" data-v-ca18938c>NYSE: Holidays and Trading Hours. <span class=\"label info-link\">JSON</span></span><pre class=\"href-pre\" data-v-ca18938c>\t\t\t\t\t\t\t\t\t<a href=\"https://financialmodelingprep.com/api/v3/is-the-market-open?apikey=YOUR_API_KEY\" target=\"_blank\" class=\"background-link last-href\" data-v-ca18938c>/api/v3/<span class=\"symbol\">is-the-market-open</span></a>\n",
      "\t\t\t\t\t\t\t\t</pre><h3 style=\"border:none;margin-top:20px\" data-v-ca18938c><a href=\"/developer/docs/is-the-market-open-api\" class=\"span-margin hoover-header integration\" data-v-ca18938c><span style=\"color:#ec407a;font-weight:600\" data-v-ca18938c>Example</span> with Javascript, JQuery, VueJS, Angular, JAVA, PHP, NodeJS, Python, Go, Ruby, C#, R, Strest, Rust, Swift and Scala</a></h3></div><!----></div></section><section id=\"Delisted-Companies\" class=\"section-top min-height-section\" data-v-ca18938c><h2 data-v-ca18938c><a href=\"/developer/docs/delisted-companies-api\" class=\"contain-header hoover-header\" data-v-ca18938c><div class=\"title-head\" data-v-ca18938c><div data-v-ca18938c>Delisted Companies <svg aria-hidden=\"true\" height=\"12\" width=\"12\" viewBox=\"0 0 16 16\" xmlns=\"http://www.w3.org/2000/svg\" class=\"SVGInline-svg SVGInline--cleaned-svg SVG-svg Icon-svg Icon--arrowRight-svg Icon-color-svg Icon-color--blue-svg\" data-v-ca18938c><path d=\"M12.583 7L7.992 2.409A1 1 0 1 1 9.407.993l6.3 6.3a1 1 0 0 1 0 1.414l-6.3 6.3a1 1 0 0 1-1.415-1.416L12.583 9H1a1 1 0 1 1 0-2z\" fill-rule=\"evenodd\" data-v-ca18938c></path></svg></div></div></a></h2><div class=\"contain-main-block\" style=\"margin-top:0\" data-v-ca18938c><div class=\"contain-block-prettyprint\" data-v-ca18938c><!----><!----><!----> <span class=\"span-margin\" data-v-ca18938c>Delisted Companies <span class=\"label info-link\">JSON</span></span><pre class=\"href-pre\" data-v-ca18938c>\t\t\t\t\t\t\t\t\t<a href=\"https://financialmodelingprep.com/api/v3/delisted-companies?page=0&apikey=YOUR_API_KEY\" target=\"_blank\" class=\"background-link last-href\" data-v-ca18938c>/api/v3/<span class=\"symbol\">delisted-companies</span>?<span class=\"symbol bold\">page</span>=<span class=\"symbol\">0</span></a>\n",
      "\t\t\t\t\t\t\t\t</pre><h3 style=\"border:none;margin-top:20px\" data-v-ca18938c><a href=\"/developer/docs/delisted-companies-api\" class=\"span-margin hoover-header integration\" data-v-ca18938c><span style=\"color:#ec407a;font-weight:600\" data-v-ca18938c>Example</span> with Javascript, JQuery, VueJS, Angular, JAVA, PHP, NodeJS, Python, Go, Ruby, C#, R, Strest, Rust, Swift and Scala</a></h3></div><!----></div></section><section id=\"Symbol-Change\" class=\"section-top min-height-section\" data-v-ca18938c><h2 data-v-ca18938c><a href=\"/developer/docs/symbol-change-api\" class=\"contain-header hoover-header\" data-v-ca18938c><div class=\"title-head\" data-v-ca18938c><div data-v-ca18938c>Symbol Change <svg aria-hidden=\"true\" height=\"12\" width=\"12\" viewBox=\"0 0 16 16\" xmlns=\"http://www.w3.org/2000/svg\" class=\"SVGInline-svg SVGInline--cleaned-svg SVG-svg Icon-svg Icon--arrowRight-svg Icon-color-svg Icon-color--blue-svg\" data-v-ca18938c><path d=\"M12.583 7L7.992 2.409A1 1 0 1 1 9.407.993l6.3 6.3a1 1 0 0 1 0 1.414l-6.3 6.3a1 1 0 0 1-1.415-1.416L12.583 9H1a1 1 0 1 1 0-2z\" fill-rule=\"evenodd\" data-v-ca18938c></path></svg></div></div></a></h2><div class=\"contain-main-block\" style=\"margin-top:0\" data-v-ca18938c><div class=\"contain-block-prettyprint\" data-v-ca18938c><!----><!----><!----> <span class=\"span-margin\" data-v-ca18938c>Symbol changes <span class=\"label info-link\">JSON</span></span><pre class=\"href-pre\" data-v-ca18938c>\t\t\t\t\t\t\t\t\t<a href=\"https://financialmodelingprep.com/api/v4/symbol_change?apikey=YOUR_API_KEY\" target=\"_blank\" class=\"background-link last-href\" data-v-ca18938c>/api/v4/symbol_change</a>\n",
      "\t\t\t\t\t\t\t\t</pre><h3 style=\"border:none;margin-top:20px\" data-v-ca18938c><a href=\"/developer/docs/symbol-change-api\" class=\"span-margin hoover-header integration\" data-v-ca18938c><span style=\"color:#ec407a;font-weight:600\" data-v-ca18938c>Example</span> with Javascript, JQuery, VueJS, Angular, JAVA, PHP, NodeJS, Python, Go, Ruby, C#, R, Strest, Rust, Swift and Scala</a></h3></div><!----></div></section><section id=\"Company-core-information\" class=\"section-top min-height-section\" data-v-ca18938c><h2 data-v-ca18938c><a href=\"/developer/docs/company-core-information-api\" class=\"contain-header hoover-header\" data-v-ca18938c><div class=\"title-head\" data-v-ca18938c><div data-v-ca18938c>Company core information <svg aria-hidden=\"true\" height=\"12\" width=\"12\" viewBox=\"0 0 16 16\" xmlns=\"http://www.w3.org/2000/svg\" class=\"SVGInline-svg SVGInline--cleaned-svg SVG-svg Icon-svg Icon--arrowRight-svg Icon-color-svg Icon-color--blue-svg\" data-v-ca18938c><path d=\"M12.583 7L7.992 2.409A1 1 0 1 1 9.407.993l6.3 6.3a1 1 0 0 1 0 1.414l-6.3 6.3a1 1 0 0 1-1.415-1.416L12.583 9H1a1 1 0 1 1 0-2z\" fill-rule=\"evenodd\" data-v-ca18938c></path></svg></div></div></a></h2><div class=\"contain-main-block\" style=\"margin-top:0\" data-v-ca18938c><div class=\"contain-block-prettyprint\" data-v-ca18938c><!----><!----><!----> <span class=\"span-margin\" data-v-ca18938c>Company core information <span class=\"label info\">Minute</span> <span class=\"label info-link\">JSON</span></span><pre class=\"href-pre\" data-v-ca18938c>\t\t\t\t\t\t\t\t\t<a href=\"https://financialmodelingprep.com/api/v4/company-core-information?symbol=AAPL&apikey=YOUR_API_KEY\" target=\"_blank\" class=\"background-link last-href\" data-v-ca18938c>/api/v4/company-core-information?<span class=\"symbol bold\">symbol</span>=<span class=\"symbol\">AAPL</span></a>\n",
      "\t\t\t\t\t\t\t\t</pre><h3 style=\"border:none;margin-top:20px\" data-v-ca18938c><a href=\"/developer/docs/company-core-information-api\" class=\"span-margin hoover-header integration\" data-v-ca18938c><span style=\"color:#ec407a;font-weight:600\" data-v-ca18938c>Example</span> with Javascript, JQuery, VueJS, Angular, JAVA, PHP, NodeJS, Python, Go, Ruby, C#, R, Strest, Rust, Swift and Scala</a></h3></div><!----></div></section><section class=\"contain-big-section\" data-v-ca18938c><div data-v-ca18938c>STOCK NEWS</div></section><section id=\"FMP-Articles\" class=\"section-top min-height-section\" data-v-ca18938c><h2 data-v-ca18938c><a href=\"/developer/docs/fmp-articles-api\" class=\"contain-header hoover-header\" data-v-ca18938c><div class=\"title-head\" data-v-ca18938c><div data-v-ca18938c>FMP Articles <svg aria-hidden=\"true\" height=\"12\" width=\"12\" viewBox=\"0 0 16 16\" xmlns=\"http://www.w3.org/2000/svg\" class=\"SVGInline-svg SVGInline--cleaned-svg SVG-svg Icon-svg Icon--arrowRight-svg Icon-color-svg Icon-color--blue-svg\" data-v-ca18938c><path d=\"M12.583 7L7.992 2.409A1 1 0 1 1 9.407.993l6.3 6.3a1 1 0 0 1 0 1.414l-6.3 6.3a1 1 0 0 1-1.415-1.416L12.583 9H1a1 1 0 1 1 0-2z\" fill-rule=\"evenodd\" data-v-ca18938c></path></svg></div></div></a></h2><div class=\"contain-main-block\" style=\"margin-top:0\" data-v-ca18938c><div class=\"contain-block-prettyprint\" data-v-ca18938c><!----><!----><!----> <span class=\"span-margin\" data-v-ca18938c>FMP articles written by our analysts <span class=\"label info-link\">JSON</span></span><pre class=\"href-pre\" data-v-ca18938c>\t\t\t\t\t\t\t\t\t<a href=\"https://financialmodelingprep.com/api/v3/fmp/articles?page=0&size=5&apikey=YOUR_API_KEY\" target=\"_blank\" class=\"background-link last-href\" data-v-ca18938c>/api/v3/fmp/articles?<span class=\"symbol bold\">page</span>=<span class=\"symbol\">0</span>&<span class=\"symbol bold\">size</span>=<span class=\"symbol\">5</span></a>\n",
      "\t\t\t\t\t\t\t\t</pre><h3 style=\"border:none;margin-top:20px\" data-v-ca18938c><a href=\"/developer/docs/fmp-articles-api\" class=\"span-margin hoover-header integration\" data-v-ca18938c><span style=\"color:#ec407a;font-weight:600\" data-v-ca18938c>Example</span> with Javascript, JQuery, VueJS, Angular, JAVA, PHP, NodeJS, Python, Go, Ruby, C#, R, Strest, Rust, Swift and Scala</a></h3></div><!----></div></section><section id=\"Stock-News\" class=\"section-top min-height-section\" data-v-ca18938c><h2 data-v-ca18938c><a href=\"/developer/docs/stock-news-api\" class=\"contain-header hoover-header\" data-v-ca18938c><div class=\"title-head\" data-v-ca18938c><div data-v-ca18938c>Stock News <svg aria-hidden=\"true\" height=\"12\" width=\"12\" viewBox=\"0 0 16 16\" xmlns=\"http://www.w3.org/2000/svg\" class=\"SVGInline-svg SVGInline--cleaned-svg SVG-svg Icon-svg Icon--arrowRight-svg Icon-color-svg Icon-color--blue-svg\" data-v-ca18938c><path d=\"M12.583 7L7.992 2.409A1 1 0 1 1 9.407.993l6.3 6.3a1 1 0 0 1 0 1.414l-6.3 6.3a1 1 0 0 1-1.415-1.416L12.583 9H1a1 1 0 1 1 0-2z\" fill-rule=\"evenodd\" data-v-ca18938c></path></svg></div></div></a></h2><div class=\"contain-main-block\" style=\"margin-top:0\" data-v-ca18938c><div class=\"contain-block-prettyprint\" data-v-ca18938c><!----><!----><!----> <span class=\"span-margin\" data-v-ca18938c>Multiple stocks news <span class=\"label info-link\">JSON</span></span><pre class=\"href-pre\" data-v-ca18938c>\t\t\t\t\t\t\t\t\t<a href=\"https://financialmodelingprep.com/api/v3/stock_news?tickers=AAPL,FB,GOOG,AMZN&page=0&apikey=YOUR_API_KEY\" target=\"_blank\" class=\"background-link\" data-v-ca18938c>/api/v3/<span class=\"symbol\">stock_news</span>?<span class=\"symbol bold\">tickers</span>=<span class=\"symbol\">AAPL,FB,GOOG,AMZN</span>&<span class=\"symbol bold\">page</span>=<span class=\"symbol\">0</span></a>\n",
      "\t\t\t\t\t\t\t\t</pre><!----></div><!----></div><div class=\"contain-main-block margin-head-top-top-top-pretty\" style=\"margin-top:0\" data-v-ca18938c><div class=\"contain-block-prettyprint\" data-v-ca18938c><!----><!----><!----> <span class=\"span-margin\" data-v-ca18938c>Single stock news <span class=\"label info-link\">JSON</span></span><pre class=\"href-pre\" data-v-ca18938c>\t\t\t\t\t\t\t\t\t<a href=\"https://financialmodelingprep.com/api/v3/stock_news?tickers=AAPL&limit=50&apikey=YOUR_API_KEY\" target=\"_blank\" class=\"background-link\" data-v-ca18938c>/api/v3/<span class=\"symbol\">stock_news</span>?<span class=\"symbol bold\">tickers</span>=<span class=\"symbol\">AAPL</span>&<span class=\"symbol bold\">limit</span>=<span class=\"symbol\">50</span></a>\n",
      "\t\t\t\t\t\t\t\t</pre><!----></div><!----></div><div class=\"contain-main-block\" style=\"margin-top:0\" data-v-ca18938c><div class=\"contain-block-prettyprint\" data-v-ca18938c><!----><!----><!----> <span class=\"span-margin\" data-v-ca18938c>Latest stock news <span class=\"label info-link\">JSON</span></span><pre class=\"href-pre\" data-v-ca18938c>\t\t\t\t\t\t\t\t\t<a href=\"https://financialmodelingprep.com/api/v3/stock_news?limit=50&apikey=YOUR_API_KEY\" target=\"_blank\" class=\"background-link\" data-v-ca18938c>/api/v3/<span class=\"symbol\">stock_news</span>?<span class=\"symbol bold\">limit</span>=<span class=\"symbol\">50</span></a>\n",
      "\t\t\t\t\t\t\t\t</pre><!----></div><!----></div><div class=\"contain-main-block\" style=\"margin-top:0\" data-v-ca18938c><div class=\"contain-block-prettyprint\" data-v-ca18938c><!----><!----><!----> <span class=\"span-margin\" data-v-ca18938c>Latest stock news with sentiment <span class=\"label info-link\">JSON</span></span><pre class=\"href-pre\" data-v-ca18938c>\t\t\t\t\t\t\t\t\t<a href=\"https://financialmodelingprep.com/api/v4/stock-news-sentiments-rss-feed?page=0&apikey=YOUR_API_KEY\" target=\"_blank\" class=\"background-link last-href\" data-v-ca18938c>/api/v4/stock-news-sentiments-rss-feed?<span class=\"symbol bold\">page</span>=<span class=\"symbol\">0</span></a>\n",
      "\t\t\t\t\t\t\t\t</pre><h3 style=\"border:none;margin-top:20px\" data-v-ca18938c><a href=\"/developer/docs/stock-news-api\" class=\"span-margin hoover-header integration\" data-v-ca18938c><span style=\"color:#ec407a;font-weight:600\" data-v-ca18938c>Example</span> with Javascript, JQuery, VueJS, Angular, JAVA, PHP, NodeJS, Python, Go, Ruby, C#, R, Strest, Rust, Swift and Scala</a></h3></div><!----></div></section><section id=\"Crypto-news\" class=\"section-top min-height-section\" data-v-ca18938c><h2 data-v-ca18938c><a href=\"/developer/docs/crypto-news-api\" class=\"contain-header hoover-header\" data-v-ca18938c><div class=\"title-head\" data-v-ca18938c><div data-v-ca18938c>Crypto news <svg aria-hidden=\"true\" height=\"12\" width=\"12\" viewBox=\"0 0 16 16\" xmlns=\"http://www.w3.org/2000/svg\" class=\"SVGInline-svg SVGInline--cleaned-svg SVG-svg Icon-svg Icon--arrowRight-svg Icon-color-svg Icon-color--blue-svg\" data-v-ca18938c><path d=\"M12.583 7L7.992 2.409A1 1 0 1 1 9.407.993l6.3 6.3a1 1 0 0 1 0 1.414l-6.3 6.3a1 1 0 0 1-1.415-1.416L12.583 9H1a1 1 0 1 1 0-2z\" fill-rule=\"evenodd\" data-v-ca18938c></path></svg></div></div></a></h2><div class=\"contain-main-block\" style=\"margin-top:0\" data-v-ca18938c><div class=\"contain-block-prettyprint\" data-v-ca18938c><!----><!----><!----> <span class=\"span-margin\" data-v-ca18938c>Latest crypto news <span class=\"label info-link\">JSON</span></span><pre class=\"href-pre\" data-v-ca18938c>\t\t\t\t\t\t\t\t\t<a href=\"https://financialmodelingprep.com/api/v4/crypto_news?page=0&apikey=YOUR_API_KEY\" target=\"_blank\" class=\"background-link\" data-v-ca18938c>/api/v4/crypto_news?<span class=\"symbol bold\">page</span>=<span class=\"symbol\">0</span></a>\n",
      "\t\t\t\t\t\t\t\t</pre><!----></div><!----></div><div class=\"contain-main-block margin-head-top-top-top-pretty\" style=\"margin-top:0\" data-v-ca18938c><div class=\"contain-block-prettyprint\" data-v-ca18938c><!----><!----><!----> <span class=\"span-margin\" data-v-ca18938c>Latest crypto news for symbol <span class=\"label info-link\">JSON</span></span><pre class=\"href-pre\" data-v-ca18938c>\t\t\t\t\t\t\t\t\t<a href=\"https://financialmodelingprep.com/api/v4/crypto_news?symbol=BTCUSD&page=0&apikey=YOUR_API_KEY\" target=\"_blank\" class=\"background-link last-href\" data-v-ca18938c>/api/v4/crypto_news?<span class=\"symbol bold\">symbol</span>=<span class=\"symbol\">BTCUSD</span>&<span class=\"symbol bold\">page</span>=<span class=\"symbol\">0</span></a>\n",
      "\t\t\t\t\t\t\t\t</pre><h3 style=\"border:none;margin-top:20px\" data-v-ca18938c><a href=\"/developer/docs/crypto-news-api\" class=\"span-margin hoover-header integration\" data-v-ca18938c><span style=\"color:#ec407a;font-weight:600\" data-v-ca18938c>Example</span> with Javascript, JQuery, VueJS, Angular, JAVA, PHP, NodeJS, Python, Go, Ruby, C#, R, Strest, Rust, Swift and Scala</a></h3></div><!----></div></section><section id=\"Forex-news\" class=\"section-top min-height-section\" data-v-ca18938c><h2 data-v-ca18938c><a href=\"/developer/docs/forex-news-api\" class=\"contain-header hoover-header\" data-v-ca18938c><div class=\"title-head\" data-v-ca18938c><div data-v-ca18938c>Forex news <svg aria-hidden=\"true\" height=\"12\" width=\"12\" viewBox=\"0 0 16 16\" xmlns=\"http://www.w3.org/2000/svg\" class=\"SVGInline-svg SVGInline--cleaned-svg SVG-svg Icon-svg Icon--arrowRight-svg Icon-color-svg Icon-color--blue-svg\" data-v-ca18938c><path d=\"M12.583 7L7.992 2.409A1 1 0 1 1 9.407.993l6.3 6.3a1 1 0 0 1 0 1.414l-6.3 6.3a1 1 0 0 1-1.415-1.416L12.583 9H1a1 1 0 1 1 0-2z\" fill-rule=\"evenodd\" data-v-ca18938c></path></svg></div></div></a></h2><div class=\"contain-main-block\" style=\"margin-top:0\" data-v-ca18938c><div class=\"contain-block-prettyprint\" data-v-ca18938c><!----><!----><!----> <span class=\"span-margin\" data-v-ca18938c>Latest forex news <span class=\"label info-link\">JSON</span></span><pre class=\"href-pre\" data-v-ca18938c>\t\t\t\t\t\t\t\t\t<a href=\"https://financialmodelingprep.com/api/v4/forex_news?page=0&apikey=YOUR_API_KEY\" target=\"_blank\" class=\"background-link\" data-v-ca18938c>/api/v4/forex_news?<span class=\"symbol bold\">page</span>=<span class=\"symbol\">0</span></a>\n",
      "\t\t\t\t\t\t\t\t</pre><!----></div><!----></div><div class=\"contain-main-block margin-head-top-top-top-pretty\" style=\"margin-top:0\" data-v-ca18938c><div class=\"contain-block-prettyprint\" data-v-ca18938c><!----><!----><!----> <span class=\"span-margin\" data-v-ca18938c>Latest forex news for symbol <span class=\"label info-link\">JSON</span></span><pre class=\"href-pre\" data-v-ca18938c>\t\t\t\t\t\t\t\t\t<a href=\"https://financialmodelingprep.com/api/v4/forex_news?symbol=EURUSD&page=0&apikey=YOUR_API_KEY\" target=\"_blank\" class=\"background-link last-href\" data-v-ca18938c>/api/v4/forex_news?<span class=\"symbol bold\">symbol</span>=<span class=\"symbol\">EURUSD</span>&<span class=\"symbol bold\">page</span>=<span class=\"symbol\">0</span></a>\n",
      "\t\t\t\t\t\t\t\t</pre><h3 style=\"border:none;margin-top:20px\" data-v-ca18938c><a href=\"/developer/docs/forex-news-api\" class=\"span-margin hoover-header integration\" data-v-ca18938c><span style=\"color:#ec407a;font-weight:600\" data-v-ca18938c>Example</span> with Javascript, JQuery, VueJS, Angular, JAVA, PHP, NodeJS, Python, Go, Ruby, C#, R, Strest, Rust, Swift and Scala</a></h3></div><!----></div></section><section id=\"General-news\" class=\"section-top min-height-section\" data-v-ca18938c><h2 data-v-ca18938c><a href=\"/developer/docs/general-news-api\" class=\"contain-header hoover-header\" data-v-ca18938c><div class=\"title-head\" data-v-ca18938c><div data-v-ca18938c>General news <svg aria-hidden=\"true\" height=\"12\" width=\"12\" viewBox=\"0 0 16 16\" xmlns=\"http://www.w3.org/2000/svg\" class=\"SVGInline-svg SVGInline--cleaned-svg SVG-svg Icon-svg Icon--arrowRight-svg Icon-color-svg Icon-color--blue-svg\" data-v-ca18938c><path d=\"M12.583 7L7.992 2.409A1 1 0 1 1 9.407.993l6.3 6.3a1 1 0 0 1 0 1.414l-6.3 6.3a1 1 0 0 1-1.415-1.416L12.583 9H1a1 1 0 1 1 0-2z\" fill-rule=\"evenodd\" data-v-ca18938c></path></svg></div></div></a></h2><div class=\"contain-main-block\" style=\"margin-top:0\" data-v-ca18938c><div class=\"contain-block-prettyprint\" data-v-ca18938c><!----><!----><!----> <span class=\"span-margin\" data-v-ca18938c>Latest general news <span class=\"label info-link\">JSON</span></span><pre class=\"href-pre\" data-v-ca18938c>\t\t\t\t\t\t\t\t\t<a href=\"https://financialmodelingprep.com/api/v4/general_news?page=0&apikey=YOUR_API_KEY\" target=\"_blank\" class=\"background-link last-href\" data-v-ca18938c>/api/v4/general_news?<span class=\"symbol bold\">page</span>=<span class=\"symbol\">0</span></a>\n",
      "\t\t\t\t\t\t\t\t</pre><h3 style=\"border:none;margin-top:20px\" data-v-ca18938c><a href=\"/developer/docs/general-news-api\" class=\"span-margin hoover-header integration\" data-v-ca18938c><span style=\"color:#ec407a;font-weight:600\" data-v-ca18938c>Example</span> with Javascript, JQuery, VueJS, Angular, JAVA, PHP, NodeJS, Python, Go, Ruby, C#, R, Strest, Rust, Swift and Scala</a></h3></div><!----></div></section><section id=\"Press-Releases\" class=\"section-top min-height-section\" data-v-ca18938c><h2 data-v-ca18938c><a href=\"/developer/docs/press-releases-api\" class=\"contain-header hoover-header\" data-v-ca18938c><div class=\"title-head\" data-v-ca18938c><div data-v-ca18938c>Press Releases <svg aria-hidden=\"true\" height=\"12\" width=\"12\" viewBox=\"0 0 16 16\" xmlns=\"http://www.w3.org/2000/svg\" class=\"SVGInline-svg SVGInline--cleaned-svg SVG-svg Icon-svg Icon--arrowRight-svg Icon-color-svg Icon-color--blue-svg\" data-v-ca18938c><path d=\"M12.583 7L7.992 2.409A1 1 0 1 1 9.407.993l6.3 6.3a1 1 0 0 1 0 1.414l-6.3 6.3a1 1 0 0 1-1.415-1.416L12.583 9H1a1 1 0 1 1 0-2z\" fill-rule=\"evenodd\" data-v-ca18938c></path></svg></div></div></a></h2><div class=\"contain-main-block\" style=\"margin-top:0\" data-v-ca18938c><div class=\"contain-block-prettyprint\" data-v-ca18938c><!----><!----><!----> <span class=\"span-margin\" data-v-ca18938c>Stock press releases <span class=\"label info-link\">JSON</span></span><pre class=\"href-pre\" data-v-ca18938c>\t\t\t\t\t\t\t\t\t<a href=\"https://financialmodelingprep.com/api/v3/press-releases/AAPL?page=0&apikey=YOUR_API_KEY\" target=\"_blank\" class=\"background-link last-href\" data-v-ca18938c>/api/v3/press-releases/<span class=\"symbol\">AAPL</span>?<span class=\"symbol bold\">page</span>=<span class=\"symbol\">0</span></a>\n",
      "\t\t\t\t\t\t\t\t</pre><h3 style=\"border:none;margin-top:20px\" data-v-ca18938c><a href=\"/developer/docs/press-releases-api\" class=\"span-margin hoover-header integration\" data-v-ca18938c><span style=\"color:#ec407a;font-weight:600\" data-v-ca18938c>Example</span> with Javascript, JQuery, VueJS, Angular, JAVA, PHP, NodeJS, Python, Go, Ruby, C#, R, Strest, Rust, Swift and Scala</a></h3></div><!----></div></section><section class=\"contain-big-section\" data-v-ca18938c><div data-v-ca18938c>MARKET PERFORMANCE</div></section><section id=\"Sectors-PE-Ratio\" class=\"section-top min-height-section\" data-v-ca18938c><h2 data-v-ca18938c><a href=\"/developer/docs/sectors-pe-ratio-api\" class=\"contain-header hoover-header\" data-v-ca18938c><div class=\"title-head\" data-v-ca18938c><div data-v-ca18938c>Sectors PE Ratio <svg aria-hidden=\"true\" height=\"12\" width=\"12\" viewBox=\"0 0 16 16\" xmlns=\"http://www.w3.org/2000/svg\" class=\"SVGInline-svg SVGInline--cleaned-svg SVG-svg Icon-svg Icon--arrowRight-svg Icon-color-svg Icon-color--blue-svg\" data-v-ca18938c><path d=\"M12.583 7L7.992 2.409A1 1 0 1 1 9.407.993l6.3 6.3a1 1 0 0 1 0 1.414l-6.3 6.3a1 1 0 0 1-1.415-1.416L12.583 9H1a1 1 0 1 1 0-2z\" fill-rule=\"evenodd\" data-v-ca18938c></path></svg></div></div></a></h2><div class=\"contain-main-block\" style=\"margin-top:0\" data-v-ca18938c><div class=\"contain-block-prettyprint\" data-v-ca18938c><!----><!----><!----> <span class=\"span-margin\" data-v-ca18938c>Average price to earnings ratio for sectors <span class=\"label info-link\">JSON</span></span><pre class=\"href-pre\" data-v-ca18938c>\t\t\t\t\t\t\t\t\t<a href=\"https://financialmodelingprep.com/api/v4/sector_price_earning_ratio?date=2021-05-07&exchange=NYSE&apikey=YOUR_API_KEY\" target=\"_blank\" class=\"background-link last-href\" data-v-ca18938c>/api/v4/sector_price_earning_ratio?<span class=\"symbol bold\">date</span>=<span class=\"symbol\">2021-05-07</span>&<span class=\"symbol bold\">exchange</span>=<span class=\"symbol\">NYSE</span></a>\n",
      "\t\t\t\t\t\t\t\t</pre><h3 style=\"border:none;margin-top:20px\" data-v-ca18938c><a href=\"/developer/docs/sectors-pe-ratio-api\" class=\"span-margin hoover-header integration\" data-v-ca18938c><span style=\"color:#ec407a;font-weight:600\" data-v-ca18938c>Example</span> with Javascript, JQuery, VueJS, Angular, JAVA, PHP, NodeJS, Python, Go, Ruby, C#, R, Strest, Rust, Swift and Scala</a></h3></div><!----></div></section><section id=\"Industries-PE-Ratio\" class=\"section-top min-height-section\" data-v-ca18938c><h2 data-v-ca18938c><a href=\"/developer/docs/industries-pe-ratio-api\" class=\"contain-header hoover-header\" data-v-ca18938c><div class=\"title-head\" data-v-ca18938c><div data-v-ca18938c>Industries PE Ratio <svg aria-hidden=\"true\" height=\"12\" width=\"12\" viewBox=\"0 0 16 16\" xmlns=\"http://www.w3.org/2000/svg\" class=\"SVGInline-svg SVGInline--cleaned-svg SVG-svg Icon-svg Icon--arrowRight-svg Icon-color-svg Icon-color--blue-svg\" data-v-ca18938c><path d=\"M12.583 7L7.992 2.409A1 1 0 1 1 9.407.993l6.3 6.3a1 1 0 0 1 0 1.414l-6.3 6.3a1 1 0 0 1-1.415-1.416L12.583 9H1a1 1 0 1 1 0-2z\" fill-rule=\"evenodd\" data-v-ca18938c></path></svg></div></div></a></h2><div class=\"contain-main-block\" style=\"margin-top:0\" data-v-ca18938c><div class=\"contain-block-prettyprint\" data-v-ca18938c><!----><!----><!----> <span class=\"span-margin\" data-v-ca18938c>Average price to earnings ratio for industries <span class=\"label info-link\">JSON</span></span><pre class=\"href-pre\" data-v-ca18938c>\t\t\t\t\t\t\t\t\t<a href=\"https://financialmodelingprep.com/api/v4/industry_price_earning_ratio?date=2021-05-07&exchange=NYSE&apikey=YOUR_API_KEY\" target=\"_blank\" class=\"background-link last-href\" data-v-ca18938c>/api/v4/industry_price_earning_ratio?<span class=\"symbol bold\">date</span>=<span class=\"symbol\">2021-05-07</span>&<span class=\"symbol bold\">exchange</span>=<span class=\"symbol\">NYSE</span></a>\n",
      "\t\t\t\t\t\t\t\t</pre><h3 style=\"border:none;margin-top:20px\" data-v-ca18938c><a href=\"/developer/docs/industries-pe-ratio-api\" class=\"span-margin hoover-header integration\" data-v-ca18938c><span style=\"color:#ec407a;font-weight:600\" data-v-ca18938c>Example</span> with Javascript, JQuery, VueJS, Angular, JAVA, PHP, NodeJS, Python, Go, Ruby, C#, R, Strest, Rust, Swift and Scala</a></h3></div><!----></div></section><section id=\"Stock-Market-Sectors-Performance\" class=\"section-top min-height-section\" data-v-ca18938c><h2 data-v-ca18938c><a href=\"/developer/docs/stock-market-sector-performance-free-api\" class=\"contain-header hoover-header\" data-v-ca18938c><div class=\"title-head\" data-v-ca18938c><div data-v-ca18938c>Stock Market Sectors Performance <svg aria-hidden=\"true\" height=\"12\" width=\"12\" viewBox=\"0 0 16 16\" xmlns=\"http://www.w3.org/2000/svg\" class=\"SVGInline-svg SVGInline--cleaned-svg SVG-svg Icon-svg Icon--arrowRight-svg Icon-color-svg Icon-color--blue-svg\" data-v-ca18938c><path d=\"M12.583 7L7.992 2.409A1 1 0 1 1 9.407.993l6.3 6.3a1 1 0 0 1 0 1.414l-6.3 6.3a1 1 0 0 1-1.415-1.416L12.583 9H1a1 1 0 1 1 0-2z\" fill-rule=\"evenodd\" data-v-ca18938c></path></svg></div></div></a></h2><div class=\"contain-main-block\" style=\"margin-top:0\" data-v-ca18938c><div class=\"contain-block-prettyprint\" data-v-ca18938c><!----><!----><!----> <span class=\"span-margin\" data-v-ca18938c>Stock Market Sectors Performance. <span class=\"label success\">Hourly</span> <span class=\"label info-link\">JSON</span></span><pre class=\"href-pre\" data-v-ca18938c>\t\t\t\t\t\t\t\t\t<a href=\"https://financialmodelingprep.com/api/v3/sector-performance?apikey=YOUR_API_KEY\" target=\"_blank\" class=\"background-link\" data-v-ca18938c>/api/v3/<span class=\"symbol\">sector-performance</span></a>\n",
      "\t\t\t\t\t\t\t\t</pre><!----></div><!----></div><div class=\"contain-main-block margin-head-top-top-pretty\" style=\"margin-top:0\" data-v-ca18938c><div class=\"contain-block-prettyprint\" data-v-ca18938c><!----><!----><!----> <span class=\"span-margin\" data-v-ca18938c>Historical sector performance. <span class=\"label info-link\">JSON</span></span><pre class=\"href-pre\" data-v-ca18938c>\t\t\t\t\t\t\t\t\t<a href=\"https://financialmodelingprep.com/api/v3/historical-sectors-performance?limit=50&apikey=YOUR_API_KEY\" target=\"_blank\" class=\"background-link last-href\" data-v-ca18938c>/api/v3/<span class=\"symbol\">historical-sectors-performance</span>?<span class=\"symbol bold\">limit</span>=<span class=\"symbol\">50</span></a>\n",
      "\t\t\t\t\t\t\t\t</pre><h3 style=\"border:none;margin-top:20px\" data-v-ca18938c><a href=\"/developer/docs/stock-market-sector-performance-free-api\" class=\"span-margin hoover-header integration\" data-v-ca18938c><span style=\"color:#ec407a;font-weight:600\" data-v-ca18938c>Example</span> with Javascript, JQuery, VueJS, Angular, JAVA, PHP, NodeJS, Python, Go, Ruby, C#, R, Strest, Rust, Swift and Scala</a></h3></div><!----></div></section><section id=\"Most-Gainer-Stock-Companies\" class=\"section-top min-height-section\" data-v-ca18938c><h2 data-v-ca18938c><a href=\"/developer/docs/most-gainers-stock-market-data-free-api\" class=\"contain-header hoover-header\" data-v-ca18938c><div class=\"title-head\" data-v-ca18938c><div data-v-ca18938c>Most Gainer Stock Companies <svg aria-hidden=\"true\" height=\"12\" width=\"12\" viewBox=\"0 0 16 16\" xmlns=\"http://www.w3.org/2000/svg\" class=\"SVGInline-svg SVGInline--cleaned-svg SVG-svg Icon-svg Icon--arrowRight-svg Icon-color-svg Icon-color--blue-svg\" data-v-ca18938c><path d=\"M12.583 7L7.992 2.409A1 1 0 1 1 9.407.993l6.3 6.3a1 1 0 0 1 0 1.414l-6.3 6.3a1 1 0 0 1-1.415-1.416L12.583 9H1a1 1 0 1 1 0-2z\" fill-rule=\"evenodd\" data-v-ca18938c></path></svg></div></div></a></h2><div class=\"contain-main-block\" style=\"margin-top:0\" data-v-ca18938c><div class=\"contain-block-prettyprint\" data-v-ca18938c><!----><!----><!----> <span class=\"span-margin\" data-v-ca18938c>Most Gainer Stock Companies. <span class=\"label success\">Daily</span> <span class=\"label info-link\">JSON</span></span><pre class=\"href-pre\" data-v-ca18938c>\t\t\t\t\t\t\t\t\t<a href=\"https://financialmodelingprep.com/api/v3/stock_market/gainers?apikey=YOUR_API_KEY\" target=\"_blank\" class=\"background-link last-href\" data-v-ca18938c>/api/v3/stock_market/<span class=\"symbol\">gainers</span></a>\n",
      "\t\t\t\t\t\t\t\t</pre><h3 style=\"border:none;margin-top:20px\" data-v-ca18938c><a href=\"/developer/docs/most-gainers-stock-market-data-free-api\" class=\"span-margin hoover-header integration\" data-v-ca18938c><span style=\"color:#ec407a;font-weight:600\" data-v-ca18938c>Example</span> with Javascript, JQuery, VueJS, Angular, JAVA, PHP, NodeJS, Python, Go, Ruby, C#, R, Strest, Rust, Swift and Scala</a></h3></div><!----></div></section><section id=\"Most-Loser-Stock-Companies\" class=\"section-top min-height-section\" data-v-ca18938c><h2 data-v-ca18938c><a href=\"/developer/docs/most-losers-stock-market-data-free-api\" class=\"contain-header hoover-header\" data-v-ca18938c><div class=\"title-head\" data-v-ca18938c><div data-v-ca18938c>Most Loser Stock Companies <svg aria-hidden=\"true\" height=\"12\" width=\"12\" viewBox=\"0 0 16 16\" xmlns=\"http://www.w3.org/2000/svg\" class=\"SVGInline-svg SVGInline--cleaned-svg SVG-svg Icon-svg Icon--arrowRight-svg Icon-color-svg Icon-color--blue-svg\" data-v-ca18938c><path d=\"M12.583 7L7.992 2.409A1 1 0 1 1 9.407.993l6.3 6.3a1 1 0 0 1 0 1.414l-6.3 6.3a1 1 0 0 1-1.415-1.416L12.583 9H1a1 1 0 1 1 0-2z\" fill-rule=\"evenodd\" data-v-ca18938c></path></svg></div></div></a></h2><div class=\"contain-main-block\" style=\"margin-top:0\" data-v-ca18938c><div class=\"contain-block-prettyprint\" data-v-ca18938c><!----><!----><!----> <span class=\"span-margin\" data-v-ca18938c>Most Losers Stock Companies. <span class=\"label success\">Daily</span> <span class=\"label info-link\">JSON</span></span><pre class=\"href-pre\" data-v-ca18938c>\t\t\t\t\t\t\t\t\t<a href=\"https://financialmodelingprep.com/api/v3/stock_market/losers?apikey=YOUR_API_KEY\" target=\"_blank\" class=\"background-link last-href\" data-v-ca18938c>/api/v3/stock_market/<span class=\"symbol\">losers</span></a>\n",
      "\t\t\t\t\t\t\t\t</pre><h3 style=\"border:none;margin-top:20px\" data-v-ca18938c><a href=\"/developer/docs/most-losers-stock-market-data-free-api\" class=\"span-margin hoover-header integration\" data-v-ca18938c><span style=\"color:#ec407a;font-weight:600\" data-v-ca18938c>Example</span> with Javascript, JQuery, VueJS, Angular, JAVA, PHP, NodeJS, Python, Go, Ruby, C#, R, Strest, Rust, Swift and Scala</a></h3></div><!----></div></section><section id=\"Most-Active-Stock-Companies\" class=\"section-top min-height-section\" data-v-ca18938c><h2 data-v-ca18938c><a href=\"/developer/docs/most-actives-stock-market-data-free-api\" class=\"contain-header hoover-header\" data-v-ca18938c><div class=\"title-head\" data-v-ca18938c><div data-v-ca18938c>Most Active Stock Companies <svg aria-hidden=\"true\" height=\"12\" width=\"12\" viewBox=\"0 0 16 16\" xmlns=\"http://www.w3.org/2000/svg\" class=\"SVGInline-svg SVGInline--cleaned-svg SVG-svg Icon-svg Icon--arrowRight-svg Icon-color-svg Icon-color--blue-svg\" data-v-ca18938c><path d=\"M12.583 7L7.992 2.409A1 1 0 1 1 9.407.993l6.3 6.3a1 1 0 0 1 0 1.414l-6.3 6.3a1 1 0 0 1-1.415-1.416L12.583 9H1a1 1 0 1 1 0-2z\" fill-rule=\"evenodd\" data-v-ca18938c></path></svg></div></div></a></h2><div class=\"contain-main-block\" style=\"margin-top:0\" data-v-ca18938c><div class=\"contain-block-prettyprint\" data-v-ca18938c><!----><!----><!----> <span class=\"span-margin\" data-v-ca18938c>Most Active Stock Companies. <span class=\"label success\">Daily</span> <span class=\"label info-link\">JSON</span></span><pre class=\"href-pre\" data-v-ca18938c>\t\t\t\t\t\t\t\t\t<a href=\"https://financialmodelingprep.com/api/v3/stock_market/actives?apikey=YOUR_API_KEY\" target=\"_blank\" class=\"background-link last-href\" data-v-ca18938c>/api/v3/stock_market/<span class=\"symbol\">actives</span></a>\n",
      "\t\t\t\t\t\t\t\t</pre><h3 style=\"border:none;margin-top:20px\" data-v-ca18938c><a href=\"/developer/docs/most-actives-stock-market-data-free-api\" class=\"span-margin hoover-header integration\" data-v-ca18938c><span style=\"color:#ec407a;font-weight:600\" data-v-ca18938c>Example</span> with Javascript, JQuery, VueJS, Angular, JAVA, PHP, NodeJS, Python, Go, Ruby, C#, R, Strest, Rust, Swift and Scala</a></h3></div><!----></div></section><section class=\"contain-big-section\" data-v-ca18938c><div data-v-ca18938c>ADVANCED DATA</div></section><section id=\"Standard-Industrial-Classification\" class=\"section-top min-height-section\" data-v-ca18938c><h2 data-v-ca18938c><a href=\"/developer/docs/standard-industrial-classification-api\" class=\"contain-header hoover-header\" data-v-ca18938c><div class=\"title-head\" data-v-ca18938c><div data-v-ca18938c>Standard Industrial Classification <svg aria-hidden=\"true\" height=\"12\" width=\"12\" viewBox=\"0 0 16 16\" xmlns=\"http://www.w3.org/2000/svg\" class=\"SVGInline-svg SVGInline--cleaned-svg SVG-svg Icon-svg Icon--arrowRight-svg Icon-color-svg Icon-color--blue-svg\" data-v-ca18938c><path d=\"M12.583 7L7.992 2.409A1 1 0 1 1 9.407.993l6.3 6.3a1 1 0 0 1 0 1.414l-6.3 6.3a1 1 0 0 1-1.415-1.416L12.583 9H1a1 1 0 1 1 0-2z\" fill-rule=\"evenodd\" data-v-ca18938c></path></svg></div></div></a></h2><div class=\"contain-main-block\" style=\"margin-top:0\" data-v-ca18938c><div class=\"contain-block-prettyprint\" data-v-ca18938c><!----><!----><!----> <span class=\"span-margin\" data-v-ca18938c>Standard Industrial Classification by CIK <span class=\"label info-link\">JSON</span></span><pre class=\"href-pre\" data-v-ca18938c>\t\t\t\t\t\t\t\t\t<a href=\"https://financialmodelingprep.com/api/v4/standard_industrial_classification?cik=0000320193&apikey=YOUR_API_KEY\" target=\"_blank\" class=\"background-link\" data-v-ca18938c>/api/v4/standard_industrial_classification?<span class=\"symbol bold\">cik</span>=<span class=\"symbol\">0000320193</span></a>\n",
      "\t\t\t\t\t\t\t\t</pre><!----></div><!----></div><div class=\"contain-main-block margin-head-top-top-top-pretty\" style=\"margin-top:0\" data-v-ca18938c><div class=\"contain-block-prettyprint\" data-v-ca18938c><!----><!----><!----> <span class=\"span-margin\" data-v-ca18938c>Standard Industrial Classification by symbol <span class=\"label info-link\">JSON</span></span><pre class=\"href-pre\" data-v-ca18938c>\t\t\t\t\t\t\t\t\t<a href=\"https://financialmodelingprep.com/api/v4/standard_industrial_classification?symbol=AAPL&apikey=YOUR_API_KEY\" target=\"_blank\" class=\"background-link\" data-v-ca18938c>/api/v4/standard_industrial_classification?<span class=\"symbol bold\">symbol</span>=<span class=\"symbol\">AAPL</span></a>\n",
      "\t\t\t\t\t\t\t\t</pre><!----></div><!----></div><div class=\"contain-main-block\" style=\"margin-top:0\" data-v-ca18938c><div class=\"contain-block-prettyprint\" data-v-ca18938c><!----><!----><!----> <span class=\"span-margin\" data-v-ca18938c>Standard Industrial Classification by SIC Code <span class=\"label info-link\">JSON</span></span><pre class=\"href-pre\" data-v-ca18938c>\t\t\t\t\t\t\t\t\t<a href=\"https://financialmodelingprep.com/api/v4/standard_industrial_classification?sicCode=3571&apikey=YOUR_API_KEY\" target=\"_blank\" class=\"background-link\" data-v-ca18938c>/api/v4/standard_industrial_classification?<span class=\"symbol bold\">sicCode</span>=<span class=\"symbol\">3571</span></a>\n",
      "\t\t\t\t\t\t\t\t</pre><!----></div><!----></div><div class=\"contain-main-block\" style=\"margin-top:0\" data-v-ca18938c><div class=\"contain-block-prettyprint\" data-v-ca18938c><!----><!----><!----> <span class=\"span-margin\" data-v-ca18938c>Every Standard Industrial Classification available <span class=\"label info-link\">JSON</span></span><pre class=\"href-pre\" data-v-ca18938c>\t\t\t\t\t\t\t\t\t<a href=\"https://financialmodelingprep.com/api/v4/standard_industrial_classification/all?apikey=YOUR_API_KEY\" target=\"_blank\" class=\"background-link\" data-v-ca18938c>/api/v4/standard_industrial_classification/<span class=\"symbol bold\">all</span></a>\n",
      "\t\t\t\t\t\t\t\t</pre><!----></div><!----></div><div class=\"contain-main-block\" style=\"margin-top:0\" data-v-ca18938c><div class=\"contain-block-prettyprint\" data-v-ca18938c><!----><!----><h3 class=\"margin-head\" data-v-ca18938c><!----> <a href=\"/developer/docs/standard-industrial-classification-api#Standard-Industrial-Classification-List\" class=\"contain-header hoover-header\" data-v-ca18938c><div class=\"lower-title\" data-v-ca18938c>Standard Industrial Classification List</div></a></h3><span class=\"span-margin\" data-v-ca18938c>Full Standard Industrial Classification List <span class=\"label info-link\">JSON</span></span><pre class=\"href-pre\" data-v-ca18938c>\t\t\t\t\t\t\t\t\t<a href=\"https://financialmodelingprep.com/api/v4/standard_industrial_classification_list?apikey=YOUR_API_KEY\" target=\"_blank\" class=\"background-link\" data-v-ca18938c>/api/v4/standard_industrial_classification_list</a>\n",
      "\t\t\t\t\t\t\t\t</pre><!----></div><!----></div><div class=\"contain-main-block\" style=\"margin-top:0\" data-v-ca18938c><div class=\"contain-block-prettyprint\" data-v-ca18938c><!----><!----><!----> <span class=\"span-margin\" data-v-ca18938c>Standard Industrial Classification List by industry title <span class=\"label info-link\">JSON</span></span><pre class=\"href-pre\" data-v-ca18938c>\t\t\t\t\t\t\t\t\t<a href=\"https://financialmodelingprep.com/api/v4/standard_industrial_classification_list?industryTitle=services&apikey=YOUR_API_KEY\" target=\"_blank\" class=\"background-link\" data-v-ca18938c>/api/v4/standard_industrial_classification_list?<span class=\"symbol bold\">industryTitle</span>=<span class=\"symbol\">services</span></a>\n",
      "\t\t\t\t\t\t\t\t</pre><!----></div><!----></div><div class=\"contain-main-block\" style=\"margin-top:0\" data-v-ca18938c><div class=\"contain-block-prettyprint\" data-v-ca18938c><!----><!----><!----> <span class=\"span-margin\" data-v-ca18938c>Standard Industrial Classification Details by SIC Code <span class=\"label info-link\">JSON</span></span><pre class=\"href-pre\" data-v-ca18938c>\t\t\t\t\t\t\t\t\t<a href=\"https://financialmodelingprep.com/api/v4/standard_industrial_classification_list?sicCode=3571&apikey=YOUR_API_KEY\" target=\"_blank\" class=\"background-link last-href\" data-v-ca18938c>/api/v4/standard_industrial_classification_list?<span class=\"symbol bold\">sicCode</span>=<span class=\"symbol\">3571</span></a>\n",
      "\t\t\t\t\t\t\t\t</pre><h3 style=\"border:none;margin-top:20px\" data-v-ca18938c><a href=\"/developer/docs/standard-industrial-classification-api\" class=\"span-margin hoover-header integration\" data-v-ca18938c><span style=\"color:#ec407a;font-weight:600\" data-v-ca18938c>Example</span> with Javascript, JQuery, VueJS, Angular, JAVA, PHP, NodeJS, Python, Go, Ruby, C#, R, Strest, Rust, Swift and Scala</a></h3></div><!----></div></section><section id=\"COT-Trading-Symbols-List\" class=\"section-top min-height-section\" data-v-ca18938c><h2 data-v-ca18938c><a href=\"/developer/docs/cot-symbols-list-api\" class=\"contain-header hoover-header\" data-v-ca18938c><div class=\"title-head\" data-v-ca18938c><div data-v-ca18938c>COT Trading Symbols List <svg aria-hidden=\"true\" height=\"12\" width=\"12\" viewBox=\"0 0 16 16\" xmlns=\"http://www.w3.org/2000/svg\" class=\"SVGInline-svg SVGInline--cleaned-svg SVG-svg Icon-svg Icon--arrowRight-svg Icon-color-svg Icon-color--blue-svg\" data-v-ca18938c><path d=\"M12.583 7L7.992 2.409A1 1 0 1 1 9.407.993l6.3 6.3a1 1 0 0 1 0 1.414l-6.3 6.3a1 1 0 0 1-1.415-1.416L12.583 9H1a1 1 0 1 1 0-2z\" fill-rule=\"evenodd\" data-v-ca18938c></path></svg></div></div></a></h2><div class=\"contain-main-block\" style=\"margin-top:0\" data-v-ca18938c><div class=\"contain-block-prettyprint\" data-v-ca18938c><!----><!----><!----> <span class=\"span-margin\" data-v-ca18938c>List of symbols for COT <span class=\"label info-link\">JSON</span></span><pre class=\"href-pre\" data-v-ca18938c>\t\t\t\t\t\t\t\t\t<a href=\"https://financialmodelingprep.com/api/v4/commitment_of_traders_report/list?apikey=YOUR_API_KEY\" target=\"_blank\" class=\"background-link last-href\" data-v-ca18938c>/api/v4/commitment_of_traders_report/<span class=\"symbol\">list</span></a>\n",
      "\t\t\t\t\t\t\t\t</pre><h3 style=\"border:none;margin-top:20px\" data-v-ca18938c><a href=\"/developer/docs/cot-symbols-list-api\" class=\"span-margin hoover-header integration\" data-v-ca18938c><span style=\"color:#ec407a;font-weight:600\" data-v-ca18938c>Example</span> with Javascript, JQuery, VueJS, Angular, JAVA, PHP, NodeJS, Python, Go, Ruby, C#, R, Strest, Rust, Swift and Scala</a></h3></div><!----></div></section><section id=\"Commitments-of-Traders-Report\" class=\"section-top min-height-section\" data-v-ca18938c><h2 data-v-ca18938c><a href=\"/developer/docs/cot-reports-api\" class=\"contain-header hoover-header\" data-v-ca18938c><div class=\"title-head\" data-v-ca18938c><div data-v-ca18938c>Commitments of Traders Report <svg aria-hidden=\"true\" height=\"12\" width=\"12\" viewBox=\"0 0 16 16\" xmlns=\"http://www.w3.org/2000/svg\" class=\"SVGInline-svg SVGInline--cleaned-svg SVG-svg Icon-svg Icon--arrowRight-svg Icon-color-svg Icon-color--blue-svg\" data-v-ca18938c><path d=\"M12.583 7L7.992 2.409A1 1 0 1 1 9.407.993l6.3 6.3a1 1 0 0 1 0 1.414l-6.3 6.3a1 1 0 0 1-1.415-1.416L12.583 9H1a1 1 0 1 1 0-2z\" fill-rule=\"evenodd\" data-v-ca18938c></path></svg></div></div></a></h2><div class=\"contain-main-block\" style=\"margin-top:0\" data-v-ca18938c><div class=\"contain-block-prettyprint\" data-v-ca18938c><!----><!----><!----> <span class=\"span-margin\" data-v-ca18938c><p style=\"font-size:13px;line-height:1em\">The Commodity Futures Trading Commission (Commission or CFTC) publishes the Commitments of Traders (COT) reports to help the public understand market dynamics. Specifically, the COT reports provide a breakdown of each Tuesdayâs open interest for futures and options on futures markets in which 20 or more traders hold positions equal to or above the reporting levels established by the CFTC.<br>Generally, the data in the COT reports is from Tuesday and released Friday. The CFTC receives the data from the reporting firms on Wednesday morning and then corrects and verifies the data for release by Friday afternoon.<br></p><br>List of reports for period of time <span class=\"label info-link\">JSON</span></span><pre class=\"href-pre\" data-v-ca18938c>\t\t\t\t\t\t\t\t\t<a href=\"https://financialmodelingprep.com/api/v4/commitment_of_traders_report?from=2020-09-12&to=2021-01-01&apikey=YOUR_API_KEY\" target=\"_blank\" class=\"background-link\" data-v-ca18938c>/api/v4/commitment_of_traders_report?<span class=\"symbol\">from</span>=2020-09-12&<span class=\"symbol\">to</span>=2021-01-01</a>\n",
      "\t\t\t\t\t\t\t\t</pre><!----></div><!----></div><div class=\"contain-main-block margin-head-top-pretty1\" style=\"margin-top:0\" data-v-ca18938c><div class=\"contain-block-prettyprint\" data-v-ca18938c><!----><!----><!----> <span class=\"span-margin\" data-v-ca18938c>List of reports for specific symbol <span class=\"label info-link\">JSON</span></span><pre class=\"href-pre\" data-v-ca18938c>\t\t\t\t\t\t\t\t\t<a href=\"https://financialmodelingprep.com/api/v4/commitment_of_traders_report/ES?apikey=YOUR_API_KEY\" target=\"_blank\" class=\"background-link last-href\" data-v-ca18938c>/api/v4/commitment_of_traders_report/<span class=\"symbol\">ES</span></a>\n",
      "\t\t\t\t\t\t\t\t</pre><h3 style=\"border:none;margin-top:20px\" data-v-ca18938c><a href=\"/developer/docs/cot-reports-api\" class=\"span-margin hoover-header integration\" data-v-ca18938c><span style=\"color:#ec407a;font-weight:600\" data-v-ca18938c>Example</span> with Javascript, JQuery, VueJS, Angular, JAVA, PHP, NodeJS, Python, Go, Ruby, C#, R, Strest, Rust, Swift and Scala</a></h3></div><!----></div></section><section id=\"Commitments-of-Traders-Analysis\" class=\"section-top min-height-section\" data-v-ca18938c><h2 data-v-ca18938c><a href=\"/developer/docs/cot-reports-analysis-api\" class=\"contain-header hoover-header\" data-v-ca18938c><div class=\"title-head\" data-v-ca18938c><div data-v-ca18938c>Commitments of Traders Analysis <svg aria-hidden=\"true\" height=\"12\" width=\"12\" viewBox=\"0 0 16 16\" xmlns=\"http://www.w3.org/2000/svg\" class=\"SVGInline-svg SVGInline--cleaned-svg SVG-svg Icon-svg Icon--arrowRight-svg Icon-color-svg Icon-color--blue-svg\" data-v-ca18938c><path d=\"M12.583 7L7.992 2.409A1 1 0 1 1 9.407.993l6.3 6.3a1 1 0 0 1 0 1.414l-6.3 6.3a1 1 0 0 1-1.415-1.416L12.583 9H1a1 1 0 1 1 0-2z\" fill-rule=\"evenodd\" data-v-ca18938c></path></svg></div></div></a></h2><div class=\"contain-main-block\" style=\"margin-top:0\" data-v-ca18938c><div class=\"contain-block-prettyprint\" data-v-ca18938c><!----><!----><!----> <span class=\"span-margin\" data-v-ca18938c>Analysis of reports for time period <span class=\"label info-link\">JSON</span></span><pre class=\"href-pre\" data-v-ca18938c>\t\t\t\t\t\t\t\t\t<a href=\"https://financialmodelingprep.com/api/v4/commitment_of_traders_report_analysis?from=2020-09-12&to=2021-01-01&apikey=YOUR_API_KEY\" target=\"_blank\" class=\"background-link\" data-v-ca18938c>/api/v4/commitment_of_traders_report_analysis?<span class=\"symbol\">from</span>=2020-09-12&<span class=\"symbol\">to</span>=2021-01-01</a>\n",
      "\t\t\t\t\t\t\t\t</pre><!----></div><!----></div><div class=\"contain-main-block margin-head-top-top-top-pretty\" style=\"margin-top:0\" data-v-ca18938c><div class=\"contain-block-prettyprint\" data-v-ca18938c><!----><!----><!----> <span class=\"span-margin\" data-v-ca18938c>Analysis of reports for trading symbol <span class=\"label info-link\">JSON</span></span><pre class=\"href-pre\" data-v-ca18938c>\t\t\t\t\t\t\t\t\t<a href=\"https://financialmodelingprep.com/api/v4/commitment_of_traders_report_analysis/M6?apikey=YOUR_API_KEY\" target=\"_blank\" class=\"background-link last-href\" data-v-ca18938c>/api/v4/commitment_of_traders_report_analysis/<span class=\"symbol\">M6</span></a>\n",
      "\t\t\t\t\t\t\t\t</pre><h3 style=\"border:none;margin-top:20px\" data-v-ca18938c><a href=\"/developer/docs/cot-reports-analysis-api\" class=\"span-margin hoover-header integration\" data-v-ca18938c><span style=\"color:#ec407a;font-weight:600\" data-v-ca18938c>Example</span> with Javascript, JQuery, VueJS, Angular, JAVA, PHP, NodeJS, Python, Go, Ruby, C#, R, Strest, Rust, Swift and Scala</a></h3></div><!----></div></section><section class=\"contain-big-section\" data-v-ca18938c><div data-v-ca18938c>STOCK STATISTICS</div></section><section id=\"Social-Sentiment\" class=\"section-top min-height-section\" data-v-ca18938c><h2 data-v-ca18938c><a href=\"/developer/docs/social-sentiment-api\" class=\"contain-header hoover-header\" data-v-ca18938c><div class=\"title-head\" data-v-ca18938c><div data-v-ca18938c>Social Sentiment <svg aria-hidden=\"true\" height=\"12\" width=\"12\" viewBox=\"0 0 16 16\" xmlns=\"http://www.w3.org/2000/svg\" class=\"SVGInline-svg SVGInline--cleaned-svg SVG-svg Icon-svg Icon--arrowRight-svg Icon-color-svg Icon-color--blue-svg\" data-v-ca18938c><path d=\"M12.583 7L7.992 2.409A1 1 0 1 1 9.407.993l6.3 6.3a1 1 0 0 1 0 1.414l-6.3 6.3a1 1 0 0 1-1.415-1.416L12.583 9H1a1 1 0 1 1 0-2z\" fill-rule=\"evenodd\" data-v-ca18938c></path></svg></div></div></a></h2><div class=\"contain-main-block\" style=\"margin-top:0\" data-v-ca18938c><div class=\"contain-block-prettyprint\" data-v-ca18938c><!----><!----><!----> <span class=\"span-margin\" data-v-ca18938c>Historical Social Media sentiment for stock (time in UTC) <span class=\"label info-link\">JSON</span></span><pre class=\"href-pre\" data-v-ca18938c>\t\t\t\t\t\t\t\t\t<a href=\"https://financialmodelingprep.com/api/v4/historical/social-sentiment?symbol=AAPL&page=0&apikey=YOUR_API_KEY\" target=\"_blank\" class=\"background-link\" data-v-ca18938c>/api/v4/historical/social-sentiment?<span class=\"symbol bold\">symbol</span>=<span class=\"symbol\">AAPL</span>&<span class=\"symbol bold\">page</span>=<span class=\"symbol\">0</span></a>\n",
      "\t\t\t\t\t\t\t\t</pre><!----></div><!----></div><div class=\"contain-main-block margin-head-top-top-top-pretty\" style=\"margin-top:0\" data-v-ca18938c><div class=\"contain-block-prettyprint\" data-v-ca18938c><!----><!----><!----> <span class=\"span-margin\" data-v-ca18938c>Trending social sentiment <span class=\"label info-link\">JSON</span></span><pre class=\"href-pre\" data-v-ca18938c>\t\t\t\t\t\t\t\t\t<a href=\"https://financialmodelingprep.com/api/v4/social-sentiment/trending?apikey=YOUR_API_KEY\" target=\"_blank\" class=\"background-link\" data-v-ca18938c>/api/v4/social-sentiment/trending</a>\n",
      "\t\t\t\t\t\t\t\t</pre><!----></div><!----></div><div class=\"contain-main-block\" style=\"margin-top:0\" data-v-ca18938c><div class=\"contain-block-prettyprint\" data-v-ca18938c><!----><!----><!----> <span class=\"span-margin\" data-v-ca18938c>Trending social sentiment per type and source <span class=\"label info-link\">JSON</span><ul style=\"padding-left:0;margin-top:10px;margin-bottom:20px\"><li>type: bullish | bearish</li><li>source: twitter | stocktwits</li></ul></span><pre class=\"href-pre\" data-v-ca18938c>\t\t\t\t\t\t\t\t\t<a href=\"https://financialmodelingprep.com/api/v4/social-sentiments/trending?type=bullish&source=stocktwits&apikey=YOUR_API_KEY\" target=\"_blank\" class=\"background-link\" data-v-ca18938c>/api/v4/social-sentiments/trending?<span class=\"symbol bold\">type</span>=<span class=\"symbol\">bullish</span>&<span class=\"symbol bold\">source</span>=<span class=\"symbol\">stocktwits</span></a>\n",
      "\t\t\t\t\t\t\t\t</pre><!----></div><!----></div><div class=\"contain-main-block\" style=\"margin-top:0\" data-v-ca18938c><div class=\"contain-block-prettyprint\" data-v-ca18938c><!----><!----><!----> <span class=\"span-margin\" data-v-ca18938c>Biggest changes in social sentiment per type and source <span class=\"label info-link\">JSON</span></span><pre class=\"href-pre\" data-v-ca18938c>\t\t\t\t\t\t\t\t\t<a href=\"https://financialmodelingprep.com/api/v4/social-sentiments/change?type=bullish&source=stocktwits&apikey=YOUR_API_KEY\" target=\"_blank\" class=\"background-link last-href\" data-v-ca18938c>/api/v4/social-sentiments/change?<span class=\"symbol bold\">type</span>=<span class=\"symbol\">bullish</span>&<span class=\"symbol bold\">source</span>=<span class=\"symbol\">stocktwits</span></a>\n",
      "\t\t\t\t\t\t\t\t</pre><h3 style=\"border:none;margin-top:20px\" data-v-ca18938c><a href=\"/developer/docs/social-sentiment-api\" class=\"span-margin hoover-header integration\" data-v-ca18938c><span style=\"color:#ec407a;font-weight:600\" data-v-ca18938c>Example</span> with Javascript, JQuery, VueJS, Angular, JAVA, PHP, NodeJS, Python, Go, Ruby, C#, R, Strest, Rust, Swift and Scala</a></h3></div><!----></div></section><section id=\"Stock-Grade\" class=\"section-top min-height-section\" data-v-ca18938c><h2 data-v-ca18938c><a href=\"/developer/docs/stock-grade-api\" class=\"contain-header hoover-header\" data-v-ca18938c><div class=\"title-head\" data-v-ca18938c><div data-v-ca18938c>Stock Grade <svg aria-hidden=\"true\" height=\"12\" width=\"12\" viewBox=\"0 0 16 16\" xmlns=\"http://www.w3.org/2000/svg\" class=\"SVGInline-svg SVGInline--cleaned-svg SVG-svg Icon-svg Icon--arrowRight-svg Icon-color-svg Icon-color--blue-svg\" data-v-ca18938c><path d=\"M12.583 7L7.992 2.409A1 1 0 1 1 9.407.993l6.3 6.3a1 1 0 0 1 0 1.414l-6.3 6.3a1 1 0 0 1-1.415-1.416L12.583 9H1a1 1 0 1 1 0-2z\" fill-rule=\"evenodd\" data-v-ca18938c></path></svg></div></div></a></h2><div class=\"contain-main-block\" style=\"margin-top:0\" data-v-ca18938c><div class=\"contain-block-prettyprint\" data-v-ca18938c><!----><!----><!----> <span class=\"span-margin\" data-v-ca18938c>Stock grade from analysts <span class=\"label info-link\">JSON</span></span><pre class=\"href-pre\" data-v-ca18938c>\t\t\t\t\t\t\t\t\t<a href=\"https://financialmodelingprep.com/api/v3/grade/AAPL?limit=500&apikey=YOUR_API_KEY\" target=\"_blank\" class=\"background-link last-href\" data-v-ca18938c>/api/v3/grade/<span class=\"symbol\">AAPL</span>?<span class=\"symbol bold\">limit</span>=<span class=\"symbol\">500</span></a>\n",
      "\t\t\t\t\t\t\t\t</pre><h3 style=\"border:none;margin-top:20px\" data-v-ca18938c><a href=\"/developer/docs/stock-grade-api\" class=\"span-margin hoover-header integration\" data-v-ca18938c><span style=\"color:#ec407a;font-weight:600\" data-v-ca18938c>Example</span> with Javascript, JQuery, VueJS, Angular, JAVA, PHP, NodeJS, Python, Go, Ruby, C#, R, Strest, Rust, Swift and Scala</a></h3></div><!----></div></section><section id=\"Earnings-Surprises\" class=\"section-top min-height-section\" data-v-ca18938c><h2 data-v-ca18938c><a href=\"/developer/docs/earnings-surprises-api\" class=\"contain-header hoover-header\" data-v-ca18938c><div class=\"title-head\" data-v-ca18938c><div data-v-ca18938c>Earnings Surprises <svg aria-hidden=\"true\" height=\"12\" width=\"12\" viewBox=\"0 0 16 16\" xmlns=\"http://www.w3.org/2000/svg\" class=\"SVGInline-svg SVGInline--cleaned-svg SVG-svg Icon-svg Icon--arrowRight-svg Icon-color-svg Icon-color--blue-svg\" data-v-ca18938c><path d=\"M12.583 7L7.992 2.409A1 1 0 1 1 9.407.993l6.3 6.3a1 1 0 0 1 0 1.414l-6.3 6.3a1 1 0 0 1-1.415-1.416L12.583 9H1a1 1 0 1 1 0-2z\" fill-rule=\"evenodd\" data-v-ca18938c></path></svg></div></div></a></h2><div class=\"contain-main-block\" style=\"margin-top:0\" data-v-ca18938c><div class=\"contain-block-prettyprint\" data-v-ca18938c><!----><!----><!----> <span class=\"span-margin\" data-v-ca18938c>Earnings Surprises <span class=\"label info-link\">JSON</span></span><pre class=\"href-pre\" data-v-ca18938c>\t\t\t\t\t\t\t\t\t<a href=\"https://financialmodelingprep.com/api/v3/earnings-surprises/AAPL?apikey=YOUR_API_KEY\" target=\"_blank\" class=\"background-link last-href\" data-v-ca18938c>/api/v3/earnings-surprises/<span class=\"symbol\">AAPL</span></a>\n",
      "\t\t\t\t\t\t\t\t</pre><h3 style=\"border:none;margin-top:20px\" data-v-ca18938c><a href=\"/developer/docs/earnings-surprises-api\" class=\"span-margin hoover-header integration\" data-v-ca18938c><span style=\"color:#ec407a;font-weight:600\" data-v-ca18938c>Example</span> with Javascript, JQuery, VueJS, Angular, JAVA, PHP, NodeJS, Python, Go, Ruby, C#, R, Strest, Rust, Swift and Scala</a></h3></div><!----></div></section><section id=\"Analyst-Estimates\" class=\"section-top min-height-section\" data-v-ca18938c><h2 data-v-ca18938c><a href=\"/developer/docs/analyst-estimates-api\" class=\"contain-header hoover-header\" data-v-ca18938c><div class=\"title-head\" data-v-ca18938c><div data-v-ca18938c>Analyst Estimates <svg aria-hidden=\"true\" height=\"12\" width=\"12\" viewBox=\"0 0 16 16\" xmlns=\"http://www.w3.org/2000/svg\" class=\"SVGInline-svg SVGInline--cleaned-svg SVG-svg Icon-svg Icon--arrowRight-svg Icon-color-svg Icon-color--blue-svg\" data-v-ca18938c><path d=\"M12.583 7L7.992 2.409A1 1 0 1 1 9.407.993l6.3 6.3a1 1 0 0 1 0 1.414l-6.3 6.3a1 1 0 0 1-1.415-1.416L12.583 9H1a1 1 0 1 1 0-2z\" fill-rule=\"evenodd\" data-v-ca18938c></path></svg></div></div></a></h2><div class=\"contain-main-block\" style=\"margin-top:0\" data-v-ca18938c><div class=\"contain-block-prettyprint\" data-v-ca18938c><!----><!----><!----> <span class=\"span-margin\" data-v-ca18938c>Annual analyst estimates of a stock <span class=\"label info-dark\">Annual</span> <span class=\"label info-link\">JSON</span></span><pre class=\"href-pre\" data-v-ca18938c>\t\t\t\t\t\t\t\t\t<a href=\"https://financialmodelingprep.com/api/v3/analyst-estimates/AAPL?limit=30&apikey=YOUR_API_KEY\" target=\"_blank\" class=\"background-link\" data-v-ca18938c>/api/v3/analyst-estimates/<span class=\"symbol\">AAPL</span>?<span class=\"symbol bold\">limit</span>=<span class=\"symbol\">30</span></a>\n",
      "\t\t\t\t\t\t\t\t</pre><!----></div><!----></div><div class=\"contain-main-block margin-head-top-top-top-pretty\" style=\"margin-top:0\" data-v-ca18938c><div class=\"contain-block-prettyprint\" data-v-ca18938c><!----><!----><!----> <span class=\"span-margin\" data-v-ca18938c>Quarter analyst estimates of a stock <span class=\"label info-dark\">Quarter</span> <span class=\"label info-link\">JSON</span></span><pre class=\"href-pre\" data-v-ca18938c>\t\t\t\t\t\t\t\t\t<a href=\"https://financialmodelingprep.com/api/v3/analyst-estimates/AAPL?period=quarter&limit=30&apikey=YOUR_API_KEY\" target=\"_blank\" class=\"background-link last-href\" data-v-ca18938c>/api/v3/analyst-estimates/<span class=\"symbol\">AAPL</span>?<span class=\"symbol bold\">period</span>=<span class=\"symbol\">quarter</span>&<span class=\"symbol bold\">limit</span>=<span class=\"symbol\">30</span></a>\n",
      "\t\t\t\t\t\t\t\t</pre><h3 style=\"border:none;margin-top:20px\" data-v-ca18938c><a href=\"/developer/docs/analyst-estimates-api\" class=\"span-margin hoover-header integration\" data-v-ca18938c><span style=\"color:#ec407a;font-weight:600\" data-v-ca18938c>Example</span> with Javascript, JQuery, VueJS, Angular, JAVA, PHP, NodeJS, Python, Go, Ruby, C#, R, Strest, Rust, Swift and Scala</a></h3></div><!----></div></section><section id=\"MERGER-AND-ACQUISITION\" class=\"section-top min-height-section\" data-v-ca18938c><h2 data-v-ca18938c><a href=\"/developer/docs/merger-and-acquisition-api\" class=\"contain-header hoover-header\" data-v-ca18938c><div class=\"title-head\" data-v-ca18938c><div data-v-ca18938c>MERGER AND ACQUISITION <svg aria-hidden=\"true\" height=\"12\" width=\"12\" viewBox=\"0 0 16 16\" xmlns=\"http://www.w3.org/2000/svg\" class=\"SVGInline-svg SVGInline--cleaned-svg SVG-svg Icon-svg Icon--arrowRight-svg Icon-color-svg Icon-color--blue-svg\" data-v-ca18938c><path d=\"M12.583 7L7.992 2.409A1 1 0 1 1 9.407.993l6.3 6.3a1 1 0 0 1 0 1.414l-6.3 6.3a1 1 0 0 1-1.415-1.416L12.583 9H1a1 1 0 1 1 0-2z\" fill-rule=\"evenodd\" data-v-ca18938c></path></svg></div></div></a></h2><div class=\"contain-main-block\" style=\"margin-top:0\" data-v-ca18938c><div class=\"contain-block-prettyprint\" data-v-ca18938c><!----><!----><!----> <span class=\"span-margin\" data-v-ca18938c>Mergers and acquisitions rss feed <span class=\"label info-link\">JSON</span></span><pre class=\"href-pre\" data-v-ca18938c>\t\t\t\t\t\t\t\t\t<a href=\"https://financialmodelingprep.com/api/v4/mergers-acquisitions-rss-feed?page=0&apikey=YOUR_API_KEY\" target=\"_blank\" class=\"background-link\" data-v-ca18938c>/api/v4/mergers-acquisitions-rss-feed?<span class=\"symbol bold\">page</span>=<span class=\"symbol\">0</span></a>\n",
      "\t\t\t\t\t\t\t\t</pre><!----></div><!----></div><div class=\"contain-main-block margin-head-top-top-top-pretty\" style=\"margin-top:0\" data-v-ca18938c><div class=\"contain-block-prettyprint\" data-v-ca18938c><!----><!----><!----> <span class=\"span-margin\" data-v-ca18938c>Search mergers and acquisitions <span class=\"label info-link\">JSON</span></span><pre class=\"href-pre\" data-v-ca18938c>\t\t\t\t\t\t\t\t\t<a href=\"https://financialmodelingprep.com/api/v4/mergers-acquisitions/search?name=Syros&apikey=YOUR_API_KEY\" target=\"_blank\" class=\"background-link last-href\" data-v-ca18938c>/api/v4/mergers-acquisitions/search?<span class=\"symbol bold\">name</span>=<span class=\"symbol\">Syros</span></a>\n",
      "\t\t\t\t\t\t\t\t</pre><h3 style=\"border:none;margin-top:20px\" data-v-ca18938c><a href=\"/developer/docs/merger-and-acquisition-api\" class=\"span-margin hoover-header integration\" data-v-ca18938c><span style=\"color:#ec407a;font-weight:600\" data-v-ca18938c>Example</span> with Javascript, JQuery, VueJS, Angular, JAVA, PHP, NodeJS, Python, Go, Ruby, C#, R, Strest, Rust, Swift and Scala</a></h3></div><!----></div></section><section class=\"contain-big-section\" data-v-ca18938c><div data-v-ca18938c>INSIDER TRADING</div></section><section id=\"Stock-Insider-Trading\" class=\"section-top min-height-section\" data-v-ca18938c><h2 data-v-ca18938c><a href=\"/developer/docs/stock-insider-trading-api\" class=\"contain-header hoover-header\" data-v-ca18938c><div class=\"title-head\" data-v-ca18938c><div data-v-ca18938c>Stock Insider Trading <svg aria-hidden=\"true\" height=\"12\" width=\"12\" viewBox=\"0 0 16 16\" xmlns=\"http://www.w3.org/2000/svg\" class=\"SVGInline-svg SVGInline--cleaned-svg SVG-svg Icon-svg Icon--arrowRight-svg Icon-color-svg Icon-color--blue-svg\" data-v-ca18938c><path d=\"M12.583 7L7.992 2.409A1 1 0 1 1 9.407.993l6.3 6.3a1 1 0 0 1 0 1.414l-6.3 6.3a1 1 0 0 1-1.415-1.416L12.583 9H1a1 1 0 1 1 0-2z\" fill-rule=\"evenodd\" data-v-ca18938c></path></svg></div></div></a></h2><div class=\"contain-main-block\" style=\"margin-top:0\" data-v-ca18938c><div class=\"contain-block-prettyprint\" data-v-ca18938c><!----><!----><!----> <span class=\"span-margin\" data-v-ca18938c><p style=\"font-size:12px;line-height:1em\">The federal securities laws require certain individuals (such as officers, directors, and those that hold more than 10% of any class of a companyâs securities, together weâll call, âinsidersâ) to report purchases, sales, and holdings of their companyâs securities by filing Forms 3, 4, and 5.</p><br>Most recent Stock Insider trading Transaction <span class=\"label info-link\">JSON</span></span><pre class=\"href-pre\" data-v-ca18938c>\t\t\t\t\t\t\t\t\t<a href=\"https://financialmodelingprep.com/api/v4/insider-trading?transactionType=P-Purchase,S-Sale&page=0&apikey=YOUR_API_KEY\" target=\"_blank\" class=\"background-link\" data-v-ca18938c>/api/v4/insider-trading?<span class=\"symbol bold\">transactionType</span>=<span class=\"symbol\">P-Purchase,S-Sale</span>&<span class=\"symbol bold\">page</span>=<span class=\"symbol\">0</span></a>\n",
      "\t\t\t\t\t\t\t\t</pre><!----></div><!----></div><div class=\"contain-main-block margin-head-top-pretty\" style=\"margin-top:0\" data-v-ca18938c><div class=\"contain-block-prettyprint\" data-v-ca18938c><!----><!----><!----> <span class=\"span-margin\" data-v-ca18938c>List of all transaction types <span class=\"label info-link\">JSON</span></span><pre class=\"href-pre\" data-v-ca18938c>\t\t\t\t\t\t\t\t\t<a href=\"https://financialmodelingprep.com/api/v4/insider-trading-transaction-type?apikey=YOUR_API_KEY\" target=\"_blank\" class=\"background-link\" data-v-ca18938c>/api/v4/<span class=\"symbol bold\">insider-trading-transaction-type</span></a>\n",
      "\t\t\t\t\t\t\t\t</pre><!----></div><!----></div><div class=\"contain-main-block\" style=\"margin-top:0\" data-v-ca18938c><div class=\"contain-block-prettyprint\" data-v-ca18938c><!----><!----><!----> <span class=\"span-margin\" data-v-ca18938c>Stock insider trading using ticker <span class=\"label info-link\">JSON</span></span><pre class=\"href-pre\" data-v-ca18938c>\t\t\t\t\t\t\t\t\t<a href=\"https://financialmodelingprep.com/api/v4/insider-trading?symbol=AAPL&page=0&apikey=YOUR_API_KEY\" target=\"_blank\" class=\"background-link\" data-v-ca18938c>/api/v4/insider-trading?<span class=\"symbol bold\">symbol</span>=<span class=\"symbol\">AAPL</span>&<span class=\"symbol bold\">page</span>=<span class=\"symbol\">0</span></a>\n",
      "\t\t\t\t\t\t\t\t</pre><!----></div><!----></div><div class=\"contain-main-block\" style=\"margin-top:0\" data-v-ca18938c><div class=\"contain-block-prettyprint\" data-v-ca18938c><!----><!----><!----> <span class=\"span-margin\" data-v-ca18938c>Stock insider trading using reporting CIK <span class=\"label info-link\">JSON</span></span><pre class=\"href-pre\" data-v-ca18938c>\t\t\t\t\t\t\t\t\t<a href=\"https://financialmodelingprep.com/api/v4/insider-trading?reportingCik=0001663020&page=0&apikey=YOUR_API_KEY\" target=\"_blank\" class=\"background-link\" data-v-ca18938c>/api/v4/insider-trading?<span class=\"symbol bold\">reportingCik</span>=<span class=\"symbol\">0001663020</span>&<span class=\"symbol bold\">page</span>=<span class=\"symbol\">0</span></a>\n",
      "\t\t\t\t\t\t\t\t</pre><!----></div><!----></div><div class=\"contain-main-block\" style=\"margin-top:0\" data-v-ca18938c><div class=\"contain-block-prettyprint\" data-v-ca18938c><!----><!----><!----> <span class=\"span-margin\" data-v-ca18938c>Stock insider trading using company CIK <span class=\"label info-link\">JSON</span></span><pre class=\"href-pre\" data-v-ca18938c>\t\t\t\t\t\t\t\t\t<a href=\"https://financialmodelingprep.com/api/v4/insider-trading?companyCik=0000320193&page=0&apikey=YOUR_API_KEY\" target=\"_blank\" class=\"background-link\" data-v-ca18938c>/api/v4/insider-trading?<span class=\"symbol bold\">companyCik</span>=<span class=\"symbol\">0000320193</span>&<span class=\"symbol bold\">page</span>=<span class=\"symbol\">0</span></a>\n",
      "\t\t\t\t\t\t\t\t</pre><!----></div><!----></div><div class=\"contain-main-block\" style=\"margin-top:0\" data-v-ca18938c><div class=\"contain-block-prettyprint\" data-v-ca18938c><!----><!----><h3 class=\"margin-head\" data-v-ca18938c><!----> <a href=\"/developer/docs/stock-insider-trading-api#CIK-Mapper\" class=\"contain-header hoover-header\" data-v-ca18938c><div class=\"lower-title\" data-v-ca18938c>CIK Mapper</div></a></h3><span class=\"span-margin\" data-v-ca18938c>List with names and their CIK <span class=\"label info-link\">JSON</span></span><pre class=\"href-pre\" data-v-ca18938c>\t\t\t\t\t\t\t\t\t<a href=\"https://financialmodelingprep.com/api/v4/mapper-cik-name?page=3&apikey=YOUR_API_KEY\" target=\"_blank\" class=\"background-link\" data-v-ca18938c>/api/v4/mapper-cik-name?<span class=\"symbol bold\">page</span>=<span class=\"symbol\">3</span></a>\n",
      "\t\t\t\t\t\t\t\t</pre><!----></div><!----></div><div class=\"contain-main-block\" style=\"margin-top:0\" data-v-ca18938c><div class=\"contain-block-prettyprint\" data-v-ca18938c><!----><!----><!----> <span class=\"span-margin\" data-v-ca18938c>CIK mapper using name param <span class=\"label info-link\">JSON</span></span><pre class=\"href-pre\" data-v-ca18938c>\t\t\t\t\t\t\t\t\t<a href=\"https://financialmodelingprep.com/api/v4/mapper-cik-name?name=zuckerberg%20mark&apikey=YOUR_API_KEY\" target=\"_blank\" class=\"background-link\" data-v-ca18938c>/api/v4/mapper-cik-name?<span class=\"symbol bold\">name</span>=<span class=\"symbol\">zuckerberg%20mark</span></a>\n",
      "\t\t\t\t\t\t\t\t</pre><!----></div><!----></div><div class=\"contain-main-block\" style=\"margin-top:0\" data-v-ca18938c><div class=\"contain-block-prettyprint\" data-v-ca18938c><!----><!----><!----> <span class=\"span-margin\" data-v-ca18938c>Company CIK mapper <span class=\"label info-link\">JSON</span></span><pre class=\"href-pre\" data-v-ca18938c>\t\t\t\t\t\t\t\t\t<a href=\"https://financialmodelingprep.com/api/v4/mapper-cik-company/MSFT?apikey=YOUR_API_KEY\" target=\"_blank\" class=\"background-link\" data-v-ca18938c>/api/v4/mapper-cik-company/<span class=\"symbol bold\">MSFT</span></a>\n",
      "\t\t\t\t\t\t\t\t</pre><!----></div><!----></div><div class=\"contain-main-block\" style=\"margin-top:0\" data-v-ca18938c><div class=\"contain-block-prettyprint\" data-v-ca18938c><!----><!----><h3 class=\"margin-head\" data-v-ca18938c><!----> <a href=\"/developer/docs/stock-insider-trading-api#Insider-Roaster\" class=\"contain-header hoover-header\" data-v-ca18938c><div class=\"lower-title\" data-v-ca18938c>Insider Roaster</div></a></h3><span class=\"span-margin\" data-v-ca18938c>Insider roaster <span class=\"label info-link\">JSON</span></span><pre class=\"href-pre\" data-v-ca18938c>\t\t\t\t\t\t\t\t\t<a href=\"https://financialmodelingprep.com/api/v4/insider-roaster?symbol=AAPL&apikey=YOUR_API_KEY\" target=\"_blank\" class=\"background-link\" data-v-ca18938c>/api/v4/insider-roaster?<span class=\"symbol bold\">symbol</span>=<span class=\"symbol\">AAPL</span></a>\n",
      "\t\t\t\t\t\t\t\t</pre><!----></div><!----></div><div class=\"contain-main-block\" style=\"margin-top:0\" data-v-ca18938c><div class=\"contain-block-prettyprint\" data-v-ca18938c><!----><!----><!----> <span class=\"span-margin\" data-v-ca18938c>Insider roaster statistics <span class=\"label info-link\">JSON</span></span><pre class=\"href-pre\" data-v-ca18938c>\t\t\t\t\t\t\t\t\t<a href=\"https://financialmodelingprep.com/api/v4/insider-roaster-statistic?symbol=AAPL&apikey=YOUR_API_KEY\" target=\"_blank\" class=\"background-link last-href\" data-v-ca18938c>/api/v4/insider-roaster-statistic?<span class=\"symbol bold\">symbol</span>=<span class=\"symbol\">AAPL</span></a>\n",
      "\t\t\t\t\t\t\t\t</pre><h3 style=\"border:none;margin-top:20px\" data-v-ca18938c><a href=\"/developer/docs/stock-insider-trading-api\" class=\"span-margin hoover-header integration\" data-v-ca18938c><span style=\"color:#ec407a;font-weight:600\" data-v-ca18938c>Example</span> with Javascript, JQuery, VueJS, Angular, JAVA, PHP, NodeJS, Python, Go, Ruby, C#, R, Strest, Rust, Swift and Scala</a></h3></div><!----></div></section><section id=\"Insider-Trading-RSS-Feed\" class=\"section-top min-height-section\" data-v-ca18938c><h2 data-v-ca18938c><a href=\"/developer/docs/insider-trading-rss-feed-api\" class=\"contain-header hoover-header\" data-v-ca18938c><div class=\"title-head\" data-v-ca18938c><div data-v-ca18938c>Insider Trading RSS Feed <svg aria-hidden=\"true\" height=\"12\" width=\"12\" viewBox=\"0 0 16 16\" xmlns=\"http://www.w3.org/2000/svg\" class=\"SVGInline-svg SVGInline--cleaned-svg SVG-svg Icon-svg Icon--arrowRight-svg Icon-color-svg Icon-color--blue-svg\" data-v-ca18938c><path d=\"M12.583 7L7.992 2.409A1 1 0 1 1 9.407.993l6.3 6.3a1 1 0 0 1 0 1.414l-6.3 6.3a1 1 0 0 1-1.415-1.416L12.583 9H1a1 1 0 1 1 0-2z\" fill-rule=\"evenodd\" data-v-ca18938c></path></svg></div></div></a></h2><div class=\"contain-main-block\" style=\"margin-top:0\" data-v-ca18938c><div class=\"contain-block-prettyprint\" data-v-ca18938c><!----><!----><!----> <span class=\"span-margin\" data-v-ca18938c>RSS Feed of form 3,4 and 5 <span class=\"label info-link\">JSON</span></span><pre class=\"href-pre\" data-v-ca18938c>\t\t\t\t\t\t\t\t\t<a href=\"https://financialmodelingprep.com/api/v4/insider-trading-rss-feed?page=0&apikey=YOUR_API_KEY\" target=\"_blank\" class=\"background-link last-href\" data-v-ca18938c>/api/v4/insider-trading-rss-feed?<span class=\"symbol bold\">page</span>=<span class=\"symbol\">0</span></a>\n",
      "\t\t\t\t\t\t\t\t</pre><h3 style=\"border:none;margin-top:20px\" data-v-ca18938c><a href=\"/developer/docs/insider-trading-rss-feed-api\" class=\"span-margin hoover-header integration\" data-v-ca18938c><span style=\"color:#ec407a;font-weight:600\" data-v-ca18938c>Example</span> with Javascript, JQuery, VueJS, Angular, JAVA, PHP, NodeJS, Python, Go, Ruby, C#, R, Strest, Rust, Swift and Scala</a></h3></div><!----></div></section><section id=\"Fail-to-deliver\" class=\"section-top min-height-section\" data-v-ca18938c><h2 data-v-ca18938c><a href=\"/developer/docs/fail-to-deliver-api\" class=\"contain-header hoover-header\" data-v-ca18938c><div class=\"title-head\" data-v-ca18938c><div data-v-ca18938c>Fail to deliver <svg aria-hidden=\"true\" height=\"12\" width=\"12\" viewBox=\"0 0 16 16\" xmlns=\"http://www.w3.org/2000/svg\" class=\"SVGInline-svg SVGInline--cleaned-svg SVG-svg Icon-svg Icon--arrowRight-svg Icon-color-svg Icon-color--blue-svg\" data-v-ca18938c><path d=\"M12.583 7L7.992 2.409A1 1 0 1 1 9.407.993l6.3 6.3a1 1 0 0 1 0 1.414l-6.3 6.3a1 1 0 0 1-1.415-1.416L12.583 9H1a1 1 0 1 1 0-2z\" fill-rule=\"evenodd\" data-v-ca18938c></path></svg></div></div></a></h2><div class=\"contain-main-block\" style=\"margin-top:0\" data-v-ca18938c><div class=\"contain-block-prettyprint\" data-v-ca18938c><!----><!----><!----> <span class=\"span-margin\" data-v-ca18938c>Fail to deliver data for symbol <span class=\"label info-link\">JSON</span></span><pre class=\"href-pre\" data-v-ca18938c>\t\t\t\t\t\t\t\t\t<a href=\"https://financialmodelingprep.com/api/v4/fail_to_deliver?symbol=GE&page=0&apikey=YOUR_API_KEY\" target=\"_blank\" class=\"background-link last-href\" data-v-ca18938c>/api/v4/fail_to_deliver?<span class=\"symbol bold\">symbol</span>=<span class=\"symbol\">GE</span>&<span class=\"symbol bold\">page</span>=<span class=\"symbol\">0</span></a>\n",
      "\t\t\t\t\t\t\t\t</pre><h3 style=\"border:none;margin-top:20px\" data-v-ca18938c><a href=\"/developer/docs/fail-to-deliver-api\" class=\"span-margin hoover-header integration\" data-v-ca18938c><span style=\"color:#ec407a;font-weight:600\" data-v-ca18938c>Example</span> with Javascript, JQuery, VueJS, Angular, JAVA, PHP, NodeJS, Python, Go, Ruby, C#, R, Strest, Rust, Swift and Scala</a></h3></div><!----></div></section><section class=\"contain-big-section\" data-v-ca18938c><div data-v-ca18938c>SENATE TRADING</div></section><section id=\"Senate-trading\" class=\"section-top min-height-section\" data-v-ca18938c><h2 data-v-ca18938c><a href=\"/developer/docs/senate-trading-api\" class=\"contain-header hoover-header\" data-v-ca18938c><div class=\"title-head\" data-v-ca18938c><div data-v-ca18938c>Senate trading <svg aria-hidden=\"true\" height=\"12\" width=\"12\" viewBox=\"0 0 16 16\" xmlns=\"http://www.w3.org/2000/svg\" class=\"SVGInline-svg SVGInline--cleaned-svg SVG-svg Icon-svg Icon--arrowRight-svg Icon-color-svg Icon-color--blue-svg\" data-v-ca18938c><path d=\"M12.583 7L7.992 2.409A1 1 0 1 1 9.407.993l6.3 6.3a1 1 0 0 1 0 1.414l-6.3 6.3a1 1 0 0 1-1.415-1.416L12.583 9H1a1 1 0 1 1 0-2z\" fill-rule=\"evenodd\" data-v-ca18938c></path></svg></div></div></a></h2><div class=\"contain-main-block\" style=\"margin-top:0\" data-v-ca18938c><div class=\"contain-block-prettyprint\" data-v-ca18938c><!----><!----><!----> <span class=\"span-margin\" data-v-ca18938c>Senate trades for specific symbol <span class=\"label info-link\">JSON</span></span><pre class=\"href-pre\" data-v-ca18938c>\t\t\t\t\t\t\t\t\t<a href=\"https://financialmodelingprep.com/api/v4/senate-trading?symbol=AAPL&apikey=YOUR_API_KEY\" target=\"_blank\" class=\"background-link\" data-v-ca18938c>/api/v4/senate-trading?<span class=\"symbol bold\">symbol</span>=<span class=\"symbol\">AAPL</span></a>\n",
      "\t\t\t\t\t\t\t\t</pre><!----></div><!----></div><div class=\"contain-main-block margin-head-top-top-top-pretty\" style=\"margin-top:0\" data-v-ca18938c><div class=\"contain-block-prettyprint\" data-v-ca18938c><!----><!----><!----> <span class=\"span-margin\" data-v-ca18938c>Senate trades rss feed <span class=\"label info-link\">JSON</span></span><pre class=\"href-pre\" data-v-ca18938c>\t\t\t\t\t\t\t\t\t<a href=\"https://financialmodelingprep.com/api/v4/senate-trading-rss-feed?page=0&apikey=YOUR_API_KEY\" target=\"_blank\" class=\"background-link last-href\" data-v-ca18938c>/api/v4/senate-trading-rss-feed?<span class=\"symbol bold\">page</span>=<span class=\"symbol\">0</span></a>\n",
      "\t\t\t\t\t\t\t\t</pre><h3 style=\"border:none;margin-top:20px\" data-v-ca18938c><a href=\"/developer/docs/senate-trading-api\" class=\"span-margin hoover-header integration\" data-v-ca18938c><span style=\"color:#ec407a;font-weight:600\" data-v-ca18938c>Example</span> with Javascript, JQuery, VueJS, Angular, JAVA, PHP, NodeJS, Python, Go, Ruby, C#, R, Strest, Rust, Swift and Scala</a></h3></div><!----></div></section><section id=\"Senate-disclosure\" class=\"section-top min-height-section\" data-v-ca18938c><h2 data-v-ca18938c><a href=\"/developer/docs/senate-disclosure-api\" class=\"contain-header hoover-header\" data-v-ca18938c><div class=\"title-head\" data-v-ca18938c><div data-v-ca18938c>Senate disclosure <svg aria-hidden=\"true\" height=\"12\" width=\"12\" viewBox=\"0 0 16 16\" xmlns=\"http://www.w3.org/2000/svg\" class=\"SVGInline-svg SVGInline--cleaned-svg SVG-svg Icon-svg Icon--arrowRight-svg Icon-color-svg Icon-color--blue-svg\" data-v-ca18938c><path d=\"M12.583 7L7.992 2.409A1 1 0 1 1 9.407.993l6.3 6.3a1 1 0 0 1 0 1.414l-6.3 6.3a1 1 0 0 1-1.415-1.416L12.583 9H1a1 1 0 1 1 0-2z\" fill-rule=\"evenodd\" data-v-ca18938c></path></svg></div></div></a></h2><div class=\"contain-main-block\" style=\"margin-top:0\" data-v-ca18938c><div class=\"contain-block-prettyprint\" data-v-ca18938c><!----><!----><!----> <span class=\"span-margin\" data-v-ca18938c>Senate disclosures for specific symbol <span class=\"label info-link\">JSON</span></span><pre class=\"href-pre\" data-v-ca18938c>\t\t\t\t\t\t\t\t\t<a href=\"https://financialmodelingprep.com/api/v4/senate-disclosure?symbol=AAPL&apikey=YOUR_API_KEY\" target=\"_blank\" class=\"background-link\" data-v-ca18938c>/api/v4/senate-disclosure?<span class=\"symbol bold\">symbol</span>=<span class=\"symbol\">AAPL</span></a>\n",
      "\t\t\t\t\t\t\t\t</pre><!----></div><!----></div><div class=\"contain-main-block margin-head-top-top-top-pretty\" style=\"margin-top:0\" data-v-ca18938c><div class=\"contain-block-prettyprint\" data-v-ca18938c><!----><!----><!----> <span class=\"span-margin\" data-v-ca18938c>Senate disclosures rss feed <span class=\"label info-link\">JSON</span></span><pre class=\"href-pre\" data-v-ca18938c>\t\t\t\t\t\t\t\t\t<a href=\"https://financialmodelingprep.com/api/v4/senate-disclosure-rss-feed?page=0&apikey=YOUR_API_KEY\" target=\"_blank\" class=\"background-link last-href\" data-v-ca18938c>/api/v4/senate-disclosure-rss-feed?<span class=\"symbol bold\">page</span>=<span class=\"symbol\">0</span></a>\n",
      "\t\t\t\t\t\t\t\t</pre><h3 style=\"border:none;margin-top:20px\" data-v-ca18938c><a href=\"/developer/docs/senate-disclosure-api\" class=\"span-margin hoover-header integration\" data-v-ca18938c><span style=\"color:#ec407a;font-weight:600\" data-v-ca18938c>Example</span> with Javascript, JQuery, VueJS, Angular, JAVA, PHP, NodeJS, Python, Go, Ruby, C#, R, Strest, Rust, Swift and Scala</a></h3></div><!----></div></section><section class=\"contain-big-section\" data-v-ca18938c><div data-v-ca18938c>ECONOMICS</div></section><section id=\"Market-Risk-Premium\" class=\"section-top min-height-section\" data-v-ca18938c><h2 data-v-ca18938c><a href=\"/developer/docs/market-risk-premium-api\" class=\"contain-header hoover-header\" data-v-ca18938c><div class=\"title-head\" data-v-ca18938c><div data-v-ca18938c>Market Risk Premium <svg aria-hidden=\"true\" height=\"12\" width=\"12\" viewBox=\"0 0 16 16\" xmlns=\"http://www.w3.org/2000/svg\" class=\"SVGInline-svg SVGInline--cleaned-svg SVG-svg Icon-svg Icon--arrowRight-svg Icon-color-svg Icon-color--blue-svg\" data-v-ca18938c><path d=\"M12.583 7L7.992 2.409A1 1 0 1 1 9.407.993l6.3 6.3a1 1 0 0 1 0 1.414l-6.3 6.3a1 1 0 0 1-1.415-1.416L12.583 9H1a1 1 0 1 1 0-2z\" fill-rule=\"evenodd\" data-v-ca18938c></path></svg></div></div></a></h2><div class=\"contain-main-block\" style=\"margin-top:0\" data-v-ca18938c><div class=\"contain-block-prettyprint\" data-v-ca18938c><!----><!----><!----> <span class=\"span-margin\" data-v-ca18938c>Market Risk Premium for each country <span class=\"label info-link\">JSON</span></span><pre class=\"href-pre\" data-v-ca18938c>\t\t\t\t\t\t\t\t\t<a href=\"https://financialmodelingprep.com/api/v4/market_risk_premium?apikey=YOUR_API_KEY\" target=\"_blank\" class=\"background-link last-href\" data-v-ca18938c>/api/v4/<span class=\"symbol bold\">market_risk_premium</span></a>\n",
      "\t\t\t\t\t\t\t\t</pre><h3 style=\"border:none;margin-top:20px\" data-v-ca18938c><a href=\"/developer/docs/market-risk-premium-api\" class=\"span-margin hoover-header integration\" data-v-ca18938c><span style=\"color:#ec407a;font-weight:600\" data-v-ca18938c>Example</span> with Javascript, JQuery, VueJS, Angular, JAVA, PHP, NodeJS, Python, Go, Ruby, C#, R, Strest, Rust, Swift and Scala</a></h3></div><!----></div></section><section id=\"Treasury-Rates\" class=\"section-top min-height-section\" data-v-ca18938c><h2 data-v-ca18938c><a href=\"/developer/docs/treasury-rates-api\" class=\"contain-header hoover-header\" data-v-ca18938c><div class=\"title-head\" data-v-ca18938c><div data-v-ca18938c>Treasury Rates <svg aria-hidden=\"true\" height=\"12\" width=\"12\" viewBox=\"0 0 16 16\" xmlns=\"http://www.w3.org/2000/svg\" class=\"SVGInline-svg SVGInline--cleaned-svg SVG-svg Icon-svg Icon--arrowRight-svg Icon-color-svg Icon-color--blue-svg\" data-v-ca18938c><path d=\"M12.583 7L7.992 2.409A1 1 0 1 1 9.407.993l6.3 6.3a1 1 0 0 1 0 1.414l-6.3 6.3a1 1 0 0 1-1.415-1.416L12.583 9H1a1 1 0 1 1 0-2z\" fill-rule=\"evenodd\" data-v-ca18938c></path></svg></div></div></a></h2><div class=\"contain-main-block\" style=\"margin-top:0\" data-v-ca18938c><div class=\"contain-block-prettyprint\" data-v-ca18938c><!----><!----><!----> <span class=\"span-margin\" data-v-ca18938c>Historical treasury rates (between the \"from\" and \"to\" parameters the maximum time interval can be 3 months) <span class=\"label info-link\">JSON</span></span><pre class=\"href-pre\" data-v-ca18938c>\t\t\t\t\t\t\t\t\t<a href=\"https://financialmodelingprep.com/api/v4/treasury?from=2021-06-30&to=2021-09-30&apikey=YOUR_API_KEY\" target=\"_blank\" class=\"background-link last-href\" data-v-ca18938c>/api/v4/treasury?<span class=\"symbol bold\">from</span>=<span class=\"symbol\">2021-06-30</span>&<span class=\"symbol bold\">to</span>=<span class=\"symbol\">2021-09-30</span></a>\n",
      "\t\t\t\t\t\t\t\t</pre><h3 style=\"border:none;margin-top:20px\" data-v-ca18938c><a href=\"/developer/docs/treasury-rates-api\" class=\"span-margin hoover-header integration\" data-v-ca18938c><span style=\"color:#ec407a;font-weight:600\" data-v-ca18938c>Example</span> with Javascript, JQuery, VueJS, Angular, JAVA, PHP, NodeJS, Python, Go, Ruby, C#, R, Strest, Rust, Swift and Scala</a></h3></div><!----></div></section><section id=\"Economic-Indicator\" class=\"section-top min-height-section\" data-v-ca18938c><h2 data-v-ca18938c><a href=\"/developer/docs/economic-indicator-api\" class=\"contain-header hoover-header\" data-v-ca18938c><div class=\"title-head\" data-v-ca18938c><div data-v-ca18938c>Economic Indicator <svg aria-hidden=\"true\" height=\"12\" width=\"12\" viewBox=\"0 0 16 16\" xmlns=\"http://www.w3.org/2000/svg\" class=\"SVGInline-svg SVGInline--cleaned-svg SVG-svg Icon-svg Icon--arrowRight-svg Icon-color-svg Icon-color--blue-svg\" data-v-ca18938c><path d=\"M12.583 7L7.992 2.409A1 1 0 1 1 9.407.993l6.3 6.3a1 1 0 0 1 0 1.414l-6.3 6.3a1 1 0 0 1-1.415-1.416L12.583 9H1a1 1 0 1 1 0-2z\" fill-rule=\"evenodd\" data-v-ca18938c></path></svg></div></div></a></h2><div class=\"contain-main-block\" style=\"margin-top:0\" data-v-ca18938c><div class=\"contain-block-prettyprint\" data-v-ca18938c><!----><!----><!----> <span class=\"span-margin\" data-v-ca18938c>All economic indicators are: GDP | realGDP | nominalPotentialGDP | realGDPPerCapita | federalFunds | CPI | inflationRate | inflation | retailSales | consumerSentiment | durableGoods | unemploymentRate | totalNonfarmPayroll | initialClaims | industrialProductionTotalIndex | newPrivatelyOwnedHousingUnitsStartedTotalUnits | totalVehicleSales | retailMoneyFunds | smoothedUSRecessionProbabilities | 3MonthOr90DayRatesAndYieldsCertificatesOfDeposit | commercialBankInterestRateOnCreditCardPlansAllAccounts | 30YearFixedRateMortgageAverage | 15YearFixedRateMortgageAverage<br>Historical GDP data for specified period of time <span class=\"label info-link\">JSON</span></span><pre class=\"href-pre\" data-v-ca18938c>\t\t\t\t\t\t\t\t\t<a href=\"https://financialmodelingprep.com/api/v4/economic?name=GDP&from=2019-10-10&to=2021-11-10&apikey=YOUR_API_KEY\" target=\"_blank\" class=\"background-link\" data-v-ca18938c>/api/v4/economic?<span class=\"symbol bold\">name</span>=<span class=\"symbol\">GDP</span>&<span class=\"symbol bold\">from</span>=<span class=\"symbol\">2019-10-10</span>&<span class=\"symbol bold\">to</span>=<span class=\"symbol\">2021-11-10</span></a>\n",
      "\t\t\t\t\t\t\t\t</pre><!----></div><!----></div><div class=\"contain-main-block margin-top-small\" style=\"margin-top:0\" data-v-ca18938c><div class=\"contain-block-prettyprint\" data-v-ca18938c><!----><!----><!----> <span class=\"span-margin\" data-v-ca18938c>Historical realGDP data for specified period of time <span class=\"label info-link\">JSON</span></span><pre class=\"href-pre\" data-v-ca18938c>\t\t\t\t\t\t\t\t\t<a href=\"https://financialmodelingprep.com/api/v4/economic?name=realGDP&from=2019-10-10&to=2021-11-10&apikey=YOUR_API_KEY\" target=\"_blank\" class=\"background-link\" data-v-ca18938c>/api/v4/economic?<span class=\"symbol bold\">name</span>=<span class=\"symbol\">realGDP</span>&<span class=\"symbol bold\">from</span>=<span class=\"symbol\">2019-10-10</span>&<span class=\"symbol bold\">to</span>=<span class=\"symbol\">2021-11-10</span></a>\n",
      "\t\t\t\t\t\t\t\t</pre><!----></div><!----></div><div class=\"contain-main-block\" style=\"margin-top:0\" data-v-ca18938c><div class=\"contain-block-prettyprint\" data-v-ca18938c><!----><!----><!----> <span class=\"span-margin\" data-v-ca18938c>Historical federalFunds data for specified period of time <span class=\"label info-link\">JSON</span></span><pre class=\"href-pre\" data-v-ca18938c>\t\t\t\t\t\t\t\t\t<a href=\"https://financialmodelingprep.com/api/v4/economic?name=federalFunds&from=2019-10-10&to=2021-11-10&apikey=YOUR_API_KEY\" target=\"_blank\" class=\"background-link\" data-v-ca18938c>/api/v4/economic?<span class=\"symbol bold\">name</span>=<span class=\"symbol\">federalFunds</span>&<span class=\"symbol bold\">from</span>=<span class=\"symbol\">2019-10-10</span>&<span class=\"symbol bold\">to</span>=<span class=\"symbol\">2021-11-10</span></a>\n",
      "\t\t\t\t\t\t\t\t</pre><!----></div><!----></div><div class=\"contain-main-block\" style=\"margin-top:0\" data-v-ca18938c><div class=\"contain-block-prettyprint\" data-v-ca18938c><!----><!----><!----> <span class=\"span-margin\" data-v-ca18938c>Historical CPI data for specified period of time <span class=\"label info-link\">JSON</span></span><pre class=\"href-pre\" data-v-ca18938c>\t\t\t\t\t\t\t\t\t<a href=\"https://financialmodelingprep.com/api/v4/economic?name=CPI&from=2019-10-10&to=2021-11-10&apikey=YOUR_API_KEY\" target=\"_blank\" class=\"background-link last-href\" data-v-ca18938c>/api/v4/economic?<span class=\"symbol bold\">name</span>=<span class=\"symbol\">CPI</span>&<span class=\"symbol bold\">from</span>=<span class=\"symbol\">2019-10-10</span>&<span class=\"symbol bold\">to</span>=<span class=\"symbol\">2021-11-10</span></a>\n",
      "\t\t\t\t\t\t\t\t</pre><h3 style=\"border:none;margin-top:20px\" data-v-ca18938c><a href=\"/developer/docs/economic-indicator-api\" class=\"span-margin hoover-header integration\" data-v-ca18938c><span style=\"color:#ec407a;font-weight:600\" data-v-ca18938c>Example</span> with Javascript, JQuery, VueJS, Angular, JAVA, PHP, NodeJS, Python, Go, Ruby, C#, R, Strest, Rust, Swift and Scala</a></h3></div><!----></div></section><section class=\"contain-big-section\" data-v-ca18938c><div data-v-ca18938c>STOCK PRICE</div></section><section id=\"Company-Quote\" class=\"section-top min-height-section\" data-v-ca18938c><h2 data-v-ca18938c><a href=\"/developer/docs/stock-api\" class=\"contain-header hoover-header\" data-v-ca18938c><div class=\"title-head\" data-v-ca18938c><div data-v-ca18938c>Company Quote <svg aria-hidden=\"true\" height=\"12\" width=\"12\" viewBox=\"0 0 16 16\" xmlns=\"http://www.w3.org/2000/svg\" class=\"SVGInline-svg SVGInline--cleaned-svg SVG-svg Icon-svg Icon--arrowRight-svg Icon-color-svg Icon-color--blue-svg\" data-v-ca18938c><path d=\"M12.583 7L7.992 2.409A1 1 0 1 1 9.407.993l6.3 6.3a1 1 0 0 1 0 1.414l-6.3 6.3a1 1 0 0 1-1.415-1.416L12.583 9H1a1 1 0 1 1 0-2z\" fill-rule=\"evenodd\" data-v-ca18938c></path></svg></div></div></a></h2><div class=\"contain-main-block\" style=\"margin-top:0\" data-v-ca18938c><div class=\"contain-block-prettyprint\" data-v-ca18938c><!----><!----><!----> <span class=\"span-margin\" data-v-ca18938c>Companies Quote <span class=\"label success\">Real-time</span> <span class=\"label info-link\">JSON</span></span><pre class=\"href-pre\" data-v-ca18938c>\t\t\t\t\t\t\t\t\t<a href=\"https://financialmodelingprep.com/api/v3/quote/AAPL?apikey=YOUR_API_KEY\" target=\"_blank\" class=\"background-link\" data-v-ca18938c>/api/v3/quote/<span class=\"symbol\">AAPL</span></a>\n",
      "\t\t\t\t\t\t\t\t</pre><!----></div><!----></div><div class=\"contain-main-block margin-head-top-top-top-pretty\" style=\"margin-top:0\" data-v-ca18938c><div class=\"contain-block-prettyprint\" data-v-ca18938c><!----><!----><!----> <span class=\"span-margin\" data-v-ca18938c>Multiple companies prices <span class=\"label warning\">High Usage</span> <span class=\"label info-link\">JSON</span></span><pre class=\"href-pre\" data-v-ca18938c>\t\t\t\t\t\t\t\t\t<a href=\"https://financialmodelingprep.com/api/v3/quote/AAPL,FB,GOOG?apikey=YOUR_API_KEY\" target=\"_blank\" class=\"background-link\" data-v-ca18938c>/api/v3/quote/<span class=\"symbol\">AAPL,FB,GOOG</span></a>\n",
      "\t\t\t\t\t\t\t\t</pre><!----></div><!----></div><div class=\"contain-main-block\" style=\"margin-top:0\" data-v-ca18938c><div class=\"contain-block-prettyprint\" data-v-ca18938c><!----><!----><!----> <span class=\"span-margin\" data-v-ca18938c>Prices of OTC companies <span class=\"label info-link\">JSON</span></span><pre class=\"href-pre\" data-v-ca18938c>\t\t\t\t\t\t\t\t\t<a href=\"https://financialmodelingprep.com/api/v3/otc/real-time-price/BATRB,FWONB,GBTC?apikey=YOUR_API_KEY\" target=\"_blank\" class=\"background-link last-href\" data-v-ca18938c>/api/v3/otc/real-time-price/<span class=\"symbol\">BATRB,FWONB,GBTC</span></a>\n",
      "\t\t\t\t\t\t\t\t</pre><h3 style=\"border:none;margin-top:20px\" data-v-ca18938c><a href=\"/developer/docs/stock-api\" class=\"span-margin hoover-header integration\" data-v-ca18938c><span style=\"color:#ec407a;font-weight:600\" data-v-ca18938c>Example</span> with Javascript, JQuery, VueJS, Angular, JAVA, PHP, NodeJS, Python, Go, Ruby, C#, R, Strest, Rust, Swift and Scala</a></h3></div><!----></div></section><section id=\"Stock-price-change\" class=\"section-top min-height-section\" data-v-ca18938c><h2 data-v-ca18938c><a href=\"/developer/docs/stock-price-change-api\" class=\"contain-header hoover-header\" data-v-ca18938c><div class=\"title-head\" data-v-ca18938c><div data-v-ca18938c>Stock price change <svg aria-hidden=\"true\" height=\"12\" width=\"12\" viewBox=\"0 0 16 16\" xmlns=\"http://www.w3.org/2000/svg\" class=\"SVGInline-svg SVGInline--cleaned-svg SVG-svg Icon-svg Icon--arrowRight-svg Icon-color-svg Icon-color--blue-svg\" data-v-ca18938c><path d=\"M12.583 7L7.992 2.409A1 1 0 1 1 9.407.993l6.3 6.3a1 1 0 0 1 0 1.414l-6.3 6.3a1 1 0 0 1-1.415-1.416L12.583 9H1a1 1 0 1 1 0-2z\" fill-rule=\"evenodd\" data-v-ca18938c></path></svg></div></div></a></h2><div class=\"contain-main-block\" style=\"margin-top:0\" data-v-ca18938c><div class=\"contain-block-prettyprint\" data-v-ca18938c><!----><!----><!----> <span class=\"span-margin\" data-v-ca18938c>Price percentage change for multiple timeframes <span class=\"label info-link\">JSON</span></span><pre class=\"href-pre\" data-v-ca18938c>\t\t\t\t\t\t\t\t\t<a href=\"https://financialmodelingprep.com/api/v3/stock-price-change/AAPL?apikey=YOUR_API_KEY\" target=\"_blank\" class=\"background-link\" data-v-ca18938c>/api/v3/stock-price-change/<span class=\"symbol\">AAPL</span></a>\n",
      "\t\t\t\t\t\t\t\t</pre><!----></div><!----></div><div class=\"contain-main-block margin-head-top-top-top-pretty\" style=\"margin-top:0\" data-v-ca18938c><div class=\"contain-block-prettyprint\" data-v-ca18938c><!----><!----><!----> <span class=\"span-margin\" data-v-ca18938c>Multiple companies price percentage change <span class=\"label warning\">High Usage</span> <span class=\"label info-link\">JSON</span></span><pre class=\"href-pre\" data-v-ca18938c>\t\t\t\t\t\t\t\t\t<a href=\"https://financialmodelingprep.com/api/v3/stock-price-change/AAPL,FB,MSFT,MMM?apikey=YOUR_API_KEY\" target=\"_blank\" class=\"background-link last-href\" data-v-ca18938c>/api/v3/stock-price-change/<span class=\"symbol\">AAPL,FB,MSFT,MMM</span></a>\n",
      "\t\t\t\t\t\t\t\t</pre><h3 style=\"border:none;margin-top:20px\" data-v-ca18938c><a href=\"/developer/docs/stock-price-change-api\" class=\"span-margin hoover-header integration\" data-v-ca18938c><span style=\"color:#ec407a;font-weight:600\" data-v-ca18938c>Example</span> with Javascript, JQuery, VueJS, Angular, JAVA, PHP, NodeJS, Python, Go, Ruby, C#, R, Strest, Rust, Swift and Scala</a></h3></div><!----></div></section><section id=\"Stock-Price\" class=\"section-top min-height-section\" data-v-ca18938c><h2 data-v-ca18938c><a href=\"/developer/docs/realtime-stock-quote-api\" class=\"contain-header hoover-header\" data-v-ca18938c><div class=\"title-head\" data-v-ca18938c><div data-v-ca18938c>Stock Price <svg aria-hidden=\"true\" height=\"12\" width=\"12\" viewBox=\"0 0 16 16\" xmlns=\"http://www.w3.org/2000/svg\" class=\"SVGInline-svg SVGInline--cleaned-svg SVG-svg Icon-svg Icon--arrowRight-svg Icon-color-svg Icon-color--blue-svg\" data-v-ca18938c><path d=\"M12.583 7L7.992 2.409A1 1 0 1 1 9.407.993l6.3 6.3a1 1 0 0 1 0 1.414l-6.3 6.3a1 1 0 0 1-1.415-1.416L12.583 9H1a1 1 0 1 1 0-2z\" fill-rule=\"evenodd\" data-v-ca18938c></path></svg></div></div></a></h2><div class=\"contain-main-block\" style=\"margin-top:0\" data-v-ca18938c><div class=\"contain-block-prettyprint\" data-v-ca18938c><!----><!----><h3 data-v-ca18938c><!----> <a href=\"/developer/docs/realtime-stock-quote-api#Stock-Real-time-Price\" class=\"contain-header hoover-header\" data-v-ca18938c><div class=\"lower-title\" data-v-ca18938c>Stock Real-time Price</div></a></h3><span class=\"span-margin\" data-v-ca18938c>Real-time stock price <span class=\"label success\">Real-time</span> <span class=\"label info-link\">JSON</span></span><pre class=\"href-pre\" data-v-ca18938c>\t\t\t\t\t\t\t\t\t<a href=\"https://financialmodelingprep.com/api/v3/quote-short/AAPL?apikey=YOUR_API_KEY\" target=\"_blank\" class=\"background-link\" data-v-ca18938c>/api/v3/quote-short/<span class=\"symbol\">AAPL</span></a>\n",
      "\t\t\t\t\t\t\t\t</pre><!----></div><!----></div><div class=\"contain-main-block margin-head-top-top-pretty\" style=\"margin-top:0\" data-v-ca18938c><div class=\"contain-block-prettyprint\" data-v-ca18938c><!----><!----><h3 class=\"margin-head\" data-v-ca18938c><!----> <a href=\"/developer/docs/realtime-stock-quote-api#Stock-Price-list\" class=\"contain-header hoover-header\" data-v-ca18938c><div class=\"lower-title\" data-v-ca18938c>Stock Price list</div></a></h3><span class=\"span-margin\" data-v-ca18938c>All Real-time stock price <span class=\"label success\">Real-time</span> <span class=\"label info-link\">JSON</span></span><pre class=\"href-pre\" data-v-ca18938c>\t\t\t\t\t\t\t\t\t<a href=\"https://financialmodelingprep.com/api/v3/quotes/nyse?apikey=YOUR_API_KEY\" target=\"_blank\" class=\"background-link last-href\" data-v-ca18938c>/api/v3/quotes/<span class=\"symbol\">nyse</span></a>\n",
      "\t\t\t\t\t\t\t\t</pre><h3 style=\"border:none;margin-top:20px\" data-v-ca18938c><a href=\"/developer/docs/realtime-stock-quote-api\" class=\"span-margin hoover-header integration\" data-v-ca18938c><span style=\"color:#ec407a;font-weight:600\" data-v-ca18938c>Example</span> with Javascript, JQuery, VueJS, Angular, JAVA, PHP, NodeJS, Python, Go, Ruby, C#, R, Strest, Rust, Swift and Scala</a></h3></div><!----></div></section><section id=\"Stock-Historical-Price\" class=\"section-top min-height-section\" data-v-ca18938c><h2 data-v-ca18938c><a href=\"/developer/docs/historical-stock-data-free-api\" class=\"contain-header hoover-header\" data-v-ca18938c><div class=\"title-head\" data-v-ca18938c><div data-v-ca18938c>Stock Historical Price <svg aria-hidden=\"true\" height=\"12\" width=\"12\" viewBox=\"0 0 16 16\" xmlns=\"http://www.w3.org/2000/svg\" class=\"SVGInline-svg SVGInline--cleaned-svg SVG-svg Icon-svg Icon--arrowRight-svg Icon-color-svg Icon-color--blue-svg\" data-v-ca18938c><path d=\"M12.583 7L7.992 2.409A1 1 0 1 1 9.407.993l6.3 6.3a1 1 0 0 1 0 1.414l-6.3 6.3a1 1 0 0 1-1.415-1.416L12.583 9H1a1 1 0 1 1 0-2z\" fill-rule=\"evenodd\" data-v-ca18938c></path></svg></div></div></a></h2><div class=\"contain-main-block\" style=\"margin-top:0\" data-v-ca18938c><div class=\"contain-block-prettyprint\" data-v-ca18938c><!----><!----><h3 data-v-ca18938c><!----> <a href=\"/developer/docs/historical-stock-data-free-api#1-minute-historical-stock-prices-with-volume\" class=\"contain-header hoover-header\" data-v-ca18938c><div class=\"lower-title\" data-v-ca18938c>1 minute historical stock prices with volume</div></a></h3><span class=\"span-margin\" data-v-ca18938c>Stock one minute historical stock prices <span class=\"label info\">1 Minute</span> <span class=\"label info-link\">JSON</span> <span class=\"label info-dark\">OHLCV</span></span><pre class=\"href-pre\" data-v-ca18938c>\t\t\t\t\t\t\t\t\t<a href=\"https://financialmodelingprep.com/api/v3/historical-chart/1min/AAPL?apikey=YOUR_API_KEY\" target=\"_blank\" class=\"background-link\" data-v-ca18938c>/api/v3/historical-chart/1min/<span class=\"symbol\">AAPL</span></a>\n",
      "\t\t\t\t\t\t\t\t</pre><!----></div><!----></div><div class=\"contain-main-block margin-head-top-top-pretty\" style=\"margin-top:0\" data-v-ca18938c><div class=\"contain-block-prettyprint\" data-v-ca18938c><!----><!----><h3 class=\"margin-head\" data-v-ca18938c><!----> <a href=\"/developer/docs/historical-stock-data-free-api#5-minutes-historical-stock-prices-with--volume\" class=\"contain-header hoover-header\" data-v-ca18938c><div class=\"lower-title\" data-v-ca18938c>5 minutes historical stock prices with volume</div></a></h3><span class=\"span-margin\" data-v-ca18938c>Stock five minutes historical stock prices <span class=\"label info\">5 Minutes</span> <span class=\"label info-link\">JSON</span> <span class=\"label info-dark\">OHLCV</span></span><pre class=\"href-pre\" data-v-ca18938c>\t\t\t\t\t\t\t\t\t<a href=\"https://financialmodelingprep.com/api/v3/historical-chart/5min/AAPL?apikey=YOUR_API_KEY\" target=\"_blank\" class=\"background-link\" data-v-ca18938c>/api/v3/historical-chart/5min/<span class=\"symbol\">AAPL</span></a>\n",
      "\t\t\t\t\t\t\t\t</pre><!----></div><!----></div><div class=\"contain-main-block\" style=\"margin-top:0\" data-v-ca18938c><div class=\"contain-block-prettyprint\" data-v-ca18938c><!----><!----><h3 class=\"margin-head\" data-v-ca18938c><!----> <a href=\"/developer/docs/historical-stock-data-free-api#15-minutes-historical-stock-prices-with-volume\" class=\"contain-header hoover-header\" data-v-ca18938c><div class=\"lower-title\" data-v-ca18938c>15 minutes historical stock prices with volume</div></a></h3><span class=\"span-margin\" data-v-ca18938c>Stock fifteen minutes historical stock prices <span class=\"label info\">15 Minutes</span> <span class=\"label info-link\">JSON</span> <span class=\"label info-dark\">OHLCV</span></span><pre class=\"href-pre\" data-v-ca18938c>\t\t\t\t\t\t\t\t\t<a href=\"https://financialmodelingprep.com/api/v3/historical-chart/15min/AAPL?apikey=YOUR_API_KEY\" target=\"_blank\" class=\"background-link\" data-v-ca18938c>/api/v3/historical-chart/15min/<span class=\"symbol\">AAPL</span></a>\n",
      "\t\t\t\t\t\t\t\t</pre><!----></div><!----></div><div class=\"contain-main-block\" style=\"margin-top:0\" data-v-ca18938c><div class=\"contain-block-prettyprint\" data-v-ca18938c><!----><!----><h3 class=\"margin-head\" data-v-ca18938c><!----> <a href=\"/developer/docs/historical-stock-data-free-api#30-minutes-historical-stock-prices-with-volume\" class=\"contain-header hoover-header\" data-v-ca18938c><div class=\"lower-title\" data-v-ca18938c>30 minutes historical stock prices with volume</div></a></h3><span class=\"span-margin\" data-v-ca18938c>Stock thirty minutes historical stock prices <span class=\"label info\">30 Minutes</span> <span class=\"label info-link\">JSON</span> <span class=\"label info-dark\">OHLCV</span></span><pre class=\"href-pre\" data-v-ca18938c>\t\t\t\t\t\t\t\t\t<a href=\"https://financialmodelingprep.com/api/v3/historical-chart/30min/AAPL?apikey=YOUR_API_KEY\" target=\"_blank\" class=\"background-link\" data-v-ca18938c>/api/v3/historical-chart/30min/<span class=\"symbol\">AAPL</span></a>\n",
      "\t\t\t\t\t\t\t\t</pre><!----></div><!----></div><div class=\"contain-main-block\" style=\"margin-top:0\" data-v-ca18938c><div class=\"contain-block-prettyprint\" data-v-ca18938c><!----><!----><h3 class=\"margin-head\" data-v-ca18938c><!----> <a href=\"/developer/docs/historical-stock-data-free-api#Hour-historical-stock-prices-with-volume\" class=\"contain-header hoover-header\" data-v-ca18938c><div class=\"lower-title\" data-v-ca18938c>Hour historical stock prices with volume</div></a></h3><span class=\"span-margin\" data-v-ca18938c>Stock hour historical stock prices <span class=\"label info\">Hour</span> <span class=\"label info-link\">JSON</span> <span class=\"label info-dark\">OHLCV</span></span><pre class=\"href-pre\" data-v-ca18938c>\t\t\t\t\t\t\t\t\t<a href=\"https://financialmodelingprep.com/api/v3/historical-chart/1hour/AAPL?apikey=YOUR_API_KEY\" target=\"_blank\" class=\"background-link\" data-v-ca18938c>/api/v3/historical-chart/1hour/<span class=\"symbol\">AAPL</span></a>\n",
      "\t\t\t\t\t\t\t\t</pre><!----></div><!----></div><div class=\"contain-main-block\" style=\"margin-top:0\" data-v-ca18938c><div class=\"contain-block-prettyprint\" data-v-ca18938c><!----><!----><h3 class=\"margin-head\" data-v-ca18938c><!----> <a href=\"/developer/docs/historical-stock-data-free-api#4-Hours-historical-stock-prices-with-volume\" class=\"contain-header hoover-header\" data-v-ca18938c><div class=\"lower-title\" data-v-ca18938c>4 Hours historical stock prices with volume</div></a></h3><span class=\"span-margin\" data-v-ca18938c>Stock four hours historical stock prices <span class=\"label info\">4 Hours</span> <span class=\"label info-link\">JSON</span> <span class=\"label info-dark\">OHLCV</span></span><pre class=\"href-pre\" data-v-ca18938c>\t\t\t\t\t\t\t\t\t<a href=\"https://financialmodelingprep.com/api/v3/historical-chart/4hour/AAPL?apikey=YOUR_API_KEY\" target=\"_blank\" class=\"background-link\" data-v-ca18938c>/api/v3/historical-chart/4hour/<span class=\"symbol\">AAPL</span></a>\n",
      "\t\t\t\t\t\t\t\t</pre><!----></div><!----></div><div class=\"contain-main-block\" style=\"margin-top:0\" data-v-ca18938c><div class=\"contain-block-prettyprint\" data-v-ca18938c><!----><!----><h3 class=\"margin-head\" data-v-ca18938c><!----> <a href=\"/developer/docs/historical-stock-data-free-api#Historical-Daily-Prices\" class=\"contain-header hoover-header\" data-v-ca18938c><div class=\"lower-title\" data-v-ca18938c>Historical Daily Prices</div></a></h3><span class=\"span-margin\" data-v-ca18938c>Stock historical prices <span class=\"label success\">Daily</span> <span class=\"label info-link\">JSON</span></span><pre class=\"href-pre\" data-v-ca18938c>\t\t\t\t\t\t\t\t\t<a href=\"https://financialmodelingprep.com/api/v3/historical-price-full/AAPL?serietype=line&apikey=YOUR_API_KEY\" target=\"_blank\" class=\"background-link\" data-v-ca18938c>/api/v3/historical-price-full/<span class=\"symbol\">AAPL</span>?<span class=\"symbol\">serietype</span>=<span class=\"symbol\">line</span></a>\n",
      "\t\t\t\t\t\t\t\t</pre><!----></div><!----></div><div class=\"contain-main-block margin-top-pretty\" style=\"margin-top:0\" data-v-ca18938c><div class=\"contain-block-prettyprint\" data-v-ca18938c><!----><!----><h3 class=\"margin-head\" data-v-ca18938c><!----> <a href=\"/developer/docs/historical-stock-data-free-api#Historical-Daily-Prices-with-change-and-volume\" class=\"contain-header hoover-header\" data-v-ca18938c><div class=\"lower-title\" data-v-ca18938c>Historical Daily Prices with change and volume</div></a></h3><span class=\"span-margin\" data-v-ca18938c>Daily Stock historical prices with change and volume <span class=\"label success\">Daily</span> <span class=\"label info-link\">JSON</span> <span class=\"label info-dark\">OHLCV</span></span><pre class=\"href-pre\" data-v-ca18938c>\t\t\t\t\t\t\t\t\t<a href=\"https://financialmodelingprep.com/api/v3/historical-price-full/AAPL?apikey=YOUR_API_KEY\" target=\"_blank\" class=\"background-link\" data-v-ca18938c>/api/v3/historical-price-full/<span class=\"symbol\">AAPL</span></a>\n",
      "\t\t\t\t\t\t\t\t</pre><!----></div><!----></div><div class=\"contain-main-block\" style=\"margin-top:0\" data-v-ca18938c><div class=\"contain-block-prettyprint\" data-v-ca18938c><!----><!----><h3 class=\"margin-head\" data-v-ca18938c><!----> <a href=\"/developer/docs/historical-stock-data-free-api#Historical-Daily-Prices-with-change-and-volume-interval\" class=\"contain-header hoover-header\" data-v-ca18938c><div class=\"lower-title\" data-v-ca18938c>Historical Daily Prices with change and volume interval</div></a></h3><span class=\"span-margin\" data-v-ca18938c>Daily Time series stock historical prices for a certain interval <span class=\"label success\">Daily</span> <span class=\"label info-link\">JSON</span> <span class=\"label info-dark\">Range</span></span><pre class=\"href-pre\" data-v-ca18938c>\t\t\t\t\t\t\t\t\t<a href=\"https://financialmodelingprep.com/api/v3/historical-price-full/AAPL?from=2018-03-12&to=2019-03-12&apikey=YOUR_API_KEY\" target=\"_blank\" class=\"background-link\" data-v-ca18938c>/api/v3/historical-price-full/<span class=\"symbol\">AAPL</span>?<span class=\"symbol bold\">from</span>=<span class=\"symbol\">2018-03-12</span>&<span class=\"symbol bold\">to</span>=<span class=\"symbol\">2019-03-12</span></a>\n",
      "\t\t\t\t\t\t\t\t</pre><!----></div><!----></div><div class=\"contain-main-block\" style=\"margin-top:0\" data-v-ca18938c><div class=\"contain-block-prettyprint\" data-v-ca18938c><!----><!----><h3 class=\"margin-head\" data-v-ca18938c><!----> <a href=\"/developer/docs/historical-stock-data-free-api#Historical-Daily-Prices-with-change-and-volume-Time-series\" class=\"contain-header hoover-header\" data-v-ca18938c><div class=\"lower-title\" data-v-ca18938c>Historical Daily Prices with change and volume Time series</div></a></h3><span class=\"span-margin\" data-v-ca18938c>Daily Time series stock historical prices with change and volume for the last x days <span class=\"label success\">Daily</span> <span class=\"label info-link\">JSON</span> <span class=\"label info-dark\">Timeseries</span></span><pre class=\"href-pre\" data-v-ca18938c>\t\t\t\t\t\t\t\t\t<a href=\"https://financialmodelingprep.com/api/v3/historical-price-full/AAPL?timeseries=5&apikey=YOUR_API_KEY\" target=\"_blank\" class=\"background-link\" data-v-ca18938c>/api/v3/historical-price-full/<span class=\"symbol\">AAPL</span>?<span class=\"symbol\">timeseries</span>=<span class=\"symbol\">5</span></a>\n",
      "\t\t\t\t\t\t\t\t</pre><!----></div><!----></div><div class=\"contain-main-block\" style=\"margin-top:0\" data-v-ca18938c><div class=\"contain-block-prettyprint\" data-v-ca18938c><!----><!----><h3 class=\"margin-head\" data-v-ca18938c><!----> <a href=\"/developer/docs/historical-stock-data-free-api#Batch-Request-Stock-Daily-Historical-price\" class=\"contain-header hoover-header\" data-v-ca18938c><div class=\"lower-title\" data-v-ca18938c>Batch Request Stock Daily Historical price</div></a></h3><span class=\"span-margin\" data-v-ca18938c>Stock Daily historical prices with change and volume (limited to 3, multiple stocks can only be queried if same exchange) <span class=\"label success\">Daily</span> <span class=\"label info-link\">JSON</span></span><pre class=\"href-pre\" data-v-ca18938c>\t\t\t\t\t\t\t\t\t<a href=\"https://financialmodelingprep.com/api/v3/historical-price-full/AAPL,GOOG,FB?apikey=YOUR_API_KEY\" target=\"_blank\" class=\"background-link\" data-v-ca18938c>/api/v3/historical-price-full/<span class=\"symbol\">AAPL,GOOG,FB</span></a>\n",
      "\t\t\t\t\t\t\t\t</pre><!----></div><!----></div><div class=\"contain-main-block\" style=\"margin-top:0\" data-v-ca18938c><div class=\"contain-block-prettyprint\" data-v-ca18938c><!----><!----><!----> <span class=\"span-margin\" data-v-ca18938c>Mutual funds Daily historical prices (limited to 3, multiple stocks can only be queried if same exchange) <span class=\"label success\">Daily</span> <span class=\"label info-link\">JSON</span></span><pre class=\"href-pre\" data-v-ca18938c>\t\t\t\t\t\t\t\t\t<a href=\"https://financialmodelingprep.com/api/v3/historical-price-full/JBFRX,BPLEX,VEVRX?apikey=YOUR_API_KEY\" target=\"_blank\" class=\"background-link last-href\" data-v-ca18938c>/api/v3/historical-price-full/<span class=\"symbol\">JBFRX,BPLEX,VEVRX</span></a>\n",
      "\t\t\t\t\t\t\t\t</pre><h3 style=\"border:none;margin-top:20px\" data-v-ca18938c><a href=\"/developer/docs/historical-stock-data-free-api\" class=\"span-margin hoover-header integration\" data-v-ca18938c><span style=\"color:#ec407a;font-weight:600\" data-v-ca18938c>Example</span> with Javascript, JQuery, VueJS, Angular, JAVA, PHP, NodeJS, Python, Go, Ruby, C#, R, Strest, Rust, Swift and Scala</a></h3></div><!----></div></section><section id=\"Historical-Stock-Splits\" class=\"section-top min-height-section\" data-v-ca18938c><h2 data-v-ca18938c><a href=\"/developer/docs/historical-stock-splits-api\" class=\"contain-header hoover-header\" data-v-ca18938c><div class=\"title-head\" data-v-ca18938c><div data-v-ca18938c>Historical Stock Splits <svg aria-hidden=\"true\" height=\"12\" width=\"12\" viewBox=\"0 0 16 16\" xmlns=\"http://www.w3.org/2000/svg\" class=\"SVGInline-svg SVGInline--cleaned-svg SVG-svg Icon-svg Icon--arrowRight-svg Icon-color-svg Icon-color--blue-svg\" data-v-ca18938c><path d=\"M12.583 7L7.992 2.409A1 1 0 1 1 9.407.993l6.3 6.3a1 1 0 0 1 0 1.414l-6.3 6.3a1 1 0 0 1-1.415-1.416L12.583 9H1a1 1 0 1 1 0-2z\" fill-rule=\"evenodd\" data-v-ca18938c></path></svg></div></div></a></h2><div class=\"contain-main-block\" style=\"margin-top:0\" data-v-ca18938c><div class=\"contain-block-prettyprint\" data-v-ca18938c><!----><!----><h3 data-v-ca18938c><!----> <a href=\"/developer/docs/historical-stock-splits-api#Historical-Daily-Stock-Splits\" class=\"contain-header hoover-header\" data-v-ca18938c><div class=\"lower-title\" data-v-ca18938c>Historical Daily Stock Splits</div></a></h3><span class=\"span-margin\" data-v-ca18938c>Stock Daily historical splits <span class=\"label success\">Daily</span> <span class=\"label info-link\">JSON</span></span><pre class=\"href-pre\" data-v-ca18938c>\t\t\t\t\t\t\t\t\t<a href=\"https://financialmodelingprep.com/api/v3/historical-price-full/stock_split/AAPL?apikey=YOUR_API_KEY\" target=\"_blank\" class=\"background-link\" data-v-ca18938c>/api/v3/historical-price-full/stock_split/<span class=\"symbol\">AAPL</span></a>\n",
      "\t\t\t\t\t\t\t\t</pre><!----></div><!----></div></section><section id=\"Survivorship-Bias-Free-EOD\" class=\"section-top min-height-section\" data-v-ca18938c><h2 data-v-ca18938c><a href=\"/developer/docs/survivorship-bias-api\" class=\"contain-header hoover-header\" data-v-ca18938c><div class=\"title-head\" data-v-ca18938c><div data-v-ca18938c>Survivorship Bias Free EOD <svg aria-hidden=\"true\" height=\"12\" width=\"12\" viewBox=\"0 0 16 16\" xmlns=\"http://www.w3.org/2000/svg\" class=\"SVGInline-svg SVGInline--cleaned-svg SVG-svg Icon-svg Icon--arrowRight-svg Icon-color-svg Icon-color--blue-svg\" data-v-ca18938c><path d=\"M12.583 7L7.992 2.409A1 1 0 1 1 9.407.993l6.3 6.3a1 1 0 0 1 0 1.414l-6.3 6.3a1 1 0 0 1-1.415-1.416L12.583 9H1a1 1 0 1 1 0-2z\" fill-rule=\"evenodd\" data-v-ca18938c></path></svg></div></div></a></h2><div class=\"contain-main-block\" style=\"margin-top:0\" data-v-ca18938c><div class=\"contain-block-prettyprint\" data-v-ca18938c><!----><!----><h3 data-v-ca18938c><!----> <a href=\"/developer/docs/survivorship-bias-api#Survivorship-Bias-Free-EOD\" class=\"contain-header hoover-header\" data-v-ca18938c><div class=\"lower-title\" data-v-ca18938c>Survivorship Bias Free EOD</div></a></h3><span class=\"span-margin\" data-v-ca18938c>Survivorship Bias Free end of day <span class=\"label success\">Daily</span> <span class=\"label info-link\">JSON</span></span><pre class=\"href-pre\" data-v-ca18938c>\t\t\t\t\t\t\t\t\t<a href=\"https://financialmodelingprep.com/api/v4/historical-price-full/ABI/2012-01-03?apikey=YOUR_API_KEY\" target=\"_blank\" class=\"background-link\" data-v-ca18938c>/api/v4/historical-price-full/<span class=\"symbol\">ABI</span>/2012-01-03</a>\n",
      "\t\t\t\t\t\t\t\t</pre><!----></div><!----></div></section><section id=\"Daily-Indicators\" class=\"section-top min-height-section\" data-v-ca18938c><h2 data-v-ca18938c><a href=\"/developer/docs/technicals-daily-api\" class=\"contain-header hoover-header\" data-v-ca18938c><div class=\"title-head\" data-v-ca18938c><div data-v-ca18938c>Daily Indicators <svg aria-hidden=\"true\" height=\"12\" width=\"12\" viewBox=\"0 0 16 16\" xmlns=\"http://www.w3.org/2000/svg\" class=\"SVGInline-svg SVGInline--cleaned-svg SVG-svg Icon-svg Icon--arrowRight-svg Icon-color-svg Icon-color--blue-svg\" data-v-ca18938c><path d=\"M12.583 7L7.992 2.409A1 1 0 1 1 9.407.993l6.3 6.3a1 1 0 0 1 0 1.414l-6.3 6.3a1 1 0 0 1-1.415-1.416L12.583 9H1a1 1 0 1 1 0-2z\" fill-rule=\"evenodd\" data-v-ca18938c></path></svg></div></div></a></h2><div class=\"contain-main-block\" style=\"margin-top:0\" data-v-ca18938c><div class=\"contain-block-prettyprint\" data-v-ca18938c><!----><!----><!----> <span class=\"span-margin\" data-v-ca18938c>Technical Indicators <span class=\"label success\">Daily</span><ul style=\"padding-left:0;margin-top:10px;margin-bottom:20px\"><li>Period: <span class=\"symbol bold\">Number</span></li><li>Type: <span style=\"font-size:11px\">SMA - EMA - WMA - DEMA - TEMA - williams - RSI - ADX - standardDeviation</span></li></ul></span><pre class=\"href-pre\" data-v-ca18938c>\t\t\t\t\t\t\t\t\t<a href=\"https://financialmodelingprep.com/api/v3/technical_indicator/daily/AAPL?period=10&type=ema&apikey=YOUR_API_KEY\" target=\"_blank\" class=\"background-link\" data-v-ca18938c>/api/v3/technical_indicator/daily/<span class=\"symbol\">AAPL</span>?<span class=\"symbol bold\">period</span>=<span class=\"symbol\">10</span>&<span class=\"symbol bold\">type</span>=<span class=\"symbol\">ema</span></a>\n",
      "\t\t\t\t\t\t\t\t</pre><!----></div><!----></div><div class=\"contain-main-block margin-top-pretty\" style=\"margin-top:0\" data-v-ca18938c><div class=\"contain-block-prettyprint\" data-v-ca18938c><!----><!----><!----> <span class=\"span-margin\" data-v-ca18938c>SMA Example</span><pre class=\"href-pre\" data-v-ca18938c>\t\t\t\t\t\t\t\t\t<a href=\"https://financialmodelingprep.com/api/v3/technical_indicator/daily/AAPL?period=10&type=sma&apikey=YOUR_API_KEY\" target=\"_blank\" class=\"background-link\" data-v-ca18938c>/api/v3/technical_indicator/daily/<span class=\"symbol\">AAPL</span>?<span class=\"symbol bold\">period</span>=<span class=\"symbol\">10</span>&<span class=\"symbol bold\">type</span>=<span class=\"symbol\">sma</span></a>\n",
      "\t\t\t\t\t\t\t\t</pre><!----></div><!----></div><div class=\"contain-main-block\" style=\"margin-top:0\" data-v-ca18938c><div class=\"contain-block-prettyprint\" data-v-ca18938c><!----><!----><!----> <span class=\"span-margin\" data-v-ca18938c>WMA Example</span><pre class=\"href-pre\" data-v-ca18938c>\t\t\t\t\t\t\t\t\t<a href=\"https://financialmodelingprep.com/api/v3/technical_indicator/daily/AAPL?period=10&type=wma&apikey=YOUR_API_KEY\" target=\"_blank\" class=\"background-link last-href\" data-v-ca18938c>/api/v3/technical_indicator/daily/<span class=\"symbol\">AAPL</span>?<span class=\"symbol bold\">period</span>=<span class=\"symbol\">10</span>&<span class=\"symbol bold\">type</span>=<span class=\"symbol\">wma</span></a>\n",
      "\t\t\t\t\t\t\t\t</pre><h3 style=\"border:none;margin-top:20px\" data-v-ca18938c><a href=\"/developer/docs/technicals-daily-api\" class=\"span-margin hoover-header integration\" data-v-ca18938c><span style=\"color:#ec407a;font-weight:600\" data-v-ca18938c>Example</span> with Javascript, JQuery, VueJS, Angular, JAVA, PHP, NodeJS, Python, Go, Ruby, C#, R, Strest, Rust, Swift and Scala</a></h3></div><!----></div></section><section id=\"Intraday-Indicators\" class=\"section-top min-height-section\" data-v-ca18938c><h2 data-v-ca18938c><a href=\"/developer/docs/technicals-intraday-api\" class=\"contain-header hoover-header\" data-v-ca18938c><div class=\"title-head\" data-v-ca18938c><div data-v-ca18938c>Intraday Indicators <svg aria-hidden=\"true\" height=\"12\" width=\"12\" viewBox=\"0 0 16 16\" xmlns=\"http://www.w3.org/2000/svg\" class=\"SVGInline-svg SVGInline--cleaned-svg SVG-svg Icon-svg Icon--arrowRight-svg Icon-color-svg Icon-color--blue-svg\" data-v-ca18938c><path d=\"M12.583 7L7.992 2.409A1 1 0 1 1 9.407.993l6.3 6.3a1 1 0 0 1 0 1.414l-6.3 6.3a1 1 0 0 1-1.415-1.416L12.583 9H1a1 1 0 1 1 0-2z\" fill-rule=\"evenodd\" data-v-ca18938c></path></svg></div></div></a></h2><div class=\"contain-main-block\" style=\"margin-top:0\" data-v-ca18938c><div class=\"contain-block-prettyprint\" data-v-ca18938c><!----><!----><h3 data-v-ca18938c><!----> <a href=\"/developer/docs/technicals-intraday-api#1-minute-technical-indicator\" class=\"contain-header hoover-header\" data-v-ca18938c><div class=\"lower-title\" data-v-ca18938c>1 minute technical indicator</div></a></h3><span class=\"span-margin\" data-v-ca18938c>Technical indicator every minute <span class=\"label info\">1 Minute</span> <span class=\"label info-link\">JSON</span></span><pre class=\"href-pre\" data-v-ca18938c>\t\t\t\t\t\t\t\t\t<a href=\"https://financialmodelingprep.com/api/v3/technical_indicator/1min/AAPL?period=10&type=ema&apikey=YOUR_API_KEY\" target=\"_blank\" class=\"background-link\" data-v-ca18938c>/api/v3/technical_indicator/1min/<span class=\"symbol\">AAPL</span>?<span class=\"symbol bold\">period</span>=<span class=\"symbol\">10</span>&<span class=\"symbol bold\">type</span>=<span class=\"symbol\">ema</span></a>\n",
      "\t\t\t\t\t\t\t\t</pre><!----></div><!----></div><div class=\"contain-main-block margin-head-top-top-pretty\" style=\"margin-top:0\" data-v-ca18938c><div class=\"contain-block-prettyprint\" data-v-ca18938c><!----><!----><h3 class=\"margin-head\" data-v-ca18938c><!----> <a href=\"/developer/docs/technicals-intraday-api#5-minutes-technical-indicator\" class=\"contain-header hoover-header\" data-v-ca18938c><div class=\"lower-title\" data-v-ca18938c>5 minutes technical indicator</div></a></h3><span class=\"span-margin\" data-v-ca18938c>Technical indicator every 5 minutes <span class=\"label info\">5 Minutes</span> <span class=\"label info-link\">JSON</span></span><pre class=\"href-pre\" data-v-ca18938c>\t\t\t\t\t\t\t\t\t<a href=\"https://financialmodelingprep.com/api/v3/technical_indicator/5min/AAPL?period=10&type=ema&apikey=YOUR_API_KEY\" target=\"_blank\" class=\"background-link\" data-v-ca18938c>/api/v3/technical_indicator/5min/<span class=\"symbol\">AAPL</span>?<span class=\"symbol bold\">period</span>=<span class=\"symbol\">10</span>&<span class=\"symbol bold\">type</span>=<span class=\"symbol\">ema</span></a>\n",
      "\t\t\t\t\t\t\t\t</pre><!----></div><!----></div><div class=\"contain-main-block\" style=\"margin-top:0\" data-v-ca18938c><div class=\"contain-block-prettyprint\" data-v-ca18938c><!----><!----><h3 class=\"margin-head\" data-v-ca18938c><!----> <a href=\"/developer/docs/technicals-intraday-api#15-minutes-technical-indicator\" class=\"contain-header hoover-header\" data-v-ca18938c><div class=\"lower-title\" data-v-ca18938c>15 minutes technical indicator</div></a></h3><span class=\"span-margin\" data-v-ca18938c>Technical indicator every 15 minutes <span class=\"label info\">15 Minutes</span> <span class=\"label info-link\">JSON</span></span><pre class=\"href-pre\" data-v-ca18938c>\t\t\t\t\t\t\t\t\t<a href=\"https://financialmodelingprep.com/api/v3/technical_indicator/15min/AAPL?period=10&type=ema&apikey=YOUR_API_KEY\" target=\"_blank\" class=\"background-link\" data-v-ca18938c>/api/v3/technical_indicator/15min/<span class=\"symbol\">AAPL</span>?<span class=\"symbol bold\">period</span>=<span class=\"symbol\">10</span>&<span class=\"symbol bold\">type</span>=<span class=\"symbol\">ema</span></a>\n",
      "\t\t\t\t\t\t\t\t</pre><!----></div><!----></div><div class=\"contain-main-block\" style=\"margin-top:0\" data-v-ca18938c><div class=\"contain-block-prettyprint\" data-v-ca18938c><!----><!----><h3 class=\"margin-head\" data-v-ca18938c><!----> <a href=\"/developer/docs/technicals-intraday-api#30-minutes-technical-indicator\" class=\"contain-header hoover-header\" data-v-ca18938c><div class=\"lower-title\" data-v-ca18938c>30 minutes technical indicator</div></a></h3><span class=\"span-margin\" data-v-ca18938c>Technical indicator every 30 minutes <span class=\"label info\">30 Minutes</span> <span class=\"label info-link\">JSON</span></span><pre class=\"href-pre\" data-v-ca18938c>\t\t\t\t\t\t\t\t\t<a href=\"https://financialmodelingprep.com/api/v3/technical_indicator/30min/AAPL?period=10&type=ema&apikey=YOUR_API_KEY\" target=\"_blank\" class=\"background-link\" data-v-ca18938c>/api/v3/technical_indicator/30min/<span class=\"symbol\">AAPL</span>?<span class=\"symbol bold\">period</span>=<span class=\"symbol\">10</span>&<span class=\"symbol bold\">type</span>=<span class=\"symbol\">ema</span></a>\n",
      "\t\t\t\t\t\t\t\t</pre><!----></div><!----></div><div class=\"contain-main-block\" style=\"margin-top:0\" data-v-ca18938c><div class=\"contain-block-prettyprint\" data-v-ca18938c><!----><!----><h3 class=\"margin-head\" data-v-ca18938c><!----> <a href=\"/developer/docs/technicals-intraday-api#Hour-technical-indicator\" class=\"contain-header hoover-header\" data-v-ca18938c><div class=\"lower-title\" data-v-ca18938c>Hour technical indicator</div></a></h3><span class=\"span-margin\" data-v-ca18938c>Technical indicator every 1 hour <span class=\"label info\">Hour</span> <span class=\"label info-link\">JSON</span></span><pre class=\"href-pre\" data-v-ca18938c>\t\t\t\t\t\t\t\t\t<a href=\"https://financialmodelingprep.com/api/v3/technical_indicator/1hour/AAPL?period=10&type=ema&apikey=YOUR_API_KEY\" target=\"_blank\" class=\"background-link\" data-v-ca18938c>/api/v3/technical_indicator/1hour/<span class=\"symbol\">AAPL</span>?<span class=\"symbol bold\">period</span>=<span class=\"symbol\">10</span>&<span class=\"symbol bold\">type</span>=<span class=\"symbol\">ema</span></a>\n",
      "\t\t\t\t\t\t\t\t</pre><!----></div><!----></div><div class=\"contain-main-block\" style=\"margin-top:0\" data-v-ca18938c><div class=\"contain-block-prettyprint\" data-v-ca18938c><!----><!----><h3 class=\"margin-head\" data-v-ca18938c><!----> <a href=\"/developer/docs/technicals-intraday-api#4-Hours-technical-indicator\" class=\"contain-header hoover-header\" data-v-ca18938c><div class=\"lower-title\" data-v-ca18938c>4 Hours technical indicator</div></a></h3><span class=\"span-margin\" data-v-ca18938c>Technical indicator every 4 hours <span class=\"label info\">4 Hours</span> <span class=\"label info-link\">JSON</span></span><pre class=\"href-pre\" data-v-ca18938c>\t\t\t\t\t\t\t\t\t<a href=\"https://financialmodelingprep.com/api/v3/technical_indicator/4hour/AAPL?period=10&type=ema&apikey=YOUR_API_KEY\" target=\"_blank\" class=\"background-link\" data-v-ca18938c>/api/v3/technical_indicator/4hour/<span class=\"symbol\">AAPL</span>?<span class=\"symbol bold\">period</span>=<span class=\"symbol\">10</span>&<span class=\"symbol bold\">type</span>=<span class=\"symbol\">ema</span></a>\n",
      "\t\t\t\t\t\t\t\t</pre><!----></div><!----></div></section><section class=\"contain-big-section\" data-v-ca18938c><div data-v-ca18938c>FUND HOLDINGS</div></section><section id=\"ETF-Holders\" class=\"section-top min-height-section\" data-v-ca18938c><h2 data-v-ca18938c><a href=\"/developer/docs/etf-holders-api\" class=\"contain-header hoover-header\" data-v-ca18938c><div class=\"title-head\" data-v-ca18938c><div data-v-ca18938c>ETF Holders <svg aria-hidden=\"true\" height=\"12\" width=\"12\" viewBox=\"0 0 16 16\" xmlns=\"http://www.w3.org/2000/svg\" class=\"SVGInline-svg SVGInline--cleaned-svg SVG-svg Icon-svg Icon--arrowRight-svg Icon-color-svg Icon-color--blue-svg\" data-v-ca18938c><path d=\"M12.583 7L7.992 2.409A1 1 0 1 1 9.407.993l6.3 6.3a1 1 0 0 1 0 1.414l-6.3 6.3a1 1 0 0 1-1.415-1.416L12.583 9H1a1 1 0 1 1 0-2z\" fill-rule=\"evenodd\" data-v-ca18938c></path></svg></div></div></a></h2><div class=\"contain-main-block\" style=\"margin-top:0\" data-v-ca18938c><div class=\"contain-block-prettyprint\" data-v-ca18938c><!----><!----><!----> <span class=\"span-margin\" data-v-ca18938c>ETF Holders <span class=\"label info-link\">JSON</span></span><pre class=\"href-pre\" data-v-ca18938c>\t\t\t\t\t\t\t\t\t<a href=\"https://financialmodelingprep.com/api/v3/etf-holder/SPY?apikey=YOUR_API_KEY\" target=\"_blank\" class=\"background-link last-href\" data-v-ca18938c>/api/v3/etf-holder/<span class=\"symbol\">SPY</span></a>\n",
      "\t\t\t\t\t\t\t\t</pre><h3 style=\"border:none;margin-top:20px\" data-v-ca18938c><a href=\"/developer/docs/etf-holders-api\" class=\"span-margin hoover-header integration\" data-v-ca18938c><span style=\"color:#ec407a;font-weight:600\" data-v-ca18938c>Example</span> with Javascript, JQuery, VueJS, Angular, JAVA, PHP, NodeJS, Python, Go, Ruby, C#, R, Strest, Rust, Swift and Scala</a></h3></div><!----></div></section><section id=\"ETF-Expense-ratio\" class=\"section-top min-height-section\" data-v-ca18938c><h2 data-v-ca18938c><a href=\"/developer/docs/etf-expense-ratio-api\" class=\"contain-header hoover-header\" data-v-ca18938c><div class=\"title-head\" data-v-ca18938c><div data-v-ca18938c>ETF Expense ratio <svg aria-hidden=\"true\" height=\"12\" width=\"12\" viewBox=\"0 0 16 16\" xmlns=\"http://www.w3.org/2000/svg\" class=\"SVGInline-svg SVGInline--cleaned-svg SVG-svg Icon-svg Icon--arrowRight-svg Icon-color-svg Icon-color--blue-svg\" data-v-ca18938c><path d=\"M12.583 7L7.992 2.409A1 1 0 1 1 9.407.993l6.3 6.3a1 1 0 0 1 0 1.414l-6.3 6.3a1 1 0 0 1-1.415-1.416L12.583 9H1a1 1 0 1 1 0-2z\" fill-rule=\"evenodd\" data-v-ca18938c></path></svg></div></div></a></h2><div class=\"contain-main-block\" style=\"margin-top:0\" data-v-ca18938c><div class=\"contain-block-prettyprint\" data-v-ca18938c><!----><!----><!----> <span class=\"span-margin\" data-v-ca18938c>ETF Expense ratio <span class=\"label info-link\">JSON</span></span><pre class=\"href-pre\" data-v-ca18938c>\t\t\t\t\t\t\t\t\t<a href=\"https://financialmodelingprep.com/api/v4/etf-info?symbol=SPY&apikey=YOUR_API_KEY\" target=\"_blank\" class=\"background-link last-href\" data-v-ca18938c>/api/v4/etf-info?symbol=<span class=\"symbol\">SPY</span></a>\n",
      "\t\t\t\t\t\t\t\t</pre><h3 style=\"border:none;margin-top:20px\" data-v-ca18938c><a href=\"/developer/docs/etf-expense-ratio-api\" class=\"span-margin hoover-header integration\" data-v-ca18938c><span style=\"color:#ec407a;font-weight:600\" data-v-ca18938c>Example</span> with Javascript, JQuery, VueJS, Angular, JAVA, PHP, NodeJS, Python, Go, Ruby, C#, R, Strest, Rust, Swift and Scala</a></h3></div><!----></div></section><section id=\"Institutional-Holders\" class=\"section-top min-height-section\" data-v-ca18938c><h2 data-v-ca18938c><a href=\"/developer/docs/institutional-holders-api\" class=\"contain-header hoover-header\" data-v-ca18938c><div class=\"title-head\" data-v-ca18938c><div data-v-ca18938c>Institutional Holders <svg aria-hidden=\"true\" height=\"12\" width=\"12\" viewBox=\"0 0 16 16\" xmlns=\"http://www.w3.org/2000/svg\" class=\"SVGInline-svg SVGInline--cleaned-svg SVG-svg Icon-svg Icon--arrowRight-svg Icon-color-svg Icon-color--blue-svg\" data-v-ca18938c><path d=\"M12.583 7L7.992 2.409A1 1 0 1 1 9.407.993l6.3 6.3a1 1 0 0 1 0 1.414l-6.3 6.3a1 1 0 0 1-1.415-1.416L12.583 9H1a1 1 0 1 1 0-2z\" fill-rule=\"evenodd\" data-v-ca18938c></path></svg></div></div></a></h2><div class=\"contain-main-block\" style=\"margin-top:0\" data-v-ca18938c><div class=\"contain-block-prettyprint\" data-v-ca18938c><!----><!----><!----> <span class=\"span-margin\" data-v-ca18938c>Institutional holders of a company <span class=\"label info-link\">JSON</span></span><pre class=\"href-pre\" data-v-ca18938c>\t\t\t\t\t\t\t\t\t<a href=\"https://financialmodelingprep.com/api/v3/institutional-holder/AAPL?apikey=YOUR_API_KEY\" target=\"_blank\" class=\"background-link last-href\" data-v-ca18938c>/api/v3/institutional-holder/<span class=\"symbol\">AAPL</span></a>\n",
      "\t\t\t\t\t\t\t\t</pre><h3 style=\"border:none;margin-top:20px\" data-v-ca18938c><a href=\"/developer/docs/institutional-holders-api\" class=\"span-margin hoover-header integration\" data-v-ca18938c><span style=\"color:#ec407a;font-weight:600\" data-v-ca18938c>Example</span> with Javascript, JQuery, VueJS, Angular, JAVA, PHP, NodeJS, Python, Go, Ruby, C#, R, Strest, Rust, Swift and Scala</a></h3></div><!----></div></section><section id=\"Mutual-Fund-Holders\" class=\"section-top min-height-section\" data-v-ca18938c><h2 data-v-ca18938c><a href=\"/developer/docs/mutual-fund-holders-api\" class=\"contain-header hoover-header\" data-v-ca18938c><div class=\"title-head\" data-v-ca18938c><div data-v-ca18938c>Mutual Fund Holders <svg aria-hidden=\"true\" height=\"12\" width=\"12\" viewBox=\"0 0 16 16\" xmlns=\"http://www.w3.org/2000/svg\" class=\"SVGInline-svg SVGInline--cleaned-svg SVG-svg Icon-svg Icon--arrowRight-svg Icon-color-svg Icon-color--blue-svg\" data-v-ca18938c><path d=\"M12.583 7L7.992 2.409A1 1 0 1 1 9.407.993l6.3 6.3a1 1 0 0 1 0 1.414l-6.3 6.3a1 1 0 0 1-1.415-1.416L12.583 9H1a1 1 0 1 1 0-2z\" fill-rule=\"evenodd\" data-v-ca18938c></path></svg></div></div></a></h2><div class=\"contain-main-block\" style=\"margin-top:0\" data-v-ca18938c><div class=\"contain-block-prettyprint\" data-v-ca18938c><!----><!----><!----> <span class=\"span-margin\" data-v-ca18938c>Mutual Fund Holders of a company <span class=\"label info-link\">JSON</span></span><pre class=\"href-pre\" data-v-ca18938c>\t\t\t\t\t\t\t\t\t<a href=\"https://financialmodelingprep.com/api/v3/mutual-fund-holder/AAPL?apikey=YOUR_API_KEY\" target=\"_blank\" class=\"background-link last-href\" data-v-ca18938c>/api/v3/mutual-fund-holder/<span class=\"symbol\">AAPL</span></a>\n",
      "\t\t\t\t\t\t\t\t</pre><h3 style=\"border:none;margin-top:20px\" data-v-ca18938c><a href=\"/developer/docs/mutual-fund-holders-api\" class=\"span-margin hoover-header integration\" data-v-ca18938c><span style=\"color:#ec407a;font-weight:600\" data-v-ca18938c>Example</span> with Javascript, JQuery, VueJS, Angular, JAVA, PHP, NodeJS, Python, Go, Ruby, C#, R, Strest, Rust, Swift and Scala</a></h3></div><!----></div></section><section id=\"ETF-Sector-Weightings\" class=\"section-top min-height-section\" data-v-ca18938c><h2 data-v-ca18938c><a href=\"/developer/docs/etf-sector-weightings-api\" class=\"contain-header hoover-header\" data-v-ca18938c><div class=\"title-head\" data-v-ca18938c><div data-v-ca18938c>ETF Sector Weightings <svg aria-hidden=\"true\" height=\"12\" width=\"12\" viewBox=\"0 0 16 16\" xmlns=\"http://www.w3.org/2000/svg\" class=\"SVGInline-svg SVGInline--cleaned-svg SVG-svg Icon-svg Icon--arrowRight-svg Icon-color-svg Icon-color--blue-svg\" data-v-ca18938c><path d=\"M12.583 7L7.992 2.409A1 1 0 1 1 9.407.993l6.3 6.3a1 1 0 0 1 0 1.414l-6.3 6.3a1 1 0 0 1-1.415-1.416L12.583 9H1a1 1 0 1 1 0-2z\" fill-rule=\"evenodd\" data-v-ca18938c></path></svg></div></div></a></h2><div class=\"contain-main-block\" style=\"margin-top:0\" data-v-ca18938c><div class=\"contain-block-prettyprint\" data-v-ca18938c><!----><!----><!----> <span class=\"span-margin\" data-v-ca18938c>ETF Sector Weightings <span class=\"label info-link\">JSON</span></span><pre class=\"href-pre\" data-v-ca18938c>\t\t\t\t\t\t\t\t\t<a href=\"https://financialmodelingprep.com/api/v3/etf-sector-weightings/SPY?apikey=YOUR_API_KEY\" target=\"_blank\" class=\"background-link last-href\" data-v-ca18938c>/api/v3/etf-sector-weightings/<span class=\"symbol\">SPY</span></a>\n",
      "\t\t\t\t\t\t\t\t</pre><h3 style=\"border:none;margin-top:20px\" data-v-ca18938c><a href=\"/developer/docs/etf-sector-weightings-api\" class=\"span-margin hoover-header integration\" data-v-ca18938c><span style=\"color:#ec407a;font-weight:600\" data-v-ca18938c>Example</span> with Javascript, JQuery, VueJS, Angular, JAVA, PHP, NodeJS, Python, Go, Ruby, C#, R, Strest, Rust, Swift and Scala</a></h3></div><!----></div></section><section id=\"ETF-Country-Weightings\" class=\"section-top min-height-section\" data-v-ca18938c><h2 data-v-ca18938c><a href=\"/developer/docs/etf-country-weightings-api\" class=\"contain-header hoover-header\" data-v-ca18938c><div class=\"title-head\" data-v-ca18938c><div data-v-ca18938c>ETF Country Weightings <svg aria-hidden=\"true\" height=\"12\" width=\"12\" viewBox=\"0 0 16 16\" xmlns=\"http://www.w3.org/2000/svg\" class=\"SVGInline-svg SVGInline--cleaned-svg SVG-svg Icon-svg Icon--arrowRight-svg Icon-color-svg Icon-color--blue-svg\" data-v-ca18938c><path d=\"M12.583 7L7.992 2.409A1 1 0 1 1 9.407.993l6.3 6.3a1 1 0 0 1 0 1.414l-6.3 6.3a1 1 0 0 1-1.415-1.416L12.583 9H1a1 1 0 1 1 0-2z\" fill-rule=\"evenodd\" data-v-ca18938c></path></svg></div></div></a></h2><div class=\"contain-main-block\" style=\"margin-top:0\" data-v-ca18938c><div class=\"contain-block-prettyprint\" data-v-ca18938c><!----><!----><!----> <span class=\"span-margin\" data-v-ca18938c>ETF Country Weightings <span class=\"label info-link\">JSON</span></span><pre class=\"href-pre\" data-v-ca18938c>\t\t\t\t\t\t\t\t\t<a href=\"https://financialmodelingprep.com/api/v3/etf-country-weightings/SPY?apikey=YOUR_API_KEY\" target=\"_blank\" class=\"background-link last-href\" data-v-ca18938c>/api/v3/etf-country-weightings/<span class=\"symbol\">SPY</span></a>\n",
      "\t\t\t\t\t\t\t\t</pre><h3 style=\"border:none;margin-top:20px\" data-v-ca18938c><a href=\"/developer/docs/etf-country-weightings-api\" class=\"span-margin hoover-header integration\" data-v-ca18938c><span style=\"color:#ec407a;font-weight:600\" data-v-ca18938c>Example</span> with Javascript, JQuery, VueJS, Angular, JAVA, PHP, NodeJS, Python, Go, Ruby, C#, R, Strest, Rust, Swift and Scala</a></h3></div><!----></div></section><section id=\"ETF-Stock-Exposure\" class=\"section-top min-height-section\" data-v-ca18938c><h2 data-v-ca18938c><a href=\"/developer/docs/etf-stock-exposure-api\" class=\"contain-header hoover-header\" data-v-ca18938c><div class=\"title-head\" data-v-ca18938c><div data-v-ca18938c>ETF Stock Exposure <svg aria-hidden=\"true\" height=\"12\" width=\"12\" viewBox=\"0 0 16 16\" xmlns=\"http://www.w3.org/2000/svg\" class=\"SVGInline-svg SVGInline--cleaned-svg SVG-svg Icon-svg Icon--arrowRight-svg Icon-color-svg Icon-color--blue-svg\" data-v-ca18938c><path d=\"M12.583 7L7.992 2.409A1 1 0 1 1 9.407.993l6.3 6.3a1 1 0 0 1 0 1.414l-6.3 6.3a1 1 0 0 1-1.415-1.416L12.583 9H1a1 1 0 1 1 0-2z\" fill-rule=\"evenodd\" data-v-ca18938c></path></svg></div></div></a></h2><div class=\"contain-main-block\" style=\"margin-top:0\" data-v-ca18938c><div class=\"contain-block-prettyprint\" data-v-ca18938c><!----><!----><!----> <span class=\"span-margin\" data-v-ca18938c>ETF Stock Exposure list <span class=\"label info-link\">JSON</span></span><pre class=\"href-pre\" data-v-ca18938c>\t\t\t\t\t\t\t\t\t<a href=\"https://financialmodelingprep.com/api/v3/etf-stock-exposure/AAPL?apikey=YOUR_API_KEY\" target=\"_blank\" class=\"background-link last-href\" data-v-ca18938c>/api/v3/etf-stock-exposure/<span class=\"symbol\">AAPL</span></a>\n",
      "\t\t\t\t\t\t\t\t</pre><h3 style=\"border:none;margin-top:20px\" data-v-ca18938c><a href=\"/developer/docs/etf-stock-exposure-api\" class=\"span-margin hoover-header integration\" data-v-ca18938c><span style=\"color:#ec407a;font-weight:600\" data-v-ca18938c>Example</span> with Javascript, JQuery, VueJS, Angular, JAVA, PHP, NodeJS, Python, Go, Ruby, C#, R, Strest, Rust, Swift and Scala</a></h3></div><!----></div></section><section id=\"Form-13F\" class=\"section-top min-height-section\" data-v-ca18938c><h2 data-v-ca18938c><a href=\"/developer/docs/form-13f-api\" class=\"contain-header hoover-header\" data-v-ca18938c><div class=\"title-head\" data-v-ca18938c><div data-v-ca18938c>Form 13F <svg aria-hidden=\"true\" height=\"12\" width=\"12\" viewBox=\"0 0 16 16\" xmlns=\"http://www.w3.org/2000/svg\" class=\"SVGInline-svg SVGInline--cleaned-svg SVG-svg Icon-svg Icon--arrowRight-svg Icon-color-svg Icon-color--blue-svg\" data-v-ca18938c><path d=\"M12.583 7L7.992 2.409A1 1 0 1 1 9.407.993l6.3 6.3a1 1 0 0 1 0 1.414l-6.3 6.3a1 1 0 0 1-1.415-1.416L12.583 9H1a1 1 0 1 1 0-2z\" fill-rule=\"evenodd\" data-v-ca18938c></path></svg></div></div></a></h2><div class=\"contain-main-block\" style=\"margin-top:0\" data-v-ca18938c><div class=\"contain-block-prettyprint\" data-v-ca18938c><!----><!----><h3 data-v-ca18938c><!----> <a href=\"/developer/docs/form-13f-api#13F-List\" class=\"contain-header hoover-header\" data-v-ca18938c><div class=\"lower-title\" data-v-ca18938c>13F List</div></a></h3><span class=\"span-margin\" data-v-ca18938c>Complete list of all institutional investment managers by cik <span class=\"label info-link\">JSON</span></span><pre class=\"href-pre\" data-v-ca18938c>\t\t\t\t\t\t\t\t\t<a href=\"https://financialmodelingprep.com/api/v3/cik_list?apikey=YOUR_API_KEY\" target=\"_blank\" class=\"background-link\" data-v-ca18938c>/api/v3/<span class=\"symbol\">cik_list</span></a>\n",
      "\t\t\t\t\t\t\t\t</pre><!----></div><!----></div><div class=\"contain-main-block margin-head-top-top-pretty\" style=\"margin-top:0\" data-v-ca18938c><div class=\"contain-block-prettyprint\" data-v-ca18938c><!----><!----><h3 class=\"margin-head\" data-v-ca18938c><!----> <a href=\"/developer/docs/form-13f-api#Search-cik-by-name\" class=\"contain-header hoover-header\" data-v-ca18938c><div class=\"lower-title\" data-v-ca18938c>Search cik by name</div></a></h3><span class=\"span-margin\" data-v-ca18938c>FORM 13F cik search by name <span class=\"label info-link\">JSON</span></span><pre class=\"href-pre\" data-v-ca18938c>\t\t\t\t\t\t\t\t\t<a href=\"https://financialmodelingprep.com/api/v3/cik-search/Berkshire?apikey=YOUR_API_KEY\" target=\"_blank\" class=\"background-link\" data-v-ca18938c>/api/v3/cik-search/<span class=\"symbol\">Berkshire</span></a>\n",
      "\t\t\t\t\t\t\t\t</pre><!----></div><!----></div><div class=\"contain-main-block\" style=\"margin-top:0\" data-v-ca18938c><div class=\"contain-block-prettyprint\" data-v-ca18938c><!----><!----><h3 class=\"margin-head\" data-v-ca18938c><!----> <a href=\"/developer/docs/form-13f-api#Get-company-name-by-cik\" class=\"contain-header hoover-header\" data-v-ca18938c><div class=\"lower-title\" data-v-ca18938c>Get company name by cik</div></a></h3><span class=\"span-margin\" data-v-ca18938c>FORM 13F get company name by cik <span class=\"label info-link\">JSON</span></span><pre class=\"href-pre\" data-v-ca18938c>\t\t\t\t\t\t\t\t\t<a href=\"https://financialmodelingprep.com/api/v3/cik/0001067983?apikey=YOUR_API_KEY\" target=\"_blank\" class=\"background-link\" data-v-ca18938c>/api/v3/cik/<span class=\"symbol\">0001067983</span></a>\n",
      "\t\t\t\t\t\t\t\t</pre><!----></div><!----></div><div class=\"contain-main-block\" style=\"margin-top:0\" data-v-ca18938c><div class=\"contain-block-prettyprint\" data-v-ca18938c><!----><!----><h3 class=\"margin-head\" data-v-ca18938c><!----> <a href=\"/developer/docs/form-13f-api#FORM-13F\" class=\"contain-header hoover-header\" data-v-ca18938c><div class=\"lower-title\" data-v-ca18938c>FORM 13F</div></a></h3><span class=\"span-margin\" data-v-ca18938c>FORM 13F statements provides position-level report of all institutional investment managers with more than $100m in assets under management (i.e. Berkshire hathaway cik). <span class=\"label info-dark\">Quarter</span> <span class=\"label info-link\">JSON</span></span><pre class=\"href-pre\" data-v-ca18938c>\t\t\t\t\t\t\t\t\t<a href=\"https://financialmodelingprep.com/api/v3/form-thirteen/0001067983?date=2020-06-30&apikey=YOUR_API_KEY\" target=\"_blank\" class=\"background-link\" data-v-ca18938c>/api/v3/form-thirteen/<span class=\"symbol\">0001067983</span>?<span class=\"symbol bold\">date</span>=<span class=\"bold\">2020-06-30</span></a>\n",
      "\t\t\t\t\t\t\t\t</pre><!----></div><!----></div><div class=\"contain-main-block\" style=\"margin-top:0\" data-v-ca18938c><div class=\"contain-block-prettyprint\" data-v-ca18938c><!----><!----><h3 class=\"margin-head\" data-v-ca18938c><!----> <a href=\"/developer/docs/form-13f-api#Get-filing-dates-by-cik\" class=\"contain-header hoover-header\" data-v-ca18938c><div class=\"lower-title\" data-v-ca18938c>Get filing dates by cik</div></a></h3><span class=\"span-margin\" data-v-ca18938c>13F Filings Dates by cik <span class=\"label info-link\">JSON</span></span><pre class=\"href-pre\" data-v-ca18938c>\t\t\t\t\t\t\t\t\t<a href=\"https://financialmodelingprep.com/api/v3/form-thirteen-date/0001035674?apikey=YOUR_API_KEY\" target=\"_blank\" class=\"background-link\" data-v-ca18938c>/api/v3/form-thirteen-date/<span class=\"symbol\">0001035674</span></a>\n",
      "\t\t\t\t\t\t\t\t</pre><!----></div><!----></div><div class=\"contain-main-block\" style=\"margin-top:0\" data-v-ca18938c><div class=\"contain-block-prettyprint\" data-v-ca18938c><!----><!----><h3 class=\"margin-head\" data-v-ca18938c><!----> <a href=\"/developer/docs/form-13f-api#Cusip-mapper\" class=\"contain-header hoover-header\" data-v-ca18938c><div class=\"lower-title\" data-v-ca18938c>Cusip mapper</div></a></h3><span class=\"span-margin\" data-v-ca18938c>Cusip mapper <span class=\"label info-link\">JSON</span></span><pre class=\"href-pre\" data-v-ca18938c>\t\t\t\t\t\t\t\t\t<a href=\"https://financialmodelingprep.com/api/v3/cusip/000360206?apikey=YOUR_API_KEY\" target=\"_blank\" class=\"background-link last-href\" data-v-ca18938c>/api/v3/cusip/<span class=\"symbol\">000360206</span></a>\n",
      "\t\t\t\t\t\t\t\t</pre><h3 style=\"border:none;margin-top:20px\" data-v-ca18938c><a href=\"/developer/docs/form-13f-api\" class=\"span-margin hoover-header integration\" data-v-ca18938c><span style=\"color:#ec407a;font-weight:600\" data-v-ca18938c>Example</span> with Javascript, JQuery, VueJS, Angular, JAVA, PHP, NodeJS, Python, Go, Ruby, C#, R, Strest, Rust, Swift and Scala</a></h3></div><!----></div></section><section id=\"Form-13F-Asset-Allocation-Diversification\" class=\"section-top min-height-section\" data-v-ca18938c><h2 data-v-ca18938c><a href=\"/developer/docs/form-13-f-asset-allocation-diversification-api\" class=\"contain-header hoover-header\" data-v-ca18938c><div class=\"title-head\" data-v-ca18938c><div data-v-ca18938c>Form 13F Asset Allocation Diversification <svg aria-hidden=\"true\" height=\"12\" width=\"12\" viewBox=\"0 0 16 16\" xmlns=\"http://www.w3.org/2000/svg\" class=\"SVGInline-svg SVGInline--cleaned-svg SVG-svg Icon-svg Icon--arrowRight-svg Icon-color-svg Icon-color--blue-svg\" data-v-ca18938c><path d=\"M12.583 7L7.992 2.409A1 1 0 1 1 9.407.993l6.3 6.3a1 1 0 0 1 0 1.414l-6.3 6.3a1 1 0 0 1-1.415-1.416L12.583 9H1a1 1 0 1 1 0-2z\" fill-rule=\"evenodd\" data-v-ca18938c></path></svg></div></div></a></h2><div class=\"contain-main-block\" style=\"margin-top:0\" data-v-ca18938c><div class=\"contain-block-prettyprint\" data-v-ca18938c><!----><!----><!----> <span class=\"span-margin\" data-v-ca18938c>13F Asset Allocation Diversification available date <span class=\"label info-link\">JSON</span></span><pre class=\"href-pre\" data-v-ca18938c>\t\t\t\t\t\t\t\t\t<a href=\"https://financialmodelingprep.com/api/v4/13f-asset-allocation-date?apikey=YOUR_API_KEY\" target=\"_blank\" class=\"background-link\" data-v-ca18938c>/api/v4/13f-asset-allocation-date</a>\n",
      "\t\t\t\t\t\t\t\t</pre><!----></div><!----></div><div class=\"contain-main-block margin-head-top-top-top-pretty\" style=\"margin-top:0\" data-v-ca18938c><div class=\"contain-block-prettyprint\" data-v-ca18938c><!----><!----><!----> <span class=\"span-margin\" data-v-ca18938c>13F Asset Allocation Diversification <span class=\"label info-link\">JSON</span></span><pre class=\"href-pre\" data-v-ca18938c>\t\t\t\t\t\t\t\t\t<a href=\"https://financialmodelingprep.com/api/v4/13f-asset-allocation?date=2022-03-31&apikey=YOUR_API_KEY\" target=\"_blank\" class=\"background-link last-href\" data-v-ca18938c>/api/v4/13f-asset-allocation?<span class=\"symbol bold\">date</span>=<span class=\"symbol\">2022-03-31</span></a>\n",
      "\t\t\t\t\t\t\t\t</pre><h3 style=\"border:none;margin-top:20px\" data-v-ca18938c><a href=\"/developer/docs/form-13-f-asset-allocation-diversification-api\" class=\"span-margin hoover-header integration\" data-v-ca18938c><span style=\"color:#ec407a;font-weight:600\" data-v-ca18938c>Example</span> with Javascript, JQuery, VueJS, Angular, JAVA, PHP, NodeJS, Python, Go, Ruby, C#, R, Strest, Rust, Swift and Scala</a></h3></div><!----></div></section><section class=\"contain-big-section\" data-v-ca18938c><div data-v-ca18938c>WEBSOCKET</div></section><section id=\"Websocket\" class=\"section-top min-height-section\" data-v-ca18938c><h2 data-v-ca18938c><a href=\"/developer/docs/websocket-api\" class=\"contain-header hoover-header\" data-v-ca18938c><div class=\"title-head\" data-v-ca18938c><div data-v-ca18938c>Websocket <svg aria-hidden=\"true\" height=\"12\" width=\"12\" viewBox=\"0 0 16 16\" xmlns=\"http://www.w3.org/2000/svg\" class=\"SVGInline-svg SVGInline--cleaned-svg SVG-svg Icon-svg Icon--arrowRight-svg Icon-color-svg Icon-color--blue-svg\" data-v-ca18938c><path d=\"M12.583 7L7.992 2.409A1 1 0 1 1 9.407.993l6.3 6.3a1 1 0 0 1 0 1.414l-6.3 6.3a1 1 0 0 1-1.415-1.416L12.583 9H1a1 1 0 1 1 0-2z\" fill-rule=\"evenodd\" data-v-ca18938c></path></svg></div></div></a></h2><div class=\"contain-main-block\" style=\"margin-top:0\" data-v-ca18938c><div class=\"contain-block-prettyprint\" data-v-ca18938c><!----><!----><h3 data-v-ca18938c><!----> <a href=\"/developer/docs/websocket-api#Websocket\" class=\"contain-header hoover-header\" data-v-ca18938c><div class=\"lower-title\" data-v-ca18938c>Websocket</div></a></h3><span class=\"span-margin\" data-v-ca18938c>Login: { \"event\": \"login\", \"data\": { \"apiKey\": \"your_api_key\" } }<br>Subscribe: { \"event\": \"subscribe\", \"data\": { \"ticker\": \"aapl\" } }<br><br>Response:<br>s: Ticker related to the asset.<br>t: Timestamp<br>type: Trade type (Communicates what type of price update this is. Will always be \"T\" for last trade message, \"Q\" for top-of-book update message, and \"B\" for trade break messages.)<br>ap: The current lowest ask price. Only available for Quote updates, null otherwise.<br>as: The number of shares at the ask price. Only available for Quote updates, null otherwise.<br>bp: The number shares at the bid price. Only available for Quote updates, null otherwise.<br>bs: The current highest bid price. Only available for Quote updates, null otherwise.<br>lp: The last price the last trade was executed at. Only available for Trade and Break updates, null otherwise.<br>ls: The amount of shares (volume) traded at the last price. Only available for Trade and Break updates, null otherwise.<br><br>Unsubscribe: { \"event\": \"unsubscribe\", \"data\": { \"ticker\": \"aapl\" } }<br><br>Prices websocket (ticker must be lower case) <span class=\"label info-link\">JSON</span></span><pre class=\"href-pre\" data-v-ca18938c>\t\t\t\t\t\t\t\t\t<a href=\"wss://websockets.financialmodelingprep.com\" target=\"_blank\" class=\"background-link\" data-v-ca18938c>wss://websockets.financialmodelingprep.com</a>\n",
      "\t\t\t\t\t\t\t\t</pre><!----></div><!----></div><div class=\"contain-main-block margin-bigger\" style=\"margin-top:0\" data-v-ca18938c><div class=\"contain-block-prettyprint\" data-v-ca18938c><!----><!----><!----> <span class=\"span-margin\" data-v-ca18938c>Login: { \"event\": \"login\", \"data\": { \"apiKey\": \"your_api_key\" } }<br>Subscribe: { \"event\": \"subscribe\", \"data\": { \"ticker\": \"btcusd\" } }<br><br>Prices websocket for crypto (ticker must be lower case) <span class=\"label info-link\">JSON</span></span><pre class=\"href-pre\" data-v-ca18938c>\t\t\t\t\t\t\t\t\t<a href=\"wss://crypto.financialmodelingprep.com\" target=\"_blank\" class=\"background-link last-href\" data-v-ca18938c>wss://crypto.financialmodelingprep.com</a>\n",
      "\t\t\t\t\t\t\t\t</pre><h3 style=\"border:none;margin-top:20px\" data-v-ca18938c><a href=\"/developer/docs/websocket-api\" class=\"span-margin hoover-header integration\" data-v-ca18938c><span style=\"color:#ec407a;font-weight:600\" data-v-ca18938c>Example</span> with Javascript, JQuery, VueJS, Angular, JAVA, PHP, NodeJS, Python, Go, Ruby, C#, R, Strest, Rust, Swift and Scala</a></h3></div><!----></div></section><section class=\"contain-big-section\" data-v-ca18938c><div data-v-ca18938c>STOCK LIST</div></section><section id=\"Symbols-List\" class=\"section-top min-height-section\" data-v-ca18938c><h2 data-v-ca18938c><a href=\"/developer/docs/stock-market-quote-free-api\" class=\"contain-header hoover-header\" data-v-ca18938c><div class=\"title-head\" data-v-ca18938c><div data-v-ca18938c>Symbols List <svg aria-hidden=\"true\" height=\"12\" width=\"12\" viewBox=\"0 0 16 16\" xmlns=\"http://www.w3.org/2000/svg\" class=\"SVGInline-svg SVGInline--cleaned-svg SVG-svg Icon-svg Icon--arrowRight-svg Icon-color-svg Icon-color--blue-svg\" data-v-ca18938c><path d=\"M12.583 7L7.992 2.409A1 1 0 1 1 9.407.993l6.3 6.3a1 1 0 0 1 0 1.414l-6.3 6.3a1 1 0 0 1-1.415-1.416L12.583 9H1a1 1 0 1 1 0-2z\" fill-rule=\"evenodd\" data-v-ca18938c></path></svg></div></div></a></h2><div class=\"contain-main-block\" style=\"margin-top:0\" data-v-ca18938c><div class=\"contain-block-prettyprint\" data-v-ca18938c><!----><!----><!----> <span class=\"span-margin\" data-v-ca18938c>All Companies ticker symbols available in Financial Modeling Prep <span class=\"label warning\">High Usage</span> <span class=\"label info-link\">JSON</span></span><pre class=\"href-pre\" data-v-ca18938c>\t\t\t\t\t\t\t\t\t<a href=\"https://financialmodelingprep.com/api/v3/stock/list?apikey=YOUR_API_KEY\" target=\"_blank\" class=\"background-link last-href\" data-v-ca18938c>/api/v3/stock/<span class=\"symbol\">list</span></a>\n",
      "\t\t\t\t\t\t\t\t</pre><h3 style=\"border:none;margin-top:20px\" data-v-ca18938c><a href=\"/developer/docs/stock-market-quote-free-api\" class=\"span-margin hoover-header integration\" data-v-ca18938c><span style=\"color:#ec407a;font-weight:600\" data-v-ca18938c>Example</span> with Javascript, JQuery, VueJS, Angular, JAVA, PHP, NodeJS, Python, Go, Ruby, C#, R, Strest, Rust, Swift and Scala</a></h3></div><!----></div></section><section id=\"Tradable-Symbols-List\" class=\"section-top min-height-section\" data-v-ca18938c><h2 data-v-ca18938c><a href=\"/developer/docs/tradable-list-api\" class=\"contain-header hoover-header\" data-v-ca18938c><div class=\"title-head\" data-v-ca18938c><div data-v-ca18938c>Tradable Symbols List <svg aria-hidden=\"true\" height=\"12\" width=\"12\" viewBox=\"0 0 16 16\" xmlns=\"http://www.w3.org/2000/svg\" class=\"SVGInline-svg SVGInline--cleaned-svg SVG-svg Icon-svg Icon--arrowRight-svg Icon-color-svg Icon-color--blue-svg\" data-v-ca18938c><path d=\"M12.583 7L7.992 2.409A1 1 0 1 1 9.407.993l6.3 6.3a1 1 0 0 1 0 1.414l-6.3 6.3a1 1 0 0 1-1.415-1.416L12.583 9H1a1 1 0 1 1 0-2z\" fill-rule=\"evenodd\" data-v-ca18938c></path></svg></div></div></a></h2><div class=\"contain-main-block\" style=\"margin-top:0\" data-v-ca18938c><div class=\"contain-block-prettyprint\" data-v-ca18938c><!----><!----><!----> <span class=\"span-margin\" data-v-ca18938c>All tradable Symbols <span class=\"label info-link\">JSON</span></span><pre class=\"href-pre\" data-v-ca18938c>\t\t\t\t\t\t\t\t\t<a href=\"https://financialmodelingprep.com/api/v3/available-traded/list?apikey=YOUR_API_KEY\" target=\"_blank\" class=\"background-link last-href\" data-v-ca18938c>/api/v3/available-traded/<span class=\"symbol\">list</span></a>\n",
      "\t\t\t\t\t\t\t\t</pre><h3 style=\"border:none;margin-top:20px\" data-v-ca18938c><a href=\"/developer/docs/tradable-list-api\" class=\"span-margin hoover-header integration\" data-v-ca18938c><span style=\"color:#ec407a;font-weight:600\" data-v-ca18938c>Example</span> with Javascript, JQuery, VueJS, Angular, JAVA, PHP, NodeJS, Python, Go, Ruby, C#, R, Strest, Rust, Swift and Scala</a></h3></div><!----></div></section><section id=\"ETF-List\" class=\"section-top min-height-section\" data-v-ca18938c><h2 data-v-ca18938c><a href=\"/developer/docs/etf-list-api\" class=\"contain-header hoover-header\" data-v-ca18938c><div class=\"title-head\" data-v-ca18938c><div data-v-ca18938c>ETF List <svg aria-hidden=\"true\" height=\"12\" width=\"12\" viewBox=\"0 0 16 16\" xmlns=\"http://www.w3.org/2000/svg\" class=\"SVGInline-svg SVGInline--cleaned-svg SVG-svg Icon-svg Icon--arrowRight-svg Icon-color-svg Icon-color--blue-svg\" data-v-ca18938c><path d=\"M12.583 7L7.992 2.409A1 1 0 1 1 9.407.993l6.3 6.3a1 1 0 0 1 0 1.414l-6.3 6.3a1 1 0 0 1-1.415-1.416L12.583 9H1a1 1 0 1 1 0-2z\" fill-rule=\"evenodd\" data-v-ca18938c></path></svg></div></div></a></h2><div class=\"contain-main-block\" style=\"margin-top:0\" data-v-ca18938c><div class=\"contain-block-prettyprint\" data-v-ca18938c><!----><!----><!----> <span class=\"span-margin\" data-v-ca18938c>All ETF symbols <span class=\"label info-link\">JSON</span></span><pre class=\"href-pre\" data-v-ca18938c>\t\t\t\t\t\t\t\t\t<a href=\"https://financialmodelingprep.com/api/v3/etf/list?apikey=YOUR_API_KEY\" target=\"_blank\" class=\"background-link last-href\" data-v-ca18938c>/api/v3/etf/<span class=\"symbol\">list</span></a>\n",
      "\t\t\t\t\t\t\t\t</pre><h3 style=\"border:none;margin-top:20px\" data-v-ca18938c><a href=\"/developer/docs/etf-list-api\" class=\"span-margin hoover-header integration\" data-v-ca18938c><span style=\"color:#ec407a;font-weight:600\" data-v-ca18938c>Example</span> with Javascript, JQuery, VueJS, Angular, JAVA, PHP, NodeJS, Python, Go, Ruby, C#, R, Strest, Rust, Swift and Scala</a></h3></div><!----></div></section><section class=\"contain-big-section\" data-v-ca18938c><div data-v-ca18938c>BULK AND BATCH</div></section><section id=\"Batch-Request-Stock-Companies-Price\" class=\"section-top min-height-section\" data-v-ca18938c><h2 data-v-ca18938c><a href=\"/developer/docs/companies-batch-request-free-api\" class=\"contain-header hoover-header\" data-v-ca18938c><div class=\"title-head\" data-v-ca18938c><div data-v-ca18938c>Batch Request Stock Companies Price <svg aria-hidden=\"true\" height=\"12\" width=\"12\" viewBox=\"0 0 16 16\" xmlns=\"http://www.w3.org/2000/svg\" class=\"SVGInline-svg SVGInline--cleaned-svg SVG-svg Icon-svg Icon--arrowRight-svg Icon-color-svg Icon-color--blue-svg\" data-v-ca18938c><path d=\"M12.583 7L7.992 2.409A1 1 0 1 1 9.407.993l6.3 6.3a1 1 0 0 1 0 1.414l-6.3 6.3a1 1 0 0 1-1.415-1.416L12.583 9H1a1 1 0 1 1 0-2z\" fill-rule=\"evenodd\" data-v-ca18938c></path></svg></div></div></a></h2><div class=\"contain-main-block\" style=\"margin-top:0\" data-v-ca18938c><div class=\"contain-block-prettyprint\" data-v-ca18938c><!----><!----><!----> <span class=\"span-margin\" data-v-ca18938c>Multiple companies Prices <span class=\"label warning\">High Usage</span> <span class=\"label info-link\">JSON</span></span><pre class=\"href-pre\" data-v-ca18938c>\t\t\t\t\t\t\t\t\t<a href=\"https://financialmodelingprep.com/api/v3/quote/AAPL,FB,GOOG?apikey=YOUR_API_KEY\" target=\"_blank\" class=\"background-link\" data-v-ca18938c>/api/v3/quote/<span class=\"symbol\">AAPL,FB,GOOG</span></a>\n",
      "\t\t\t\t\t\t\t\t</pre><!----></div><!----></div><div class=\"contain-main-block margin-head-top-top-top-pretty\" style=\"margin-top:0\" data-v-ca18938c><div class=\"contain-block-prettyprint\" data-v-ca18938c><!----><!----><!----> <span class=\"span-margin\" data-v-ca18938c>Batch request that contains all end of day prices for specific date <span class=\"label info-link\">CSV</span></span><pre class=\"href-pre\" data-v-ca18938c>\t\t\t\t\t\t\t\t\t<a href=\"https://financialmodelingprep.com/api/v4/batch-request-end-of-day-prices?date=2021-05-18&apikey=YOUR_API_KEY\" target=\"_blank\" class=\"background-link last-href\" data-v-ca18938c>/api/v4/batch-request-end-of-day-prices?<span class=\"symbol bold\">date</span>=<span class=\"symbol\">2021-05-18</span></a>\n",
      "\t\t\t\t\t\t\t\t</pre><h3 style=\"border:none;margin-top:20px\" data-v-ca18938c><a href=\"/developer/docs/companies-batch-request-free-api\" class=\"span-margin hoover-header integration\" data-v-ca18938c><span style=\"color:#ec407a;font-weight:600\" data-v-ca18938c>Example</span> with Javascript, JQuery, VueJS, Angular, JAVA, PHP, NodeJS, Python, Go, Ruby, C#, R, Strest, Rust, Swift and Scala</a></h3></div><!----></div></section><section id=\"Bulk-Endpoint\" class=\"section-top\" data-v-ca18938c><h2 data-v-ca18938c><a href=\"/developer/docs/bulk-endpoint-api\" class=\"contain-header hoover-header\" data-v-ca18938c><div class=\"title-head\" data-v-ca18938c><div data-v-ca18938c>Bulk Endpoint <svg aria-hidden=\"true\" height=\"12\" width=\"12\" viewBox=\"0 0 16 16\" xmlns=\"http://www.w3.org/2000/svg\" class=\"SVGInline-svg SVGInline--cleaned-svg SVG-svg Icon-svg Icon--arrowRight-svg Icon-color-svg Icon-color--blue-svg\" data-v-ca18938c><path d=\"M12.583 7L7.992 2.409A1 1 0 1 1 9.407.993l6.3 6.3a1 1 0 0 1 0 1.414l-6.3 6.3a1 1 0 0 1-1.415-1.416L12.583 9H1a1 1 0 1 1 0-2z\" fill-rule=\"evenodd\" data-v-ca18938c></path></svg></div></div></a></h2><div class=\"contain-main-block\" style=\"margin-top:0\" data-v-ca18938c><div class=\"contain-block-prettyprint\" style=\"width:100%\" data-v-ca18938c><!----><!----><!----> <span class=\"span-margin\" data-v-ca18938c><h3>This API endpoint is available under the Professional/Business or Enterprise plan. You can choose your plan on our <a href=\"/developer/docs/pricing\">pricing page</a>.</h3><br>All quarter or annual Income Statements for specific year <span class=\"label info-link\">CSV</span></span><pre class=\"href-pre\" data-v-ca18938c>\t\t\t\t\t\t\t\t\t<a href=\"https://financialmodelingprep.com/api/v4/income-statement-bulk?year=2020&period=annual&apikey=YOUR_API_KEY\" target=\"_blank\" class=\"background-link\" data-v-ca18938c>/api/v4/income-statement-bulk?<span class=\"symbol bold\">year</span>=<span class=\"symbol\">2020</span>&<span class=\"symbol bold\">period</span>=<span class=\"symbol\">annual</span></a>\n",
      "\t\t\t\t\t\t\t\t</pre><!----></div><!----></div><div class=\"contain-main-block\" style=\"margin-top:0\" data-v-ca18938c><div class=\"contain-block-prettyprint\" style=\"width:100%\" data-v-ca18938c><!----><!----><!----> <span class=\"span-margin\" data-v-ca18938c>All quarter or annual Balance Sheet Statements for specific year <span class=\"label info-link\">CSV</span></span><pre class=\"href-pre\" data-v-ca18938c>\t\t\t\t\t\t\t\t\t<a href=\"https://financialmodelingprep.com/api/v4/balance-sheet-statement-bulk?year=2020&period=annual&apikey=YOUR_API_KEY\" target=\"_blank\" class=\"background-link\" data-v-ca18938c>/api/v4/balance-sheet-statement-bulk?<span class=\"symbol bold\">year</span>=<span class=\"symbol\">2020</span>&<span class=\"symbol bold\">period</span>=<span class=\"symbol\">annual</span></a>\n",
      "\t\t\t\t\t\t\t\t</pre><!----></div><!----></div><div class=\"contain-main-block\" style=\"margin-top:0\" data-v-ca18938c><div class=\"contain-block-prettyprint\" style=\"width:100%\" data-v-ca18938c><!----><!----><!----> <span class=\"span-margin\" data-v-ca18938c>All quarter or annual Cash Flow Statements for specific year <span class=\"label info-link\">CSV</span></span><pre class=\"href-pre\" data-v-ca18938c>\t\t\t\t\t\t\t\t\t<a href=\"https://financialmodelingprep.com/api/v4/cash-flow-statement-bulk?year=2020&period=annual&apikey=YOUR_API_KEY\" target=\"_blank\" class=\"background-link\" data-v-ca18938c>/api/v4/cash-flow-statement-bulk?<span class=\"symbol bold\">year</span>=<span class=\"symbol\">2020</span>&<span class=\"symbol bold\">period</span>=<span class=\"symbol\">annual</span></a>\n",
      "\t\t\t\t\t\t\t\t</pre><!----></div><!----></div><div class=\"contain-main-block\" style=\"margin-top:0\" data-v-ca18938c><div class=\"contain-block-prettyprint\" style=\"width:100%\" data-v-ca18938c><!----><!----><!----> <span class=\"span-margin\" data-v-ca18938c>All quarter or annual Ratios for specific year <span class=\"label info-link\">CSV</span></span><pre class=\"href-pre\" data-v-ca18938c>\t\t\t\t\t\t\t\t\t<a href=\"https://financialmodelingprep.com/api/v4/ratios-bulk?year=2020&period=annual&apikey=YOUR_API_KEY\" target=\"_blank\" class=\"background-link\" data-v-ca18938c>/api/v4/ratios-bulk?<span class=\"symbol bold\">year</span>=<span class=\"symbol\">2020</span>&<span class=\"symbol bold\">period</span>=<span class=\"symbol\">annual</span></a>\n",
      "\t\t\t\t\t\t\t\t</pre><!----></div><!----></div><div class=\"contain-main-block\" style=\"margin-top:0\" data-v-ca18938c><div class=\"contain-block-prettyprint\" style=\"width:100%\" data-v-ca18938c><!----><!----><!----> <span class=\"span-margin\" data-v-ca18938c>All quarter or annual Key Metrics for specific year <span class=\"label info-link\">CSV</span></span><pre class=\"href-pre\" data-v-ca18938c>\t\t\t\t\t\t\t\t\t<a href=\"https://financialmodelingprep.com/api/v4/key-metrics-bulk?year=2020&period=annual&apikey=YOUR_API_KEY\" target=\"_blank\" class=\"background-link\" data-v-ca18938c>/api/v4/key-metrics-bulk?<span class=\"symbol bold\">year</span>=<span class=\"symbol\">2020</span>&<span class=\"symbol bold\">period</span>=<span class=\"symbol\">annual</span></a>\n",
      "\t\t\t\t\t\t\t\t</pre><!----></div><!----></div><div class=\"contain-main-block\" style=\"margin-top:0\" data-v-ca18938c><div class=\"contain-block-prettyprint\" style=\"width:100%\" data-v-ca18938c><!----><!----><!----> <span class=\"span-margin\" data-v-ca18938c>All Earning Surprises for specific year <span class=\"label info-link\">CSV</span></span><pre class=\"href-pre\" data-v-ca18938c>\t\t\t\t\t\t\t\t\t<a href=\"https://financialmodelingprep.com/api/v4/earnings-surprises-bulk?year=2020&apikey=YOUR_API_KEY\" target=\"_blank\" class=\"background-link\" data-v-ca18938c>/api/v4/earnings-surprises-bulk?<span class=\"symbol bold\">year</span>=<span class=\"symbol\">2020</span></a>\n",
      "\t\t\t\t\t\t\t\t</pre><!----></div><!----></div><div class=\"contain-main-block\" style=\"margin-top:0\" data-v-ca18938c><div class=\"contain-block-prettyprint\" style=\"width:100%\" data-v-ca18938c><!----><!----><!----> <span class=\"span-margin\" data-v-ca18938c>It contains all profiles from our API in one CSV file <span class=\"label info-link\">CSV</span></span><pre class=\"href-pre\" data-v-ca18938c>\t\t\t\t\t\t\t\t\t<a href=\"https://financialmodelingprep.com/api/v4/profile/all?apikey=YOUR_API_KEY\" target=\"_blank\" class=\"background-link\" data-v-ca18938c>/api/v4/profile/<span class=\"symbol bold\">all</span></a>\n",
      "\t\t\t\t\t\t\t\t</pre><!----></div><!----></div><div class=\"contain-main-block\" style=\"margin-top:0\" data-v-ca18938c><div class=\"contain-block-prettyprint\" style=\"width:100%\" data-v-ca18938c><!----><!----><!----> <span class=\"span-margin\" data-v-ca18938c>Stock peers for all symbols with profile <span class=\"label info-link\">CSV</span></span><pre class=\"href-pre\" data-v-ca18938c>\t\t\t\t\t\t\t\t\t<a href=\"https://financialmodelingprep.com/api/v4/stock_peers_bulk?apikey=YOUR_API_KEY\" target=\"_blank\" class=\"background-link\" data-v-ca18938c>/api/v4/<span class=\"symbol bold\">stock_peers_bulk</span></a>\n",
      "\t\t\t\t\t\t\t\t</pre><!----></div><!----></div><div class=\"contain-main-block\" style=\"margin-top:0\" data-v-ca18938c><div class=\"contain-block-prettyprint\" style=\"width:100%\" data-v-ca18938c><!----><!----><!----> <span class=\"span-margin\" data-v-ca18938c>All latest company ratings <span class=\"label info-link\">CSV</span></span><pre class=\"href-pre\" data-v-ca18938c>\t\t\t\t\t\t\t\t\t<a href=\"https://financialmodelingprep.com/api/v4/rating-bulk?apikey=YOUR_API_KEY\" target=\"_blank\" class=\"background-link\" data-v-ca18938c>/api/v4/rating-bulk</a>\n",
      "\t\t\t\t\t\t\t\t</pre><!----></div><!----></div><div class=\"contain-main-block\" style=\"margin-top:0\" data-v-ca18938c><div class=\"contain-block-prettyprint\" style=\"width:100%\" data-v-ca18938c><!----><!----><!----> <span class=\"span-margin\" data-v-ca18938c>All latest DCF <span class=\"label info-link\">CSV</span></span><pre class=\"href-pre\" data-v-ca18938c>\t\t\t\t\t\t\t\t\t<a href=\"https://financialmodelingprep.com/api/v4/dcf-bulk?apikey=YOUR_API_KEY\" target=\"_blank\" class=\"background-link\" data-v-ca18938c>/api/v4/dcf-bulk</a>\n",
      "\t\t\t\t\t\t\t\t</pre><!----></div><!----></div><div class=\"contain-main-block\" style=\"margin-top:0\" data-v-ca18938c><div class=\"contain-block-prettyprint\" style=\"width:100%\" data-v-ca18938c><!----><!----><!----> <span class=\"span-margin\" data-v-ca18938c>Key Metrics TTM for every stock <span class=\"label info-link\">CSV</span></span><pre class=\"href-pre\" data-v-ca18938c>\t\t\t\t\t\t\t\t\t<a href=\"https://financialmodelingprep.com/api/v4/key-metrics-ttm-bulk?apikey=YOUR_API_KEY\" target=\"_blank\" class=\"background-link\" data-v-ca18938c>/api/v4/key-metrics-ttm-bulk</a>\n",
      "\t\t\t\t\t\t\t\t</pre><!----></div><!----></div><div class=\"contain-main-block\" style=\"margin-top:0\" data-v-ca18938c><div class=\"contain-block-prettyprint\" style=\"width:100%\" data-v-ca18938c><!----><!----><!----> <span class=\"span-margin\" data-v-ca18938c>Ratios TTM for every stock <span class=\"label info-link\">CSV</span></span><pre class=\"href-pre\" data-v-ca18938c>\t\t\t\t\t\t\t\t\t<a href=\"https://financialmodelingprep.com/api/v4/ratios-ttm-bulk?apikey=YOUR_API_KEY\" target=\"_blank\" class=\"background-link\" data-v-ca18938c>/api/v4/ratios-ttm-bulk</a>\n",
      "\t\t\t\t\t\t\t\t</pre><!----></div><!----></div><div class=\"contain-main-block\" style=\"margin-top:0\" data-v-ca18938c><div class=\"contain-block-prettyprint\" style=\"width:100%\" data-v-ca18938c><!----><!----><!----> <span class=\"span-margin\" data-v-ca18938c>All stock financial scores <span class=\"label info-link\">CSV</span></span><pre class=\"href-pre\" data-v-ca18938c>\t\t\t\t\t\t\t\t\t<a href=\"https://financialmodelingprep.com/api/v4/scores-bulk?apikey=YOUR_API_KEY\" target=\"_blank\" class=\"background-link\" data-v-ca18938c>/api/v4/scores-bulk</a>\n",
      "\t\t\t\t\t\t\t\t</pre><!----></div><!----></div><div class=\"contain-main-block\" style=\"margin-top:0\" data-v-ca18938c><div class=\"contain-block-prettyprint\" style=\"width:100%\" data-v-ca18938c><!----><!----><!----> <span class=\"span-margin\" data-v-ca18938c>All quarter or annual growth entries for specific year <span class=\"label info-link\">CSV</span></span><pre class=\"href-pre\" data-v-ca18938c>\t\t\t\t\t\t\t\t\t<a href=\"https://financialmodelingprep.com/api/v4/financial-growth-bulk?year=2020&period=annual&apikey=YOUR_API_KEY\" target=\"_blank\" class=\"background-link\" data-v-ca18938c>/api/v4/financial-growth-bulk?<span class=\"symbol bold\">year</span>=<span class=\"symbol\">2020</span>&<span class=\"symbol bold\">period</span>=<span class=\"symbol\">annual</span></a>\n",
      "\t\t\t\t\t\t\t\t</pre><!----></div><!----></div><div class=\"contain-main-block\" style=\"margin-top:0\" data-v-ca18938c><div class=\"contain-block-prettyprint\" style=\"width:100%\" data-v-ca18938c><!----><!----><!----> <span class=\"span-margin\" data-v-ca18938c>All quarter or annual Income Statements Growth for specific year <span class=\"label info-link\">CSV</span></span><pre class=\"href-pre\" data-v-ca18938c>\t\t\t\t\t\t\t\t\t<a href=\"https://financialmodelingprep.com/api/v4/income-statement-growth-bulk?year=2020&period=annual&apikey=YOUR_API_KEY\" target=\"_blank\" class=\"background-link\" data-v-ca18938c>/api/v4/income-statement-growth-bulk?<span class=\"symbol bold\">year</span>=<span class=\"symbol\">2020</span>&<span class=\"symbol bold\">period</span>=<span class=\"symbol\">annual</span></a>\n",
      "\t\t\t\t\t\t\t\t</pre><!----></div><!----></div><div class=\"contain-main-block\" style=\"margin-top:0\" data-v-ca18938c><div class=\"contain-block-prettyprint\" style=\"width:100%\" data-v-ca18938c><!----><!----><!----> <span class=\"span-margin\" data-v-ca18938c>All quarter or annual Balance Sheet Statements Growth for specific year <span class=\"label info-link\">CSV</span></span><pre class=\"href-pre\" data-v-ca18938c>\t\t\t\t\t\t\t\t\t<a href=\"https://financialmodelingprep.com/api/v4/balance-sheet-statement-growth-bulk?year=2020&period=annual&apikey=YOUR_API_KEY\" target=\"_blank\" class=\"background-link\" data-v-ca18938c>/api/v4/balance-sheet-statement-growth-bulk?<span class=\"symbol bold\">year</span>=<span class=\"symbol\">2020</span>&<span class=\"symbol bold\">period</span>=<span class=\"symbol\">annual</span></a>\n",
      "\t\t\t\t\t\t\t\t</pre><!----></div><!----></div><div class=\"contain-main-block\" style=\"margin-top:0\" data-v-ca18938c><div class=\"contain-block-prettyprint\" style=\"width:100%\" data-v-ca18938c><!----><!----><!----> <span class=\"span-margin\" data-v-ca18938c>All quarter or annual Cash Flow Statements Growth for specific year <span class=\"label info-link\">CSV</span></span><pre class=\"href-pre\" data-v-ca18938c>\t\t\t\t\t\t\t\t\t<a href=\"https://financialmodelingprep.com/api/v4/cash-flow-statement-growth-bulk?year=2020&period=annual&apikey=YOUR_API_KEY\" target=\"_blank\" class=\"background-link\" data-v-ca18938c>/api/v4/cash-flow-statement-growth-bulk?<span class=\"symbol bold\">year</span>=<span class=\"symbol\">2020</span>&<span class=\"symbol bold\">period</span>=<span class=\"symbol\">annual</span></a>\n",
      "\t\t\t\t\t\t\t\t</pre><!----></div><!----></div><div class=\"contain-main-block\" style=\"margin-top:0\" data-v-ca18938c><div class=\"contain-block-prettyprint\" style=\"width:100%\" data-v-ca18938c><!----><!----><!----> <span class=\"span-margin\" data-v-ca18938c>Price target summary for every stocks <span class=\"label info-link\">CSV</span></span><pre class=\"href-pre\" data-v-ca18938c>\t\t\t\t\t\t\t\t\t<a href=\"https://financialmodelingprep.com/api/v4/price-target-summary-bulk?apikey=YOUR_API_KEY\" target=\"_blank\" class=\"background-link\" data-v-ca18938c>/api/v4/price-target-summary-bulk</a>\n",
      "\t\t\t\t\t\t\t\t</pre><!----></div><!----></div><div class=\"contain-main-block\" style=\"margin-top:0\" data-v-ca18938c><div class=\"contain-block-prettyprint\" style=\"width:100%\" data-v-ca18938c><!----><!----><!----> <span class=\"span-margin\" data-v-ca18938c>Upgrades downgrades consensus for every stock <span class=\"label info-link\">CSV</span></span><pre class=\"href-pre\" data-v-ca18938c>\t\t\t\t\t\t\t\t\t<a href=\"https://financialmodelingprep.com/api/v4/upgrades-downgrades-consensus-bulk?apikey=YOUR_API_KEY\" target=\"_blank\" class=\"background-link last-href\" data-v-ca18938c>/api/v4/upgrades-downgrades-consensus-bulk</a>\n",
      "\t\t\t\t\t\t\t\t</pre><h3 style=\"border:none;margin-top:20px\" data-v-ca18938c><a href=\"/developer/docs/bulk-endpoint-api\" class=\"span-margin hoover-header integration\" data-v-ca18938c><span style=\"color:#ec407a;font-weight:600\" data-v-ca18938c>Example</span> with Javascript, JQuery, VueJS, Angular, JAVA, PHP, NodeJS, Python, Go, Ruby, C#, R, Strest, Rust, Swift and Scala</a></h3></div><!----></div></section><section class=\"contain-big-section\" data-v-ca18938c><div data-v-ca18938c>MARKET INDEXES</div></section><section id=\"Most-of-the-majors-indexes-(Dow-Jones,-Nasdaq,-S&P-500)\" class=\"section-top min-height-section\" data-v-ca18938c><h2 data-v-ca18938c><a href=\"/developer/docs/indexes-in-stock-market-free-api\" class=\"contain-header hoover-header\" data-v-ca18938c><div class=\"title-head\" data-v-ca18938c><div data-v-ca18938c>Most of the majors indexes (Dow Jones, Nasdaq, S&P 500) <svg aria-hidden=\"true\" height=\"12\" width=\"12\" viewBox=\"0 0 16 16\" xmlns=\"http://www.w3.org/2000/svg\" class=\"SVGInline-svg SVGInline--cleaned-svg SVG-svg Icon-svg Icon--arrowRight-svg Icon-color-svg Icon-color--blue-svg\" data-v-ca18938c><path d=\"M12.583 7L7.992 2.409A1 1 0 1 1 9.407.993l6.3 6.3a1 1 0 0 1 0 1.414l-6.3 6.3a1 1 0 0 1-1.415-1.416L12.583 9H1a1 1 0 1 1 0-2z\" fill-rule=\"evenodd\" data-v-ca18938c></path></svg></div></div></a></h2><div class=\"contain-main-block\" style=\"margin-top:0\" data-v-ca18938c><div class=\"contain-block-prettyprint\" data-v-ca18938c><!----><!----><!----> <span class=\"span-margin\" data-v-ca18938c>All Majors Indexes (Dow Jones, Nasdaq, S&P 500) Prices Updated by Real-times <span class=\"label info\">Real-time</span> <span class=\"label info-link\">JSON</span></span><pre class=\"href-pre\" data-v-ca18938c>\t\t\t\t\t\t\t\t\t<a href=\"https://financialmodelingprep.com/api/v3/quotes/index?apikey=YOUR_API_KEY\" target=\"_blank\" class=\"background-link\" data-v-ca18938c>/api/v3/quotes/<span class=\"symbol\">index</span></a>\n",
      "\t\t\t\t\t\t\t\t</pre><!----></div><!----></div><div class=\"contain-main-block margin-head-top-top-pretty\" style=\"margin-top:0\" data-v-ca18938c><div class=\"contain-block-prettyprint\" data-v-ca18938c><!----><!----><!----> <span class=\"span-margin\" data-v-ca18938c>Real-time Stock market index (S&P 500 ) Price <span class=\"label warning\">High Usage</span> <span class=\"label info\">Real-time</span> <span class=\"label info-link\">JSON</span></span><pre class=\"href-pre\" data-v-ca18938c>\t\t\t\t\t\t\t\t\t<a href=\"https://financialmodelingprep.com/api/v3/quote/%5EGSPC?apikey=YOUR_API_KEY\" target=\"_blank\" class=\"background-link last-href\" data-v-ca18938c>/api/v3/quote/<span class=\"symbol\">%5EGSPC</span></a>\n",
      "\t\t\t\t\t\t\t\t</pre><h3 style=\"border:none;margin-top:20px\" data-v-ca18938c><a href=\"/developer/docs/indexes-in-stock-market-free-api\" class=\"span-margin hoover-header integration\" data-v-ca18938c><span style=\"color:#ec407a;font-weight:600\" data-v-ca18938c>Example</span> with Javascript, JQuery, VueJS, Angular, JAVA, PHP, NodeJS, Python, Go, Ruby, C#, R, Strest, Rust, Swift and Scala</a></h3></div><!----></div></section><section id=\"List-of-S&P-500-companies\" class=\"section-top min-height-section\" data-v-ca18938c><h2 data-v-ca18938c><a href=\"/developer/docs/list-of-sp-500-companies-api\" class=\"contain-header hoover-header\" data-v-ca18938c><div class=\"title-head\" data-v-ca18938c><div data-v-ca18938c>List of S&P 500 companies <svg aria-hidden=\"true\" height=\"12\" width=\"12\" viewBox=\"0 0 16 16\" xmlns=\"http://www.w3.org/2000/svg\" class=\"SVGInline-svg SVGInline--cleaned-svg SVG-svg Icon-svg Icon--arrowRight-svg Icon-color-svg Icon-color--blue-svg\" data-v-ca18938c><path d=\"M12.583 7L7.992 2.409A1 1 0 1 1 9.407.993l6.3 6.3a1 1 0 0 1 0 1.414l-6.3 6.3a1 1 0 0 1-1.415-1.416L12.583 9H1a1 1 0 1 1 0-2z\" fill-rule=\"evenodd\" data-v-ca18938c></path></svg></div></div></a></h2><div class=\"contain-main-block\" style=\"margin-top:0\" data-v-ca18938c><div class=\"contain-block-prettyprint\" data-v-ca18938c><!----><!----><h3 data-v-ca18938c><!----> <a href=\"/developer/docs/list-of-sp-500-companies-api#List-of-S&P-500-companies\" class=\"contain-header hoover-header\" data-v-ca18938c><div class=\"lower-title\" data-v-ca18938c>List of S&P 500 companies</div></a></h3><span class=\"span-margin\" data-v-ca18938c>All S&P 500 constituents <span class=\"label warning\">Hign Usage</span> <span class=\"label info-link\">JSON</span></span><pre class=\"href-pre\" data-v-ca18938c>\t\t\t\t\t\t\t\t\t<a href=\"https://financialmodelingprep.com/api/v3/sp500_constituent?apikey=YOUR_API_KEY\" target=\"_blank\" class=\"background-link\" data-v-ca18938c>/api/v3/<span class=\"symbol\">sp500_constituent</span></a>\n",
      "\t\t\t\t\t\t\t\t</pre><!----></div><!----></div><div class=\"contain-main-block margin-head-top-top-pretty\" style=\"margin-top:0\" data-v-ca18938c><div class=\"contain-block-prettyprint\" data-v-ca18938c><!----><!----><!----> <span class=\"span-margin\" data-v-ca18938c>Downloadable all S&P 500 constituents <span class=\"label warning\">Hign Usage</span> <span class=\"label info-link\">CSV</span></span><pre class=\"href-pre\" data-v-ca18938c>\t\t\t\t\t\t\t\t\t<a href=\"https://financialmodelingprep.com/api/v3/sp500_constituent?datatype=csv&apikey=YOUR_API_KEY\" target=\"_blank\" class=\"background-link last-href\" data-v-ca18938c>/api/v3/<span class=\"symbol\">sp500_constituent</span>?<span class=\"symbol bold\">datatype</span>=<span class=\"symbol\">csv</span></a>\n",
      "\t\t\t\t\t\t\t\t</pre><h3 style=\"border:none;margin-top:20px\" data-v-ca18938c><a href=\"/developer/docs/list-of-sp-500-companies-api\" class=\"span-margin hoover-header integration\" data-v-ca18938c><span style=\"color:#ec407a;font-weight:600\" data-v-ca18938c>Example</span> with Javascript, JQuery, VueJS, Angular, JAVA, PHP, NodeJS, Python, Go, Ruby, C#, R, Strest, Rust, Swift and Scala</a></h3></div><!----></div></section><section id=\"Historical-S&P-500\" class=\"section-top min-height-section\" data-v-ca18938c><h2 data-v-ca18938c><a href=\"/developer/docs/historical-sp-500-companies-api\" class=\"contain-header hoover-header\" data-v-ca18938c><div class=\"title-head\" data-v-ca18938c><div data-v-ca18938c>Historical S&P 500 <svg aria-hidden=\"true\" height=\"12\" width=\"12\" viewBox=\"0 0 16 16\" xmlns=\"http://www.w3.org/2000/svg\" class=\"SVGInline-svg SVGInline--cleaned-svg SVG-svg Icon-svg Icon--arrowRight-svg Icon-color-svg Icon-color--blue-svg\" data-v-ca18938c><path d=\"M12.583 7L7.992 2.409A1 1 0 1 1 9.407.993l6.3 6.3a1 1 0 0 1 0 1.414l-6.3 6.3a1 1 0 0 1-1.415-1.416L12.583 9H1a1 1 0 1 1 0-2z\" fill-rule=\"evenodd\" data-v-ca18938c></path></svg></div></div></a></h2><div class=\"contain-main-block\" style=\"margin-top:0\" data-v-ca18938c><div class=\"contain-block-prettyprint\" data-v-ca18938c><!----><!----><h3 data-v-ca18938c><!----> <a href=\"/developer/docs/historical-sp-500-companies-api#Historical-S&P-500-constituents-List\" class=\"contain-header hoover-header\" data-v-ca18938c><div class=\"lower-title\" data-v-ca18938c>Historical S&P 500 constituents List</div></a></h3><span class=\"span-margin\" data-v-ca18938c>Historical S&P 500 constituents List <span class=\"label info\">Historical</span> <span class=\"label info-link\">JSON</span></span><pre class=\"href-pre\" data-v-ca18938c>\t\t\t\t\t\t\t\t\t<a href=\"https://financialmodelingprep.com/api/v3/historical/sp500_constituent?apikey=YOUR_API_KEY\" target=\"_blank\" class=\"background-link last-href\" data-v-ca18938c>/api/v3/historical/<span class=\"symbol\">sp500_constituent</span></a>\n",
      "\t\t\t\t\t\t\t\t</pre><h3 style=\"border:none;margin-top:20px\" data-v-ca18938c><a href=\"/developer/docs/historical-sp-500-companies-api\" class=\"span-margin hoover-header integration\" data-v-ca18938c><span style=\"color:#ec407a;font-weight:600\" data-v-ca18938c>Example</span> with Javascript, JQuery, VueJS, Angular, JAVA, PHP, NodeJS, Python, Go, Ruby, C#, R, Strest, Rust, Swift and Scala</a></h3></div><!----></div></section><section id=\"List-of-Nasdaq-100-companies\" class=\"section-top min-height-section\" data-v-ca18938c><h2 data-v-ca18938c><a href=\"/developer/docs/list-of-nasdaq-companies-api\" class=\"contain-header hoover-header\" data-v-ca18938c><div class=\"title-head\" data-v-ca18938c><div data-v-ca18938c>List of Nasdaq 100 companies <svg aria-hidden=\"true\" height=\"12\" width=\"12\" viewBox=\"0 0 16 16\" xmlns=\"http://www.w3.org/2000/svg\" class=\"SVGInline-svg SVGInline--cleaned-svg SVG-svg Icon-svg Icon--arrowRight-svg Icon-color-svg Icon-color--blue-svg\" data-v-ca18938c><path d=\"M12.583 7L7.992 2.409A1 1 0 1 1 9.407.993l6.3 6.3a1 1 0 0 1 0 1.414l-6.3 6.3a1 1 0 0 1-1.415-1.416L12.583 9H1a1 1 0 1 1 0-2z\" fill-rule=\"evenodd\" data-v-ca18938c></path></svg></div></div></a></h2><div class=\"contain-main-block\" style=\"margin-top:0\" data-v-ca18938c><div class=\"contain-block-prettyprint\" data-v-ca18938c><!----><!----><h3 data-v-ca18938c><!----> <a href=\"/developer/docs/list-of-nasdaq-companies-api#List-of-Nasdaq-100-companies\" class=\"contain-header hoover-header\" data-v-ca18938c><div class=\"lower-title\" data-v-ca18938c>List of Nasdaq 100 companies</div></a></h3><span class=\"span-margin\" data-v-ca18938c>All Nasdaq 100 constituents <span class=\"label info-link\">JSON</span></span><pre class=\"href-pre\" data-v-ca18938c>\t\t\t\t\t\t\t\t\t<a href=\"https://financialmodelingprep.com/api/v3/nasdaq_constituent?apikey=YOUR_API_KEY\" target=\"_blank\" class=\"background-link\" data-v-ca18938c>/api/v3/<span class=\"symbol\">nasdaq_constituent</span></a>\n",
      "\t\t\t\t\t\t\t\t</pre><!----></div><!----></div><div class=\"contain-main-block margin-head-top-top-pretty\" style=\"margin-top:0\" data-v-ca18938c><div class=\"contain-block-prettyprint\" data-v-ca18938c><!----><!----><!----> <span class=\"span-margin\" data-v-ca18938c>Downloadable all Nasdaq 100 constituents <span class=\"label info-link\">CSV</span></span><pre class=\"href-pre\" data-v-ca18938c>\t\t\t\t\t\t\t\t\t<a href=\"https://financialmodelingprep.com/api/v3/nasdaq_constituent?datatype=csv&apikey=YOUR_API_KEY\" target=\"_blank\" class=\"background-link last-href\" data-v-ca18938c>/api/v3/<span class=\"symbol\">nasdaq_constituent</span>?<span class=\"symbol bold\">datatype</span>=<span class=\"symbol\">csv</span></a>\n",
      "\t\t\t\t\t\t\t\t</pre><h3 style=\"border:none;margin-top:20px\" data-v-ca18938c><a href=\"/developer/docs/list-of-nasdaq-companies-api\" class=\"span-margin hoover-header integration\" data-v-ca18938c><span style=\"color:#ec407a;font-weight:600\" data-v-ca18938c>Example</span> with Javascript, JQuery, VueJS, Angular, JAVA, PHP, NodeJS, Python, Go, Ruby, C#, R, Strest, Rust, Swift and Scala</a></h3></div><!----></div></section><section id=\"List-of-Dow-Jones-companies\" class=\"section-top min-height-section\" data-v-ca18938c><h2 data-v-ca18938c><a href=\"/developer/docs/list-of-dow-companies-api\" class=\"contain-header hoover-header\" data-v-ca18938c><div class=\"title-head\" data-v-ca18938c><div data-v-ca18938c>List of Dow Jones companies <svg aria-hidden=\"true\" height=\"12\" width=\"12\" viewBox=\"0 0 16 16\" xmlns=\"http://www.w3.org/2000/svg\" class=\"SVGInline-svg SVGInline--cleaned-svg SVG-svg Icon-svg Icon--arrowRight-svg Icon-color-svg Icon-color--blue-svg\" data-v-ca18938c><path d=\"M12.583 7L7.992 2.409A1 1 0 1 1 9.407.993l6.3 6.3a1 1 0 0 1 0 1.414l-6.3 6.3a1 1 0 0 1-1.415-1.416L12.583 9H1a1 1 0 1 1 0-2z\" fill-rule=\"evenodd\" data-v-ca18938c></path></svg></div></div></a></h2><div class=\"contain-main-block\" style=\"margin-top:0\" data-v-ca18938c><div class=\"contain-block-prettyprint\" data-v-ca18938c><!----><!----><h3 data-v-ca18938c><!----> <a href=\"/developer/docs/list-of-dow-companies-api#List-of-Dow-Jones-companies\" class=\"contain-header hoover-header\" data-v-ca18938c><div class=\"lower-title\" data-v-ca18938c>List of Dow Jones companies</div></a></h3><span class=\"span-margin\" data-v-ca18938c>All Dow Jones constituents <span class=\"label info-link\">JSON</span></span><pre class=\"href-pre\" data-v-ca18938c>\t\t\t\t\t\t\t\t\t<a href=\"https://financialmodelingprep.com/api/v3/dowjones_constituent?apikey=YOUR_API_KEY\" target=\"_blank\" class=\"background-link\" data-v-ca18938c>/api/v3/<span class=\"symbol\">dowjones_constituent</span></a>\n",
      "\t\t\t\t\t\t\t\t</pre><!----></div><!----></div><div class=\"contain-main-block margin-head-top-top-pretty\" style=\"margin-top:0\" data-v-ca18938c><div class=\"contain-block-prettyprint\" data-v-ca18938c><!----><!----><!----> <span class=\"span-margin\" data-v-ca18938c>Downloadable all Dow Jones constituents <span class=\"label info-link\">CSV</span></span><pre class=\"href-pre\" data-v-ca18938c>\t\t\t\t\t\t\t\t\t<a href=\"https://financialmodelingprep.com/api/v3/dowjones_constituent?datatype=csv&apikey=YOUR_API_KEY\" target=\"_blank\" class=\"background-link last-href\" data-v-ca18938c>/api/v3/<span class=\"symbol\">dowjones_constituent</span>?<span class=\"symbol bold\">datatype</span>=<span class=\"symbol\">csv</span></a>\n",
      "\t\t\t\t\t\t\t\t</pre><h3 style=\"border:none;margin-top:20px\" data-v-ca18938c><a href=\"/developer/docs/list-of-dow-companies-api\" class=\"span-margin hoover-header integration\" data-v-ca18938c><span style=\"color:#ec407a;font-weight:600\" data-v-ca18938c>Example</span> with Javascript, JQuery, VueJS, Angular, JAVA, PHP, NodeJS, Python, Go, Ruby, C#, R, Strest, Rust, Swift and Scala</a></h3></div><!----></div></section><section id=\"Historical-Dow-Jones\" class=\"section-top min-height-section\" data-v-ca18938c><h2 data-v-ca18938c><a href=\"/developer/docs/historical-dow-api\" class=\"contain-header hoover-header\" data-v-ca18938c><div class=\"title-head\" data-v-ca18938c><div data-v-ca18938c>Historical Dow Jones <svg aria-hidden=\"true\" height=\"12\" width=\"12\" viewBox=\"0 0 16 16\" xmlns=\"http://www.w3.org/2000/svg\" class=\"SVGInline-svg SVGInline--cleaned-svg SVG-svg Icon-svg Icon--arrowRight-svg Icon-color-svg Icon-color--blue-svg\" data-v-ca18938c><path d=\"M12.583 7L7.992 2.409A1 1 0 1 1 9.407.993l6.3 6.3a1 1 0 0 1 0 1.414l-6.3 6.3a1 1 0 0 1-1.415-1.416L12.583 9H1a1 1 0 1 1 0-2z\" fill-rule=\"evenodd\" data-v-ca18938c></path></svg></div></div></a></h2><div class=\"contain-main-block\" style=\"margin-top:0\" data-v-ca18938c><div class=\"contain-block-prettyprint\" data-v-ca18938c><!----><!----><h3 data-v-ca18938c><!----> <a href=\"/developer/docs/historical-dow-api#Historical-Dow-Jones-constituents-List\" class=\"contain-header hoover-header\" data-v-ca18938c><div class=\"lower-title\" data-v-ca18938c>Historical Dow Jones constituents List</div></a></h3><span class=\"span-margin\" data-v-ca18938c>Historical Dow Jones constituents List <span class=\"label info\">Historical</span> <span class=\"label info-link\">JSON</span></span><pre class=\"href-pre\" data-v-ca18938c>\t\t\t\t\t\t\t\t\t<a href=\"https://financialmodelingprep.com/api/v3/historical/dowjones_constituent?apikey=YOUR_API_KEY\" target=\"_blank\" class=\"background-link last-href\" data-v-ca18938c>/api/v3/historical/<span class=\"symbol\">dowjones_constituent</span></a>\n",
      "\t\t\t\t\t\t\t\t</pre><h3 style=\"border:none;margin-top:20px\" data-v-ca18938c><a href=\"/developer/docs/historical-dow-api\" class=\"span-margin hoover-header integration\" data-v-ca18938c><span style=\"color:#ec407a;font-weight:600\" data-v-ca18938c>Example</span> with Javascript, JQuery, VueJS, Angular, JAVA, PHP, NodeJS, Python, Go, Ruby, C#, R, Strest, Rust, Swift and Scala</a></h3></div><!----></div></section><section id=\"Historical-stock-index-prices\" class=\"section-top min-height-section\" data-v-ca18938c><h2 data-v-ca18938c><a href=\"/developer/docs/historical-index-price-api\" class=\"contain-header hoover-header\" data-v-ca18938c><div class=\"title-head\" data-v-ca18938c><div data-v-ca18938c>Historical stock index prices <svg aria-hidden=\"true\" height=\"12\" width=\"12\" viewBox=\"0 0 16 16\" xmlns=\"http://www.w3.org/2000/svg\" class=\"SVGInline-svg SVGInline--cleaned-svg SVG-svg Icon-svg Icon--arrowRight-svg Icon-color-svg Icon-color--blue-svg\" data-v-ca18938c><path d=\"M12.583 7L7.992 2.409A1 1 0 1 1 9.407.993l6.3 6.3a1 1 0 0 1 0 1.414l-6.3 6.3a1 1 0 0 1-1.415-1.416L12.583 9H1a1 1 0 1 1 0-2z\" fill-rule=\"evenodd\" data-v-ca18938c></path></svg></div></div></a></h2><div class=\"contain-main-block\" style=\"margin-top:0\" data-v-ca18938c><div class=\"contain-block-prettyprint\" data-v-ca18938c><!----><!----><h3 data-v-ca18938c><!----> <a href=\"/developer/docs/historical-index-price-api#Major-Indexes-Historical-quotes\" class=\"contain-header hoover-header\" data-v-ca18938c><div class=\"lower-title\" data-v-ca18938c>Major Indexes Historical quotes</div></a></h3><span class=\"span-margin\" data-v-ca18938c>Stock Market Indexes (Dow Jones, Nasdaq, S&P 500) available for historical prices query <span class=\"label success\">Daily</span> <span class=\"label info-link\">JSON</span></span><pre class=\"href-pre\" data-v-ca18938c>\t\t\t\t\t\t\t\t\t<a href=\"https://financialmodelingprep.com/api/v3/symbol/available-indexes?apikey=YOUR_API_KEY\" target=\"_blank\" class=\"background-link\" data-v-ca18938c>/api/v3/symbol/<span class=\"symbol\">available-indexes</span></a>\n",
      "\t\t\t\t\t\t\t\t</pre><!----></div><!----></div><div class=\"contain-main-block margin-head-top-top-pretty\" style=\"margin-top:0\" data-v-ca18938c><div class=\"contain-block-prettyprint\" data-v-ca18938c><!----><!----><h3 class=\"margin-head\" data-v-ca18938c><!----> <a href=\"/developer/docs/historical-index-price-api#1-minute-historical-stock-prices-with-volume\" class=\"contain-header hoover-header\" data-v-ca18938c><div class=\"lower-title\" data-v-ca18938c>1 minute historical stock prices with volume</div></a></h3><span class=\"span-margin\" data-v-ca18938c>Stock one minute historical stock prices <span class=\"label info\">1 Minute</span> <span class=\"label info-link\">JSON</span> <span class=\"label info-dark\">OHLCV</span></span><pre class=\"href-pre\" data-v-ca18938c>\t\t\t\t\t\t\t\t\t<a href=\"https://financialmodelingprep.com/api/v3/historical-chart/1min/%5EGSPC?apikey=YOUR_API_KEY\" target=\"_blank\" class=\"background-link\" data-v-ca18938c>/api/v3/historical-chart/1min/<span class=\"symbol\">%5EGSPC</span></a>\n",
      "\t\t\t\t\t\t\t\t</pre><!----></div><!----></div><div class=\"contain-main-block\" style=\"margin-top:0\" data-v-ca18938c><div class=\"contain-block-prettyprint\" data-v-ca18938c><!----><!----><h3 class=\"margin-head\" data-v-ca18938c><!----> <a href=\"/developer/docs/historical-index-price-api#5-minutes-historical-stock-prices-with--volume\" class=\"contain-header hoover-header\" data-v-ca18938c><div class=\"lower-title\" data-v-ca18938c>5 minutes historical stock prices with volume</div></a></h3><span class=\"span-margin\" data-v-ca18938c>Stock five minutes historical stock prices <span class=\"label info\">5 Minutes</span> <span class=\"label info-link\">JSON</span> <span class=\"label info-dark\">OHLCV</span></span><pre class=\"href-pre\" data-v-ca18938c>\t\t\t\t\t\t\t\t\t<a href=\"https://financialmodelingprep.com/api/v3/historical-chart/5min/%5EGSPC?apikey=YOUR_API_KEY\" target=\"_blank\" class=\"background-link\" data-v-ca18938c>/api/v3/historical-chart/5min/<span class=\"symbol\">%5EGSPC</span></a>\n",
      "\t\t\t\t\t\t\t\t</pre><!----></div><!----></div><div class=\"contain-main-block margin-bigger\" style=\"margin-top:0\" data-v-ca18938c><div class=\"contain-block-prettyprint\" data-v-ca18938c><!----><!----><h3 class=\"margin-head\" data-v-ca18938c><!----> <a href=\"/developer/docs/historical-index-price-api#15-minutes-historical-stock-prices-with-volume\" class=\"contain-header hoover-header\" data-v-ca18938c><div class=\"lower-title\" data-v-ca18938c>15 minutes historical stock prices with volume</div></a></h3><span class=\"span-margin\" data-v-ca18938c>Stock fifteen minutes historical stock prices <span class=\"label info\">15 Minutes</span> <span class=\"label info-link\">JSON</span> <span class=\"label info-dark\">OHLCV</span></span><pre class=\"href-pre\" data-v-ca18938c>\t\t\t\t\t\t\t\t\t<a href=\"https://financialmodelingprep.com/api/v3/historical-chart/15min/%5EGSPC?apikey=YOUR_API_KEY\" target=\"_blank\" class=\"background-link\" data-v-ca18938c>/api/v3/historical-chart/15min/<span class=\"symbol\">%5EGSPC</span></a>\n",
      "\t\t\t\t\t\t\t\t</pre><!----></div><!----></div><div class=\"contain-main-block margin-head-top-top-pretty\" style=\"margin-top:0\" data-v-ca18938c><div class=\"contain-block-prettyprint\" data-v-ca18938c><!----><!----><h3 class=\"margin-head\" data-v-ca18938c><!----> <a href=\"/developer/docs/historical-index-price-api#30-minutes-historical-stock-prices-with-volume\" class=\"contain-header hoover-header\" data-v-ca18938c><div class=\"lower-title\" data-v-ca18938c>30 minutes historical stock prices with volume</div></a></h3><span class=\"span-margin\" data-v-ca18938c>Stock thirty minutes historical stock prices <span class=\"label info\">30 Minutes</span> <span class=\"label info-link\">JSON</span> <span class=\"label info-dark\">OHLCV</span></span><pre class=\"href-pre\" data-v-ca18938c>\t\t\t\t\t\t\t\t\t<a href=\"https://financialmodelingprep.com/api/v3/historical-chart/30min/%5EGSPC?apikey=YOUR_API_KEY\" target=\"_blank\" class=\"background-link\" data-v-ca18938c>/api/v3/historical-chart/30min/<span class=\"symbol\">%5EGSPC</span></a>\n",
      "\t\t\t\t\t\t\t\t</pre><!----></div><!----></div><div class=\"contain-main-block\" style=\"margin-top:0\" data-v-ca18938c><div class=\"contain-block-prettyprint\" data-v-ca18938c><!----><!----><h3 class=\"margin-head\" data-v-ca18938c><!----> <a href=\"/developer/docs/historical-index-price-api#Hour-historical-stock-prices-with-volume\" class=\"contain-header hoover-header\" data-v-ca18938c><div class=\"lower-title\" data-v-ca18938c>Hour historical stock prices with volume</div></a></h3><span class=\"span-margin\" data-v-ca18938c>Stock hour historical stock prices <span class=\"label info\">Hour</span> <span class=\"label info-link\">JSON</span> <span class=\"label info-dark\">OHLCV</span></span><pre class=\"href-pre\" data-v-ca18938c>\t\t\t\t\t\t\t\t\t<a href=\"https://financialmodelingprep.com/api/v3/historical-chart/1hour/%5EGSPC?apikey=YOUR_API_KEY\" target=\"_blank\" class=\"background-link\" data-v-ca18938c>/api/v3/historical-chart/1hour/<span class=\"symbol\">%5EGSPC</span></a>\n",
      "\t\t\t\t\t\t\t\t</pre><!----></div><!----></div><div class=\"contain-main-block\" style=\"margin-top:0\" data-v-ca18938c><div class=\"contain-block-prettyprint\" data-v-ca18938c><!----><!----><h3 class=\"margin-head\" data-v-ca18938c><!----> <a href=\"/developer/docs/historical-index-price-api#4-Hours-historical-stock-prices-with-volume\" class=\"contain-header hoover-header\" data-v-ca18938c><div class=\"lower-title\" data-v-ca18938c>4 Hours historical stock prices with volume</div></a></h3><span class=\"span-margin\" data-v-ca18938c>Stock Four hours historical stock prices <span class=\"label info\">4 Hours</span> <span class=\"label info-link\">JSON</span> <span class=\"label info-dark\">OHLCV</span></span><pre class=\"href-pre\" data-v-ca18938c>\t\t\t\t\t\t\t\t\t<a href=\"https://financialmodelingprep.com/api/v3/historical-chart/4hour/%5EGSPC?apikey=YOUR_API_KEY\" target=\"_blank\" class=\"background-link\" data-v-ca18938c>/api/v3/historical-chart/4hour/<span class=\"symbol\">%5EGSPC</span></a>\n",
      "\t\t\t\t\t\t\t\t</pre><!----></div><!----></div><div class=\"contain-main-block\" style=\"margin-top:0\" data-v-ca18938c><div class=\"contain-block-prettyprint\" data-v-ca18938c><!----><!----><h3 class=\"margin-head\" data-v-ca18938c><!----> <a href=\"/developer/docs/historical-index-price-api#Historical-Daily-Prices\" class=\"contain-header hoover-header\" data-v-ca18938c><div class=\"lower-title\" data-v-ca18938c>Historical Daily Prices</div></a></h3><span class=\"span-margin\" data-v-ca18938c>Indexes Historical Prices <span class=\"label success\">Daily</span> <span class=\"label info-link\">JSON</span></span><pre class=\"href-pre\" data-v-ca18938c>\t\t\t\t\t\t\t\t\t<a href=\"https://financialmodelingprep.com/api/v3/historical-price-full/%5EGSPC?apikey=YOUR_API_KEY\" target=\"_blank\" class=\"background-link last-href\" data-v-ca18938c>/api/v3/historical-price-full/<span class=\"symbol\">%5EGSPC</span></a>\n",
      "\t\t\t\t\t\t\t\t</pre><h3 style=\"border:none;margin-top:20px\" data-v-ca18938c><a href=\"/developer/docs/historical-index-price-api\" class=\"span-margin hoover-header integration\" data-v-ca18938c><span style=\"color:#ec407a;font-weight:600\" data-v-ca18938c>Example</span> with Javascript, JQuery, VueJS, Angular, JAVA, PHP, NodeJS, Python, Go, Ruby, C#, R, Strest, Rust, Swift and Scala</a></h3></div><!----></div></section><section class=\"contain-big-section\" data-v-ca18938c><div data-v-ca18938c>EURONEXT</div></section><section id=\"Most-of-the-EuroNext\" class=\"section-top min-height-section\" data-v-ca18938c><h2 data-v-ca18938c><a href=\"/developer/docs/euronext-prices-api\" class=\"contain-header hoover-header\" data-v-ca18938c><div class=\"title-head\" data-v-ca18938c><div data-v-ca18938c>Most of the EuroNext <svg aria-hidden=\"true\" height=\"12\" width=\"12\" viewBox=\"0 0 16 16\" xmlns=\"http://www.w3.org/2000/svg\" class=\"SVGInline-svg SVGInline--cleaned-svg SVG-svg Icon-svg Icon--arrowRight-svg Icon-color-svg Icon-color--blue-svg\" data-v-ca18938c><path d=\"M12.583 7L7.992 2.409A1 1 0 1 1 9.407.993l6.3 6.3a1 1 0 0 1 0 1.414l-6.3 6.3a1 1 0 0 1-1.415-1.416L12.583 9H1a1 1 0 1 1 0-2z\" fill-rule=\"evenodd\" data-v-ca18938c></path></svg></div></div></a></h2><div class=\"contain-main-block\" style=\"margin-top:0\" data-v-ca18938c><div class=\"contain-block-prettyprint\" data-v-ca18938c><!----><!----><h3 data-v-ca18938c><!----> <a href=\"/developer/docs/euronext-prices-api#Commodities-symbol-List\" class=\"contain-header hoover-header\" data-v-ca18938c><div class=\"lower-title\" data-v-ca18938c>Commodities symbol List</div></a></h3><span class=\"span-margin\" data-v-ca18938c>EuroNext available symbols for quotes and historical prices query. <span class=\"label success\">Daily</span> <span class=\"label info-link\">JSON</span></span><pre class=\"href-pre\" data-v-ca18938c>\t\t\t\t\t\t\t\t\t<a href=\"https://financialmodelingprep.com/api/v3/symbol/available-euronext?apikey=YOUR_API_KEY\" target=\"_blank\" class=\"background-link\" data-v-ca18938c>/api/v3/symbol/<span class=\"symbol\">available-euronext</span></a>\n",
      "\t\t\t\t\t\t\t\t</pre><!----></div><!----></div><div class=\"contain-main-block margin-head-top-top-pretty\" style=\"margin-top:0\" data-v-ca18938c><div class=\"contain-block-prettyprint\" data-v-ca18938c><!----><!----><!----> <span class=\"span-margin\" data-v-ca18938c>All Real-time EuroNext Prices. <span class=\"label info\">Real-time</span> <span class=\"label info-link\">JSON</span></span><pre class=\"href-pre\" data-v-ca18938c>\t\t\t\t\t\t\t\t\t<a href=\"https://financialmodelingprep.com/api/v3/quotes/euronext?apikey=YOUR_API_KEY\" target=\"_blank\" class=\"background-link\" data-v-ca18938c>/api/v3/quotes/<span class=\"symbol\">euronext</span></a>\n",
      "\t\t\t\t\t\t\t\t</pre><!----></div><!----></div><div class=\"contain-main-block\" style=\"margin-top:0\" data-v-ca18938c><div class=\"contain-block-prettyprint\" data-v-ca18938c><!----><!----><!----> <span class=\"span-margin\" data-v-ca18938c>Real-time EDF Price. <span class=\"label warning\">High Usage</span> <span class=\"label info\">Real-time</span> <span class=\"label info-link\">JSON</span></span><pre class=\"href-pre\" data-v-ca18938c>\t\t\t\t\t\t\t\t\t<a href=\"https://financialmodelingprep.com/api/v3/quote/EDF.PA,KIN.BR,SCB.LS?apikey=YOUR_API_KEY\" target=\"_blank\" class=\"background-link\" data-v-ca18938c>/api/v3/quote/<span class=\"symbol\">EDF.PA,KIN.BR,SCB.LS</span></a>\n",
      "\t\t\t\t\t\t\t\t</pre><!----></div><!----></div></section><section id=\"Historical-EuroNext-prices\" class=\"section-top min-height-section\" data-v-ca18938c><h2 data-v-ca18938c><a href=\"/developer/docs/euronext-historical-price-api\" class=\"contain-header hoover-header\" data-v-ca18938c><div class=\"title-head\" data-v-ca18938c><div data-v-ca18938c>Historical EuroNext prices <svg aria-hidden=\"true\" height=\"12\" width=\"12\" viewBox=\"0 0 16 16\" xmlns=\"http://www.w3.org/2000/svg\" class=\"SVGInline-svg SVGInline--cleaned-svg SVG-svg Icon-svg Icon--arrowRight-svg Icon-color-svg Icon-color--blue-svg\" data-v-ca18938c><path d=\"M12.583 7L7.992 2.409A1 1 0 1 1 9.407.993l6.3 6.3a1 1 0 0 1 0 1.414l-6.3 6.3a1 1 0 0 1-1.415-1.416L12.583 9H1a1 1 0 1 1 0-2z\" fill-rule=\"evenodd\" data-v-ca18938c></path></svg></div></div></a></h2><div class=\"contain-main-block\" style=\"margin-top:0\" data-v-ca18938c><div class=\"contain-block-prettyprint\" data-v-ca18938c><!----><!----><h3 data-v-ca18938c><!----> <a href=\"/developer/docs/euronext-historical-price-api#1-minute-historical-stock-prices-with-volume\" class=\"contain-header hoover-header\" data-v-ca18938c><div class=\"lower-title\" data-v-ca18938c>1 minute historical stock prices with volume</div></a></h3><span class=\"span-margin\" data-v-ca18938c>Stock one minute historical stock prices. <span class=\"label info\">1 Minute</span> <span class=\"label info-link\">JSON</span> <span class=\"label info-dark\">OHLCV</span></span><pre class=\"href-pre\" data-v-ca18938c>\t\t\t\t\t\t\t\t\t<a href=\"https://financialmodelingprep.com/api/v3/historical-chart/1min/EDF.PA?apikey=YOUR_API_KEY\" target=\"_blank\" class=\"background-link\" data-v-ca18938c>/api/v3/historical-chart/1min/<span class=\"symbol\">EDF.PA</span></a>\n",
      "\t\t\t\t\t\t\t\t</pre><!----></div><!----></div><div class=\"contain-main-block margin-head-top-top-pretty\" style=\"margin-top:0\" data-v-ca18938c><div class=\"contain-block-prettyprint\" data-v-ca18938c><!----><!----><h3 class=\"margin-head\" data-v-ca18938c><!----> <a href=\"/developer/docs/euronext-historical-price-api#5-minutes-historical-stock-prices-with--volume\" class=\"contain-header hoover-header\" data-v-ca18938c><div class=\"lower-title\" data-v-ca18938c>5 minutes historical stock prices with volume</div></a></h3><span class=\"span-margin\" data-v-ca18938c>Stock five minutes historical stock prices <span class=\"label info\">5 Minutes</span> <span class=\"label info-link\">JSON</span> <span class=\"label info-dark\">OHLCV</span></span><pre class=\"href-pre\" data-v-ca18938c>\t\t\t\t\t\t\t\t\t<a href=\"https://financialmodelingprep.com/api/v3/historical-chart/5min/EDF.PA?apikey=YOUR_API_KEY\" target=\"_blank\" class=\"background-link\" data-v-ca18938c>/api/v3/historical-chart/5min/<span class=\"symbol\">EDF.PA</span></a>\n",
      "\t\t\t\t\t\t\t\t</pre><!----></div><!----></div><div class=\"contain-main-block\" style=\"margin-top:0\" data-v-ca18938c><div class=\"contain-block-prettyprint\" data-v-ca18938c><!----><!----><h3 class=\"margin-head\" data-v-ca18938c><!----> <a href=\"/developer/docs/euronext-historical-price-api#15-minutes-historical-stock-prices-with-volume\" class=\"contain-header hoover-header\" data-v-ca18938c><div class=\"lower-title\" data-v-ca18938c>15 minutes historical stock prices with volume</div></a></h3><span class=\"span-margin\" data-v-ca18938c>Stock fifteen minutes historical stock prices <span class=\"label info\">15 Minutes</span> <span class=\"label info-link\">JSON</span> <span class=\"label info-dark\">OHLCV</span></span><pre class=\"href-pre\" data-v-ca18938c>\t\t\t\t\t\t\t\t\t<a href=\"https://financialmodelingprep.com/api/v3/historical-chart/15min/EDF.PA?apikey=YOUR_API_KEY\" target=\"_blank\" class=\"background-link\" data-v-ca18938c>/api/v3/historical-chart/15min/<span class=\"symbol\">EDF.PA</span></a>\n",
      "\t\t\t\t\t\t\t\t</pre><!----></div><!----></div><div class=\"contain-main-block\" style=\"margin-top:0\" data-v-ca18938c><div class=\"contain-block-prettyprint\" data-v-ca18938c><!----><!----><h3 class=\"margin-head\" data-v-ca18938c><!----> <a href=\"/developer/docs/euronext-historical-price-api#30-minutes-historical-stock-prices-with-volume\" class=\"contain-header hoover-header\" data-v-ca18938c><div class=\"lower-title\" data-v-ca18938c>30 minutes historical stock prices with volume</div></a></h3><span class=\"span-margin\" data-v-ca18938c>Stock thirty minutes historical stock prices <span class=\"label info\">30 Minutes</span> <span class=\"label info-link\">JSON</span> <span class=\"label info-dark\">OHLCV</span></span><pre class=\"href-pre\" data-v-ca18938c>\t\t\t\t\t\t\t\t\t<a href=\"https://financialmodelingprep.com/api/v3/historical-chart/30min/EDF.PA?apikey=YOUR_API_KEY\" target=\"_blank\" class=\"background-link\" data-v-ca18938c>/api/v3/historical-chart/30min/<span class=\"symbol\">EDF.PA</span></a>\n",
      "\t\t\t\t\t\t\t\t</pre><!----></div><!----></div><div class=\"contain-main-block\" style=\"margin-top:0\" data-v-ca18938c><div class=\"contain-block-prettyprint\" data-v-ca18938c><!----><!----><h3 class=\"margin-head\" data-v-ca18938c><!----> <a href=\"/developer/docs/euronext-historical-price-api#Hour-historical-stock-prices-with-volume\" class=\"contain-header hoover-header\" data-v-ca18938c><div class=\"lower-title\" data-v-ca18938c>Hour historical stock prices with volume</div></a></h3><span class=\"span-margin\" data-v-ca18938c>Stock hour historical stock prices <span class=\"label info\">Hour</span> <span class=\"label info-link\">JSON</span> <span class=\"label info-dark\">OHLCV</span></span><pre class=\"href-pre\" data-v-ca18938c>\t\t\t\t\t\t\t\t\t<a href=\"https://financialmodelingprep.com/api/v3/historical-chart/1hour/EDF.PA?apikey=YOUR_API_KEY\" target=\"_blank\" class=\"background-link\" data-v-ca18938c>/api/v3/historical-chart/1hour/<span class=\"symbol\">EDF.PA</span></a>\n",
      "\t\t\t\t\t\t\t\t</pre><!----></div><!----></div><div class=\"contain-main-block\" style=\"margin-top:0\" data-v-ca18938c><div class=\"contain-block-prettyprint\" data-v-ca18938c><!----><!----><h3 class=\"margin-head\" data-v-ca18938c><!----> <a href=\"/developer/docs/euronext-historical-price-api#4-Hours-historical-stock-prices-with-volume\" class=\"contain-header hoover-header\" data-v-ca18938c><div class=\"lower-title\" data-v-ca18938c>4 Hours historical stock prices with volume</div></a></h3><span class=\"span-margin\" data-v-ca18938c>Stock four hours historical stock prices <span class=\"label info\">4 Hours</span> <span class=\"label info-link\">JSON</span> <span class=\"label info-dark\">OHLCV</span></span><pre class=\"href-pre\" data-v-ca18938c>\t\t\t\t\t\t\t\t\t<a href=\"https://financialmodelingprep.com/api/v3/historical-chart/4hour/EDF.PA?apikey=YOUR_API_KEY\" target=\"_blank\" class=\"background-link\" data-v-ca18938c>/api/v3/historical-chart/4hour/<span class=\"symbol\">EDF.PA</span></a>\n",
      "\t\t\t\t\t\t\t\t</pre><!----></div><!----></div><div class=\"contain-main-block\" style=\"margin-top:0\" data-v-ca18938c><div class=\"contain-block-prettyprint\" data-v-ca18938c><!----><!----><h3 class=\"margin-head\" data-v-ca18938c><!----> <a href=\"/developer/docs/euronext-historical-price-api#Historical-Daily-Prices\" class=\"contain-header hoover-header\" data-v-ca18938c><div class=\"lower-title\" data-v-ca18938c>Historical Daily Prices</div></a></h3><span class=\"span-margin\" data-v-ca18938c>EuroNext historical prices for EDF.PA <span class=\"label success\">Daily</span> <span class=\"label info-link\">JSON</span></span><pre class=\"href-pre\" data-v-ca18938c>\t\t\t\t\t\t\t\t\t<a href=\"https://financialmodelingprep.com/api/v3/historical-price-full/EDF.PA?apikey=YOUR_API_KEY\" target=\"_blank\" class=\"background-link\" data-v-ca18938c>/api/v3/historical-price-full/<span class=\"symbol\">EDF.PA</span></a>\n",
      "\t\t\t\t\t\t\t\t</pre><!----></div><!----></div><div class=\"contain-main-block margin-top-pretty\" style=\"margin-top:0\" data-v-ca18938c><div class=\"contain-block-prettyprint\" data-v-ca18938c><!----><!----><!----> <span class=\"span-margin\" data-v-ca18938c>ETF historical dividend prices for EDF.PA. <span class=\"label success\">Daily</span> <span class=\"label info-link\">JSON</span></span><pre class=\"href-pre\" data-v-ca18938c>\t\t\t\t\t\t\t\t\t<a href=\"https://financialmodelingprep.com/api/v3/historical-price-full/stock_dividend/EDF.PA?apikey=YOUR_API_KEY\" target=\"_blank\" class=\"background-link\" data-v-ca18938c>/api/v3/historical-price-full/stock_dividend/<span class=\"symbol\">EDF.PA</span></a>\n",
      "\t\t\t\t\t\t\t\t</pre><!----></div><!----></div><div class=\"contain-main-block margin-bottom-bigger\" style=\"margin-top:0\" data-v-ca18938c><div class=\"contain-block-prettyprint\" data-v-ca18938c><!----><!----><!----> <span class=\"span-margin\" data-v-ca18938c>ETF historical split prices for EDF.PA. <span class=\"label success\">Daily</span> <span class=\"label info-link\">JSON</span></span><pre class=\"href-pre\" data-v-ca18938c>\t\t\t\t\t\t\t\t\t<a href=\"https://financialmodelingprep.com/api/v3/historical-price-full/stock_split/EDF.PA?apikey=YOUR_API_KEY\" target=\"_blank\" class=\"background-link\" data-v-ca18938c>/api/v3/historical-price-full/stock_split/<span class=\"symbol\">EDF.PA</span></a>\n",
      "\t\t\t\t\t\t\t\t</pre><!----></div><!----></div></section><section class=\"contain-big-section\" data-v-ca18938c><div data-v-ca18938c>TSX</div></section><section id=\"Most-of-the-TSX\" class=\"section-top min-height-section\" data-v-ca18938c><h2 data-v-ca18938c><a href=\"/developer/docs/tsx-prices-api\" class=\"contain-header hoover-header\" data-v-ca18938c><div class=\"title-head\" data-v-ca18938c><div data-v-ca18938c>Most of the TSX <svg aria-hidden=\"true\" height=\"12\" width=\"12\" viewBox=\"0 0 16 16\" xmlns=\"http://www.w3.org/2000/svg\" class=\"SVGInline-svg SVGInline--cleaned-svg SVG-svg Icon-svg Icon--arrowRight-svg Icon-color-svg Icon-color--blue-svg\" data-v-ca18938c><path d=\"M12.583 7L7.992 2.409A1 1 0 1 1 9.407.993l6.3 6.3a1 1 0 0 1 0 1.414l-6.3 6.3a1 1 0 0 1-1.415-1.416L12.583 9H1a1 1 0 1 1 0-2z\" fill-rule=\"evenodd\" data-v-ca18938c></path></svg></div></div></a></h2><div class=\"contain-main-block\" style=\"margin-top:0\" data-v-ca18938c><div class=\"contain-block-prettyprint\" data-v-ca18938c><!----><!----><h3 data-v-ca18938c><!----> <a href=\"/developer/docs/tsx-prices-api#Commodities-symbol-List\" class=\"contain-header hoover-header\" data-v-ca18938c><div class=\"lower-title\" data-v-ca18938c>Commodities symbol List</div></a></h3><span class=\"span-margin\" data-v-ca18938c>TSX available symbols for quotes and historical prices query. <span class=\"label success\">Daily</span> <span class=\"label info-link\">JSON</span></span><pre class=\"href-pre\" data-v-ca18938c>\t\t\t\t\t\t\t\t\t<a href=\"https://financialmodelingprep.com/api/v3/symbol/available-tsx?apikey=YOUR_API_KEY\" target=\"_blank\" class=\"background-link\" data-v-ca18938c>/api/v3/symbol/<span class=\"symbol\">available-tsx</span></a>\n",
      "\t\t\t\t\t\t\t\t</pre><!----></div><!----></div><div class=\"contain-main-block margin-head-top-top-pretty\" style=\"margin-top:0\" data-v-ca18938c><div class=\"contain-block-prettyprint\" data-v-ca18938c><!----><!----><!----> <span class=\"span-margin\" data-v-ca18938c>All Real-time TSX Prices. <span class=\"label info\">Real-time</span> <span class=\"label info-link\">JSON</span></span><pre class=\"href-pre\" data-v-ca18938c>\t\t\t\t\t\t\t\t\t<a href=\"https://financialmodelingprep.com/api/v3/quotes/tsx?apikey=YOUR_API_KEY\" target=\"_blank\" class=\"background-link\" data-v-ca18938c>/api/v3/quotes/<span class=\"symbol\">tsx</span></a>\n",
      "\t\t\t\t\t\t\t\t</pre><!----></div><!----></div><div class=\"contain-main-block\" style=\"margin-top:0\" data-v-ca18938c><div class=\"contain-block-prettyprint\" data-v-ca18938c><!----><!----><!----> <span class=\"span-margin\" data-v-ca18938c>Real-time TSX Price. <span class=\"label warning\">High Usage</span> <span class=\"label info\">Real-time</span> <span class=\"label info-link\">JSON</span></span><pre class=\"href-pre\" data-v-ca18938c>\t\t\t\t\t\t\t\t\t<a href=\"https://financialmodelingprep.com/api/v3/quote/FNV.TO,XAW.TO,DR.TO?apikey=YOUR_API_KEY\" target=\"_blank\" class=\"background-link\" data-v-ca18938c>/api/v3/quote/<span class=\"symbol\">FNV.TO,XAW.TO,DR.TO</span></a>\n",
      "\t\t\t\t\t\t\t\t</pre><!----></div><!----></div></section><section id=\"Historical-TSX-prices\" class=\"section-top min-height-section\" data-v-ca18938c><h2 data-v-ca18938c><a href=\"/developer/docs/tsx-historical-price-api\" class=\"contain-header hoover-header\" data-v-ca18938c><div class=\"title-head\" data-v-ca18938c><div data-v-ca18938c>Historical TSX prices <svg aria-hidden=\"true\" height=\"12\" width=\"12\" viewBox=\"0 0 16 16\" xmlns=\"http://www.w3.org/2000/svg\" class=\"SVGInline-svg SVGInline--cleaned-svg SVG-svg Icon-svg Icon--arrowRight-svg Icon-color-svg Icon-color--blue-svg\" data-v-ca18938c><path d=\"M12.583 7L7.992 2.409A1 1 0 1 1 9.407.993l6.3 6.3a1 1 0 0 1 0 1.414l-6.3 6.3a1 1 0 0 1-1.415-1.416L12.583 9H1a1 1 0 1 1 0-2z\" fill-rule=\"evenodd\" data-v-ca18938c></path></svg></div></div></a></h2><div class=\"contain-main-block\" style=\"margin-top:0\" data-v-ca18938c><div class=\"contain-block-prettyprint\" data-v-ca18938c><!----><!----><h3 data-v-ca18938c><!----> <a href=\"/developer/docs/tsx-historical-price-api#1-minute-historical-stock-prices-with-volume\" class=\"contain-header hoover-header\" data-v-ca18938c><div class=\"lower-title\" data-v-ca18938c>1 minute historical stock prices with volume</div></a></h3><span class=\"span-margin\" data-v-ca18938c>Stock one minute historical stock prices. <span class=\"label info\">1 Minute</span> <span class=\"label info-link\">JSON</span> <span class=\"label info-dark\">OHLCV</span></span><pre class=\"href-pre\" data-v-ca18938c>\t\t\t\t\t\t\t\t\t<a href=\"https://financialmodelingprep.com/api/v3/historical-chart/1min/FNV.TO?apikey=YOUR_API_KEY\" target=\"_blank\" class=\"background-link\" data-v-ca18938c>/api/v3/historical-chart/1min/<span class=\"symbol\">FNV.TO</span></a>\n",
      "\t\t\t\t\t\t\t\t</pre><!----></div><!----></div><div class=\"contain-main-block margin-head-top-top-pretty\" style=\"margin-top:0\" data-v-ca18938c><div class=\"contain-block-prettyprint\" data-v-ca18938c><!----><!----><h3 class=\"margin-head\" data-v-ca18938c><!----> <a href=\"/developer/docs/tsx-historical-price-api#5-minutes-historical-stock-prices-with--volume\" class=\"contain-header hoover-header\" data-v-ca18938c><div class=\"lower-title\" data-v-ca18938c>5 minutes historical stock prices with volume</div></a></h3><span class=\"span-margin\" data-v-ca18938c>Stock five minutes historical stock prices. <span class=\"label info\">5 Minutes</span> <span class=\"label info-link\">JSON</span> <span class=\"label info-dark\">OHLCV</span></span><pre class=\"href-pre\" data-v-ca18938c>\t\t\t\t\t\t\t\t\t<a href=\"https://financialmodelingprep.com/api/v3/historical-chart/5min/FNV.TO?apikey=YOUR_API_KEY\" target=\"_blank\" class=\"background-link\" data-v-ca18938c>/api/v3/historical-chart/5min/<span class=\"symbol\">FNV.TO</span></a>\n",
      "\t\t\t\t\t\t\t\t</pre><!----></div><!----></div><div class=\"contain-main-block\" style=\"margin-top:0\" data-v-ca18938c><div class=\"contain-block-prettyprint\" data-v-ca18938c><!----><!----><h3 class=\"margin-head\" data-v-ca18938c><!----> <a href=\"/developer/docs/tsx-historical-price-api#15-minutes-historical-stock-prices-with-volume\" class=\"contain-header hoover-header\" data-v-ca18938c><div class=\"lower-title\" data-v-ca18938c>15 minutes historical stock prices with volume</div></a></h3><span class=\"span-margin\" data-v-ca18938c>Stock fifteen minutes historical stock prices. <span class=\"label info\">15 Minutes</span> <span class=\"label info-link\">JSON</span> <span class=\"label info-dark\">OHLCV</span></span><pre class=\"href-pre\" data-v-ca18938c>\t\t\t\t\t\t\t\t\t<a href=\"https://financialmodelingprep.com/api/v3/historical-chart/15min/FNV.TO?apikey=YOUR_API_KEY\" target=\"_blank\" class=\"background-link\" data-v-ca18938c>/api/v3/historical-chart/15min/<span class=\"symbol\">FNV.TO</span></a>\n",
      "\t\t\t\t\t\t\t\t</pre><!----></div><!----></div><div class=\"contain-main-block\" style=\"margin-top:0\" data-v-ca18938c><div class=\"contain-block-prettyprint\" data-v-ca18938c><!----><!----><h3 class=\"margin-head\" data-v-ca18938c><!----> <a href=\"/developer/docs/tsx-historical-price-api#30-minutes-historical-stock-prices-with-volume\" class=\"contain-header hoover-header\" data-v-ca18938c><div class=\"lower-title\" data-v-ca18938c>30 minutes historical stock prices with volume</div></a></h3><span class=\"span-margin\" data-v-ca18938c>Stock thirty minutes historical stock prices. <span class=\"label info\">30 Minutes</span> <span class=\"label info-link\">JSON</span> <span class=\"label info-dark\">OHLCV</span></span><pre class=\"href-pre\" data-v-ca18938c>\t\t\t\t\t\t\t\t\t<a href=\"https://financialmodelingprep.com/api/v3/historical-chart/30min/FNV.TO?apikey=YOUR_API_KEY\" target=\"_blank\" class=\"background-link\" data-v-ca18938c>/api/v3/historical-chart/30min/<span class=\"symbol\">FNV.TO</span></a>\n",
      "\t\t\t\t\t\t\t\t</pre><!----></div><!----></div><div class=\"contain-main-block\" style=\"margin-top:0\" data-v-ca18938c><div class=\"contain-block-prettyprint\" data-v-ca18938c><!----><!----><h3 class=\"margin-head\" data-v-ca18938c><!----> <a href=\"/developer/docs/tsx-historical-price-api#Hour-historical-stock-prices-with-volume\" class=\"contain-header hoover-header\" data-v-ca18938c><div class=\"lower-title\" data-v-ca18938c>Hour historical stock prices with volume</div></a></h3><span class=\"span-margin\" data-v-ca18938c>Stock hour historical stock prices. <span class=\"label info\">Hour</span> <span class=\"label info-link\">JSON</span> <span class=\"label info-dark\">OHLCV</span></span><pre class=\"href-pre\" data-v-ca18938c>\t\t\t\t\t\t\t\t\t<a href=\"https://financialmodelingprep.com/api/v3/historical-chart/1hour/FNV.TO?apikey=YOUR_API_KEY\" target=\"_blank\" class=\"background-link\" data-v-ca18938c>/api/v3/historical-chart/1hour/<span class=\"symbol\">FNV.TO</span></a>\n",
      "\t\t\t\t\t\t\t\t</pre><!----></div><!----></div><div class=\"contain-main-block\" style=\"margin-top:0\" data-v-ca18938c><div class=\"contain-block-prettyprint\" data-v-ca18938c><!----><!----><h3 class=\"margin-head\" data-v-ca18938c><!----> <a href=\"/developer/docs/tsx-historical-price-api#4-Hours-historical-stock-prices-with-volume\" class=\"contain-header hoover-header\" data-v-ca18938c><div class=\"lower-title\" data-v-ca18938c>4 Hours historical stock prices with volume</div></a></h3><span class=\"span-margin\" data-v-ca18938c>Stock four hours historical stock prices. <span class=\"label info\">4 Hours</span> <span class=\"label info-link\">JSON</span> <span class=\"label info-dark\">OHLCV</span></span><pre class=\"href-pre\" data-v-ca18938c>\t\t\t\t\t\t\t\t\t<a href=\"https://financialmodelingprep.com/api/v3/historical-chart/4hour/FNV.TO?apikey=YOUR_API_KEY\" target=\"_blank\" class=\"background-link\" data-v-ca18938c>/api/v3/historical-chart/4hour/<span class=\"symbol\">FNV.TO</span></a>\n",
      "\t\t\t\t\t\t\t\t</pre><!----></div><!----></div><div class=\"contain-main-block\" style=\"margin-top:0\" data-v-ca18938c><div class=\"contain-block-prettyprint\" data-v-ca18938c><!----><!----><h3 class=\"margin-head\" data-v-ca18938c><!----> <a href=\"/developer/docs/tsx-historical-price-api#Historical-Daily-Prices\" class=\"contain-header hoover-header\" data-v-ca18938c><div class=\"lower-title\" data-v-ca18938c>Historical Daily Prices</div></a></h3><span class=\"span-margin\" data-v-ca18938c>TSX historical prices for Gold. <span class=\"label success\">Daily</span> <span class=\"label info-link\">JSON</span></span><pre class=\"href-pre\" data-v-ca18938c>\t\t\t\t\t\t\t\t\t<a href=\"https://financialmodelingprep.com/api/v3/historical-price-full/FNV.TO?apikey=YOUR_API_KEY\" target=\"_blank\" class=\"background-link\" data-v-ca18938c>/api/v3/historical-price-full/<span class=\"symbol\">FNV.TO</span></a>\n",
      "\t\t\t\t\t\t\t\t</pre><!----></div><!----></div><div class=\"contain-main-block margin-top-pretty\" style=\"margin-top:0\" data-v-ca18938c><div class=\"contain-block-prettyprint\" data-v-ca18938c><!----><!----><!----> <span class=\"span-margin\" data-v-ca18938c>TSX historical dividend prices for FNV.TO. <span class=\"label success\">Daily</span> <span class=\"label info-link\">JSON</span></span><pre class=\"href-pre\" data-v-ca18938c>\t\t\t\t\t\t\t\t\t<a href=\"https://financialmodelingprep.com/api/v3/historical-price-full/stock_dividend/FNV.TO?apikey=YOUR_API_KEY\" target=\"_blank\" class=\"background-link\" data-v-ca18938c>/api/v3/historical-price-full/stock_dividend/<span class=\"symbol\">FNV.TO</span></a>\n",
      "\t\t\t\t\t\t\t\t</pre><!----></div><!----></div><div class=\"contain-main-block margin-bottom-bigger\" style=\"margin-top:0\" data-v-ca18938c><div class=\"contain-block-prettyprint\" data-v-ca18938c><!----><!----><!----> <span class=\"span-margin\" data-v-ca18938c>TSX historical split prices for FNV.TO. <span class=\"label success\">Daily</span> <span class=\"label info-link\">JSON</span></span><pre class=\"href-pre\" data-v-ca18938c>\t\t\t\t\t\t\t\t\t<a href=\"https://financialmodelingprep.com/api/v3/historical-price-full/stock_split/FNV.TO?apikey=YOUR_API_KEY\" target=\"_blank\" class=\"background-link\" data-v-ca18938c>/api/v3/historical-price-full/stock_split/<span class=\"symbol\">FNV.TO</span></a>\n",
      "\t\t\t\t\t\t\t\t</pre><!----></div><!----></div></section><section class=\"contain-big-section\" data-v-ca18938c><div data-v-ca18938c>CRYPTO & FOREX & COMMODITIES</div></section><section id=\"Cryptocurrencies\" class=\"section-top min-height-section\" data-v-ca18938c><h2 data-v-ca18938c><a href=\"/developer/docs/crypto-currency-free-api\" class=\"contain-header hoover-header\" data-v-ca18938c><div class=\"title-head\" data-v-ca18938c><div data-v-ca18938c>Cryptocurrencies <svg aria-hidden=\"true\" height=\"12\" width=\"12\" viewBox=\"0 0 16 16\" xmlns=\"http://www.w3.org/2000/svg\" class=\"SVGInline-svg SVGInline--cleaned-svg SVG-svg Icon-svg Icon--arrowRight-svg Icon-color-svg Icon-color--blue-svg\" data-v-ca18938c><path d=\"M12.583 7L7.992 2.409A1 1 0 1 1 9.407.993l6.3 6.3a1 1 0 0 1 0 1.414l-6.3 6.3a1 1 0 0 1-1.415-1.416L12.583 9H1a1 1 0 1 1 0-2z\" fill-rule=\"evenodd\" data-v-ca18938c></path></svg></div></div></a></h2><div class=\"contain-main-block\" style=\"margin-top:0\" data-v-ca18938c><div class=\"contain-block-prettyprint\" data-v-ca18938c><!----><!----><h3 data-v-ca18938c><!----> <a href=\"/developer/docs/crypto-currency-free-api#Digital-and-Cryptocurrencies\" class=\"contain-header hoover-header\" data-v-ca18938c><div class=\"lower-title\" data-v-ca18938c>Digital and Cryptocurrencies</div></a></h3><span class=\"span-margin\" data-v-ca18938c>Wide range of data feed for digital and Cryptocurrencies. <span class=\"label success\">Real-time</span> <span class=\"label info-link\">JSON</span></span><pre class=\"href-pre\" data-v-ca18938c>\t\t\t\t\t\t\t\t\t<a href=\"https://financialmodelingprep.com/api/v3/quotes/crypto?apikey=YOUR_API_KEY\" target=\"_blank\" class=\"background-link\" data-v-ca18938c>/api/v3/quotes/<span class=\"symbol\">crypto</span></a>\n",
      "\t\t\t\t\t\t\t\t</pre><!----></div><!----></div><div class=\"contain-main-block margin-head-top-top-pretty\" style=\"margin-top:0\" data-v-ca18938c><div class=\"contain-block-prettyprint\" data-v-ca18938c><!----><!----><h3 class=\"margin-head\" data-v-ca18938c><!----> <a href=\"/developer/docs/crypto-currency-free-api#Single-Cryptocurrency-such-as-Bitcoin\" class=\"contain-header hoover-header\" data-v-ca18938c><div class=\"lower-title\" data-v-ca18938c>Single Cryptocurrency such as Bitcoin</div></a></h3><span class=\"span-margin\" data-v-ca18938c>This API provide a wide range of data feed for digital and crypto currency such as Bitcoin. <span class=\"label success\">Real-time</span> <span class=\"label info-link\">JSON</span></span><pre class=\"href-pre\" data-v-ca18938c>\t\t\t\t\t\t\t\t\t<a href=\"https://financialmodelingprep.com/api/v3/quote/BTCUSD?apikey=YOUR_API_KEY\" target=\"_blank\" class=\"background-link last-href\" data-v-ca18938c>/api/v3/quote/<span class=\"symbol\">BTCUSD</span></a>\n",
      "\t\t\t\t\t\t\t\t</pre><h3 style=\"border:none;margin-top:20px\" data-v-ca18938c><a href=\"/developer/docs/crypto-currency-free-api\" class=\"span-margin hoover-header integration\" data-v-ca18938c><span style=\"color:#ec407a;font-weight:600\" data-v-ca18938c>Example</span> with Javascript, JQuery, VueJS, Angular, JAVA, PHP, NodeJS, Python, Go, Ruby, C#, R, Strest, Rust, Swift and Scala</a></h3></div><!----></div></section><section id=\"Historical-Cryptocurrencies-Price\" class=\"section-top min-height-section\" data-v-ca18938c><h2 data-v-ca18938c><a href=\"/developer/docs/cryptocurrency-historical-data-api\" class=\"contain-header hoover-header\" data-v-ca18938c><div class=\"title-head\" data-v-ca18938c><div data-v-ca18938c>Historical Cryptocurrencies Price <svg aria-hidden=\"true\" height=\"12\" width=\"12\" viewBox=\"0 0 16 16\" xmlns=\"http://www.w3.org/2000/svg\" class=\"SVGInline-svg SVGInline--cleaned-svg SVG-svg Icon-svg Icon--arrowRight-svg Icon-color-svg Icon-color--blue-svg\" data-v-ca18938c><path d=\"M12.583 7L7.992 2.409A1 1 0 1 1 9.407.993l6.3 6.3a1 1 0 0 1 0 1.414l-6.3 6.3a1 1 0 0 1-1.415-1.416L12.583 9H1a1 1 0 1 1 0-2z\" fill-rule=\"evenodd\" data-v-ca18938c></path></svg></div></div></a></h2><div class=\"contain-main-block\" style=\"margin-top:0\" data-v-ca18938c><div class=\"contain-block-prettyprint\" data-v-ca18938c><!----><!----><h3 data-v-ca18938c><!----> <a href=\"/developer/docs/cryptocurrency-historical-data-api#Crypto-Historical-quotes\" class=\"contain-header hoover-header\" data-v-ca18938c><div class=\"lower-title\" data-v-ca18938c>Crypto Historical quotes</div></a></h3><span class=\"span-margin\" data-v-ca18938c>Cryptocurrencies available pairs for historical prices query. <span class=\"label success\">Daily</span> <span class=\"label info-link\">JSON</span></span><pre class=\"href-pre\" data-v-ca18938c>\t\t\t\t\t\t\t\t\t<a href=\"https://financialmodelingprep.com/api/v3/symbol/available-cryptocurrencies?apikey=YOUR_API_KEY\" target=\"_blank\" class=\"background-link\" data-v-ca18938c>/api/v3/symbol/<span class=\"symbol\">available-cryptocurrencies</span></a>\n",
      "\t\t\t\t\t\t\t\t</pre><!----></div><!----></div><div class=\"contain-main-block margin-head-top-top-top-pretty\" style=\"margin-top:0\" data-v-ca18938c><div class=\"contain-block-prettyprint\" data-v-ca18938c><!----><!----><h3 class=\"margin-head\" data-v-ca18938c><!----> <a href=\"/developer/docs/cryptocurrency-historical-data-api#1-minute-historical-stock-prices-with-volume\" class=\"contain-header hoover-header\" data-v-ca18938c><div class=\"lower-title\" data-v-ca18938c>1 minute historical stock prices with volume</div></a></h3><span class=\"span-margin\" data-v-ca18938c>Stock one minute historical stock prices. <span class=\"label info\">1 Minute</span> <span class=\"label info-link\">JSON</span> <span class=\"label info-dark\">OHLCV</span></span><pre class=\"href-pre\" data-v-ca18938c>\t\t\t\t\t\t\t\t\t<a href=\"https://financialmodelingprep.com/api/v3/historical-chart/1min/BTCUSD?apikey=YOUR_API_KEY\" target=\"_blank\" class=\"background-link\" data-v-ca18938c>/api/v3/historical-chart/1min/<span class=\"symbol\">BTCUSD</span></a>\n",
      "\t\t\t\t\t\t\t\t</pre><!----></div><!----></div><div class=\"contain-main-block\" style=\"margin-top:0\" data-v-ca18938c><div class=\"contain-block-prettyprint\" data-v-ca18938c><!----><!----><h3 class=\"margin-head\" data-v-ca18938c><!----> <a href=\"/developer/docs/cryptocurrency-historical-data-api#5-minutes-historical-stock-prices-with--volume\" class=\"contain-header hoover-header\" data-v-ca18938c><div class=\"lower-title\" data-v-ca18938c>5 minutes historical stock prices with volume</div></a></h3><span class=\"span-margin\" data-v-ca18938c>Stock five minutes historical stock prices. <span class=\"label info\">5 Minutes</span> <span class=\"label info-link\">JSON</span> <span class=\"label info-dark\">OHLCV</span></span><pre class=\"href-pre\" data-v-ca18938c>\t\t\t\t\t\t\t\t\t<a href=\"https://financialmodelingprep.com/api/v3/historical-chart/5min/BTCUSD?apikey=YOUR_API_KEY\" target=\"_blank\" class=\"background-link\" data-v-ca18938c>/api/v3/historical-chart/5min/<span class=\"symbol\">BTCUSD</span></a>\n",
      "\t\t\t\t\t\t\t\t</pre><!----></div><!----></div><div class=\"contain-main-block margin-bigger\" style=\"margin-top:0\" data-v-ca18938c><div class=\"contain-block-prettyprint\" data-v-ca18938c><!----><!----><h3 class=\"margin-head\" data-v-ca18938c><!----> <a href=\"/developer/docs/cryptocurrency-historical-data-api#15-minutes-historical-stock-prices-with-volume\" class=\"contain-header hoover-header\" data-v-ca18938c><div class=\"lower-title\" data-v-ca18938c>15 minutes historical stock prices with volume</div></a></h3><span class=\"span-margin\" data-v-ca18938c>Stock fifteen minutes historical stock prices. <span class=\"label info\">15 Minutes</span> <span class=\"label info-link\">JSON</span> <span class=\"label info-dark\">OHLCV</span></span><pre class=\"href-pre\" data-v-ca18938c>\t\t\t\t\t\t\t\t\t<a href=\"https://financialmodelingprep.com/api/v3/historical-chart/15min/BTCUSD?apikey=YOUR_API_KEY\" target=\"_blank\" class=\"background-link\" data-v-ca18938c>/api/v3/historical-chart/15min/<span class=\"symbol\">BTCUSD</span></a>\n",
      "\t\t\t\t\t\t\t\t</pre><!----></div><!----></div><div class=\"contain-main-block margin-head-top-top-pretty\" style=\"margin-top:0\" data-v-ca18938c><div class=\"contain-block-prettyprint\" data-v-ca18938c><!----><!----><h3 class=\"margin-head\" data-v-ca18938c><!----> <a href=\"/developer/docs/cryptocurrency-historical-data-api#30-minutes-historical-stock-prices-with-volume\" class=\"contain-header hoover-header\" data-v-ca18938c><div class=\"lower-title\" data-v-ca18938c>30 minutes historical stock prices with volume</div></a></h3><span class=\"span-margin\" data-v-ca18938c>Stock thirty minutes historical stock prices <span class=\"label info\">30 Minutes</span> <span class=\"label info-link\">JSON</span> <span class=\"label info-dark\">OHLCV</span></span><pre class=\"href-pre\" data-v-ca18938c>\t\t\t\t\t\t\t\t\t<a href=\"https://financialmodelingprep.com/api/v3/historical-chart/30min/BTCUSD?apikey=YOUR_API_KEY\" target=\"_blank\" class=\"background-link\" data-v-ca18938c>/api/v3/historical-chart/30min/<span class=\"symbol\">BTCUSD</span></a>\n",
      "\t\t\t\t\t\t\t\t</pre><!----></div><!----></div><div class=\"contain-main-block\" style=\"margin-top:0\" data-v-ca18938c><div class=\"contain-block-prettyprint\" data-v-ca18938c><!----><!----><h3 class=\"margin-head\" data-v-ca18938c><!----> <a href=\"/developer/docs/cryptocurrency-historical-data-api#Hour-historical-stock-prices-with-volume\" class=\"contain-header hoover-header\" data-v-ca18938c><div class=\"lower-title\" data-v-ca18938c>Hour historical stock prices with volume</div></a></h3><span class=\"span-margin\" data-v-ca18938c>Stock hour historical stock prices <span class=\"label info\">Hour</span> <span class=\"label info-link\">JSON</span> <span class=\"label info-dark\">OHLCV</span></span><pre class=\"href-pre\" data-v-ca18938c>\t\t\t\t\t\t\t\t\t<a href=\"https://financialmodelingprep.com/api/v3/historical-chart/1hour/BTCUSD?apikey=YOUR_API_KEY\" target=\"_blank\" class=\"background-link\" data-v-ca18938c>/api/v3/historical-chart/1hour/<span class=\"symbol\">BTCUSD</span></a>\n",
      "\t\t\t\t\t\t\t\t</pre><!----></div><!----></div><div class=\"contain-main-block\" style=\"margin-top:0\" data-v-ca18938c><div class=\"contain-block-prettyprint\" data-v-ca18938c><!----><!----><h3 class=\"margin-head\" data-v-ca18938c><!----> <a href=\"/developer/docs/cryptocurrency-historical-data-api#4-Hours-historical-stock-prices-with-volume\" class=\"contain-header hoover-header\" data-v-ca18938c><div class=\"lower-title\" data-v-ca18938c>4 Hours historical stock prices with volume</div></a></h3><span class=\"span-margin\" data-v-ca18938c>Stock four hours historical stock prices <span class=\"label info\">4 Hours</span> <span class=\"label info-link\">JSON</span> <span class=\"label info-dark\">OHLCV</span></span><pre class=\"href-pre\" data-v-ca18938c>\t\t\t\t\t\t\t\t\t<a href=\"https://financialmodelingprep.com/api/v3/historical-chart/4hour/BTCUSD?apikey=YOUR_API_KEY\" target=\"_blank\" class=\"background-link\" data-v-ca18938c>/api/v3/historical-chart/4hour/<span class=\"symbol\">BTCUSD</span></a>\n",
      "\t\t\t\t\t\t\t\t</pre><!----></div><!----></div><div class=\"contain-main-block\" style=\"margin-top:0\" data-v-ca18938c><div class=\"contain-block-prettyprint\" data-v-ca18938c><!----><!----><h3 class=\"margin-head\" data-v-ca18938c><!----> <a href=\"/developer/docs/cryptocurrency-historical-data-api#Historical-Daily-Prices\" class=\"contain-header hoover-header\" data-v-ca18938c><div class=\"lower-title\" data-v-ca18938c>Historical Daily Prices</div></a></h3><span class=\"span-margin\" data-v-ca18938c>Crypto historical prices <span class=\"label success\">Daily</span> <span class=\"label info-link\">JSON</span></span><pre class=\"href-pre\" data-v-ca18938c>\t\t\t\t\t\t\t\t\t<a href=\"https://financialmodelingprep.com/api/v3/historical-price-full/BTCUSD?apikey=YOUR_API_KEY\" target=\"_blank\" class=\"background-link last-href\" data-v-ca18938c>/api/v3/historical-price-full/<span class=\"symbol\">BTCUSD</span></a>\n",
      "\t\t\t\t\t\t\t\t</pre><h3 style=\"border:none;margin-top:20px\" data-v-ca18938c><a href=\"/developer/docs/cryptocurrency-historical-data-api\" class=\"span-margin hoover-header integration\" data-v-ca18938c><span style=\"color:#ec407a;font-weight:600\" data-v-ca18938c>Example</span> with Javascript, JQuery, VueJS, Angular, JAVA, PHP, NodeJS, Python, Go, Ruby, C#, R, Strest, Rust, Swift and Scala</a></h3></div><!----></div></section><section id=\"Forex-(FX)\" class=\"section-top min-height-section\" data-v-ca18938c><h2 data-v-ca18938c><a href=\"/developer/docs/currency-exchange-rate-free-api\" class=\"contain-header hoover-header\" data-v-ca18938c><div class=\"title-head\" data-v-ca18938c><div data-v-ca18938c>Forex (FX) <svg aria-hidden=\"true\" height=\"12\" width=\"12\" viewBox=\"0 0 16 16\" xmlns=\"http://www.w3.org/2000/svg\" class=\"SVGInline-svg SVGInline--cleaned-svg SVG-svg Icon-svg Icon--arrowRight-svg Icon-color-svg Icon-color--blue-svg\" data-v-ca18938c><path d=\"M12.583 7L7.992 2.409A1 1 0 1 1 9.407.993l6.3 6.3a1 1 0 0 1 0 1.414l-6.3 6.3a1 1 0 0 1-1.415-1.416L12.583 9H1a1 1 0 1 1 0-2z\" fill-rule=\"evenodd\" data-v-ca18938c></path></svg></div></div></a></h2><div class=\"contain-main-block\" style=\"margin-top:0\" data-v-ca18938c><div class=\"contain-block-prettyprint\" data-v-ca18938c><!----><!----><h3 data-v-ca18938c><!----> <a href=\"/developer/docs/currency-exchange-rate-free-api#Forex-Currency-Exchange-Rate-(FX)\" class=\"contain-header hoover-header\" data-v-ca18938c><div class=\"lower-title\" data-v-ca18938c>Forex Currency Exchange Rate (FX)</div></a></h3><span class=\"span-margin\" data-v-ca18938c>Currency exchange rates (FX). <span class=\"label success\">Real-time</span> <span class=\"label info-link\">JSON</span></span><pre class=\"href-pre\" data-v-ca18938c>\t\t\t\t\t\t\t\t\t<a href=\"https://financialmodelingprep.com/api/v3/fx?apikey=YOUR_API_KEY\" target=\"_blank\" class=\"background-link\" data-v-ca18938c>/api/v3/<span class=\"symbol\">fx</span></a>\n",
      "\t\t\t\t\t\t\t\t</pre><!----></div><!----></div><div class=\"contain-main-block margin-head-top-top-pretty\" style=\"margin-top:0\" data-v-ca18938c><div class=\"contain-block-prettyprint\" data-v-ca18938c><!----><!----><!----> <span class=\"span-margin\" data-v-ca18938c>All Real-time Forex Prices. <span class=\"label info\">Real-time</span> <span class=\"label info-link\">JSON</span></span><pre class=\"href-pre\" data-v-ca18938c>\t\t\t\t\t\t\t\t\t<a href=\"https://financialmodelingprep.com/api/v3/quotes/forex?apikey=YOUR_API_KEY\" target=\"_blank\" class=\"background-link\" data-v-ca18938c>/api/v3/quotes/<span class=\"symbol\">forex</span></a>\n",
      "\t\t\t\t\t\t\t\t</pre><!----></div><!----></div><div class=\"contain-main-block\" style=\"margin-top:0\" data-v-ca18938c><div class=\"contain-block-prettyprint\" data-v-ca18938c><!----><!----><h3 class=\"margin-head\" data-v-ca18938c><!----> <a href=\"/developer/docs/currency-exchange-rate-free-api#Single-Currency-such-as-Euro-dollars-(EUR/USD)\" class=\"contain-header hoover-header\" data-v-ca18938c><div class=\"lower-title\" data-v-ca18938c>Single Currency such as Euro-dollars (EUR/USD)</div></a></h3><span class=\"span-margin\" data-v-ca18938c>Currency exchange rate such as Euro-dollars (EUR/USD). <span class=\"label success\">Real-time</span> <span class=\"label info-link\">JSON</span></span><pre class=\"href-pre\" data-v-ca18938c>\t\t\t\t\t\t\t\t\t<a href=\"https://financialmodelingprep.com/api/v3/fx/EURUSD?apikey=YOUR_API_KEY\" target=\"_blank\" class=\"background-link\" data-v-ca18938c>/api/v3/fx/<span class=\"symbol\">EURUSD</span></a>\n",
      "\t\t\t\t\t\t\t\t</pre><!----></div><!----></div><div class=\"contain-main-block\" style=\"margin-top:0\" data-v-ca18938c><div class=\"contain-block-prettyprint\" data-v-ca18938c><!----><!----><!----> <span class=\"span-margin\" data-v-ca18938c>Real-time Forex Price. <span class=\"label warning\">High Usage</span> <span class=\"label info\">Real-time</span> <span class=\"label info-link\">JSON</span></span><pre class=\"href-pre\" data-v-ca18938c>\t\t\t\t\t\t\t\t\t<a href=\"https://financialmodelingprep.com/api/v3/quote/JPYUSD?apikey=YOUR_API_KEY\" target=\"_blank\" class=\"background-link last-href\" data-v-ca18938c>/api/v3/quote/<span class=\"symbol\">JPYUSD</span></a>\n",
      "\t\t\t\t\t\t\t\t</pre><h3 style=\"border:none;margin-top:20px\" data-v-ca18938c><a href=\"/developer/docs/currency-exchange-rate-free-api\" class=\"span-margin hoover-header integration\" data-v-ca18938c><span style=\"color:#ec407a;font-weight:600\" data-v-ca18938c>Example</span> with Javascript, JQuery, VueJS, Angular, JAVA, PHP, NodeJS, Python, Go, Ruby, C#, R, Strest, Rust, Swift and Scala</a></h3></div><!----></div></section><section id=\"Historical-Forex-Price\" class=\"section-top min-height-section\" data-v-ca18938c><h2 data-v-ca18938c><a href=\"/developer/docs/forex-historical-data-api\" class=\"contain-header hoover-header\" data-v-ca18938c><div class=\"title-head\" data-v-ca18938c><div data-v-ca18938c>Historical Forex Price <svg aria-hidden=\"true\" height=\"12\" width=\"12\" viewBox=\"0 0 16 16\" xmlns=\"http://www.w3.org/2000/svg\" class=\"SVGInline-svg SVGInline--cleaned-svg SVG-svg Icon-svg Icon--arrowRight-svg Icon-color-svg Icon-color--blue-svg\" data-v-ca18938c><path d=\"M12.583 7L7.992 2.409A1 1 0 1 1 9.407.993l6.3 6.3a1 1 0 0 1 0 1.414l-6.3 6.3a1 1 0 0 1-1.415-1.416L12.583 9H1a1 1 0 1 1 0-2z\" fill-rule=\"evenodd\" data-v-ca18938c></path></svg></div></div></a></h2><div class=\"contain-main-block\" style=\"margin-top:0\" data-v-ca18938c><div class=\"contain-block-prettyprint\" data-v-ca18938c><!----><!----><h3 data-v-ca18938c><!----> <a href=\"/developer/docs/forex-historical-data-api#Forex-Historical-quotes\" class=\"contain-header hoover-header\" data-v-ca18938c><div class=\"lower-title\" data-v-ca18938c>Forex Historical quotes</div></a></h3><span class=\"span-margin\" data-v-ca18938c>Forex available pairs for historical prices query. <span class=\"label success\">Daily</span> <span class=\"label info-link\">JSON</span></span><pre class=\"href-pre\" data-v-ca18938c>\t\t\t\t\t\t\t\t\t<a href=\"https://financialmodelingprep.com/api/v3/symbol/available-forex-currency-pairs?apikey=YOUR_API_KEY\" target=\"_blank\" class=\"background-link\" data-v-ca18938c>/api/v3/symbol/<span class=\"symbol\">available-forex-currency-pairs</span></a>\n",
      "\t\t\t\t\t\t\t\t</pre><!----></div><!----></div><div class=\"contain-main-block margin-head-top-top-top-pretty\" style=\"margin-top:0\" data-v-ca18938c><div class=\"contain-block-prettyprint\" data-v-ca18938c><!----><!----><h3 class=\"margin-head\" data-v-ca18938c><!----> <a href=\"/developer/docs/forex-historical-data-api#1-minute-historical-stock-prices-with-volume\" class=\"contain-header hoover-header\" data-v-ca18938c><div class=\"lower-title\" data-v-ca18938c>1 minute historical stock prices with volume</div></a></h3><span class=\"span-margin\" data-v-ca18938c>Stock one minute historical stock prices. <span class=\"label info\">1 Minute</span> <span class=\"label info-link\">JSON</span> <span class=\"label info-dark\">OHLCV</span></span><pre class=\"href-pre\" data-v-ca18938c>\t\t\t\t\t\t\t\t\t<a href=\"https://financialmodelingprep.com/api/v3/historical-chart/1min/JPYUSD?apikey=YOUR_API_KEY\" target=\"_blank\" class=\"background-link\" data-v-ca18938c>/api/v3/historical-chart/1min/<span class=\"symbol\">JPYUSD</span></a>\n",
      "\t\t\t\t\t\t\t\t</pre><!----></div><!----></div><div class=\"contain-main-block\" style=\"margin-top:0\" data-v-ca18938c><div class=\"contain-block-prettyprint\" data-v-ca18938c><!----><!----><h3 class=\"margin-head\" data-v-ca18938c><!----> <a href=\"/developer/docs/forex-historical-data-api#5-minutes-historical-stock-prices-with--volume\" class=\"contain-header hoover-header\" data-v-ca18938c><div class=\"lower-title\" data-v-ca18938c>5 minutes historical stock prices with volume</div></a></h3><span class=\"span-margin\" data-v-ca18938c>Stock five minutes historical stock prices. <span class=\"label info\">5 Minutes</span> <span class=\"label info-link\">JSON</span> <span class=\"label info-dark\">OHLCV</span></span><pre class=\"href-pre\" data-v-ca18938c>\t\t\t\t\t\t\t\t\t<a href=\"https://financialmodelingprep.com/api/v3/historical-chart/5min/JPYUSD?apikey=YOUR_API_KEY\" target=\"_blank\" class=\"background-link\" data-v-ca18938c>/api/v3/historical-chart/5min/<span class=\"symbol\">JPYUSD</span></a>\n",
      "\t\t\t\t\t\t\t\t</pre><!----></div><!----></div><div class=\"contain-main-block margin-bigger\" style=\"margin-top:0\" data-v-ca18938c><div class=\"contain-block-prettyprint\" data-v-ca18938c><!----><!----><h3 class=\"margin-head\" data-v-ca18938c><!----> <a href=\"/developer/docs/forex-historical-data-api#15-minutes-historical-stock-prices-with-volume\" class=\"contain-header hoover-header\" data-v-ca18938c><div class=\"lower-title\" data-v-ca18938c>15 minutes historical stock prices with volume</div></a></h3><span class=\"span-margin\" data-v-ca18938c>Stock fifteen minutes historical stock prices. <span class=\"label info\">15 Minutes</span> <span class=\"label info-link\">JSON</span> <span class=\"label info-dark\">OHLCV</span></span><pre class=\"href-pre\" data-v-ca18938c>\t\t\t\t\t\t\t\t\t<a href=\"https://financialmodelingprep.com/api/v3/historical-chart/15min/JPYUSD?apikey=YOUR_API_KEY\" target=\"_blank\" class=\"background-link\" data-v-ca18938c>/api/v3/historical-chart/15min/<span class=\"symbol\">JPYUSD</span></a>\n",
      "\t\t\t\t\t\t\t\t</pre><!----></div><!----></div><div class=\"contain-main-block margin-head-top-top-pretty\" style=\"margin-top:0\" data-v-ca18938c><div class=\"contain-block-prettyprint\" data-v-ca18938c><!----><!----><h3 class=\"margin-head\" data-v-ca18938c><!----> <a href=\"/developer/docs/forex-historical-data-api#30-minutes-historical-stock-prices-with-volume\" class=\"contain-header hoover-header\" data-v-ca18938c><div class=\"lower-title\" data-v-ca18938c>30 minutes historical stock prices with volume</div></a></h3><span class=\"span-margin\" data-v-ca18938c>Stock thirty minutes historical stock prices <span class=\"label info\">30 Minutes</span> <span class=\"label info-link\">JSON</span> <span class=\"label info-dark\">OHLCV</span></span><pre class=\"href-pre\" data-v-ca18938c>\t\t\t\t\t\t\t\t\t<a href=\"https://financialmodelingprep.com/api/v3/historical-chart/30min/JPYUSD?apikey=YOUR_API_KEY\" target=\"_blank\" class=\"background-link\" data-v-ca18938c>/api/v3/historical-chart/30min/<span class=\"symbol\">JPYUSD</span></a>\n",
      "\t\t\t\t\t\t\t\t</pre><!----></div><!----></div><div class=\"contain-main-block\" style=\"margin-top:0\" data-v-ca18938c><div class=\"contain-block-prettyprint\" data-v-ca18938c><!----><!----><h3 class=\"margin-head\" data-v-ca18938c><!----> <a href=\"/developer/docs/forex-historical-data-api#Hour-historical-stock-prices-with-volume\" class=\"contain-header hoover-header\" data-v-ca18938c><div class=\"lower-title\" data-v-ca18938c>Hour historical stock prices with volume</div></a></h3><span class=\"span-margin\" data-v-ca18938c>Stock hour historical stock prices <span class=\"label info\">Hour</span> <span class=\"label info-link\">JSON</span> <span class=\"label info-dark\">OHLCV</span></span><pre class=\"href-pre\" data-v-ca18938c>\t\t\t\t\t\t\t\t\t<a href=\"https://financialmodelingprep.com/api/v3/historical-chart/1hour/JPYUSD?apikey=YOUR_API_KEY\" target=\"_blank\" class=\"background-link\" data-v-ca18938c>/api/v3/historical-chart/1hour/<span class=\"symbol\">JPYUSD</span></a>\n",
      "\t\t\t\t\t\t\t\t</pre><!----></div><!----></div><div class=\"contain-main-block\" style=\"margin-top:0\" data-v-ca18938c><div class=\"contain-block-prettyprint\" data-v-ca18938c><!----><!----><h3 class=\"margin-head\" data-v-ca18938c><!----> <a href=\"/developer/docs/forex-historical-data-api#4-Hours-historical-stock-prices-with-volume\" class=\"contain-header hoover-header\" data-v-ca18938c><div class=\"lower-title\" data-v-ca18938c>4 Hours historical stock prices with volume</div></a></h3><span class=\"span-margin\" data-v-ca18938c>Stock four hour historical stock prices <span class=\"label info\">4 Hours</span> <span class=\"label info-link\">JSON</span> <span class=\"label info-dark\">OHLCV</span></span><pre class=\"href-pre\" data-v-ca18938c>\t\t\t\t\t\t\t\t\t<a href=\"https://financialmodelingprep.com/api/v3/historical-chart/4hour/JPYUSD?apikey=YOUR_API_KEY\" target=\"_blank\" class=\"background-link\" data-v-ca18938c>/api/v3/historical-chart/4hour/<span class=\"symbol\">JPYUSD</span></a>\n",
      "\t\t\t\t\t\t\t\t</pre><!----></div><!----></div><div class=\"contain-main-block\" style=\"margin-top:0\" data-v-ca18938c><div class=\"contain-block-prettyprint\" data-v-ca18938c><!----><!----><h3 class=\"margin-head\" data-v-ca18938c><!----> <a href=\"/developer/docs/forex-historical-data-api#Historical-Daily-Prices\" class=\"contain-header hoover-header\" data-v-ca18938c><div class=\"lower-title\" data-v-ca18938c>Historical Daily Prices</div></a></h3><span class=\"span-margin\" data-v-ca18938c>Forex historical prices <span class=\"label success\">Daily</span> <span class=\"label info-link\">JSON</span></span><pre class=\"href-pre\" data-v-ca18938c>\t\t\t\t\t\t\t\t\t<a href=\"https://financialmodelingprep.com/api/v3/historical-price-full/JPYUSD?apikey=YOUR_API_KEY\" target=\"_blank\" class=\"background-link last-href\" data-v-ca18938c>/api/v3/historical-price-full/<span class=\"symbol\">JPYUSD</span></a>\n",
      "\t\t\t\t\t\t\t\t</pre><h3 style=\"border:none;margin-top:20px\" data-v-ca18938c><a href=\"/developer/docs/forex-historical-data-api\" class=\"span-margin hoover-header integration\" data-v-ca18938c><span style=\"color:#ec407a;font-weight:600\" data-v-ca18938c>Example</span> with Javascript, JQuery, VueJS, Angular, JAVA, PHP, NodeJS, Python, Go, Ruby, C#, R, Strest, Rust, Swift and Scala</a></h3></div><!----></div></section><section id=\"Most-of-the-Major-Commodities-(Gold,-Silver,-Oil)\" class=\"section-top min-height-section\" data-v-ca18938c><h2 data-v-ca18938c><a href=\"/developer/docs/commodities-prices-api\" class=\"contain-header hoover-header\" data-v-ca18938c><div class=\"title-head\" data-v-ca18938c><div data-v-ca18938c>Most of the Major Commodities (Gold, Silver, Oil) <svg aria-hidden=\"true\" height=\"12\" width=\"12\" viewBox=\"0 0 16 16\" xmlns=\"http://www.w3.org/2000/svg\" class=\"SVGInline-svg SVGInline--cleaned-svg SVG-svg Icon-svg Icon--arrowRight-svg Icon-color-svg Icon-color--blue-svg\" data-v-ca18938c><path d=\"M12.583 7L7.992 2.409A1 1 0 1 1 9.407.993l6.3 6.3a1 1 0 0 1 0 1.414l-6.3 6.3a1 1 0 0 1-1.415-1.416L12.583 9H1a1 1 0 1 1 0-2z\" fill-rule=\"evenodd\" data-v-ca18938c></path></svg></div></div></a></h2><div class=\"contain-main-block\" style=\"margin-top:0\" data-v-ca18938c><div class=\"contain-block-prettyprint\" data-v-ca18938c><!----><!----><h3 data-v-ca18938c><!----> <a href=\"/developer/docs/commodities-prices-api#Commodities-symbol-List\" class=\"contain-header hoover-header\" data-v-ca18938c><div class=\"lower-title\" data-v-ca18938c>Commodities symbol List</div></a></h3><span class=\"span-margin\" data-v-ca18938c>Commodities available symbols for quotes and historical prices query <span class=\"label success\">Daily</span> <span class=\"label info-link\">JSON</span></span><pre class=\"href-pre\" data-v-ca18938c>\t\t\t\t\t\t\t\t\t<a href=\"https://financialmodelingprep.com/api/v3/symbol/available-commodities?apikey=YOUR_API_KEY\" target=\"_blank\" class=\"background-link\" data-v-ca18938c>/api/v3/symbol/<span class=\"symbol\">available-commodities</span></a>\n",
      "\t\t\t\t\t\t\t\t</pre><!----></div><!----></div><div class=\"contain-main-block margin-head-top-top-pretty\" style=\"margin-top:0\" data-v-ca18938c><div class=\"contain-block-prettyprint\" data-v-ca18938c><!----><!----><!----> <span class=\"span-margin\" data-v-ca18938c>All real-time commodities prices <span class=\"label info\">Real-time</span> <span class=\"label info-link\">JSON</span></span><pre class=\"href-pre\" data-v-ca18938c>\t\t\t\t\t\t\t\t\t<a href=\"https://financialmodelingprep.com/api/v3/quotes/commodity?apikey=YOUR_API_KEY\" target=\"_blank\" class=\"background-link\" data-v-ca18938c>/api/v3/quotes/<span class=\"symbol\">commodity</span></a>\n",
      "\t\t\t\t\t\t\t\t</pre><!----></div><!----></div><div class=\"contain-main-block\" style=\"margin-top:0\" data-v-ca18938c><div class=\"contain-block-prettyprint\" data-v-ca18938c><!----><!----><!----> <span class=\"span-margin\" data-v-ca18938c>Real-time Gold Price <span class=\"label warning\">High Usage</span> <span class=\"label info\">Real-time</span> <span class=\"label info-link\">JSON</span></span><pre class=\"href-pre\" data-v-ca18938c>\t\t\t\t\t\t\t\t\t<a href=\"https://financialmodelingprep.com/api/v3/quote/ZGUSD,CLUSD,HGUSD?apikey=YOUR_API_KEY\" target=\"_blank\" class=\"background-link\" data-v-ca18938c>/api/v3/quote/<span class=\"symbol\">ZGUSD,CLUSD,HGUSD</span></a>\n",
      "\t\t\t\t\t\t\t\t</pre><!----></div><!----></div></section><section id=\"Historical-commodities-prices\" class=\"section-top min-height-section\" data-v-ca18938c><h2 data-v-ca18938c><a href=\"/developer/docs/commodity-historical-price-api\" class=\"contain-header hoover-header\" data-v-ca18938c><div class=\"title-head\" data-v-ca18938c><div data-v-ca18938c>Historical commodities prices <svg aria-hidden=\"true\" height=\"12\" width=\"12\" viewBox=\"0 0 16 16\" xmlns=\"http://www.w3.org/2000/svg\" class=\"SVGInline-svg SVGInline--cleaned-svg SVG-svg Icon-svg Icon--arrowRight-svg Icon-color-svg Icon-color--blue-svg\" data-v-ca18938c><path d=\"M12.583 7L7.992 2.409A1 1 0 1 1 9.407.993l6.3 6.3a1 1 0 0 1 0 1.414l-6.3 6.3a1 1 0 0 1-1.415-1.416L12.583 9H1a1 1 0 1 1 0-2z\" fill-rule=\"evenodd\" data-v-ca18938c></path></svg></div></div></a></h2><div class=\"contain-main-block\" style=\"margin-top:0\" data-v-ca18938c><div class=\"contain-block-prettyprint\" data-v-ca18938c><!----><!----><h3 data-v-ca18938c><!----> <a href=\"/developer/docs/commodity-historical-price-api#1-minute-historical-stock-prices-with-volume\" class=\"contain-header hoover-header\" data-v-ca18938c><div class=\"lower-title\" data-v-ca18938c>1 minute historical stock prices with volume</div></a></h3><span class=\"span-margin\" data-v-ca18938c>Stock one minute historical stock prices <span class=\"label info\">1 Minute</span> <span class=\"label info-link\">JSON</span> <span class=\"label info-dark\">OHLCV</span></span><pre class=\"href-pre\" data-v-ca18938c>\t\t\t\t\t\t\t\t\t<a href=\"https://financialmodelingprep.com/api/v3/historical-chart/1min/ZGUSD?apikey=YOUR_API_KEY\" target=\"_blank\" class=\"background-link\" data-v-ca18938c>/api/v3/historical-chart/1min/<span class=\"symbol\">ZGUSD</span></a>\n",
      "\t\t\t\t\t\t\t\t</pre><!----></div><!----></div><div class=\"contain-main-block margin-head-top-top-pretty\" style=\"margin-top:0\" data-v-ca18938c><div class=\"contain-block-prettyprint\" data-v-ca18938c><!----><!----><h3 class=\"margin-head\" data-v-ca18938c><!----> <a href=\"/developer/docs/commodity-historical-price-api#5-minutes-historical-stock-prices-with--volume\" class=\"contain-header hoover-header\" data-v-ca18938c><div class=\"lower-title\" data-v-ca18938c>5 minutes historical stock prices with volume</div></a></h3><span class=\"span-margin\" data-v-ca18938c>Stock five minutes historical stock prices <span class=\"label info\">5 Minutes</span> <span class=\"label info-link\">JSON</span> <span class=\"label info-dark\">OHLCV</span></span><pre class=\"href-pre\" data-v-ca18938c>\t\t\t\t\t\t\t\t\t<a href=\"https://financialmodelingprep.com/api/v3/historical-chart/5min/ZGUSD?apikey=YOUR_API_KEY\" target=\"_blank\" class=\"background-link\" data-v-ca18938c>/api/v3/historical-chart/5min/<span class=\"symbol\">ZGUSD</span></a>\n",
      "\t\t\t\t\t\t\t\t</pre><!----></div><!----></div><div class=\"contain-main-block\" style=\"margin-top:0\" data-v-ca18938c><div class=\"contain-block-prettyprint\" data-v-ca18938c><!----><!----><h3 class=\"margin-head\" data-v-ca18938c><!----> <a href=\"/developer/docs/commodity-historical-price-api#15-minutes-historical-stock-prices-with-volume\" class=\"contain-header hoover-header\" data-v-ca18938c><div class=\"lower-title\" data-v-ca18938c>15 minutes historical stock prices with volume</div></a></h3><span class=\"span-margin\" data-v-ca18938c>Stock fifteen minutes historical stock prices <span class=\"label info\">15 Minutes</span> <span class=\"label info-link\">JSON</span> <span class=\"label info-dark\">OHLCV</span></span><pre class=\"href-pre\" data-v-ca18938c>\t\t\t\t\t\t\t\t\t<a href=\"https://financialmodelingprep.com/api/v3/historical-chart/15min/ZGUSD?apikey=YOUR_API_KEY\" target=\"_blank\" class=\"background-link\" data-v-ca18938c>/api/v3/historical-chart/15min/<span class=\"symbol\">ZGUSD</span></a>\n",
      "\t\t\t\t\t\t\t\t</pre><!----></div><!----></div><div class=\"contain-main-block\" style=\"margin-top:0\" data-v-ca18938c><div class=\"contain-block-prettyprint\" data-v-ca18938c><!----><!----><h3 class=\"margin-head\" data-v-ca18938c><!----> <a href=\"/developer/docs/commodity-historical-price-api#30-minutes-historical-stock-prices-with-volume\" class=\"contain-header hoover-header\" data-v-ca18938c><div class=\"lower-title\" data-v-ca18938c>30 minutes historical stock prices with volume</div></a></h3><span class=\"span-margin\" data-v-ca18938c>Stock thirty minutes historical stock prices <span class=\"label info\">30 Minutes</span> <span class=\"label info-link\">JSON</span> <span class=\"label info-dark\">OHLCV</span></span><pre class=\"href-pre\" data-v-ca18938c>\t\t\t\t\t\t\t\t\t<a href=\"https://financialmodelingprep.com/api/v3/historical-chart/30min/ZGUSD?apikey=YOUR_API_KEY\" target=\"_blank\" class=\"background-link\" data-v-ca18938c>/api/v3/historical-chart/30min/<span class=\"symbol\">ZGUSD</span></a>\n",
      "\t\t\t\t\t\t\t\t</pre><!----></div><!----></div><div class=\"contain-main-block\" style=\"margin-top:0\" data-v-ca18938c><div class=\"contain-block-prettyprint\" data-v-ca18938c><!----><!----><h3 class=\"margin-head\" data-v-ca18938c><!----> <a href=\"/developer/docs/commodity-historical-price-api#Hour-historical-stock-prices-with-volume\" class=\"contain-header hoover-header\" data-v-ca18938c><div class=\"lower-title\" data-v-ca18938c>Hour historical stock prices with volume</div></a></h3><span class=\"span-margin\" data-v-ca18938c>Stock hour historical stock prices <span class=\"label info\">Hour</span> <span class=\"label info-link\">JSON</span> <span class=\"label info-dark\">OHLCV</span></span><pre class=\"href-pre\" data-v-ca18938c>\t\t\t\t\t\t\t\t\t<a href=\"https://financialmodelingprep.com/api/v3/historical-chart/1hour/ZGUSD?apikey=YOUR_API_KEY\" target=\"_blank\" class=\"background-link\" data-v-ca18938c>/api/v3/historical-chart/1hour/<span class=\"symbol\">ZGUSD</span></a>\n",
      "\t\t\t\t\t\t\t\t</pre><!----></div><!----></div><div class=\"contain-main-block\" style=\"margin-top:0\" data-v-ca18938c><div class=\"contain-block-prettyprint\" data-v-ca18938c><!----><!----><h3 class=\"margin-head\" data-v-ca18938c><!----> <a href=\"/developer/docs/commodity-historical-price-api#4-Hours-historical-stock-prices-with-volume\" class=\"contain-header hoover-header\" data-v-ca18938c><div class=\"lower-title\" data-v-ca18938c>4 Hours historical stock prices with volume</div></a></h3><span class=\"span-margin\" data-v-ca18938c>Stock four hours historical stock prices <span class=\"label info\">4 Hours</span> <span class=\"label info-link\">JSON</span> <span class=\"label info-dark\">OHLCV</span></span><pre class=\"href-pre\" data-v-ca18938c>\t\t\t\t\t\t\t\t\t<a href=\"https://financialmodelingprep.com/api/v3/historical-chart/4hour/ZGUSD?apikey=YOUR_API_KEY\" target=\"_blank\" class=\"background-link\" data-v-ca18938c>/api/v3/historical-chart/4hour/<span class=\"symbol\">ZGUSD</span></a>\n",
      "\t\t\t\t\t\t\t\t</pre><!----></div><!----></div><div class=\"contain-main-block\" style=\"margin-top:0\" data-v-ca18938c><div class=\"contain-block-prettyprint\" data-v-ca18938c><!----><!----><h3 class=\"margin-head\" data-v-ca18938c><!----> <a href=\"/developer/docs/commodity-historical-price-api#Historical-Daily-Prices\" class=\"contain-header hoover-header\" data-v-ca18938c><div class=\"lower-title\" data-v-ca18938c>Historical Daily Prices</div></a></h3><span class=\"span-margin\" data-v-ca18938c>Commodities historical prices for Gold <span class=\"label success\">Daily</span> <span class=\"label info-link\">JSON</span></span><pre class=\"href-pre\" data-v-ca18938c>\t\t\t\t\t\t\t\t\t<a href=\"https://financialmodelingprep.com/api/v3/historical-price-full/ZGUSD?apikey=YOUR_API_KEY\" target=\"_blank\" class=\"background-link\" data-v-ca18938c>/api/v3/historical-price-full/<span class=\"symbol\">ZGUSD</span></a>\n",
      "\t\t\t\t\t\t\t\t</pre><!----></div><!----></div></section></div></div></div></div><footer class=\"footer\" data-v-ef4002a4 data-v-ca18938c><div class=\"footer__social\" data-v-ef4002a4><div class=\"footer__logo\" data-v-ef4002a4><span data-v-ef4002a4>FMP</span><h5 data-v-ef4002a4>API</h5></div></div><div class=\"footer__menu\" data-v-ef4002a4><ul data-v-ef4002a4><li class=\"heading\" data-v-ef4002a4>FMP</li><li data-v-ef4002a4><a href=\"/\" data-v-ef4002a4>Home</a></li><li data-v-ef4002a4><a href=\"/privacy-policy\" data-v-ef4002a4>Privacy Policy</a></li><li data-v-ef4002a4><a href=\"/terms-of-service\" data-v-ef4002a4>Terms of Service</a></li><li data-v-ef4002a4><a href=\"https://fmpcloud.io/\" data-v-ef4002a4>FmpCloud.io</a></li><li data-v-ef4002a4><a href=\"https://Financestime.com/\" data-v-ef4002a4>Financestime.com</a></li><li data-v-ef4002a4><a href=\"/contact\" data-v-ef4002a4>Contact Us</a></li></ul><ul data-v-ef4002a4><li class=\"heading\" data-v-ef4002a4>API</li><li data-v-ef4002a4><a href=\"/developer\" data-v-ef4002a4>Home</a></li><li data-v-ef4002a4><a href=\"/developer/docs\" data-v-ef4002a4>Documentation</a></li><li data-v-ef4002a4><a href=\"/developer/docs/pricing\" data-v-ef4002a4>Pricing</a></li><li data-v-ef4002a4><a href=\"/developer/docs/resources\" data-v-ef4002a4>Resources</a></li><li data-v-ef4002a4><a href=\"/developer/docs/changelog\" data-v-ef4002a4>Changelog</a></li><li data-v-ef4002a4><a href=\"/developer/docs/formula\" data-v-ef4002a4>Formulas</a></li><li data-v-ef4002a4><a href=\"/developer/docs/status\" data-v-ef4002a4>Status</a></li><li data-v-ef4002a4><a href=\"/developer/docs/terms-of-service\" data-v-ef4002a4>Terms of Service</a></li><li data-v-ef4002a4><a href=\"/developer/docs/blog\" data-v-ef4002a4>Blog</a></li></ul></div><p data-v-ef4002a4>Financial Modeling Prep API provides real time stock price, company financial statements, major index prices, stock historical data, forex real time rate and cryptocurrencies. Financial Modeling Prep stock price API is in real time, the company reports can be found in quarter or annual format, and goes up to 30 years back in history.</p><div class=\"footer__bottom\" data-v-ef4002a4><h5 class=\"footer__copy\" data-v-ef4002a4>2017-2023 Â© Financial Modeling Prep</h5><div class=\"footer__icons\" data-v-ef4002a4><a target=\"_blank\" href=\"https://twitter.com/financial_mod\" data-v-ef4002a4><svg xmlns=\"http://www.w3.org/2000/svg\" viewBox=\"0 0 24 24\" fill=\"none\" stroke=\"currentColor\" stroke-width=\"2\" stroke-linecap=\"round\" stroke-linejoin=\"round\" data-v-ef4002a4><path d=\"M23 3a10.9 10.9 0 0 1-3.14 1.53 4.48 4.48 0 0 0-7.86 3v1A10.66 10.66 0 0 1 3 4s-4 9 5 13a11.64 11.64 0 0 1-7 2c9 5 20 0 20-11.5a4.5 4.5 0 0 0-.08-.83A7.72 7.72 0 0 0 23 3z\" data-v-ef4002a4></path></svg></a><a target=\"_blank\" href=\"https://www.facebook.com/financialmodelingprep/\" data-v-ef4002a4><svg xmlns=\"http://www.w3.org/2000/svg\" width=\"24\" height=\"24\" viewBox=\"0 0 24 24\" fill=\"none\" stroke=\"currentColor\" stroke-width=\"2\" stroke-linecap=\"round\" stroke-linejoin=\"round\" data-v-ef4002a4><path d=\"M18 2h-3a5 5 0 0 0-5 5v3H7v4h3v8h4v-8h3l1-4h-4V7a1 1 0 0 1 1-1h3z\" data-v-ef4002a4></path></svg></a><a target=\"_blank\" href=\"https://www.instagram.com/financialmodelingprep/\" data-v-ef4002a4><svg xmlns=\"http://www.w3.org/2000/svg\" width=\"24\" height=\"24\" viewBox=\"0 0 24 24\" fill=\"none\" stroke=\"currentColor\" stroke-width=\"2\" stroke-linecap=\"round\" stroke-linejoin=\"round\" data-v-ef4002a4><rect x=\"2\" y=\"2\" width=\"20\" height=\"20\" rx=\"5\" ry=\"5\" data-v-ef4002a4></rect><path d=\"M16 11.37A4 4 0 1 1 12.63 8 4 4 0 0 1 16 11.37z\" data-v-ef4002a4></path><line x1=\"17.5\" y1=\"6.5\" x2=\"17.51\" y2=\"6.5\" data-v-ef4002a4></line></svg></a><a target=\"_blank\" href=\"https://www.linkedin.com/company/financial-modeling-prep\" data-v-ef4002a4><svg xmlns=\"http://www.w3.org/2000/svg\" viewBox=\"0 0 24 24\" fill=\"none\" stroke=\"currentColor\" stroke-width=\"2\" stroke-linecap=\"round\" stroke-linejoin=\"round\" data-v-ef4002a4><path d=\"M16 8a6 6 0 0 1 6 6v7h-4v-7a2 2 0 0 0-2-2 2 2 0 0 0-2 2v7h-4v-7a6 6 0 0 1 6-6z\" data-v-ef4002a4></path><rect x=\"2\" y=\"9\" width=\"4\" height=\"12\" data-v-ef4002a4></rect><circle cx=\"4\" cy=\"4\" r=\"2\" data-v-ef4002a4></circle></svg></a></div></div></footer></div></div></div></div><script>window.__NUXT__=function(e){return{layout:\"default\",data:[{}],fetch:{},error:e,state:{userStore:e,dataNew:{},endpointNew:{}},serverRendered:!0,routePath:\"/developer/docs\",config:{_app:{basePath:\"/\",assetsPath:\"/nuxt/\",cdnURL:e}}}}(null)</script><script src=\"/nuxt/2747e0d.js\" defer></script><script src=\"/nuxt/b79b68a.js\" defer></script><script src=\"/nuxt/c7d7e25.js\" defer></script><script src=\"/nuxt/256da5c.js\" defer></script><script src=\"/nuxt/1b72826.js\" defer></script></body></html>\n"
     ]
    }
   ],
   "source": [
    "import requests\n",
    "\n",
    "r = requests.get(\"https://financialmodelingprep.com/developer/docs\")\n",
    "print(r.text)"
   ]
  },
  {
   "cell_type": "markdown",
   "id": "9c52bd2d",
   "metadata": {},
   "source": [
    "The `r.text` attribute is used to get the response's content in text format. We can also use `r.content` to get the response in bytes format.\n",
    "\n",
    "### 39.2 Handling HTTP Errors\n",
    "When we send a request, there is always the possibility of an error occurring. The requests module raises an exception if the HTTP status code indicates an error. We can handle these errors using the raise_for_status() method, which raises an HTTPError if an HTTP error occurred."
   ]
  },
  {
   "cell_type": "code",
   "execution_count": 30,
   "id": "2763e536",
   "metadata": {},
   "outputs": [],
   "source": [
    "import requests\n",
    "\n",
    "r = requests.get(\"https://financialmodelingprep.com/api/v3/actives\")\n",
    "r.raise_for_status()"
   ]
  },
  {
   "cell_type": "markdown",
   "id": "578021e0",
   "metadata": {},
   "source": [
    "The `requests` module is a powerful tool for making HTTP requests in Python. It provides a simple API and supports many features that make it easier for developers to work with HTTP requests. By using this module, we can easily handle HTTP requests and responses in Python."
   ]
  },
  {
   "cell_type": "markdown",
   "id": "199e85f5",
   "metadata": {},
   "source": [
    "## 40. Working with JSON in Python\n",
    "JSON (JavaScript Object Notation) is a lightweight data interchange format that is easy for humans to read and write and easy for machines to parse and generate. The JSON module in Python provides a simple way to encode and decode data in JSON format.\n",
    "\n",
    "Here's an example of how to use the JSON module in Python:"
   ]
  },
  {
   "cell_type": "code",
   "execution_count": 31,
   "id": "b476b49b",
   "metadata": {},
   "outputs": [
    {
     "name": "stdout",
     "output_type": "stream",
     "text": [
      "John\n",
      "30\n",
      "New York\n",
      "{\"name\": \"John\", \"age\": 30, \"city\": \"New York\"}\n"
     ]
    }
   ],
   "source": [
    "import json\n",
    "\n",
    "# JSON data as a string\n",
    "data = '{\"name\": \"John\", \"age\": 30, \"city\": \"New York\"}'\n",
    "\n",
    "# Parse JSON data into a Python dictionary\n",
    "parsed_data = json.loads(data)\n",
    "\n",
    "# Access values from the dictionary\n",
    "print(parsed_data[\"name\"])  # Output: John\n",
    "print(parsed_data[\"age\"])   # Output: 30\n",
    "print(parsed_data[\"city\"])  # Output: New York\n",
    "\n",
    "# Create Python data\n",
    "python_data = {\"name\": \"John\", \"age\": 30, \"city\": \"New York\"}\n",
    "\n",
    "# Convert Python data to JSON format\n",
    "json_data = json.dumps(python_data)\n",
    "\n",
    "# Display JSON data\n",
    "print(json_data)  # Output: {\"name\": \"John\", \"age\": 30, \"city\": \"New York\"}"
   ]
  },
  {
   "cell_type": "markdown",
   "id": "ca696eaf",
   "metadata": {},
   "source": [
    "In this example, we first import the JSON module. Then, we define a string variable `data` containing a JSON-formatted string. We parse the string using `json.loads()`, which converts the string into a Python dictionary `parsed_data`. We can access the values in the dictionary using the keys.\n",
    "\n",
    "Next, we create a Python dictionary `python_data` and use the `json.dumps()` method to convert it into a JSON-formatted string `json_data`. We display the JSON data to verify that it has been correctly formatted.\n",
    "\n",
    "JSON is widely used for exchanging data between a client and a server. Python's `requests` module, which we looked at earlier, can handle JSON-formatted responses from web APIs, and the `json` module can be used to parse and process the data."
   ]
  },
  {
   "cell_type": "markdown",
   "id": "d0d43289",
   "metadata": {},
   "source": [
    "## 41. Pickling and Unpickling in Python\n",
    "The `pickle` module in Python is used for object serialization and deserialization. Serialization is the process of converting an object into a stream of bytes, which can be stored on a file or transmitted over a network. Deserialization is the opposite process, which involves recreating the original object from the serialized bytes.\n",
    "\n",
    "### 41.1 Methods in Pickle module\n",
    "The pickle module provides two main methods: `dump()` and `load()`. The `dump()` method serializes an object and writes it to a file-like object, while the `load()` method reads a serialized object from a file-like object and returns the corresponding Python object.\n",
    "\n",
    "#### Example\n",
    "Here is an example demonstrating how to pickle and unpickle a Python object."
   ]
  },
  {
   "cell_type": "code",
   "execution_count": 32,
   "id": "e144616e",
   "metadata": {},
   "outputs": [
    {
     "name": "stdout",
     "output_type": "stream",
     "text": [
      "{'name': 'John', 'age': 30, 'city': 'New York'}\n"
     ]
    }
   ],
   "source": [
    "import pickle\n",
    "\n",
    "# Pickling a python object\n",
    "my_dict = {\"name\": \"John\", \"age\": 30, \"city\": \"New York\"}\n",
    "file = \"mydata.pkl\"\n",
    "with open(file, 'wb') as f:\n",
    "    pickle.dump(my_dict, f)\n",
    "\n",
    "# Unpickling the object\n",
    "with open(file, 'rb') as f:\n",
    "    my_data = pickle.load(f)\n",
    "print(my_data)"
   ]
  },
  {
   "cell_type": "markdown",
   "id": "4bb631bd",
   "metadata": {},
   "source": [
    "In this example, we first create a dictionary `my_dict` and pickle it to a file called `mydata.pkl`. The `with` statement is used to open the file in binary mode for pickling. We use the `dump()` method of the `pickle` module to write the dictionary to the file.\n",
    "\n",
    "Next, we unpickle the dictionary from the file using the `load()` method. Again, we use the `with` statement to open the file in binary mode for unpickling. The unpickled dictionary is stored in the variable `my_data`. We print the dictionary to confirm that the unpickling was successful.\n",
    "\n",
    "Note that when we pickle an object, its type is also preserved. So when we unpickle the object, we get the same type back.\n",
    "\n",
    "### 41.2 Security considerations\n",
    "It is important to note that the `pickle` module is not secure and should not be used to deserialize untrusted data from an untrusted source, as it can execute arbitrary code."
   ]
  },
  {
   "cell_type": "markdown",
   "id": "44b68c78",
   "metadata": {},
   "source": [
    "## 42. Regular Expression in Python\n",
    "Regular expressions (regex or regexp) are patterns used to match and manipulate text. They are widely used in programming languages like Python, JavaScript, and Perl for searching, replacing, and validating textual data. A regular expression is a sequence of characters that define a search pattern. It consists of a combination of special characters and normal characters, which are used to form a search pattern. The regular expression engine matches this pattern against text and provides various operations like search, replace, and splitting of text.\n",
    "\n",
    "### 42.1 Basic Rules of Regular Expressions\n",
    "1. Meta characters are special characters that have a unique meaning in regular expressions. These characters are used to create complex patterns that can match various types of text.\n",
    "\n",
    "2. In Python, a raw string is a string literal that is prefixed with an 'r' or 'R'. When a string is declared as a raw string, any escape sequences in the string are ignored, and the backslash character is treated as a regular character.\n",
    "\n",
    "3. Base rule of using a regular expression, we always use raw strings.\n",
    "\n",
    "### 42.2 Meta Characters\n",
    "Here are some of the commonly used meta characters in regular expressions:\n",
    "\n",
    "- . (dot) - matches any single character except newline.\n",
    "- (asterisk) - matches zero or more occurrences of the previous character.\n",
    "- (plus) - matches one or more occurrences of the previous character.\n",
    "- ? (question mark) - matches zero or one occurrence of the previous character.\n",
    "- ^ (caret) - matches the beginning of the string.\n",
    "- $ (dollar) - matches the end of the string.\n",
    "- [] (square brackets) - matches any one of the characters inside the brackets.\n",
    "- | (pipe) - matches either the expression before or after the pipe.\n",
    "- () (parentheses) - creates a group and captures the matched text.\n",
    "- \\ (backslash) - escapes the following character and matches it literally"
   ]
  },
  {
   "cell_type": "markdown",
   "id": "fdedd84a",
   "metadata": {},
   "source": [
    "### 42.3 Special Sequences\n",
    "Special sequences in regular expression are patterns that match a specific character or set of characters. Here are some examples of special sequences in Python's regular expression module:\n",
    "\n",
    "- \\d - Matches any digit (0-9)\n",
    "- \\D - Matches any non-digit character\n",
    "- \\s - Matches any whitespace character (space, tab, newline, etc.)\n",
    "- \\S - Matches any non-whitespace character\n",
    "- \\w - Matches any alphanumeric character (a-z, A-Z, 0-9, and underscore)\n",
    "- \\W - Matches any non-alphanumeric character\n",
    "- \\b - Matches the empty string at the beginning or end of a word\n",
    "- \\B - Matches the empty string not at the beginning or end of a word\n",
    "\n",
    "#### Example\n",
    "Here is an example of how to use regular expressions in Python:"
   ]
  },
  {
   "cell_type": "code",
   "execution_count": 33,
   "id": "3f33e14e",
   "metadata": {},
   "outputs": [
    {
     "name": "stdout",
     "output_type": "stream",
     "text": [
      "Tata\n"
     ]
    }
   ],
   "source": [
    "import re\n",
    "\n",
    "# Create a raw string pattern\n",
    "pattern = re.compile(r'Tata')\n",
    "\n",
    "# Search for the pattern in a string\n",
    "string = 'Tata Sons, North America'\n",
    "match = pattern.search(string)\n",
    "\n",
    "# Print the match\n",
    "print(match.group(0))"
   ]
  },
  {
   "cell_type": "markdown",
   "id": "088d3b99",
   "metadata": {},
   "source": [
    "In this example, we create a raw string pattern using `re.compile()`, search for the pattern in a string using `pattern.search()`, and print the matched text using `match.group(0)`.\n",
    "\n",
    "Note: Please use the above example as a reference and create your own code for the slide instead of directly using this code."
   ]
  },
  {
   "cell_type": "markdown",
   "id": "d2c2d39b",
   "metadata": {},
   "source": [
    "## 43. Converting Python code to an executable (.exe) file in Windows\n",
    "There are times when we may need to distribute our Python code to users who may not have Python installed on their system. In such cases, we can create an executable file (.exe) that can be run on any Windows machine without the need for Python installation. In this tutorial, we will learn how to convert a Python code to an executable file using Pyinstaller.\n",
    "\n",
    "### 43.1 Pyinstaller\n",
    "Pyinstaller is a popular tool used to package Python applications into stand-alone executables. It works by analyzing the code and its dependencies and packaging everything into a single file or a folder with all the necessary files.\n",
    "\n",
    "### 43.2 Steps to create an executable file\n",
    "1. Open the command prompt and navigate to the folder where you have saved your Python code.\n",
    "\n",
    "2. Install Pyinstaller by running the following command:"
   ]
  },
  {
   "cell_type": "raw",
   "id": "a96e47a3",
   "metadata": {},
   "source": [
    "pip install pyinstaller"
   ]
  },
  {
   "cell_type": "markdown",
   "id": "052d1713",
   "metadata": {},
   "source": [
    "3. Create the executable file by running the following command:"
   ]
  },
  {
   "cell_type": "raw",
   "id": "807c1b73",
   "metadata": {},
   "source": [
    "pyinstaller --onefile your_script_name.py"
   ]
  },
  {
   "cell_type": "markdown",
   "id": "e1623ec9",
   "metadata": {},
   "source": [
    "This will create a single executable file in the \"dist\" folder of your current directory.\n",
    "\n",
    "4. You can also create an executable file with all the necessary files in a folder by running the following command:"
   ]
  },
  {
   "cell_type": "raw",
   "id": "a900c08a",
   "metadata": {},
   "source": [
    "pyinstaller your_script_name.py"
   ]
  },
  {
   "cell_type": "markdown",
   "id": "c1e7893e",
   "metadata": {},
   "source": [
    "This will create a folder with the same name as your script in the \"dist\" folder of your current directory.\n",
    "\n",
    "\n",
    "Converting a Python code to an executable file makes it easy to distribute and share with others who may not have Python installed on their system. Pyinstaller is a simple and effective tool that can help you package your Python code into a stand-alone executable."
   ]
  },
  {
   "cell_type": "markdown",
   "id": "357a61bb",
   "metadata": {},
   "source": [
    "## 44. Handling Exceptions in Python\n",
    "While programming in any language, it is important to handle any errors that may occur during runtime. Python provides the `try` and `except` blocks to handle these exceptions. The `try` block contains the code that may raise an exception while the `except` block contains the code that handles the exception. In this slide, we will look at how we can use the `try` and `except` blocks to handle exceptions in Python.\n",
    "\n",
    "#### Example 1: Using Raise\n",
    "In this example, we ask the user to input their name. If the user enters a numeric value, we use the `raise` keyword to raise an exception, which stops the execution of the program and displays the error message."
   ]
  },
  {
   "cell_type": "code",
   "execution_count": 34,
   "id": "35f9205f",
   "metadata": {},
   "outputs": [
    {
     "name": "stdout",
     "output_type": "stream",
     "text": [
      "What is your name? parth\n"
     ]
    }
   ],
   "source": [
    "name = input(\"What is your name? \")\n",
    "\n",
    "if name.isnumeric():\n",
    "    raise Exception(\"Numbers are not allowed as name\")"
   ]
  },
  {
   "cell_type": "markdown",
   "id": "d9557a72",
   "metadata": {},
   "source": [
    "#### Example 2: Handling Multiple Exceptions\n",
    "In this example, we ask the user to input their name and try to print an undefined variable `d`. Since `d` is not defined, Python will raise a `NameError`. We use the `try` and `except` blocks to handle this exception. If the user's name is \"Harry\", we raise a `ValueError` with a custom error message. If the exception is not a `NameError`, we simply print the error message."
   ]
  },
  {
   "cell_type": "code",
   "execution_count": 35,
   "id": "9706f3f0",
   "metadata": {},
   "outputs": [
    {
     "name": "stdout",
     "output_type": "stream",
     "text": [
      "Please enter your name: 566\n",
      "name 'd' is not defined\n"
     ]
    }
   ],
   "source": [
    "name = input(\"Please enter your name: \")\n",
    "\n",
    "try:\n",
    "    print(d)\n",
    "except NameError as e:\n",
    "    if name == \"Harry\":\n",
    "        raise ValueError(\"Harry is blocked. He is not allowed by the company.\")\n",
    "    else:\n",
    "        print(e)"
   ]
  },
  {
   "cell_type": "markdown",
   "id": "06d320ee",
   "metadata": {},
   "source": [
    "## 45. Understanding the difference between `==` and `is` operators in Python\n",
    "When working with Python, you may come across the need to compare objects for equality or reference. The `==` operator and the `is` operator are used for this purpose, but they have different meanings. In this notebook, we will discuss the difference between these two operators.\n",
    "\n",
    "### 45.1 Theory\n",
    "The `is` operator checks whether two objects are the same object in memory. In other words, it checks if two objects have the same memory address. It returns True if the objects have the same memory address and False otherwise.\n",
    "\n",
    "On the other hand, the `==` operator checks whether two objects have the same value. In other words, it checks if two objects are equal. It returns True if the objects are equal and False otherwise.\n",
    "\n",
    "#### Example"
   ]
  },
  {
   "cell_type": "code",
   "execution_count": 36,
   "id": "dbbe1384",
   "metadata": {},
   "outputs": [
    {
     "name": "stdout",
     "output_type": "stream",
     "text": [
      "True\n",
      "False\n",
      "True\n"
     ]
    }
   ],
   "source": [
    "# Defining two lists with the same values\n",
    "list1 = [1, 2, 3]\n",
    "list2 = [1, 2, 3]\n",
    "\n",
    "# Using == operator to compare the lists\n",
    "print(list1 == list2)  # Output: True\n",
    "\n",
    "# Using is operator to compare the lists\n",
    "print(list1 is list2)  # Output: False\n",
    "\n",
    "# Assigning list2 to list1 variable\n",
    "list1 = list2\n",
    "\n",
    "# Using is operator to compare the lists after assigning\n",
    "print(list1 is list2)  # Output: True"
   ]
  },
  {
   "cell_type": "markdown",
   "id": "eb17e872",
   "metadata": {},
   "source": [
    "In the above example, we have defined two lists `list1` and `list2` with the same values. When we use the `==` operator to compare the lists, it returns True because both lists have the same values. However, when we use the `is` operator to compare the lists, it returns False because they are two different objects with different memory addresses.\n",
    "\n",
    "After assigning `list2` to `list1`, we use the `is` operator to compare the lists again. This time, it returns True because both variables refer to the same object in memory."
   ]
  },
  {
   "cell_type": "markdown",
   "id": "26795d5d",
   "metadata": {},
   "source": [
    "## 46. Creating Command Line Utilities with Python\n",
    "\n",
    "Command-line utilities are software programs that can be executed in a command-line interface (CLI) environment to perform various tasks or operations. They receive input and provide output through a text-based interface, and they can be executed from a command prompt or terminal window on various operating systems.\n",
    "\n",
    "Python provides a powerful module called argparse for creating command-line utilities with ease. The argparse module makes it easy to write user-friendly command-line interfaces. It also automatically generates help and usage messages and handles errors that occur when users provide invalid arguments.\n",
    "\n",
    "In this example, we will create a command-line utility that can perform arithmetic operations on two numbers. We will use argparse to parse the command-line arguments, and we will use sys to write the output to the console.\n",
    "\n"
   ]
  },
  {
   "cell_type": "code",
   "execution_count": 37,
   "id": "305b13c0",
   "metadata": {},
   "outputs": [
    {
     "name": "stderr",
     "output_type": "stream",
     "text": [
      "usage: ipykernel_launcher.py [-h] [--x X] [--y Y] [--operation OPERATION]\n",
      "ipykernel_launcher.py: error: unrecognized arguments: -f C:\\Users\\ps241\\AppData\\Roaming\\jupyter\\runtime\\kernel-b1d90f88-cb94-42dd-b6d6-f78c82a39481.json\n"
     ]
    },
    {
     "ename": "SystemExit",
     "evalue": "2",
     "output_type": "error",
     "traceback": [
      "An exception has occurred, use %tb to see the full traceback.\n",
      "\u001b[1;31mSystemExit\u001b[0m\u001b[1;31m:\u001b[0m 2\n"
     ]
    },
    {
     "name": "stderr",
     "output_type": "stream",
     "text": [
      "C:\\Users\\ps241\\anaconda3\\lib\\site-packages\\IPython\\core\\interactiveshell.py:3468: UserWarning: To exit: use 'exit', 'quit', or Ctrl-D.\n",
      "  warn(\"To exit: use 'exit', 'quit', or Ctrl-D.\", stacklevel=1)\n"
     ]
    }
   ],
   "source": [
    "import argparse\n",
    "import sys\n",
    "\n",
    "def calc(args):\n",
    "    if args.operation == 'add':\n",
    "        return args.x + args.y\n",
    "    elif args.operation == 'mul':\n",
    "        return args.x * args.y\n",
    "    elif args.operation == 'sub':\n",
    "        return args.x - args.y\n",
    "    elif args.operation == 'div':\n",
    "        return args.x / args.y\n",
    "    else:\n",
    "        return 'Invalid operation'\n",
    "\n",
    "if __name__ == '__main__':\n",
    "    parser = argparse.ArgumentParser(description='Arithmetic operations on two numbers.')\n",
    "    parser.add_argument('--x', type=float, default=1.0, help='First number')\n",
    "    parser.add_argument('--y', type=float, default=1.0, help='Second number')\n",
    "    parser.add_argument('--operation', type=str, default='add', help='Operation to perform')\n",
    "    args = parser.parse_args()\n",
    "\n",
    "    result = calc(args)\n",
    "    sys.stdout.write(str(result))\n"
   ]
  },
  {
   "cell_type": "markdown",
   "id": "e7ef14a6",
   "metadata": {},
   "source": [
    "In this code, we define a function called calc that takes an object of arguments and performs arithmetic operations based on the value of the operation argument. We define the parser object by using the ArgumentParser class and add three arguments using the add_argument method.\n",
    "\n",
    "We then parse the arguments using the parse_args method of the parser object, which returns an object containing the argument values. Finally, we call the calc function with the arguments object and write the output to the console using the stdout.write method of the sys module.\n",
    "\n",
    "To use this command-line utility, open the command prompt or terminal window and navigate to the directory where the Python file is saved. Then type the following command:"
   ]
  },
  {
   "cell_type": "raw",
   "id": "117c0fc5",
   "metadata": {},
   "source": [
    "python <file_name>.py --x <value1> --y <value2> --operation <operation>"
   ]
  },
  {
   "cell_type": "markdown",
   "id": "7c8e7501",
   "metadata": {},
   "source": [
    "Replace `<file_name>` with the name of the Python file, `<value1>` and `<value2>` with the values of the first and second number arguments, and `<operation>` with the operation to perform (add, sub, mul, or div)."
   ]
  },
  {
   "cell_type": "markdown",
   "id": "f3d5f847",
   "metadata": {},
   "source": [
    "## 47. Creating Python Packages with setuptools\n",
    "Python packages are a way of organizing and distributing Python code. They allow developers to share code with others, reuse their own code, and make it easier to manage dependencies. One popular tool for creating Python packages is setuptools.\n",
    "\n",
    "Setuptools is a collection of enhancements to the Python distutils package, which is used to build and distribute Python packages. It provides several features, such as easy_install, which simplifies the process of installing packages from the Python Package Index (PyPI), and the ability to create source and binary distributions of packages.\n",
    "\n",
    "To create a Python package using setuptools, you need to follow the steps below:\n",
    "1. Create a new folder for your package, with a suggested name of `package_name`.\n",
    "2. Inside this folder, create another folder with the same name as the package.\n",
    "3. Create a `LICENSE` file and a `README.md` file.\n",
    "4. Inside the package folder, create an `__init__.py` file. This file is required for Python to recognize the directory as a package.\n",
    "5. Create any necessary subdirectories for your package and add additional Python files as needed.\n",
    "6. In the root of the package folder, create a `setup.py` file.\n",
    "7. In the `setup.py` file, import the `setup` function from the `setuptools` package using `from setuptools import setup`.\n",
    "8. Set the package name and version in the `setup.py` file using the setup() function.\n",
    "9. Specify any package dependencies using the `install_requires` parameter of the `setup()` function.\n",
    "10. Use `python setup.py sdist bdist_wheel` command in the terminal to create a source distribution and a wheel distribution of your package.\n",
    "11. You can now upload your package to PyPI, share it with others, or install it locally using `pip`.\n",
    "\n",
    "\n",
    "Here's an example code snippet for the `setup.py` file:"
   ]
  },
  {
   "cell_type": "code",
   "execution_count": null,
   "id": "ad123889",
   "metadata": {},
   "outputs": [],
   "source": [
    "from setuptools import setup\n",
    "\n",
    "setup(\n",
    "    name='package_name',\n",
    "    version='0.1',\n",
    "    description='Description of your package',\n",
    "    long_description='Long description of your package',\n",
    "    author='Your Name',\n",
    "    author_email='your.email@example.com',\n",
    "    url='https://github.com/yourusername/yourpackage',\n",
    "    packages=['package_name'],\n",
    "    install_requires=[\n",
    "        'numpy',\n",
    "        'pandas',\n",
    "        'matplotlib'\n",
    "    ],\n",
    "    classifiers=[\n",
    "        'Development Status :: 3 - Alpha',\n",
    "        'Intended Audience :: Developers',\n",
    "        'License :: OSI Approved :: MIT License',\n",
    "        'Programming Language :: Python :: 3',\n",
    "        'Programming Language :: Python :: 3.6',\n",
    "        'Programming Language :: Python :: 3.7',\n",
    "        'Programming Language :: Python :: 3.8',\n",
    "        'Programming Language :: Python :: 3.9',\n",
    "    ],\n",
    ")"
   ]
  },
  {
   "cell_type": "markdown",
   "id": "dd585823",
   "metadata": {},
   "source": [
    "This example `setup.py` file includes information about the package such as its name, version, description, author, URL, packages included, and dependencies required. The `classifiers` parameter specifies the development status, intended audience, and license for the package, as well as which versions of Python it is compatible with.\n",
    "\n",
    "After creating the `setup.py` file, you can run python `setup.py sdist bdist_wheel` in the terminal to generate a source distribution and a wheel distribution of your package. These files will be created in a `dist` directory. You can now upload your package to PyPI or install it locally using `pip`.\n",
    "\n",
    "Note that the process of creating a Python package can be complex, and there are many additional options and parameters that can be specified in the `setup.py` file. However, this basic example should be enough to get you started."
   ]
  },
  {
   "cell_type": "markdown",
   "id": "79f67dce",
   "metadata": {},
   "source": [
    "## 48. Numpy\n",
    "NumPy stands for Numerical Python and it's a fundamental package for scientific computing in Python. NumPy provides Python with an extensive math library capable of performing numerical computations effectively and efficiently.\n",
    "\n",
    "### 48.1 Downloading NumPy\n",
    "NumPy is not included in the standard library, so it needs to be downloaded separately. In this section, we will cover how to download NumPy using `pip`, a package installer for Python. To download NumPy using pip, simply open the command prompt or terminal and enter the command `pip install numpy`. This will automatically download and install the latest version of NumPy. Make sure to have `pip` installed on your system beforehand.\n",
    "\n",
    "### 48.2 NumPy Versions\n",
    "As with many Python packages, NumPy is updated from time to time. The following lessons were created using NumPy version 1.23.4. You can check which version of NumPy you have by typing `pip show numpy` in the command prompt. If you have another version of NumPy installed in your computer, you can update your version by typing `pip install numpy==1.23.4` in the command prompt. As newer versions of NumPy are released, some functions may become obsolete or replaced, so make sure you have the correct NumPy version before running the code. This will guarantee your code will run smoothly.\n",
    "\n",
    "###  48.3 Why Numpy!\n",
    "1. Even though Python lists are great on their own, NumPy has a number of key features that give it great advantages over Python lists. One such feature is speed. When performing operations on large arrays NumPy can often perform several orders of magnitude faster than Python lists. This speed comes from the nature of NumPy arrays being memory-efficient and from optimized algorithms used by NumPy for doing arithmetic, statistical, and linear algebra operations."
   ]
  },
  {
   "cell_type": "code",
   "execution_count": 4,
   "id": "c69f273b",
   "metadata": {},
   "outputs": [
    {
     "name": "stdout",
     "output_type": "stream",
     "text": [
      "17.016271352767944\n",
      "0.15689492225646973\n"
     ]
    }
   ],
   "source": [
    "import time # import time module to measure the execution time\n",
    "import numpy as np # import numpy module\n",
    "\n",
    "x = np.random.random(100000000) # create a numpy array with 100000000 random numbers\n",
    "start_1 = time.time() # record the current time\n",
    "sum(x)/len(x) # calculate the mean using Python's built-in functions\n",
    "print(time.time()-start_1) # print the time taken to calculate the mean using Python's built-in functions\n",
    "\n",
    "start_2 = time.time() # record the current time\n",
    "np.mean(x) # calculate the mean using numpy's mean function\n",
    "print(time.time()-start_2) # print the time taken to calculate the mean using numpy's mean function\n"
   ]
  },
  {
   "cell_type": "markdown",
   "id": "5724b86b",
   "metadata": {},
   "source": [
    "This code generates an array of `100,000,000` random numbers using the NumPy library. Then, it measures the time taken to calculate the average of the array using two different methods. The first method uses the built-in `sum` function and divides it by the length of the array, while the second method uses the `mean` function provided by NumPy. The time module is used to calculate the time taken by each method. The output of the code is the time taken for each method to execute."
   ]
  },
  {
   "cell_type": "markdown",
   "id": "d93cc358",
   "metadata": {},
   "source": [
    "2. Another great feature of NumPy is that it has multidimensional array data structures that can represent vectors and matrices. NumPy is optimized for matrix operations and it allows us to do Linear Algebra operations effectively and efficiently, making it very suitable for solving machine learning problems.\n",
    "3. Another great advantage of NumPy over Python lists is that NumPy has a large number of optimized built-in mathematical functions. These functions allow you to do a variety of complex mathematical computations very fast and with very little code (avoiding the use of complicated loops) making your programs more readable and easier to understand."
   ]
  },
  {
   "cell_type": "markdown",
   "id": "f18419e7",
   "metadata": {},
   "source": [
    "### 48.4 Creating and Saving NumPy ndarrays\n",
    "At the core of NumPy is the ndarray, where nd stands for n-dimensional. An ndarray is a multidimensional array of elements all of the same type. In other words, an ndarray is a grid that can take on many shapes and can hold either numbers or strings. In many Machine Learning problems you will often find yourself using ndarrays in many different ways. For instance, you might use an ndarray to hold the pixel values of an image that will be fed into a Neural Network for image classification.\n",
    "\n",
    "But before we can dive in and start using NumPy to create ndarrays we need to import it into Python. We can import packages into Python using the import command and it has become a convention to import NumPy as `np`. Therefore, you can import NumPy by typing the following command in your Jupyter notebook:"
   ]
  },
  {
   "cell_type": "code",
   "execution_count": 5,
   "id": "05fcd451",
   "metadata": {},
   "outputs": [],
   "source": [
    "import numpy as np"
   ]
  },
  {
   "cell_type": "markdown",
   "id": "1e2c0765",
   "metadata": {},
   "source": [
    "There are several ways to create ndarrays in NumPy. In the following lessons we will see two ways to create ndarrays:\n",
    "\n",
    "1. Using regular Python lists\n",
    "\n",
    "2. Using built-in NumPy functions\n",
    "\n",
    "In this section, we will create ndarrays by providing Python lists to the NumPy np.array() function. This can create some confusion for beginners, but is important to remember that np.array() is NOT a class, it is just a function that returns an ndarray. We should note that for the purposes of clarity, the examples throughout these lessons will use small and simple ndarrays. Let's start by creating 1-Dimensional (1D) ndarrays."
   ]
  },
  {
   "cell_type": "code",
   "execution_count": 6,
   "id": "936a8578",
   "metadata": {},
   "outputs": [
    {
     "name": "stdout",
     "output_type": "stream",
     "text": [
      "x =  [1 2 3 4 5]\n"
     ]
    }
   ],
   "source": [
    "# We import NumPy into Python\n",
    "import numpy as np\n",
    "\n",
    "# We create a 1D ndarray that contains only integers\n",
    "x = np.array([1, 2, 3, 4, 5])\n",
    "\n",
    "# Let's print the ndarray we just created using the print() command\n",
    "print('x = ', x)"
   ]
  },
  {
   "cell_type": "markdown",
   "id": "84967a14",
   "metadata": {},
   "source": [
    "Let's pause for a second to introduce some useful terminology. We refer to 1D arrays as rank 1 arrays. In general N-Dimensional arrays have rank N. Therefore, we refer to a 2D array as a rank 2 array. Another important property of arrays is their shape. The shape of an array is the size along each of its dimensions. For example, the shape of a rank 2 array will correspond to the number of rows and columns of the array. As you will see, NumPy ndarrays have attributes that allows us to get information about them in a very intuitive way. For example, the shape of an ndarray can be obtained using the `.shape` attribute. The shape attribute returns a tuple of N positive integers that specify the sizes of each dimension. In the example below we will create a rank 1 array and learn how to obtain its shape, its type, and the data-type (dtype) of its elements."
   ]
  },
  {
   "cell_type": "code",
   "execution_count": 7,
   "id": "1e810d9d",
   "metadata": {},
   "outputs": [
    {
     "name": "stdout",
     "output_type": "stream",
     "text": [
      "\n",
      "x =  [1 2 3 4 5]\n",
      "\n",
      "x has dimensions: (5,)\n",
      "x is an object of type: <class 'numpy.ndarray'>\n",
      "The elements in x are of type: int32\n"
     ]
    }
   ],
   "source": [
    "# We create a 1D ndarray that contains only integers\n",
    "x = np.array([1, 2, 3, 4, 5])\n",
    "\n",
    "# We print x\n",
    "print()\n",
    "print('x = ', x)\n",
    "print()\n",
    "\n",
    "# We print information about x\n",
    "print('x has dimensions:', x.shape)\n",
    "print('x is an object of type:', type(x))\n",
    "print('The elements in x are of type:', x.dtype)"
   ]
  },
  {
   "cell_type": "markdown",
   "id": "6b4c9156",
   "metadata": {},
   "source": [
    "We can see that the shape attribute returns the tuple `(5,)` telling us that `x` is of rank 1 (i.e. `x` only has 1 dimension ) and it has 5 elements. The `type()` function tells us that `x` is indeed a NumPy ndarray. Finally, the `.dtype` attribute tells us that the elements of `x` are stored in memory as signed 64-bit integers. Another great advantage of NumPy is that it can handle more data-types than Python lists.\n",
    "\n",
    "As mentioned earlier, ndarrays can also hold strings. Let's see how we can create a rank 1 ndarray of strings in the same manner as before, by providing the `np.array()` function a Python list of strings."
   ]
  },
  {
   "cell_type": "code",
   "execution_count": 8,
   "id": "554309ce",
   "metadata": {},
   "outputs": [
    {
     "name": "stdout",
     "output_type": "stream",
     "text": [
      "\n",
      "x =  ['Hello' 'World']\n",
      "\n",
      "x has dimensions: (2,)\n",
      "x is an object of type: <class 'numpy.ndarray'>\n",
      "The elements in x are of type: <U5\n"
     ]
    }
   ],
   "source": [
    "# We create a rank 1 ndarray that only contains strings\n",
    "x = np.array(['Hello', 'World'])\n",
    "\n",
    "# We print x\n",
    "print()\n",
    "print('x = ', x)\n",
    "print()\n",
    "\n",
    "# We print information about x\n",
    "print('x has dimensions:', x.shape)\n",
    "print('x is an object of type:', type(x))\n",
    "print('The elements in x are of type:', x.dtype)"
   ]
  },
  {
   "cell_type": "markdown",
   "id": "e3f537f6",
   "metadata": {},
   "source": [
    "As we can see the shape attribute tells us that `x` now has only 2 elements, and even though `x` now holds strings, the `type()` function tells us that `x` is still an ndarray as before. In this case however, the `.dtype` attribute tells us that the elements in `x` are stored in memory as Unicode strings of 5 characters.\n",
    "\n",
    "It is important to remember that one big difference between Python lists and ndarrays, is that unlike Python lists, all the elements of an ndarray must be of the same type. So, while we can create Python lists with both integers and strings, we can't mix types in ndarrays. If you provide the `np.array()` function with a Python list that has both integers and strings, NumPy will interpret all elements as strings. We can see this in the next example:"
   ]
  },
  {
   "cell_type": "code",
   "execution_count": 9,
   "id": "5e2260e5",
   "metadata": {},
   "outputs": [
    {
     "name": "stdout",
     "output_type": "stream",
     "text": [
      "\n",
      "x =  ['1' '2' 'World']\n",
      "\n",
      "x has dimensions: (3,)\n",
      "x is an object of type: <class 'numpy.ndarray'>\n",
      "The elements in x are of type: <U11\n"
     ]
    }
   ],
   "source": [
    "# We create a rank 1 ndarray from a Python list that contains integers and strings\n",
    "x = np.array([1, 2, 'World'])\n",
    "\n",
    "# We print the ndarray\n",
    "print()\n",
    "print('x = ', x)\n",
    "print()\n",
    "\n",
    "# We print information about x\n",
    "print('x has dimensions:', x.shape)\n",
    "print('x is an object of type:', type(x))\n",
    "print('The elements in x are of type:', x.dtype)"
   ]
  },
  {
   "cell_type": "markdown",
   "id": "8dd6a614",
   "metadata": {},
   "source": [
    "We can see that even though the Python list had mixed data types, the elements in `x` are all of the same type, namely, Unicode strings of 21 characters. We won't be using ndarrays with strings for the remaining of this introduction to NumPy, but it's important to remember that ndarrays can hold strings as well.\n",
    "\n",
    "Let us now look at how we can create a rank 2 ndarray from a nested Python list."
   ]
  },
  {
   "cell_type": "code",
   "execution_count": 10,
   "id": "efb0d8e1",
   "metadata": {},
   "outputs": [
    {
     "name": "stdout",
     "output_type": "stream",
     "text": [
      "\n",
      "Y = \n",
      " [[ 1  2  3]\n",
      " [ 4  5  6]\n",
      " [ 7  8  9]\n",
      " [10 11 12]]\n",
      "\n",
      "Y has dimensions: (4, 3)\n",
      "Y has a total of 12 elements\n",
      "Y is an object of type: <class 'numpy.ndarray'>\n",
      "The elements in Y are of type: int32\n"
     ]
    }
   ],
   "source": [
    "# We create a rank 2 ndarray that only contains integers\n",
    "Y = np.array([[1,2,3],[4,5,6],[7,8,9], [10,11,12]])\n",
    "\n",
    "# We print Y\n",
    "print()\n",
    "print('Y = \\n', Y)\n",
    "print()\n",
    "\n",
    "# We print information about Y\n",
    "print('Y has dimensions:', Y.shape)\n",
    "print('Y has a total of', Y.size, 'elements')\n",
    "print('Y is an object of type:', type(Y))\n",
    "print('The elements in Y are of type:', Y.dtype)"
   ]
  },
  {
   "cell_type": "markdown",
   "id": "d83b35b0",
   "metadata": {},
   "source": [
    "We can see that now the shape attribute returns the tuple `(4,3)` telling us that `Y` is of rank 2 and it has 4 rows and 3 columns. The `.size` attribute tells us that `Y` has a total of 12 elements.\n",
    "\n",
    "Notice that when NumPy creates an ndarray it automatically assigns its dtype based on the type of the elements you used to create the ndarray. Up to now, we have only created ndarrays with integers and strings. We saw that when we create an ndarray with only integers, NumPy will automatically assign the dtype int64 to its elements. Let's see what happens when we create ndarrays with floats and integers."
   ]
  },
  {
   "cell_type": "code",
   "execution_count": 11,
   "id": "7572282b",
   "metadata": {},
   "outputs": [
    {
     "name": "stdout",
     "output_type": "stream",
     "text": [
      "The elements in x are of type: int32\n",
      "The elements in y are of type: float64\n",
      "The elements in z are of type: float64\n"
     ]
    }
   ],
   "source": [
    "# We create a rank 1 ndarray that contains integers\n",
    "x = np.array([1,2,3])\n",
    "\n",
    "# We create a rank 1 ndarray that contains floats\n",
    "y = np.array([1.0,2.0,3.0])\n",
    "\n",
    "# We create a rank 1 ndarray that contains integers and floats\n",
    "z = np.array([1, 2.5, 4])\n",
    "\n",
    "# We print the dtype of each ndarray\n",
    "print('The elements in x are of type:', x.dtype)\n",
    "print('The elements in y are of type:', y.dtype)\n",
    "print('The elements in z are of type:', z.dtype)"
   ]
  },
  {
   "cell_type": "markdown",
   "id": "739371eb",
   "metadata": {},
   "source": [
    "We can see that when we create an ndarray with only floats, NumPy stores the elements in memory as* 64-bit floating point numbers (float64)*. However, notice that when we create an ndarray with both floats and integers, as we did with the `z` ndarray above, NumPy assigns its elements a *float64* dtype as well. This is called `upcasting`. Since all the elements of an ndarray must be of the same type, in this case NumPy upcasts the integers in `z` to floats in order to avoid losing precision in numerical computations.\n",
    "\n",
    "Even though NumPy automatically selects the dtype of the ndarray, NumPy also allows you to specify the particular dtype you want to assign to the elements of the ndarray. You can specify the dtype when you create the ndarray using the keyword `dtype` in the `np.array()` function. Let's see an example:"
   ]
  },
  {
   "cell_type": "code",
   "execution_count": 12,
   "id": "55d83bd7",
   "metadata": {},
   "outputs": [
    {
     "name": "stdout",
     "output_type": "stream",
     "text": [
      "\n",
      "x =  [1 2 3 4 5]\n",
      "\n",
      "The elements in x are of type: int64\n"
     ]
    }
   ],
   "source": [
    "# We create a rank 1 ndarray of floats but set the dtype to int64\n",
    "x = np.array([1.5, 2.2, 3.7, 4.0, 5.9], dtype = np.int64)\n",
    "\n",
    "# We print x\n",
    "print()\n",
    "print('x = ', x)\n",
    "print()\n",
    "\n",
    "# We print the dtype x\n",
    "print('The elements in x are of type:', x.dtype)"
   ]
  },
  {
   "cell_type": "markdown",
   "id": "01b01416",
   "metadata": {},
   "source": [
    "We can see that even though we created the ndarray with floats, by specifying the dtype to be int64, NumPy converted the floating point numbers into integers by removing their decimals. Specifying the data type of the ndarray can be useful in cases when you don't want NumPy to accidentally choose the wrong data type, or when you only need certain amount of precision in your calculations and you want to save memory.\n",
    "\n",
    "Once you create an ndarray, you may want to save it to a file to be read later or to be used by another program. NumPy provides a way to save the arrays into files for later use - let's see how this is done."
   ]
  },
  {
   "cell_type": "code",
   "execution_count": 13,
   "id": "443495a5",
   "metadata": {},
   "outputs": [],
   "source": [
    "# We create a rank 1 ndarray\n",
    "x = np.array([1, 2, 3, 4, 5])\n",
    "\n",
    "# We save x into the current directory as \n",
    "np.save('my_array', x)"
   ]
  },
  {
   "cell_type": "markdown",
   "id": "05220adf",
   "metadata": {},
   "source": [
    "The above saves the `x` ndarray into a file named `my_array.npy`. You can load the saved ndarray into a variable by using the `load()` function."
   ]
  },
  {
   "cell_type": "code",
   "execution_count": 14,
   "id": "be636668",
   "metadata": {},
   "outputs": [
    {
     "name": "stdout",
     "output_type": "stream",
     "text": [
      "\n",
      "y =  [1 2 3 4 5]\n",
      "\n",
      "y is an object of type: <class 'numpy.ndarray'>\n",
      "The elements in y are of type: int32\n"
     ]
    }
   ],
   "source": [
    "# We load the saved array from our current directory into variable y\n",
    "y = np.load('my_array.npy')\n",
    "\n",
    "# We print y\n",
    "print()\n",
    "print('y = ', y)\n",
    "print()\n",
    "\n",
    "# We print information about the ndarray we loaded\n",
    "print('y is an object of type:', type(y))\n",
    "print('The elements in y are of type:', y.dtype)"
   ]
  },
  {
   "cell_type": "markdown",
   "id": "7acdcfb7",
   "metadata": {},
   "source": [
    "When loading an array from a file, make sure you include the name of the file together with the extension `.npy`, otherwise you will get an error."
   ]
  },
  {
   "cell_type": "markdown",
   "id": "379c89b2",
   "metadata": {},
   "source": [
    "### 48.5 Using Built-in Functions to Create ndarrays\n",
    "One great time-saving feature of NumPy is its ability to create ndarrays using built-in functions. These functions allow us to create certain kinds of ndarrays with just one line of code. Below we will see a few of the most useful built-in functions for creating ndarrays that you will come across when doing AI programming.\n",
    "\n",
    "Let's start by creating an ndarray with a specified shape that is full of zeros. We can do this by using the `np.zeros()` function. The function `np.zeros(shape)` creates an ndarray full of `zeros` with the given `shape`. So, for example, if you wanted to create a rank 2 array with 3 rows and 4 columns, you will pass the shape to the function in the form of `(rows, columns)`, as in the example below:"
   ]
  },
  {
   "cell_type": "code",
   "execution_count": 15,
   "id": "aff6067d",
   "metadata": {},
   "outputs": [
    {
     "name": "stdout",
     "output_type": "stream",
     "text": [
      "\n",
      "X = \n",
      " [[0. 0. 0. 0.]\n",
      " [0. 0. 0. 0.]\n",
      " [0. 0. 0. 0.]]\n",
      "\n",
      "X has dimensions: (3, 4)\n",
      "X is an object of type: <class 'numpy.ndarray'>\n",
      "The elements in X are of type: float64\n"
     ]
    }
   ],
   "source": [
    "# We create a 3 x 4 ndarray full of zeros. \n",
    "X = np.zeros((3,4))\n",
    "\n",
    "# We print X\n",
    "print()\n",
    "print('X = \\n', X)\n",
    "print()\n",
    "\n",
    "# We print information about X\n",
    "print('X has dimensions:', X.shape)\n",
    "print('X is an object of type:', type(X))\n",
    "print('The elements in X are of type:', X.dtype)"
   ]
  },
  {
   "cell_type": "markdown",
   "id": "33bdabac",
   "metadata": {},
   "source": [
    "As we can see, the `np.zeros()` function creates by default an array with dtype float64. If desired, the data type can be changed by using the keyword `dtype`.\n",
    "\n",
    "Similarly, we can create an ndarray with a specified shape that is full of ones. We can do this by using the `np.ones()` function. Just like the `np.zeros()` function, the `np.ones()` function takes as an argument the shape of the ndarray you want to make. Let's see an example:"
   ]
  },
  {
   "cell_type": "code",
   "execution_count": 16,
   "id": "c080fe36",
   "metadata": {},
   "outputs": [
    {
     "name": "stdout",
     "output_type": "stream",
     "text": [
      "\n",
      "X = \n",
      " [[1. 1.]\n",
      " [1. 1.]\n",
      " [1. 1.]]\n",
      "\n",
      "X has dimensions: (3, 2)\n",
      "X is an object of type: <class 'numpy.ndarray'>\n",
      "The elements in X are of type: float64\n"
     ]
    }
   ],
   "source": [
    "# We create a 3 x 2 ndarray full of ones. \n",
    "X = np.ones((3,2))\n",
    "\n",
    "# We print X\n",
    "print()\n",
    "print('X = \\n', X)\n",
    "print()\n",
    "\n",
    "# We print information about X\n",
    "print('X has dimensions:', X.shape)\n",
    "print('X is an object of type:', type(X))\n",
    "print('The elements in X are of type:', X.dtype) "
   ]
  },
  {
   "cell_type": "markdown",
   "id": "702b5823",
   "metadata": {},
   "source": [
    "As we can see, the `np.ones()` function also creates by default an array with dtype float64. If desired, the data type can be changed by using the keyword `dtype`.\n",
    "\n",
    "We can also create an ndarray with a specified shape that is full of any number we want. We can do this by using the `np.full()` function. The `np.full(shape, constant value)` function takes two arguments. The first argument is the `shape` of the ndarray you want to make and the second is the `constant value` you want to populate the array with. Let's see an example:"
   ]
  },
  {
   "cell_type": "code",
   "execution_count": 17,
   "id": "02372698",
   "metadata": {},
   "outputs": [
    {
     "name": "stdout",
     "output_type": "stream",
     "text": [
      "\n",
      "X = \n",
      " [[5 5 5]\n",
      " [5 5 5]]\n",
      "\n",
      "X has dimensions: (2, 3)\n",
      "X is an object of type: <class 'numpy.ndarray'>\n",
      "The elements in X are of type: int32\n"
     ]
    }
   ],
   "source": [
    "# We create a 2 x 3 ndarray full of fives. \n",
    "X = np.full((2,3), 5) \n",
    "\n",
    "# We print X\n",
    "print()\n",
    "print('X = \\n', X)\n",
    "print()\n",
    "\n",
    "# We print information about X\n",
    "print('X has dimensions:', X.shape)\n",
    "print('X is an object of type:', type(X))\n",
    "print('The elements in X are of type:', X.dtype)  "
   ]
  },
  {
   "cell_type": "markdown",
   "id": "e434ef48",
   "metadata": {},
   "source": [
    "The `np.full()` function creates by default an array with the same data type as the constant value used to fill in the array. If desired, the data type can be changed by using the keyword `dtype`.\n",
    "\n",
    "As you will learn later, a fundamental array in Linear Algebra is the Identity Matrix. An Identity matrix is a square matrix that has only 1s in its main diagonal and zeros everywhere else. The function `np.eye(N)` creates a square `N x N` ndarray corresponding to the Identity matrix. Since all Identity Matrices are square, the `np.eye()` function only takes a single integer as an argument. Let's see an example:"
   ]
  },
  {
   "cell_type": "code",
   "execution_count": 18,
   "id": "9747f77e",
   "metadata": {},
   "outputs": [
    {
     "name": "stdout",
     "output_type": "stream",
     "text": [
      "\n",
      "X = \n",
      " [[1. 0. 0. 0. 0.]\n",
      " [0. 1. 0. 0. 0.]\n",
      " [0. 0. 1. 0. 0.]\n",
      " [0. 0. 0. 1. 0.]\n",
      " [0. 0. 0. 0. 1.]]\n",
      "\n",
      "X has dimensions: (5, 5)\n",
      "X is an object of type: <class 'numpy.ndarray'>\n",
      "The elements in X are of type: float64\n"
     ]
    }
   ],
   "source": [
    "# We create a 5 x 5 Identity matrix. \n",
    "X = np.eye(5)\n",
    "\n",
    "# We print X\n",
    "print()\n",
    "print('X = \\n', X)\n",
    "print()\n",
    "\n",
    "# We print information about X\n",
    "print('X has dimensions:', X.shape)\n",
    "print('X is an object of type:', type(X))\n",
    "print('The elements in X are of type:', X.dtype)  "
   ]
  },
  {
   "cell_type": "markdown",
   "id": "67e60571",
   "metadata": {},
   "source": [
    "As we can see, the `np.eye()` function also creates by default an array with dtype float64. If desired, the data type can be changed by using the keyword `dtype`.\n",
    "\n",
    "We can also create diagonal matrices by using the `np.diag()` function. A diagonal matrix is a square matrix that only has values in its main diagonal. The `np.diag()` function creates an ndarray corresponding to a diagonal matrix , as shown in the example below:"
   ]
  },
  {
   "cell_type": "code",
   "execution_count": 19,
   "id": "de0fe14f",
   "metadata": {},
   "outputs": [
    {
     "name": "stdout",
     "output_type": "stream",
     "text": [
      "\n",
      "X = \n",
      " [[10  0  0  0]\n",
      " [ 0 20  0  0]\n",
      " [ 0  0 30  0]\n",
      " [ 0  0  0 50]]\n",
      "\n"
     ]
    }
   ],
   "source": [
    "# Create a 4 x 4 diagonal matrix that contains the numbers 10,20,30, and 50\n",
    "# on its main diagonal\n",
    "X = np.diag([10,20,30,50])\n",
    "\n",
    "# We print X\n",
    "print()\n",
    "print('X = \\n', X)\n",
    "print()"
   ]
  },
  {
   "cell_type": "markdown",
   "id": "5242c3b6",
   "metadata": {},
   "source": [
    "NumPy also allows you to create ndarrays that have evenly spaced values within a given interval. NumPy's `np.arange()` function is very versatile and can be used with either one, two, or three arguments. Below we will see examples of each case and how they are used to create different kinds of ndarrays.\n",
    "\n",
    "Let's start by using `np.arange()` with only one argument. When used with only one argument, `np.arange(N)` will create a rank 1 ndarray with consecutive integers between `0` and `N - 1`. Therefore, notice that if I want an array to have integers between 0 and 9, I have to use N = 10, NOT N = 9, as in the example below:"
   ]
  },
  {
   "cell_type": "code",
   "execution_count": 21,
   "id": "fdb2f46f",
   "metadata": {},
   "outputs": [
    {
     "name": "stdout",
     "output_type": "stream",
     "text": [
      "\n",
      "x =  [0 1 2 3 4 5 6 7 8 9]\n",
      "\n",
      "x has dimensions: (10,)\n",
      "x is an object of type: <class 'numpy.ndarray'>\n",
      "The elements in x are of type: int32\n"
     ]
    }
   ],
   "source": [
    "# We create a rank 1 ndarray that has sequential integers from 0 to 9\n",
    "x = np.arange(10)\n",
    "\n",
    "# We print the ndarray\n",
    "print()\n",
    "print('x = ', x)\n",
    "print()\n",
    "\n",
    "# We print information about the ndarray\n",
    "print('x has dimensions:', x.shape)\n",
    "print('x is an object of type:', type(x))\n",
    "print('The elements in x are of type:', x.dtype) "
   ]
  },
  {
   "cell_type": "markdown",
   "id": "3bb58e40",
   "metadata": {},
   "source": [
    "When used with two arguments, `np.arange(start,stop)` will create a rank 1 ndarray with evenly spaced values within the half-open interval `[start, stop)`. This means the evenly spaced numbers will include `start` but exclude `stop`. Let's see an example"
   ]
  },
  {
   "cell_type": "code",
   "execution_count": 22,
   "id": "48cb669f",
   "metadata": {},
   "outputs": [
    {
     "name": "stdout",
     "output_type": "stream",
     "text": [
      "\n",
      "x =  [4 5 6 7 8 9]\n",
      "\n",
      "x has dimensions: (6,)\n",
      "x is an object of type: <class 'numpy.ndarray'>\n",
      "The elements in x are of type: int32\n"
     ]
    }
   ],
   "source": [
    "# We create a rank 1 ndarray that has sequential integers from 4 to 9. \n",
    "x = np.arange(4,10)\n",
    "\n",
    "# We print the ndarray\n",
    "print()\n",
    "print('x = ', x)\n",
    "print()\n",
    "\n",
    "# We print information about the ndarray\n",
    "print('x has dimensions:', x.shape)\n",
    "print('x is an object of type:', type(x))\n",
    "print('The elements in x are of type:', x.dtype) "
   ]
  },
  {
   "cell_type": "markdown",
   "id": "61eabafd",
   "metadata": {},
   "source": [
    "As we can see, the function `np.arange(4,10)` generates a sequence of integers with 4 inclusive and 10 exclusive.\n",
    "\n",
    "Finally, when used with three arguments, `np.arange(start,stop,step)` will create a rank 1 ndarray with evenly spaced values within the half-open interval `[start, stop)` with `step` being the distance between two adjacent values. Let's see an example:"
   ]
  },
  {
   "cell_type": "code",
   "execution_count": 23,
   "id": "70b678dc",
   "metadata": {},
   "outputs": [
    {
     "name": "stdout",
     "output_type": "stream",
     "text": [
      "\n",
      "x =  [ 1  4  7 10 13]\n",
      "\n",
      "x has dimensions: (5,)\n",
      "x is an object of type: <class 'numpy.ndarray'>\n",
      "The elements in x are of type: int32\n"
     ]
    }
   ],
   "source": [
    "# We create a rank 1 ndarray that has evenly spaced integers from 1 to 13 in steps of 3.\n",
    "x = np.arange(1,14,3)\n",
    "\n",
    "# We print the ndarray\n",
    "print()\n",
    "print('x = ', x)\n",
    "print()\n",
    "\n",
    "# We print information about the ndarray\n",
    "print('x has dimensions:', x.shape)\n",
    "print('x is an object of type:', type(x))\n",
    "print('The elements in x are of type:', x.dtype) "
   ]
  },
  {
   "cell_type": "markdown",
   "id": "039dcf71",
   "metadata": {},
   "source": [
    "We can see that x has sequential integers between 1 and 13 but the difference between all adjacent values is 3.\n",
    "\n",
    "Even though the `np.arange()` function allows for non-integer steps, such as 0.3, the output is usually inconsistent, due to the finite floating point precision. For this reason, in the cases where non-integer steps are required, it is usually better to use the function `np.linspace()`. The `np.linspace(start, stop, N)` function returns `N` evenly spaced numbers over the closed interval `[start, stop]`. This means that both the `start` and the `stop` values are included. We should also note the `np.linspace()` function needs to be called with at least two arguments in the form `np.linspace(start,stop)`. In this case, the default number of elements in the specified interval will be N= 50. The reason `np.linspace()` works better than the `np.arange()` function, is that `np.linspace()` uses the number of elements we want in a particular interval, instead of the step between values. Let's see some examples:"
   ]
  },
  {
   "cell_type": "code",
   "execution_count": 24,
   "id": "c7b0b2fc",
   "metadata": {},
   "outputs": [
    {
     "name": "stdout",
     "output_type": "stream",
     "text": [
      "\n",
      "x = \n",
      " [ 0.          2.77777778  5.55555556  8.33333333 11.11111111 13.88888889\n",
      " 16.66666667 19.44444444 22.22222222 25.        ]\n",
      "\n",
      "x has dimensions: (10,)\n",
      "x is an object of type: <class 'numpy.ndarray'>\n",
      "The elements in x are of type: float64\n"
     ]
    }
   ],
   "source": [
    "# We create a rank 1 ndarray that has 10 integers evenly spaced between 0 and 25.\n",
    "x = np.linspace(0,25,10)\n",
    "\n",
    "# We print the ndarray\n",
    "print()\n",
    "print('x = \\n', x)\n",
    "print()\n",
    "\n",
    "# We print information about the ndarray\n",
    "print('x has dimensions:', x.shape)\n",
    "print('x is an object of type:', type(x))\n",
    "print('The elements in x are of type:', x.dtype) "
   ]
  },
  {
   "cell_type": "markdown",
   "id": "31f84e06",
   "metadata": {},
   "source": [
    "As we can see from the above example, the function `np.linspace(0,25,10)` returns an ndarray with `10` evenly spaced numbers in the closed interval `[0, 25]`. We can also see that both the start and end points, `0` and `25` in this case, are included. However, you can let the endpoint of the interval be excluded (just like in the `np.arange()` function) by setting the keyword `endpoint = False` in the `np.linspace()` function. Let's create the same `x` ndarray we created above but now with the endpoint excluded:"
   ]
  },
  {
   "cell_type": "code",
   "execution_count": 25,
   "id": "919b679c",
   "metadata": {},
   "outputs": [
    {
     "name": "stdout",
     "output_type": "stream",
     "text": [
      "\n",
      "x =  [ 0.   2.5  5.   7.5 10.  12.5 15.  17.5 20.  22.5]\n",
      "\n",
      "x has dimensions: (10,)\n",
      "x is an object of type: <class 'numpy.ndarray'>\n",
      "The elements in x are of type: float64\n"
     ]
    }
   ],
   "source": [
    "# We create a rank 1 ndarray that has 10 integers evenly spaced between 0 and 25,\n",
    "# with 25 excluded.\n",
    "x = np.linspace(0,25,10, endpoint = False)\n",
    "\n",
    "# We print the ndarray\n",
    "print()\n",
    "print('x = ', x)\n",
    "print()\n",
    "\n",
    "# We print information about the ndarray\n",
    "print('x has dimensions:', x.shape)\n",
    "print('x is an object of type:', type(x))\n",
    "print('The elements in x are of type:', x.dtype) "
   ]
  },
  {
   "cell_type": "markdown",
   "id": "2a09c1c2",
   "metadata": {},
   "source": [
    "As we can see, because we have excluded the endpoint, the spacing between values had to change in order to fit 10 evenly spaced numbers in the given interval.\n",
    "\n",
    "So far, we have only used the built-in functions `np.arange()` and `np.linspace()` to create rank 1 ndarrays. However, we can use these functions to create rank 2 ndarrays of any shape by combining them with the `np.reshape()` function. The `np.reshape(ndarray, new_shape)` function converts the given `ndarray` into the specified `new_shape`. It is important to note that the `new_shape` should be compatible with the number of elements in the given `ndarray`. For example, you can convert a rank 1 ndarray with 6 elements, into a 3 x 2 rank 2 ndarray, or a 2 x 3 rank 2 ndarray, since both of these rank 2 arrays will have a total of 6 elements. However, you can't reshape the rank 1 ndarray with 6 elements into a 3 x 3 rank 2 ndarray, since this rank 2 array will have 9 elements, which is greater than the number of elements in the original ndarray. Let's see some examples:"
   ]
  },
  {
   "cell_type": "code",
   "execution_count": 26,
   "id": "cf2d54b1",
   "metadata": {},
   "outputs": [
    {
     "name": "stdout",
     "output_type": "stream",
     "text": [
      "\n",
      "Original x =  [ 0  1  2  3  4  5  6  7  8  9 10 11 12 13 14 15 16 17 18 19]\n",
      "\n",
      "\n",
      "Reshaped x = \n",
      " [[ 0  1  2  3  4]\n",
      " [ 5  6  7  8  9]\n",
      " [10 11 12 13 14]\n",
      " [15 16 17 18 19]]\n",
      "\n",
      "x has dimensions: (4, 5)\n",
      "x is an object of type: <class 'numpy.ndarray'>\n",
      "The elements in x are of type: int32\n"
     ]
    }
   ],
   "source": [
    "# We create a rank 1 ndarray with sequential integers from 0 to 19\n",
    "x = np.arange(20)\n",
    "\n",
    "# We print x\n",
    "print()\n",
    "print('Original x = ', x)\n",
    "print()\n",
    "\n",
    "# We reshape x into a 4 x 5 ndarray \n",
    "x = np.reshape(x, (4,5))\n",
    "\n",
    "# We print the reshaped x\n",
    "print()\n",
    "print('Reshaped x = \\n', x)\n",
    "print()\n",
    "\n",
    "# We print information about the reshaped x\n",
    "print('x has dimensions:', x.shape)\n",
    "print('x is an object of type:', type(x))\n",
    "print('The elements in x are of type:', x.dtype) "
   ]
  },
  {
   "cell_type": "markdown",
   "id": "c6a7b415",
   "metadata": {},
   "source": [
    "One great feature about NumPy, is that some functions can also be applied as methods. This allows us to apply different functions in sequence in just one line of code. ndarray methods are similar to ndarray attributes in that they are both applied using dot notation (`.`). Let's see how we can accomplish the same result as in the above example, but in just one line of code:"
   ]
  },
  {
   "cell_type": "code",
   "execution_count": 27,
   "id": "11320283",
   "metadata": {},
   "outputs": [
    {
     "name": "stdout",
     "output_type": "stream",
     "text": [
      "\n",
      "Y = \n",
      " [[ 0  1  2  3  4]\n",
      " [ 5  6  7  8  9]\n",
      " [10 11 12 13 14]\n",
      " [15 16 17 18 19]]\n",
      "\n",
      "Y has dimensions: (4, 5)\n",
      "Y is an object of type: <class 'numpy.ndarray'>\n",
      "The elements in Y are of type: int32\n"
     ]
    }
   ],
   "source": [
    "# We create a a rank 1 ndarray with sequential integers from 0 to 19 and\n",
    "# reshape it to a 4 x 5 array \n",
    "Y = np.arange(20).reshape(4, 5)\n",
    "\n",
    "# We print Y\n",
    "print()\n",
    "print('Y = \\n', Y)\n",
    "print()\n",
    "\n",
    "# We print information about Y\n",
    "print('Y has dimensions:', Y.shape)\n",
    "print('Y is an object of type:', type(Y))\n",
    "print('The elements in Y are of type:', Y.dtype) "
   ]
  },
  {
   "cell_type": "markdown",
   "id": "766c1d63",
   "metadata": {},
   "source": [
    "As we can see, we get the exact same result as before. Notice that when we use `reshape()` as a method, it's applied as `ndarray.reshape(new_shape)`. This converts the `ndarray` into the specified shape `new_shape`. As before, it is important to note that the `new_shape` should be compatible with the number of elements in `ndarray`. In the example above, the function `np.arange(20)` creates an ndarray and serves as the ndarray to be reshaped by the `reshape()` method. Therefore, when using `reshape()` as a method, we don't need to pass the `ndarray` as an argument to the `reshape()` function, instead we only need to pass the `new_shape` argument.\n",
    "\n",
    "In the same manner, we can also combine `reshape()` with `np.linspace()` to create rank 2 arrays, as shown in the next example."
   ]
  },
  {
   "cell_type": "code",
   "execution_count": 28,
   "id": "58bc3960",
   "metadata": {},
   "outputs": [
    {
     "name": "stdout",
     "output_type": "stream",
     "text": [
      "\n",
      "X = \n",
      " [[ 0.  5.]\n",
      " [10. 15.]\n",
      " [20. 25.]\n",
      " [30. 35.]\n",
      " [40. 45.]]\n",
      "\n",
      "X has dimensions: (5, 2)\n",
      "X is an object of type: <class 'numpy.ndarray'>\n",
      "The elements in X are of type: float64\n"
     ]
    }
   ],
   "source": [
    "# We create a rank 1 ndarray with 10 integers evenly spaced between 0 and 50,\n",
    "# with 50 excluded. We then reshape it to a 5 x 2 ndarray\n",
    "X = np.linspace(0,50,10, endpoint=False).reshape(5,2)\n",
    "\n",
    "# We print X\n",
    "print()\n",
    "print('X = \\n', X)\n",
    "print()\n",
    "\n",
    "# We print information about X\n",
    "print('X has dimensions:', X.shape)\n",
    "print('X is an object of type:', type(X))\n",
    "print('The elements in X are of type:', X.dtype)"
   ]
  },
  {
   "cell_type": "markdown",
   "id": "88b69731",
   "metadata": {},
   "source": [
    "The last type of ndarrays we are going to create are random ndarrays. Random ndarrays are arrays that contain random numbers. Often in Machine Learning, you need to create random matrices, for example, when initializing the weights of a Neural Network. NumPy offers a variety of random functions to help us create random ndarrays of any shape.\n",
    "\n",
    "Let's start by using the `np.random.random(shape)` function to create an ndarray of the given `shape` with random floats in the half-open interval [0.0, 1.0)."
   ]
  },
  {
   "cell_type": "code",
   "execution_count": 29,
   "id": "7598a27b",
   "metadata": {},
   "outputs": [
    {
     "name": "stdout",
     "output_type": "stream",
     "text": [
      "\n",
      "X = \n",
      " [[0.86508928 0.21613611 0.98049014]\n",
      " [0.30653189 0.54636261 0.25702412]\n",
      " [0.91231832 0.37554747 0.22905306]]\n",
      "\n",
      "X has dimensions: (3, 3)\n",
      "X is an object of type: <class 'numpy.ndarray'>\n",
      "The elements in x are of type: float64\n"
     ]
    }
   ],
   "source": [
    "# We create a 3 x 3 ndarray with random floats in the half-open interval [0.0, 1.0).\n",
    "X = np.random.random((3,3))\n",
    "\n",
    "# We print X\n",
    "print()\n",
    "print('X = \\n', X)\n",
    "print()\n",
    "\n",
    "# We print information about X\n",
    "print('X has dimensions:', X.shape)\n",
    "print('X is an object of type:', type(X))\n",
    "print('The elements in x are of type:', X.dtype)"
   ]
  },
  {
   "cell_type": "markdown",
   "id": "f6bd3418",
   "metadata": {},
   "source": [
    "NumPy also allows us to create ndarrays with random integers within a particular interval. The function `np.random.randint(start, stop, size = shape)` creates an ndarray of the given shape with random integers in the half-open interval `[start, stop)`. Let's see an example:"
   ]
  },
  {
   "cell_type": "code",
   "execution_count": 30,
   "id": "67754952",
   "metadata": {},
   "outputs": [
    {
     "name": "stdout",
     "output_type": "stream",
     "text": [
      "\n",
      "X = \n",
      " [[ 6  9]\n",
      " [12  8]\n",
      " [ 4  8]]\n",
      "\n",
      "X has dimensions: (3, 2)\n",
      "X is an object of type: <class 'numpy.ndarray'>\n",
      "The elements in X are of type: int32\n"
     ]
    }
   ],
   "source": [
    "# We create a 3 x 2 ndarray with random integers in the half-open interval [4, 15).\n",
    "X = np.random.randint(4,15,size=(3,2))\n",
    "\n",
    "# We print X\n",
    "print()\n",
    "print('X = \\n', X)\n",
    "print()\n",
    "\n",
    "# We print information about X\n",
    "print('X has dimensions:', X.shape)\n",
    "print('X is an object of type:', type(X))\n",
    "print('The elements in X are of type:', X.dtype)"
   ]
  },
  {
   "cell_type": "markdown",
   "id": "d869275b",
   "metadata": {},
   "source": [
    "In some cases, you may need to create ndarrays with random numbers that satisfy certain statistical properties. For example, you may want the random numbers in the ndarray to have an average of 0. NumPy allows you create random ndarrays with numbers drawn from various probability distributions. The function `np.random.normal(mean, standard deviation, size=shape)`, for example, creates an ndarray with the given `shape` that contains random numbers picked from a `normal` (Gaussian) distribution with the given `mean` and `standard deviation`. Let's create a 1,000 x 1,000 ndarray of random floating point numbers drawn from a normal distribution with a mean (average) of zero and a standard deviation of 0.1."
   ]
  },
  {
   "cell_type": "code",
   "execution_count": 31,
   "id": "5b9dea2b",
   "metadata": {},
   "outputs": [
    {
     "name": "stdout",
     "output_type": "stream",
     "text": [
      "\n",
      "X = \n",
      " [[-0.0274671  -0.0185648  -0.02967794 ...  0.01105147  0.16338679\n",
      "  -0.00478406]\n",
      " [-0.03234243  0.03196432  0.02187927 ... -0.03406387  0.20018679\n",
      "  -0.01167957]\n",
      " [-0.09441729 -0.1434648   0.05873405 ... -0.09564004 -0.05975887\n",
      "   0.05975389]\n",
      " ...\n",
      " [-0.22942063 -0.00797222  0.05122413 ...  0.02106176 -0.1034945\n",
      "  -0.01232829]\n",
      " [-0.07749745 -0.06882272  0.04268549 ... -0.03340447 -0.11618976\n",
      "   0.28119617]\n",
      " [ 0.14290795 -0.05629076 -0.00233254 ... -0.05167526 -0.2092025\n",
      "  -0.22051661]]\n",
      "\n",
      "X has dimensions: (1000, 1000)\n",
      "X is an object of type: <class 'numpy.ndarray'>\n",
      "The elements in X are of type: float64\n",
      "The elements in X have a mean of: 9.079024520021886e-06\n",
      "The maximum value in X is: 0.4778591586969938\n",
      "The minimum value in X is: -0.4600773685408009\n",
      "X has 500243 negative numbers\n",
      "X has 499757 positive numbers\n"
     ]
    }
   ],
   "source": [
    "# We create a 1000 x 1000 ndarray of random floats drawn from normal (Gaussian) distribution\n",
    "# with a mean of zero and a standard deviation of 0.1.\n",
    "X = np.random.normal(0, 0.1, size=(1000,1000))\n",
    "\n",
    "# We print X\n",
    "print()\n",
    "print('X = \\n', X)\n",
    "print()\n",
    "\n",
    "# We print information about X\n",
    "print('X has dimensions:', X.shape)\n",
    "print('X is an object of type:', type(X))\n",
    "print('The elements in X are of type:', X.dtype)\n",
    "print('The elements in X have a mean of:', X.mean())\n",
    "print('The maximum value in X is:', X.max())\n",
    "print('The minimum value in X is:', X.min())\n",
    "print('X has', (X < 0).sum(), 'negative numbers')\n",
    "print('X has', (X > 0).sum(), 'positive numbers')"
   ]
  },
  {
   "cell_type": "markdown",
   "id": "0cd657cf",
   "metadata": {},
   "source": [
    "As we can see, the average of the random numbers in the ndarray is close to zero, both the maximum and minimum values in `X` are symmetric about zero (the average), and we have about the same amount of positive and negative numbers."
   ]
  },
  {
   "cell_type": "markdown",
   "id": "66a93ede",
   "metadata": {},
   "source": [
    "## 48.6 Accessing, Deleting, and Inserting Elements Into ndarrays\n",
    "Now that you know how to create a variety of ndarrays, we will now see how NumPy allows us to effectively manipulate the data within the ndarrays. NumPy ndarrays are mutable, meaning that the elements in ndarrays can be changed after the ndarray has been created. NumPy ndarrays can also be sliced, which means that ndarrays can be split in many different ways. This allows us, for example, to retrieve any subset of the ndarray that we want. Often in Machine Learning you will use slicing to separate data, as for example when dividing a data set into training, cross validation, and testing sets.\n",
    "\n",
    "We will start by looking at how the elements of an ndarray can be accessed or modified by indexing. Elements can be accessed using indices inside square brackets, []. NumPy allows you to use both positive and negative indices to access elements in the ndarray. Positive indices are used to access elements from the beginning of the array, while negative indices are used to access elements from the end of the array. Let's see how we can access elements in rank 1 ndarrays:"
   ]
  },
  {
   "cell_type": "code",
   "execution_count": 38,
   "id": "7dd1e77a",
   "metadata": {},
   "outputs": [
    {
     "name": "stdout",
     "output_type": "stream",
     "text": [
      "\n",
      "x =  [1 2 3 4 5]\n",
      "\n",
      "This is First Element in x: 1\n",
      "This is Second Element in x: 2\n",
      "This is Fifth (Last) Element in x: 5\n",
      "\n",
      "This is First Element in x: 1\n",
      "This is Second Element in x: 2\n",
      "This is Fifth (Last) Element in x: 5\n"
     ]
    }
   ],
   "source": [
    "# We create a rank 1 ndarray that contains integers from 1 to 5\n",
    "x = np.array([1, 2, 3, 4, 5])\n",
    "\n",
    "# We print x\n",
    "print()\n",
    "print('x = ', x)\n",
    "print()\n",
    "\n",
    "# Let's access some elements with positive indices\n",
    "print('This is First Element in x:', x[0]) \n",
    "print('This is Second Element in x:', x[1])\n",
    "print('This is Fifth (Last) Element in x:', x[4])\n",
    "print()\n",
    "\n",
    "# Let's access the same elements with negative indices\n",
    "print('This is First Element in x:', x[-5])\n",
    "print('This is Second Element in x:', x[-4])\n",
    "print('This is Fifth (Last) Element in x:', x[-1])"
   ]
  },
  {
   "cell_type": "markdown",
   "id": "024202c6",
   "metadata": {},
   "source": [
    "Notice that to access the first element in the ndarray we have to use the index 0 not 1. Also notice, that the same element can be accessed using both positive and negative indices. As mentioned earlier, positive indices are used to access elements from the beginning of the array, while negative indices are used to access elements from the end of the array.\n",
    "\n",
    "Now let's see how we can change the elements in rank 1 ndarrays. We do this by accessing the element we want to change and then using the `=` sign to assign the new value:"
   ]
  },
  {
   "cell_type": "code",
   "execution_count": 39,
   "id": "a60731b9",
   "metadata": {},
   "outputs": [
    {
     "name": "stdout",
     "output_type": "stream",
     "text": [
      "\n",
      "Original:\n",
      " x =  [1 2 3 4 5]\n",
      "\n",
      "Modified:\n",
      " x =  [ 1  2  3 20  5]\n"
     ]
    }
   ],
   "source": [
    "# We create a rank 1 ndarray that contains integers from 1 to 5\n",
    "x = np.array([1, 2, 3, 4, 5])\n",
    "\n",
    "# We print the original x\n",
    "print()\n",
    "print('Original:\\n x = ', x)\n",
    "print()\n",
    "\n",
    "# We change the fourth element in x from 4 to 20\n",
    "x[3] = 20\n",
    "\n",
    "# We print x after it was modified \n",
    "print('Modified:\\n x = ', x)"
   ]
  },
  {
   "cell_type": "markdown",
   "id": "a894c6cc",
   "metadata": {},
   "source": [
    "Similarly, we can also access and modify specific elements of rank 2 ndarrays. To access elements in rank 2 ndarrays we need to provide 2 indices in the form `[row, column]`. Let's see some examples"
   ]
  },
  {
   "cell_type": "code",
   "execution_count": 40,
   "id": "4da61bb9",
   "metadata": {},
   "outputs": [
    {
     "name": "stdout",
     "output_type": "stream",
     "text": [
      "\n",
      "X = \n",
      " [[1 2 3]\n",
      " [4 5 6]\n",
      " [7 8 9]]\n",
      "\n",
      "This is (0,0) Element in X: 1\n",
      "This is (0,1) Element in X: 2\n",
      "This is (2,2) Element in X: 9\n"
     ]
    }
   ],
   "source": [
    "# We create a 3 x 3 rank 2 ndarray that contains integers from 1 to 9\n",
    "X = np.array([[1,2,3],[4,5,6],[7,8,9]])\n",
    "\n",
    "# We print X\n",
    "print()\n",
    "print('X = \\n', X)\n",
    "print()\n",
    "\n",
    "# Let's access some elements in X\n",
    "print('This is (0,0) Element in X:', X[0,0])\n",
    "print('This is (0,1) Element in X:', X[0,1])\n",
    "print('This is (2,2) Element in X:', X[2,2])"
   ]
  },
  {
   "cell_type": "markdown",
   "id": "00eb9215",
   "metadata": {},
   "source": [
    "Remember that the index `[0, 0]` refers to the element in the first row, first column.\n",
    "\n",
    "Elements in rank 2 ndarrays can be modified in the same way as with rank 1 ndarrays. Let's see an example:"
   ]
  },
  {
   "cell_type": "code",
   "execution_count": 41,
   "id": "f6b94b01",
   "metadata": {},
   "outputs": [
    {
     "name": "stdout",
     "output_type": "stream",
     "text": [
      "\n",
      "Original:\n",
      " X = \n",
      " [[1 2 3]\n",
      " [4 5 6]\n",
      " [7 8 9]]\n",
      "\n",
      "Modified:\n",
      " X = \n",
      " [[20  2  3]\n",
      " [ 4  5  6]\n",
      " [ 7  8  9]]\n"
     ]
    }
   ],
   "source": [
    "# We create a 3 x 3 rank 2 ndarray that contains integers from 1 to 9\n",
    "X = np.array([[1,2,3],[4,5,6],[7,8,9]])\n",
    "\n",
    "# We print the original x\n",
    "print()\n",
    "print('Original:\\n X = \\n', X)\n",
    "print()\n",
    "\n",
    "# We change the (0,0) element in X from 1 to 20\n",
    "X[0,0] = 20\n",
    "\n",
    "# We print X after it was modified \n",
    "print('Modified:\\n X = \\n', X)"
   ]
  },
  {
   "cell_type": "markdown",
   "id": "0537c12d",
   "metadata": {},
   "source": [
    "Now, let's take a look at how we can add and delete elements from ndarrays. We can delete elements using the `np.delete(ndarray, elements, axis)` function. This function `deletes` the given list of `elements` from the given `ndarray` along the specified `axis`. For rank 1 ndarrays the `axis` keyword is not required. For rank 2 ndarrays, `axis = 0` is used to select rows, and `axis = 1` is used to select columns. Let's see some examples:"
   ]
  },
  {
   "cell_type": "code",
   "execution_count": 42,
   "id": "87957215",
   "metadata": {},
   "outputs": [
    {
     "name": "stdout",
     "output_type": "stream",
     "text": [
      "\n",
      "Original x =  [1 2 3 4 5]\n",
      "\n",
      "Modified x =  [2 3 4]\n",
      "\n",
      "Original Y = \n",
      " [[1 2 3]\n",
      " [4 5 6]\n",
      " [7 8 9]]\n",
      "\n",
      "w = \n",
      " [[4 5 6]\n",
      " [7 8 9]]\n",
      "\n",
      "v = \n",
      " [[2]\n",
      " [5]\n",
      " [8]]\n"
     ]
    }
   ],
   "source": [
    "# We create a rank 1 ndarray \n",
    "x = np.array([1, 2, 3, 4, 5])\n",
    "\n",
    "# We create a rank 2 ndarray\n",
    "Y = np.array([[1,2,3],[4,5,6],[7,8,9]])\n",
    "\n",
    "# We print x\n",
    "print()\n",
    "print('Original x = ', x)\n",
    "\n",
    "# We delete the first and last element of x\n",
    "x = np.delete(x, [0,4])\n",
    "\n",
    "# We print x with the first and last element deleted\n",
    "print()\n",
    "print('Modified x = ', x)\n",
    "\n",
    "# We print Y\n",
    "print()\n",
    "print('Original Y = \\n', Y)\n",
    "\n",
    "# We delete the first row of y\n",
    "w = np.delete(Y, 0, axis=0)\n",
    "\n",
    "# We delete the first and last column of y\n",
    "v = np.delete(Y, [0,2], axis=1)\n",
    "\n",
    "# We print w\n",
    "print()\n",
    "print('w = \\n', w)\n",
    "\n",
    "# We print v\n",
    "print()\n",
    "print('v = \\n', v)"
   ]
  },
  {
   "cell_type": "markdown",
   "id": "81c110d4",
   "metadata": {},
   "source": [
    "Now, let's see how we can append values to ndarrays. We can append values to ndarrays using the `np.append(ndarray, elements, axis)` function. This function appends the given list of `elements` to `ndarray` along the specified `axis`. Let's see some examples:"
   ]
  },
  {
   "cell_type": "code",
   "execution_count": 43,
   "id": "f69d60e1",
   "metadata": {},
   "outputs": [
    {
     "name": "stdout",
     "output_type": "stream",
     "text": [
      "\n",
      "Original x =  [1 2 3 4 5]\n",
      "\n",
      "x =  [1 2 3 4 5 6]\n",
      "\n",
      "x =  [1 2 3 4 5 6 7 8]\n",
      "\n",
      "Original Y = \n",
      " [[1 2 3]\n",
      " [4 5 6]]\n",
      "\n",
      "v = \n",
      " [[1 2 3]\n",
      " [4 5 6]\n",
      " [7 8 9]]\n",
      "\n",
      "q = \n",
      " [[ 1  2  3  9]\n",
      " [ 4  5  6 10]]\n"
     ]
    }
   ],
   "source": [
    "# We create a rank 1 ndarray \n",
    "x = np.array([1, 2, 3, 4, 5])\n",
    "\n",
    "# We create a rank 2 ndarray \n",
    "Y = np.array([[1,2,3],[4,5,6]])\n",
    "\n",
    "# We print x\n",
    "print()\n",
    "print('Original x = ', x)\n",
    "\n",
    "# We append the integer 6 to x\n",
    "x = np.append(x, 6)\n",
    "\n",
    "# We print x\n",
    "print()\n",
    "print('x = ', x)\n",
    "\n",
    "# We append the integer 7 and 8 to x\n",
    "x = np.append(x, [7,8])\n",
    "\n",
    "# We print x\n",
    "print()\n",
    "print('x = ', x)\n",
    "\n",
    "# We print Y\n",
    "print()\n",
    "print('Original Y = \\n', Y)\n",
    "\n",
    "# We append a new row containing 7,8,9 to y\n",
    "v = np.append(Y, [[7,8,9]], axis=0)\n",
    "\n",
    "# We append a new column containing 9 and 10 to y\n",
    "q = np.append(Y,[[9],[10]], axis=1)\n",
    "\n",
    "# We print v\n",
    "print()\n",
    "print('v = \\n', v)\n",
    "\n",
    "# We print q\n",
    "print()\n",
    "print('q = \\n', q)"
   ]
  },
  {
   "cell_type": "markdown",
   "id": "6eb9f1c9",
   "metadata": {},
   "source": [
    "Notice that when appending rows or columns to rank 2 ndarrays the rows or columns must have the correct shape, so as to match the shape of the rank 2 ndarray.\n",
    "\n",
    "Now let's see now how we can insert values to ndarrays. We can insert values to ndarrays using the `np.insert(ndarray, index, elements, axis)` function. This function inserts the given list of `elements` to `ndarray` right before the given `index` along the specified `axis`. Let's see some examples:"
   ]
  },
  {
   "cell_type": "code",
   "execution_count": 44,
   "id": "7a1ff6b8",
   "metadata": {},
   "outputs": [
    {
     "name": "stdout",
     "output_type": "stream",
     "text": [
      "\n",
      "Original x =  [1 2 5 6 7]\n",
      "\n",
      "x =  [1 2 3 4 5 6 7]\n",
      "\n",
      "Original Y = \n",
      " [[1 2 3]\n",
      " [7 8 9]]\n",
      "\n",
      "w = \n",
      " [[1 2 3]\n",
      " [4 5 6]\n",
      " [7 8 9]]\n",
      "\n",
      "v = \n",
      " [[1 5 2 3]\n",
      " [7 5 8 9]]\n"
     ]
    }
   ],
   "source": [
    "# We create a rank 1 ndarray \n",
    "x = np.array([1, 2, 5, 6, 7])\n",
    "\n",
    "# We create a rank 2 ndarray \n",
    "Y = np.array([[1,2,3],[7,8,9]])\n",
    "\n",
    "# We print x\n",
    "print()\n",
    "print('Original x = ', x)\n",
    "\n",
    "# We insert the integer 3 and 4 between 2 and 5 in x. \n",
    "x = np.insert(x,2,[3,4])\n",
    "\n",
    "# We print x with the inserted elements\n",
    "print()\n",
    "print('x = ', x)\n",
    "\n",
    "# We print Y\n",
    "print()\n",
    "print('Original Y = \\n', Y)\n",
    "\n",
    "# We insert a row between the first and last row of y\n",
    "w = np.insert(Y,1,[4,5,6],axis=0)\n",
    "\n",
    "# We insert a column full of 5s between the first and second column of y\n",
    "v = np.insert(Y,1,5, axis=1)\n",
    "\n",
    "# We print w\n",
    "print()\n",
    "print('w = \\n', w)\n",
    "\n",
    "# We print v\n",
    "print()\n",
    "print('v = \\n', v)"
   ]
  },
  {
   "cell_type": "markdown",
   "id": "53852609",
   "metadata": {},
   "source": [
    "NumPy also allows us to stack ndarrays on top of each other, or to stack them side by side. The stacking is done using either the `np.vstack()` function for vertical stacking, or the `np.hstack()` function for horizontal stacking. It is important to note that in order to stack ndarrays, the shape of the ndarrays must match. Let's see some examples:"
   ]
  },
  {
   "cell_type": "code",
   "execution_count": 45,
   "id": "d5c7f9a7",
   "metadata": {},
   "outputs": [
    {
     "name": "stdout",
     "output_type": "stream",
     "text": [
      "\n",
      "x =  [1 2]\n",
      "\n",
      "Y = \n",
      " [[3 4]\n",
      " [5 6]]\n",
      "\n",
      "z = \n",
      " [[1 2]\n",
      " [3 4]\n",
      " [5 6]]\n",
      "\n",
      "w = \n",
      " [[3 4 1]\n",
      " [5 6 2]]\n"
     ]
    }
   ],
   "source": [
    "# We create a rank 1 ndarray \n",
    "x = np.array([1,2])\n",
    "\n",
    "# We create a rank 2 ndarray \n",
    "Y = np.array([[3,4],[5,6]])\n",
    "\n",
    "# We print x\n",
    "print()\n",
    "print('x = ', x)\n",
    "\n",
    "# We print Y\n",
    "print()\n",
    "print('Y = \\n', Y)\n",
    "\n",
    "# We stack x on top of Y\n",
    "z = np.vstack((x,Y))\n",
    "\n",
    "# We stack x on the right of Y. We need to reshape x in order to stack it on the right of Y. \n",
    "w = np.hstack((Y,x.reshape(2,1)))\n",
    "\n",
    "# We print z\n",
    "print()\n",
    "print('z = \\n', z)\n",
    "\n",
    "# We print w\n",
    "print()\n",
    "print('w = \\n', w)"
   ]
  },
  {
   "cell_type": "markdown",
   "id": "736d7eb4",
   "metadata": {},
   "source": [
    "### 48.6 Slicing ndarrays\n",
    "As we mentioned earlier, in addition to being able to access individual elements one at a time, NumPy provides a way to access subsets of ndarrays. This is known as slicing. Slicing is performed by combining indices with the colon `:` symbol inside the square brackets. In general you will come across three types of slicing:"
   ]
  },
  {
   "cell_type": "raw",
   "id": "3af9ce5b",
   "metadata": {},
   "source": [
    "1. ndarray[start:end]\n",
    "2. ndarray[start:]\n",
    "3. ndarray[:end]"
   ]
  },
  {
   "cell_type": "markdown",
   "id": "7daf1f1a",
   "metadata": {},
   "source": [
    "The first method is used to select elements between the `start` and `end` indices. The second method is used to select all elements from the `start` index till the last index. The third method is used to select all elements from the first index till the end index. We should note that in methods one and three, the `end` index is excluded. We should also note that since ndarrays can be multidimensional, when doing slicing you usually have to specify a slice for each dimension of the array."
   ]
  },
  {
   "cell_type": "markdown",
   "id": "482d9064",
   "metadata": {},
   "source": [
    "We will now see some examples of how to use the above methods to select different subsets of a rank 2 ndarray."
   ]
  },
  {
   "cell_type": "code",
   "execution_count": 47,
   "id": "82595a1a",
   "metadata": {},
   "outputs": [
    {
     "name": "stdout",
     "output_type": "stream",
     "text": [
      "\n",
      "X = \n",
      " [[ 0  1  2  3  4]\n",
      " [ 5  6  7  8  9]\n",
      " [10 11 12 13 14]\n",
      " [15 16 17 18 19]]\n",
      "\n",
      "Z = \n",
      " [[ 7  8  9]\n",
      " [12 13 14]\n",
      " [17 18 19]]\n",
      "\n",
      "W = \n",
      " [[ 7  8  9]\n",
      " [12 13 14]\n",
      " [17 18 19]]\n",
      "\n",
      "Y = \n",
      " [[ 2  3  4]\n",
      " [ 7  8  9]\n",
      " [12 13 14]]\n",
      "\n",
      "v =  [10 11 12 13 14]\n",
      "\n",
      "q =  [ 2  7 12 17]\n",
      "\n",
      "R = \n",
      " [[ 2]\n",
      " [ 7]\n",
      " [12]\n",
      " [17]]\n"
     ]
    }
   ],
   "source": [
    "# We create a 4 x 5 ndarray that contains integers from 0 to 19\n",
    "X = np.arange(20).reshape(4, 5)\n",
    "\n",
    "# We print X\n",
    "print()\n",
    "print('X = \\n', X)\n",
    "print()\n",
    "\n",
    "# We select all the elements that are in the 2nd through 4th rows and in the 3rd to 5th columns\n",
    "Z = X[1:4,2:5]\n",
    "\n",
    "# We print Z\n",
    "print('Z = \\n', Z)\n",
    "\n",
    "# We can select the same elements as above using method 2\n",
    "W = X[1:,2:5]\n",
    "\n",
    "# We print W\n",
    "print()\n",
    "print('W = \\n', W)\n",
    "\n",
    "# We select all the elements that are in the 1st through 3rd rows and in the 3rd to 4th columns\n",
    "Y = X[:3,2:5]\n",
    "\n",
    "# We print Y\n",
    "print()\n",
    "print('Y = \\n', Y)\n",
    "\n",
    "# We select all the elements in the 3rd row\n",
    "v = X[2,:]\n",
    "\n",
    "# We print v\n",
    "print()\n",
    "print('v = ', v)\n",
    "\n",
    "# We select all the elements in the 3rd column\n",
    "q = X[:,2]\n",
    "\n",
    "# We print q\n",
    "print()\n",
    "print('q = ', q)\n",
    "\n",
    "# We select all the elements in the 3rd column but return a rank 2 ndarray\n",
    "R = X[:,2:3]\n",
    "\n",
    "# We print R\n",
    "print()\n",
    "print('R = \\n', R)"
   ]
  },
  {
   "cell_type": "markdown",
   "id": "3a4cd73d",
   "metadata": {},
   "source": [
    "Notice that when we selected all the elements in the 3rd column, variable `q` above, the slice returned a rank 1 ndarray instead of a rank 2 ndarray. However, slicing `X` in a slightly different way, variable `R` above, we can actually get a rank 2 ndarray instead.\n",
    "\n",
    "It is important to note that when we perform slices on ndarrays and save them into new variables, as we did above, the data is not copied into the new variable. This is one feature that often causes confusion for beginners. Therefore, we will look at this in a bit more detail.\n",
    "\n",
    "In the above examples, when we make assignments, such as:"
   ]
  },
  {
   "cell_type": "raw",
   "id": "9b15fdfe",
   "metadata": {},
   "source": [
    "Z = X[1:4,2:5]"
   ]
  },
  {
   "cell_type": "markdown",
   "id": "065a8470",
   "metadata": {},
   "source": [
    "the slice of the original array `X` is not copied in the variable `Z`. Rather, `X` and `Z` are now just two different names for the same ndarray. We say that slicing only creates a view of the original array. This means that if you make changes in `Z` you will be in effect changing the elements in `X` as well. Let's see this with an example:"
   ]
  },
  {
   "cell_type": "code",
   "execution_count": 49,
   "id": "a4970b90",
   "metadata": {},
   "outputs": [
    {
     "name": "stdout",
     "output_type": "stream",
     "text": [
      "\n",
      "X = \n",
      " [[ 0  1  2  3  4]\n",
      " [ 5  6  7  8  9]\n",
      " [10 11 12 13 14]\n",
      " [15 16 17 18 19]]\n",
      "\n",
      "\n",
      "Z = \n",
      " [[ 7  8  9]\n",
      " [12 13 14]\n",
      " [17 18 19]]\n",
      "\n",
      "\n",
      "X = \n",
      " [[  0   1   2   3   4]\n",
      " [  5   6   7   8   9]\n",
      " [ 10  11  12  13  14]\n",
      " [ 15  16  17  18 555]]\n",
      "\n"
     ]
    }
   ],
   "source": [
    "# We create a 4 x 5 ndarray that contains integers from 0 to 19\n",
    "X = np.arange(20).reshape(4, 5)\n",
    "\n",
    "# We print X\n",
    "print()\n",
    "print('X = \\n', X)\n",
    "print()\n",
    "\n",
    "# We select all the elements that are in the 2nd through 4th rows and in the 3rd to 4th columns\n",
    "Z = X[1:4,2:5]\n",
    "\n",
    "# We print Z\n",
    "print()\n",
    "print('Z = \\n', Z)\n",
    "print()\n",
    "\n",
    "# We change the last element in Z to 555\n",
    "Z[2,2] = 555\n",
    "\n",
    "# We print X\n",
    "print()\n",
    "print('X = \\n', X)\n",
    "print()"
   ]
  },
  {
   "cell_type": "markdown",
   "id": "1f8f30da",
   "metadata": {},
   "source": [
    "We can clearly see in the above example that if we make changes to `Z`, `X` changes as well.\n",
    "\n",
    "However, if we want to create a new ndarray that contains a copy of the values in the slice we need to use the `np.copy()` function. The `np.copy(ndarray)` function creates a copy of the given `ndarray`. This function can also be used as a method, in the same way as we did before with the reshape function. Let's do the same example we did before but now with copies of the arrays. We'll use `copy` both as a function and as a method."
   ]
  },
  {
   "cell_type": "code",
   "execution_count": 50,
   "id": "84a6257f",
   "metadata": {},
   "outputs": [
    {
     "name": "stdout",
     "output_type": "stream",
     "text": [
      "\n",
      "X = \n",
      " [[ 0  1  2  3  4]\n",
      " [ 5  6  7  8  9]\n",
      " [10 11 12 13 14]\n",
      " [15 16 17 18 19]]\n",
      "\n",
      "\n",
      "X = \n",
      " [[ 0  1  2  3  4]\n",
      " [ 5  6  7  8  9]\n",
      " [10 11 12 13 14]\n",
      " [15 16 17 18 19]]\n",
      "\n",
      "Z = \n",
      " [[  7   8   9]\n",
      " [ 12  13  14]\n",
      " [ 17  18 555]]\n",
      "\n",
      "W = \n",
      " [[  7   8   9]\n",
      " [ 12  13  14]\n",
      " [ 17  18 444]]\n"
     ]
    }
   ],
   "source": [
    "# We create a 4 x 5 ndarray that contains integers from 0 to 19\n",
    "X = np.arange(20).reshape(4, 5)\n",
    "\n",
    "# We print X\n",
    "print()\n",
    "print('X = \\n', X)\n",
    "print()\n",
    "\n",
    "# create a copy of the slice using the np.copy() function\n",
    "Z = np.copy(X[1:4,2:5])\n",
    "\n",
    "#  create a copy of the slice using the copy as a method\n",
    "W = X[1:4,2:5].copy()\n",
    "\n",
    "# We change the last element in Z to 555\n",
    "Z[2,2] = 555\n",
    "\n",
    "# We change the last element in W to 444\n",
    "W[2,2] = 444\n",
    "\n",
    "# We print X\n",
    "print()\n",
    "print('X = \\n', X)\n",
    "\n",
    "# We print Z\n",
    "print()\n",
    "print('Z = \\n', Z)\n",
    "\n",
    "# We print W\n",
    "print()\n",
    "print('W = \\n', W)"
   ]
  },
  {
   "cell_type": "markdown",
   "id": "8d093970",
   "metadata": {},
   "source": [
    "We can clearly see that by using the `copy` command, we are creating new ndarrays that are completely independent of each other.\n",
    "\n",
    "It is often useful to use one ndarray to make slices, select, or change elements in another ndarray. Let's see some examples:"
   ]
  },
  {
   "cell_type": "code",
   "execution_count": 51,
   "id": "3a0a3ba9",
   "metadata": {},
   "outputs": [
    {
     "name": "stdout",
     "output_type": "stream",
     "text": [
      "\n",
      "X = \n",
      " [[ 0  1  2  3  4]\n",
      " [ 5  6  7  8  9]\n",
      " [10 11 12 13 14]\n",
      " [15 16 17 18 19]]\n",
      "\n",
      "indices =  [1 3]\n",
      "\n",
      "\n",
      "Y = \n",
      " [[ 5  6  7  8  9]\n",
      " [15 16 17 18 19]]\n",
      "\n",
      "Z = \n",
      " [[ 1  3]\n",
      " [ 6  8]\n",
      " [11 13]\n",
      " [16 18]]\n"
     ]
    }
   ],
   "source": [
    "# We create a 4 x 5 ndarray that contains integers from 0 to 19\n",
    "X = np.arange(20).reshape(4, 5)\n",
    "\n",
    "# We create a rank 1 ndarray that will serve as indices to select elements from X\n",
    "indices = np.array([1,3])\n",
    "\n",
    "# We print X\n",
    "print()\n",
    "print('X = \\n', X)\n",
    "print()\n",
    "\n",
    "# We print indices\n",
    "print('indices = ', indices)\n",
    "print()\n",
    "\n",
    "# We use the indices ndarray to select the 2nd and 4th row of X\n",
    "Y = X[indices,:]\n",
    "\n",
    "# We use the indices ndarray to select the 2nd and 4th column of X\n",
    "Z = X[:, indices]\n",
    "\n",
    "# We print Y\n",
    "print()\n",
    "print('Y = \\n', Y)\n",
    "\n",
    "# We print Z\n",
    "print()\n",
    "print('Z = \\n', Z)"
   ]
  },
  {
   "cell_type": "markdown",
   "id": "d671e882",
   "metadata": {},
   "source": [
    "NumPy also offers built-in functions to select specific elements within ndarrays. For example, the `np.diag(ndarray, k=N)` function extracts the elements along the `diagonal` defined by `N`. As default is `k=0`, which refers to the main diagonal. Values of `k > 0` are used to select elements in diagonals above the main diagonal, and values of `k < 0` are used to select elements in diagonals below the main diagonal. Let's see an example:"
   ]
  },
  {
   "cell_type": "code",
   "execution_count": 52,
   "id": "cf710353",
   "metadata": {},
   "outputs": [
    {
     "name": "stdout",
     "output_type": "stream",
     "text": [
      "\n",
      "X = \n",
      " [[ 0  1  2  3  4]\n",
      " [ 5  6  7  8  9]\n",
      " [10 11 12 13 14]\n",
      " [15 16 17 18 19]\n",
      " [20 21 22 23 24]]\n",
      "\n",
      "z = [ 0  6 12 18 24]\n",
      "\n",
      "y = [ 1  7 13 19]\n",
      "\n",
      "w =  [ 5 11 17 23]\n"
     ]
    }
   ],
   "source": [
    "# We create a 4 x 5 ndarray that contains integers from 0 to 19\n",
    "X = np.arange(25).reshape(5, 5)\n",
    "\n",
    "# We print X\n",
    "print()\n",
    "print('X = \\n', X)\n",
    "print()\n",
    "\n",
    "# We print the elements in the main diagonal of X\n",
    "print('z =', np.diag(X))\n",
    "print()\n",
    "\n",
    "# We print the elements above the main diagonal of X\n",
    "print('y =', np.diag(X, k=1))\n",
    "print()\n",
    "\n",
    "# We print the elements below the main diagonal of X\n",
    "print('w = ', np.diag(X, k=-1))"
   ]
  },
  {
   "cell_type": "markdown",
   "id": "3729f8f6",
   "metadata": {},
   "source": [
    "It is often useful to extract only the unique elements in an ndarray. We can find the unique elements in an ndarray by using the `np.unique()` function. The `np.unique(ndarray)` function returns the `unique` elements in the given `ndarray`, as in the example below:"
   ]
  },
  {
   "cell_type": "code",
   "execution_count": 53,
   "id": "89ac3145",
   "metadata": {},
   "outputs": [
    {
     "name": "stdout",
     "output_type": "stream",
     "text": [
      "\n",
      "X = \n",
      " [[1 2 3]\n",
      " [5 2 8]\n",
      " [1 2 3]]\n",
      "\n",
      "The unique elements in X are: [1 2 3 5 8]\n"
     ]
    }
   ],
   "source": [
    "# Create 3 x 3 ndarray with repeated values\n",
    "X = np.array([[1,2,3],[5,2,8],[1,2,3]])\n",
    "\n",
    "# We print X\n",
    "print()\n",
    "print('X = \\n', X)\n",
    "print()\n",
    "\n",
    "# We print the unique elements of X \n",
    "print('The unique elements in X are:',np.unique(X))"
   ]
  },
  {
   "cell_type": "markdown",
   "id": "46dfba96",
   "metadata": {},
   "source": [
    "### 48.7 Boolean Indexing, Set Operations, and Sorting\n",
    "Up to now we have seen how to make slices and select elements of an ndarray using indices. This is useful when we know the exact indices of the elements we want to select. However, there are many situations in which we don't know the indices of the elements we want to select. For example, suppose we have a 10,000 x 10,000 ndarray of random integers ranging from 1 to 15,000 and we only want to select those integers that are less than 20. Boolean indexing can help us in these cases, by allowing us select elements using logical arguments instead of explicit indices. Let's see some examples:"
   ]
  },
  {
   "cell_type": "code",
   "execution_count": 54,
   "id": "54c7ebe1",
   "metadata": {},
   "outputs": [
    {
     "name": "stdout",
     "output_type": "stream",
     "text": [
      "\n",
      "Original X = \n",
      " [[ 0  1  2  3  4]\n",
      " [ 5  6  7  8  9]\n",
      " [10 11 12 13 14]\n",
      " [15 16 17 18 19]\n",
      " [20 21 22 23 24]]\n",
      "\n",
      "The elements in X that are greater than 10: [11 12 13 14 15 16 17 18 19 20 21 22 23 24]\n",
      "The elements in X that less than or equal to 7: [0 1 2 3 4 5 6 7]\n",
      "The elements in X that are between 10 and 17: [11 12 13 14 15 16]\n",
      "\n",
      "X = \n",
      " [[ 0  1  2  3  4]\n",
      " [ 5  6  7  8  9]\n",
      " [10 -1 -1 -1 -1]\n",
      " [-1 -1 17 18 19]\n",
      " [20 21 22 23 24]]\n",
      "\n"
     ]
    }
   ],
   "source": [
    "# We create a 5 x 5 ndarray that contains integers from 0 to 24\n",
    "X = np.arange(25).reshape(5, 5)\n",
    "\n",
    "# We print X\n",
    "print()\n",
    "print('Original X = \\n', X)\n",
    "print()\n",
    "\n",
    "# We use Boolean indexing to select elements in X:\n",
    "print('The elements in X that are greater than 10:', X[X > 10])\n",
    "print('The elements in X that less than or equal to 7:', X[X <= 7])\n",
    "print('The elements in X that are between 10 and 17:', X[(X > 10) & (X < 17)])\n",
    "\n",
    "# We use Boolean indexing to assign the elements that are between 10 and 17 the value of -1\n",
    "X[(X > 10) & (X < 17)] = -1\n",
    "\n",
    "# We print X\n",
    "print()\n",
    "print('X = \\n', X)\n",
    "print()"
   ]
  },
  {
   "cell_type": "markdown",
   "id": "6dc8ab9d",
   "metadata": {},
   "source": [
    "In addition to Boolean Indexing NumPy also allows for set operations. This useful when comparing ndarrays, for example, to find common elements between two ndarrays. Let's see some examples:"
   ]
  },
  {
   "cell_type": "markdown",
   "id": "95d701c2",
   "metadata": {},
   "source": [
    "We can also sort ndarrays in NumPy. We will learn how to use the `np.sort()` function to sort rank 1 and rank 2 ndarrays in different ways. Like with other functions we saw before, the `sort` function can also be used as a method. However, there is a big difference on how the data is stored in memory in this case. When `np.sort()` is used as a function, it sorts the ndrrays out of place, meaning, that it doesn't change the original ndarray being sorted. However, when you use `sort` as a method, `ndarray.sort()` sorts the ndarray in place, meaning, that the original array will be changed to the sorted one. Let's see some examples:"
   ]
  },
  {
   "cell_type": "code",
   "execution_count": 55,
   "id": "c3264d7d",
   "metadata": {},
   "outputs": [
    {
     "name": "stdout",
     "output_type": "stream",
     "text": [
      "\n",
      "Original x =  [10  9  8  1  5  2  1  4  7  1]\n",
      "\n",
      "Sorted x (out of place): [ 1  1  1  2  4  5  7  8  9 10]\n",
      "\n",
      "x after sorting: [10  9  8  1  5  2  1  4  7  1]\n"
     ]
    }
   ],
   "source": [
    "# We create an unsorted rank 1 ndarray\n",
    "x = np.random.randint(1,11,size=(10,))\n",
    "\n",
    "# We print x\n",
    "print()\n",
    "print('Original x = ', x)\n",
    "\n",
    "# We sort x and print the sorted array using sort as a function.\n",
    "print()\n",
    "print('Sorted x (out of place):', np.sort(x))\n",
    "\n",
    "# When we sort out of place the original array remains intact. To see this we print x again\n",
    "print()\n",
    "print('x after sorting:', x)"
   ]
  },
  {
   "cell_type": "markdown",
   "id": "8e6d31d4",
   "metadata": {},
   "source": [
    "Notice that `np.sort()` sorts the array but, if the ndarray being sorted has repeated values, `np.sort()` leaves those values in the sorted array. However, if desired, we can sort only the unique elements in `x` by combining the sort function with the unique function. Let's see how we can sort the unique elements of `x` above:"
   ]
  },
  {
   "cell_type": "code",
   "execution_count": 56,
   "id": "52f1dd23",
   "metadata": {},
   "outputs": [
    {
     "name": "stdout",
     "output_type": "stream",
     "text": [
      "[ 1  2  4  5  7  8  9 10]\n"
     ]
    }
   ],
   "source": [
    "# We sort x but only keep the unique elements in x\n",
    "print(np.sort(np.unique(x)))"
   ]
  },
  {
   "cell_type": "markdown",
   "id": "d7d80864",
   "metadata": {},
   "source": [
    "Finally, let's see how we can sort ndarrays in place, by using sort as a method:"
   ]
  },
  {
   "cell_type": "code",
   "execution_count": 57,
   "id": "3c9386de",
   "metadata": {},
   "outputs": [
    {
     "name": "stdout",
     "output_type": "stream",
     "text": [
      "\n",
      "Original x =  [10  3  8  7  3  9  7  2  7 10]\n",
      "\n",
      "x after sorting: [ 2  3  3  7  7  7  8  9 10 10]\n"
     ]
    }
   ],
   "source": [
    "# We create an unsorted rank 1 ndarray\n",
    "x = np.random.randint(1,11,size=(10,))\n",
    "\n",
    "# We print x\n",
    "print()\n",
    "print('Original x = ', x)\n",
    "\n",
    "# We sort x and print the sorted array using sort as a method.\n",
    "x.sort()\n",
    "\n",
    "# When we sort in place the original array is changed to the sorted array. To see this we print x again\n",
    "print()\n",
    "print('x after sorting:', x)"
   ]
  },
  {
   "cell_type": "markdown",
   "id": "6feaa049",
   "metadata": {},
   "source": [
    "When sorting rank 2 ndarrays, we need to specify to the `np.sort()` function whether we are sorting by rows or columns. This is done by using the `axis` keyword. Let's see some examples:"
   ]
  },
  {
   "cell_type": "code",
   "execution_count": 58,
   "id": "64f4d090",
   "metadata": {},
   "outputs": [
    {
     "name": "stdout",
     "output_type": "stream",
     "text": [
      "\n",
      "Original X = \n",
      " [[ 3  6  4  3  8]\n",
      " [ 1  6 10  3  3]\n",
      " [10  7  9  1  4]\n",
      " [10  2  6  9  9]\n",
      " [ 9  1  8 10  4]]\n",
      "\n",
      "\n",
      "X with sorted columns :\n",
      " [[ 1  1  4  1  3]\n",
      " [ 3  2  6  3  4]\n",
      " [ 9  6  8  3  4]\n",
      " [10  6  9  9  8]\n",
      " [10  7 10 10  9]]\n",
      "\n",
      "X with sorted rows :\n",
      " [[ 3  3  4  6  8]\n",
      " [ 1  3  3  6 10]\n",
      " [ 1  4  7  9 10]\n",
      " [ 2  6  9  9 10]\n",
      " [ 1  4  8  9 10]]\n"
     ]
    }
   ],
   "source": [
    "# We create an unsorted rank 2 ndarray\n",
    "X = np.random.randint(1,11,size=(5,5))\n",
    "\n",
    "# We print X\n",
    "print()\n",
    "print('Original X = \\n', X)\n",
    "print()\n",
    "\n",
    "# We sort the columns of X and print the sorted array\n",
    "print()\n",
    "print('X with sorted columns :\\n', np.sort(X, axis = 0))\n",
    "\n",
    "# We sort the rows of X and print the sorted array\n",
    "print()\n",
    "print('X with sorted rows :\\n', np.sort(X, axis = 1))"
   ]
  },
  {
   "cell_type": "markdown",
   "id": "825593d1",
   "metadata": {},
   "source": [
    "### 48.8 Arithmetic operations and Broadcasting\n",
    "We have reached the last lesson in this Introduction to NumPy. In this last lesson we will see how NumPy does arithmetic operations on ndarrays. NumPy allows element-wise operations on ndarrays as well as matrix operations. In this lesson we will only be looking at element-wise operations on ndarrays. In order to do element-wise operations, NumPy sometimes uses something called Broadcasting. Broadcasting is the term used to describe how NumPy handles element-wise arithmetic operations with ndarrays of different shapes. For example, broadcasting is used implicitly when doing arithmetic operations between scalars and ndarrays.\n",
    "\n",
    "Let's start by doing element-wise addition, subtraction, multiplication, and division, between ndarrays. To do this, NumPy provides a functional approach, where we use functions such as `np.add()`, or by using arithmetic symbols, such as `+`, that resembles more how we write mathematical equations. Both forms will do the same operation, the only difference is that if you use the function approach, the functions usually have options that you can tweak using keywords. It is important to note that when performing element-wise operations, the shapes of the ndarrays being operated on, must have the same shape or be broadcastable. We'll explain more about this later in this lesson. Let's start by performing element-wise arithmetic operations on rank 1 ndarrays:"
   ]
  },
  {
   "cell_type": "code",
   "execution_count": 64,
   "id": "eba1bf2a",
   "metadata": {},
   "outputs": [
    {
     "name": "stdout",
     "output_type": "stream",
     "text": [
      "\n",
      "x =  [1 2 3 4]\n",
      "\n",
      "y =  [5.5 6.5 7.5 8.5]\n",
      "\n",
      "x + y =  [ 6.5  8.5 10.5 12.5]\n",
      "add(x,y) =  [ 6.5  8.5 10.5 12.5]\n",
      "\n",
      "x - y =  [-4.5 -4.5 -4.5 -4.5]\n",
      "subtract(x,y) =  [-4.5 -4.5 -4.5 -4.5]\n",
      "\n",
      "x * y =  [ 5.5 13.  22.5 34. ]\n",
      "multiply(x,y) =  [ 5.5 13.  22.5 34. ]\n",
      "\n",
      "x / y =  [0.18181818 0.30769231 0.4        0.47058824]\n",
      "divide(x,y) =  [0.18181818 0.30769231 0.4        0.47058824]\n"
     ]
    }
   ],
   "source": [
    "# We create two rank 1 ndarrays\n",
    "x = np.array([1,2,3,4])\n",
    "y = np.array([5.5,6.5,7.5,8.5])\n",
    "\n",
    "# We print x\n",
    "print()\n",
    "print('x = ', x)\n",
    "\n",
    "# We print y\n",
    "print()\n",
    "print('y = ', y)\n",
    "print()\n",
    "\n",
    "# We perfrom basic element-wise operations using arithmetic symbols and functions\n",
    "print('x + y = ', x + y)\n",
    "print('add(x,y) = ', np.add(x,y))\n",
    "print()\n",
    "print('x - y = ', x - y)\n",
    "print('subtract(x,y) = ', np.subtract(x,y))\n",
    "print()\n",
    "print('x * y = ', x * y)\n",
    "print('multiply(x,y) = ', np.multiply(x,y))\n",
    "print()\n",
    "print('x / y = ', x / y)\n",
    "print('divide(x,y) = ', np.divide(x,y))"
   ]
  },
  {
   "cell_type": "markdown",
   "id": "16b42267",
   "metadata": {},
   "source": [
    "We can also perform the same element-wise arithmetic operations on rank 2 ndarrays. Again, remember that in order to do these operations the shapes of the ndarrays being operated on, must have the same shape or be broadcastable."
   ]
  },
  {
   "cell_type": "code",
   "execution_count": 65,
   "id": "7624769a",
   "metadata": {},
   "outputs": [
    {
     "name": "stdout",
     "output_type": "stream",
     "text": [
      "\n",
      "X = \n",
      " [[1 2]\n",
      " [3 4]]\n",
      "\n",
      "Y = \n",
      " [[5.5 6.5]\n",
      " [7.5 8.5]]\n",
      "\n",
      "X + Y = \n",
      " [[ 6.5  8.5]\n",
      " [10.5 12.5]]\n",
      "\n",
      "add(X,Y) = \n",
      " [[ 6.5  8.5]\n",
      " [10.5 12.5]]\n",
      "\n",
      "X - Y = \n",
      " [[-4.5 -4.5]\n",
      " [-4.5 -4.5]]\n",
      "\n",
      "subtract(X,Y) = \n",
      " [[-4.5 -4.5]\n",
      " [-4.5 -4.5]]\n",
      "\n",
      "X * Y = \n",
      " [[ 5.5 13. ]\n",
      " [22.5 34. ]]\n",
      "\n",
      "multiply(X,Y) = \n",
      " [[ 5.5 13. ]\n",
      " [22.5 34. ]]\n",
      "\n",
      "X / Y = \n",
      " [[0.18181818 0.30769231]\n",
      " [0.4        0.47058824]]\n",
      "\n",
      "divide(X,Y) = \n",
      " [[0.18181818 0.30769231]\n",
      " [0.4        0.47058824]]\n"
     ]
    }
   ],
   "source": [
    "# We create two rank 2 ndarrays\n",
    "X = np.array([1,2,3,4]).reshape(2,2)\n",
    "Y = np.array([5.5,6.5,7.5,8.5]).reshape(2,2)\n",
    "\n",
    "# We print X\n",
    "print()\n",
    "print('X = \\n', X)\n",
    "\n",
    "# We print Y\n",
    "print()\n",
    "print('Y = \\n', Y)\n",
    "print()\n",
    "\n",
    "# We perform basic element-wise operations using arithmetic symbols and functions\n",
    "print('X + Y = \\n', X + Y)\n",
    "print()\n",
    "print('add(X,Y) = \\n', np.add(X,Y))\n",
    "print()\n",
    "print('X - Y = \\n', X - Y)\n",
    "print()\n",
    "print('subtract(X,Y) = \\n', np.subtract(X,Y))\n",
    "print()\n",
    "print('X * Y = \\n', X * Y)\n",
    "print()\n",
    "print('multiply(X,Y) = \\n', np.multiply(X,Y))\n",
    "print()\n",
    "print('X / Y = \\n', X / Y)\n",
    "print()\n",
    "print('divide(X,Y) = \\n', np.divide(X,Y))"
   ]
  },
  {
   "cell_type": "markdown",
   "id": "544679b5",
   "metadata": {},
   "source": [
    "We can also apply mathematical functions, such as `sqrt(x)`, to all elements of an ndarray at once."
   ]
  },
  {
   "cell_type": "code",
   "execution_count": 66,
   "id": "9a45506e",
   "metadata": {},
   "outputs": [
    {
     "name": "stdout",
     "output_type": "stream",
     "text": [
      "\n",
      "x =  [1 2 3 4]\n",
      "\n",
      "EXP(x) = [ 2.71828183  7.3890561  20.08553692 54.59815003]\n",
      "\n",
      "SQRT(x) = [1.         1.41421356 1.73205081 2.        ]\n",
      "\n",
      "POW(x,2) = [ 1  4  9 16]\n"
     ]
    }
   ],
   "source": [
    "# We create a rank 1 ndarray\n",
    "x = np.array([1,2,3,4])\n",
    "\n",
    "# We print x\n",
    "print()\n",
    "print('x = ', x)\n",
    "\n",
    "# We apply different mathematical functions to all elements of x\n",
    "print()\n",
    "print('EXP(x) =', np.exp(x))\n",
    "print()\n",
    "print('SQRT(x) =',np.sqrt(x))\n",
    "print()\n",
    "print('POW(x,2) =',np.power(x,2)) # We raise all elements to the power of 2"
   ]
  },
  {
   "cell_type": "markdown",
   "id": "2adc0a9c",
   "metadata": {},
   "source": [
    "Another great feature of NumPy is that it has a wide variety of statistical functions. Statistical functions provide us with statistical information about the elements in an ndarray. Let's see some examples:"
   ]
  },
  {
   "cell_type": "code",
   "execution_count": 67,
   "id": "af2d45cc",
   "metadata": {},
   "outputs": [
    {
     "name": "stdout",
     "output_type": "stream",
     "text": [
      "\n",
      "X = \n",
      " [[1 2]\n",
      " [3 4]]\n",
      "\n",
      "Average of all elements in X: 2.5\n",
      "Average of all elements in the columns of X: [2. 3.]\n",
      "Average of all elements in the rows of X: [1.5 3.5]\n",
      "\n",
      "Sum of all elements in X: 10\n",
      "Sum of all elements in the columns of X: [4 6]\n",
      "Sum of all elements in the rows of X: [3 7]\n",
      "\n",
      "Standard Deviation of all elements in X: 1.118033988749895\n",
      "Standard Deviation of all elements in the columns of X: [1. 1.]\n",
      "Standard Deviation of all elements in the rows of X: [0.5 0.5]\n",
      "\n",
      "Median of all elements in X: 2.5\n",
      "Median of all elements in the columns of X: [2. 3.]\n",
      "Median of all elements in the rows of X: [1.5 3.5]\n",
      "\n",
      "Maximum value of all elements in X: 4\n",
      "Maximum value of all elements in the columns of X: [3 4]\n",
      "Maximum value of all elements in the rows of X: [2 4]\n",
      "\n",
      "Minimum value of all elements in X: 1\n",
      "Minimum value of all elements in the columns of X: [1 2]\n",
      "Minimum value of all elements in the rows of X: [1 3]\n"
     ]
    }
   ],
   "source": [
    "# We create a 2 x 2 ndarray\n",
    "X = np.array([[1,2], [3,4]])\n",
    "\n",
    "# We print x\n",
    "print()\n",
    "print('X = \\n', X)\n",
    "print()\n",
    "\n",
    "print('Average of all elements in X:', X.mean())\n",
    "print('Average of all elements in the columns of X:', X.mean(axis=0))\n",
    "print('Average of all elements in the rows of X:', X.mean(axis=1))\n",
    "print()\n",
    "print('Sum of all elements in X:', X.sum())\n",
    "print('Sum of all elements in the columns of X:', X.sum(axis=0))\n",
    "print('Sum of all elements in the rows of X:', X.sum(axis=1))\n",
    "print()\n",
    "print('Standard Deviation of all elements in X:', X.std())\n",
    "print('Standard Deviation of all elements in the columns of X:', X.std(axis=0))\n",
    "print('Standard Deviation of all elements in the rows of X:', X.std(axis=1))\n",
    "print()\n",
    "print('Median of all elements in X:', np.median(X))\n",
    "print('Median of all elements in the columns of X:', np.median(X,axis=0))\n",
    "print('Median of all elements in the rows of X:', np.median(X,axis=1))\n",
    "print()\n",
    "print('Maximum value of all elements in X:', X.max())\n",
    "print('Maximum value of all elements in the columns of X:', X.max(axis=0))\n",
    "print('Maximum value of all elements in the rows of X:', X.max(axis=1))\n",
    "print()\n",
    "print('Minimum value of all elements in X:', X.min())\n",
    "print('Minimum value of all elements in the columns of X:', X.min(axis=0))\n",
    "print('Minimum value of all elements in the rows of X:', X.min(axis=1))"
   ]
  },
  {
   "cell_type": "markdown",
   "id": "a3a62d37",
   "metadata": {},
   "source": [
    "Finally, let's see how NumPy can add single numbers to all the elements of an ndarray without the use of complicated loops."
   ]
  },
  {
   "cell_type": "code",
   "execution_count": 68,
   "id": "19ca4efd",
   "metadata": {},
   "outputs": [
    {
     "name": "stdout",
     "output_type": "stream",
     "text": [
      "\n",
      "X = \n",
      " [[1 2]\n",
      " [3 4]]\n",
      "\n",
      "3 * X = \n",
      " [[ 3  6]\n",
      " [ 9 12]]\n",
      "\n",
      "3 + X = \n",
      " [[4 5]\n",
      " [6 7]]\n",
      "\n",
      "X - 3 = \n",
      " [[-2 -1]\n",
      " [ 0  1]]\n",
      "\n",
      "X / 3 = \n",
      " [[0.33333333 0.66666667]\n",
      " [1.         1.33333333]]\n"
     ]
    }
   ],
   "source": [
    "# We create a 2 x 2 ndarray\n",
    "X = np.array([[1,2], [3,4]])\n",
    "\n",
    "# We print x\n",
    "print()\n",
    "print('X = \\n', X)\n",
    "print()\n",
    "\n",
    "print('3 * X = \\n', 3 * X)\n",
    "print()\n",
    "print('3 + X = \\n', 3 + X)\n",
    "print()\n",
    "print('X - 3 = \\n', X - 3)\n",
    "print()\n",
    "print('X / 3 = \\n', X / 3)"
   ]
  },
  {
   "cell_type": "markdown",
   "id": "e338dcda",
   "metadata": {},
   "source": [
    "In the examples above, NumPy is working behind the scenes to broadcast `3` along the ndarray so that they have the same shape. This allows us to add 3 to each element of `X` with just one line of code.\n",
    "\n",
    "Subject to certain constraints, Numpy can do the same for two ndarrays of different shapes, as we can see below."
   ]
  },
  {
   "cell_type": "code",
   "execution_count": 69,
   "id": "ae6c4be8",
   "metadata": {},
   "outputs": [
    {
     "name": "stdout",
     "output_type": "stream",
     "text": [
      "\n",
      "x =  [1 2 3]\n",
      "\n",
      "\n",
      "Y = \n",
      " [[1 2 3]\n",
      " [4 5 6]\n",
      " [7 8 9]]\n",
      "\n",
      "\n",
      "Z = \n",
      " [[1]\n",
      " [2]\n",
      " [3]]\n",
      "\n",
      "x + Y = \n",
      " [[ 2  4  6]\n",
      " [ 5  7  9]\n",
      " [ 8 10 12]]\n",
      "\n",
      "Z + Y = \n",
      " [[ 2  3  4]\n",
      " [ 6  7  8]\n",
      " [10 11 12]]\n"
     ]
    }
   ],
   "source": [
    "# We create a rank 1 ndarray\n",
    "x = np.array([1,2,3])\n",
    "\n",
    "# We create a 3 x 3 ndarray\n",
    "Y = np.array([[1,2,3],[4,5,6],[7,8,9]])\n",
    "\n",
    "# We create a 3 x 1 ndarray\n",
    "Z = np.array([1,2,3]).reshape(3,1)\n",
    "\n",
    "# We print x\n",
    "print()\n",
    "print('x = ', x)\n",
    "print()\n",
    "\n",
    "# We print Y\n",
    "print()\n",
    "print('Y = \\n', Y)\n",
    "print()\n",
    "\n",
    "# We print Z\n",
    "print()\n",
    "print('Z = \\n', Z)\n",
    "print()\n",
    "\n",
    "print('x + Y = \\n', x + Y)\n",
    "print()\n",
    "print('Z + Y = \\n',Z + Y)"
   ]
  },
  {
   "cell_type": "markdown",
   "id": "3514fbfb",
   "metadata": {},
   "source": [
    "As before, NumPy is able to add 1 x 3 and 3 x 1 ndarrays to 3 x 3 ndarrays by broadcasting the smaller ndarrays along the big ndarray so that they have compatible shapes. In general, NumPy can do this provided that the smaller ndarray, such as the 1 x 3 ndarray in our example, can be expanded to the shape of the larger ndarray in such a way that the resulting broadcast is unambiguous."
   ]
  },
  {
   "cell_type": "code",
   "execution_count": 78,
   "id": "e8637055",
   "metadata": {},
   "outputs": [
    {
     "name": "stdout",
     "output_type": "stream",
     "text": [
      "[[1. 2. 3. 4.]\n",
      " [1. 2. 3. 4.]\n",
      " [1. 2. 3. 4.]\n",
      " [1. 2. 3. 4.]]\n"
     ]
    }
   ],
   "source": [
    "import numpy as np\n",
    "z = np.hstack((np.ones((4,1)),np.full((4,1),2),np.full((4,1),3),np.full((4,1),4)))\n",
    "print(z)"
   ]
  },
  {
   "cell_type": "code",
   "execution_count": null,
   "id": "d9639d5d",
   "metadata": {},
   "outputs": [],
   "source": []
  }
 ],
 "metadata": {
  "kernelspec": {
   "display_name": "Python 3 (ipykernel)",
   "language": "python",
   "name": "python3"
  },
  "language_info": {
   "codemirror_mode": {
    "name": "ipython",
    "version": 3
   },
   "file_extension": ".py",
   "mimetype": "text/x-python",
   "name": "python",
   "nbconvert_exporter": "python",
   "pygments_lexer": "ipython3",
   "version": "3.10.9"
  }
 },
 "nbformat": 4,
 "nbformat_minor": 5
}
